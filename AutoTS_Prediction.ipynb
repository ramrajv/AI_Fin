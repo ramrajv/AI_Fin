{
  "cells": [
    {
      "cell_type": "markdown",
      "metadata": {
        "id": "view-in-github",
        "colab_type": "text"
      },
      "source": [
        "<a href=\"https://colab.research.google.com/github/ramrajv/AI_Fin/blob/main/AutoTS_Prediction.ipynb\" target=\"_parent\"><img src=\"https://colab.research.google.com/assets/colab-badge.svg\" alt=\"Open In Colab\"/></a>"
      ]
    },
    {
      "cell_type": "code",
      "source": [
        "pip install yfinance"
      ],
      "metadata": {
        "colab": {
          "base_uri": "https://localhost:8080/"
        },
        "id": "aoQjq8U2D8fI",
        "outputId": "16680d59-12b7-4dd7-b4ea-94663c23de64"
      },
      "id": "aoQjq8U2D8fI",
      "execution_count": null,
      "outputs": [
        {
          "output_type": "stream",
          "name": "stdout",
          "text": [
            "Looking in indexes: https://pypi.org/simple, https://us-python.pkg.dev/colab-wheels/public/simple/\n",
            "Collecting yfinance\n",
            "  Downloading yfinance-0.1.70-py2.py3-none-any.whl (26 kB)\n",
            "Collecting lxml>=4.5.1\n",
            "  Downloading lxml-4.9.0-cp37-cp37m-manylinux_2_17_x86_64.manylinux2014_x86_64.manylinux_2_24_x86_64.whl (6.4 MB)\n",
            "\u001b[K     |████████████████████████████████| 6.4 MB 3.3 MB/s \n",
            "\u001b[?25hRequirement already satisfied: pandas>=0.24.0 in /usr/local/lib/python3.7/dist-packages (from yfinance) (1.3.5)\n",
            "Collecting requests>=2.26\n",
            "  Downloading requests-2.27.1-py2.py3-none-any.whl (63 kB)\n",
            "\u001b[K     |████████████████████████████████| 63 kB 1.8 MB/s \n",
            "\u001b[?25hRequirement already satisfied: numpy>=1.15 in /usr/local/lib/python3.7/dist-packages (from yfinance) (1.21.6)\n",
            "Requirement already satisfied: multitasking>=0.0.7 in /usr/local/lib/python3.7/dist-packages (from yfinance) (0.0.10)\n",
            "Requirement already satisfied: pytz>=2017.3 in /usr/local/lib/python3.7/dist-packages (from pandas>=0.24.0->yfinance) (2022.1)\n",
            "Requirement already satisfied: python-dateutil>=2.7.3 in /usr/local/lib/python3.7/dist-packages (from pandas>=0.24.0->yfinance) (2.8.2)\n",
            "Requirement already satisfied: six>=1.5 in /usr/local/lib/python3.7/dist-packages (from python-dateutil>=2.7.3->pandas>=0.24.0->yfinance) (1.15.0)\n",
            "Requirement already satisfied: idna<4,>=2.5 in /usr/local/lib/python3.7/dist-packages (from requests>=2.26->yfinance) (2.10)\n",
            "Requirement already satisfied: charset-normalizer~=2.0.0 in /usr/local/lib/python3.7/dist-packages (from requests>=2.26->yfinance) (2.0.12)\n",
            "Requirement already satisfied: urllib3<1.27,>=1.21.1 in /usr/local/lib/python3.7/dist-packages (from requests>=2.26->yfinance) (1.24.3)\n",
            "Requirement already satisfied: certifi>=2017.4.17 in /usr/local/lib/python3.7/dist-packages (from requests>=2.26->yfinance) (2022.5.18.1)\n",
            "Installing collected packages: requests, lxml, yfinance\n",
            "  Attempting uninstall: requests\n",
            "    Found existing installation: requests 2.23.0\n",
            "    Uninstalling requests-2.23.0:\n",
            "      Successfully uninstalled requests-2.23.0\n",
            "  Attempting uninstall: lxml\n",
            "    Found existing installation: lxml 4.2.6\n",
            "    Uninstalling lxml-4.2.6:\n",
            "      Successfully uninstalled lxml-4.2.6\n",
            "\u001b[31mERROR: pip's dependency resolver does not currently take into account all the packages that are installed. This behaviour is the source of the following dependency conflicts.\n",
            "google-colab 1.0.0 requires requests~=2.23.0, but you have requests 2.27.1 which is incompatible.\n",
            "datascience 0.10.6 requires folium==0.2.1, but you have folium 0.8.3 which is incompatible.\u001b[0m\n",
            "Successfully installed lxml-4.9.0 requests-2.27.1 yfinance-0.1.70\n"
          ]
        }
      ]
    },
    {
      "cell_type": "code",
      "execution_count": null,
      "id": "4d8d2c41",
      "metadata": {
        "id": "4d8d2c41"
      },
      "outputs": [],
      "source": [
        "import yfinance as yf\n",
        "import pandas as pd\n",
        "import numpy as np\n",
        "from fbprophet import Prophet"
      ]
    },
    {
      "cell_type": "code",
      "execution_count": null,
      "id": "0790b4ad",
      "metadata": {
        "id": "0790b4ad"
      },
      "outputs": [],
      "source": [
        "# finaldf = pd.read_csv('predictions.csv')"
      ]
    },
    {
      "cell_type": "code",
      "execution_count": null,
      "id": "4ba55bb8",
      "metadata": {
        "colab": {
          "base_uri": "https://localhost:8080/"
        },
        "id": "4ba55bb8",
        "outputId": "459b9ea6-9b57-4a58-aca2-6b635d81ecc2"
      },
      "outputs": [
        {
          "output_type": "stream",
          "name": "stdout",
          "text": [
            "\r[*********************100%***********************]  1 of 1 completed\n"
          ]
        }
      ],
      "source": [
        "ticker = '^BSESN'\n",
        "df = yf.download(ticker, start = '2022-01-01')\n",
        "# ,start='2020-01-01'"
      ]
    },
    {
      "cell_type": "code",
      "execution_count": null,
      "id": "97d11a52",
      "metadata": {
        "id": "97d11a52"
      },
      "outputs": [],
      "source": [
        "df.reset_index(inplace = True)"
      ]
    },
    {
      "cell_type": "code",
      "execution_count": null,
      "id": "1bcb566c",
      "metadata": {
        "colab": {
          "base_uri": "https://localhost:8080/",
          "height": 206
        },
        "id": "1bcb566c",
        "outputId": "5b0b6d0f-9792-4b79-f1f7-8f9f732e6c2c"
      },
      "outputs": [
        {
          "output_type": "execute_result",
          "data": {
            "text/plain": [
              "        Date          Open          High           Low         Close  \\\n",
              "0 2022-01-03  58310.089844  59266.390625  58306.449219  59183.218750   \n",
              "1 2022-01-04  59343.789062  59937.328125  59084.398438  59855.929688   \n",
              "2 2022-01-05  59921.980469  60332.718750  59661.378906  60223.148438   \n",
              "3 2022-01-06  59731.750000  59781.859375  59290.578125  59601.839844   \n",
              "4 2022-01-07  59776.101562  60130.179688  59401.441406  59744.648438   \n",
              "\n",
              "      Adj Close  Volume  \n",
              "0  59183.218750    8200  \n",
              "1  59855.929688    9100  \n",
              "2  60223.148438    8600  \n",
              "3  59601.839844    6000  \n",
              "4  59744.648438    8300  "
            ],
            "text/html": [
              "\n",
              "  <div id=\"df-3bae52aa-dbc7-4e0d-9b18-6c1045aa6529\">\n",
              "    <div class=\"colab-df-container\">\n",
              "      <div>\n",
              "<style scoped>\n",
              "    .dataframe tbody tr th:only-of-type {\n",
              "        vertical-align: middle;\n",
              "    }\n",
              "\n",
              "    .dataframe tbody tr th {\n",
              "        vertical-align: top;\n",
              "    }\n",
              "\n",
              "    .dataframe thead th {\n",
              "        text-align: right;\n",
              "    }\n",
              "</style>\n",
              "<table border=\"1\" class=\"dataframe\">\n",
              "  <thead>\n",
              "    <tr style=\"text-align: right;\">\n",
              "      <th></th>\n",
              "      <th>Date</th>\n",
              "      <th>Open</th>\n",
              "      <th>High</th>\n",
              "      <th>Low</th>\n",
              "      <th>Close</th>\n",
              "      <th>Adj Close</th>\n",
              "      <th>Volume</th>\n",
              "    </tr>\n",
              "  </thead>\n",
              "  <tbody>\n",
              "    <tr>\n",
              "      <th>0</th>\n",
              "      <td>2022-01-03</td>\n",
              "      <td>58310.089844</td>\n",
              "      <td>59266.390625</td>\n",
              "      <td>58306.449219</td>\n",
              "      <td>59183.218750</td>\n",
              "      <td>59183.218750</td>\n",
              "      <td>8200</td>\n",
              "    </tr>\n",
              "    <tr>\n",
              "      <th>1</th>\n",
              "      <td>2022-01-04</td>\n",
              "      <td>59343.789062</td>\n",
              "      <td>59937.328125</td>\n",
              "      <td>59084.398438</td>\n",
              "      <td>59855.929688</td>\n",
              "      <td>59855.929688</td>\n",
              "      <td>9100</td>\n",
              "    </tr>\n",
              "    <tr>\n",
              "      <th>2</th>\n",
              "      <td>2022-01-05</td>\n",
              "      <td>59921.980469</td>\n",
              "      <td>60332.718750</td>\n",
              "      <td>59661.378906</td>\n",
              "      <td>60223.148438</td>\n",
              "      <td>60223.148438</td>\n",
              "      <td>8600</td>\n",
              "    </tr>\n",
              "    <tr>\n",
              "      <th>3</th>\n",
              "      <td>2022-01-06</td>\n",
              "      <td>59731.750000</td>\n",
              "      <td>59781.859375</td>\n",
              "      <td>59290.578125</td>\n",
              "      <td>59601.839844</td>\n",
              "      <td>59601.839844</td>\n",
              "      <td>6000</td>\n",
              "    </tr>\n",
              "    <tr>\n",
              "      <th>4</th>\n",
              "      <td>2022-01-07</td>\n",
              "      <td>59776.101562</td>\n",
              "      <td>60130.179688</td>\n",
              "      <td>59401.441406</td>\n",
              "      <td>59744.648438</td>\n",
              "      <td>59744.648438</td>\n",
              "      <td>8300</td>\n",
              "    </tr>\n",
              "  </tbody>\n",
              "</table>\n",
              "</div>\n",
              "      <button class=\"colab-df-convert\" onclick=\"convertToInteractive('df-3bae52aa-dbc7-4e0d-9b18-6c1045aa6529')\"\n",
              "              title=\"Convert this dataframe to an interactive table.\"\n",
              "              style=\"display:none;\">\n",
              "        \n",
              "  <svg xmlns=\"http://www.w3.org/2000/svg\" height=\"24px\"viewBox=\"0 0 24 24\"\n",
              "       width=\"24px\">\n",
              "    <path d=\"M0 0h24v24H0V0z\" fill=\"none\"/>\n",
              "    <path d=\"M18.56 5.44l.94 2.06.94-2.06 2.06-.94-2.06-.94-.94-2.06-.94 2.06-2.06.94zm-11 1L8.5 8.5l.94-2.06 2.06-.94-2.06-.94L8.5 2.5l-.94 2.06-2.06.94zm10 10l.94 2.06.94-2.06 2.06-.94-2.06-.94-.94-2.06-.94 2.06-2.06.94z\"/><path d=\"M17.41 7.96l-1.37-1.37c-.4-.4-.92-.59-1.43-.59-.52 0-1.04.2-1.43.59L10.3 9.45l-7.72 7.72c-.78.78-.78 2.05 0 2.83L4 21.41c.39.39.9.59 1.41.59.51 0 1.02-.2 1.41-.59l7.78-7.78 2.81-2.81c.8-.78.8-2.07 0-2.86zM5.41 20L4 18.59l7.72-7.72 1.47 1.35L5.41 20z\"/>\n",
              "  </svg>\n",
              "      </button>\n",
              "      \n",
              "  <style>\n",
              "    .colab-df-container {\n",
              "      display:flex;\n",
              "      flex-wrap:wrap;\n",
              "      gap: 12px;\n",
              "    }\n",
              "\n",
              "    .colab-df-convert {\n",
              "      background-color: #E8F0FE;\n",
              "      border: none;\n",
              "      border-radius: 50%;\n",
              "      cursor: pointer;\n",
              "      display: none;\n",
              "      fill: #1967D2;\n",
              "      height: 32px;\n",
              "      padding: 0 0 0 0;\n",
              "      width: 32px;\n",
              "    }\n",
              "\n",
              "    .colab-df-convert:hover {\n",
              "      background-color: #E2EBFA;\n",
              "      box-shadow: 0px 1px 2px rgba(60, 64, 67, 0.3), 0px 1px 3px 1px rgba(60, 64, 67, 0.15);\n",
              "      fill: #174EA6;\n",
              "    }\n",
              "\n",
              "    [theme=dark] .colab-df-convert {\n",
              "      background-color: #3B4455;\n",
              "      fill: #D2E3FC;\n",
              "    }\n",
              "\n",
              "    [theme=dark] .colab-df-convert:hover {\n",
              "      background-color: #434B5C;\n",
              "      box-shadow: 0px 1px 3px 1px rgba(0, 0, 0, 0.15);\n",
              "      filter: drop-shadow(0px 1px 2px rgba(0, 0, 0, 0.3));\n",
              "      fill: #FFFFFF;\n",
              "    }\n",
              "  </style>\n",
              "\n",
              "      <script>\n",
              "        const buttonEl =\n",
              "          document.querySelector('#df-3bae52aa-dbc7-4e0d-9b18-6c1045aa6529 button.colab-df-convert');\n",
              "        buttonEl.style.display =\n",
              "          google.colab.kernel.accessAllowed ? 'block' : 'none';\n",
              "\n",
              "        async function convertToInteractive(key) {\n",
              "          const element = document.querySelector('#df-3bae52aa-dbc7-4e0d-9b18-6c1045aa6529');\n",
              "          const dataTable =\n",
              "            await google.colab.kernel.invokeFunction('convertToInteractive',\n",
              "                                                     [key], {});\n",
              "          if (!dataTable) return;\n",
              "\n",
              "          const docLinkHtml = 'Like what you see? Visit the ' +\n",
              "            '<a target=\"_blank\" href=https://colab.research.google.com/notebooks/data_table.ipynb>data table notebook</a>'\n",
              "            + ' to learn more about interactive tables.';\n",
              "          element.innerHTML = '';\n",
              "          dataTable['output_type'] = 'display_data';\n",
              "          await google.colab.output.renderOutput(dataTable, element);\n",
              "          const docLink = document.createElement('div');\n",
              "          docLink.innerHTML = docLinkHtml;\n",
              "          element.appendChild(docLink);\n",
              "        }\n",
              "      </script>\n",
              "    </div>\n",
              "  </div>\n",
              "  "
            ]
          },
          "metadata": {},
          "execution_count": 6
        }
      ],
      "source": [
        "df.head()"
      ]
    },
    {
      "cell_type": "code",
      "execution_count": null,
      "id": "7f1e59b9",
      "metadata": {
        "id": "7f1e59b9"
      },
      "outputs": [],
      "source": [
        "df.sort_values('Date', inplace = True)"
      ]
    },
    {
      "cell_type": "code",
      "execution_count": null,
      "id": "a115c171",
      "metadata": {
        "colab": {
          "base_uri": "https://localhost:8080/",
          "height": 206
        },
        "id": "a115c171",
        "outputId": "9a42456f-0411-4d03-f5fe-d74df0de5719"
      },
      "outputs": [
        {
          "output_type": "execute_result",
          "data": {
            "text/plain": [
              "          Date          Open          High           Low         Close  \\\n",
              "101 2022-06-01  55588.269531  55791.488281  55091.429688  55381.171875   \n",
              "102 2022-06-02  55382.441406  55891.921875  55135.109375  55818.109375   \n",
              "103 2022-06-03  56245.601562  56432.648438  55719.359375  55769.230469   \n",
              "104 2022-06-06  55610.640625  55832.281250  55295.738281  55675.320312   \n",
              "105 2022-06-07  55373.179688  55387.769531  54882.410156  55078.300781   \n",
              "\n",
              "        Adj Close  Volume  \n",
              "101  55381.171875    7300  \n",
              "102  55818.109375    5900  \n",
              "103  55769.230469    5900  \n",
              "104  55675.320312    4300  \n",
              "105  55078.300781       0  "
            ],
            "text/html": [
              "\n",
              "  <div id=\"df-2bc8356d-bc04-4fcf-9d6b-7c0436a79583\">\n",
              "    <div class=\"colab-df-container\">\n",
              "      <div>\n",
              "<style scoped>\n",
              "    .dataframe tbody tr th:only-of-type {\n",
              "        vertical-align: middle;\n",
              "    }\n",
              "\n",
              "    .dataframe tbody tr th {\n",
              "        vertical-align: top;\n",
              "    }\n",
              "\n",
              "    .dataframe thead th {\n",
              "        text-align: right;\n",
              "    }\n",
              "</style>\n",
              "<table border=\"1\" class=\"dataframe\">\n",
              "  <thead>\n",
              "    <tr style=\"text-align: right;\">\n",
              "      <th></th>\n",
              "      <th>Date</th>\n",
              "      <th>Open</th>\n",
              "      <th>High</th>\n",
              "      <th>Low</th>\n",
              "      <th>Close</th>\n",
              "      <th>Adj Close</th>\n",
              "      <th>Volume</th>\n",
              "    </tr>\n",
              "  </thead>\n",
              "  <tbody>\n",
              "    <tr>\n",
              "      <th>101</th>\n",
              "      <td>2022-06-01</td>\n",
              "      <td>55588.269531</td>\n",
              "      <td>55791.488281</td>\n",
              "      <td>55091.429688</td>\n",
              "      <td>55381.171875</td>\n",
              "      <td>55381.171875</td>\n",
              "      <td>7300</td>\n",
              "    </tr>\n",
              "    <tr>\n",
              "      <th>102</th>\n",
              "      <td>2022-06-02</td>\n",
              "      <td>55382.441406</td>\n",
              "      <td>55891.921875</td>\n",
              "      <td>55135.109375</td>\n",
              "      <td>55818.109375</td>\n",
              "      <td>55818.109375</td>\n",
              "      <td>5900</td>\n",
              "    </tr>\n",
              "    <tr>\n",
              "      <th>103</th>\n",
              "      <td>2022-06-03</td>\n",
              "      <td>56245.601562</td>\n",
              "      <td>56432.648438</td>\n",
              "      <td>55719.359375</td>\n",
              "      <td>55769.230469</td>\n",
              "      <td>55769.230469</td>\n",
              "      <td>5900</td>\n",
              "    </tr>\n",
              "    <tr>\n",
              "      <th>104</th>\n",
              "      <td>2022-06-06</td>\n",
              "      <td>55610.640625</td>\n",
              "      <td>55832.281250</td>\n",
              "      <td>55295.738281</td>\n",
              "      <td>55675.320312</td>\n",
              "      <td>55675.320312</td>\n",
              "      <td>4300</td>\n",
              "    </tr>\n",
              "    <tr>\n",
              "      <th>105</th>\n",
              "      <td>2022-06-07</td>\n",
              "      <td>55373.179688</td>\n",
              "      <td>55387.769531</td>\n",
              "      <td>54882.410156</td>\n",
              "      <td>55078.300781</td>\n",
              "      <td>55078.300781</td>\n",
              "      <td>0</td>\n",
              "    </tr>\n",
              "  </tbody>\n",
              "</table>\n",
              "</div>\n",
              "      <button class=\"colab-df-convert\" onclick=\"convertToInteractive('df-2bc8356d-bc04-4fcf-9d6b-7c0436a79583')\"\n",
              "              title=\"Convert this dataframe to an interactive table.\"\n",
              "              style=\"display:none;\">\n",
              "        \n",
              "  <svg xmlns=\"http://www.w3.org/2000/svg\" height=\"24px\"viewBox=\"0 0 24 24\"\n",
              "       width=\"24px\">\n",
              "    <path d=\"M0 0h24v24H0V0z\" fill=\"none\"/>\n",
              "    <path d=\"M18.56 5.44l.94 2.06.94-2.06 2.06-.94-2.06-.94-.94-2.06-.94 2.06-2.06.94zm-11 1L8.5 8.5l.94-2.06 2.06-.94-2.06-.94L8.5 2.5l-.94 2.06-2.06.94zm10 10l.94 2.06.94-2.06 2.06-.94-2.06-.94-.94-2.06-.94 2.06-2.06.94z\"/><path d=\"M17.41 7.96l-1.37-1.37c-.4-.4-.92-.59-1.43-.59-.52 0-1.04.2-1.43.59L10.3 9.45l-7.72 7.72c-.78.78-.78 2.05 0 2.83L4 21.41c.39.39.9.59 1.41.59.51 0 1.02-.2 1.41-.59l7.78-7.78 2.81-2.81c.8-.78.8-2.07 0-2.86zM5.41 20L4 18.59l7.72-7.72 1.47 1.35L5.41 20z\"/>\n",
              "  </svg>\n",
              "      </button>\n",
              "      \n",
              "  <style>\n",
              "    .colab-df-container {\n",
              "      display:flex;\n",
              "      flex-wrap:wrap;\n",
              "      gap: 12px;\n",
              "    }\n",
              "\n",
              "    .colab-df-convert {\n",
              "      background-color: #E8F0FE;\n",
              "      border: none;\n",
              "      border-radius: 50%;\n",
              "      cursor: pointer;\n",
              "      display: none;\n",
              "      fill: #1967D2;\n",
              "      height: 32px;\n",
              "      padding: 0 0 0 0;\n",
              "      width: 32px;\n",
              "    }\n",
              "\n",
              "    .colab-df-convert:hover {\n",
              "      background-color: #E2EBFA;\n",
              "      box-shadow: 0px 1px 2px rgba(60, 64, 67, 0.3), 0px 1px 3px 1px rgba(60, 64, 67, 0.15);\n",
              "      fill: #174EA6;\n",
              "    }\n",
              "\n",
              "    [theme=dark] .colab-df-convert {\n",
              "      background-color: #3B4455;\n",
              "      fill: #D2E3FC;\n",
              "    }\n",
              "\n",
              "    [theme=dark] .colab-df-convert:hover {\n",
              "      background-color: #434B5C;\n",
              "      box-shadow: 0px 1px 3px 1px rgba(0, 0, 0, 0.15);\n",
              "      filter: drop-shadow(0px 1px 2px rgba(0, 0, 0, 0.3));\n",
              "      fill: #FFFFFF;\n",
              "    }\n",
              "  </style>\n",
              "\n",
              "      <script>\n",
              "        const buttonEl =\n",
              "          document.querySelector('#df-2bc8356d-bc04-4fcf-9d6b-7c0436a79583 button.colab-df-convert');\n",
              "        buttonEl.style.display =\n",
              "          google.colab.kernel.accessAllowed ? 'block' : 'none';\n",
              "\n",
              "        async function convertToInteractive(key) {\n",
              "          const element = document.querySelector('#df-2bc8356d-bc04-4fcf-9d6b-7c0436a79583');\n",
              "          const dataTable =\n",
              "            await google.colab.kernel.invokeFunction('convertToInteractive',\n",
              "                                                     [key], {});\n",
              "          if (!dataTable) return;\n",
              "\n",
              "          const docLinkHtml = 'Like what you see? Visit the ' +\n",
              "            '<a target=\"_blank\" href=https://colab.research.google.com/notebooks/data_table.ipynb>data table notebook</a>'\n",
              "            + ' to learn more about interactive tables.';\n",
              "          element.innerHTML = '';\n",
              "          dataTable['output_type'] = 'display_data';\n",
              "          await google.colab.output.renderOutput(dataTable, element);\n",
              "          const docLink = document.createElement('div');\n",
              "          docLink.innerHTML = docLinkHtml;\n",
              "          element.appendChild(docLink);\n",
              "        }\n",
              "      </script>\n",
              "    </div>\n",
              "  </div>\n",
              "  "
            ]
          },
          "metadata": {},
          "execution_count": 8
        }
      ],
      "source": [
        "df.tail()"
      ]
    },
    {
      "cell_type": "code",
      "execution_count": null,
      "id": "8f99e334",
      "metadata": {
        "id": "8f99e334"
      },
      "outputs": [],
      "source": [
        "# Metric MAE\n",
        "from sklearn.metrics import mean_absolute_error\n",
        "\n",
        "# Imports for creating plots\n",
        "import matplotlib.pyplot as plt\n",
        "from pylab import rcParams\n",
        "rcParams['figure.figsize'] = 18, 7\n",
        "# %matplotlib notebook"
      ]
    },
    {
      "cell_type": "code",
      "execution_count": null,
      "id": "5763891e",
      "metadata": {
        "id": "5763891e"
      },
      "outputs": [],
      "source": [
        "split = int(round(len(df)*0.8,0))\n",
        "train_data = df.iloc[:split]\n",
        "test_data = df.iloc[split:]"
      ]
    },
    {
      "cell_type": "code",
      "execution_count": null,
      "id": "602bec32",
      "metadata": {
        "colab": {
          "base_uri": "https://localhost:8080/"
        },
        "id": "602bec32",
        "outputId": "a4cde6c7-7056-4222-ff77-3d0a5daa01a8"
      },
      "outputs": [
        {
          "output_type": "execute_result",
          "data": {
            "text/plain": [
              "85"
            ]
          },
          "metadata": {},
          "execution_count": 11
        }
      ],
      "source": [
        "split"
      ]
    },
    {
      "cell_type": "markdown",
      "id": "3c76f6c1",
      "metadata": {
        "id": "3c76f6c1"
      },
      "source": [
        "## Forecasting using Auto TS"
      ]
    },
    {
      "cell_type": "code",
      "execution_count": null,
      "id": "19595bc1",
      "metadata": {
        "colab": {
          "base_uri": "https://localhost:8080/",
          "height": 503
        },
        "id": "19595bc1",
        "outputId": "61f7639d-732b-4be5-8319-b5f0204f82e2"
      },
      "outputs": [
        {
          "output_type": "display_data",
          "data": {
            "text/plain": [
              "<Figure size 1080x576 with 1 Axes>"
            ],
            "image/png": "[encoded data removed]"
          },
          "metadata": {
            "needs_background": "light"
          }
        }
      ],
      "source": [
        "train_data.Close.plot(figsize=(15,8), title= ticker, fontsize=14, label='Train')\n",
        "test_data.Close.plot(figsize=(15,8), title= ticker, fontsize=14, label='Test')\n",
        "plt.legend()\n",
        "plt.grid()\n",
        "plt.show()"
      ]
    },
    {
      "cell_type": "code",
      "source": [
        "!pip install autots"
      ],
      "metadata": {
        "id": "jF5AeKwFoLd7",
        "colab": {
          "base_uri": "https://localhost:8080/"
        },
        "outputId": "98568b7d-8ff6-4b3d-f03f-4a11425e4a63"
      },
      "id": "jF5AeKwFoLd7",
      "execution_count": null,
      "outputs": [
        {
          "output_type": "stream",
          "name": "stdout",
          "text": [
            "Looking in indexes: https://pypi.org/simple, https://us-python.pkg.dev/colab-wheels/public/simple/\n",
            "Collecting autots\n",
            "  Downloading AutoTS-0.4.1-py3-none-any.whl (470 kB)\n",
            "\u001b[K     |████████████████████████████████| 470 kB 2.3 MB/s \n",
            "\u001b[?25hRequirement already satisfied: scikit-learn>=0.20.* in /usr/local/lib/python3.7/dist-packages (from autots) (1.0.2)\n",
            "Requirement already satisfied: pandas>=0.25.* in /usr/local/lib/python3.7/dist-packages (from autots) (1.3.5)\n",
            "Requirement already satisfied: statsmodels>=0.10.* in /usr/local/lib/python3.7/dist-packages (from autots) (0.10.2)\n",
            "Requirement already satisfied: numpy>=1.14.6 in /usr/local/lib/python3.7/dist-packages (from autots) (1.21.6)\n",
            "Requirement already satisfied: python-dateutil>=2.7.3 in /usr/local/lib/python3.7/dist-packages (from pandas>=0.25.*->autots) (2.8.2)\n",
            "Requirement already satisfied: pytz>=2017.3 in /usr/local/lib/python3.7/dist-packages (from pandas>=0.25.*->autots) (2022.1)\n",
            "Requirement already satisfied: six>=1.5 in /usr/local/lib/python3.7/dist-packages (from python-dateutil>=2.7.3->pandas>=0.25.*->autots) (1.15.0)\n",
            "Requirement already satisfied: scipy>=1.1.0 in /usr/local/lib/python3.7/dist-packages (from scikit-learn>=0.20.*->autots) (1.4.1)\n",
            "Requirement already satisfied: threadpoolctl>=2.0.0 in /usr/local/lib/python3.7/dist-packages (from scikit-learn>=0.20.*->autots) (3.1.0)\n",
            "Requirement already satisfied: joblib>=0.11 in /usr/local/lib/python3.7/dist-packages (from scikit-learn>=0.20.*->autots) (1.1.0)\n",
            "Requirement already satisfied: patsy>=0.4.0 in /usr/local/lib/python3.7/dist-packages (from statsmodels>=0.10.*->autots) (0.5.2)\n",
            "Installing collected packages: autots\n",
            "Successfully installed autots-0.4.1\n"
          ]
        }
      ]
    },
    {
      "cell_type": "code",
      "execution_count": null,
      "id": "36cd3a87",
      "metadata": {
        "id": "36cd3a87",
        "colab": {
          "base_uri": "https://localhost:8080/"
        },
        "outputId": "a3cc2245-03c5-4ac8-dba4-f8913f2aafbe"
      },
      "outputs": [
        {
          "output_type": "stream",
          "name": "stderr",
          "text": [
            "/usr/local/lib/python3.7/dist-packages/statsmodels/tools/_testing.py:19: FutureWarning: pandas.util.testing is deprecated. Use the functions in the public API at pandas.testing instead.\n",
            "  import pandas.util.testing as tm\n"
          ]
        }
      ],
      "source": [
        "from autots import AutoTS"
      ]
    },
    {
      "cell_type": "code",
      "execution_count": null,
      "id": "f120cec5",
      "metadata": {
        "id": "f120cec5"
      },
      "outputs": [],
      "source": [
        "model = AutoTS(forecast_length=3, frequency='infer',  ensemble='simple', drop_data_older_than_periods=200 )"
      ]
    },
    {
      "cell_type": "code",
      "execution_count": null,
      "id": "60a4acaf",
      "metadata": {
        "colab": {
          "base_uri": "https://localhost:8080/"
        },
        "id": "60a4acaf",
        "outputId": "46295248-ef14-4ff1-d0a6-586d76b92881"
      },
      "outputs": [
        {
          "output_type": "stream",
          "name": "stdout",
          "text": [
            "Inferred frequency is: B\n",
            "Model Number: 1 with model AverageValueNaive in generation 0 of 10\n",
            "Model Number: 2 with model AverageValueNaive in generation 0 of 10\n",
            "Model Number: 3 with model AverageValueNaive in generation 0 of 10\n",
            "Model Number: 4 with model DatepartRegression in generation 0 of 10\n",
            "Model Number: 5 with model DatepartRegression in generation 0 of 10\n",
            "Model Number: 6 with model DatepartRegression in generation 0 of 10\n"
          ]
        },
        {
          "output_type": "stream",
          "name": "stderr",
          "text": [
            "/usr/local/lib/python3.7/dist-packages/sklearn/svm/_base.py:1208: ConvergenceWarning: Liblinear failed to converge, increase the number of iterations.\n",
            "  ConvergenceWarning,\n",
            "/usr/local/lib/python3.7/dist-packages/sklearn/neural_network/_multilayer_perceptron.py:549: ConvergenceWarning: lbfgs failed to converge (status=1):\n",
            "STOP: TOTAL NO. of ITERATIONS REACHED LIMIT.\n",
            "\n",
            "Increase the number of iterations (max_iter) or scale the data as shown in:\n",
            "    https://scikit-learn.org/stable/modules/preprocessing.html\n",
            "  self.n_iter_ = _check_optimize_result(\"lbfgs\", opt_res, self.max_iter)\n"
          ]
        },
        {
          "output_type": "stream",
          "name": "stdout",
          "text": [
            "Model Number: 7 with model DatepartRegression in generation 0 of 10\n",
            "Epoch 1/50\n",
            "4/4 [==============================] - 14s 14ms/step - loss: 0.3678\n",
            "Epoch 2/50\n",
            "4/4 [==============================] - 0s 9ms/step - loss: 0.3622\n",
            "Epoch 3/50\n",
            "4/4 [==============================] - 0s 12ms/step - loss: 0.3610\n",
            "Epoch 4/50\n",
            "4/4 [==============================] - 0s 12ms/step - loss: 0.3629\n",
            "Epoch 5/50\n",
            "4/4 [==============================] - 0s 15ms/step - loss: 0.3607\n",
            "Epoch 6/50\n",
            "4/4 [==============================] - 0s 16ms/step - loss: 0.3521\n",
            "Epoch 7/50\n",
            "4/4 [==============================] - 0s 12ms/step - loss: 0.3515\n",
            "Epoch 8/50\n",
            "4/4 [==============================] - 0s 10ms/step - loss: 0.3462\n",
            "Epoch 9/50\n",
            "4/4 [==============================] - 0s 10ms/step - loss: 0.3388\n",
            "Epoch 10/50\n",
            "4/4 [==============================] - 0s 11ms/step - loss: 0.3353\n",
            "Epoch 11/50\n",
            "4/4 [==============================] - 0s 12ms/step - loss: 0.3295\n",
            "Epoch 12/50\n",
            "4/4 [==============================] - 0s 10ms/step - loss: 0.3203\n",
            "Epoch 13/50\n",
            "4/4 [==============================] - 0s 10ms/step - loss: 0.3095\n",
            "Epoch 14/50\n",
            "4/4 [==============================] - 0s 13ms/step - loss: 0.3033\n",
            "Epoch 15/50\n",
            "4/4 [==============================] - 0s 10ms/step - loss: 0.2939\n",
            "Epoch 16/50\n",
            "4/4 [==============================] - 0s 11ms/step - loss: 0.2853\n",
            "Epoch 17/50\n",
            "4/4 [==============================] - 0s 10ms/step - loss: 0.2691\n",
            "Epoch 18/50\n",
            "4/4 [==============================] - 0s 9ms/step - loss: 0.2679\n",
            "Epoch 19/50\n",
            "4/4 [==============================] - 0s 17ms/step - loss: 0.2626\n",
            "Epoch 20/50\n",
            "4/4 [==============================] - 0s 11ms/step - loss: 0.2574\n",
            "Epoch 21/50\n",
            "4/4 [==============================] - 0s 10ms/step - loss: 0.2418\n",
            "Epoch 22/50\n",
            "4/4 [==============================] - 0s 10ms/step - loss: 0.2213\n",
            "Epoch 23/50\n",
            "4/4 [==============================] - 0s 10ms/step - loss: 0.2295\n",
            "Epoch 24/50\n",
            "4/4 [==============================] - 0s 9ms/step - loss: 0.2374\n",
            "Epoch 25/50\n",
            "4/4 [==============================] - 0s 12ms/step - loss: 0.2165\n",
            "Epoch 26/50\n",
            "4/4 [==============================] - 0s 10ms/step - loss: 0.2112\n",
            "Epoch 27/50\n",
            "4/4 [==============================] - 0s 11ms/step - loss: 0.2187\n",
            "Epoch 28/50\n",
            "4/4 [==============================] - 0s 11ms/step - loss: 0.2149\n",
            "Epoch 29/50\n",
            "4/4 [==============================] - 0s 16ms/step - loss: 0.2148\n",
            "Epoch 30/50\n",
            "4/4 [==============================] - 0s 13ms/step - loss: 0.1983\n",
            "Epoch 31/50\n",
            "4/4 [==============================] - 0s 10ms/step - loss: 0.2027\n",
            "Epoch 32/50\n",
            "4/4 [==============================] - 0s 13ms/step - loss: 0.1896\n",
            "Epoch 33/50\n",
            "4/4 [==============================] - 0s 13ms/step - loss: 0.1891\n",
            "Epoch 34/50\n",
            "4/4 [==============================] - 0s 15ms/step - loss: 0.1900\n",
            "Epoch 35/50\n",
            "4/4 [==============================] - 0s 10ms/step - loss: 0.1747\n",
            "Epoch 36/50\n",
            "4/4 [==============================] - 0s 11ms/step - loss: 0.1958\n",
            "Epoch 37/50\n",
            "4/4 [==============================] - 0s 13ms/step - loss: 0.1683\n",
            "Epoch 38/50\n",
            "4/4 [==============================] - 0s 13ms/step - loss: 0.1669\n",
            "Epoch 39/50\n",
            "4/4 [==============================] - 0s 20ms/step - loss: 0.1738\n",
            "Epoch 40/50\n",
            "4/4 [==============================] - 0s 15ms/step - loss: 0.1605\n",
            "Epoch 41/50\n",
            "4/4 [==============================] - 0s 16ms/step - loss: 0.1526\n",
            "Epoch 42/50\n",
            "4/4 [==============================] - 0s 12ms/step - loss: 0.1533\n",
            "Epoch 43/50\n",
            "4/4 [==============================] - 0s 16ms/step - loss: 0.1479\n",
            "Epoch 44/50\n",
            "4/4 [==============================] - 0s 16ms/step - loss: 0.1540\n",
            "Epoch 45/50\n",
            "4/4 [==============================] - 0s 12ms/step - loss: 0.1473\n",
            "Epoch 46/50\n",
            "4/4 [==============================] - 0s 12ms/step - loss: 0.1354\n",
            "Epoch 47/50\n",
            "4/4 [==============================] - 0s 11ms/step - loss: 0.1433\n",
            "Epoch 48/50\n",
            "4/4 [==============================] - 0s 10ms/step - loss: 0.1372\n",
            "Epoch 49/50\n",
            "4/4 [==============================] - 0s 11ms/step - loss: 0.1322\n",
            "Epoch 50/50\n",
            "4/4 [==============================] - 0s 12ms/step - loss: 0.1262\n",
            "Template Eval Error: ValueError('Model DatepartRegression returned NaN for one or more series. fail_on_forecast_nan=True') in model 7: DatepartRegression\n",
            "Model Number: 8 with model ETS in generation 0 of 10\n",
            "ETS error TypeError(\"__init__() got an unexpected keyword argument 'damped_trend'\")\n",
            "Model Number: 9 with model ETS in generation 0 of 10\n",
            "ETS error TypeError(\"__init__() got an unexpected keyword argument 'damped_trend'\")\n",
            "Model Number: 10 with model GLM in generation 0 of 10\n",
            "Template Eval Error: TypeError(\"ufunc 'isfinite' not supported for the input types, and the inputs could not be safely coerced to any supported types according to the casting rule ''safe''\") in model 10: GLM\n",
            "Model Number: 11 with model GLM in generation 0 of 10\n",
            "Model Number: 12 with model GLS in generation 0 of 10\n",
            "Model Number: 13 with model GLS in generation 0 of 10\n",
            "Model Number: 14 with model LastValueNaive in generation 0 of 10\n",
            "Model Number: 15 with model LastValueNaive in generation 0 of 10\n",
            "Model Number: 16 with model LastValueNaive in generation 0 of 10\n",
            "Model Number: 17 with model LastValueNaive in generation 0 of 10\n",
            "Model Number: 18 with model SeasonalNaive in generation 0 of 10\n",
            "Model Number: 19 with model SeasonalNaive in generation 0 of 10\n",
            "Model Number: 20 with model SeasonalNaive in generation 0 of 10\n",
            "Model Number: 21 with model UnobservedComponents in generation 0 of 10\n",
            "Template Eval Error: ValueError('Provided exogenous values are not of the appropriate shape. Required (3, 1), got (3,).') in model 21: UnobservedComponents\n",
            "Model Number: 22 with model UnobservedComponents in generation 0 of 10\n",
            "Model Number: 23 with model UnobservedComponents in generation 0 of 10\n",
            "Model Number: 24 with model VAR in generation 0 of 10\n",
            "Template Eval Error: ValueError('Only gave one variable to VAR') in model 24: VAR\n",
            "Model Number: 25 with model VAR in generation 0 of 10\n",
            "Template Eval Error: ValueError('Only gave one variable to VAR') in model 25: VAR\n",
            "Model Number: 26 with model VECM in generation 0 of 10\n",
            "Template Eval Error: ValueError('Only gave one variable to VECM') in model 26: VECM\n",
            "Model Number: 27 with model VECM in generation 0 of 10\n",
            "Template Eval Error: ValueError('Only gave one variable to VECM') in model 27: VECM\n",
            "Model Number: 28 with model WindowRegression in generation 0 of 10\n",
            "Model Number: 29 with model ConstantNaive in generation 0 of 10\n"
          ]
        },
        {
          "output_type": "stream",
          "name": "stderr",
          "text": [
            "/usr/local/lib/python3.7/dist-packages/sklearn/neural_network/_multilayer_perceptron.py:549: ConvergenceWarning: lbfgs failed to converge (status=1):\n",
            "STOP: TOTAL NO. of ITERATIONS REACHED LIMIT.\n",
            "\n",
            "Increase the number of iterations (max_iter) or scale the data as shown in:\n",
            "    https://scikit-learn.org/stable/modules/preprocessing.html\n",
            "  self.n_iter_ = _check_optimize_result(\"lbfgs\", opt_res, self.max_iter)\n"
          ]
        },
        {
          "output_type": "stream",
          "name": "stdout",
          "text": [
            "Model Number: 30 with model FBProphet in generation 0 of 10\n"
          ]
        },
        {
          "output_type": "stream",
          "name": "stderr",
          "text": [
            "INFO:fbprophet:Disabling yearly seasonality. Run prophet with yearly_seasonality=True to override this.\n",
            "INFO:fbprophet:Disabling daily seasonality. Run prophet with daily_seasonality=True to override this.\n"
          ]
        },
        {
          "output_type": "stream",
          "name": "stdout",
          "text": [
            "Model Number: 31 with model MultivariateRegression in generation 0 of 10\n"
          ]
        },
        {
          "output_type": "stream",
          "name": "stderr",
          "text": [
            "[Parallel(n_jobs=-2)]: Using backend SequentialBackend with 1 concurrent workers.\n",
            "[Parallel(n_jobs=-2)]: Done 200 out of 200 | elapsed:    0.5s finished\n",
            "[Parallel(n_jobs=1)]: Using backend SequentialBackend with 1 concurrent workers.\n",
            "[Parallel(n_jobs=1)]: Done 200 out of 200 | elapsed:    0.0s finished\n",
            "[Parallel(n_jobs=1)]: Using backend SequentialBackend with 1 concurrent workers.\n",
            "[Parallel(n_jobs=1)]: Done 200 out of 200 | elapsed:    0.1s finished\n",
            "[Parallel(n_jobs=1)]: Using backend SequentialBackend with 1 concurrent workers.\n",
            "[Parallel(n_jobs=1)]: Done 200 out of 200 | elapsed:    0.1s finished\n"
          ]
        },
        {
          "output_type": "stream",
          "name": "stdout",
          "text": [
            "Model Number: 32 with model MultivariateRegression in generation 0 of 10\n",
            "Template Eval Error: ValueError(\"regression_type='User' but not future_regressor supplied.\") in model 32: MultivariateRegression\n",
            "Model Number: 33 with model DatepartRegression in generation 0 of 10\n",
            "Template Eval Error: ValueError(\"regression_type='User' but no future_regressor passed\") in model 33: DatepartRegression\n",
            "Model Number: 34 with model SeasonalNaive in generation 0 of 10\n",
            "Model Number: 35 with model DatepartRegression in generation 0 of 10\n",
            "Model Number: 36 with model UnobservedComponents in generation 0 of 10\n",
            "Template Eval Error: ValueError('Provided exogenous values are not of the appropriate shape. Required (3, 1), got (3,).') in model 36: UnobservedComponents\n",
            "Model Number: 37 with model UnobservedComponents in generation 0 of 10\n",
            "Template Eval Error: ValueError('Provided exogenous values are not of the appropriate shape. Required (3, 1), got (3,).') in model 37: UnobservedComponents\n",
            "Model Number: 38 with model ETS in generation 0 of 10\n",
            "ETS error TypeError(\"__init__() got an unexpected keyword argument 'damped_trend'\")\n",
            "Model Number: 39 with model VECM in generation 0 of 10\n",
            "Template Eval Error: ValueError('Only gave one variable to VECM') in model 39: VECM\n",
            "Model Number: 40 with model ARDL in generation 0 of 10\n",
            "Template Eval Error: ImportError(\"cannot import name 'ARDL' from 'statsmodels.tsa.api' (/usr/local/lib/python3.7/dist-packages/statsmodels/tsa/api.py)\") in model 40: ARDL\n",
            "Model Number: 41 with model MultivariateMotif in generation 0 of 10\n",
            "Model Number: 42 with model MultivariateMotif in generation 0 of 10\n",
            "Model Number: 43 with model UnivariateMotif in generation 0 of 10\n",
            "Model Number: 44 with model UnivariateMotif in generation 0 of 10\n",
            "Model Number: 45 with model SectionalMotif in generation 0 of 10\n",
            "Model Number: 46 with model SectionalMotif in generation 0 of 10\n",
            "Model Number: 47 with model MultivariateRegression in generation 0 of 10\n"
          ]
        },
        {
          "output_type": "stream",
          "name": "stderr",
          "text": [
            "INFO:fbprophet:Disabling yearly seasonality. Run prophet with yearly_seasonality=True to override this.\n",
            "INFO:fbprophet:Disabling daily seasonality. Run prophet with daily_seasonality=True to override this.\n"
          ]
        },
        {
          "output_type": "stream",
          "name": "stdout",
          "text": [
            "Model Number: 48 with model FBProphet in generation 0 of 10\n",
            "Model Number: 49 with model SeasonalNaive in generation 0 of 10\n",
            "Model Number: 50 with model DatepartRegression in generation 0 of 10\n"
          ]
        },
        {
          "output_type": "stream",
          "name": "stderr",
          "text": [
            "[Parallel(n_jobs=-2)]: Using backend SequentialBackend with 1 concurrent workers.\n",
            "[Parallel(n_jobs=-2)]: Done 100 out of 100 | elapsed:    0.2s finished\n",
            "[Parallel(n_jobs=1)]: Using backend SequentialBackend with 1 concurrent workers.\n",
            "[Parallel(n_jobs=1)]: Done 100 out of 100 | elapsed:    0.0s finished\n"
          ]
        },
        {
          "output_type": "stream",
          "name": "stdout",
          "text": [
            "Model Number: 51 with model NVAR in generation 0 of 10\n",
            "Model Number: 52 with model Theta in generation 0 of 10\n",
            "Template Eval Error: ModuleNotFoundError(\"No module named 'statsmodels.tsa.forecasting'\") in model 52: Theta\n",
            "Model Number: 53 with model ConstantNaive in generation 0 of 10\n",
            "Model Number: 54 with model LastValueNaive in generation 0 of 10\n",
            "Template Eval Error: Exception('Transformer STLFilter failed on fit') in model 54: LastValueNaive\n",
            "Model Number: 55 with model AverageValueNaive in generation 0 of 10\n",
            "Model Number: 56 with model GLS in generation 0 of 10\n",
            "Model Number: 57 with model SeasonalNaive in generation 0 of 10\n",
            "Model Number: 58 with model GLM in generation 0 of 10\n",
            "Template Eval Error: ValueError('regression_type=user and no future_regressor passed') in model 58: GLM\n",
            "Model Number: 59 with model ETS in generation 0 of 10\n",
            "ETS error TypeError(\"__init__() got an unexpected keyword argument 'damped_trend'\")\n",
            "Model Number: 60 with model FBProphet in generation 0 of 10\n"
          ]
        },
        {
          "output_type": "stream",
          "name": "stderr",
          "text": [
            "INFO:fbprophet:Disabling yearly seasonality. Run prophet with yearly_seasonality=True to override this.\n",
            "INFO:fbprophet:Disabling daily seasonality. Run prophet with daily_seasonality=True to override this.\n"
          ]
        },
        {
          "output_type": "stream",
          "name": "stdout",
          "text": [
            "Model Number: 61 with model UnobservedComponents in generation 0 of 10\n",
            "Model Number: 62 with model VAR in generation 0 of 10\n",
            "Template Eval Error: ValueError('Only gave one variable to VAR') in model 62: VAR\n",
            "Model Number: 63 with model VECM in generation 0 of 10\n",
            "Template Eval Error: ValueError('Only gave one variable to VECM') in model 63: VECM\n",
            "Model Number: 64 with model WindowRegression in generation 0 of 10\n",
            "Template Eval Error: Exception('Transformer STLFilter failed on fit') in model 64: WindowRegression\n",
            "Model Number: 65 with model DatepartRegression in generation 0 of 10\n",
            "Model Number: 66 with model MultivariateRegression in generation 0 of 10\n",
            "Model Number: 67 with model UnivariateMotif in generation 0 of 10\n",
            "Model Number: 68 with model MultivariateMotif in generation 0 of 10\n",
            "Model Number: 69 with model SectionalMotif in generation 0 of 10\n",
            "Model Number: 70 with model NVAR in generation 0 of 10\n",
            "Model Number: 71 with model Theta in generation 0 of 10\n",
            "Template Eval Error: ModuleNotFoundError(\"No module named 'statsmodels.tsa.forecasting'\") in model 71: Theta\n",
            "Model Number: 72 with model ARDL in generation 0 of 10\n",
            "Template Eval Error: ImportError(\"cannot import name 'ARDL' from 'statsmodels.tsa.api' (/usr/local/lib/python3.7/dist-packages/statsmodels/tsa/api.py)\") in model 72: ARDL\n",
            "Model Number: 73 with model VECM in generation 0 of 10\n",
            "Template Eval Error: ValueError('Only gave one variable to VECM') in model 73: VECM\n",
            "Model Number: 74 with model MultivariateRegression in generation 0 of 10\n",
            "Model Number: 75 with model WindowRegression in generation 0 of 10\n",
            "Model Number: 76 with model SectionalMotif in generation 0 of 10\n",
            "Model Number: 77 with model Theta in generation 0 of 10\n",
            "Template Eval Error: ModuleNotFoundError(\"No module named 'statsmodels.tsa.forecasting'\") in model 77: Theta\n",
            "Model Number: 78 with model GLS in generation 0 of 10\n",
            "Model Number: 79 with model VECM in generation 0 of 10\n",
            "Template Eval Error: ValueError('Only gave one variable to VECM') in model 79: VECM\n",
            "Model Number: 80 with model WindowRegression in generation 0 of 10\n",
            "Model Number: 81 with model SectionalMotif in generation 0 of 10\n",
            "Template Eval Error: ValueError(\"regression_type=='User' but no future_regressor supplied\") in model 81: SectionalMotif\n",
            "Model Number: 82 with model MultivariateMotif in generation 0 of 10\n",
            "Model Number: 83 with model ConstantNaive in generation 0 of 10\n",
            "Model Number: 84 with model VECM in generation 0 of 10\n",
            "Template Eval Error: ValueError('Only gave one variable to VECM') in model 84: VECM\n",
            "Model Number: 85 with model SectionalMotif in generation 0 of 10\n",
            "Model Number: 86 with model LastValueNaive in generation 0 of 10\n",
            "Model Number: 87 with model LastValueNaive in generation 0 of 10\n",
            "Model Number: 88 with model UnivariateMotif in generation 0 of 10\n",
            "Model Number: 89 with model ETS in generation 0 of 10\n",
            "ETS error TypeError(\"__init__() got an unexpected keyword argument 'damped_trend'\")\n",
            "Model Number: 90 with model ConstantNaive in generation 0 of 10\n",
            "Model Number: 91 with model MultivariateRegression in generation 0 of 10\n",
            "Template Eval Error: ValueError(\"regression_type='User' but not future_regressor supplied.\") in model 91: MultivariateRegression\n",
            "Model Number: 92 with model ARDL in generation 0 of 10\n",
            "Template Eval Error: ValueError(\"regression_type='User' but future_regressor not supplied\") in model 92: ARDL\n",
            "Model Number: 93 with model NVAR in generation 0 of 10\n",
            "Model Number: 94 with model SectionalMotif in generation 0 of 10\n",
            "Model Number: 95 with model UnivariateMotif in generation 0 of 10\n",
            "Template Eval Error: ValueError('Model UnivariateMotif returned NaN for one or more series. fail_on_forecast_nan=True') in model 95: UnivariateMotif\n",
            "Model Number: 96 with model UnobservedComponents in generation 0 of 10\n",
            "Model Number: 97 with model DatepartRegression in generation 0 of 10\n",
            "Template Eval Error: ValueError(\"regression_type='User' but no future_regressor passed\") in model 97: DatepartRegression\n",
            "Model Number: 98 with model Theta in generation 0 of 10\n",
            "Template Eval Error: ModuleNotFoundError(\"No module named 'statsmodels.tsa.forecasting'\") in model 98: Theta\n",
            "Model Number: 99 with model ConstantNaive in generation 0 of 10\n",
            "Model Number: 100 with model NVAR in generation 0 of 10\n"
          ]
        },
        {
          "output_type": "stream",
          "name": "stderr",
          "text": [
            "/usr/local/lib/python3.7/dist-packages/numpy/core/_methods.py:48: RuntimeWarning: invalid value encountered in reduce\n",
            "  return umr_sum(a, axis, dtype, out, keepdims, initial, where)\n"
          ]
        },
        {
          "output_type": "stream",
          "name": "stdout",
          "text": [
            "Model Number: 101 with model ConstantNaive in generation 0 of 10\n",
            "Model Number: 102 with model FBProphet in generation 0 of 10\n"
          ]
        },
        {
          "output_type": "stream",
          "name": "stderr",
          "text": [
            "INFO:fbprophet:Disabling yearly seasonality. Run prophet with yearly_seasonality=True to override this.\n",
            "INFO:fbprophet:Disabling daily seasonality. Run prophet with daily_seasonality=True to override this.\n"
          ]
        },
        {
          "output_type": "stream",
          "name": "stdout",
          "text": [
            "Model Number: 103 with model ConstantNaive in generation 0 of 10\n",
            "Model Number: 104 with model DatepartRegression in generation 0 of 10\n",
            "Epoch 1/50\n",
            "2/2 [==============================] - 6s 16ms/step - loss: 276.5635\n",
            "Epoch 2/50\n",
            "2/2 [==============================] - 0s 14ms/step - loss: 108.8427\n",
            "Epoch 3/50\n",
            "2/2 [==============================] - 0s 14ms/step - loss: 202.4949\n",
            "Epoch 4/50\n",
            "2/2 [==============================] - 0s 14ms/step - loss: 137.0704\n",
            "Epoch 5/50\n",
            "2/2 [==============================] - 0s 17ms/step - loss: 115.0793\n",
            "Epoch 6/50\n",
            "2/2 [==============================] - 0s 14ms/step - loss: 133.0414\n",
            "Epoch 7/50\n",
            "2/2 [==============================] - 0s 16ms/step - loss: 184.6912\n",
            "Epoch 8/50\n",
            "2/2 [==============================] - 0s 15ms/step - loss: 113.7403\n",
            "Epoch 9/50\n",
            "2/2 [==============================] - 0s 22ms/step - loss: 122.9453\n",
            "Epoch 10/50\n",
            "2/2 [==============================] - 0s 16ms/step - loss: 134.2621\n",
            "Epoch 11/50\n",
            "2/2 [==============================] - 0s 15ms/step - loss: 140.2635\n",
            "Epoch 12/50\n",
            "2/2 [==============================] - 0s 16ms/step - loss: 103.6360\n",
            "Epoch 13/50\n",
            "2/2 [==============================] - 0s 15ms/step - loss: 170.2840\n",
            "Epoch 14/50\n",
            "2/2 [==============================] - 0s 15ms/step - loss: 137.4006\n",
            "Epoch 15/50\n",
            "2/2 [==============================] - 0s 14ms/step - loss: 142.4247\n",
            "Epoch 16/50\n",
            "2/2 [==============================] - 0s 15ms/step - loss: 138.1933\n",
            "Epoch 17/50\n",
            "2/2 [==============================] - 0s 15ms/step - loss: 113.5300\n",
            "Epoch 18/50\n",
            "2/2 [==============================] - 0s 15ms/step - loss: 135.0587\n",
            "Epoch 19/50\n",
            "2/2 [==============================] - 0s 14ms/step - loss: 111.9639\n",
            "Epoch 20/50\n",
            "2/2 [==============================] - 0s 14ms/step - loss: 230.6202\n",
            "Epoch 21/50\n",
            "2/2 [==============================] - 0s 14ms/step - loss: 132.1412\n",
            "Epoch 22/50\n",
            "2/2 [==============================] - 0s 14ms/step - loss: 103.0126\n",
            "Epoch 23/50\n",
            "2/2 [==============================] - 0s 18ms/step - loss: 151.1275\n",
            "Epoch 24/50\n",
            "2/2 [==============================] - 0s 16ms/step - loss: 149.5007\n",
            "Epoch 25/50\n",
            "2/2 [==============================] - 0s 14ms/step - loss: 108.1403\n",
            "Epoch 26/50\n",
            "2/2 [==============================] - 0s 16ms/step - loss: 131.0638\n",
            "Epoch 27/50\n",
            "2/2 [==============================] - 0s 16ms/step - loss: 122.1908\n",
            "Epoch 28/50\n",
            "2/2 [==============================] - 0s 16ms/step - loss: 103.8360\n",
            "Epoch 29/50\n",
            "2/2 [==============================] - 0s 14ms/step - loss: 103.4482\n",
            "Epoch 30/50\n",
            "2/2 [==============================] - 0s 16ms/step - loss: 168.7103\n",
            "Epoch 31/50\n",
            "2/2 [==============================] - 0s 17ms/step - loss: 105.4297\n",
            "Epoch 32/50\n",
            "2/2 [==============================] - 0s 18ms/step - loss: 195.0628\n",
            "Epoch 33/50\n",
            "2/2 [==============================] - 0s 15ms/step - loss: 106.4574\n",
            "Epoch 34/50\n",
            "2/2 [==============================] - 0s 16ms/step - loss: 138.8388\n",
            "Epoch 35/50\n",
            "2/2 [==============================] - 0s 23ms/step - loss: 103.8227\n",
            "Epoch 36/50\n",
            "2/2 [==============================] - 0s 19ms/step - loss: 151.3193\n",
            "Epoch 37/50\n",
            "2/2 [==============================] - 0s 17ms/step - loss: 123.2876\n",
            "Epoch 38/50\n",
            "2/2 [==============================] - 0s 15ms/step - loss: 121.9907\n",
            "Epoch 39/50\n",
            "2/2 [==============================] - 0s 15ms/step - loss: 104.5912\n",
            "Epoch 40/50\n",
            "2/2 [==============================] - 0s 15ms/step - loss: 148.5998\n",
            "Epoch 41/50\n",
            "2/2 [==============================] - 0s 15ms/step - loss: 109.0775\n",
            "Epoch 42/50\n",
            "2/2 [==============================] - 0s 15ms/step - loss: 121.0693\n",
            "Epoch 43/50\n",
            "2/2 [==============================] - 0s 14ms/step - loss: 117.2368\n",
            "Epoch 44/50\n",
            "2/2 [==============================] - 0s 20ms/step - loss: 156.5114\n",
            "Epoch 45/50\n",
            "2/2 [==============================] - 0s 15ms/step - loss: 114.0919\n",
            "Epoch 46/50\n",
            "2/2 [==============================] - 0s 16ms/step - loss: 113.5035\n",
            "Epoch 47/50\n",
            "2/2 [==============================] - 0s 15ms/step - loss: 106.8184\n",
            "Epoch 48/50\n",
            "2/2 [==============================] - 0s 16ms/step - loss: 141.1291\n",
            "Epoch 49/50\n",
            "2/2 [==============================] - 0s 15ms/step - loss: 112.8447\n",
            "Epoch 50/50\n",
            "2/2 [==============================] - 0s 15ms/step - loss: 108.3469\n"
          ]
        },
        {
          "output_type": "stream",
          "name": "stderr",
          "text": [
            "INFO:fbprophet:Disabling yearly seasonality. Run prophet with yearly_seasonality=True to override this.\n",
            "INFO:fbprophet:Disabling daily seasonality. Run prophet with daily_seasonality=True to override this.\n"
          ]
        },
        {
          "output_type": "stream",
          "name": "stdout",
          "text": [
            "Template Eval Error: ValueError('Model DatepartRegression returned NaN for one or more series. fail_on_forecast_nan=True') in model 104: DatepartRegression\n",
            "Model Number: 105 with model FBProphet in generation 0 of 10\n"
          ]
        },
        {
          "output_type": "stream",
          "name": "stderr",
          "text": [
            "INFO:fbprophet:Disabling yearly seasonality. Run prophet with yearly_seasonality=True to override this.\n",
            "INFO:fbprophet:Disabling daily seasonality. Run prophet with daily_seasonality=True to override this.\n"
          ]
        },
        {
          "output_type": "stream",
          "name": "stdout",
          "text": [
            "Model Number: 106 with model FBProphet in generation 0 of 10\n",
            "Model Number: 107 with model MultivariateRegression in generation 0 of 10\n",
            "Model Number: 108 with model Theta in generation 0 of 10\n",
            "Template Eval Error: ModuleNotFoundError(\"No module named 'statsmodels.tsa.forecasting'\") in model 108: Theta\n",
            "Model Number: 109 with model MultivariateRegression in generation 0 of 10\n",
            "Model Number: 110 with model LastValueNaive in generation 0 of 10\n",
            "Model Number: 111 with model GLS in generation 0 of 10\n",
            "Model Number: 112 with model ConstantNaive in generation 0 of 10\n",
            "Model Number: 113 with model DatepartRegression in generation 0 of 10\n",
            "Template Eval Error: ValueError(\"regression_type='User' but no future_regressor passed\") in model 113: DatepartRegression\n",
            "Model Number: 114 with model GLS in generation 0 of 10\n",
            "Model Number: 115 with model UnobservedComponents in generation 0 of 10\n",
            "Template Eval Error: ValueError('Provided exogenous values are not of the appropriate shape. Required (3, 1), got (3,).') in model 115: UnobservedComponents\n",
            "Model Number: 116 with model DatepartRegression in generation 0 of 10\n",
            "Model Number: 117 with model DatepartRegression in generation 0 of 10\n",
            "Template Eval Error: ValueError(\"regression_type='User' but no future_regressor passed\") in model 117: DatepartRegression\n",
            "Model Number: 118 with model UnobservedComponents in generation 0 of 10\n",
            "Model Number: 119 with model MultivariateRegression in generation 0 of 10\n",
            "Template Eval Error: Exception('Transformer STLFilter failed on fit') in model 119: MultivariateRegression\n",
            "Model Number: 120 with model UnivariateMotif in generation 0 of 10\n"
          ]
        },
        {
          "output_type": "stream",
          "name": "stderr",
          "text": [
            "/usr/local/lib/python3.7/dist-packages/sklearn/svm/_base.py:1208: ConvergenceWarning: Liblinear failed to converge, increase the number of iterations.\n",
            "  ConvergenceWarning,\n"
          ]
        },
        {
          "output_type": "stream",
          "name": "stdout",
          "text": [
            "Model Number: 121 with model SeasonalNaive in generation 0 of 10\n",
            "Model Number: 122 with model GLS in generation 0 of 10\n",
            "Model Number: 123 with model SectionalMotif in generation 0 of 10\n",
            "Template Eval Error: ValueError('kth(=1) out of bounds (1)') in model 123: SectionalMotif\n",
            "Model Number: 124 with model MultivariateMotif in generation 0 of 10\n",
            "Model Number: 125 with model UnivariateMotif in generation 0 of 10\n",
            "Model Number: 126 with model VAR in generation 0 of 10\n",
            "Template Eval Error: ValueError('Only gave one variable to VAR') in model 126: VAR\n",
            "Model Number: 127 with model LastValueNaive in generation 0 of 10\n",
            "Model Number: 128 with model UnivariateMotif in generation 0 of 10\n",
            "Template Eval Error: ValueError('kth(=100) out of bounds (97)') in model 128: UnivariateMotif\n",
            "Model Number: 129 with model GLM in generation 0 of 10\n",
            "Template Eval Error: TypeError(\"ufunc 'isfinite' not supported for the input types, and the inputs could not be safely coerced to any supported types according to the casting rule ''safe''\") in model 129: GLM\n",
            "Model Number: 130 with model MultivariateMotif in generation 0 of 10\n",
            "Template Eval Error: Exception('Transformer STLFilter failed on fit') in model 130: MultivariateMotif\n",
            "Model Number: 131 with model GLM in generation 0 of 10\n",
            "Template Eval Error: TypeError(\"ufunc 'isfinite' not supported for the input types, and the inputs could not be safely coerced to any supported types according to the casting rule ''safe''\") in model 131: GLM\n",
            "Model Number: 132 with model LastValueNaive in generation 0 of 10\n",
            "Model Number: 133 with model UnobservedComponents in generation 0 of 10\n",
            "Template Eval Error: ValueError(\"regression_type='User' but no future_regressor supplied\") in model 133: UnobservedComponents\n",
            "Model Number: 134 with model Theta in generation 0 of 10\n",
            "Template Eval Error: ModuleNotFoundError(\"No module named 'statsmodels.tsa.forecasting'\") in model 134: Theta\n",
            "Model Number: 135 with model VAR in generation 0 of 10\n",
            "Template Eval Error: ValueError('Only gave one variable to VAR') in model 135: VAR\n",
            "Model Number: 136 with model NVAR in generation 0 of 10\n",
            "Model Number: 137 with model UnivariateMotif in generation 0 of 10\n",
            "Model Number: 138 with model ConstantNaive in generation 0 of 10\n",
            "Model Number: 139 with model SectionalMotif in generation 0 of 10\n",
            "Model Number: 140 with model ConstantNaive in generation 0 of 10\n",
            "Model Number: 141 with model AverageValueNaive in generation 0 of 10\n",
            "Model Number: 142 with model AverageValueNaive in generation 0 of 10\n",
            "Template Eval Error: Exception('Transformer STLFilter failed on fit') in model 142: AverageValueNaive\n",
            "Model Number: 143 with model GLS in generation 0 of 10\n",
            "Model Number: 144 with model ARDL in generation 0 of 10\n",
            "Template Eval Error: ImportError(\"cannot import name 'ARDL' from 'statsmodels.tsa.api' (/usr/local/lib/python3.7/dist-packages/statsmodels/tsa/api.py)\") in model 144: ARDL\n",
            "Model Number: 145 with model UnivariateMotif in generation 0 of 10\n",
            "Model Number: 146 with model WindowRegression in generation 0 of 10\n"
          ]
        },
        {
          "output_type": "stream",
          "name": "stderr",
          "text": [
            "[Parallel(n_jobs=-2)]: Using backend SequentialBackend with 1 concurrent workers.\n",
            "[Parallel(n_jobs=-2)]: Done 1000 out of 1000 | elapsed:    0.7s finished\n",
            "[Parallel(n_jobs=1)]: Using backend SequentialBackend with 1 concurrent workers.\n",
            "[Parallel(n_jobs=1)]: Done 1000 out of 1000 | elapsed:    0.1s finished\n",
            "[Parallel(n_jobs=1)]: Using backend SequentialBackend with 1 concurrent workers.\n",
            "[Parallel(n_jobs=1)]: Done 1000 out of 1000 | elapsed:    0.1s finished\n",
            "[Parallel(n_jobs=1)]: Using backend SequentialBackend with 1 concurrent workers.\n"
          ]
        },
        {
          "output_type": "stream",
          "name": "stdout",
          "text": [
            "Model Number: 147 with model ARDL in generation 0 of 10\n",
            "Template Eval Error: ValueError(\"regression_type='User' but future_regressor not supplied\") in model 147: ARDL\n",
            "Model Number: 148 with model LastValueNaive in generation 0 of 10\n",
            "Model Number: 149 with model ConstantNaive in generation 0 of 10\n"
          ]
        },
        {
          "output_type": "stream",
          "name": "stderr",
          "text": [
            "[Parallel(n_jobs=1)]: Done 1000 out of 1000 | elapsed:    0.1s finished\n"
          ]
        },
        {
          "output_type": "stream",
          "name": "stdout",
          "text": [
            "Model Number: 150 with model VECM in generation 0 of 10\n",
            "Template Eval Error: ValueError('Only gave one variable to VECM') in model 150: VECM\n",
            "Model Number: 151 with model NVAR in generation 0 of 10\n",
            "Template Eval Error: Exception('Transformer STLFilter failed on fit') in model 151: NVAR\n",
            "Model Number: 152 with model NVAR in generation 0 of 10\n",
            "New Generation: 1 of 10\n",
            "Model Number: 153 with model UnivariateMotif in generation 1 of 10\n",
            "Model Number: 154 with model UnivariateMotif in generation 1 of 10\n",
            "Model Number: 155 with model UnivariateMotif in generation 1 of 10\n",
            "Model Number: 156 with model UnivariateMotif in generation 1 of 10\n",
            "Model Number: 157 with model NVAR in generation 1 of 10\n",
            "Model Number: 158 with model NVAR in generation 1 of 10\n",
            "Model Number: 159 with model NVAR in generation 1 of 10\n",
            "Model Number: 160 with model NVAR in generation 1 of 10\n",
            "Model Number: 161 with model MultivariateMotif in generation 1 of 10\n",
            "Model Number: 162 with model MultivariateMotif in generation 1 of 10\n",
            "Template Eval Error: ValueError('kth(=100) out of bounds (39)') in model 162: MultivariateMotif\n",
            "Model Number: 163 with model MultivariateMotif in generation 1 of 10\n",
            "Model Number: 164 with model MultivariateMotif in generation 1 of 10\n",
            "Model Number: 165 with model ConstantNaive in generation 1 of 10\n",
            "Model Number: 166 with model ConstantNaive in generation 1 of 10\n",
            "Model Number: 167 with model ConstantNaive in generation 1 of 10\n",
            "Model Number: 168 with model GLS in generation 1 of 10\n",
            "Model Number: 169 with model GLS in generation 1 of 10\n",
            "Model Number: 170 with model DatepartRegression in generation 1 of 10\n",
            "Template Eval Error: ValueError(\"regression_type='User' but no future_regressor passed\") in model 170: DatepartRegression\n",
            "Model Number: 171 with model DatepartRegression in generation 1 of 10\n",
            "Model Number: 172 with model DatepartRegression in generation 1 of 10\n"
          ]
        },
        {
          "output_type": "stream",
          "name": "stderr",
          "text": [
            "/usr/local/lib/python3.7/dist-packages/sklearn/svm/_base.py:1208: ConvergenceWarning: Liblinear failed to converge, increase the number of iterations.\n",
            "  ConvergenceWarning,\n"
          ]
        },
        {
          "output_type": "stream",
          "name": "stdout",
          "text": [
            "Model Number: 173 with model LastValueNaive in generation 1 of 10\n",
            "Model Number: 174 with model LastValueNaive in generation 1 of 10\n",
            "Model Number: 175 with model LastValueNaive in generation 1 of 10\n"
          ]
        },
        {
          "output_type": "stream",
          "name": "stderr",
          "text": [
            "/usr/local/lib/python3.7/dist-packages/sklearn/linear_model/_coordinate_descent.py:648: ConvergenceWarning: Objective did not converge. You might want to increase the number of iterations, check the scale of the features or consider increasing regularisation. Duality gap: 1.616e+01, tolerance: 5.571e-03\n",
            "  coef_, l1_reg, l2_reg, X, y, max_iter, tol, rng, random, positive\n",
            "/usr/local/lib/python3.7/dist-packages/sklearn/linear_model/_coordinate_descent.py:648: ConvergenceWarning: Objective did not converge. You might want to increase the number of iterations, check the scale of the features or consider increasing regularisation. Duality gap: 8.194e+06, tolerance: 1.938e+03\n",
            "  coef_, l1_reg, l2_reg, X, y, max_iter, tol, rng, random, positive\n"
          ]
        },
        {
          "output_type": "stream",
          "name": "stdout",
          "text": [
            "Model Number: 176 with model UnobservedComponents in generation 1 of 10\n",
            "Model Number: 177 with model UnobservedComponents in generation 1 of 10\n",
            "Model Number: 178 with model UnobservedComponents in generation 1 of 10\n",
            "Model Number: 179 with model AverageValueNaive in generation 1 of 10\n",
            "Model Number: 180 with model AverageValueNaive in generation 1 of 10\n",
            "Model Number: 181 with model AverageValueNaive in generation 1 of 10\n",
            "Model Number: 182 with model ETS in generation 1 of 10\n",
            "ETS error TypeError(\"__init__() got an unexpected keyword argument 'damped_trend'\")\n",
            "Model Number: 183 with model ETS in generation 1 of 10\n",
            "ETS error TypeError(\"__init__() got an unexpected keyword argument 'damped_trend'\")\n",
            "ETS failed on Close with ValueError('endog must be strictly positive when using multiplicative trend or seasonal components.')\n",
            "Model Number: 184 with model ETS in generation 1 of 10\n",
            "ETS error TypeError(\"__init__() got an unexpected keyword argument 'damped_trend'\")\n",
            "Model Number: 185 with model ETS in generation 1 of 10\n",
            "ETS error TypeError(\"__init__() got an unexpected keyword argument 'damped_trend'\")\n",
            "Model Number: 186 with model WindowRegression in generation 1 of 10\n",
            "Template Eval Error: LightGBMError('[tweedie]: at least one target label is negative') in model 186: WindowRegression\n",
            "Model Number: 187 with model WindowRegression in generation 1 of 10\n",
            "Template Eval Error: LinAlgError(\"The kernel, ExpSineSquared(length_scale=1, periodicity=1), is not returning a positive definite matrix. Try gradually increasing the 'alpha' parameter of your GaussianProcessRegressor estimator.\", '5-th leading minor of the array is not positive definite') in model 187: WindowRegression\n",
            "Model Number: 188 with model WindowRegression in generation 1 of 10\n",
            "Model Number: 189 with model MultivariateRegression in generation 1 of 10\n"
          ]
        },
        {
          "output_type": "stream",
          "name": "stderr",
          "text": [
            "[Parallel(n_jobs=-2)]: Using backend SequentialBackend with 1 concurrent workers.\n",
            "[Parallel(n_jobs=-2)]: Done 200 out of 200 | elapsed:    0.2s finished\n",
            "[Parallel(n_jobs=1)]: Using backend SequentialBackend with 1 concurrent workers.\n",
            "[Parallel(n_jobs=1)]: Done 200 out of 200 | elapsed:    0.0s finished\n",
            "[Parallel(n_jobs=1)]: Using backend SequentialBackend with 1 concurrent workers.\n",
            "[Parallel(n_jobs=1)]: Done 200 out of 200 | elapsed:    0.0s finished\n",
            "[Parallel(n_jobs=1)]: Using backend SequentialBackend with 1 concurrent workers.\n",
            "[Parallel(n_jobs=1)]: Done 200 out of 200 | elapsed:    0.0s finished\n"
          ]
        },
        {
          "output_type": "stream",
          "name": "stdout",
          "text": [
            "Model Number: 190 with model MultivariateRegression in generation 1 of 10\n",
            "Model Number: 191 with model MultivariateRegression in generation 1 of 10\n"
          ]
        },
        {
          "output_type": "stream",
          "name": "stderr",
          "text": [
            "/usr/local/lib/python3.7/dist-packages/sklearn/neural_network/_multilayer_perceptron.py:549: ConvergenceWarning: lbfgs failed to converge (status=1):\n",
            "STOP: TOTAL NO. of ITERATIONS REACHED LIMIT.\n",
            "\n",
            "Increase the number of iterations (max_iter) or scale the data as shown in:\n",
            "    https://scikit-learn.org/stable/modules/preprocessing.html\n",
            "  self.n_iter_ = _check_optimize_result(\"lbfgs\", opt_res, self.max_iter)\n"
          ]
        },
        {
          "output_type": "stream",
          "name": "stdout",
          "text": [
            "Model Number: 192 with model MultivariateRegression in generation 1 of 10\n",
            "Model Number: 193 with model SeasonalNaive in generation 1 of 10\n",
            "Model Number: 194 with model SeasonalNaive in generation 1 of 10\n",
            "Model Number: 195 with model SeasonalNaive in generation 1 of 10\n",
            "Model Number: 196 with model SeasonalNaive in generation 1 of 10\n",
            "Model Number: 197 with model SectionalMotif in generation 1 of 10\n",
            "Model Number: 198 with model SectionalMotif in generation 1 of 10\n",
            "Model Number: 199 with model SectionalMotif in generation 1 of 10\n",
            "Model Number: 200 with model SectionalMotif in generation 1 of 10\n",
            "Template Eval Error: ValueError('XA and XB must have the same number of columns (i.e. feature dimension.)') in model 200: SectionalMotif\n",
            "Model Number: 201 with model FBProphet in generation 1 of 10\n",
            "Template Eval Error: ValueError(\"regression_type='User' but no future_regressor passed\") in model 201: FBProphet\n",
            "Model Number: 202 with model FBProphet in generation 1 of 10\n",
            "Template Eval Error: ValueError(\"regression_type='User' but no future_regressor passed\") in model 202: FBProphet\n",
            "Model Number: 203 with model FBProphet in generation 1 of 10\n",
            "Template Eval Error: ValueError(\"regression_type='User' but no future_regressor passed\") in model 203: FBProphet\n",
            "Model Number: 204 with model FBProphet in generation 1 of 10\n"
          ]
        },
        {
          "output_type": "stream",
          "name": "stderr",
          "text": [
            "INFO:fbprophet:Disabling yearly seasonality. Run prophet with yearly_seasonality=True to override this.\n",
            "INFO:fbprophet:Disabling daily seasonality. Run prophet with daily_seasonality=True to override this.\n"
          ]
        },
        {
          "output_type": "stream",
          "name": "stdout",
          "text": [
            "Model Number: 205 with model GLM in generation 1 of 10\n",
            "Template Eval Error: TypeError(\"ufunc 'isfinite' not supported for the input types, and the inputs could not be safely coerced to any supported types according to the casting rule ''safe''\") in model 205: GLM\n",
            "Model Number: 206 with model GLM in generation 1 of 10\n",
            "Template Eval Error: TypeError(\"ufunc 'isfinite' not supported for the input types, and the inputs could not be safely coerced to any supported types according to the casting rule ''safe''\") in model 206: GLM\n",
            "Model Number: 207 with model GLM in generation 1 of 10\n",
            "Model Number: 208 with model GLM in generation 1 of 10\n",
            "Template Eval Error: TypeError(\"ufunc 'isfinite' not supported for the input types, and the inputs could not be safely coerced to any supported types according to the casting rule ''safe''\") in model 208: GLM\n",
            "Model Number: 209 with model VAR in generation 1 of 10\n",
            "Template Eval Error: ValueError('Only gave one variable to VAR') in model 209: VAR\n",
            "Model Number: 210 with model VAR in generation 1 of 10\n",
            "Template Eval Error: ValueError('Only gave one variable to VAR') in model 210: VAR\n",
            "Model Number: 211 with model VAR in generation 1 of 10\n",
            "Template Eval Error: ValueError('Only gave one variable to VAR') in model 211: VAR\n",
            "Model Number: 212 with model VAR in generation 1 of 10\n",
            "Template Eval Error: ValueError('Only gave one variable to VAR') in model 212: VAR\n",
            "Model Number: 213 with model VECM in generation 1 of 10\n",
            "Template Eval Error: ValueError('Only gave one variable to VECM') in model 213: VECM\n",
            "Model Number: 214 with model VECM in generation 1 of 10\n",
            "Template Eval Error: ValueError('Only gave one variable to VECM') in model 214: VECM\n",
            "Model Number: 215 with model VECM in generation 1 of 10\n",
            "Template Eval Error: ValueError('Only gave one variable to VECM') in model 215: VECM\n",
            "Model Number: 216 with model VECM in generation 1 of 10\n",
            "Template Eval Error: ValueError('Only gave one variable to VECM') in model 216: VECM\n",
            "Model Number: 217 with model ARDL in generation 1 of 10\n",
            "Template Eval Error: ImportError(\"cannot import name 'ARDL' from 'statsmodels.tsa.api' (/usr/local/lib/python3.7/dist-packages/statsmodels/tsa/api.py)\") in model 217: ARDL\n",
            "Model Number: 218 with model ARDL in generation 1 of 10\n",
            "Template Eval Error: ValueError(\"regression_type='User' but future_regressor not supplied\") in model 218: ARDL\n",
            "Model Number: 219 with model ARDL in generation 1 of 10\n",
            "Template Eval Error: ValueError(\"regression_type='User' but future_regressor not supplied\") in model 219: ARDL\n",
            "Model Number: 220 with model ARDL in generation 1 of 10\n",
            "Template Eval Error: ImportError(\"cannot import name 'ARDL' from 'statsmodels.tsa.api' (/usr/local/lib/python3.7/dist-packages/statsmodels/tsa/api.py)\") in model 220: ARDL\n",
            "Model Number: 221 with model Theta in generation 1 of 10\n",
            "Template Eval Error: ModuleNotFoundError(\"No module named 'statsmodels.tsa.forecasting'\") in model 221: Theta\n",
            "Model Number: 222 with model Theta in generation 1 of 10\n",
            "Template Eval Error: ModuleNotFoundError(\"No module named 'statsmodels.tsa.forecasting'\") in model 222: Theta\n",
            "Model Number: 223 with model Theta in generation 1 of 10\n",
            "Template Eval Error: ModuleNotFoundError(\"No module named 'statsmodels.tsa.forecasting'\") in model 223: Theta\n",
            "Model Number: 224 with model Theta in generation 1 of 10\n",
            "Template Eval Error: ModuleNotFoundError(\"No module named 'statsmodels.tsa.forecasting'\") in model 224: Theta\n",
            "New Generation: 2 of 10\n",
            "Model Number: 225 with model UnivariateMotif in generation 2 of 10\n",
            "Model Number: 226 with model UnivariateMotif in generation 2 of 10\n",
            "Model Number: 227 with model UnivariateMotif in generation 2 of 10\n",
            "Model Number: 228 with model UnivariateMotif in generation 2 of 10\n",
            "Model Number: 229 with model NVAR in generation 2 of 10\n",
            "Model Number: 230 with model NVAR in generation 2 of 10\n",
            "Model Number: 231 with model NVAR in generation 2 of 10\n",
            "Model Number: 232 with model NVAR in generation 2 of 10\n",
            "Model Number: 233 with model MultivariateMotif in generation 2 of 10\n",
            "Template Eval Error: Exception('Transformer STLFilter failed on fit') in model 233: MultivariateMotif\n",
            "Model Number: 234 with model MultivariateMotif in generation 2 of 10\n",
            "Template Eval Error: Exception('Transformer STLFilter failed on fit') in model 234: MultivariateMotif\n",
            "Model Number: 235 with model MultivariateMotif in generation 2 of 10\n",
            "Model Number: 236 with model MultivariateMotif in generation 2 of 10\n",
            "Model Number: 237 with model AverageValueNaive in generation 2 of 10\n",
            "Model Number: 238 with model AverageValueNaive in generation 2 of 10\n",
            "Model Number: 239 with model AverageValueNaive in generation 2 of 10\n",
            "Model Number: 240 with model ConstantNaive in generation 2 of 10\n",
            "Model Number: 241 with model ConstantNaive in generation 2 of 10\n",
            "Model Number: 242 with model ConstantNaive in generation 2 of 10\n",
            "Model Number: 243 with model GLS in generation 2 of 10\n",
            "Model Number: 244 with model GLS in generation 2 of 10\n",
            "Model Number: 245 with model GLS in generation 2 of 10\n",
            "Model Number: 246 with model LastValueNaive in generation 2 of 10\n",
            "Model Number: 247 with model LastValueNaive in generation 2 of 10\n",
            "Model Number: 248 with model LastValueNaive in generation 2 of 10\n",
            "Model Number: 249 with model DatepartRegression in generation 2 of 10\n",
            "Model Number: 250 with model DatepartRegression in generation 2 of 10\n",
            "Model Number: 251 with model DatepartRegression in generation 2 of 10\n",
            "Template Eval Error: ValueError('Model DatepartRegression returned NaN for one or more series. fail_on_forecast_nan=True') in model 251: DatepartRegression\n",
            "Model Number: 252 with model UnobservedComponents in generation 2 of 10\n"
          ]
        },
        {
          "output_type": "stream",
          "name": "stderr",
          "text": [
            "/usr/local/lib/python3.7/dist-packages/sklearn/svm/_base.py:1208: ConvergenceWarning: Liblinear failed to converge, increase the number of iterations.\n",
            "  ConvergenceWarning,\n",
            "/usr/local/lib/python3.7/dist-packages/sklearn/neighbors/_regression.py:470: UserWarning: One or more samples have no neighbors within specified radius; predicting NaN.\n",
            "  warnings.warn(empty_warning_msg)\n"
          ]
        },
        {
          "output_type": "stream",
          "name": "stdout",
          "text": [
            "Template Eval Error: ValueError('Provided exogenous values are not of the appropriate shape. Required (3, 1), got (3,).') in model 252: UnobservedComponents\n",
            "Model Number: 253 with model UnobservedComponents in generation 2 of 10\n",
            "Template Eval Error: ValueError(\"regression_type='User' but no future_regressor supplied\") in model 253: UnobservedComponents\n",
            "Model Number: 254 with model UnobservedComponents in generation 2 of 10\n",
            "Model Number: 255 with model ETS in generation 2 of 10\n",
            "ETS error TypeError(\"__init__() got an unexpected keyword argument 'damped_trend'\")\n",
            "Model Number: 256 with model ETS in generation 2 of 10\n",
            "ETS error TypeError(\"__init__() got an unexpected keyword argument 'damped_trend'\")\n",
            "Model Number: 257 with model ETS in generation 2 of 10\n",
            "ETS error TypeError(\"__init__() got an unexpected keyword argument 'damped_trend'\")\n",
            "Model Number: 258 with model SectionalMotif in generation 2 of 10\n",
            "Model Number: 259 with model SectionalMotif in generation 2 of 10\n",
            "Template Eval Error: ValueError('kth(=5) out of bounds (1)') in model 259: SectionalMotif\n",
            "Model Number: 260 with model SectionalMotif in generation 2 of 10\n",
            "Model Number: 261 with model SectionalMotif in generation 2 of 10\n",
            "Model Number: 262 with model SeasonalNaive in generation 2 of 10\n",
            "Model Number: 263 with model SeasonalNaive in generation 2 of 10\n",
            "Model Number: 264 with model SeasonalNaive in generation 2 of 10\n",
            "Model Number: 265 with model SeasonalNaive in generation 2 of 10\n",
            "Model Number: 266 with model WindowRegression in generation 2 of 10\n",
            "Model Number: 267 with model WindowRegression in generation 2 of 10\n",
            "Template Eval Error: ValueError('Model WindowRegression returned NaN for one or more series. fail_on_forecast_nan=True') in model 267: WindowRegression\n",
            "Model Number: 268 with model WindowRegression in generation 2 of 10\n",
            "Model Number: 269 with model MultivariateRegression in generation 2 of 10\n",
            "Template Eval Error: ValueError(\"regression_type='User' but not future_regressor supplied.\") in model 269: MultivariateRegression\n",
            "Model Number: 270 with model MultivariateRegression in generation 2 of 10\n"
          ]
        },
        {
          "output_type": "stream",
          "name": "stderr",
          "text": [
            "/usr/local/lib/python3.7/dist-packages/sklearn/neighbors/_regression.py:470: UserWarning: One or more samples have no neighbors within specified radius; predicting NaN.\n",
            "  warnings.warn(empty_warning_msg)\n"
          ]
        },
        {
          "output_type": "stream",
          "name": "stdout",
          "text": [
            "Model Number: 271 with model MultivariateRegression in generation 2 of 10\n"
          ]
        },
        {
          "output_type": "stream",
          "name": "stderr",
          "text": [
            "[Parallel(n_jobs=-2)]: Using backend SequentialBackend with 1 concurrent workers.\n",
            "[Parallel(n_jobs=-2)]: Done 200 out of 200 | elapsed:    0.2s finished\n",
            "[Parallel(n_jobs=1)]: Using backend SequentialBackend with 1 concurrent workers.\n",
            "[Parallel(n_jobs=1)]: Done 200 out of 200 | elapsed:    0.0s finished\n",
            "[Parallel(n_jobs=1)]: Using backend SequentialBackend with 1 concurrent workers.\n",
            "[Parallel(n_jobs=1)]: Done 200 out of 200 | elapsed:    0.0s finished\n",
            "[Parallel(n_jobs=1)]: Using backend SequentialBackend with 1 concurrent workers.\n",
            "[Parallel(n_jobs=1)]: Done 200 out of 200 | elapsed:    0.0s finished\n",
            "INFO:fbprophet:Disabling yearly seasonality. Run prophet with yearly_seasonality=True to override this.\n",
            "INFO:fbprophet:Disabling daily seasonality. Run prophet with daily_seasonality=True to override this.\n",
            "INFO:fbprophet:n_changepoints greater than number of observations. Using 15.\n"
          ]
        },
        {
          "output_type": "stream",
          "name": "stdout",
          "text": [
            "Model Number: 272 with model MultivariateRegression in generation 2 of 10\n",
            "Template Eval Error: ValueError(\"regression_type='User' but not future_regressor supplied.\") in model 272: MultivariateRegression\n",
            "Model Number: 273 with model FBProphet in generation 2 of 10\n",
            "Template Eval Error: ValueError(\"regression_type='User' but no future_regressor passed\") in model 273: FBProphet\n",
            "Model Number: 274 with model FBProphet in generation 2 of 10\n"
          ]
        },
        {
          "output_type": "stream",
          "name": "stderr",
          "text": [
            "INFO:fbprophet:Disabling yearly seasonality. Run prophet with yearly_seasonality=True to override this.\n",
            "INFO:fbprophet:Disabling daily seasonality. Run prophet with daily_seasonality=True to override this.\n"
          ]
        },
        {
          "output_type": "stream",
          "name": "stdout",
          "text": [
            "Model Number: 275 with model FBProphet in generation 2 of 10\n"
          ]
        },
        {
          "output_type": "stream",
          "name": "stderr",
          "text": [
            "INFO:fbprophet:Disabling yearly seasonality. Run prophet with yearly_seasonality=True to override this.\n",
            "INFO:fbprophet:Disabling daily seasonality. Run prophet with daily_seasonality=True to override this.\n"
          ]
        },
        {
          "output_type": "stream",
          "name": "stdout",
          "text": [
            "Model Number: 276 with model FBProphet in generation 2 of 10\n",
            "Model Number: 277 with model GLM in generation 2 of 10\n",
            "Template Eval Error: TypeError(\"ufunc 'isfinite' not supported for the input types, and the inputs could not be safely coerced to any supported types according to the casting rule ''safe''\") in model 277: GLM\n",
            "Model Number: 278 with model GLM in generation 2 of 10\n",
            "Model Number: 279 with model GLM in generation 2 of 10\n",
            "Template Eval Error: TypeError(\"ufunc 'isfinite' not supported for the input types, and the inputs could not be safely coerced to any supported types according to the casting rule ''safe''\") in model 279: GLM\n",
            "Model Number: 280 with model GLM in generation 2 of 10\n",
            "Template Eval Error: TypeError(\"ufunc 'isfinite' not supported for the input types, and the inputs could not be safely coerced to any supported types according to the casting rule ''safe''\") in model 280: GLM\n",
            "Model Number: 281 with model VAR in generation 2 of 10\n",
            "Template Eval Error: ValueError('Only gave one variable to VAR') in model 281: VAR\n",
            "Model Number: 282 with model VAR in generation 2 of 10\n",
            "Template Eval Error: ValueError('Only gave one variable to VAR') in model 282: VAR\n",
            "Model Number: 283 with model VAR in generation 2 of 10\n",
            "Template Eval Error: ValueError('Only gave one variable to VAR') in model 283: VAR\n",
            "Model Number: 284 with model VECM in generation 2 of 10\n",
            "Template Eval Error: ValueError('Only gave one variable to VECM') in model 284: VECM\n",
            "Model Number: 285 with model VECM in generation 2 of 10\n",
            "Template Eval Error: ValueError('Only gave one variable to VECM') in model 285: VECM\n",
            "Model Number: 286 with model VECM in generation 2 of 10\n",
            "Template Eval Error: ValueError('Only gave one variable to VECM') in model 286: VECM\n",
            "Model Number: 287 with model VECM in generation 2 of 10\n",
            "Template Eval Error: ValueError('Only gave one variable to VECM') in model 287: VECM\n",
            "Model Number: 288 with model ARDL in generation 2 of 10\n",
            "Template Eval Error: ImportError(\"cannot import name 'ARDL' from 'statsmodels.tsa.api' (/usr/local/lib/python3.7/dist-packages/statsmodels/tsa/api.py)\") in model 288: ARDL\n",
            "Model Number: 289 with model ARDL in generation 2 of 10\n",
            "Template Eval Error: ValueError(\"regression_type='User' but future_regressor not supplied\") in model 289: ARDL\n",
            "Model Number: 290 with model ARDL in generation 2 of 10\n",
            "Template Eval Error: ValueError(\"regression_type='User' but future_regressor not supplied\") in model 290: ARDL\n",
            "Model Number: 291 with model ARDL in generation 2 of 10\n",
            "Template Eval Error: ImportError(\"cannot import name 'ARDL' from 'statsmodels.tsa.api' (/usr/local/lib/python3.7/dist-packages/statsmodels/tsa/api.py)\") in model 291: ARDL\n",
            "Model Number: 292 with model Theta in generation 2 of 10\n",
            "Template Eval Error: ModuleNotFoundError(\"No module named 'statsmodels.tsa.forecasting'\") in model 292: Theta\n",
            "Model Number: 293 with model Theta in generation 2 of 10\n",
            "Template Eval Error: ModuleNotFoundError(\"No module named 'statsmodels.tsa.forecasting'\") in model 293: Theta\n",
            "Model Number: 294 with model Theta in generation 2 of 10\n",
            "Template Eval Error: ModuleNotFoundError(\"No module named 'statsmodels.tsa.forecasting'\") in model 294: Theta\n",
            "Model Number: 295 with model Theta in generation 2 of 10\n",
            "Template Eval Error: ModuleNotFoundError(\"No module named 'statsmodels.tsa.forecasting'\") in model 295: Theta\n",
            "New Generation: 3 of 10\n",
            "Model Number: 296 with model UnivariateMotif in generation 3 of 10\n",
            "Model Number: 297 with model UnivariateMotif in generation 3 of 10\n",
            "Model Number: 298 with model UnivariateMotif in generation 3 of 10\n",
            "Model Number: 299 with model UnivariateMotif in generation 3 of 10\n",
            "Model Number: 300 with model NVAR in generation 3 of 10\n",
            "Model Number: 301 with model NVAR in generation 3 of 10\n",
            "Model Number: 302 with model NVAR in generation 3 of 10\n",
            "Model Number: 303 with model NVAR in generation 3 of 10\n",
            "Model Number: 304 with model MultivariateMotif in generation 3 of 10\n",
            "Template Eval Error: Exception('Transformer STLFilter failed on fit') in model 304: MultivariateMotif\n",
            "Model Number: 305 with model MultivariateMotif in generation 3 of 10\n",
            "Model Number: 306 with model MultivariateMotif in generation 3 of 10\n",
            "Model Number: 307 with model MultivariateMotif in generation 3 of 10\n",
            "Model Number: 308 with model UnobservedComponents in generation 3 of 10\n",
            "Model Number: 309 with model UnobservedComponents in generation 3 of 10\n",
            "Template Eval Error: ValueError('Provided exogenous values are not of the appropriate shape. Required (3, 1), got (3,).') in model 309: UnobservedComponents\n",
            "Model Number: 310 with model UnobservedComponents in generation 3 of 10\n",
            "Model Number: 311 with model MultivariateRegression in generation 3 of 10\n"
          ]
        },
        {
          "output_type": "stream",
          "name": "stderr",
          "text": [
            "[Parallel(n_jobs=-2)]: Using backend SequentialBackend with 1 concurrent workers.\n",
            "[Parallel(n_jobs=-2)]: Done 200 out of 200 | elapsed:    0.2s finished\n",
            "[Parallel(n_jobs=1)]: Using backend SequentialBackend with 1 concurrent workers.\n",
            "[Parallel(n_jobs=1)]: Done 200 out of 200 | elapsed:    0.0s finished\n",
            "[Parallel(n_jobs=1)]: Using backend SequentialBackend with 1 concurrent workers.\n",
            "[Parallel(n_jobs=1)]: Done 200 out of 200 | elapsed:    0.0s finished\n",
            "[Parallel(n_jobs=1)]: Using backend SequentialBackend with 1 concurrent workers.\n",
            "[Parallel(n_jobs=1)]: Done 200 out of 200 | elapsed:    0.0s finished\n"
          ]
        },
        {
          "output_type": "stream",
          "name": "stdout",
          "text": [
            "Model Number: 312 with model MultivariateRegression in generation 3 of 10\n"
          ]
        },
        {
          "output_type": "stream",
          "name": "stderr",
          "text": [
            "[Parallel(n_jobs=-2)]: Using backend SequentialBackend with 1 concurrent workers.\n",
            "[Parallel(n_jobs=-2)]: Done 200 out of 200 | elapsed:    0.2s finished\n",
            "[Parallel(n_jobs=1)]: Using backend SequentialBackend with 1 concurrent workers.\n",
            "[Parallel(n_jobs=1)]: Done 200 out of 200 | elapsed:    0.0s finished\n",
            "[Parallel(n_jobs=1)]: Using backend SequentialBackend with 1 concurrent workers.\n",
            "[Parallel(n_jobs=1)]: Done 200 out of 200 | elapsed:    0.0s finished\n",
            "[Parallel(n_jobs=1)]: Using backend SequentialBackend with 1 concurrent workers.\n",
            "[Parallel(n_jobs=1)]: Done 200 out of 200 | elapsed:    0.0s finished\n"
          ]
        },
        {
          "output_type": "stream",
          "name": "stdout",
          "text": [
            "Model Number: 313 with model MultivariateRegression in generation 3 of 10\n",
            "Template Eval Error: ValueError(\"regression_type='User' but not future_regressor supplied.\") in model 313: MultivariateRegression\n",
            "Model Number: 314 with model MultivariateRegression in generation 3 of 10\n"
          ]
        },
        {
          "output_type": "stream",
          "name": "stderr",
          "text": [
            "[Parallel(n_jobs=-2)]: Using backend SequentialBackend with 1 concurrent workers.\n"
          ]
        },
        {
          "output_type": "stream",
          "name": "stdout",
          "text": [
            "Model Number: 315 with model AverageValueNaive in generation 3 of 10\n"
          ]
        },
        {
          "output_type": "stream",
          "name": "stderr",
          "text": [
            "[Parallel(n_jobs=-2)]: Done 200 out of 200 | elapsed:    0.2s finished\n",
            "[Parallel(n_jobs=1)]: Using backend SequentialBackend with 1 concurrent workers.\n",
            "[Parallel(n_jobs=1)]: Done 200 out of 200 | elapsed:    0.0s finished\n",
            "[Parallel(n_jobs=1)]: Using backend SequentialBackend with 1 concurrent workers.\n",
            "[Parallel(n_jobs=1)]: Done 200 out of 200 | elapsed:    0.0s finished\n",
            "[Parallel(n_jobs=1)]: Using backend SequentialBackend with 1 concurrent workers.\n",
            "[Parallel(n_jobs=1)]: Done 200 out of 200 | elapsed:    0.0s finished\n"
          ]
        },
        {
          "output_type": "stream",
          "name": "stdout",
          "text": [
            "Model Number: 316 with model AverageValueNaive in generation 3 of 10\n",
            "Model Number: 317 with model AverageValueNaive in generation 3 of 10\n",
            "Model Number: 318 with model ConstantNaive in generation 3 of 10\n",
            "Model Number: 319 with model ConstantNaive in generation 3 of 10\n",
            "Model Number: 320 with model ConstantNaive in generation 3 of 10\n",
            "Model Number: 321 with model GLS in generation 3 of 10\n",
            "Model Number: 322 with model GLS in generation 3 of 10\n",
            "Model Number: 323 with model LastValueNaive in generation 3 of 10\n",
            "Model Number: 324 with model LastValueNaive in generation 3 of 10\n",
            "Model Number: 325 with model LastValueNaive in generation 3 of 10\n",
            "Model Number: 326 with model DatepartRegression in generation 3 of 10\n",
            "Template Eval Error: Exception('Transformer STLFilter failed on fit') in model 326: DatepartRegression\n",
            "Model Number: 327 with model DatepartRegression in generation 3 of 10\n",
            "Model Number: 328 with model DatepartRegression in generation 3 of 10\n",
            "Epoch 1/50\n",
            "3/3 [==============================] - 7s 331ms/step - loss: nan - val_loss: nan\n",
            "Epoch 2/50\n",
            "3/3 [==============================] - 0s 60ms/step - loss: nan - val_loss: nan\n",
            "Epoch 3/50\n",
            "3/3 [==============================] - 0s 57ms/step - loss: nan - val_loss: nan\n",
            "Epoch 4/50\n",
            "3/3 [==============================] - 0s 55ms/step - loss: nan - val_loss: nan\n",
            "Epoch 5/50\n",
            "3/3 [==============================] - 0s 52ms/step - loss: nan - val_loss: nan\n",
            "Epoch 6/50\n",
            "3/3 [==============================] - 0s 56ms/step - loss: nan - val_loss: nan\n",
            "Epoch 7/50\n",
            "3/3 [==============================] - 0s 56ms/step - loss: nan - val_loss: nan\n",
            "Epoch 8/50\n",
            "3/3 [==============================] - 0s 56ms/step - loss: nan - val_loss: nan\n",
            "Epoch 9/50\n",
            "3/3 [==============================] - 0s 58ms/step - loss: nan - val_loss: nan\n",
            "Epoch 10/50\n",
            "3/3 [==============================] - 0s 63ms/step - loss: nan - val_loss: nan\n",
            "Template Eval Error: ValueError('Model DatepartRegression returned NaN for one or more series. fail_on_forecast_nan=True') in model 328: DatepartRegression\n",
            "Model Number: 329 with model ETS in generation 3 of 10\n",
            "ETS error TypeError(\"__init__() got an unexpected keyword argument 'damped_trend'\")\n",
            "Model Number: 330 with model ETS in generation 3 of 10\n",
            "ETS error TypeError(\"__init__() got an unexpected keyword argument 'damped_trend'\")\n",
            "Model Number: 331 with model ETS in generation 3 of 10\n",
            "ETS error TypeError(\"__init__() got an unexpected keyword argument 'damped_trend'\")\n",
            "Model Number: 332 with model ETS in generation 3 of 10\n",
            "ETS error TypeError(\"__init__() got an unexpected keyword argument 'damped_trend'\")\n"
          ]
        },
        {
          "output_type": "stream",
          "name": "stderr",
          "text": [
            "/usr/local/lib/python3.7/dist-packages/sklearn/linear_model/_coordinate_descent.py:648: ConvergenceWarning: Objective did not converge. You might want to increase the number of iterations, check the scale of the features or consider increasing regularisation. Duality gap: 1.258e+08, tolerance: 4.933e+04\n",
            "  coef_, l1_reg, l2_reg, X, y, max_iter, tol, rng, random, positive\n"
          ]
        },
        {
          "output_type": "stream",
          "name": "stdout",
          "text": [
            "Model Number: 333 with model WindowRegression in generation 3 of 10\n",
            "Template Eval Error: ValueError(\"regression_type='User' but no future_regressor passed\") in model 333: WindowRegression\n",
            "Model Number: 334 with model WindowRegression in generation 3 of 10\n",
            "Template Eval Error: LinAlgError(\"The kernel, ExpSineSquared(length_scale=1, periodicity=1), is not returning a positive definite matrix. Try gradually increasing the 'alpha' parameter of your GaussianProcessRegressor estimator.\", '5-th leading minor of the array is not positive definite') in model 334: WindowRegression\n",
            "Model Number: 335 with model WindowRegression in generation 3 of 10\n",
            "Model Number: 336 with model SeasonalNaive in generation 3 of 10\n",
            "Model Number: 337 with model SeasonalNaive in generation 3 of 10\n",
            "Model Number: 338 with model SeasonalNaive in generation 3 of 10\n"
          ]
        },
        {
          "output_type": "stream",
          "name": "stderr",
          "text": [
            "/usr/local/lib/python3.7/dist-packages/sklearn/svm/_base.py:1208: ConvergenceWarning: Liblinear failed to converge, increase the number of iterations.\n",
            "  ConvergenceWarning,\n",
            "/usr/local/lib/python3.7/dist-packages/sklearn/svm/_base.py:1208: ConvergenceWarning: Liblinear failed to converge, increase the number of iterations.\n",
            "  ConvergenceWarning,\n",
            "/usr/local/lib/python3.7/dist-packages/sklearn/svm/_base.py:1208: ConvergenceWarning: Liblinear failed to converge, increase the number of iterations.\n",
            "  ConvergenceWarning,\n"
          ]
        },
        {
          "output_type": "stream",
          "name": "stdout",
          "text": [
            "Model Number: 339 with model SeasonalNaive in generation 3 of 10\n",
            "Model Number: 340 with model SectionalMotif in generation 3 of 10\n",
            "Model Number: 341 with model SectionalMotif in generation 3 of 10\n",
            "Model Number: 342 with model SectionalMotif in generation 3 of 10\n",
            "Model Number: 343 with model SectionalMotif in generation 3 of 10\n",
            "Model Number: 344 with model FBProphet in generation 3 of 10\n"
          ]
        },
        {
          "output_type": "stream",
          "name": "stderr",
          "text": [
            "INFO:fbprophet:Disabling yearly seasonality. Run prophet with yearly_seasonality=True to override this.\n",
            "INFO:fbprophet:Disabling daily seasonality. Run prophet with daily_seasonality=True to override this.\n",
            "INFO:fbprophet:n_changepoints greater than number of observations. Using 15.\n",
            "INFO:fbprophet:Disabling yearly seasonality. Run prophet with yearly_seasonality=True to override this.\n",
            "INFO:fbprophet:Disabling daily seasonality. Run prophet with daily_seasonality=True to override this.\n"
          ]
        },
        {
          "output_type": "stream",
          "name": "stdout",
          "text": [
            "Model Number: 345 with model FBProphet in generation 3 of 10\n",
            "Model Number: 346 with model FBProphet in generation 3 of 10\n",
            "Template Eval Error: ValueError(\"regression_type='User' but no future_regressor passed\") in model 346: FBProphet\n",
            "Model Number: 347 with model FBProphet in generation 3 of 10\n",
            "Template Eval Error: ValueError(\"regression_type='User' but no future_regressor passed\") in model 347: FBProphet\n",
            "Model Number: 348 with model GLM in generation 3 of 10\n",
            "Model Number: 349 with model GLM in generation 3 of 10\n",
            "Model Number: 350 with model GLM in generation 3 of 10\n",
            "Model Number: 351 with model GLM in generation 3 of 10\n",
            "Model Number: 352 with model VAR in generation 3 of 10\n",
            "Template Eval Error: ValueError('Only gave one variable to VAR') in model 352: VAR\n",
            "Model Number: 353 with model VAR in generation 3 of 10\n",
            "Template Eval Error: ValueError('Only gave one variable to VAR') in model 353: VAR\n",
            "Model Number: 354 with model VAR in generation 3 of 10\n",
            "Template Eval Error: ValueError('Only gave one variable to VAR') in model 354: VAR\n",
            "Model Number: 355 with model VAR in generation 3 of 10\n",
            "Template Eval Error: ValueError('Only gave one variable to VAR') in model 355: VAR\n",
            "Model Number: 356 with model VECM in generation 3 of 10\n",
            "Template Eval Error: ValueError('Only gave one variable to VECM') in model 356: VECM\n",
            "Model Number: 357 with model VECM in generation 3 of 10\n",
            "Template Eval Error: ValueError('Only gave one variable to VECM') in model 357: VECM\n"
          ]
        },
        {
          "output_type": "stream",
          "name": "stderr",
          "text": [
            "/usr/local/lib/python3.7/dist-packages/statsmodels/genmod/families/links.py:190: RuntimeWarning: overflow encountered in exp\n",
            "  t = np.exp(-z)\n",
            "/usr/local/lib/python3.7/dist-packages/statsmodels/genmod/families/family.py:889: RuntimeWarning: divide by zero encountered in true_divide\n",
            "  endog_mu = self._clean(endog / mu)\n"
          ]
        },
        {
          "output_type": "stream",
          "name": "stdout",
          "text": [
            "Model Number: 358 with model VECM in generation 3 of 10\n",
            "Template Eval Error: ValueError('Only gave one variable to VECM') in model 358: VECM\n",
            "Model Number: 359 with model ARDL in generation 3 of 10\n",
            "Template Eval Error: ImportError(\"cannot import name 'ARDL' from 'statsmodels.tsa.api' (/usr/local/lib/python3.7/dist-packages/statsmodels/tsa/api.py)\") in model 359: ARDL\n",
            "Model Number: 360 with model ARDL in generation 3 of 10\n",
            "Template Eval Error: ValueError(\"regression_type='User' but future_regressor not supplied\") in model 360: ARDL\n",
            "Model Number: 361 with model ARDL in generation 3 of 10\n",
            "Template Eval Error: ImportError(\"cannot import name 'ARDL' from 'statsmodels.tsa.api' (/usr/local/lib/python3.7/dist-packages/statsmodels/tsa/api.py)\") in model 361: ARDL\n",
            "Model Number: 362 with model ARDL in generation 3 of 10\n",
            "Template Eval Error: ImportError(\"cannot import name 'ARDL' from 'statsmodels.tsa.api' (/usr/local/lib/python3.7/dist-packages/statsmodels/tsa/api.py)\") in model 362: ARDL\n",
            "Model Number: 363 with model Theta in generation 3 of 10\n",
            "Template Eval Error: ModuleNotFoundError(\"No module named 'statsmodels.tsa.forecasting'\") in model 363: Theta\n",
            "Model Number: 364 with model Theta in generation 3 of 10\n",
            "Template Eval Error: ModuleNotFoundError(\"No module named 'statsmodels.tsa.forecasting'\") in model 364: Theta\n",
            "Model Number: 365 with model Theta in generation 3 of 10\n",
            "Template Eval Error: ModuleNotFoundError(\"No module named 'statsmodels.tsa.forecasting'\") in model 365: Theta\n",
            "Model Number: 366 with model Theta in generation 3 of 10\n",
            "Template Eval Error: ModuleNotFoundError(\"No module named 'statsmodels.tsa.forecasting'\") in model 366: Theta\n",
            "New Generation: 4 of 10\n",
            "Model Number: 367 with model NVAR in generation 4 of 10\n",
            "Model Number: 368 with model NVAR in generation 4 of 10\n",
            "Model Number: 369 with model NVAR in generation 4 of 10\n",
            "Model Number: 370 with model NVAR in generation 4 of 10\n",
            "Model Number: 371 with model UnivariateMotif in generation 4 of 10\n",
            "Model Number: 372 with model UnivariateMotif in generation 4 of 10\n",
            "Model Number: 373 with model UnivariateMotif in generation 4 of 10\n",
            "Model Number: 374 with model UnivariateMotif in generation 4 of 10\n",
            "Model Number: 375 with model MultivariateMotif in generation 4 of 10\n",
            "Model Number: 376 with model MultivariateMotif in generation 4 of 10\n",
            "Model Number: 377 with model MultivariateMotif in generation 4 of 10\n",
            "Model Number: 378 with model MultivariateMotif in generation 4 of 10\n",
            "Model Number: 379 with model UnobservedComponents in generation 4 of 10\n",
            "Model Number: 380 with model UnobservedComponents in generation 4 of 10\n",
            "Model Number: 381 with model UnobservedComponents in generation 4 of 10\n",
            "Model Number: 382 with model MultivariateRegression in generation 4 of 10\n",
            "Model Number: 383 with model MultivariateRegression in generation 4 of 10\n",
            "Template Eval Error: ValueError(\"regression_type='User' but not future_regressor supplied.\") in model 383: MultivariateRegression\n",
            "Model Number: 384 with model MultivariateRegression in generation 4 of 10\n"
          ]
        },
        {
          "output_type": "stream",
          "name": "stderr",
          "text": [
            "[Parallel(n_jobs=-2)]: Using backend SequentialBackend with 1 concurrent workers.\n",
            "[Parallel(n_jobs=-2)]: Done 200 out of 200 | elapsed:    0.2s finished\n",
            "[Parallel(n_jobs=1)]: Using backend SequentialBackend with 1 concurrent workers.\n",
            "[Parallel(n_jobs=1)]: Done 200 out of 200 | elapsed:    0.0s finished\n",
            "[Parallel(n_jobs=1)]: Using backend SequentialBackend with 1 concurrent workers.\n",
            "[Parallel(n_jobs=1)]: Done 200 out of 200 | elapsed:    0.0s finished\n",
            "[Parallel(n_jobs=1)]: Using backend SequentialBackend with 1 concurrent workers.\n",
            "[Parallel(n_jobs=1)]: Done 200 out of 200 | elapsed:    0.0s finished\n",
            "[Parallel(n_jobs=-2)]: Using backend SequentialBackend with 1 concurrent workers.\n"
          ]
        },
        {
          "output_type": "stream",
          "name": "stdout",
          "text": [
            "Model Number: 385 with model MultivariateRegression in generation 4 of 10\n",
            "Model Number: 386 with model AverageValueNaive in generation 4 of 10\n"
          ]
        },
        {
          "output_type": "stream",
          "name": "stderr",
          "text": [
            "[Parallel(n_jobs=-2)]: Done 200 out of 200 | elapsed:    0.2s finished\n",
            "[Parallel(n_jobs=1)]: Using backend SequentialBackend with 1 concurrent workers.\n",
            "[Parallel(n_jobs=1)]: Done 200 out of 200 | elapsed:    0.0s finished\n",
            "[Parallel(n_jobs=1)]: Using backend SequentialBackend with 1 concurrent workers.\n",
            "[Parallel(n_jobs=1)]: Done 200 out of 200 | elapsed:    0.0s finished\n",
            "[Parallel(n_jobs=1)]: Using backend SequentialBackend with 1 concurrent workers.\n",
            "[Parallel(n_jobs=1)]: Done 200 out of 200 | elapsed:    0.0s finished\n"
          ]
        },
        {
          "output_type": "stream",
          "name": "stdout",
          "text": [
            "Model Number: 387 with model AverageValueNaive in generation 4 of 10\n",
            "Model Number: 388 with model AverageValueNaive in generation 4 of 10\n",
            "Model Number: 389 with model ConstantNaive in generation 4 of 10\n",
            "Model Number: 390 with model ConstantNaive in generation 4 of 10\n",
            "Model Number: 391 with model ConstantNaive in generation 4 of 10\n",
            "Model Number: 392 with model LastValueNaive in generation 4 of 10\n",
            "Model Number: 393 with model LastValueNaive in generation 4 of 10\n",
            "Model Number: 394 with model LastValueNaive in generation 4 of 10\n",
            "Model Number: 395 with model GLS in generation 4 of 10\n",
            "Model Number: 396 with model GLS in generation 4 of 10\n",
            "Model Number: 397 with model GLS in generation 4 of 10\n",
            "Model Number: 398 with model WindowRegression in generation 4 of 10\n",
            "Model Number: 399 with model WindowRegression in generation 4 of 10\n",
            "Model Number: 400 with model WindowRegression in generation 4 of 10\n",
            "Model Number: 401 with model DatepartRegression in generation 4 of 10\n",
            "Model Number: 402 with model DatepartRegression in generation 4 of 10\n",
            "Template Eval Error: ValueError(\"regression_type='User' but no future_regressor passed\") in model 402: DatepartRegression\n",
            "Model Number: 403 with model DatepartRegression in generation 4 of 10\n",
            "Template Eval Error: ValueError('Model DatepartRegression returned NaN for one or more series. fail_on_forecast_nan=True') in model 403: DatepartRegression\n",
            "Model Number: 404 with model ETS in generation 4 of 10\n",
            "ETS error TypeError(\"__init__() got an unexpected keyword argument 'damped_trend'\")\n"
          ]
        },
        {
          "output_type": "stream",
          "name": "stderr",
          "text": [
            "/usr/local/lib/python3.7/dist-packages/sklearn/linear_model/_coordinate_descent.py:648: ConvergenceWarning: Objective did not converge. You might want to increase the number of iterations, check the scale of the features or consider increasing regularisation. Duality gap: 6.752e-02, tolerance: 3.258e-03\n",
            "  coef_, l1_reg, l2_reg, X, y, max_iter, tol, rng, random, positive\n",
            "/usr/local/lib/python3.7/dist-packages/sklearn/neighbors/_regression.py:470: UserWarning: One or more samples have no neighbors within specified radius; predicting NaN.\n",
            "  warnings.warn(empty_warning_msg)\n"
          ]
        },
        {
          "output_type": "stream",
          "name": "stdout",
          "text": [
            "Model Number: 405 with model ETS in generation 4 of 10\n",
            "ETS error TypeError(\"__init__() got an unexpected keyword argument 'damped_trend'\")\n",
            "Model Number: 406 with model ETS in generation 4 of 10\n",
            "ETS error TypeError(\"__init__() got an unexpected keyword argument 'damped_trend'\")\n",
            "Model Number: 407 with model ETS in generation 4 of 10\n",
            "ETS error TypeError(\"__init__() got an unexpected keyword argument 'damped_trend'\")\n",
            "ETS failed on Close with ValueError('could not broadcast input array from shape (115,) into shape (370,)')\n",
            "Model Number: 408 with model SeasonalNaive in generation 4 of 10\n",
            "Model Number: 409 with model SeasonalNaive in generation 4 of 10\n",
            "Model Number: 410 with model SeasonalNaive in generation 4 of 10\n",
            "Model Number: 411 with model SeasonalNaive in generation 4 of 10\n",
            "Model Number: 412 with model SectionalMotif in generation 4 of 10\n",
            "Model Number: 413 with model SectionalMotif in generation 4 of 10\n",
            "Model Number: 414 with model SectionalMotif in generation 4 of 10\n",
            "Model Number: 415 with model SectionalMotif in generation 4 of 10\n",
            "Template Eval Error: ValueError(\"regression_type=='User' but no future_regressor supplied\") in model 415: SectionalMotif\n",
            "Model Number: 416 with model FBProphet in generation 4 of 10\n"
          ]
        },
        {
          "output_type": "stream",
          "name": "stderr",
          "text": [
            "INFO:fbprophet:Disabling yearly seasonality. Run prophet with yearly_seasonality=True to override this.\n",
            "INFO:fbprophet:Disabling daily seasonality. Run prophet with daily_seasonality=True to override this.\n",
            "INFO:fbprophet:Disabling yearly seasonality. Run prophet with yearly_seasonality=True to override this.\n",
            "INFO:fbprophet:Disabling daily seasonality. Run prophet with daily_seasonality=True to override this.\n"
          ]
        },
        {
          "output_type": "stream",
          "name": "stdout",
          "text": [
            "Model Number: 417 with model FBProphet in generation 4 of 10\n"
          ]
        },
        {
          "output_type": "stream",
          "name": "stderr",
          "text": [
            "INFO:fbprophet:Disabling yearly seasonality. Run prophet with yearly_seasonality=True to override this.\n",
            "INFO:fbprophet:Disabling daily seasonality. Run prophet with daily_seasonality=True to override this.\n",
            "INFO:fbprophet:n_changepoints greater than number of observations. Using 15.\n"
          ]
        },
        {
          "output_type": "stream",
          "name": "stdout",
          "text": [
            "Model Number: 418 with model FBProphet in generation 4 of 10\n"
          ]
        },
        {
          "output_type": "stream",
          "name": "stderr",
          "text": [
            "INFO:fbprophet:Disabling yearly seasonality. Run prophet with yearly_seasonality=True to override this.\n",
            "INFO:fbprophet:Disabling daily seasonality. Run prophet with daily_seasonality=True to override this.\n"
          ]
        },
        {
          "output_type": "stream",
          "name": "stdout",
          "text": [
            "Model Number: 419 with model FBProphet in generation 4 of 10\n",
            "Model Number: 420 with model GLM in generation 4 of 10\n",
            "Model Number: 421 with model GLM in generation 4 of 10\n",
            "Model Number: 422 with model GLM in generation 4 of 10\n"
          ]
        },
        {
          "output_type": "stream",
          "name": "stderr",
          "text": [
            "/usr/local/lib/python3.7/dist-packages/statsmodels/genmod/families/links.py:190: RuntimeWarning: overflow encountered in exp\n",
            "  t = np.exp(-z)\n",
            "/usr/local/lib/python3.7/dist-packages/statsmodels/genmod/families/family.py:889: RuntimeWarning: divide by zero encountered in true_divide\n",
            "  endog_mu = self._clean(endog / mu)\n",
            "/usr/local/lib/python3.7/dist-packages/statsmodels/genmod/families/family.py:1227: RuntimeWarning: invalid value encountered in log\n",
            "  resid_dev -= endog_alpha * np.log(endog_alpha / mu_alpha)\n",
            "/usr/local/lib/python3.7/dist-packages/statsmodels/genmod/families/family.py:1223: RuntimeWarning: divide by zero encountered in true_divide\n",
            "  endog_mu = self._clean(endog / mu)\n"
          ]
        },
        {
          "output_type": "stream",
          "name": "stdout",
          "text": [
            "Model Number: 423 with model GLM in generation 4 of 10\n",
            "Template Eval Error: ValueError('The first guess on the deviance function returned a nan.  This could be a boundary  problem and should be reported.') in model 423: GLM\n",
            "Model Number: 424 with model VAR in generation 4 of 10\n",
            "Template Eval Error: ValueError('Only gave one variable to VAR') in model 424: VAR\n",
            "Model Number: 425 with model VAR in generation 4 of 10\n",
            "Template Eval Error: ValueError('Only gave one variable to VAR') in model 425: VAR\n",
            "Model Number: 426 with model VAR in generation 4 of 10\n",
            "Template Eval Error: ValueError('Only gave one variable to VAR') in model 426: VAR\n",
            "Model Number: 427 with model VAR in generation 4 of 10\n",
            "Template Eval Error: ValueError('Only gave one variable to VAR') in model 427: VAR\n",
            "Model Number: 428 with model VECM in generation 4 of 10\n",
            "Template Eval Error: ValueError('Only gave one variable to VECM') in model 428: VECM\n",
            "Model Number: 429 with model VECM in generation 4 of 10\n",
            "Template Eval Error: ValueError('Only gave one variable to VECM') in model 429: VECM\n",
            "Model Number: 430 with model VECM in generation 4 of 10\n",
            "Template Eval Error: ValueError('Only gave one variable to VECM') in model 430: VECM\n",
            "Model Number: 431 with model VECM in generation 4 of 10\n",
            "Template Eval Error: ValueError('Only gave one variable to VECM') in model 431: VECM\n",
            "Model Number: 432 with model ARDL in generation 4 of 10\n",
            "Template Eval Error: ImportError(\"cannot import name 'ARDL' from 'statsmodels.tsa.api' (/usr/local/lib/python3.7/dist-packages/statsmodels/tsa/api.py)\") in model 432: ARDL\n"
          ]
        },
        {
          "output_type": "stream",
          "name": "stderr",
          "text": [
            "/usr/local/lib/python3.7/dist-packages/statsmodels/genmod/families/family.py:1227: RuntimeWarning: invalid value encountered in log\n",
            "  resid_dev -= endog_alpha * np.log(endog_alpha / mu_alpha)\n"
          ]
        },
        {
          "output_type": "stream",
          "name": "stdout",
          "text": [
            "Model Number: 433 with model ARDL in generation 4 of 10\n",
            "Template Eval Error: ValueError(\"regression_type='User' but future_regressor not supplied\") in model 433: ARDL\n",
            "Model Number: 434 with model ARDL in generation 4 of 10\n",
            "Template Eval Error: Exception('Transformer STLFilter failed on fit') in model 434: ARDL\n",
            "Model Number: 435 with model ARDL in generation 4 of 10\n",
            "Template Eval Error: ImportError(\"cannot import name 'ARDL' from 'statsmodels.tsa.api' (/usr/local/lib/python3.7/dist-packages/statsmodels/tsa/api.py)\") in model 435: ARDL\n",
            "Model Number: 436 with model Theta in generation 4 of 10\n",
            "Template Eval Error: ModuleNotFoundError(\"No module named 'statsmodels.tsa.forecasting'\") in model 436: Theta\n",
            "Model Number: 437 with model Theta in generation 4 of 10\n",
            "Template Eval Error: ModuleNotFoundError(\"No module named 'statsmodels.tsa.forecasting'\") in model 437: Theta\n",
            "Model Number: 438 with model Theta in generation 4 of 10\n",
            "Template Eval Error: ModuleNotFoundError(\"No module named 'statsmodels.tsa.forecasting'\") in model 438: Theta\n",
            "Model Number: 439 with model Theta in generation 4 of 10\n",
            "Template Eval Error: ModuleNotFoundError(\"No module named 'statsmodels.tsa.forecasting'\") in model 439: Theta\n",
            "New Generation: 5 of 10\n",
            "Model Number: 440 with model NVAR in generation 5 of 10\n",
            "Model Number: 441 with model NVAR in generation 5 of 10\n",
            "Model Number: 442 with model NVAR in generation 5 of 10\n",
            "Model Number: 443 with model NVAR in generation 5 of 10\n",
            "Model Number: 444 with model UnivariateMotif in generation 5 of 10\n",
            "Model Number: 445 with model UnivariateMotif in generation 5 of 10\n",
            "Model Number: 446 with model UnivariateMotif in generation 5 of 10\n",
            "Model Number: 447 with model UnivariateMotif in generation 5 of 10\n",
            "Model Number: 448 with model MultivariateMotif in generation 5 of 10\n",
            "Model Number: 449 with model MultivariateMotif in generation 5 of 10\n",
            "Model Number: 450 with model MultivariateMotif in generation 5 of 10\n",
            "Model Number: 451 with model MultivariateMotif in generation 5 of 10\n",
            "Model Number: 452 with model UnobservedComponents in generation 5 of 10\n",
            "Model Number: 453 with model UnobservedComponents in generation 5 of 10\n",
            "Template Eval Error: ValueError('Model UnobservedComponents returned NaN for one or more series. fail_on_forecast_nan=True') in model 453: UnobservedComponents\n",
            "Model Number: 454 with model UnobservedComponents in generation 5 of 10\n",
            "Template Eval Error: ValueError(\"regression_type='User' but no future_regressor supplied\") in model 454: UnobservedComponents\n",
            "Model Number: 455 with model ConstantNaive in generation 5 of 10\n",
            "Model Number: 456 with model ConstantNaive in generation 5 of 10\n",
            "Model Number: 457 with model ConstantNaive in generation 5 of 10\n",
            "Model Number: 458 with model MultivariateRegression in generation 5 of 10\n",
            "Template Eval Error: ValueError('Some value(s) of y are out of the valid range for family PoissonDistribution') in model 458: MultivariateRegression\n",
            "Model Number: 459 with model MultivariateRegression in generation 5 of 10\n"
          ]
        },
        {
          "output_type": "stream",
          "name": "stderr",
          "text": [
            "[Parallel(n_jobs=-2)]: Using backend SequentialBackend with 1 concurrent workers.\n",
            "[Parallel(n_jobs=-2)]: Done 200 out of 200 | elapsed:    0.2s finished\n",
            "[Parallel(n_jobs=1)]: Using backend SequentialBackend with 1 concurrent workers.\n",
            "[Parallel(n_jobs=1)]: Done 200 out of 200 | elapsed:    0.0s finished\n",
            "[Parallel(n_jobs=1)]: Using backend SequentialBackend with 1 concurrent workers.\n",
            "[Parallel(n_jobs=1)]: Done 200 out of 200 | elapsed:    0.0s finished\n",
            "[Parallel(n_jobs=1)]: Using backend SequentialBackend with 1 concurrent workers.\n",
            "[Parallel(n_jobs=1)]: Done 200 out of 200 | elapsed:    0.0s finished\n"
          ]
        },
        {
          "output_type": "stream",
          "name": "stdout",
          "text": [
            "Model Number: 460 with model MultivariateRegression in generation 5 of 10\n",
            "Model Number: 461 with model MultivariateRegression in generation 5 of 10\n",
            "Template Eval Error: ValueError(\"regression_type='User' but not future_regressor supplied.\") in model 461: MultivariateRegression\n",
            "Model Number: 462 with model AverageValueNaive in generation 5 of 10\n",
            "Model Number: 463 with model AverageValueNaive in generation 5 of 10\n",
            "Model Number: 464 with model AverageValueNaive in generation 5 of 10\n",
            "Model Number: 465 with model LastValueNaive in generation 5 of 10\n",
            "Model Number: 466 with model LastValueNaive in generation 5 of 10\n",
            "Model Number: 467 with model LastValueNaive in generation 5 of 10\n",
            "Model Number: 468 with model GLS in generation 5 of 10\n",
            "Model Number: 469 with model GLS in generation 5 of 10\n",
            "Model Number: 470 with model WindowRegression in generation 5 of 10\n",
            "Model Number: 471 with model WindowRegression in generation 5 of 10\n",
            "Template Eval Error: ValueError(\"Input contains NaN, infinity or a value too large for dtype('float64').\") in model 471: WindowRegression\n",
            "Model Number: 472 with model WindowRegression in generation 5 of 10\n",
            "Model Number: 473 with model DatepartRegression in generation 5 of 10\n",
            "Template Eval Error: ValueError(\"regression_type='User' but no future_regressor passed\") in model 473: DatepartRegression\n"
          ]
        },
        {
          "output_type": "stream",
          "name": "stderr",
          "text": [
            "/usr/local/lib/python3.7/dist-packages/sklearn/neighbors/_regression.py:470: UserWarning: One or more samples have no neighbors within specified radius; predicting NaN.\n",
            "  warnings.warn(empty_warning_msg)\n"
          ]
        },
        {
          "output_type": "stream",
          "name": "stdout",
          "text": [
            "Model Number: 474 with model DatepartRegression in generation 5 of 10\n",
            "Template Eval Error: ValueError(\"regression_type='User' but no future_regressor passed\") in model 474: DatepartRegression\n",
            "Model Number: 475 with model DatepartRegression in generation 5 of 10\n",
            "Template Eval Error: ValueError(\"regression_type='User' but no future_regressor passed\") in model 475: DatepartRegression\n",
            "Model Number: 476 with model ETS in generation 5 of 10\n",
            "ETS error TypeError(\"__init__() got an unexpected keyword argument 'damped_trend'\")\n",
            "Model Number: 477 with model ETS in generation 5 of 10\n",
            "ETS error TypeError(\"__init__() got an unexpected keyword argument 'damped_trend'\")\n",
            "Model Number: 478 with model ETS in generation 5 of 10\n",
            "ETS error TypeError(\"__init__() got an unexpected keyword argument 'damped_trend'\")\n",
            "Model Number: 479 with model ETS in generation 5 of 10\n",
            "ETS error TypeError(\"__init__() got an unexpected keyword argument 'damped_trend'\")\n",
            "Model Number: 480 with model SeasonalNaive in generation 5 of 10\n",
            "Model Number: 481 with model SeasonalNaive in generation 5 of 10\n",
            "Model Number: 482 with model SeasonalNaive in generation 5 of 10\n",
            "Model Number: 483 with model SeasonalNaive in generation 5 of 10\n",
            "Model Number: 484 with model SectionalMotif in generation 5 of 10\n",
            "Model Number: 485 with model SectionalMotif in generation 5 of 10\n",
            "Template Eval Error: ValueError('kth(=10) out of bounds (9)') in model 485: SectionalMotif\n",
            "Model Number: 486 with model SectionalMotif in generation 5 of 10\n",
            "Model Number: 487 with model SectionalMotif in generation 5 of 10\n",
            "Template Eval Error: ValueError(\"regression_type=='User' but no future_regressor supplied\") in model 487: SectionalMotif\n",
            "Model Number: 488 with model FBProphet in generation 5 of 10\n"
          ]
        },
        {
          "output_type": "stream",
          "name": "stderr",
          "text": [
            "INFO:fbprophet:Disabling yearly seasonality. Run prophet with yearly_seasonality=True to override this.\n",
            "INFO:fbprophet:Disabling daily seasonality. Run prophet with daily_seasonality=True to override this.\n",
            "INFO:fbprophet:Disabling yearly seasonality. Run prophet with yearly_seasonality=True to override this.\n",
            "INFO:fbprophet:Disabling daily seasonality. Run prophet with daily_seasonality=True to override this.\n"
          ]
        },
        {
          "output_type": "stream",
          "name": "stdout",
          "text": [
            "Model Number: 489 with model FBProphet in generation 5 of 10\n"
          ]
        },
        {
          "output_type": "stream",
          "name": "stderr",
          "text": [
            "INFO:fbprophet:Disabling yearly seasonality. Run prophet with yearly_seasonality=True to override this.\n",
            "INFO:fbprophet:Disabling daily seasonality. Run prophet with daily_seasonality=True to override this.\n",
            "INFO:fbprophet:n_changepoints greater than number of observations. Using 15.\n"
          ]
        },
        {
          "output_type": "stream",
          "name": "stdout",
          "text": [
            "Model Number: 490 with model FBProphet in generation 5 of 10\n"
          ]
        },
        {
          "output_type": "stream",
          "name": "stderr",
          "text": [
            "INFO:fbprophet:Disabling yearly seasonality. Run prophet with yearly_seasonality=True to override this.\n",
            "INFO:fbprophet:Disabling daily seasonality. Run prophet with daily_seasonality=True to override this.\n"
          ]
        },
        {
          "output_type": "stream",
          "name": "stdout",
          "text": [
            "Model Number: 491 with model FBProphet in generation 5 of 10\n",
            "Model Number: 492 with model GLM in generation 5 of 10\n",
            "Model Number: 493 with model GLM in generation 5 of 10\n",
            "Template Eval Error: TypeError(\"ufunc 'isfinite' not supported for the input types, and the inputs could not be safely coerced to any supported types according to the casting rule ''safe''\") in model 493: GLM\n",
            "Model Number: 494 with model GLM in generation 5 of 10\n",
            "Template Eval Error: TypeError(\"ufunc 'isfinite' not supported for the input types, and the inputs could not be safely coerced to any supported types according to the casting rule ''safe''\") in model 494: GLM\n",
            "Model Number: 495 with model GLM in generation 5 of 10\n",
            "Template Eval Error: ValueError('NaN, inf or invalid value detected in weights, estimation infeasible.') in model 495: GLM\n",
            "Model Number: 496 with model VAR in generation 5 of 10\n",
            "Template Eval Error: ValueError('Only gave one variable to VAR') in model 496: VAR\n",
            "Model Number: 497 with model VAR in generation 5 of 10\n",
            "Template Eval Error: ValueError('Only gave one variable to VAR') in model 497: VAR\n",
            "Model Number: 498 with model VAR in generation 5 of 10\n",
            "Template Eval Error: ValueError('Only gave one variable to VAR') in model 498: VAR\n",
            "Model Number: 499 with model VAR in generation 5 of 10\n",
            "Template Eval Error: ValueError('Only gave one variable to VAR') in model 499: VAR\n",
            "Model Number: 500 with model VECM in generation 5 of 10\n",
            "Template Eval Error: ValueError('Only gave one variable to VECM') in model 500: VECM\n",
            "Model Number: 501 with model VECM in generation 5 of 10\n",
            "Template Eval Error: ValueError('Only gave one variable to VECM') in model 501: VECM\n",
            "Model Number: 502 with model VECM in generation 5 of 10\n",
            "Template Eval Error: ValueError('Only gave one variable to VECM') in model 502: VECM\n",
            "Model Number: 503 with model VECM in generation 5 of 10\n",
            "Template Eval Error: ValueError('Only gave one variable to VECM') in model 503: VECM\n",
            "Model Number: 504 with model ARDL in generation 5 of 10\n"
          ]
        },
        {
          "output_type": "stream",
          "name": "stderr",
          "text": [
            "/usr/local/lib/python3.7/dist-packages/statsmodels/genmod/families/family.py:428: RuntimeWarning: divide by zero encountered in true_divide\n",
            "  endog_mu = self._clean(endog / mu)\n",
            "/usr/local/lib/python3.7/dist-packages/statsmodels/genmod/families/family.py:134: RuntimeWarning: divide by zero encountered in true_divide\n",
            "  return 1. / (self.link.deriv(mu)**2 * self.variance(mu))\n"
          ]
        },
        {
          "output_type": "stream",
          "name": "stdout",
          "text": [
            "Template Eval Error: ImportError(\"cannot import name 'ARDL' from 'statsmodels.tsa.api' (/usr/local/lib/python3.7/dist-packages/statsmodels/tsa/api.py)\") in model 504: ARDL\n",
            "Model Number: 505 with model ARDL in generation 5 of 10\n",
            "Template Eval Error: ImportError(\"cannot import name 'ARDL' from 'statsmodels.tsa.api' (/usr/local/lib/python3.7/dist-packages/statsmodels/tsa/api.py)\") in model 505: ARDL\n",
            "Model Number: 506 with model ARDL in generation 5 of 10\n",
            "Template Eval Error: ValueError(\"regression_type='User' but future_regressor not supplied\") in model 506: ARDL\n",
            "Model Number: 507 with model ARDL in generation 5 of 10\n",
            "Template Eval Error: ImportError(\"cannot import name 'ARDL' from 'statsmodels.tsa.api' (/usr/local/lib/python3.7/dist-packages/statsmodels/tsa/api.py)\") in model 507: ARDL\n",
            "Model Number: 508 with model Theta in generation 5 of 10\n",
            "Template Eval Error: ModuleNotFoundError(\"No module named 'statsmodels.tsa.forecasting'\") in model 508: Theta\n",
            "Model Number: 509 with model Theta in generation 5 of 10\n",
            "Template Eval Error: ModuleNotFoundError(\"No module named 'statsmodels.tsa.forecasting'\") in model 509: Theta\n",
            "Model Number: 510 with model Theta in generation 5 of 10\n",
            "Template Eval Error: Exception('Transformer STLFilter failed on fit') in model 510: Theta\n",
            "Model Number: 511 with model Theta in generation 5 of 10\n",
            "Template Eval Error: ModuleNotFoundError(\"No module named 'statsmodels.tsa.forecasting'\") in model 511: Theta\n",
            "New Generation: 6 of 10\n",
            "Model Number: 512 with model NVAR in generation 6 of 10\n",
            "Model Number: 513 with model NVAR in generation 6 of 10\n",
            "Model Number: 514 with model NVAR in generation 6 of 10\n",
            "Model Number: 515 with model NVAR in generation 6 of 10\n",
            "Model Number: 516 with model UnivariateMotif in generation 6 of 10\n",
            "Model Number: 517 with model UnivariateMotif in generation 6 of 10\n",
            "Model Number: 518 with model UnivariateMotif in generation 6 of 10\n",
            "Model Number: 519 with model UnivariateMotif in generation 6 of 10\n",
            "Model Number: 520 with model MultivariateMotif in generation 6 of 10\n",
            "Model Number: 521 with model MultivariateMotif in generation 6 of 10\n",
            "Model Number: 522 with model MultivariateMotif in generation 6 of 10\n",
            "Model Number: 523 with model MultivariateMotif in generation 6 of 10\n",
            "Model Number: 524 with model UnobservedComponents in generation 6 of 10\n",
            "Model Number: 525 with model UnobservedComponents in generation 6 of 10\n",
            "Model Number: 526 with model UnobservedComponents in generation 6 of 10\n",
            "Model Number: 527 with model ConstantNaive in generation 6 of 10\n",
            "Model Number: 528 with model ConstantNaive in generation 6 of 10\n",
            "Model Number: 529 with model ConstantNaive in generation 6 of 10\n",
            "Model Number: 530 with model MultivariateRegression in generation 6 of 10\n",
            "Template Eval Error: ValueError(\"regression_type='User' but not future_regressor supplied.\") in model 530: MultivariateRegression\n",
            "Model Number: 531 with model MultivariateRegression in generation 6 of 10\n",
            "Template Eval Error: ValueError(\"regression_type='User' but not future_regressor supplied.\") in model 531: MultivariateRegression\n",
            "Model Number: 532 with model MultivariateRegression in generation 6 of 10\n",
            "Template Eval Error: ValueError(\"regression_type='User' but not future_regressor supplied.\") in model 532: MultivariateRegression\n",
            "Model Number: 533 with model MultivariateRegression in generation 6 of 10\n",
            "Template Eval Error: ValueError(\"regression_type='User' but not future_regressor supplied.\") in model 533: MultivariateRegression\n",
            "Model Number: 534 with model AverageValueNaive in generation 6 of 10\n",
            "Model Number: 535 with model AverageValueNaive in generation 6 of 10\n",
            "Model Number: 536 with model AverageValueNaive in generation 6 of 10\n",
            "Model Number: 537 with model LastValueNaive in generation 6 of 10\n",
            "Model Number: 538 with model LastValueNaive in generation 6 of 10\n",
            "Model Number: 539 with model LastValueNaive in generation 6 of 10\n",
            "Model Number: 540 with model GLS in generation 6 of 10\n",
            "Model Number: 541 with model GLS in generation 6 of 10\n",
            "Model Number: 542 with model GLS in generation 6 of 10\n",
            "Model Number: 543 with model DatepartRegression in generation 6 of 10\n",
            "Model Number: 544 with model DatepartRegression in generation 6 of 10\n",
            "Model Number: 545 with model DatepartRegression in generation 6 of 10\n"
          ]
        },
        {
          "output_type": "stream",
          "name": "stderr",
          "text": [
            "/usr/local/lib/python3.7/dist-packages/sklearn/linear_model/_coordinate_descent.py:648: ConvergenceWarning: Objective did not converge. You might want to increase the number of iterations, check the scale of the features or consider increasing regularisation. Duality gap: 7.421e+00, tolerance: 1.095e-02\n",
            "  coef_, l1_reg, l2_reg, X, y, max_iter, tol, rng, random, positive\n"
          ]
        },
        {
          "output_type": "stream",
          "name": "stdout",
          "text": [
            "Model Number: 546 with model WindowRegression in generation 6 of 10\n",
            "Model Number: 547 with model WindowRegression in generation 6 of 10\n",
            "Model Number: 548 with model WindowRegression in generation 6 of 10\n"
          ]
        },
        {
          "output_type": "stream",
          "name": "stderr",
          "text": [
            "[Parallel(n_jobs=-2)]: Using backend SequentialBackend with 1 concurrent workers.\n"
          ]
        },
        {
          "output_type": "stream",
          "name": "stdout",
          "text": [
            "Model Number: 549 with model ETS in generation 6 of 10\n",
            "ETS error TypeError(\"__init__() got an unexpected keyword argument 'damped_trend'\")\n",
            "Model Number: 550 with model ETS in generation 6 of 10\n",
            "ETS error TypeError(\"__init__() got an unexpected keyword argument 'damped_trend'\")\n"
          ]
        },
        {
          "output_type": "stream",
          "name": "stderr",
          "text": [
            "[Parallel(n_jobs=-2)]: Done 300 out of 300 | elapsed:    0.3s finished\n",
            "[Parallel(n_jobs=1)]: Using backend SequentialBackend with 1 concurrent workers.\n",
            "[Parallel(n_jobs=1)]: Done 300 out of 300 | elapsed:    0.0s finished\n"
          ]
        },
        {
          "output_type": "stream",
          "name": "stdout",
          "text": [
            "Model Number: 551 with model ETS in generation 6 of 10\n",
            "ETS error TypeError(\"__init__() got an unexpected keyword argument 'damped_trend'\")\n",
            "Model Number: 552 with model ETS in generation 6 of 10\n",
            "ETS error TypeError(\"__init__() got an unexpected keyword argument 'damped_trend'\")\n",
            "Model Number: 553 with model SeasonalNaive in generation 6 of 10\n",
            "Model Number: 554 with model SeasonalNaive in generation 6 of 10\n",
            "Model Number: 555 with model SeasonalNaive in generation 6 of 10\n",
            "Model Number: 556 with model SeasonalNaive in generation 6 of 10\n",
            "Model Number: 557 with model FBProphet in generation 6 of 10\n"
          ]
        },
        {
          "output_type": "stream",
          "name": "stderr",
          "text": [
            "INFO:fbprophet:Disabling yearly seasonality. Run prophet with yearly_seasonality=True to override this.\n",
            "INFO:fbprophet:Disabling daily seasonality. Run prophet with daily_seasonality=True to override this.\n",
            "INFO:fbprophet:n_changepoints greater than number of observations. Using 15.\n",
            "INFO:fbprophet:Disabling yearly seasonality. Run prophet with yearly_seasonality=True to override this.\n",
            "INFO:fbprophet:Disabling daily seasonality. Run prophet with daily_seasonality=True to override this.\n",
            "INFO:fbprophet:n_changepoints greater than number of observations. Using 15.\n"
          ]
        },
        {
          "output_type": "stream",
          "name": "stdout",
          "text": [
            "Model Number: 558 with model FBProphet in generation 6 of 10\n"
          ]
        },
        {
          "output_type": "stream",
          "name": "stderr",
          "text": [
            "INFO:fbprophet:Disabling yearly seasonality. Run prophet with yearly_seasonality=True to override this.\n",
            "INFO:fbprophet:Disabling daily seasonality. Run prophet with daily_seasonality=True to override this.\n"
          ]
        },
        {
          "output_type": "stream",
          "name": "stdout",
          "text": [
            "Model Number: 559 with model FBProphet in generation 6 of 10\n"
          ]
        },
        {
          "output_type": "stream",
          "name": "stderr",
          "text": [
            "INFO:fbprophet:Disabling yearly seasonality. Run prophet with yearly_seasonality=True to override this.\n",
            "INFO:fbprophet:Disabling daily seasonality. Run prophet with daily_seasonality=True to override this.\n"
          ]
        },
        {
          "output_type": "stream",
          "name": "stdout",
          "text": [
            "Model Number: 560 with model FBProphet in generation 6 of 10\n",
            "Model Number: 561 with model SectionalMotif in generation 6 of 10\n",
            "Model Number: 562 with model SectionalMotif in generation 6 of 10\n",
            "Model Number: 563 with model SectionalMotif in generation 6 of 10\n",
            "Model Number: 564 with model SectionalMotif in generation 6 of 10\n",
            "Model Number: 565 with model GLM in generation 6 of 10\n",
            "Model Number: 566 with model GLM in generation 6 of 10\n",
            "Template Eval Error: ValueError('NaN, inf or invalid value detected in weights, estimation infeasible.') in model 566: GLM\n",
            "Model Number: 567 with model GLM in generation 6 of 10\n",
            "Template Eval Error: TypeError(\"ufunc 'isfinite' not supported for the input types, and the inputs could not be safely coerced to any supported types according to the casting rule ''safe''\") in model 567: GLM\n",
            "Model Number: 568 with model GLM in generation 6 of 10\n"
          ]
        },
        {
          "output_type": "stream",
          "name": "stderr",
          "text": [
            "/usr/local/lib/python3.7/dist-packages/statsmodels/genmod/families/links.py:190: RuntimeWarning: overflow encountered in exp\n",
            "  t = np.exp(-z)\n",
            "/usr/local/lib/python3.7/dist-packages/statsmodels/genmod/families/family.py:889: RuntimeWarning: divide by zero encountered in true_divide\n",
            "  endog_mu = self._clean(endog / mu)\n",
            "/usr/local/lib/python3.7/dist-packages/statsmodels/genmod/families/family.py:1227: RuntimeWarning: invalid value encountered in log\n",
            "  resid_dev -= endog_alpha * np.log(endog_alpha / mu_alpha)\n",
            "/usr/local/lib/python3.7/dist-packages/statsmodels/genmod/families/links.py:521: RuntimeWarning: overflow encountered in exp\n",
            "  return np.exp(z)\n",
            "/usr/local/lib/python3.7/dist-packages/statsmodels/genmod/families/family.py:1227: RuntimeWarning: divide by zero encountered in log\n",
            "  resid_dev -= endog_alpha * np.log(endog_alpha / mu_alpha)\n",
            "/usr/local/lib/python3.7/dist-packages/numpy/core/fromnumeric.py:86: RuntimeWarning: invalid value encountered in reduce\n",
            "  return ufunc.reduce(obj, axis, dtype, out, **passkwargs)\n",
            "/usr/local/lib/python3.7/dist-packages/statsmodels/genmod/families/family.py:134: RuntimeWarning: invalid value encountered in multiply\n",
            "  return 1. / (self.link.deriv(mu)**2 * self.variance(mu))\n",
            "/usr/local/lib/python3.7/dist-packages/statsmodels/genmod/generalized_linear_model.py:1163: RuntimeWarning: invalid value encountered in multiply\n",
            "  - self._offset_exposure)\n",
            "/usr/local/lib/python3.7/dist-packages/statsmodels/genmod/families/family.py:1440: RuntimeWarning: invalid value encountered in log\n",
            "  endog * np.log(endog / mu) + (mu - endog))\n"
          ]
        },
        {
          "output_type": "stream",
          "name": "stdout",
          "text": [
            "Model Number: 569 with model VAR in generation 6 of 10\n",
            "Template Eval Error: ValueError('Only gave one variable to VAR') in model 569: VAR\n",
            "Model Number: 570 with model VAR in generation 6 of 10\n",
            "Template Eval Error: ValueError('Only gave one variable to VAR') in model 570: VAR\n",
            "Model Number: 571 with model VAR in generation 6 of 10\n",
            "Template Eval Error: ValueError('Only gave one variable to VAR') in model 571: VAR\n",
            "Model Number: 572 with model VAR in generation 6 of 10\n",
            "Template Eval Error: ValueError('Only gave one variable to VAR') in model 572: VAR\n",
            "Model Number: 573 with model VECM in generation 6 of 10\n",
            "Template Eval Error: ValueError('Only gave one variable to VECM') in model 573: VECM\n",
            "Model Number: 574 with model VECM in generation 6 of 10\n",
            "Template Eval Error: ValueError('Only gave one variable to VECM') in model 574: VECM\n",
            "Model Number: 575 with model VECM in generation 6 of 10\n",
            "Template Eval Error: ValueError('Only gave one variable to VECM') in model 575: VECM\n",
            "Model Number: 576 with model VECM in generation 6 of 10\n",
            "Template Eval Error: ValueError('Only gave one variable to VECM') in model 576: VECM\n",
            "Model Number: 577 with model ARDL in generation 6 of 10\n",
            "Template Eval Error: ImportError(\"cannot import name 'ARDL' from 'statsmodels.tsa.api' (/usr/local/lib/python3.7/dist-packages/statsmodels/tsa/api.py)\") in model 577: ARDL\n",
            "Model Number: 578 with model ARDL in generation 6 of 10\n",
            "Template Eval Error: ValueError(\"regression_type='User' but future_regressor not supplied\") in model 578: ARDL\n",
            "Model Number: 579 with model ARDL in generation 6 of 10\n",
            "Template Eval Error: ValueError(\"regression_type='User' but future_regressor not supplied\") in model 579: ARDL\n",
            "Model Number: 580 with model ARDL in generation 6 of 10\n",
            "Template Eval Error: ImportError(\"cannot import name 'ARDL' from 'statsmodels.tsa.api' (/usr/local/lib/python3.7/dist-packages/statsmodels/tsa/api.py)\") in model 580: ARDL\n",
            "Model Number: 581 with model Theta in generation 6 of 10\n",
            "Template Eval Error: ModuleNotFoundError(\"No module named 'statsmodels.tsa.forecasting'\") in model 581: Theta\n",
            "Model Number: 582 with model Theta in generation 6 of 10\n",
            "Template Eval Error: ModuleNotFoundError(\"No module named 'statsmodels.tsa.forecasting'\") in model 582: Theta\n",
            "Model Number: 583 with model Theta in generation 6 of 10\n",
            "Template Eval Error: ModuleNotFoundError(\"No module named 'statsmodels.tsa.forecasting'\") in model 583: Theta\n",
            "Model Number: 584 with model Theta in generation 6 of 10\n",
            "Template Eval Error: ModuleNotFoundError(\"No module named 'statsmodels.tsa.forecasting'\") in model 584: Theta\n",
            "New Generation: 7 of 10\n",
            "Model Number: 585 with model NVAR in generation 7 of 10\n",
            "Model Number: 586 with model NVAR in generation 7 of 10\n",
            "Model Number: 587 with model NVAR in generation 7 of 10\n",
            "Model Number: 588 with model NVAR in generation 7 of 10\n",
            "Model Number: 589 with model UnivariateMotif in generation 7 of 10\n",
            "Model Number: 590 with model UnivariateMotif in generation 7 of 10\n",
            "Model Number: 591 with model UnivariateMotif in generation 7 of 10\n",
            "Model Number: 592 with model UnivariateMotif in generation 7 of 10\n",
            "Model Number: 593 with model ConstantNaive in generation 7 of 10\n",
            "Model Number: 594 with model ConstantNaive in generation 7 of 10\n",
            "Model Number: 595 with model ConstantNaive in generation 7 of 10\n",
            "Model Number: 596 with model MultivariateMotif in generation 7 of 10\n",
            "Template Eval Error: ValueError('Model MultivariateMotif returned NaN for one or more series. fail_on_forecast_nan=True') in model 596: MultivariateMotif\n",
            "Model Number: 597 with model MultivariateMotif in generation 7 of 10\n",
            "Model Number: 598 with model MultivariateMotif in generation 7 of 10\n",
            "Model Number: 599 with model MultivariateMotif in generation 7 of 10\n",
            "Model Number: 600 with model UnobservedComponents in generation 7 of 10\n",
            "Model Number: 601 with model UnobservedComponents in generation 7 of 10\n",
            "Template Eval Error: ValueError('Provided exogenous values are not of the appropriate shape. Required (3, 1), got (3,).') in model 601: UnobservedComponents\n",
            "Model Number: 602 with model UnobservedComponents in generation 7 of 10\n",
            "Model Number: 603 with model MultivariateRegression in generation 7 of 10\n",
            "Template Eval Error: ValueError(\"regression_type='User' but not future_regressor supplied.\") in model 603: MultivariateRegression\n",
            "Model Number: 604 with model MultivariateRegression in generation 7 of 10\n",
            "Model Number: 605 with model MultivariateRegression in generation 7 of 10\n",
            "Template Eval Error: ValueError(\"regression_type='User' but not future_regressor supplied.\") in model 605: MultivariateRegression\n",
            "Model Number: 606 with model MultivariateRegression in generation 7 of 10\n"
          ]
        },
        {
          "output_type": "stream",
          "name": "stderr",
          "text": [
            "[Parallel(n_jobs=-2)]: Using backend SequentialBackend with 1 concurrent workers.\n"
          ]
        },
        {
          "output_type": "stream",
          "name": "stdout",
          "text": [
            "Model Number: 607 with model AverageValueNaive in generation 7 of 10\n"
          ]
        },
        {
          "output_type": "stream",
          "name": "stderr",
          "text": [
            "[Parallel(n_jobs=-2)]: Done 200 out of 200 | elapsed:    0.2s finished\n",
            "[Parallel(n_jobs=1)]: Using backend SequentialBackend with 1 concurrent workers.\n",
            "[Parallel(n_jobs=1)]: Done 200 out of 200 | elapsed:    0.0s finished\n",
            "[Parallel(n_jobs=1)]: Using backend SequentialBackend with 1 concurrent workers.\n",
            "[Parallel(n_jobs=1)]: Done 200 out of 200 | elapsed:    0.0s finished\n",
            "[Parallel(n_jobs=1)]: Using backend SequentialBackend with 1 concurrent workers.\n",
            "[Parallel(n_jobs=1)]: Done 200 out of 200 | elapsed:    0.0s finished\n"
          ]
        },
        {
          "output_type": "stream",
          "name": "stdout",
          "text": [
            "Model Number: 608 with model AverageValueNaive in generation 7 of 10\n",
            "Model Number: 609 with model AverageValueNaive in generation 7 of 10\n",
            "Model Number: 610 with model DatepartRegression in generation 7 of 10\n",
            "Template Eval Error: ValueError('Model DatepartRegression returned NaN for one or more series. fail_on_forecast_nan=True') in model 610: DatepartRegression\n",
            "Model Number: 611 with model DatepartRegression in generation 7 of 10\n",
            "Template Eval Error: ValueError(\"regression_type='User' but no future_regressor passed\") in model 611: DatepartRegression\n",
            "Model Number: 612 with model DatepartRegression in generation 7 of 10\n",
            "Model Number: 613 with model LastValueNaive in generation 7 of 10\n",
            "Model Number: 614 with model LastValueNaive in generation 7 of 10\n",
            "Model Number: 615 with model LastValueNaive in generation 7 of 10\n"
          ]
        },
        {
          "output_type": "stream",
          "name": "stderr",
          "text": [
            "/usr/local/lib/python3.7/dist-packages/sklearn/neighbors/_regression.py:470: UserWarning: One or more samples have no neighbors within specified radius; predicting NaN.\n",
            "  warnings.warn(empty_warning_msg)\n"
          ]
        },
        {
          "output_type": "stream",
          "name": "stdout",
          "text": [
            "Model Number: 616 with model GLS in generation 7 of 10\n",
            "Model Number: 617 with model GLS in generation 7 of 10\n",
            "Model Number: 618 with model GLS in generation 7 of 10\n",
            "Model Number: 619 with model WindowRegression in generation 7 of 10\n",
            "Model Number: 620 with model WindowRegression in generation 7 of 10\n",
            "Model Number: 621 with model WindowRegression in generation 7 of 10\n",
            "[LibLinear][LibLinear][LibLinear][LibLinear][LibLinear][LibLinear][LibLinear][LibLinear][LibLinear][LibLinear][LibLinear][LibLinear][LibLinear][LibLinear][LibLinear][LibLinear][LibLinear][LibLinear][LibLinear][LibLinear][LibLinear][LibLinear][LibLinear][LibLinear][LibLinear][LibLinear][LibLinear]Model Number: 622 with model ETS in generation 7 of 10\n",
            "ETS error TypeError(\"__init__() got an unexpected keyword argument 'damped_trend'\")\n"
          ]
        },
        {
          "output_type": "stream",
          "name": "stderr",
          "text": [
            "/usr/local/lib/python3.7/dist-packages/sklearn/svm/_base.py:1208: ConvergenceWarning: Liblinear failed to converge, increase the number of iterations.\n",
            "  ConvergenceWarning,\n"
          ]
        },
        {
          "output_type": "stream",
          "name": "stdout",
          "text": [
            "Model Number: 623 with model ETS in generation 7 of 10\n",
            "ETS error TypeError(\"__init__() got an unexpected keyword argument 'damped_trend'\")\n",
            "Model Number: 624 with model ETS in generation 7 of 10\n",
            "ETS error TypeError(\"__init__() got an unexpected keyword argument 'damped_trend'\")\n",
            "Model Number: 625 with model ETS in generation 7 of 10\n",
            "ETS error TypeError(\"__init__() got an unexpected keyword argument 'damped_trend'\")\n",
            "ETS failed on Close with ValueError('endog must be strictly positive when using multiplicative trend or seasonal components.')\n",
            "Model Number: 626 with model SeasonalNaive in generation 7 of 10\n",
            "Model Number: 627 with model SeasonalNaive in generation 7 of 10\n",
            "Model Number: 628 with model SeasonalNaive in generation 7 of 10\n",
            "Model Number: 629 with model SeasonalNaive in generation 7 of 10\n",
            "Model Number: 630 with model FBProphet in generation 7 of 10\n"
          ]
        },
        {
          "output_type": "stream",
          "name": "stderr",
          "text": [
            "INFO:fbprophet:Disabling yearly seasonality. Run prophet with yearly_seasonality=True to override this.\n",
            "INFO:fbprophet:Disabling daily seasonality. Run prophet with daily_seasonality=True to override this.\n",
            "INFO:fbprophet:Disabling yearly seasonality. Run prophet with yearly_seasonality=True to override this.\n",
            "INFO:fbprophet:Disabling daily seasonality. Run prophet with daily_seasonality=True to override this.\n"
          ]
        },
        {
          "output_type": "stream",
          "name": "stdout",
          "text": [
            "Model Number: 631 with model FBProphet in generation 7 of 10\n"
          ]
        },
        {
          "output_type": "stream",
          "name": "stderr",
          "text": [
            "INFO:fbprophet:Disabling yearly seasonality. Run prophet with yearly_seasonality=True to override this.\n",
            "INFO:fbprophet:Disabling daily seasonality. Run prophet with daily_seasonality=True to override this.\n"
          ]
        },
        {
          "output_type": "stream",
          "name": "stdout",
          "text": [
            "Model Number: 632 with model FBProphet in generation 7 of 10\n"
          ]
        },
        {
          "output_type": "stream",
          "name": "stderr",
          "text": [
            "INFO:fbprophet:Disabling yearly seasonality. Run prophet with yearly_seasonality=True to override this.\n",
            "INFO:fbprophet:Disabling daily seasonality. Run prophet with daily_seasonality=True to override this.\n"
          ]
        },
        {
          "output_type": "stream",
          "name": "stdout",
          "text": [
            "Model Number: 633 with model FBProphet in generation 7 of 10\n",
            "Model Number: 634 with model SectionalMotif in generation 7 of 10\n",
            "Model Number: 635 with model SectionalMotif in generation 7 of 10\n",
            "Model Number: 636 with model SectionalMotif in generation 7 of 10\n",
            "Template Eval Error: ValueError('kth(=20) out of bounds (3)') in model 636: SectionalMotif\n",
            "Model Number: 637 with model SectionalMotif in generation 7 of 10\n",
            "Model Number: 638 with model GLM in generation 7 of 10\n",
            "Model Number: 639 with model GLM in generation 7 of 10\n",
            "Model Number: 640 with model GLM in generation 7 of 10\n",
            "Template Eval Error: ValueError('The first guess on the deviance function returned a nan.  This could be a boundary  problem and should be reported.') in model 640: GLM\n",
            "Model Number: 641 with model GLM in generation 7 of 10\n",
            "Model Number: 642 with model VAR in generation 7 of 10\n",
            "Template Eval Error: ValueError('Only gave one variable to VAR') in model 642: VAR\n",
            "Model Number: 643 with model VAR in generation 7 of 10\n",
            "Template Eval Error: ValueError('Only gave one variable to VAR') in model 643: VAR\n",
            "Model Number: 644 with model VAR in generation 7 of 10\n",
            "Template Eval Error: ValueError('Only gave one variable to VAR') in model 644: VAR\n",
            "Model Number: 645 with model VECM in generation 7 of 10\n"
          ]
        },
        {
          "output_type": "stream",
          "name": "stderr",
          "text": [
            "/usr/local/lib/python3.7/dist-packages/statsmodels/genmod/families/links.py:190: RuntimeWarning: overflow encountered in exp\n",
            "  t = np.exp(-z)\n",
            "/usr/local/lib/python3.7/dist-packages/statsmodels/genmod/families/family.py:889: RuntimeWarning: divide by zero encountered in true_divide\n",
            "  endog_mu = self._clean(endog / mu)\n",
            "/usr/local/lib/python3.7/dist-packages/statsmodels/genmod/families/family.py:1440: RuntimeWarning: invalid value encountered in log\n",
            "  endog * np.log(endog / mu) + (mu - endog))\n"
          ]
        },
        {
          "output_type": "stream",
          "name": "stdout",
          "text": [
            "Template Eval Error: ValueError('Only gave one variable to VECM') in model 645: VECM\n",
            "Model Number: 646 with model VECM in generation 7 of 10\n",
            "Template Eval Error: ValueError('Only gave one variable to VECM') in model 646: VECM\n",
            "Model Number: 647 with model VECM in generation 7 of 10\n",
            "Template Eval Error: ValueError('Only gave one variable to VECM') in model 647: VECM\n",
            "Model Number: 648 with model VECM in generation 7 of 10\n",
            "Template Eval Error: ValueError('Only gave one variable to VECM') in model 648: VECM\n",
            "Model Number: 649 with model ARDL in generation 7 of 10\n",
            "Template Eval Error: ImportError(\"cannot import name 'ARDL' from 'statsmodels.tsa.api' (/usr/local/lib/python3.7/dist-packages/statsmodels/tsa/api.py)\") in model 649: ARDL\n",
            "Model Number: 650 with model ARDL in generation 7 of 10\n",
            "Template Eval Error: ImportError(\"cannot import name 'ARDL' from 'statsmodels.tsa.api' (/usr/local/lib/python3.7/dist-packages/statsmodels/tsa/api.py)\") in model 650: ARDL\n",
            "Model Number: 651 with model ARDL in generation 7 of 10\n",
            "Template Eval Error: ImportError(\"cannot import name 'ARDL' from 'statsmodels.tsa.api' (/usr/local/lib/python3.7/dist-packages/statsmodels/tsa/api.py)\") in model 651: ARDL\n",
            "Model Number: 652 with model ARDL in generation 7 of 10\n",
            "Template Eval Error: ImportError(\"cannot import name 'ARDL' from 'statsmodels.tsa.api' (/usr/local/lib/python3.7/dist-packages/statsmodels/tsa/api.py)\") in model 652: ARDL\n",
            "Model Number: 653 with model Theta in generation 7 of 10\n",
            "Template Eval Error: ModuleNotFoundError(\"No module named 'statsmodels.tsa.forecasting'\") in model 653: Theta\n",
            "Model Number: 654 with model Theta in generation 7 of 10\n",
            "Template Eval Error: ModuleNotFoundError(\"No module named 'statsmodels.tsa.forecasting'\") in model 654: Theta\n",
            "Model Number: 655 with model Theta in generation 7 of 10\n",
            "Template Eval Error: ModuleNotFoundError(\"No module named 'statsmodels.tsa.forecasting'\") in model 655: Theta\n",
            "Model Number: 656 with model Theta in generation 7 of 10\n",
            "Template Eval Error: ModuleNotFoundError(\"No module named 'statsmodels.tsa.forecasting'\") in model 656: Theta\n",
            "New Generation: 8 of 10\n",
            "Model Number: 657 with model NVAR in generation 8 of 10\n",
            "Model Number: 658 with model NVAR in generation 8 of 10\n",
            "Model Number: 659 with model NVAR in generation 8 of 10\n",
            "Model Number: 660 with model NVAR in generation 8 of 10\n",
            "Model Number: 661 with model UnivariateMotif in generation 8 of 10\n",
            "Model Number: 662 with model UnivariateMotif in generation 8 of 10\n",
            "Model Number: 663 with model UnivariateMotif in generation 8 of 10\n",
            "Model Number: 664 with model UnivariateMotif in generation 8 of 10\n",
            "Model Number: 665 with model ConstantNaive in generation 8 of 10\n",
            "Model Number: 666 with model ConstantNaive in generation 8 of 10\n",
            "Model Number: 667 with model ConstantNaive in generation 8 of 10\n",
            "Model Number: 668 with model WindowRegression in generation 8 of 10\n",
            "Model Number: 669 with model WindowRegression in generation 8 of 10\n",
            "Model Number: 670 with model WindowRegression in generation 8 of 10\n",
            "Template Eval Error: ValueError(\"regression_type='User' but no future_regressor passed\") in model 670: WindowRegression\n",
            "Model Number: 671 with model MultivariateMotif in generation 8 of 10\n",
            "Model Number: 672 with model MultivariateMotif in generation 8 of 10\n",
            "Model Number: 673 with model MultivariateMotif in generation 8 of 10\n",
            "Model Number: 674 with model MultivariateMotif in generation 8 of 10\n",
            "Model Number: 675 with model UnobservedComponents in generation 8 of 10\n",
            "Template Eval Error: ValueError(\"regression_type='User' but no future_regressor supplied\") in model 675: UnobservedComponents\n",
            "Model Number: 676 with model UnobservedComponents in generation 8 of 10\n",
            "Template Eval Error: ValueError(\"regression_type='User' but no future_regressor supplied\") in model 676: UnobservedComponents\n",
            "Model Number: 677 with model UnobservedComponents in generation 8 of 10\n",
            "Model Number: 678 with model MultivariateRegression in generation 8 of 10\n"
          ]
        },
        {
          "output_type": "stream",
          "name": "stderr",
          "text": [
            "[Parallel(n_jobs=-2)]: Using backend SequentialBackend with 1 concurrent workers.\n",
            "[Parallel(n_jobs=-2)]: Done 200 out of 200 | elapsed:    0.2s finished\n",
            "[Parallel(n_jobs=1)]: Using backend SequentialBackend with 1 concurrent workers.\n",
            "[Parallel(n_jobs=1)]: Done 200 out of 200 | elapsed:    0.0s finished\n",
            "[Parallel(n_jobs=1)]: Using backend SequentialBackend with 1 concurrent workers.\n",
            "[Parallel(n_jobs=1)]: Done 200 out of 200 | elapsed:    0.0s finished\n",
            "[Parallel(n_jobs=1)]: Using backend SequentialBackend with 1 concurrent workers.\n",
            "[Parallel(n_jobs=1)]: Done 200 out of 200 | elapsed:    0.0s finished\n"
          ]
        },
        {
          "output_type": "stream",
          "name": "stdout",
          "text": [
            "Model Number: 679 with model MultivariateRegression in generation 8 of 10\n",
            "Template Eval Error: LightGBMError('[tweedie]: at least one target label is negative') in model 679: MultivariateRegression\n",
            "Model Number: 680 with model MultivariateRegression in generation 8 of 10\n"
          ]
        },
        {
          "output_type": "stream",
          "name": "stderr",
          "text": [
            "[Parallel(n_jobs=-2)]: Using backend SequentialBackend with 1 concurrent workers.\n"
          ]
        },
        {
          "output_type": "stream",
          "name": "stdout",
          "text": [
            "Model Number: 681 with model MultivariateRegression in generation 8 of 10\n",
            "Template Eval Error: LightGBMError('[tweedie]: at least one target label is negative') in model 681: MultivariateRegression\n",
            "Model Number: 682 with model AverageValueNaive in generation 8 of 10\n"
          ]
        },
        {
          "output_type": "stream",
          "name": "stderr",
          "text": [
            "[Parallel(n_jobs=-2)]: Done 200 out of 200 | elapsed:    0.2s finished\n",
            "[Parallel(n_jobs=1)]: Using backend SequentialBackend with 1 concurrent workers.\n",
            "[Parallel(n_jobs=1)]: Done 200 out of 200 | elapsed:    0.0s finished\n",
            "[Parallel(n_jobs=1)]: Using backend SequentialBackend with 1 concurrent workers.\n",
            "[Parallel(n_jobs=1)]: Done 200 out of 200 | elapsed:    0.0s finished\n",
            "[Parallel(n_jobs=1)]: Using backend SequentialBackend with 1 concurrent workers.\n",
            "[Parallel(n_jobs=1)]: Done 200 out of 200 | elapsed:    0.0s finished\n"
          ]
        },
        {
          "output_type": "stream",
          "name": "stdout",
          "text": [
            "Model Number: 683 with model AverageValueNaive in generation 8 of 10\n",
            "Model Number: 684 with model AverageValueNaive in generation 8 of 10\n",
            "Model Number: 685 with model SectionalMotif in generation 8 of 10\n",
            "Model Number: 686 with model SectionalMotif in generation 8 of 10\n",
            "Model Number: 687 with model SectionalMotif in generation 8 of 10\n",
            "Template Eval Error: ValueError('kth(=10) out of bounds (4)') in model 687: SectionalMotif\n",
            "Model Number: 688 with model SectionalMotif in generation 8 of 10\n",
            "Model Number: 689 with model DatepartRegression in generation 8 of 10\n",
            "Epoch 1/50\n",
            "6/6 [==============================] - 5s 121ms/step - loss: 651.3146 - val_loss: 580.2471\n",
            "Epoch 2/50\n",
            "6/6 [==============================] - 0s 24ms/step - loss: 614.8639 - val_loss: 568.2398\n",
            "Epoch 3/50\n",
            "6/6 [==============================] - 0s 21ms/step - loss: 603.0726 - val_loss: 564.1634\n",
            "Epoch 4/50\n",
            "6/6 [==============================] - 0s 24ms/step - loss: 595.1629 - val_loss: 559.8862\n",
            "Epoch 5/50\n",
            "6/6 [==============================] - 0s 21ms/step - loss: 593.0721 - val_loss: 556.9394\n",
            "Epoch 6/50\n",
            "6/6 [==============================] - 0s 19ms/step - loss: 593.5206 - val_loss: 554.9626\n",
            "Epoch 7/50\n",
            "6/6 [==============================] - 0s 21ms/step - loss: 582.6434 - val_loss: 553.1506\n",
            "Epoch 8/50\n",
            "6/6 [==============================] - 0s 22ms/step - loss: 584.8651 - val_loss: 553.1393\n",
            "Epoch 9/50\n",
            "6/6 [==============================] - 0s 20ms/step - loss: 566.5957 - val_loss: 553.1340\n",
            "Epoch 10/50\n",
            "6/6 [==============================] - 0s 20ms/step - loss: 578.4464 - val_loss: 553.2311\n",
            "Epoch 11/50\n",
            "6/6 [==============================] - 0s 18ms/step - loss: 576.5103 - val_loss: 555.0948\n",
            "Epoch 12/50\n",
            "6/6 [==============================] - 0s 17ms/step - loss: 573.2740 - val_loss: 556.4656\n",
            "Epoch 13/50\n",
            "6/6 [==============================] - 0s 19ms/step - loss: 571.9749 - val_loss: 557.8178\n",
            "Epoch 14/50\n",
            "6/6 [==============================] - 0s 17ms/step - loss: 566.4108 - val_loss: 559.4089\n",
            "Epoch 15/50\n",
            "6/6 [==============================] - 0s 18ms/step - loss: 560.2112 - val_loss: 560.0533\n",
            "Epoch 16/50\n",
            "6/6 [==============================] - 0s 19ms/step - loss: 568.0231 - val_loss: 560.6817\n",
            "Epoch 17/50\n",
            "6/6 [==============================] - 0s 22ms/step - loss: 566.0645 - val_loss: 560.5193\n",
            "Epoch 18/50\n",
            "6/6 [==============================] - 0s 21ms/step - loss: 587.8039 - val_loss: 561.3884\n",
            "Epoch 19/50\n",
            "6/6 [==============================] - 0s 22ms/step - loss: 572.2359 - val_loss: 561.2762\n",
            "Template Eval Error: ValueError('Model DatepartRegression returned NaN for one or more series. fail_on_forecast_nan=True') in model 689: DatepartRegression\n",
            "Model Number: 690 with model DatepartRegression in generation 8 of 10\n",
            "Template Eval Error: ValueError('Failed to convert a NumPy array to a Tensor (Unsupported object type int).') in model 690: DatepartRegression\n",
            "Model Number: 691 with model DatepartRegression in generation 8 of 10\n",
            "Model Number: 692 with model LastValueNaive in generation 8 of 10\n",
            "Model Number: 693 with model LastValueNaive in generation 8 of 10\n",
            "Model Number: 694 with model LastValueNaive in generation 8 of 10\n",
            "Model Number: 695 with model GLS in generation 8 of 10\n",
            "Model Number: 696 with model GLS in generation 8 of 10\n",
            "Model Number: 697 with model GLS in generation 8 of 10\n",
            "Model Number: 698 with model ETS in generation 8 of 10\n",
            "ETS error TypeError(\"__init__() got an unexpected keyword argument 'damped_trend'\")\n",
            "Model Number: 699 with model ETS in generation 8 of 10\n",
            "ETS error TypeError(\"__init__() got an unexpected keyword argument 'damped_trend'\")\n",
            "Model Number: 700 with model ETS in generation 8 of 10\n",
            "ETS error TypeError(\"__init__() got an unexpected keyword argument 'damped_trend'\")\n",
            "Model Number: 701 with model ETS in generation 8 of 10\n",
            "ETS error TypeError(\"__init__() got an unexpected keyword argument 'damped_trend'\")\n",
            "ETS failed on Close with ValueError('endog must be strictly positive when using multiplicative trend or seasonal components.')\n",
            "Model Number: 702 with model SeasonalNaive in generation 8 of 10\n",
            "Model Number: 703 with model SeasonalNaive in generation 8 of 10\n",
            "Model Number: 704 with model SeasonalNaive in generation 8 of 10\n",
            "Model Number: 705 with model SeasonalNaive in generation 8 of 10\n",
            "Model Number: 706 with model GLM in generation 8 of 10\n",
            "Template Eval Error: ValueError('NaN, inf or invalid value detected in weights, estimation infeasible.') in model 706: GLM\n",
            "Model Number: 707 with model GLM in generation 8 of 10\n",
            "Template Eval Error: TypeError(\"ufunc 'isfinite' not supported for the input types, and the inputs could not be safely coerced to any supported types according to the casting rule ''safe''\") in model 707: GLM\n",
            "Model Number: 708 with model GLM in generation 8 of 10\n",
            "Template Eval Error: TypeError(\"ufunc 'isfinite' not supported for the input types, and the inputs could not be safely coerced to any supported types according to the casting rule ''safe''\") in model 708: GLM\n",
            "Model Number: 709 with model GLM in generation 8 of 10\n",
            "Template Eval Error: ValueError('regression_type=user and no future_regressor passed') in model 709: GLM\n",
            "Model Number: 710 with model FBProphet in generation 8 of 10\n"
          ]
        },
        {
          "output_type": "stream",
          "name": "stderr",
          "text": [
            "/usr/local/lib/python3.7/dist-packages/statsmodels/genmod/families/family.py:428: RuntimeWarning: divide by zero encountered in true_divide\n",
            "  endog_mu = self._clean(endog / mu)\n",
            "/usr/local/lib/python3.7/dist-packages/statsmodels/genmod/families/family.py:134: RuntimeWarning: divide by zero encountered in true_divide\n",
            "  return 1. / (self.link.deriv(mu)**2 * self.variance(mu))\n",
            "INFO:fbprophet:Disabling yearly seasonality. Run prophet with yearly_seasonality=True to override this.\n",
            "INFO:fbprophet:Disabling daily seasonality. Run prophet with daily_seasonality=True to override this.\n",
            "INFO:fbprophet:Disabling yearly seasonality. Run prophet with yearly_seasonality=True to override this.\n",
            "INFO:fbprophet:Disabling daily seasonality. Run prophet with daily_seasonality=True to override this.\n",
            "INFO:fbprophet:n_changepoints greater than number of observations. Using 15.\n"
          ]
        },
        {
          "output_type": "stream",
          "name": "stdout",
          "text": [
            "Model Number: 711 with model FBProphet in generation 8 of 10\n"
          ]
        },
        {
          "output_type": "stream",
          "name": "stderr",
          "text": [
            "INFO:fbprophet:Disabling yearly seasonality. Run prophet with yearly_seasonality=True to override this.\n",
            "INFO:fbprophet:Disabling daily seasonality. Run prophet with daily_seasonality=True to override this.\n"
          ]
        },
        {
          "output_type": "stream",
          "name": "stdout",
          "text": [
            "Model Number: 712 with model FBProphet in generation 8 of 10\n"
          ]
        },
        {
          "output_type": "stream",
          "name": "stderr",
          "text": [
            "INFO:fbprophet:Disabling yearly seasonality. Run prophet with yearly_seasonality=True to override this.\n",
            "INFO:fbprophet:Disabling daily seasonality. Run prophet with daily_seasonality=True to override this.\n",
            "INFO:fbprophet:n_changepoints greater than number of observations. Using 19.\n"
          ]
        },
        {
          "output_type": "stream",
          "name": "stdout",
          "text": [
            "Model Number: 713 with model FBProphet in generation 8 of 10\n",
            "Model Number: 714 with model VAR in generation 8 of 10\n",
            "Template Eval Error: ValueError('Only gave one variable to VAR') in model 714: VAR\n",
            "Model Number: 715 with model VAR in generation 8 of 10\n",
            "Template Eval Error: ValueError('Only gave one variable to VAR') in model 715: VAR\n",
            "Model Number: 716 with model VAR in generation 8 of 10\n",
            "Template Eval Error: ValueError('Only gave one variable to VAR') in model 716: VAR\n",
            "Model Number: 717 with model VAR in generation 8 of 10\n",
            "Template Eval Error: ValueError('Only gave one variable to VAR') in model 717: VAR\n",
            "Model Number: 718 with model VECM in generation 8 of 10\n",
            "Template Eval Error: ValueError('Only gave one variable to VECM') in model 718: VECM\n",
            "Model Number: 719 with model VECM in generation 8 of 10\n",
            "Template Eval Error: ValueError('Only gave one variable to VECM') in model 719: VECM\n",
            "Model Number: 720 with model VECM in generation 8 of 10\n",
            "Template Eval Error: ValueError('Only gave one variable to VECM') in model 720: VECM\n",
            "Model Number: 721 with model VECM in generation 8 of 10\n",
            "Template Eval Error: ValueError('Only gave one variable to VECM') in model 721: VECM\n",
            "Model Number: 722 with model ARDL in generation 8 of 10\n",
            "Template Eval Error: ValueError(\"regression_type='User' but future_regressor not supplied\") in model 722: ARDL\n",
            "Model Number: 723 with model ARDL in generation 8 of 10\n",
            "Template Eval Error: ValueError(\"regression_type='User' but future_regressor not supplied\") in model 723: ARDL\n",
            "Model Number: 724 with model ARDL in generation 8 of 10\n",
            "Template Eval Error: ValueError(\"regression_type='User' but future_regressor not supplied\") in model 724: ARDL\n",
            "Model Number: 725 with model ARDL in generation 8 of 10\n",
            "Template Eval Error: ValueError(\"regression_type='User' but future_regressor not supplied\") in model 725: ARDL\n",
            "Model Number: 726 with model Theta in generation 8 of 10\n",
            "Template Eval Error: ModuleNotFoundError(\"No module named 'statsmodels.tsa.forecasting'\") in model 726: Theta\n",
            "Model Number: 727 with model Theta in generation 8 of 10\n",
            "Template Eval Error: ModuleNotFoundError(\"No module named 'statsmodels.tsa.forecasting'\") in model 727: Theta\n",
            "Model Number: 728 with model Theta in generation 8 of 10\n",
            "Template Eval Error: ModuleNotFoundError(\"No module named 'statsmodels.tsa.forecasting'\") in model 728: Theta\n",
            "Model Number: 729 with model Theta in generation 8 of 10\n",
            "Template Eval Error: ModuleNotFoundError(\"No module named 'statsmodels.tsa.forecasting'\") in model 729: Theta\n",
            "New Generation: 9 of 10\n",
            "Model Number: 730 with model NVAR in generation 9 of 10\n",
            "Model Number: 731 with model NVAR in generation 9 of 10\n",
            "Model Number: 732 with model NVAR in generation 9 of 10\n",
            "Model Number: 733 with model NVAR in generation 9 of 10\n",
            "Model Number: 734 with model UnivariateMotif in generation 9 of 10\n",
            "Model Number: 735 with model UnivariateMotif in generation 9 of 10\n",
            "Model Number: 736 with model UnivariateMotif in generation 9 of 10\n",
            "Model Number: 737 with model UnivariateMotif in generation 9 of 10\n",
            "Model Number: 738 with model ConstantNaive in generation 9 of 10\n",
            "Model Number: 739 with model ConstantNaive in generation 9 of 10\n",
            "Model Number: 740 with model ConstantNaive in generation 9 of 10\n",
            "Model Number: 741 with model WindowRegression in generation 9 of 10\n",
            "Epoch 1/50\n",
            "14/14 [==============================] - 6s 8ms/step - loss: 0.1420\n",
            "Epoch 2/50\n",
            "14/14 [==============================] - 0s 7ms/step - loss: 0.1416\n",
            "Epoch 3/50\n",
            "14/14 [==============================] - 0s 7ms/step - loss: 0.1413\n",
            "Epoch 4/50\n",
            "14/14 [==============================] - 0s 7ms/step - loss: 0.1416\n",
            "Epoch 5/50\n",
            "14/14 [==============================] - 0s 7ms/step - loss: 0.1413\n",
            "Epoch 6/50\n",
            "14/14 [==============================] - 0s 9ms/step - loss: 0.1415\n",
            "Epoch 7/50\n",
            "14/14 [==============================] - 0s 8ms/step - loss: 0.1414\n",
            "Epoch 8/50\n",
            "14/14 [==============================] - 0s 8ms/step - loss: 0.1412\n",
            "Epoch 9/50\n",
            "14/14 [==============================] - 0s 8ms/step - loss: 0.1413\n",
            "Epoch 10/50\n",
            "14/14 [==============================] - 0s 8ms/step - loss: 0.1412\n",
            "Epoch 11/50\n",
            "14/14 [==============================] - 0s 7ms/step - loss: 0.1413\n",
            "Epoch 12/50\n",
            "14/14 [==============================] - 0s 7ms/step - loss: 0.1412\n",
            "Epoch 13/50\n",
            "14/14 [==============================] - 0s 7ms/step - loss: 0.1411\n",
            "Epoch 14/50\n",
            "14/14 [==============================] - 0s 8ms/step - loss: 0.1416\n",
            "Epoch 15/50\n",
            "14/14 [==============================] - 0s 8ms/step - loss: 0.1410\n",
            "Epoch 16/50\n",
            "14/14 [==============================] - 0s 7ms/step - loss: 0.1411\n",
            "Epoch 17/50\n",
            "14/14 [==============================] - 0s 7ms/step - loss: 0.1410\n",
            "Epoch 18/50\n",
            "14/14 [==============================] - 0s 7ms/step - loss: 0.1411\n",
            "Epoch 19/50\n",
            "14/14 [==============================] - 0s 7ms/step - loss: 0.1412\n",
            "Epoch 20/50\n",
            "14/14 [==============================] - 0s 8ms/step - loss: 0.1411\n",
            "Epoch 21/50\n",
            "14/14 [==============================] - 0s 8ms/step - loss: 0.1415\n",
            "Epoch 22/50\n",
            "14/14 [==============================] - 0s 7ms/step - loss: 0.1410\n",
            "Epoch 23/50\n",
            "14/14 [==============================] - 0s 9ms/step - loss: 0.1410\n",
            "Epoch 24/50\n",
            "14/14 [==============================] - 0s 9ms/step - loss: 0.1411\n",
            "Epoch 25/50\n",
            "14/14 [==============================] - 0s 9ms/step - loss: 0.1411\n",
            "Epoch 26/50\n",
            "14/14 [==============================] - 0s 9ms/step - loss: 0.1412\n",
            "Epoch 27/50\n",
            "14/14 [==============================] - 0s 8ms/step - loss: 0.1411\n",
            "Epoch 28/50\n",
            "14/14 [==============================] - 0s 8ms/step - loss: 0.1414\n",
            "Epoch 29/50\n",
            "14/14 [==============================] - 0s 9ms/step - loss: 0.1413\n",
            "Epoch 30/50\n",
            "14/14 [==============================] - 0s 9ms/step - loss: 0.1412\n",
            "Epoch 31/50\n",
            "14/14 [==============================] - 0s 8ms/step - loss: 0.1412\n",
            "Epoch 32/50\n",
            "14/14 [==============================] - 0s 8ms/step - loss: 0.1411\n",
            "Epoch 33/50\n",
            "14/14 [==============================] - 0s 8ms/step - loss: 0.1410\n",
            "Epoch 34/50\n",
            "14/14 [==============================] - 0s 7ms/step - loss: 0.1411\n",
            "Epoch 35/50\n",
            "14/14 [==============================] - 0s 8ms/step - loss: 0.1410\n",
            "Epoch 36/50\n",
            "14/14 [==============================] - 0s 8ms/step - loss: 0.1409\n",
            "Epoch 37/50\n",
            "14/14 [==============================] - 0s 8ms/step - loss: 0.1411\n",
            "Epoch 38/50\n",
            "14/14 [==============================] - 0s 7ms/step - loss: 0.1411\n",
            "Epoch 39/50\n",
            "14/14 [==============================] - 0s 8ms/step - loss: 0.1409\n",
            "Epoch 40/50\n",
            "14/14 [==============================] - 0s 8ms/step - loss: 0.1410\n",
            "Epoch 41/50\n",
            "14/14 [==============================] - 0s 7ms/step - loss: 0.1410\n",
            "Epoch 42/50\n",
            "14/14 [==============================] - 0s 8ms/step - loss: 0.1409\n",
            "Epoch 43/50\n",
            "14/14 [==============================] - 0s 8ms/step - loss: 0.1409\n",
            "Epoch 44/50\n",
            "14/14 [==============================] - 0s 8ms/step - loss: 0.1410\n",
            "Epoch 45/50\n",
            "14/14 [==============================] - 0s 8ms/step - loss: 0.1410\n",
            "Epoch 46/50\n",
            "14/14 [==============================] - 0s 8ms/step - loss: 0.1410\n",
            "Epoch 47/50\n",
            "14/14 [==============================] - 0s 8ms/step - loss: 0.1408\n",
            "Epoch 48/50\n",
            "14/14 [==============================] - 0s 9ms/step - loss: 0.1410\n",
            "Epoch 49/50\n",
            "14/14 [==============================] - 0s 8ms/step - loss: 0.1413\n",
            "Epoch 50/50\n",
            "14/14 [==============================] - 0s 9ms/step - loss: 0.1409\n",
            "WARNING:tensorflow:5 out of the last 5 calls to <function Model.make_predict_function.<locals>.predict_function at 0x7f65857a1680> triggered tf.function retracing. Tracing is expensive and the excessive number of tracings could be due to (1) creating @tf.function repeatedly in a loop, (2) passing tensors with different shapes, (3) passing Python objects instead of tensors. For (1), please define your @tf.function outside of the loop. For (2), @tf.function has experimental_relax_shapes=True option that relaxes argument shapes that can avoid unnecessary retracing. For (3), please refer to https://www.tensorflow.org/guide/function#controlling_retracing and https://www.tensorflow.org/api_docs/python/tf/function for  more details.\n"
          ]
        },
        {
          "output_type": "stream",
          "name": "stderr",
          "text": [
            "WARNING:tensorflow:5 out of the last 5 calls to <function Model.make_predict_function.<locals>.predict_function at 0x7f65857a1680> triggered tf.function retracing. Tracing is expensive and the excessive number of tracings could be due to (1) creating @tf.function repeatedly in a loop, (2) passing tensors with different shapes, (3) passing Python objects instead of tensors. For (1), please define your @tf.function outside of the loop. For (2), @tf.function has experimental_relax_shapes=True option that relaxes argument shapes that can avoid unnecessary retracing. For (3), please refer to https://www.tensorflow.org/guide/function#controlling_retracing and https://www.tensorflow.org/api_docs/python/tf/function for  more details.\n"
          ]
        },
        {
          "output_type": "stream",
          "name": "stdout",
          "text": [
            "Model Number: 742 with model WindowRegression in generation 9 of 10\n",
            "Model Number: 743 with model WindowRegression in generation 9 of 10\n"
          ]
        },
        {
          "output_type": "stream",
          "name": "stderr",
          "text": [
            "/usr/local/lib/python3.7/dist-packages/sklearn/experimental/enable_hist_gradient_boosting.py:17: UserWarning: Since version 1.0, it is not needed to import enable_hist_gradient_boosting anymore. HistGradientBoostingClassifier and HistGradientBoostingRegressor are now stable and can be normally imported from sklearn.ensemble.\n",
            "  \"Since version 1.0, \"\n"
          ]
        },
        {
          "output_type": "stream",
          "name": "stdout",
          "text": [
            "Model Number: 744 with model MultivariateMotif in generation 9 of 10\n",
            "Model Number: 745 with model MultivariateMotif in generation 9 of 10\n",
            "Model Number: 746 with model MultivariateMotif in generation 9 of 10\n",
            "Model Number: 747 with model MultivariateMotif in generation 9 of 10\n",
            "Model Number: 748 with model UnobservedComponents in generation 9 of 10\n",
            "Template Eval Error: ValueError(\"regression_type='User' but no future_regressor supplied\") in model 748: UnobservedComponents\n",
            "Model Number: 749 with model UnobservedComponents in generation 9 of 10\n",
            "Template Eval Error: ValueError(\"regression_type='User' but no future_regressor supplied\") in model 749: UnobservedComponents\n",
            "Model Number: 750 with model UnobservedComponents in generation 9 of 10\n",
            "Model Number: 751 with model MultivariateRegression in generation 9 of 10\n"
          ]
        },
        {
          "output_type": "stream",
          "name": "stderr",
          "text": [
            "/usr/local/lib/python3.7/dist-packages/sklearn/linear_model/_coordinate_descent.py:648: ConvergenceWarning: Objective did not converge. You might want to increase the number of iterations, check the scale of the features or consider increasing regularisation. Duality gap: 1.258e+08, tolerance: 4.933e+04\n",
            "  coef_, l1_reg, l2_reg, X, y, max_iter, tol, rng, random, positive\n",
            "[Parallel(n_jobs=-2)]: Using backend SequentialBackend with 1 concurrent workers.\n",
            "[Parallel(n_jobs=-2)]: Done 200 out of 200 | elapsed:    0.3s finished\n",
            "[Parallel(n_jobs=1)]: Using backend SequentialBackend with 1 concurrent workers.\n",
            "[Parallel(n_jobs=1)]: Done 200 out of 200 | elapsed:    0.0s finished\n",
            "[Parallel(n_jobs=1)]: Using backend SequentialBackend with 1 concurrent workers.\n",
            "[Parallel(n_jobs=1)]: Done 200 out of 200 | elapsed:    0.0s finished\n",
            "[Parallel(n_jobs=1)]: Using backend SequentialBackend with 1 concurrent workers.\n",
            "[Parallel(n_jobs=1)]: Done 200 out of 200 | elapsed:    0.0s finished\n",
            "/usr/local/lib/python3.7/dist-packages/sklearn/linear_model/_coordinate_descent.py:648: ConvergenceWarning: Objective did not converge. You might want to increase the number of iterations, check the scale of the features or consider increasing regularisation. Duality gap: 1.294e+08, tolerance: 4.890e+04\n",
            "  coef_, l1_reg, l2_reg, X, y, max_iter, tol, rng, random, positive\n"
          ]
        },
        {
          "output_type": "stream",
          "name": "stdout",
          "text": [
            "Model Number: 752 with model MultivariateRegression in generation 9 of 10\n"
          ]
        },
        {
          "output_type": "stream",
          "name": "stderr",
          "text": [
            "[Parallel(n_jobs=-2)]: Using backend SequentialBackend with 1 concurrent workers.\n",
            "[Parallel(n_jobs=-2)]: Done 200 out of 200 | elapsed:    0.6s finished\n",
            "[Parallel(n_jobs=1)]: Using backend SequentialBackend with 1 concurrent workers.\n",
            "[Parallel(n_jobs=1)]: Done 200 out of 200 | elapsed:    0.0s finished\n",
            "[Parallel(n_jobs=1)]: Using backend SequentialBackend with 1 concurrent workers.\n",
            "[Parallel(n_jobs=1)]: Done 200 out of 200 | elapsed:    0.0s finished\n",
            "[Parallel(n_jobs=1)]: Using backend SequentialBackend with 1 concurrent workers.\n",
            "[Parallel(n_jobs=1)]: Done 200 out of 200 | elapsed:    0.0s finished\n",
            "/usr/local/lib/python3.7/dist-packages/sklearn/linear_model/_coordinate_descent.py:648: ConvergenceWarning: Objective did not converge. You might want to increase the number of iterations, check the scale of the features or consider increasing regularisation. Duality gap: 1.294e+08, tolerance: 4.890e+04\n",
            "  coef_, l1_reg, l2_reg, X, y, max_iter, tol, rng, random, positive\n",
            "/usr/local/lib/python3.7/dist-packages/sklearn/svm/_base.py:1208: ConvergenceWarning: Liblinear failed to converge, increase the number of iterations.\n",
            "  ConvergenceWarning,\n"
          ]
        },
        {
          "output_type": "stream",
          "name": "stdout",
          "text": [
            "Model Number: 753 with model MultivariateRegression in generation 9 of 10\n",
            "Model Number: 754 with model MultivariateRegression in generation 9 of 10\n"
          ]
        },
        {
          "output_type": "stream",
          "name": "stderr",
          "text": [
            "[Parallel(n_jobs=-2)]: Using backend SequentialBackend with 1 concurrent workers.\n",
            "[Parallel(n_jobs=-2)]: Done 200 out of 200 | elapsed:    0.3s finished\n",
            "[Parallel(n_jobs=1)]: Using backend SequentialBackend with 1 concurrent workers.\n",
            "[Parallel(n_jobs=1)]: Done 200 out of 200 | elapsed:    0.0s finished\n",
            "[Parallel(n_jobs=1)]: Using backend SequentialBackend with 1 concurrent workers.\n",
            "[Parallel(n_jobs=1)]: Done 200 out of 200 | elapsed:    0.0s finished\n",
            "[Parallel(n_jobs=1)]: Using backend SequentialBackend with 1 concurrent workers.\n",
            "[Parallel(n_jobs=1)]: Done 200 out of 200 | elapsed:    0.0s finished\n"
          ]
        },
        {
          "output_type": "stream",
          "name": "stdout",
          "text": [
            "Model Number: 755 with model AverageValueNaive in generation 9 of 10\n",
            "Model Number: 756 with model AverageValueNaive in generation 9 of 10\n",
            "Model Number: 757 with model AverageValueNaive in generation 9 of 10\n",
            "Model Number: 758 with model SectionalMotif in generation 9 of 10\n",
            "Model Number: 759 with model SectionalMotif in generation 9 of 10\n",
            "Model Number: 760 with model SectionalMotif in generation 9 of 10\n",
            "Model Number: 761 with model SectionalMotif in generation 9 of 10\n",
            "Model Number: 762 with model DatepartRegression in generation 9 of 10\n",
            "Model Number: 763 with model DatepartRegression in generation 9 of 10\n",
            "Template Eval Error: Exception('Transformer STLFilter failed on fit') in model 763: DatepartRegression\n",
            "Model Number: 764 with model DatepartRegression in generation 9 of 10\n",
            "Epoch 1/100\n",
            "Template Eval Error: TypeError('in user code:\\n\\n    File \"/usr/local/lib/python3.7/dist-packages/keras/engine/training.py\", line 1021, in train_function  *\\n        return step_function(self, iterator)\\n    File \"/usr/local/lib/python3.7/dist-packages/keras/engine/training.py\", line 1010, in step_function  **\\n        outputs = model.distribute_strategy.run(run_step, args=(data,))\\n    File \"/usr/local/lib/python3.7/dist-packages/keras/engine/training.py\", line 1000, in run_step  **\\n        outputs = model.train_step(data)\\n    File \"/usr/local/lib/python3.7/dist-packages/keras/engine/training.py\", line 859, in train_step\\n        y_pred = self(x, training=True)\\n    File \"/usr/local/lib/python3.7/dist-packages/keras/utils/traceback_utils.py\", line 67, in error_handler\\n        raise e.with_traceback(filtered_tb) from None\\n    File \"/usr/local/lib/python3.7/dist-packages/keras/backend.py\", line 2223, in dot\\n        out = tf.matmul(x, y)\\n\\n    TypeError: Exception encountered when calling layer \"forward_lstm_4\" (type LSTM).\\n    \\n    Input \\'b\\' of \\'MatMul\\' Op has type float32 that does not match type int64 of argument \\'a\\'.\\n    \\n    Call arguments received:\\n      • inputs=tf.Tensor(shape=(None, 7, 1), dtype=int64)\\n      • mask=None\\n      • training=True\\n      • initial_state=None\\n') in model 764: DatepartRegression\n",
            "Model Number: 765 with model LastValueNaive in generation 9 of 10\n",
            "Template Eval Error: Exception('Transformer STLFilter failed on fit') in model 765: LastValueNaive\n",
            "Model Number: 766 with model LastValueNaive in generation 9 of 10\n",
            "Model Number: 767 with model LastValueNaive in generation 9 of 10\n",
            "Model Number: 768 with model GLS in generation 9 of 10\n",
            "Model Number: 769 with model GLS in generation 9 of 10\n",
            "Model Number: 770 with model GLS in generation 9 of 10\n",
            "Model Number: 771 with model ETS in generation 9 of 10\n",
            "ETS error TypeError(\"__init__() got an unexpected keyword argument 'damped_trend'\")\n",
            "ETS failed on Close with ValueError('endog must be strictly positive when using multiplicative trend or seasonal components.')\n",
            "Model Number: 772 with model ETS in generation 9 of 10\n",
            "ETS error TypeError(\"__init__() got an unexpected keyword argument 'damped_trend'\")\n",
            "ETS failed on Close with ValueError('endog must be strictly positive when using multiplicative trend or seasonal components.')\n",
            "Model Number: 773 with model ETS in generation 9 of 10\n",
            "ETS error TypeError(\"__init__() got an unexpected keyword argument 'damped_trend'\")\n",
            "ETS failed on Close with ValueError('endog must be strictly positive when using multiplicative trend or seasonal components.')\n",
            "Model Number: 774 with model ETS in generation 9 of 10\n",
            "ETS error TypeError(\"__init__() got an unexpected keyword argument 'damped_trend'\")\n",
            "Model Number: 775 with model SeasonalNaive in generation 9 of 10\n",
            "Model Number: 776 with model SeasonalNaive in generation 9 of 10\n",
            "Model Number: 777 with model SeasonalNaive in generation 9 of 10\n",
            "Model Number: 778 with model SeasonalNaive in generation 9 of 10\n",
            "Model Number: 779 with model FBProphet in generation 9 of 10\n"
          ]
        },
        {
          "output_type": "stream",
          "name": "stderr",
          "text": [
            "INFO:fbprophet:Disabling yearly seasonality. Run prophet with yearly_seasonality=True to override this.\n",
            "INFO:fbprophet:Disabling daily seasonality. Run prophet with daily_seasonality=True to override this.\n",
            "INFO:fbprophet:n_changepoints greater than number of observations. Using 16.\n",
            "INFO:fbprophet:Disabling yearly seasonality. Run prophet with yearly_seasonality=True to override this.\n",
            "INFO:fbprophet:Disabling daily seasonality. Run prophet with daily_seasonality=True to override this.\n"
          ]
        },
        {
          "output_type": "stream",
          "name": "stdout",
          "text": [
            "Model Number: 780 with model FBProphet in generation 9 of 10\n"
          ]
        },
        {
          "output_type": "stream",
          "name": "stderr",
          "text": [
            "INFO:fbprophet:Disabling yearly seasonality. Run prophet with yearly_seasonality=True to override this.\n",
            "INFO:fbprophet:Disabling daily seasonality. Run prophet with daily_seasonality=True to override this.\n"
          ]
        },
        {
          "output_type": "stream",
          "name": "stdout",
          "text": [
            "Model Number: 781 with model FBProphet in generation 9 of 10\n"
          ]
        },
        {
          "output_type": "stream",
          "name": "stderr",
          "text": [
            "INFO:fbprophet:Disabling yearly seasonality. Run prophet with yearly_seasonality=True to override this.\n",
            "INFO:fbprophet:Disabling daily seasonality. Run prophet with daily_seasonality=True to override this.\n",
            "INFO:fbprophet:n_changepoints greater than number of observations. Using 15.\n"
          ]
        },
        {
          "output_type": "stream",
          "name": "stdout",
          "text": [
            "Model Number: 782 with model FBProphet in generation 9 of 10\n",
            "Model Number: 783 with model GLM in generation 9 of 10\n",
            "Template Eval Error: TypeError(\"ufunc 'isfinite' not supported for the input types, and the inputs could not be safely coerced to any supported types according to the casting rule ''safe''\") in model 783: GLM\n",
            "Model Number: 784 with model GLM in generation 9 of 10\n",
            "Model Number: 785 with model GLM in generation 9 of 10\n",
            "Template Eval Error: TypeError(\"ufunc 'isfinite' not supported for the input types, and the inputs could not be safely coerced to any supported types according to the casting rule ''safe''\") in model 785: GLM\n",
            "Model Number: 786 with model VAR in generation 9 of 10\n",
            "Template Eval Error: ValueError('Only gave one variable to VAR') in model 786: VAR\n",
            "Model Number: 787 with model VAR in generation 9 of 10\n",
            "Template Eval Error: ValueError('Only gave one variable to VAR') in model 787: VAR\n",
            "Model Number: 788 with model VAR in generation 9 of 10\n",
            "Template Eval Error: ValueError('Only gave one variable to VAR') in model 788: VAR\n",
            "Model Number: 789 with model VAR in generation 9 of 10\n",
            "Template Eval Error: ValueError('Only gave one variable to VAR') in model 789: VAR\n",
            "Model Number: 790 with model VECM in generation 9 of 10\n"
          ]
        },
        {
          "output_type": "stream",
          "name": "stderr",
          "text": [
            "/usr/local/lib/python3.7/dist-packages/statsmodels/genmod/generalized_linear_model.py:273: DomainWarning: The inverse_power link function does not respect the domain of the Gamma family.\n",
            "  DomainWarning)\n",
            "/usr/local/lib/python3.7/dist-packages/statsmodels/genmod/families/family.py:1223: RuntimeWarning: divide by zero encountered in true_divide\n",
            "  endog_mu = self._clean(endog / mu)\n"
          ]
        },
        {
          "output_type": "stream",
          "name": "stdout",
          "text": [
            "Template Eval Error: ValueError('Only gave one variable to VECM') in model 790: VECM\n",
            "Model Number: 791 with model VECM in generation 9 of 10\n",
            "Template Eval Error: ValueError('Only gave one variable to VECM') in model 791: VECM\n",
            "Model Number: 792 with model VECM in generation 9 of 10\n",
            "Template Eval Error: ValueError('Only gave one variable to VECM') in model 792: VECM\n",
            "Model Number: 793 with model VECM in generation 9 of 10\n",
            "Template Eval Error: ValueError('Only gave one variable to VECM') in model 793: VECM\n",
            "Model Number: 794 with model ARDL in generation 9 of 10\n",
            "Template Eval Error: ImportError(\"cannot import name 'ARDL' from 'statsmodels.tsa.api' (/usr/local/lib/python3.7/dist-packages/statsmodels/tsa/api.py)\") in model 794: ARDL\n",
            "Model Number: 795 with model ARDL in generation 9 of 10\n",
            "Template Eval Error: ImportError(\"cannot import name 'ARDL' from 'statsmodels.tsa.api' (/usr/local/lib/python3.7/dist-packages/statsmodels/tsa/api.py)\") in model 795: ARDL\n",
            "Model Number: 796 with model ARDL in generation 9 of 10\n",
            "Template Eval Error: ImportError(\"cannot import name 'ARDL' from 'statsmodels.tsa.api' (/usr/local/lib/python3.7/dist-packages/statsmodels/tsa/api.py)\") in model 796: ARDL\n",
            "Model Number: 797 with model ARDL in generation 9 of 10\n",
            "Template Eval Error: ImportError(\"cannot import name 'ARDL' from 'statsmodels.tsa.api' (/usr/local/lib/python3.7/dist-packages/statsmodels/tsa/api.py)\") in model 797: ARDL\n",
            "Model Number: 798 with model Theta in generation 9 of 10\n",
            "Template Eval Error: ModuleNotFoundError(\"No module named 'statsmodels.tsa.forecasting'\") in model 798: Theta\n",
            "Model Number: 799 with model Theta in generation 9 of 10\n",
            "Template Eval Error: ModuleNotFoundError(\"No module named 'statsmodels.tsa.forecasting'\") in model 799: Theta\n",
            "Model Number: 800 with model Theta in generation 9 of 10\n",
            "Template Eval Error: ModuleNotFoundError(\"No module named 'statsmodels.tsa.forecasting'\") in model 800: Theta\n",
            "Model Number: 801 with model Theta in generation 9 of 10\n",
            "Template Eval Error: ModuleNotFoundError(\"No module named 'statsmodels.tsa.forecasting'\") in model 801: Theta\n",
            "New Generation: 10 of 10\n",
            "Model Number: 802 with model NVAR in generation 10 of 10\n",
            "Model Number: 803 with model NVAR in generation 10 of 10\n",
            "Model Number: 804 with model NVAR in generation 10 of 10\n",
            "Model Number: 805 with model NVAR in generation 10 of 10\n",
            "Model Number: 806 with model UnivariateMotif in generation 10 of 10\n",
            "Model Number: 807 with model UnivariateMotif in generation 10 of 10\n",
            "Model Number: 808 with model UnivariateMotif in generation 10 of 10\n",
            "Model Number: 809 with model UnivariateMotif in generation 10 of 10\n",
            "Model Number: 810 with model ConstantNaive in generation 10 of 10\n",
            "Template Eval Error: Exception('Transformer STLFilter failed on fit') in model 810: ConstantNaive\n",
            "Model Number: 811 with model ConstantNaive in generation 10 of 10\n",
            "Template Eval Error: Exception('Transformer STLFilter failed on fit') in model 811: ConstantNaive\n",
            "Model Number: 812 with model ConstantNaive in generation 10 of 10\n",
            "Template Eval Error: Exception('Transformer STLFilter failed on fit') in model 812: ConstantNaive\n",
            "Model Number: 813 with model MultivariateMotif in generation 10 of 10\n",
            "Model Number: 814 with model MultivariateMotif in generation 10 of 10\n",
            "Model Number: 815 with model MultivariateMotif in generation 10 of 10\n",
            "Model Number: 816 with model MultivariateMotif in generation 10 of 10\n",
            "Model Number: 817 with model FBProphet in generation 10 of 10\n"
          ]
        },
        {
          "output_type": "stream",
          "name": "stderr",
          "text": [
            "INFO:fbprophet:Disabling yearly seasonality. Run prophet with yearly_seasonality=True to override this.\n",
            "INFO:fbprophet:Disabling daily seasonality. Run prophet with daily_seasonality=True to override this.\n",
            "INFO:fbprophet:Disabling yearly seasonality. Run prophet with yearly_seasonality=True to override this.\n",
            "INFO:fbprophet:Disabling daily seasonality. Run prophet with daily_seasonality=True to override this.\n"
          ]
        },
        {
          "output_type": "stream",
          "name": "stdout",
          "text": [
            "Model Number: 818 with model FBProphet in generation 10 of 10\n",
            "Template Eval Error: Exception('Transformer STLFilter failed on fit') in model 818: FBProphet\n",
            "Model Number: 819 with model FBProphet in generation 10 of 10\n"
          ]
        },
        {
          "output_type": "stream",
          "name": "stderr",
          "text": [
            "INFO:fbprophet:Disabling yearly seasonality. Run prophet with yearly_seasonality=True to override this.\n",
            "INFO:fbprophet:Disabling daily seasonality. Run prophet with daily_seasonality=True to override this.\n"
          ]
        },
        {
          "output_type": "stream",
          "name": "stdout",
          "text": [
            "Model Number: 820 with model FBProphet in generation 10 of 10\n",
            "Model Number: 821 with model WindowRegression in generation 10 of 10\n",
            "Template Eval Error: LightGBMError('Check failed: label > 0 at /__w/1/s/python-package/compile/src/metric/regression_metric.hpp, line 268 .\\n') in model 821: WindowRegression\n",
            "Model Number: 822 with model WindowRegression in generation 10 of 10\n",
            "Model Number: 823 with model WindowRegression in generation 10 of 10\n",
            "Template Eval Error: ValueError(\"regression_type='User' but no future_regressor passed\") in model 823: WindowRegression\n",
            "Model Number: 824 with model UnobservedComponents in generation 10 of 10\n",
            "Template Eval Error: ValueError('Provided exogenous values are not of the appropriate shape. Required (3, 1), got (3,).') in model 824: UnobservedComponents\n",
            "Model Number: 825 with model UnobservedComponents in generation 10 of 10\n",
            "Model Number: 826 with model UnobservedComponents in generation 10 of 10\n",
            "Model Number: 827 with model MultivariateRegression in generation 10 of 10\n"
          ]
        },
        {
          "output_type": "stream",
          "name": "stderr",
          "text": [
            "[Parallel(n_jobs=-2)]: Using backend SequentialBackend with 1 concurrent workers.\n",
            "[Parallel(n_jobs=-2)]: Done 200 out of 200 | elapsed:    0.2s finished\n",
            "[Parallel(n_jobs=1)]: Using backend SequentialBackend with 1 concurrent workers.\n",
            "[Parallel(n_jobs=1)]: Done 200 out of 200 | elapsed:    0.0s finished\n",
            "[Parallel(n_jobs=1)]: Using backend SequentialBackend with 1 concurrent workers.\n",
            "[Parallel(n_jobs=1)]: Done 200 out of 200 | elapsed:    0.0s finished\n",
            "[Parallel(n_jobs=1)]: Using backend SequentialBackend with 1 concurrent workers.\n",
            "[Parallel(n_jobs=1)]: Done 200 out of 200 | elapsed:    0.0s finished\n"
          ]
        },
        {
          "output_type": "stream",
          "name": "stdout",
          "text": [
            "Model Number: 828 with model MultivariateRegression in generation 10 of 10\n",
            "Template Eval Error: ValueError('Some value(s) of y are out of the valid range for family PoissonDistribution') in model 828: MultivariateRegression\n",
            "Model Number: 829 with model MultivariateRegression in generation 10 of 10\n"
          ]
        },
        {
          "output_type": "stream",
          "name": "stderr",
          "text": [
            "[Parallel(n_jobs=-2)]: Using backend SequentialBackend with 1 concurrent workers.\n",
            "[Parallel(n_jobs=-2)]: Done 200 out of 200 | elapsed:    0.2s finished\n",
            "[Parallel(n_jobs=1)]: Using backend SequentialBackend with 1 concurrent workers.\n",
            "[Parallel(n_jobs=1)]: Done 200 out of 200 | elapsed:    0.0s finished\n",
            "[Parallel(n_jobs=1)]: Using backend SequentialBackend with 1 concurrent workers.\n",
            "[Parallel(n_jobs=1)]: Done 200 out of 200 | elapsed:    0.0s finished\n",
            "[Parallel(n_jobs=1)]: Using backend SequentialBackend with 1 concurrent workers.\n",
            "[Parallel(n_jobs=1)]: Done 200 out of 200 | elapsed:    0.0s finished\n",
            "[Parallel(n_jobs=-2)]: Using backend SequentialBackend with 1 concurrent workers.\n"
          ]
        },
        {
          "output_type": "stream",
          "name": "stdout",
          "text": [
            "Model Number: 830 with model MultivariateRegression in generation 10 of 10\n",
            "Model Number: 831 with model AverageValueNaive in generation 10 of 10\n"
          ]
        },
        {
          "output_type": "stream",
          "name": "stderr",
          "text": [
            "[Parallel(n_jobs=-2)]: Done 200 out of 200 | elapsed:    0.2s finished\n",
            "[Parallel(n_jobs=1)]: Using backend SequentialBackend with 1 concurrent workers.\n",
            "[Parallel(n_jobs=1)]: Done 200 out of 200 | elapsed:    0.0s finished\n",
            "[Parallel(n_jobs=1)]: Using backend SequentialBackend with 1 concurrent workers.\n",
            "[Parallel(n_jobs=1)]: Done 200 out of 200 | elapsed:    0.0s finished\n",
            "[Parallel(n_jobs=1)]: Using backend SequentialBackend with 1 concurrent workers.\n",
            "[Parallel(n_jobs=1)]: Done 200 out of 200 | elapsed:    0.0s finished\n"
          ]
        },
        {
          "output_type": "stream",
          "name": "stdout",
          "text": [
            "Model Number: 832 with model AverageValueNaive in generation 10 of 10\n",
            "Model Number: 833 with model AverageValueNaive in generation 10 of 10\n",
            "Model Number: 834 with model SectionalMotif in generation 10 of 10\n",
            "Model Number: 835 with model SectionalMotif in generation 10 of 10\n",
            "Model Number: 836 with model SectionalMotif in generation 10 of 10\n",
            "Model Number: 837 with model SectionalMotif in generation 10 of 10\n",
            "Template Eval Error: ValueError(\"regression_type=='User' but no future_regressor supplied\") in model 837: SectionalMotif\n",
            "Model Number: 838 with model DatepartRegression in generation 10 of 10\n",
            "Epoch 1/50\n",
            "3/3 [==============================] - 7s 281ms/step - loss: nan - val_loss: nan\n",
            "Epoch 2/50\n",
            "3/3 [==============================] - 0s 35ms/step - loss: nan - val_loss: nan\n",
            "Epoch 3/50\n",
            "3/3 [==============================] - 0s 36ms/step - loss: nan - val_loss: nan\n",
            "Epoch 4/50\n",
            "3/3 [==============================] - 0s 37ms/step - loss: nan - val_loss: nan\n",
            "Epoch 5/50\n",
            "3/3 [==============================] - 0s 37ms/step - loss: nan - val_loss: nan\n",
            "Epoch 6/50\n",
            "3/3 [==============================] - 0s 38ms/step - loss: nan - val_loss: nan\n",
            "Epoch 7/50\n",
            "3/3 [==============================] - 0s 36ms/step - loss: nan - val_loss: nan\n",
            "Epoch 8/50\n",
            "3/3 [==============================] - 0s 36ms/step - loss: nan - val_loss: nan\n",
            "Epoch 9/50\n",
            "3/3 [==============================] - 0s 38ms/step - loss: nan - val_loss: nan\n",
            "Epoch 10/50\n",
            "3/3 [==============================] - 0s 40ms/step - loss: nan - val_loss: nan\n",
            "WARNING:tensorflow:6 out of the last 6 calls to <function Model.make_predict_function.<locals>.predict_function at 0x7f6585173440> triggered tf.function retracing. Tracing is expensive and the excessive number of tracings could be due to (1) creating @tf.function repeatedly in a loop, (2) passing tensors with different shapes, (3) passing Python objects instead of tensors. For (1), please define your @tf.function outside of the loop. For (2), @tf.function has experimental_relax_shapes=True option that relaxes argument shapes that can avoid unnecessary retracing. For (3), please refer to https://www.tensorflow.org/guide/function#controlling_retracing and https://www.tensorflow.org/api_docs/python/tf/function for  more details.\n"
          ]
        },
        {
          "output_type": "stream",
          "name": "stderr",
          "text": [
            "WARNING:tensorflow:6 out of the last 6 calls to <function Model.make_predict_function.<locals>.predict_function at 0x7f6585173440> triggered tf.function retracing. Tracing is expensive and the excessive number of tracings could be due to (1) creating @tf.function repeatedly in a loop, (2) passing tensors with different shapes, (3) passing Python objects instead of tensors. For (1), please define your @tf.function outside of the loop. For (2), @tf.function has experimental_relax_shapes=True option that relaxes argument shapes that can avoid unnecessary retracing. For (3), please refer to https://www.tensorflow.org/guide/function#controlling_retracing and https://www.tensorflow.org/api_docs/python/tf/function for  more details.\n"
          ]
        },
        {
          "output_type": "stream",
          "name": "stdout",
          "text": [
            "Template Eval Error: ValueError('Model DatepartRegression returned NaN for one or more series. fail_on_forecast_nan=True') in model 838: DatepartRegression\n",
            "Model Number: 839 with model DatepartRegression in generation 10 of 10\n",
            "Template Eval Error: Exception('Transformer STLFilter failed on fit') in model 839: DatepartRegression\n",
            "Model Number: 840 with model DatepartRegression in generation 10 of 10\n",
            "Epoch 1/100\n",
            "4/4 [==============================] - 6s 7ms/step - loss: 0.0852\n",
            "Epoch 2/100\n",
            "4/4 [==============================] - 0s 7ms/step - loss: 0.0856\n",
            "Epoch 3/100\n",
            "4/4 [==============================] - 0s 7ms/step - loss: 0.0851\n",
            "Epoch 4/100\n",
            "4/4 [==============================] - 0s 7ms/step - loss: 0.0847\n",
            "Epoch 5/100\n",
            "4/4 [==============================] - 0s 7ms/step - loss: 0.0853\n",
            "Epoch 6/100\n",
            "4/4 [==============================] - 0s 7ms/step - loss: 0.0846\n",
            "Epoch 7/100\n",
            "4/4 [==============================] - 0s 8ms/step - loss: 0.0857\n",
            "Epoch 8/100\n",
            "4/4 [==============================] - 0s 7ms/step - loss: 0.0847\n",
            "Epoch 9/100\n",
            "4/4 [==============================] - 0s 7ms/step - loss: 0.0844\n",
            "Epoch 10/100\n",
            "4/4 [==============================] - 0s 7ms/step - loss: 0.0854\n",
            "Epoch 11/100\n",
            "4/4 [==============================] - 0s 7ms/step - loss: 0.0843\n",
            "Epoch 12/100\n",
            "4/4 [==============================] - 0s 8ms/step - loss: 0.0849\n",
            "Epoch 13/100\n",
            "4/4 [==============================] - 0s 8ms/step - loss: 0.0855\n",
            "Epoch 14/100\n",
            "4/4 [==============================] - 0s 7ms/step - loss: 0.0853\n",
            "Epoch 15/100\n",
            "4/4 [==============================] - 0s 7ms/step - loss: 0.0852\n",
            "Epoch 16/100\n",
            "4/4 [==============================] - 0s 8ms/step - loss: 0.0846\n",
            "Epoch 17/100\n",
            "4/4 [==============================] - 0s 7ms/step - loss: 0.0835\n",
            "Epoch 18/100\n",
            "4/4 [==============================] - 0s 9ms/step - loss: 0.0837\n",
            "Epoch 19/100\n",
            "4/4 [==============================] - 0s 7ms/step - loss: 0.0839\n",
            "Epoch 20/100\n",
            "4/4 [==============================] - 0s 7ms/step - loss: 0.0845\n",
            "Epoch 21/100\n",
            "4/4 [==============================] - 0s 7ms/step - loss: 0.0852\n",
            "Epoch 22/100\n",
            "4/4 [==============================] - 0s 10ms/step - loss: 0.0847\n",
            "Epoch 23/100\n",
            "4/4 [==============================] - 0s 8ms/step - loss: 0.0848\n",
            "Epoch 24/100\n",
            "4/4 [==============================] - 0s 7ms/step - loss: 0.0844\n",
            "Epoch 25/100\n",
            "4/4 [==============================] - 0s 7ms/step - loss: 0.0845\n",
            "Epoch 26/100\n",
            "4/4 [==============================] - 0s 7ms/step - loss: 0.0842\n",
            "Epoch 27/100\n",
            "4/4 [==============================] - 0s 9ms/step - loss: 0.0851\n",
            "Epoch 28/100\n",
            "4/4 [==============================] - 0s 8ms/step - loss: 0.0849\n",
            "Epoch 29/100\n",
            "4/4 [==============================] - 0s 7ms/step - loss: 0.0842\n",
            "Epoch 30/100\n",
            "4/4 [==============================] - 0s 8ms/step - loss: 0.0841\n",
            "Epoch 31/100\n",
            "4/4 [==============================] - 0s 8ms/step - loss: 0.0850\n",
            "Epoch 32/100\n",
            "4/4 [==============================] - 0s 8ms/step - loss: 0.0852\n",
            "Epoch 33/100\n",
            "4/4 [==============================] - 0s 7ms/step - loss: 0.0851\n",
            "Epoch 34/100\n",
            "4/4 [==============================] - 0s 9ms/step - loss: 0.0839\n",
            "Epoch 35/100\n",
            "4/4 [==============================] - 0s 7ms/step - loss: 0.0853\n",
            "Epoch 36/100\n",
            "4/4 [==============================] - 0s 8ms/step - loss: 0.0854\n",
            "Epoch 37/100\n",
            "4/4 [==============================] - 0s 8ms/step - loss: 0.0839\n",
            "Epoch 38/100\n",
            "4/4 [==============================] - 0s 8ms/step - loss: 0.0847\n",
            "Epoch 39/100\n",
            "4/4 [==============================] - 0s 8ms/step - loss: 0.0840\n",
            "Epoch 40/100\n",
            "4/4 [==============================] - 0s 8ms/step - loss: 0.0840\n",
            "Epoch 41/100\n",
            "4/4 [==============================] - 0s 8ms/step - loss: 0.0841\n",
            "Epoch 42/100\n",
            "4/4 [==============================] - 0s 7ms/step - loss: 0.0847\n",
            "Epoch 43/100\n",
            "4/4 [==============================] - 0s 7ms/step - loss: 0.0846\n",
            "Epoch 44/100\n",
            "4/4 [==============================] - 0s 8ms/step - loss: 0.0849\n",
            "Epoch 45/100\n",
            "4/4 [==============================] - 0s 8ms/step - loss: 0.0839\n",
            "Epoch 46/100\n",
            "4/4 [==============================] - 0s 7ms/step - loss: 0.0839\n",
            "Epoch 47/100\n",
            "4/4 [==============================] - 0s 7ms/step - loss: 0.0847\n",
            "Epoch 48/100\n",
            "4/4 [==============================] - 0s 10ms/step - loss: 0.0841\n",
            "Epoch 49/100\n",
            "4/4 [==============================] - 0s 8ms/step - loss: 0.0845\n",
            "Epoch 50/100\n",
            "4/4 [==============================] - 0s 7ms/step - loss: 0.0853\n",
            "Epoch 51/100\n",
            "4/4 [==============================] - 0s 8ms/step - loss: 0.0849\n",
            "Epoch 52/100\n",
            "4/4 [==============================] - 0s 7ms/step - loss: 0.0845\n",
            "Epoch 53/100\n",
            "4/4 [==============================] - 0s 9ms/step - loss: 0.0839\n",
            "Epoch 54/100\n",
            "4/4 [==============================] - 0s 7ms/step - loss: 0.0847\n",
            "Epoch 55/100\n",
            "4/4 [==============================] - 0s 7ms/step - loss: 0.0842\n",
            "Epoch 56/100\n",
            "4/4 [==============================] - 0s 8ms/step - loss: 0.0849\n",
            "Epoch 57/100\n",
            "4/4 [==============================] - 0s 8ms/step - loss: 0.0836\n",
            "Epoch 58/100\n",
            "4/4 [==============================] - 0s 7ms/step - loss: 0.0847\n",
            "Epoch 59/100\n",
            "4/4 [==============================] - 0s 7ms/step - loss: 0.0851\n",
            "Epoch 60/100\n",
            "4/4 [==============================] - 0s 9ms/step - loss: 0.0851\n",
            "Epoch 61/100\n",
            "4/4 [==============================] - 0s 9ms/step - loss: 0.0848\n",
            "Epoch 62/100\n",
            "4/4 [==============================] - 0s 8ms/step - loss: 0.0846\n",
            "Epoch 63/100\n",
            "4/4 [==============================] - 0s 9ms/step - loss: 0.0848\n",
            "Epoch 64/100\n",
            "4/4 [==============================] - 0s 9ms/step - loss: 0.0852\n",
            "Epoch 65/100\n",
            "4/4 [==============================] - 0s 9ms/step - loss: 0.0846\n",
            "Epoch 66/100\n",
            "4/4 [==============================] - 0s 8ms/step - loss: 0.0845\n",
            "Epoch 67/100\n",
            "4/4 [==============================] - 0s 8ms/step - loss: 0.0849\n",
            "Epoch 68/100\n",
            "4/4 [==============================] - 0s 8ms/step - loss: 0.0847\n",
            "Epoch 69/100\n",
            "4/4 [==============================] - 0s 9ms/step - loss: 0.0838\n",
            "Epoch 70/100\n",
            "4/4 [==============================] - 0s 8ms/step - loss: 0.0839\n",
            "Epoch 71/100\n",
            "4/4 [==============================] - 0s 8ms/step - loss: 0.0846\n",
            "Epoch 72/100\n",
            "4/4 [==============================] - 0s 9ms/step - loss: 0.0849\n",
            "Epoch 73/100\n",
            "4/4 [==============================] - 0s 8ms/step - loss: 0.0849\n",
            "Epoch 74/100\n",
            "4/4 [==============================] - 0s 8ms/step - loss: 0.0848\n",
            "Epoch 75/100\n",
            "4/4 [==============================] - 0s 8ms/step - loss: 0.0845\n",
            "Epoch 76/100\n",
            "4/4 [==============================] - 0s 7ms/step - loss: 0.0856\n",
            "Epoch 77/100\n",
            "4/4 [==============================] - 0s 7ms/step - loss: 0.0840\n",
            "Epoch 78/100\n",
            "4/4 [==============================] - 0s 10ms/step - loss: 0.0847\n",
            "Epoch 79/100\n",
            "4/4 [==============================] - 0s 7ms/step - loss: 0.0852\n",
            "Epoch 80/100\n",
            "4/4 [==============================] - 0s 7ms/step - loss: 0.0845\n",
            "Epoch 81/100\n",
            "4/4 [==============================] - 0s 8ms/step - loss: 0.0845\n",
            "Epoch 82/100\n",
            "4/4 [==============================] - 0s 8ms/step - loss: 0.0843\n",
            "Epoch 83/100\n",
            "4/4 [==============================] - 0s 8ms/step - loss: 0.0843\n",
            "Epoch 84/100\n",
            "4/4 [==============================] - 0s 7ms/step - loss: 0.0847\n",
            "Epoch 85/100\n",
            "4/4 [==============================] - 0s 7ms/step - loss: 0.0849\n",
            "Epoch 86/100\n",
            "4/4 [==============================] - 0s 8ms/step - loss: 0.0848\n",
            "Epoch 87/100\n",
            "4/4 [==============================] - 0s 8ms/step - loss: 0.0841\n",
            "Epoch 88/100\n",
            "4/4 [==============================] - 0s 8ms/step - loss: 0.0842\n",
            "Epoch 89/100\n",
            "4/4 [==============================] - 0s 8ms/step - loss: 0.0843\n",
            "Epoch 90/100\n",
            "4/4 [==============================] - 0s 7ms/step - loss: 0.0843\n",
            "Epoch 91/100\n",
            "4/4 [==============================] - 0s 8ms/step - loss: 0.0840\n",
            "Epoch 92/100\n",
            "4/4 [==============================] - 0s 7ms/step - loss: 0.0844\n",
            "Epoch 93/100\n",
            "4/4 [==============================] - 0s 8ms/step - loss: 0.0848\n",
            "Epoch 94/100\n",
            "4/4 [==============================] - 0s 7ms/step - loss: 0.0845\n",
            "Epoch 95/100\n",
            "4/4 [==============================] - 0s 7ms/step - loss: 0.0846\n",
            "Epoch 96/100\n",
            "4/4 [==============================] - 0s 7ms/step - loss: 0.0839\n",
            "Epoch 97/100\n",
            "4/4 [==============================] - 0s 8ms/step - loss: 0.0842\n",
            "Epoch 98/100\n",
            "4/4 [==============================] - 0s 7ms/step - loss: 0.0844\n",
            "Epoch 99/100\n",
            "4/4 [==============================] - 0s 8ms/step - loss: 0.0845\n",
            "Epoch 100/100\n",
            "4/4 [==============================] - 0s 9ms/step - loss: 0.0841\n",
            "Template Eval Error: ValueError('Model DatepartRegression returned NaN for one or more series. fail_on_forecast_nan=True') in model 840: DatepartRegression\n",
            "Model Number: 841 with model GLS in generation 10 of 10\n",
            "Model Number: 842 with model GLS in generation 10 of 10\n",
            "Model Number: 843 with model GLS in generation 10 of 10\n",
            "Model Number: 844 with model LastValueNaive in generation 10 of 10\n",
            "Model Number: 845 with model LastValueNaive in generation 10 of 10\n",
            "Model Number: 846 with model LastValueNaive in generation 10 of 10\n",
            "Model Number: 847 with model ETS in generation 10 of 10\n",
            "ETS error TypeError(\"__init__() got an unexpected keyword argument 'damped_trend'\")\n",
            "Model Number: 848 with model ETS in generation 10 of 10\n",
            "ETS error TypeError(\"__init__() got an unexpected keyword argument 'damped_trend'\")\n",
            "Model Number: 849 with model ETS in generation 10 of 10\n",
            "ETS error TypeError(\"__init__() got an unexpected keyword argument 'damped_trend'\")\n",
            "Model Number: 850 with model ETS in generation 10 of 10\n",
            "ETS error TypeError(\"__init__() got an unexpected keyword argument 'damped_trend'\")\n",
            "Model Number: 851 with model SeasonalNaive in generation 10 of 10\n",
            "Model Number: 852 with model SeasonalNaive in generation 10 of 10\n",
            "Model Number: 853 with model SeasonalNaive in generation 10 of 10\n",
            "Model Number: 854 with model SeasonalNaive in generation 10 of 10\n",
            "Model Number: 855 with model Ensemble in generation 11 of Ensembles\n",
            "Model Number: 856 with model Ensemble in generation 11 of Ensembles\n",
            "Model Number: 857 with model Ensemble in generation 11 of Ensembles\n"
          ]
        },
        {
          "output_type": "stream",
          "name": "stderr",
          "text": [
            "[Parallel(n_jobs=-2)]: Using backend SequentialBackend with 1 concurrent workers.\n",
            "[Parallel(n_jobs=-2)]: Done 200 out of 200 | elapsed:    0.2s finished\n",
            "[Parallel(n_jobs=1)]: Using backend SequentialBackend with 1 concurrent workers.\n",
            "[Parallel(n_jobs=1)]: Done 200 out of 200 | elapsed:    0.0s finished\n",
            "[Parallel(n_jobs=1)]: Using backend SequentialBackend with 1 concurrent workers.\n",
            "[Parallel(n_jobs=1)]: Done 200 out of 200 | elapsed:    0.0s finished\n",
            "[Parallel(n_jobs=1)]: Using backend SequentialBackend with 1 concurrent workers.\n",
            "[Parallel(n_jobs=1)]: Done 200 out of 200 | elapsed:    0.0s finished\n"
          ]
        },
        {
          "output_type": "stream",
          "name": "stdout",
          "text": [
            "Model Number: 858 with model Ensemble in generation 11 of Ensembles\n"
          ]
        },
        {
          "output_type": "stream",
          "name": "stderr",
          "text": [
            "[Parallel(n_jobs=-2)]: Using backend SequentialBackend with 1 concurrent workers.\n",
            "[Parallel(n_jobs=-2)]: Done 200 out of 200 | elapsed:    0.2s finished\n",
            "[Parallel(n_jobs=1)]: Using backend SequentialBackend with 1 concurrent workers.\n",
            "[Parallel(n_jobs=1)]: Done 200 out of 200 | elapsed:    0.0s finished\n",
            "[Parallel(n_jobs=1)]: Using backend SequentialBackend with 1 concurrent workers.\n",
            "[Parallel(n_jobs=1)]: Done 200 out of 200 | elapsed:    0.0s finished\n",
            "[Parallel(n_jobs=1)]: Using backend SequentialBackend with 1 concurrent workers.\n",
            "[Parallel(n_jobs=1)]: Done 200 out of 200 | elapsed:    0.0s finished\n"
          ]
        },
        {
          "output_type": "stream",
          "name": "stdout",
          "text": [
            "Model Number: 859 with model Ensemble in generation 11 of Ensembles\n",
            "Model Number: 860 with model Ensemble in generation 11 of Ensembles\n"
          ]
        },
        {
          "output_type": "stream",
          "name": "stderr",
          "text": [
            "INFO:fbprophet:Disabling yearly seasonality. Run prophet with yearly_seasonality=True to override this.\n",
            "INFO:fbprophet:Disabling daily seasonality. Run prophet with daily_seasonality=True to override this.\n"
          ]
        },
        {
          "output_type": "stream",
          "name": "stdout",
          "text": [
            "Model Number: 861 with model Ensemble in generation 11 of Ensembles\n",
            "Model Number: 862 with model Ensemble in generation 11 of Ensembles\n",
            "Validation Round: 1\n",
            "Model Number: 1 of 129 with model Ensemble for Validation 1\n",
            "📈 1 - Ensemble with avg smape 0.5: \n",
            "Model Number: 2 of 129 with model Ensemble for Validation 1\n",
            "2 - Ensemble with avg smape 0.51: \n",
            "Model Number: 3 of 129 with model Ensemble for Validation 1\n",
            "3 - Ensemble with avg smape 0.54: \n",
            "Model Number: 4 of 129 with model Ensemble for Validation 1\n"
          ]
        },
        {
          "output_type": "stream",
          "name": "stderr",
          "text": [
            "INFO:fbprophet:Disabling yearly seasonality. Run prophet with yearly_seasonality=True to override this.\n",
            "INFO:fbprophet:Disabling daily seasonality. Run prophet with daily_seasonality=True to override this.\n"
          ]
        },
        {
          "output_type": "stream",
          "name": "stdout",
          "text": [
            "📈 4 - Ensemble with avg smape 0.39: \n",
            "Model Number: 5 of 129 with model Ensemble for Validation 1\n",
            "5 - Ensemble with avg smape 0.77: \n",
            "Model Number: 6 of 129 with model NVAR for Validation 1\n",
            "6 - NVAR with avg smape 0.77: \n",
            "Model Number: 7 of 129 with model NVAR for Validation 1\n",
            "7 - NVAR with avg smape 0.77: \n",
            "Model Number: 8 of 129 with model Ensemble for Validation 1\n",
            "8 - Ensemble with avg smape 0.77: \n",
            "Model Number: 9 of 129 with model NVAR for Validation 1\n",
            "9 - NVAR with avg smape 0.77: \n",
            "Model Number: 10 of 129 with model NVAR for Validation 1\n",
            "10 - NVAR with avg smape 0.77: \n",
            "Model Number: 11 of 129 with model NVAR for Validation 1\n",
            "11 - NVAR with avg smape 0.7: \n",
            "Model Number: 12 of 129 with model NVAR for Validation 1\n",
            "12 - NVAR with avg smape 0.75: \n",
            "Model Number: 13 of 129 with model NVAR for Validation 1\n",
            "13 - NVAR with avg smape 0.75: \n",
            "Model Number: 14 of 129 with model NVAR for Validation 1\n",
            "14 - NVAR with avg smape 0.75: \n",
            "Model Number: 15 of 129 with model UnivariateMotif for Validation 1\n",
            "15 - UnivariateMotif with avg smape 0.46: \n",
            "Model Number: 16 of 129 with model ConstantNaive for Validation 1\n",
            "16 - ConstantNaive with avg smape 0.43: \n",
            "Model Number: 17 of 129 with model UnivariateMotif for Validation 1\n",
            "17 - UnivariateMotif with avg smape 2.2: \n",
            "Model Number: 18 of 129 with model Ensemble for Validation 1\n"
          ]
        },
        {
          "output_type": "stream",
          "name": "stderr",
          "text": [
            "[Parallel(n_jobs=-2)]: Using backend SequentialBackend with 1 concurrent workers.\n",
            "[Parallel(n_jobs=-2)]: Done 200 out of 200 | elapsed:    0.2s finished\n",
            "[Parallel(n_jobs=1)]: Using backend SequentialBackend with 1 concurrent workers.\n",
            "[Parallel(n_jobs=1)]: Done 200 out of 200 | elapsed:    0.0s finished\n",
            "[Parallel(n_jobs=1)]: Using backend SequentialBackend with 1 concurrent workers.\n",
            "[Parallel(n_jobs=1)]: Done 200 out of 200 | elapsed:    0.0s finished\n",
            "[Parallel(n_jobs=1)]: Using backend SequentialBackend with 1 concurrent workers.\n",
            "[Parallel(n_jobs=1)]: Done 200 out of 200 | elapsed:    0.0s finished\n"
          ]
        },
        {
          "output_type": "stream",
          "name": "stdout",
          "text": [
            "18 - Ensemble with avg smape 0.39: \n",
            "Model Number: 19 of 129 with model UnivariateMotif for Validation 1\n",
            "19 - UnivariateMotif with avg smape 0.42: \n",
            "Model Number: 20 of 129 with model MultivariateMotif for Validation 1\n",
            "20 - MultivariateMotif with avg smape 0.46: \n",
            "Model Number: 21 of 129 with model ConstantNaive for Validation 1\n",
            "21 - ConstantNaive with avg smape 0.47: \n",
            "Model Number: 22 of 129 with model UnivariateMotif for Validation 1\n",
            "22 - UnivariateMotif with avg smape 2.1: \n",
            "Model Number: 23 of 129 with model MultivariateMotif for Validation 1\n",
            "23 - MultivariateMotif with avg smape 0.55: \n",
            "Model Number: 24 of 129 with model UnivariateMotif for Validation 1\n",
            "24 - UnivariateMotif with avg smape 1.49: \n",
            "Model Number: 25 of 129 with model FBProphet for Validation 1\n"
          ]
        },
        {
          "output_type": "stream",
          "name": "stderr",
          "text": [
            "INFO:fbprophet:Disabling yearly seasonality. Run prophet with yearly_seasonality=True to override this.\n",
            "INFO:fbprophet:Disabling daily seasonality. Run prophet with daily_seasonality=True to override this.\n"
          ]
        },
        {
          "output_type": "stream",
          "name": "stdout",
          "text": [
            "📈 25 - FBProphet with avg smape 0.24: \n",
            "Model Number: 26 of 129 with model Ensemble for Validation 1\n"
          ]
        },
        {
          "output_type": "stream",
          "name": "stderr",
          "text": [
            "[Parallel(n_jobs=-2)]: Using backend SequentialBackend with 1 concurrent workers.\n",
            "[Parallel(n_jobs=-2)]: Done 200 out of 200 | elapsed:    0.2s finished\n",
            "[Parallel(n_jobs=1)]: Using backend SequentialBackend with 1 concurrent workers.\n",
            "[Parallel(n_jobs=1)]: Done 200 out of 200 | elapsed:    0.0s finished\n",
            "[Parallel(n_jobs=1)]: Using backend SequentialBackend with 1 concurrent workers.\n",
            "[Parallel(n_jobs=1)]: Done 200 out of 200 | elapsed:    0.0s finished\n",
            "[Parallel(n_jobs=1)]: Using backend SequentialBackend with 1 concurrent workers.\n",
            "[Parallel(n_jobs=1)]: Done 200 out of 200 | elapsed:    0.0s finished\n"
          ]
        },
        {
          "output_type": "stream",
          "name": "stdout",
          "text": [
            "26 - Ensemble with avg smape 0.32: \n",
            "Model Number: 27 of 129 with model UnivariateMotif for Validation 1\n",
            "27 - UnivariateMotif with avg smape 0.42: \n",
            "Model Number: 28 of 129 with model ConstantNaive for Validation 1\n",
            "28 - ConstantNaive with avg smape 3.23: \n",
            "Model Number: 29 of 129 with model WindowRegression for Validation 1\n",
            "[LibLinear][LibLinear][LibLinear][LibLinear][LibLinear][LibLinear][LibLinear][LibLinear][LibLinear][LibLinear][LibLinear][LibLinear][LibLinear][LibLinear][LibLinear][LibLinear][LibLinear][LibLinear][LibLinear][LibLinear][LibLinear][LibLinear][LibLinear][LibLinear][LibLinear][LibLinear][LibLinear][LibLinear][LibLinear][LibLinear][LibLinear][LibLinear][LibLinear][LibLinear][LibLinear][LibLinear][LibLinear][LibLinear][LibLinear][LibLinear][LibLinear][LibLinear][LibLinear]29 - WindowRegression with avg smape 0.38: \n",
            "Model Number: 30 of 129 with model MultivariateMotif for Validation 1\n",
            "30 - MultivariateMotif with avg smape 0.48: \n",
            "Model Number: 31 of 129 with model UnobservedComponents for Validation 1\n",
            "31 - UnobservedComponents with avg smape 0.48: \n",
            "Model Number: 32 of 129 with model ConstantNaive for Validation 1\n",
            "32 - ConstantNaive with avg smape 0.48: \n",
            "Model Number: 33 of 129 with model ConstantNaive for Validation 1\n",
            "33 - ConstantNaive with avg smape 0.48: \n",
            "Model Number: 34 of 129 with model UnobservedComponents for Validation 1\n",
            "34 - UnobservedComponents with avg smape 2.83: \n",
            "Model Number: 35 of 129 with model MultivariateMotif for Validation 1\n",
            "35 - MultivariateMotif with avg smape 0.5: \n",
            "Model Number: 36 of 129 with model ConstantNaive for Validation 1\n",
            "36 - ConstantNaive with avg smape 1.46: \n",
            "Model Number: 37 of 129 with model ConstantNaive for Validation 1\n",
            "37 - ConstantNaive with avg smape 1.46: \n",
            "Model Number: 38 of 129 with model UnobservedComponents for Validation 1\n",
            "38 - UnobservedComponents with avg smape 0.45: \n",
            "Model Number: 39 of 129 with model MultivariateMotif for Validation 1\n",
            "39 - MultivariateMotif with avg smape 0.88: \n",
            "Model Number: 40 of 129 with model AverageValueNaive for Validation 1\n",
            "40 - AverageValueNaive with avg smape 0.48: \n",
            "Model Number: 41 of 129 with model SectionalMotif for Validation 1\n",
            "41 - SectionalMotif with avg smape 1.24: \n",
            "Model Number: 42 of 129 with model SectionalMotif for Validation 1\n",
            "42 - SectionalMotif with avg smape 1.73: \n",
            "Model Number: 43 of 129 with model SectionalMotif for Validation 1\n",
            "43 - SectionalMotif with avg smape 1.73: \n",
            "Model Number: 44 of 129 with model MultivariateRegression for Validation 1\n"
          ]
        },
        {
          "output_type": "stream",
          "name": "stderr",
          "text": [
            "[Parallel(n_jobs=-2)]: Using backend SequentialBackend with 1 concurrent workers.\n",
            "[Parallel(n_jobs=-2)]: Done 200 out of 200 | elapsed:    0.2s finished\n"
          ]
        },
        {
          "output_type": "stream",
          "name": "stdout",
          "text": [
            "44 - MultivariateRegression with avg smape 0.28: \n",
            "Model Number: 45 of 129 with model UnivariateMotif for Validation 1\n",
            "45 - UnivariateMotif with avg smape 0.42: \n",
            "Model Number: 46 of 129 with model UnivariateMotif for Validation 1\n"
          ]
        },
        {
          "output_type": "stream",
          "name": "stderr",
          "text": [
            "[Parallel(n_jobs=1)]: Using backend SequentialBackend with 1 concurrent workers.\n",
            "[Parallel(n_jobs=1)]: Done 200 out of 200 | elapsed:    0.0s finished\n",
            "[Parallel(n_jobs=1)]: Using backend SequentialBackend with 1 concurrent workers.\n",
            "[Parallel(n_jobs=1)]: Done 200 out of 200 | elapsed:    0.0s finished\n",
            "[Parallel(n_jobs=1)]: Using backend SequentialBackend with 1 concurrent workers.\n",
            "[Parallel(n_jobs=1)]: Done 200 out of 200 | elapsed:    0.0s finished\n"
          ]
        },
        {
          "output_type": "stream",
          "name": "stdout",
          "text": [
            "46 - UnivariateMotif with avg smape 0.33: \n",
            "Model Number: 47 of 129 with model ConstantNaive for Validation 1\n",
            "47 - ConstantNaive with avg smape 0.49: \n",
            "Model Number: 48 of 129 with model UnobservedComponents for Validation 1\n",
            "48 - UnobservedComponents with avg smape 0.48: \n",
            "Model Number: 49 of 129 with model GLS for Validation 1\n",
            "49 - GLS with avg smape 1.28: \n",
            "Model Number: 50 of 129 with model LastValueNaive for Validation 1\n",
            "50 - LastValueNaive with avg smape 0.37: \n",
            "Model Number: 51 of 129 with model ETS for Validation 1\n",
            "ETS error TypeError(\"__init__() got an unexpected keyword argument 'damped_trend'\")\n",
            "51 - ETS with avg smape 0.35: \n",
            "Model Number: 52 of 129 with model GLS for Validation 1\n",
            "52 - GLS with avg smape 1.2: \n",
            "Model Number: 53 of 129 with model AverageValueNaive for Validation 1\n",
            "53 - AverageValueNaive with avg smape 0.5: \n",
            "Model Number: 54 of 129 with model GLS for Validation 1\n",
            "54 - GLS with avg smape 0.34: \n",
            "Model Number: 55 of 129 with model GLS for Validation 1\n",
            "55 - GLS with avg smape 1.28: \n",
            "Model Number: 56 of 129 with model AverageValueNaive for Validation 1\n",
            "56 - AverageValueNaive with avg smape 1.56: \n",
            "Model Number: 57 of 129 with model MultivariateMotif for Validation 1\n",
            "57 - MultivariateMotif with avg smape 1.22: \n",
            "Model Number: 58 of 129 with model GLS for Validation 1\n",
            "58 - GLS with avg smape 0.36: \n",
            "Model Number: 59 of 129 with model DatepartRegression for Validation 1\n",
            "59 - DatepartRegression with avg smape 1.01: \n",
            "Model Number: 60 of 129 with model LastValueNaive for Validation 1\n",
            "60 - LastValueNaive with avg smape 0.49: \n",
            "Model Number: 61 of 129 with model ETS for Validation 1\n",
            "ETS error TypeError(\"__init__() got an unexpected keyword argument 'damped_trend'\")\n",
            "61 - ETS with avg smape 0.32: \n",
            "Model Number: 62 of 129 with model LastValueNaive for Validation 1\n",
            "62 - LastValueNaive with avg smape 0.62: \n"
          ]
        },
        {
          "output_type": "stream",
          "name": "stderr",
          "text": [
            "/usr/local/lib/python3.7/dist-packages/sklearn/linear_model/_coordinate_descent.py:648: ConvergenceWarning: Objective did not converge. You might want to increase the number of iterations, check the scale of the features or consider increasing regularisation. Duality gap: 1.636e+01, tolerance: 5.562e-03\n",
            "  coef_, l1_reg, l2_reg, X, y, max_iter, tol, rng, random, positive\n"
          ]
        },
        {
          "output_type": "stream",
          "name": "stdout",
          "text": [
            "Model Number: 63 of 129 with model WindowRegression for Validation 1\n",
            "📈 63 - WindowRegression with avg smape 0.21: \n",
            "Model Number: 64 of 129 with model LastValueNaive for Validation 1\n",
            "64 - LastValueNaive with avg smape 0.33: \n",
            "Model Number: 65 of 129 with model MultivariateRegression for Validation 1\n"
          ]
        },
        {
          "output_type": "stream",
          "name": "stderr",
          "text": [
            "/usr/local/lib/python3.7/dist-packages/sklearn/svm/_base.py:1208: ConvergenceWarning: Liblinear failed to converge, increase the number of iterations.\n",
            "  ConvergenceWarning,\n",
            "/usr/local/lib/python3.7/dist-packages/sklearn/svm/_base.py:1208: ConvergenceWarning: Liblinear failed to converge, increase the number of iterations.\n",
            "  ConvergenceWarning,\n",
            "/usr/local/lib/python3.7/dist-packages/sklearn/svm/_base.py:1208: ConvergenceWarning: Liblinear failed to converge, increase the number of iterations.\n",
            "  ConvergenceWarning,\n",
            "[Parallel(n_jobs=-2)]: Using backend SequentialBackend with 1 concurrent workers.\n"
          ]
        },
        {
          "output_type": "stream",
          "name": "stdout",
          "text": [
            "65 - MultivariateRegression with avg smape 1.33: \n",
            "Model Number: 66 of 129 with model DatepartRegression for Validation 1\n"
          ]
        },
        {
          "output_type": "stream",
          "name": "stderr",
          "text": [
            "[Parallel(n_jobs=-2)]: Done 200 out of 200 | elapsed:    0.2s finished\n",
            "[Parallel(n_jobs=1)]: Using backend SequentialBackend with 1 concurrent workers.\n",
            "[Parallel(n_jobs=1)]: Done 200 out of 200 | elapsed:    0.0s finished\n",
            "[Parallel(n_jobs=1)]: Using backend SequentialBackend with 1 concurrent workers.\n",
            "[Parallel(n_jobs=1)]: Done 200 out of 200 | elapsed:    0.0s finished\n",
            "[Parallel(n_jobs=1)]: Using backend SequentialBackend with 1 concurrent workers.\n",
            "[Parallel(n_jobs=1)]: Done 200 out of 200 | elapsed:    0.0s finished\n"
          ]
        },
        {
          "output_type": "stream",
          "name": "stdout",
          "text": [
            "66 - DatepartRegression with avg smape 2.75: \n",
            "Model Number: 67 of 129 with model MultivariateRegression for Validation 1\n"
          ]
        },
        {
          "output_type": "stream",
          "name": "stderr",
          "text": [
            "[Parallel(n_jobs=-2)]: Using backend SequentialBackend with 1 concurrent workers.\n",
            "[Parallel(n_jobs=-2)]: Done 200 out of 200 | elapsed:    0.2s finished\n"
          ]
        },
        {
          "output_type": "stream",
          "name": "stdout",
          "text": [
            "67 - MultivariateRegression with avg smape 0.53: \n",
            "Model Number: 68 of 129 with model AverageValueNaive for Validation 1\n"
          ]
        },
        {
          "output_type": "stream",
          "name": "stderr",
          "text": [
            "[Parallel(n_jobs=1)]: Using backend SequentialBackend with 1 concurrent workers.\n",
            "[Parallel(n_jobs=1)]: Done 200 out of 200 | elapsed:    0.0s finished\n",
            "[Parallel(n_jobs=1)]: Using backend SequentialBackend with 1 concurrent workers.\n",
            "[Parallel(n_jobs=1)]: Done 200 out of 200 | elapsed:    0.0s finished\n",
            "[Parallel(n_jobs=1)]: Using backend SequentialBackend with 1 concurrent workers.\n",
            "[Parallel(n_jobs=1)]: Done 200 out of 200 | elapsed:    0.0s finished\n"
          ]
        },
        {
          "output_type": "stream",
          "name": "stdout",
          "text": [
            "68 - AverageValueNaive with avg smape 0.35: \n",
            "Model Number: 69 of 129 with model AverageValueNaive for Validation 1\n",
            "69 - AverageValueNaive with avg smape 0.56: \n",
            "Model Number: 70 of 129 with model LastValueNaive for Validation 1\n",
            "70 - LastValueNaive with avg smape 0.49: \n",
            "Model Number: 71 of 129 with model AverageValueNaive for Validation 1\n",
            "71 - AverageValueNaive with avg smape 0.51: \n",
            "Model Number: 72 of 129 with model ETS for Validation 1\n",
            "ETS error TypeError(\"__init__() got an unexpected keyword argument 'damped_trend'\")\n",
            "72 - ETS with avg smape 0.37: \n",
            "Model Number: 73 of 129 with model LastValueNaive for Validation 1\n",
            "73 - LastValueNaive with avg smape 1.53: \n",
            "Model Number: 74 of 129 with model AverageValueNaive for Validation 1\n",
            "74 - AverageValueNaive with avg smape 0.52: \n",
            "Model Number: 75 of 129 with model AverageValueNaive for Validation 1\n",
            "75 - AverageValueNaive with avg smape 2.42: \n",
            "Model Number: 76 of 129 with model LastValueNaive for Validation 1\n",
            "76 - LastValueNaive with avg smape 0.88: \n",
            "Model Number: 77 of 129 with model DatepartRegression for Validation 1\n",
            "77 - DatepartRegression with avg smape 0.48: \n",
            "Model Number: 78 of 129 with model MultivariateMotif for Validation 1\n",
            "78 - MultivariateMotif with avg smape 0.54: \n",
            "Model Number: 79 of 129 with model MultivariateRegression for Validation 1\n"
          ]
        },
        {
          "output_type": "stream",
          "name": "stderr",
          "text": [
            "[Parallel(n_jobs=-2)]: Using backend SequentialBackend with 1 concurrent workers.\n",
            "[Parallel(n_jobs=-2)]: Done 200 out of 200 | elapsed:    0.3s finished\n",
            "[Parallel(n_jobs=1)]: Using backend SequentialBackend with 1 concurrent workers.\n",
            "[Parallel(n_jobs=1)]: Done 200 out of 200 | elapsed:    0.0s finished\n",
            "[Parallel(n_jobs=1)]: Using backend SequentialBackend with 1 concurrent workers.\n",
            "[Parallel(n_jobs=1)]: Done 200 out of 200 | elapsed:    0.0s finished\n",
            "[Parallel(n_jobs=1)]: Using backend SequentialBackend with 1 concurrent workers.\n",
            "[Parallel(n_jobs=1)]: Done 200 out of 200 | elapsed:    0.0s finished\n"
          ]
        },
        {
          "output_type": "stream",
          "name": "stdout",
          "text": [
            "79 - MultivariateRegression with avg smape 1.45: \n",
            "Model Number: 80 of 129 with model WindowRegression for Validation 1\n",
            "80 - WindowRegression with avg smape 2.56: \n",
            "Model Number: 81 of 129 with model MultivariateRegression for Validation 1\n"
          ]
        },
        {
          "output_type": "stream",
          "name": "stderr",
          "text": [
            "[Parallel(n_jobs=-2)]: Using backend SequentialBackend with 1 concurrent workers.\n",
            "[Parallel(n_jobs=-2)]: Done 200 out of 200 | elapsed:    0.2s finished\n"
          ]
        },
        {
          "output_type": "stream",
          "name": "stdout",
          "text": [
            "81 - MultivariateRegression with avg smape 0.31: \n",
            "Model Number: 82 of 129 with model ETS for Validation 1\n",
            "ETS error TypeError(\"__init__() got an unexpected keyword argument 'damped_trend'\")\n"
          ]
        },
        {
          "output_type": "stream",
          "name": "stderr",
          "text": [
            "[Parallel(n_jobs=1)]: Using backend SequentialBackend with 1 concurrent workers.\n",
            "[Parallel(n_jobs=1)]: Done 200 out of 200 | elapsed:    0.0s finished\n",
            "[Parallel(n_jobs=1)]: Using backend SequentialBackend with 1 concurrent workers.\n",
            "[Parallel(n_jobs=1)]: Done 200 out of 200 | elapsed:    0.0s finished\n",
            "[Parallel(n_jobs=1)]: Using backend SequentialBackend with 1 concurrent workers.\n",
            "[Parallel(n_jobs=1)]: Done 200 out of 200 | elapsed:    0.0s finished\n"
          ]
        },
        {
          "output_type": "stream",
          "name": "stdout",
          "text": [
            "82 - ETS with avg smape 0.35: \n",
            "Model Number: 83 of 129 with model SeasonalNaive for Validation 1\n",
            "83 - SeasonalNaive with avg smape 2.67: \n",
            "Model Number: 84 of 129 with model UnobservedComponents for Validation 1\n",
            "84 - UnobservedComponents with avg smape 0.35: \n",
            "Model Number: 85 of 129 with model LastValueNaive for Validation 1\n",
            "85 - LastValueNaive with avg smape 0.61: \n",
            "Model Number: 86 of 129 with model UnobservedComponents for Validation 1\n",
            "86 - UnobservedComponents with avg smape 3.89: \n",
            "Model Number: 87 of 129 with model SeasonalNaive for Validation 1\n",
            "87 - SeasonalNaive with avg smape 0.34: \n",
            "Model Number: 88 of 129 with model ETS for Validation 1\n",
            "ETS error TypeError(\"__init__() got an unexpected keyword argument 'damped_trend'\")\n",
            "88 - ETS with avg smape 0.37: \n",
            "Model Number: 89 of 129 with model ETS for Validation 1\n",
            "ETS error TypeError(\"__init__() got an unexpected keyword argument 'damped_trend'\")\n",
            "89 - ETS with avg smape 0.45: \n",
            "Model Number: 90 of 129 with model MultivariateRegression for Validation 1\n"
          ]
        },
        {
          "output_type": "stream",
          "name": "stderr",
          "text": [
            "[Parallel(n_jobs=-2)]: Using backend SequentialBackend with 1 concurrent workers.\n",
            "[Parallel(n_jobs=-2)]: Done 200 out of 200 | elapsed:    0.2s finished\n",
            "[Parallel(n_jobs=1)]: Using backend SequentialBackend with 1 concurrent workers.\n",
            "[Parallel(n_jobs=1)]: Done 200 out of 200 | elapsed:    0.0s finished\n",
            "[Parallel(n_jobs=1)]: Using backend SequentialBackend with 1 concurrent workers.\n",
            "[Parallel(n_jobs=1)]: Done 200 out of 200 | elapsed:    0.0s finished\n",
            "[Parallel(n_jobs=1)]: Using backend SequentialBackend with 1 concurrent workers.\n",
            "[Parallel(n_jobs=1)]: Done 200 out of 200 | elapsed:    0.0s finished\n",
            "/usr/local/lib/python3.7/dist-packages/sklearn/linear_model/_coordinate_descent.py:648: ConvergenceWarning: Objective did not converge. You might want to increase the number of iterations, check the scale of the features or consider increasing regularisation. Duality gap: 1.291e+08, tolerance: 4.813e+04\n",
            "  coef_, l1_reg, l2_reg, X, y, max_iter, tol, rng, random, positive\n"
          ]
        },
        {
          "output_type": "stream",
          "name": "stdout",
          "text": [
            "90 - MultivariateRegression with avg smape 1.6: \n",
            "Model Number: 91 of 129 with model MultivariateRegression for Validation 1\n"
          ]
        },
        {
          "output_type": "stream",
          "name": "stderr",
          "text": [
            "[Parallel(n_jobs=-2)]: Using backend SequentialBackend with 1 concurrent workers.\n",
            "[Parallel(n_jobs=-2)]: Done 200 out of 200 | elapsed:    0.2s finished\n"
          ]
        },
        {
          "output_type": "stream",
          "name": "stdout",
          "text": [
            "91 - MultivariateRegression with avg smape 0.64: \n",
            "Model Number: 92 of 129 with model MultivariateMotif for Validation 1\n"
          ]
        },
        {
          "output_type": "stream",
          "name": "stderr",
          "text": [
            "[Parallel(n_jobs=1)]: Using backend SequentialBackend with 1 concurrent workers.\n",
            "[Parallel(n_jobs=1)]: Done 200 out of 200 | elapsed:    0.0s finished\n",
            "[Parallel(n_jobs=1)]: Using backend SequentialBackend with 1 concurrent workers.\n",
            "[Parallel(n_jobs=1)]: Done 200 out of 200 | elapsed:    0.0s finished\n",
            "[Parallel(n_jobs=1)]: Using backend SequentialBackend with 1 concurrent workers.\n",
            "[Parallel(n_jobs=1)]: Done 200 out of 200 | elapsed:    0.0s finished\n"
          ]
        },
        {
          "output_type": "stream",
          "name": "stdout",
          "text": [
            "92 - MultivariateMotif with avg smape 0.29: \n",
            "Model Number: 93 of 129 with model MultivariateRegression for Validation 1\n"
          ]
        },
        {
          "output_type": "stream",
          "name": "stderr",
          "text": [
            "[Parallel(n_jobs=-2)]: Using backend SequentialBackend with 1 concurrent workers.\n",
            "[Parallel(n_jobs=-2)]: Done 200 out of 200 | elapsed:    0.2s finished\n",
            "[Parallel(n_jobs=1)]: Using backend SequentialBackend with 1 concurrent workers.\n",
            "[Parallel(n_jobs=1)]: Done 200 out of 200 | elapsed:    0.0s finished\n"
          ]
        },
        {
          "output_type": "stream",
          "name": "stdout",
          "text": [
            "93 - MultivariateRegression with avg smape 3.6: \n",
            "Model Number: 94 of 129 with model ETS for Validation 1\n",
            "ETS error TypeError(\"__init__() got an unexpected keyword argument 'damped_trend'\")\n"
          ]
        },
        {
          "output_type": "stream",
          "name": "stderr",
          "text": [
            "[Parallel(n_jobs=1)]: Using backend SequentialBackend with 1 concurrent workers.\n",
            "[Parallel(n_jobs=1)]: Done 200 out of 200 | elapsed:    0.0s finished\n",
            "[Parallel(n_jobs=1)]: Using backend SequentialBackend with 1 concurrent workers.\n",
            "[Parallel(n_jobs=1)]: Done 200 out of 200 | elapsed:    0.0s finished\n",
            "INFO:fbprophet:Disabling yearly seasonality. Run prophet with yearly_seasonality=True to override this.\n",
            "INFO:fbprophet:Disabling daily seasonality. Run prophet with daily_seasonality=True to override this.\n"
          ]
        },
        {
          "output_type": "stream",
          "name": "stdout",
          "text": [
            "94 - ETS with avg smape 0.33: \n",
            "Model Number: 95 of 129 with model FBProphet for Validation 1\n",
            "95 - FBProphet with avg smape 0.5: \n",
            "Model Number: 96 of 129 with model GLM for Validation 1\n",
            "96 - GLM with avg smape 0.56: \n",
            "Model Number: 97 of 129 with model ETS for Validation 1\n",
            "ETS error TypeError(\"__init__() got an unexpected keyword argument 'damped_trend'\")\n",
            "97 - ETS with avg smape 0.56: \n",
            "Model Number: 98 of 129 with model GLS for Validation 1\n",
            "98 - GLS with avg smape 0.56: \n",
            "Model Number: 99 of 129 with model SeasonalNaive for Validation 1\n",
            "99 - SeasonalNaive with avg smape 0.9: \n",
            "Model Number: 100 of 129 with model SeasonalNaive for Validation 1\n",
            "100 - SeasonalNaive with avg smape 0.9: \n",
            "Model Number: 101 of 129 with model GLS for Validation 1\n",
            "101 - GLS with avg smape 0.48: \n",
            "Model Number: 102 of 129 with model GLS for Validation 1\n",
            "102 - GLS with avg smape 0.51: \n",
            "Model Number: 103 of 129 with model WindowRegression for Validation 1\n",
            "103 - WindowRegression with avg smape 1.03: \n",
            "Model Number: 104 of 129 with model WindowRegression for Validation 1\n",
            "104 - WindowRegression with avg smape 0.92: \n",
            "Model Number: 105 of 129 with model SectionalMotif for Validation 1\n",
            "105 - SectionalMotif with avg smape 2.18: \n",
            "Model Number: 106 of 129 with model WindowRegression for Validation 1\n",
            "106 - WindowRegression with avg smape 1.07: \n",
            "Model Number: 107 of 129 with model DatepartRegression for Validation 1\n",
            "107 - DatepartRegression with avg smape 1.13: \n",
            "Model Number: 108 of 129 with model UnobservedComponents for Validation 1\n",
            "108 - UnobservedComponents with avg smape 0.56: \n",
            "Model Number: 109 of 129 with model DatepartRegression for Validation 1\n",
            "109 - DatepartRegression with avg smape 1.37: \n",
            "Model Number: 110 of 129 with model SectionalMotif for Validation 1\n",
            "110 - SectionalMotif with avg smape 0.36: \n",
            "Model Number: 111 of 129 with model SectionalMotif for Validation 1\n",
            "111 - SectionalMotif with avg smape 1.49: \n",
            "Model Number: 112 of 129 with model SeasonalNaive for Validation 1\n",
            "112 - SeasonalNaive with avg smape 0.37: \n",
            "Model Number: 113 of 129 with model UnobservedComponents for Validation 1\n",
            "113 - UnobservedComponents with avg smape 0.75: \n",
            "Model Number: 114 of 129 with model SectionalMotif for Validation 1\n",
            "114 - SectionalMotif with avg smape 2.55: \n",
            "Model Number: 115 of 129 with model WindowRegression for Validation 1\n"
          ]
        },
        {
          "output_type": "stream",
          "name": "stderr",
          "text": [
            "[Parallel(n_jobs=-2)]: Using backend SequentialBackend with 1 concurrent workers.\n",
            "[Parallel(n_jobs=-2)]: Done 1000 out of 1000 | elapsed:    0.7s finished\n",
            "[Parallel(n_jobs=1)]: Using backend SequentialBackend with 1 concurrent workers.\n",
            "[Parallel(n_jobs=1)]: Done 1000 out of 1000 | elapsed:    0.1s finished\n",
            "[Parallel(n_jobs=1)]: Using backend SequentialBackend with 1 concurrent workers.\n",
            "[Parallel(n_jobs=1)]: Done 1000 out of 1000 | elapsed:    0.1s finished\n",
            "[Parallel(n_jobs=1)]: Using backend SequentialBackend with 1 concurrent workers.\n"
          ]
        },
        {
          "output_type": "stream",
          "name": "stdout",
          "text": [
            "115 - WindowRegression with avg smape 0.86: \n",
            "Model Number: 116 of 129 with model SeasonalNaive for Validation 1\n",
            "116 - SeasonalNaive with avg smape 0.37: \n",
            "Model Number: 117 of 129 with model SectionalMotif for Validation 1\n"
          ]
        },
        {
          "output_type": "stream",
          "name": "stderr",
          "text": [
            "[Parallel(n_jobs=1)]: Done 1000 out of 1000 | elapsed:    0.1s finished\n"
          ]
        },
        {
          "output_type": "stream",
          "name": "stdout",
          "text": [
            "117 - SectionalMotif with avg smape 2.05: \n",
            "Model Number: 118 of 129 with model FBProphet for Validation 1\n"
          ]
        },
        {
          "output_type": "stream",
          "name": "stderr",
          "text": [
            "INFO:fbprophet:Disabling yearly seasonality. Run prophet with yearly_seasonality=True to override this.\n",
            "INFO:fbprophet:Disabling daily seasonality. Run prophet with daily_seasonality=True to override this.\n",
            "INFO:fbprophet:n_changepoints greater than number of observations. Using 15.\n",
            "INFO:fbprophet:Disabling yearly seasonality. Run prophet with yearly_seasonality=True to override this.\n",
            "INFO:fbprophet:Disabling daily seasonality. Run prophet with daily_seasonality=True to override this.\n",
            "INFO:fbprophet:n_changepoints greater than number of observations. Using 15.\n"
          ]
        },
        {
          "output_type": "stream",
          "name": "stdout",
          "text": [
            "118 - FBProphet with avg smape 5.73: \n",
            "Model Number: 119 of 129 with model FBProphet for Validation 1\n",
            "119 - FBProphet with avg smape 5.77: \n",
            "Model Number: 120 of 129 with model SeasonalNaive for Validation 1\n",
            "120 - SeasonalNaive with avg smape 0.39: \n",
            "Model Number: 121 of 129 with model SeasonalNaive for Validation 1\n",
            "121 - SeasonalNaive with avg smape 0.58: \n",
            "Model Number: 122 of 129 with model WindowRegression for Validation 1\n"
          ]
        },
        {
          "output_type": "stream",
          "name": "stderr",
          "text": [
            "INFO:fbprophet:Disabling yearly seasonality. Run prophet with yearly_seasonality=True to override this.\n",
            "INFO:fbprophet:Disabling daily seasonality. Run prophet with daily_seasonality=True to override this.\n"
          ]
        },
        {
          "output_type": "stream",
          "name": "stdout",
          "text": [
            "122 - WindowRegression with avg smape 1.9: \n",
            "Model Number: 123 of 129 with model FBProphet for Validation 1\n"
          ]
        },
        {
          "output_type": "stream",
          "name": "stderr",
          "text": [
            "INFO:fbprophet:Disabling yearly seasonality. Run prophet with yearly_seasonality=True to override this.\n",
            "INFO:fbprophet:Disabling daily seasonality. Run prophet with daily_seasonality=True to override this.\n"
          ]
        },
        {
          "output_type": "stream",
          "name": "stdout",
          "text": [
            "123 - FBProphet with avg smape 0.91: \n",
            "Model Number: 124 of 129 with model FBProphet for Validation 1\n"
          ]
        },
        {
          "output_type": "stream",
          "name": "stderr",
          "text": [
            "INFO:fbprophet:Disabling yearly seasonality. Run prophet with yearly_seasonality=True to override this.\n",
            "INFO:fbprophet:Disabling daily seasonality. Run prophet with daily_seasonality=True to override this.\n"
          ]
        },
        {
          "output_type": "stream",
          "name": "stdout",
          "text": [
            "124 - FBProphet with avg smape 0.98: \n",
            "Model Number: 125 of 129 with model FBProphet for Validation 1\n"
          ]
        },
        {
          "output_type": "stream",
          "name": "stderr",
          "text": [
            "INFO:fbprophet:Disabling yearly seasonality. Run prophet with yearly_seasonality=True to override this.\n",
            "INFO:fbprophet:Disabling daily seasonality. Run prophet with daily_seasonality=True to override this.\n",
            "INFO:fbprophet:n_changepoints greater than number of observations. Using 15.\n"
          ]
        },
        {
          "output_type": "stream",
          "name": "stdout",
          "text": [
            "125 - FBProphet with avg smape 0.28: \n",
            "Model Number: 126 of 129 with model FBProphet for Validation 1\n",
            "126 - FBProphet with avg smape 3.84: \n",
            "Model Number: 127 of 129 with model GLM for Validation 1\n",
            "127 - GLM with avg smape 0.8: \n",
            "Model Number: 128 of 129 with model GLM for Validation 1\n",
            "128 - GLM with avg smape 0.74: \n",
            "Model Number: 129 of 129 with model GLM for Validation 1\n"
          ]
        },
        {
          "output_type": "stream",
          "name": "stderr",
          "text": [
            "/usr/local/lib/python3.7/dist-packages/statsmodels/genmod/families/links.py:190: RuntimeWarning: overflow encountered in exp\n",
            "  t = np.exp(-z)\n",
            "/usr/local/lib/python3.7/dist-packages/statsmodels/genmod/families/family.py:889: RuntimeWarning: divide by zero encountered in true_divide\n",
            "  endog_mu = self._clean(endog / mu)\n",
            "/usr/local/lib/python3.7/dist-packages/statsmodels/genmod/families/links.py:190: RuntimeWarning: overflow encountered in exp\n",
            "  t = np.exp(-z)\n",
            "/usr/local/lib/python3.7/dist-packages/statsmodels/genmod/families/family.py:889: RuntimeWarning: divide by zero encountered in true_divide\n",
            "  endog_mu = self._clean(endog / mu)\n"
          ]
        },
        {
          "output_type": "stream",
          "name": "stdout",
          "text": [
            "129 - GLM with avg smape 1.22: \n",
            "Validation Round: 2\n",
            "Model Number: 1 of 129 with model Ensemble for Validation 2\n",
            "📈 1 - Ensemble with avg smape 3.0: \n",
            "Model Number: 2 of 129 with model Ensemble for Validation 2\n",
            "2 - Ensemble with avg smape 3.0: \n",
            "Model Number: 3 of 129 with model Ensemble for Validation 2\n",
            "3 - Ensemble with avg smape 3.02: \n",
            "Model Number: 4 of 129 with model Ensemble for Validation 2\n"
          ]
        },
        {
          "output_type": "stream",
          "name": "stderr",
          "text": [
            "INFO:fbprophet:Disabling yearly seasonality. Run prophet with yearly_seasonality=True to override this.\n",
            "INFO:fbprophet:Disabling daily seasonality. Run prophet with daily_seasonality=True to override this.\n"
          ]
        },
        {
          "output_type": "stream",
          "name": "stdout",
          "text": [
            "📈 4 - Ensemble with avg smape 2.94: \n",
            "Model Number: 5 of 129 with model Ensemble for Validation 2\n",
            "5 - Ensemble with avg smape 2.99: \n",
            "Model Number: 6 of 129 with model NVAR for Validation 2\n",
            "6 - NVAR with avg smape 2.99: \n",
            "Model Number: 7 of 129 with model NVAR for Validation 2\n",
            "7 - NVAR with avg smape 2.99: \n",
            "Model Number: 8 of 129 with model Ensemble for Validation 2\n",
            "8 - Ensemble with avg smape 2.99: \n",
            "Model Number: 9 of 129 with model NVAR for Validation 2\n",
            "9 - NVAR with avg smape 2.99: \n",
            "Model Number: 10 of 129 with model NVAR for Validation 2\n",
            "10 - NVAR with avg smape 2.99: \n",
            "Model Number: 11 of 129 with model NVAR for Validation 2\n",
            "📈 11 - NVAR with avg smape 2.92: \n",
            "Model Number: 12 of 129 with model NVAR for Validation 2\n",
            "12 - NVAR with avg smape 3.02: \n",
            "Model Number: 13 of 129 with model NVAR for Validation 2\n",
            "13 - NVAR with avg smape 3.02: \n",
            "Model Number: 14 of 129 with model NVAR for Validation 2\n",
            "14 - NVAR with avg smape 3.02: \n",
            "Model Number: 15 of 129 with model UnivariateMotif for Validation 2\n",
            "15 - UnivariateMotif with avg smape 3.01: \n",
            "Model Number: 16 of 129 with model ConstantNaive for Validation 2\n",
            "16 - ConstantNaive with avg smape 3.05: \n",
            "Model Number: 17 of 129 with model UnivariateMotif for Validation 2\n",
            "📈 17 - UnivariateMotif with avg smape 1.45: \n",
            "Model Number: 18 of 129 with model Ensemble for Validation 2\n"
          ]
        },
        {
          "output_type": "stream",
          "name": "stderr",
          "text": [
            "[Parallel(n_jobs=-2)]: Using backend SequentialBackend with 1 concurrent workers.\n",
            "[Parallel(n_jobs=-2)]: Done 200 out of 200 | elapsed:    0.2s finished\n",
            "[Parallel(n_jobs=1)]: Using backend SequentialBackend with 1 concurrent workers.\n",
            "[Parallel(n_jobs=1)]: Done 200 out of 200 | elapsed:    0.0s finished\n",
            "[Parallel(n_jobs=1)]: Using backend SequentialBackend with 1 concurrent workers.\n",
            "[Parallel(n_jobs=1)]: Done 200 out of 200 | elapsed:    0.0s finished\n",
            "[Parallel(n_jobs=1)]: Using backend SequentialBackend with 1 concurrent workers.\n",
            "[Parallel(n_jobs=1)]: Done 200 out of 200 | elapsed:    0.0s finished\n"
          ]
        },
        {
          "output_type": "stream",
          "name": "stdout",
          "text": [
            "18 - Ensemble with avg smape 2.97: \n",
            "Model Number: 19 of 129 with model UnivariateMotif for Validation 2\n",
            "19 - UnivariateMotif with avg smape 3.32: \n",
            "Model Number: 20 of 129 with model MultivariateMotif for Validation 2\n",
            "20 - MultivariateMotif with avg smape 2.97: \n",
            "Model Number: 21 of 129 with model ConstantNaive for Validation 2\n",
            "21 - ConstantNaive with avg smape 2.89: \n",
            "Model Number: 22 of 129 with model UnivariateMotif for Validation 2\n",
            "22 - UnivariateMotif with avg smape 2.66: \n",
            "Model Number: 23 of 129 with model MultivariateMotif for Validation 2\n",
            "23 - MultivariateMotif with avg smape 2.6: \n",
            "Model Number: 24 of 129 with model UnivariateMotif for Validation 2\n",
            "24 - UnivariateMotif with avg smape 2.74: \n",
            "Model Number: 25 of 129 with model FBProphet for Validation 2\n"
          ]
        },
        {
          "output_type": "stream",
          "name": "stderr",
          "text": [
            "INFO:fbprophet:Disabling yearly seasonality. Run prophet with yearly_seasonality=True to override this.\n",
            "INFO:fbprophet:Disabling daily seasonality. Run prophet with daily_seasonality=True to override this.\n"
          ]
        },
        {
          "output_type": "stream",
          "name": "stdout",
          "text": [
            "25 - FBProphet with avg smape 2.54: \n",
            "Model Number: 26 of 129 with model Ensemble for Validation 2\n"
          ]
        },
        {
          "output_type": "stream",
          "name": "stderr",
          "text": [
            "[Parallel(n_jobs=-2)]: Using backend SequentialBackend with 1 concurrent workers.\n",
            "[Parallel(n_jobs=-2)]: Done 200 out of 200 | elapsed:    0.2s finished\n",
            "[Parallel(n_jobs=1)]: Using backend SequentialBackend with 1 concurrent workers.\n"
          ]
        },
        {
          "output_type": "stream",
          "name": "stdout",
          "text": [
            "26 - Ensemble with avg smape 2.43: \n",
            "Model Number: 27 of 129 with model UnivariateMotif for Validation 2\n"
          ]
        },
        {
          "output_type": "stream",
          "name": "stderr",
          "text": [
            "[Parallel(n_jobs=1)]: Done 200 out of 200 | elapsed:    0.0s finished\n",
            "[Parallel(n_jobs=1)]: Using backend SequentialBackend with 1 concurrent workers.\n",
            "[Parallel(n_jobs=1)]: Done 200 out of 200 | elapsed:    0.0s finished\n",
            "[Parallel(n_jobs=1)]: Using backend SequentialBackend with 1 concurrent workers.\n",
            "[Parallel(n_jobs=1)]: Done 200 out of 200 | elapsed:    0.0s finished\n"
          ]
        },
        {
          "output_type": "stream",
          "name": "stdout",
          "text": [
            "27 - UnivariateMotif with avg smape 3.21: \n",
            "Model Number: 28 of 129 with model ConstantNaive for Validation 2\n",
            "28 - ConstantNaive with avg smape 3.01: \n",
            "Model Number: 29 of 129 with model WindowRegression for Validation 2\n",
            "[LibLinear][LibLinear][LibLinear][LibLinear][LibLinear][LibLinear][LibLinear][LibLinear][LibLinear][LibLinear][LibLinear][LibLinear][LibLinear][LibLinear][LibLinear][LibLinear][LibLinear][LibLinear][LibLinear][LibLinear][LibLinear][LibLinear][LibLinear][LibLinear][LibLinear][LibLinear][LibLinear][LibLinear][LibLinear][LibLinear][LibLinear][LibLinear][LibLinear][LibLinear][LibLinear][LibLinear][LibLinear][LibLinear][LibLinear][LibLinear][LibLinear][LibLinear][LibLinear][LibLinear][LibLinear][LibLinear][LibLinear][LibLinear][LibLinear][LibLinear]29 - WindowRegression with avg smape 3.38: \n",
            "Model Number: 30 of 129 with model MultivariateMotif for Validation 2\n",
            "30 - MultivariateMotif with avg smape 2.46: \n",
            "Model Number: 31 of 129 with model UnobservedComponents for Validation 2\n",
            "31 - UnobservedComponents with avg smape 3.26: \n",
            "Model Number: 32 of 129 with model ConstantNaive for Validation 2\n",
            "32 - ConstantNaive with avg smape 2.79: \n",
            "Model Number: 33 of 129 with model ConstantNaive for Validation 2\n",
            "33 - ConstantNaive with avg smape 2.78: \n",
            "Model Number: 34 of 129 with model UnobservedComponents for Validation 2\n",
            "34 - UnobservedComponents with avg smape 3.18: \n",
            "Model Number: 35 of 129 with model MultivariateMotif for Validation 2\n",
            "35 - MultivariateMotif with avg smape 2.5: \n",
            "Model Number: 36 of 129 with model ConstantNaive for Validation 2\n",
            "36 - ConstantNaive with avg smape 2.54: \n",
            "Model Number: 37 of 129 with model ConstantNaive for Validation 2\n",
            "37 - ConstantNaive with avg smape 2.54: \n",
            "Model Number: 38 of 129 with model UnobservedComponents for Validation 2\n",
            "38 - UnobservedComponents with avg smape 3.39: \n",
            "Model Number: 39 of 129 with model MultivariateMotif for Validation 2\n",
            "📈 39 - MultivariateMotif with avg smape 1.05: \n",
            "Model Number: 40 of 129 with model AverageValueNaive for Validation 2\n",
            "40 - AverageValueNaive with avg smape 2.8: \n",
            "Model Number: 41 of 129 with model SectionalMotif for Validation 2\n",
            "41 - SectionalMotif with avg smape 1.93: \n",
            "Model Number: 42 of 129 with model SectionalMotif for Validation 2\n",
            "42 - SectionalMotif with avg smape 1.69: \n",
            "Model Number: 43 of 129 with model SectionalMotif for Validation 2\n",
            "43 - SectionalMotif with avg smape 1.69: \n",
            "Model Number: 44 of 129 with model MultivariateRegression for Validation 2\n"
          ]
        },
        {
          "output_type": "stream",
          "name": "stderr",
          "text": [
            "[Parallel(n_jobs=-2)]: Using backend SequentialBackend with 1 concurrent workers.\n",
            "[Parallel(n_jobs=-2)]: Done 200 out of 200 | elapsed:    0.2s finished\n"
          ]
        },
        {
          "output_type": "stream",
          "name": "stdout",
          "text": [
            "44 - MultivariateRegression with avg smape 3.47: \n",
            "Model Number: 45 of 129 with model UnivariateMotif for Validation 2\n"
          ]
        },
        {
          "output_type": "stream",
          "name": "stderr",
          "text": [
            "[Parallel(n_jobs=1)]: Using backend SequentialBackend with 1 concurrent workers.\n",
            "[Parallel(n_jobs=1)]: Done 200 out of 200 | elapsed:    0.0s finished\n",
            "[Parallel(n_jobs=1)]: Using backend SequentialBackend with 1 concurrent workers.\n",
            "[Parallel(n_jobs=1)]: Done 200 out of 200 | elapsed:    0.0s finished\n",
            "[Parallel(n_jobs=1)]: Using backend SequentialBackend with 1 concurrent workers.\n",
            "[Parallel(n_jobs=1)]: Done 200 out of 200 | elapsed:    0.0s finished\n"
          ]
        },
        {
          "output_type": "stream",
          "name": "stdout",
          "text": [
            "45 - UnivariateMotif with avg smape 3.25: \n",
            "Model Number: 46 of 129 with model UnivariateMotif for Validation 2\n",
            "46 - UnivariateMotif with avg smape 2.96: \n",
            "Model Number: 47 of 129 with model ConstantNaive for Validation 2\n",
            "47 - ConstantNaive with avg smape 2.52: \n",
            "Model Number: 48 of 129 with model UnobservedComponents for Validation 2\n",
            "48 - UnobservedComponents with avg smape 2.76: \n",
            "Model Number: 49 of 129 with model GLS for Validation 2\n",
            "49 - GLS with avg smape 2.23: \n",
            "Model Number: 50 of 129 with model LastValueNaive for Validation 2\n",
            "50 - LastValueNaive with avg smape 1.18: \n",
            "Model Number: 51 of 129 with model ETS for Validation 2\n",
            "ETS error TypeError(\"__init__() got an unexpected keyword argument 'damped_trend'\")\n",
            "51 - ETS with avg smape 1.19: \n",
            "Model Number: 52 of 129 with model GLS for Validation 2\n",
            "52 - GLS with avg smape 2.02: \n",
            "Model Number: 53 of 129 with model AverageValueNaive for Validation 2\n",
            "53 - AverageValueNaive with avg smape 2.05: \n",
            "Model Number: 54 of 129 with model GLS for Validation 2\n",
            "54 - GLS with avg smape 2.74: \n",
            "Model Number: 55 of 129 with model GLS for Validation 2\n",
            "55 - GLS with avg smape 2.23: \n",
            "Model Number: 56 of 129 with model AverageValueNaive for Validation 2\n",
            "56 - AverageValueNaive with avg smape 2.97: \n",
            "Model Number: 57 of 129 with model MultivariateMotif for Validation 2\n",
            "57 - MultivariateMotif with avg smape 1.5: \n",
            "Model Number: 58 of 129 with model GLS for Validation 2\n",
            "58 - GLS with avg smape 2.76: \n",
            "Model Number: 59 of 129 with model DatepartRegression for Validation 2\n",
            "59 - DatepartRegression with avg smape 2.6: \n",
            "Model Number: 60 of 129 with model LastValueNaive for Validation 2\n",
            "60 - LastValueNaive with avg smape 2.49: \n",
            "Model Number: 61 of 129 with model ETS for Validation 2\n",
            "ETS error TypeError(\"__init__() got an unexpected keyword argument 'damped_trend'\")\n",
            "61 - ETS with avg smape 1.62: \n",
            "Model Number: 62 of 129 with model LastValueNaive for Validation 2\n",
            "62 - LastValueNaive with avg smape 2.36: \n",
            "Model Number: 63 of 129 with model WindowRegression for Validation 2\n",
            "63 - WindowRegression with avg smape 1.5: \n",
            "Model Number: 64 of 129 with model LastValueNaive for Validation 2\n",
            "64 - LastValueNaive with avg smape 2.86: \n"
          ]
        },
        {
          "output_type": "stream",
          "name": "stderr",
          "text": [
            "/usr/local/lib/python3.7/dist-packages/sklearn/linear_model/_coordinate_descent.py:648: ConvergenceWarning: Objective did not converge. You might want to increase the number of iterations, check the scale of the features or consider increasing regularisation. Duality gap: 1.666e+01, tolerance: 5.500e-03\n",
            "  coef_, l1_reg, l2_reg, X, y, max_iter, tol, rng, random, positive\n",
            "/usr/local/lib/python3.7/dist-packages/sklearn/svm/_base.py:1208: ConvergenceWarning: Liblinear failed to converge, increase the number of iterations.\n",
            "  ConvergenceWarning,\n",
            "/usr/local/lib/python3.7/dist-packages/sklearn/svm/_base.py:1208: ConvergenceWarning: Liblinear failed to converge, increase the number of iterations.\n",
            "  ConvergenceWarning,\n",
            "/usr/local/lib/python3.7/dist-packages/sklearn/svm/_base.py:1208: ConvergenceWarning: Liblinear failed to converge, increase the number of iterations.\n",
            "  ConvergenceWarning,\n"
          ]
        },
        {
          "output_type": "stream",
          "name": "stdout",
          "text": [
            "Model Number: 65 of 129 with model MultivariateRegression for Validation 2\n"
          ]
        },
        {
          "output_type": "stream",
          "name": "stderr",
          "text": [
            "[Parallel(n_jobs=-2)]: Using backend SequentialBackend with 1 concurrent workers.\n"
          ]
        },
        {
          "output_type": "stream",
          "name": "stdout",
          "text": [
            "65 - MultivariateRegression with avg smape 1.17: \n",
            "Model Number: 66 of 129 with model DatepartRegression for Validation 2\n"
          ]
        },
        {
          "output_type": "stream",
          "name": "stderr",
          "text": [
            "[Parallel(n_jobs=-2)]: Done 200 out of 200 | elapsed:    0.2s finished\n",
            "[Parallel(n_jobs=1)]: Using backend SequentialBackend with 1 concurrent workers.\n",
            "[Parallel(n_jobs=1)]: Done 200 out of 200 | elapsed:    0.0s finished\n",
            "[Parallel(n_jobs=1)]: Using backend SequentialBackend with 1 concurrent workers.\n",
            "[Parallel(n_jobs=1)]: Done 200 out of 200 | elapsed:    0.0s finished\n",
            "[Parallel(n_jobs=1)]: Using backend SequentialBackend with 1 concurrent workers.\n",
            "[Parallel(n_jobs=1)]: Done 200 out of 200 | elapsed:    0.0s finished\n"
          ]
        },
        {
          "output_type": "stream",
          "name": "stdout",
          "text": [
            "66 - DatepartRegression with avg smape 1.94: \n",
            "Model Number: 67 of 129 with model MultivariateRegression for Validation 2\n"
          ]
        },
        {
          "output_type": "stream",
          "name": "stderr",
          "text": [
            "[Parallel(n_jobs=-2)]: Using backend SequentialBackend with 1 concurrent workers.\n",
            "[Parallel(n_jobs=-2)]: Done 200 out of 200 | elapsed:    0.2s finished\n"
          ]
        },
        {
          "output_type": "stream",
          "name": "stdout",
          "text": [
            "67 - MultivariateRegression with avg smape 1.19: \n",
            "Model Number: 68 of 129 with model AverageValueNaive for Validation 2\n"
          ]
        },
        {
          "output_type": "stream",
          "name": "stderr",
          "text": [
            "[Parallel(n_jobs=1)]: Using backend SequentialBackend with 1 concurrent workers.\n",
            "[Parallel(n_jobs=1)]: Done 200 out of 200 | elapsed:    0.0s finished\n",
            "[Parallel(n_jobs=1)]: Using backend SequentialBackend with 1 concurrent workers.\n",
            "[Parallel(n_jobs=1)]: Done 200 out of 200 | elapsed:    0.0s finished\n",
            "[Parallel(n_jobs=1)]: Using backend SequentialBackend with 1 concurrent workers.\n",
            "[Parallel(n_jobs=1)]: Done 200 out of 200 | elapsed:    0.0s finished\n"
          ]
        },
        {
          "output_type": "stream",
          "name": "stdout",
          "text": [
            "68 - AverageValueNaive with avg smape 2.93: \n",
            "Model Number: 69 of 129 with model AverageValueNaive for Validation 2\n",
            "69 - AverageValueNaive with avg smape 2.5: \n",
            "Model Number: 70 of 129 with model LastValueNaive for Validation 2\n",
            "70 - LastValueNaive with avg smape 2.49: \n",
            "Model Number: 71 of 129 with model AverageValueNaive for Validation 2\n",
            "71 - AverageValueNaive with avg smape 2.76: \n",
            "Model Number: 72 of 129 with model ETS for Validation 2\n",
            "ETS error TypeError(\"__init__() got an unexpected keyword argument 'damped_trend'\")\n",
            "72 - ETS with avg smape 1.21: \n",
            "Model Number: 73 of 129 with model LastValueNaive for Validation 2\n",
            "73 - LastValueNaive with avg smape 3.29: \n",
            "Model Number: 74 of 129 with model AverageValueNaive for Validation 2\n",
            "74 - AverageValueNaive with avg smape 2.59: \n",
            "Model Number: 75 of 129 with model AverageValueNaive for Validation 2\n",
            "75 - AverageValueNaive with avg smape 3.65: \n",
            "Model Number: 76 of 129 with model LastValueNaive for Validation 2\n",
            "76 - LastValueNaive with avg smape 1.19: \n",
            "Model Number: 77 of 129 with model DatepartRegression for Validation 2\n",
            "77 - DatepartRegression with avg smape 2.72: \n",
            "Model Number: 78 of 129 with model MultivariateMotif for Validation 2\n",
            "78 - MultivariateMotif with avg smape 3.03: \n",
            "Model Number: 79 of 129 with model MultivariateRegression for Validation 2\n"
          ]
        },
        {
          "output_type": "stream",
          "name": "stderr",
          "text": [
            "[Parallel(n_jobs=-2)]: Using backend SequentialBackend with 1 concurrent workers.\n",
            "[Parallel(n_jobs=-2)]: Done 200 out of 200 | elapsed:    0.2s finished\n",
            "[Parallel(n_jobs=1)]: Using backend SequentialBackend with 1 concurrent workers.\n",
            "[Parallel(n_jobs=1)]: Done 200 out of 200 | elapsed:    0.0s finished\n",
            "[Parallel(n_jobs=1)]: Using backend SequentialBackend with 1 concurrent workers.\n",
            "[Parallel(n_jobs=1)]: Done 200 out of 200 | elapsed:    0.0s finished\n",
            "[Parallel(n_jobs=1)]: Using backend SequentialBackend with 1 concurrent workers.\n",
            "[Parallel(n_jobs=1)]: Done 200 out of 200 | elapsed:    0.0s finished\n"
          ]
        },
        {
          "output_type": "stream",
          "name": "stdout",
          "text": [
            "79 - MultivariateRegression with avg smape 2.27: \n",
            "Model Number: 80 of 129 with model WindowRegression for Validation 2\n",
            "📈 80 - WindowRegression with avg smape 1.04: \n",
            "Model Number: 81 of 129 with model MultivariateRegression for Validation 2\n"
          ]
        },
        {
          "output_type": "stream",
          "name": "stderr",
          "text": [
            "[Parallel(n_jobs=-2)]: Using backend SequentialBackend with 1 concurrent workers.\n",
            "[Parallel(n_jobs=-2)]: Done 200 out of 200 | elapsed:    0.2s finished\n"
          ]
        },
        {
          "output_type": "stream",
          "name": "stdout",
          "text": [
            "81 - MultivariateRegression with avg smape 2.7: \n",
            "Model Number: 82 of 129 with model ETS for Validation 2\n",
            "ETS error TypeError(\"__init__() got an unexpected keyword argument 'damped_trend'\")\n"
          ]
        },
        {
          "output_type": "stream",
          "name": "stderr",
          "text": [
            "[Parallel(n_jobs=1)]: Using backend SequentialBackend with 1 concurrent workers.\n",
            "[Parallel(n_jobs=1)]: Done 200 out of 200 | elapsed:    0.0s finished\n",
            "[Parallel(n_jobs=1)]: Using backend SequentialBackend with 1 concurrent workers.\n",
            "[Parallel(n_jobs=1)]: Done 200 out of 200 | elapsed:    0.0s finished\n",
            "[Parallel(n_jobs=1)]: Using backend SequentialBackend with 1 concurrent workers.\n",
            "[Parallel(n_jobs=1)]: Done 200 out of 200 | elapsed:    0.0s finished\n"
          ]
        },
        {
          "output_type": "stream",
          "name": "stdout",
          "text": [
            "82 - ETS with avg smape 1.18: \n",
            "Model Number: 83 of 129 with model SeasonalNaive for Validation 2\n",
            "83 - SeasonalNaive with avg smape 1.74: \n",
            "Model Number: 84 of 129 with model UnobservedComponents for Validation 2\n",
            "84 - UnobservedComponents with avg smape 3.24: \n",
            "Model Number: 85 of 129 with model LastValueNaive for Validation 2\n",
            "85 - LastValueNaive with avg smape 1.18: \n",
            "Model Number: 86 of 129 with model UnobservedComponents for Validation 2\n",
            "86 - UnobservedComponents with avg smape 2.76: \n",
            "Model Number: 87 of 129 with model SeasonalNaive for Validation 2\n",
            "📈 87 - SeasonalNaive with avg smape 0.84: \n",
            "Model Number: 88 of 129 with model ETS for Validation 2\n",
            "ETS error TypeError(\"__init__() got an unexpected keyword argument 'damped_trend'\")\n",
            "88 - ETS with avg smape 1.6: \n",
            "Model Number: 89 of 129 with model ETS for Validation 2\n",
            "ETS error TypeError(\"__init__() got an unexpected keyword argument 'damped_trend'\")\n",
            "89 - ETS with avg smape 2.46: \n",
            "Model Number: 90 of 129 with model MultivariateRegression for Validation 2\n"
          ]
        },
        {
          "output_type": "stream",
          "name": "stderr",
          "text": [
            "[Parallel(n_jobs=-2)]: Using backend SequentialBackend with 1 concurrent workers.\n",
            "[Parallel(n_jobs=-2)]: Done 200 out of 200 | elapsed:    0.2s finished\n",
            "[Parallel(n_jobs=1)]: Using backend SequentialBackend with 1 concurrent workers.\n",
            "[Parallel(n_jobs=1)]: Done 200 out of 200 | elapsed:    0.0s finished\n",
            "[Parallel(n_jobs=1)]: Using backend SequentialBackend with 1 concurrent workers.\n",
            "[Parallel(n_jobs=1)]: Done 200 out of 200 | elapsed:    0.0s finished\n",
            "[Parallel(n_jobs=1)]: Using backend SequentialBackend with 1 concurrent workers.\n",
            "[Parallel(n_jobs=1)]: Done 200 out of 200 | elapsed:    0.0s finished\n",
            "/usr/local/lib/python3.7/dist-packages/sklearn/linear_model/_coordinate_descent.py:648: ConvergenceWarning: Objective did not converge. You might want to increase the number of iterations, check the scale of the features or consider increasing regularisation. Duality gap: 1.273e+08, tolerance: 4.649e+04\n",
            "  coef_, l1_reg, l2_reg, X, y, max_iter, tol, rng, random, positive\n"
          ]
        },
        {
          "output_type": "stream",
          "name": "stdout",
          "text": [
            "90 - MultivariateRegression with avg smape 1.19: \n",
            "Model Number: 91 of 129 with model MultivariateRegression for Validation 2\n"
          ]
        },
        {
          "output_type": "stream",
          "name": "stderr",
          "text": [
            "[Parallel(n_jobs=-2)]: Using backend SequentialBackend with 1 concurrent workers.\n",
            "[Parallel(n_jobs=-2)]: Done 200 out of 200 | elapsed:    0.2s finished\n"
          ]
        },
        {
          "output_type": "stream",
          "name": "stdout",
          "text": [
            "91 - MultivariateRegression with avg smape 1.51: \n",
            "Model Number: 92 of 129 with model MultivariateMotif for Validation 2\n"
          ]
        },
        {
          "output_type": "stream",
          "name": "stderr",
          "text": [
            "[Parallel(n_jobs=1)]: Using backend SequentialBackend with 1 concurrent workers.\n",
            "[Parallel(n_jobs=1)]: Done 200 out of 200 | elapsed:    0.0s finished\n",
            "[Parallel(n_jobs=1)]: Using backend SequentialBackend with 1 concurrent workers.\n",
            "[Parallel(n_jobs=1)]: Done 200 out of 200 | elapsed:    0.0s finished\n",
            "[Parallel(n_jobs=1)]: Using backend SequentialBackend with 1 concurrent workers.\n",
            "[Parallel(n_jobs=1)]: Done 200 out of 200 | elapsed:    0.0s finished\n"
          ]
        },
        {
          "output_type": "stream",
          "name": "stdout",
          "text": [
            "92 - MultivariateMotif with avg smape 2.16: \n",
            "Model Number: 93 of 129 with model MultivariateRegression for Validation 2\n"
          ]
        },
        {
          "output_type": "stream",
          "name": "stderr",
          "text": [
            "[Parallel(n_jobs=-2)]: Using backend SequentialBackend with 1 concurrent workers.\n",
            "[Parallel(n_jobs=-2)]: Done 200 out of 200 | elapsed:    0.2s finished\n",
            "[Parallel(n_jobs=1)]: Using backend SequentialBackend with 1 concurrent workers.\n",
            "[Parallel(n_jobs=1)]: Done 200 out of 200 | elapsed:    0.0s finished\n",
            "[Parallel(n_jobs=1)]: Using backend SequentialBackend with 1 concurrent workers.\n"
          ]
        },
        {
          "output_type": "stream",
          "name": "stdout",
          "text": [
            "93 - MultivariateRegression with avg smape 2.07: \n",
            "Model Number: 94 of 129 with model ETS for Validation 2\n",
            "ETS error TypeError(\"__init__() got an unexpected keyword argument 'damped_trend'\")\n"
          ]
        },
        {
          "output_type": "stream",
          "name": "stderr",
          "text": [
            "[Parallel(n_jobs=1)]: Done 200 out of 200 | elapsed:    0.0s finished\n",
            "[Parallel(n_jobs=1)]: Using backend SequentialBackend with 1 concurrent workers.\n",
            "[Parallel(n_jobs=1)]: Done 200 out of 200 | elapsed:    0.0s finished\n",
            "INFO:fbprophet:Disabling yearly seasonality. Run prophet with yearly_seasonality=True to override this.\n",
            "INFO:fbprophet:Disabling daily seasonality. Run prophet with daily_seasonality=True to override this.\n"
          ]
        },
        {
          "output_type": "stream",
          "name": "stdout",
          "text": [
            "94 - ETS with avg smape 1.56: \n",
            "Model Number: 95 of 129 with model FBProphet for Validation 2\n",
            "95 - FBProphet with avg smape 3.0: \n",
            "Model Number: 96 of 129 with model GLM for Validation 2\n",
            "96 - GLM with avg smape 2.49: \n",
            "Model Number: 97 of 129 with model ETS for Validation 2\n",
            "ETS error TypeError(\"__init__() got an unexpected keyword argument 'damped_trend'\")\n",
            "97 - ETS with avg smape 2.49: \n",
            "Model Number: 98 of 129 with model GLS for Validation 2\n",
            "98 - GLS with avg smape 2.5: \n",
            "Model Number: 99 of 129 with model SeasonalNaive for Validation 2\n"
          ]
        },
        {
          "output_type": "stream",
          "name": "stderr",
          "text": [
            "/usr/local/lib/python3.7/dist-packages/statsmodels/genmod/families/links.py:190: RuntimeWarning: overflow encountered in exp\n",
            "  t = np.exp(-z)\n",
            "/usr/local/lib/python3.7/dist-packages/statsmodels/genmod/families/family.py:889: RuntimeWarning: divide by zero encountered in true_divide\n",
            "  endog_mu = self._clean(endog / mu)\n"
          ]
        },
        {
          "output_type": "stream",
          "name": "stdout",
          "text": [
            "99 - SeasonalNaive with avg smape 1.44: \n",
            "Model Number: 100 of 129 with model SeasonalNaive for Validation 2\n",
            "100 - SeasonalNaive with avg smape 1.44: \n",
            "Model Number: 101 of 129 with model GLS for Validation 2\n",
            "101 - GLS with avg smape 2.57: \n",
            "Model Number: 102 of 129 with model GLS for Validation 2\n",
            "102 - GLS with avg smape 2.5: \n",
            "Model Number: 103 of 129 with model WindowRegression for Validation 2\n",
            "103 - WindowRegression with avg smape 2.23: \n",
            "Model Number: 104 of 129 with model WindowRegression for Validation 2\n",
            "104 - WindowRegression with avg smape 2.22: \n",
            "Model Number: 105 of 129 with model SectionalMotif for Validation 2\n",
            "105 - SectionalMotif with avg smape 1.39: \n",
            "Model Number: 106 of 129 with model WindowRegression for Validation 2\n",
            "106 - WindowRegression with avg smape 1.36: \n",
            "Model Number: 107 of 129 with model DatepartRegression for Validation 2\n",
            "107 - DatepartRegression with avg smape 2.66: \n",
            "Model Number: 108 of 129 with model UnobservedComponents for Validation 2\n",
            "108 - UnobservedComponents with avg smape 2.77: \n",
            "Model Number: 109 of 129 with model DatepartRegression for Validation 2\n",
            "109 - DatepartRegression with avg smape 3.27: \n",
            "Model Number: 110 of 129 with model SectionalMotif for Validation 2\n",
            "110 - SectionalMotif with avg smape 2.48: \n",
            "Model Number: 111 of 129 with model SectionalMotif for Validation 2\n",
            "111 - SectionalMotif with avg smape 1.23: \n",
            "Model Number: 112 of 129 with model SeasonalNaive for Validation 2\n",
            "112 - SeasonalNaive with avg smape 2.0: \n",
            "Model Number: 113 of 129 with model UnobservedComponents for Validation 2\n",
            "113 - UnobservedComponents with avg smape 2.37: \n",
            "Model Number: 114 of 129 with model SectionalMotif for Validation 2\n",
            "114 - SectionalMotif with avg smape 1.88: \n",
            "Model Number: 115 of 129 with model WindowRegression for Validation 2\n"
          ]
        },
        {
          "output_type": "stream",
          "name": "stderr",
          "text": [
            "[Parallel(n_jobs=-2)]: Using backend SequentialBackend with 1 concurrent workers.\n",
            "[Parallel(n_jobs=-2)]: Done 1000 out of 1000 | elapsed:    0.7s finished\n",
            "[Parallel(n_jobs=1)]: Using backend SequentialBackend with 1 concurrent workers.\n",
            "[Parallel(n_jobs=1)]: Done 1000 out of 1000 | elapsed:    0.1s finished\n",
            "[Parallel(n_jobs=1)]: Using backend SequentialBackend with 1 concurrent workers.\n",
            "[Parallel(n_jobs=1)]: Done 1000 out of 1000 | elapsed:    0.1s finished\n",
            "[Parallel(n_jobs=1)]: Using backend SequentialBackend with 1 concurrent workers.\n"
          ]
        },
        {
          "output_type": "stream",
          "name": "stdout",
          "text": [
            "115 - WindowRegression with avg smape 1.23: \n",
            "Model Number: 116 of 129 with model SeasonalNaive for Validation 2\n",
            "116 - SeasonalNaive with avg smape 0.99: \n",
            "Model Number: 117 of 129 with model SectionalMotif for Validation 2\n"
          ]
        },
        {
          "output_type": "stream",
          "name": "stderr",
          "text": [
            "[Parallel(n_jobs=1)]: Done 1000 out of 1000 | elapsed:    0.1s finished\n",
            "INFO:fbprophet:Disabling yearly seasonality. Run prophet with yearly_seasonality=True to override this.\n",
            "INFO:fbprophet:Disabling daily seasonality. Run prophet with daily_seasonality=True to override this.\n"
          ]
        },
        {
          "output_type": "stream",
          "name": "stdout",
          "text": [
            "117 - SectionalMotif with avg smape 3.05: \n",
            "Model Number: 118 of 129 with model FBProphet for Validation 2\n"
          ]
        },
        {
          "output_type": "stream",
          "name": "stderr",
          "text": [
            "INFO:fbprophet:n_changepoints greater than number of observations. Using 15.\n",
            "INFO:fbprophet:Disabling yearly seasonality. Run prophet with yearly_seasonality=True to override this.\n",
            "INFO:fbprophet:Disabling daily seasonality. Run prophet with daily_seasonality=True to override this.\n",
            "INFO:fbprophet:n_changepoints greater than number of observations. Using 15.\n"
          ]
        },
        {
          "output_type": "stream",
          "name": "stdout",
          "text": [
            "118 - FBProphet with avg smape 2.82: \n",
            "Model Number: 119 of 129 with model FBProphet for Validation 2\n",
            "119 - FBProphet with avg smape 2.83: \n",
            "Model Number: 120 of 129 with model SeasonalNaive for Validation 2\n",
            "120 - SeasonalNaive with avg smape 1.21: \n",
            "Model Number: 121 of 129 with model SeasonalNaive for Validation 2\n",
            "121 - SeasonalNaive with avg smape 1.8: \n",
            "Model Number: 122 of 129 with model WindowRegression for Validation 2\n"
          ]
        },
        {
          "output_type": "stream",
          "name": "stderr",
          "text": [
            "INFO:fbprophet:Disabling yearly seasonality. Run prophet with yearly_seasonality=True to override this.\n",
            "INFO:fbprophet:Disabling daily seasonality. Run prophet with daily_seasonality=True to override this.\n"
          ]
        },
        {
          "output_type": "stream",
          "name": "stdout",
          "text": [
            "122 - WindowRegression with avg smape 1.53: \n",
            "Model Number: 123 of 129 with model FBProphet for Validation 2\n"
          ]
        },
        {
          "output_type": "stream",
          "name": "stderr",
          "text": [
            "INFO:fbprophet:Disabling yearly seasonality. Run prophet with yearly_seasonality=True to override this.\n",
            "INFO:fbprophet:Disabling daily seasonality. Run prophet with daily_seasonality=True to override this.\n"
          ]
        },
        {
          "output_type": "stream",
          "name": "stdout",
          "text": [
            "123 - FBProphet with avg smape 0.9: \n",
            "Model Number: 124 of 129 with model FBProphet for Validation 2\n"
          ]
        },
        {
          "output_type": "stream",
          "name": "stderr",
          "text": [
            "INFO:fbprophet:Disabling yearly seasonality. Run prophet with yearly_seasonality=True to override this.\n",
            "INFO:fbprophet:Disabling daily seasonality. Run prophet with daily_seasonality=True to override this.\n"
          ]
        },
        {
          "output_type": "stream",
          "name": "stdout",
          "text": [
            "124 - FBProphet with avg smape 1.18: \n",
            "Model Number: 125 of 129 with model FBProphet for Validation 2\n"
          ]
        },
        {
          "output_type": "stream",
          "name": "stderr",
          "text": [
            "INFO:fbprophet:Disabling yearly seasonality. Run prophet with yearly_seasonality=True to override this.\n",
            "INFO:fbprophet:Disabling daily seasonality. Run prophet with daily_seasonality=True to override this.\n",
            "INFO:fbprophet:n_changepoints greater than number of observations. Using 15.\n"
          ]
        },
        {
          "output_type": "stream",
          "name": "stdout",
          "text": [
            "125 - FBProphet with avg smape 5.89: \n",
            "Model Number: 126 of 129 with model FBProphet for Validation 2\n",
            "126 - FBProphet with avg smape 5.04: \n",
            "Model Number: 127 of 129 with model GLM for Validation 2\n",
            "127 - GLM with avg smape 2.7: \n",
            "Model Number: 128 of 129 with model GLM for Validation 2\n",
            "128 - GLM with avg smape 1.04: \n",
            "Model Number: 129 of 129 with model GLM for Validation 2\n"
          ]
        },
        {
          "output_type": "stream",
          "name": "stderr",
          "text": [
            "/usr/local/lib/python3.7/dist-packages/statsmodels/genmod/families/links.py:190: RuntimeWarning: overflow encountered in exp\n",
            "  t = np.exp(-z)\n",
            "/usr/local/lib/python3.7/dist-packages/statsmodels/genmod/families/family.py:889: RuntimeWarning: divide by zero encountered in true_divide\n",
            "  endog_mu = self._clean(endog / mu)\n",
            "/usr/local/lib/python3.7/dist-packages/statsmodels/genmod/families/links.py:190: RuntimeWarning: overflow encountered in exp\n",
            "  t = np.exp(-z)\n",
            "/usr/local/lib/python3.7/dist-packages/statsmodels/genmod/families/family.py:889: RuntimeWarning: divide by zero encountered in true_divide\n",
            "  endog_mu = self._clean(endog / mu)\n"
          ]
        },
        {
          "output_type": "stream",
          "name": "stdout",
          "text": [
            "129 - GLM with avg smape 1.55: \n",
            "Validation Round: 3\n",
            "Model Number: 1 of 129 with model Ensemble for Validation 3\n",
            "📈 1 - Ensemble with avg smape 0.72: \n",
            "Model Number: 2 of 129 with model Ensemble for Validation 3\n",
            "📈 2 - Ensemble with avg smape 0.71: \n",
            "Model Number: 3 of 129 with model Ensemble for Validation 3\n",
            "📈 3 - Ensemble with avg smape 0.21: \n",
            "Model Number: 4 of 129 with model Ensemble for Validation 3\n"
          ]
        },
        {
          "output_type": "stream",
          "name": "stderr",
          "text": [
            "INFO:fbprophet:Disabling yearly seasonality. Run prophet with yearly_seasonality=True to override this.\n",
            "INFO:fbprophet:Disabling daily seasonality. Run prophet with daily_seasonality=True to override this.\n"
          ]
        },
        {
          "output_type": "stream",
          "name": "stdout",
          "text": [
            "4 - Ensemble with avg smape 0.38: \n",
            "Model Number: 5 of 129 with model Ensemble for Validation 3\n",
            "5 - Ensemble with avg smape 1.05: \n",
            "Model Number: 6 of 129 with model NVAR for Validation 3\n",
            "6 - NVAR with avg smape 1.06: \n",
            "Model Number: 7 of 129 with model NVAR for Validation 3\n",
            "7 - NVAR with avg smape 1.06: \n",
            "Model Number: 8 of 129 with model Ensemble for Validation 3\n",
            "8 - Ensemble with avg smape 1.06: \n",
            "Model Number: 9 of 129 with model NVAR for Validation 3\n",
            "9 - NVAR with avg smape 1.05: \n",
            "Model Number: 10 of 129 with model NVAR for Validation 3\n",
            "10 - NVAR with avg smape 1.05: \n",
            "Model Number: 11 of 129 with model NVAR for Validation 3\n",
            "11 - NVAR with avg smape 1.0: \n",
            "Model Number: 12 of 129 with model NVAR for Validation 3\n",
            "12 - NVAR with avg smape 1.21: \n",
            "Model Number: 13 of 129 with model NVAR for Validation 3\n",
            "13 - NVAR with avg smape 1.21: \n",
            "Model Number: 14 of 129 with model NVAR for Validation 3\n",
            "14 - NVAR with avg smape 1.21: \n",
            "Model Number: 15 of 129 with model UnivariateMotif for Validation 3\n",
            "15 - UnivariateMotif with avg smape 0.28: \n",
            "Model Number: 16 of 129 with model ConstantNaive for Validation 3\n",
            "📈 16 - ConstantNaive with avg smape 0.16: \n",
            "Model Number: 17 of 129 with model UnivariateMotif for Validation 3\n",
            "17 - UnivariateMotif with avg smape 0.38: \n",
            "Model Number: 18 of 129 with model Ensemble for Validation 3\n"
          ]
        },
        {
          "output_type": "stream",
          "name": "stderr",
          "text": [
            "[Parallel(n_jobs=-2)]: Using backend SequentialBackend with 1 concurrent workers.\n",
            "[Parallel(n_jobs=-2)]: Done 200 out of 200 | elapsed:    0.2s finished\n",
            "[Parallel(n_jobs=1)]: Using backend SequentialBackend with 1 concurrent workers.\n",
            "[Parallel(n_jobs=1)]: Done 200 out of 200 | elapsed:    0.0s finished\n",
            "[Parallel(n_jobs=1)]: Using backend SequentialBackend with 1 concurrent workers.\n",
            "[Parallel(n_jobs=1)]: Done 200 out of 200 | elapsed:    0.0s finished\n",
            "[Parallel(n_jobs=1)]: Using backend SequentialBackend with 1 concurrent workers.\n",
            "[Parallel(n_jobs=1)]: Done 200 out of 200 | elapsed:    0.0s finished\n"
          ]
        },
        {
          "output_type": "stream",
          "name": "stdout",
          "text": [
            "18 - Ensemble with avg smape 1.5: \n",
            "Model Number: 19 of 129 with model UnivariateMotif for Validation 3\n",
            "19 - UnivariateMotif with avg smape 0.33: \n",
            "Model Number: 20 of 129 with model MultivariateMotif for Validation 3\n",
            "20 - MultivariateMotif with avg smape 1.25: \n",
            "Model Number: 21 of 129 with model ConstantNaive for Validation 3\n",
            "21 - ConstantNaive with avg smape 0.2: \n",
            "Model Number: 22 of 129 with model UnivariateMotif for Validation 3\n",
            "22 - UnivariateMotif with avg smape 0.69: \n",
            "Model Number: 23 of 129 with model MultivariateMotif for Validation 3\n",
            "23 - MultivariateMotif with avg smape 0.6: \n",
            "Model Number: 24 of 129 with model UnivariateMotif for Validation 3\n",
            "24 - UnivariateMotif with avg smape 0.47: \n",
            "Model Number: 25 of 129 with model FBProphet for Validation 3\n"
          ]
        },
        {
          "output_type": "stream",
          "name": "stderr",
          "text": [
            "INFO:fbprophet:Disabling yearly seasonality. Run prophet with yearly_seasonality=True to override this.\n",
            "INFO:fbprophet:Disabling daily seasonality. Run prophet with daily_seasonality=True to override this.\n"
          ]
        },
        {
          "output_type": "stream",
          "name": "stdout",
          "text": [
            "25 - FBProphet with avg smape 0.69: \n",
            "Model Number: 26 of 129 with model Ensemble for Validation 3\n"
          ]
        },
        {
          "output_type": "stream",
          "name": "stderr",
          "text": [
            "[Parallel(n_jobs=-2)]: Using backend SequentialBackend with 1 concurrent workers.\n",
            "[Parallel(n_jobs=-2)]: Done 200 out of 200 | elapsed:    0.2s finished\n",
            "[Parallel(n_jobs=1)]: Using backend SequentialBackend with 1 concurrent workers.\n",
            "[Parallel(n_jobs=1)]: Done 200 out of 200 | elapsed:    0.0s finished\n"
          ]
        },
        {
          "output_type": "stream",
          "name": "stdout",
          "text": [
            "26 - Ensemble with avg smape 0.83: \n",
            "Model Number: 27 of 129 with model UnivariateMotif for Validation 3\n",
            "27 - UnivariateMotif with avg smape 0.19: \n",
            "Model Number: 28 of 129 with model ConstantNaive for Validation 3\n"
          ]
        },
        {
          "output_type": "stream",
          "name": "stderr",
          "text": [
            "[Parallel(n_jobs=1)]: Using backend SequentialBackend with 1 concurrent workers.\n",
            "[Parallel(n_jobs=1)]: Done 200 out of 200 | elapsed:    0.0s finished\n",
            "[Parallel(n_jobs=1)]: Using backend SequentialBackend with 1 concurrent workers.\n",
            "[Parallel(n_jobs=1)]: Done 200 out of 200 | elapsed:    0.0s finished\n"
          ]
        },
        {
          "output_type": "stream",
          "name": "stdout",
          "text": [
            "28 - ConstantNaive with avg smape 0.47: \n",
            "Model Number: 29 of 129 with model WindowRegression for Validation 3\n",
            "[LibLinear][LibLinear][LibLinear][LibLinear][LibLinear][LibLinear][LibLinear][LibLinear][LibLinear][LibLinear][LibLinear][LibLinear][LibLinear][LibLinear][LibLinear][LibLinear][LibLinear][LibLinear][LibLinear][LibLinear][LibLinear][LibLinear][LibLinear][LibLinear][LibLinear][LibLinear][LibLinear]📈 29 - WindowRegression with avg smape 0.04: \n",
            "Model Number: 30 of 129 with model MultivariateMotif for Validation 3\n",
            "30 - MultivariateMotif with avg smape 0.65: \n",
            "Model Number: 31 of 129 with model UnobservedComponents for Validation 3\n",
            "31 - UnobservedComponents with avg smape 0.94: \n",
            "Model Number: 32 of 129 with model ConstantNaive for Validation 3\n",
            "32 - ConstantNaive with avg smape 0.29: \n",
            "Model Number: 33 of 129 with model ConstantNaive for Validation 3\n",
            "33 - ConstantNaive with avg smape 0.29: \n",
            "Model Number: 34 of 129 with model UnobservedComponents for Validation 3\n",
            "34 - UnobservedComponents with avg smape 4.32: \n",
            "Model Number: 35 of 129 with model MultivariateMotif for Validation 3\n",
            "35 - MultivariateMotif with avg smape 0.58: \n",
            "Model Number: 36 of 129 with model ConstantNaive for Validation 3\n",
            "36 - ConstantNaive with avg smape 2.29: \n",
            "Model Number: 37 of 129 with model ConstantNaive for Validation 3\n",
            "37 - ConstantNaive with avg smape 2.29: \n",
            "Model Number: 38 of 129 with model UnobservedComponents for Validation 3\n",
            "38 - UnobservedComponents with avg smape 0.7: \n",
            "Model Number: 39 of 129 with model MultivariateMotif for Validation 3\n",
            "39 - MultivariateMotif with avg smape 2.79: \n",
            "Model Number: 40 of 129 with model AverageValueNaive for Validation 3\n",
            "40 - AverageValueNaive with avg smape 0.18: \n",
            "Model Number: 41 of 129 with model SectionalMotif for Validation 3\n",
            "41 - SectionalMotif with avg smape 1.1: \n",
            "Model Number: 42 of 129 with model SectionalMotif for Validation 3\n",
            "42 - SectionalMotif with avg smape 2.94: \n",
            "Model Number: 43 of 129 with model SectionalMotif for Validation 3\n",
            "43 - SectionalMotif with avg smape 2.94: \n",
            "Model Number: 44 of 129 with model MultivariateRegression for Validation 3\n"
          ]
        },
        {
          "output_type": "stream",
          "name": "stderr",
          "text": [
            "[Parallel(n_jobs=-2)]: Using backend SequentialBackend with 1 concurrent workers.\n",
            "[Parallel(n_jobs=-2)]: Done 200 out of 200 | elapsed:    0.2s finished\n"
          ]
        },
        {
          "output_type": "stream",
          "name": "stdout",
          "text": [
            "44 - MultivariateRegression with avg smape 1.99: \n",
            "Model Number: 45 of 129 with model UnivariateMotif for Validation 3\n"
          ]
        },
        {
          "output_type": "stream",
          "name": "stderr",
          "text": [
            "[Parallel(n_jobs=1)]: Using backend SequentialBackend with 1 concurrent workers.\n",
            "[Parallel(n_jobs=1)]: Done 200 out of 200 | elapsed:    0.0s finished\n",
            "[Parallel(n_jobs=1)]: Using backend SequentialBackend with 1 concurrent workers.\n",
            "[Parallel(n_jobs=1)]: Done 200 out of 200 | elapsed:    0.0s finished\n",
            "[Parallel(n_jobs=1)]: Using backend SequentialBackend with 1 concurrent workers.\n",
            "[Parallel(n_jobs=1)]: Done 200 out of 200 | elapsed:    0.0s finished\n"
          ]
        },
        {
          "output_type": "stream",
          "name": "stdout",
          "text": [
            "45 - UnivariateMotif with avg smape 0.52: \n",
            "Model Number: 46 of 129 with model UnivariateMotif for Validation 3\n",
            "46 - UnivariateMotif with avg smape 0.19: \n",
            "Model Number: 47 of 129 with model ConstantNaive for Validation 3\n",
            "47 - ConstantNaive with avg smape 0.31: \n",
            "Model Number: 48 of 129 with model UnobservedComponents for Validation 3\n",
            "48 - UnobservedComponents with avg smape 0.44: \n",
            "Model Number: 49 of 129 with model GLS for Validation 3\n",
            "49 - GLS with avg smape 0.94: \n",
            "Model Number: 50 of 129 with model LastValueNaive for Validation 3\n",
            "50 - LastValueNaive with avg smape 2.35: \n",
            "Model Number: 51 of 129 with model ETS for Validation 3\n",
            "ETS error TypeError(\"__init__() got an unexpected keyword argument 'damped_trend'\")\n",
            "51 - ETS with avg smape 2.33: \n",
            "Model Number: 52 of 129 with model GLS for Validation 3\n",
            "52 - GLS with avg smape 0.66: \n",
            "Model Number: 53 of 129 with model AverageValueNaive for Validation 3\n",
            "53 - AverageValueNaive with avg smape 0.76: \n",
            "Model Number: 54 of 129 with model GLS for Validation 3\n",
            "54 - GLS with avg smape 0.42: \n",
            "Model Number: 55 of 129 with model GLS for Validation 3\n",
            "55 - GLS with avg smape 0.94: \n",
            "Model Number: 56 of 129 with model AverageValueNaive for Validation 3\n",
            "56 - AverageValueNaive with avg smape 1.23: \n",
            "Model Number: 57 of 129 with model MultivariateMotif for Validation 3\n",
            "57 - MultivariateMotif with avg smape 3.1: \n",
            "Model Number: 58 of 129 with model GLS for Validation 3\n",
            "58 - GLS with avg smape 0.42: \n",
            "Model Number: 59 of 129 with model DatepartRegression for Validation 3\n",
            "59 - DatepartRegression with avg smape 0.47: \n",
            "Model Number: 60 of 129 with model LastValueNaive for Validation 3\n",
            "60 - LastValueNaive with avg smape 0.39: \n",
            "Model Number: 61 of 129 with model ETS for Validation 3\n",
            "ETS error TypeError(\"__init__() got an unexpected keyword argument 'damped_trend'\")\n",
            "61 - ETS with avg smape 0.95: \n",
            "Model Number: 62 of 129 with model LastValueNaive for Validation 3\n",
            "62 - LastValueNaive with avg smape 0.5: \n",
            "Model Number: 63 of 129 with model WindowRegression for Validation 3\n",
            "63 - WindowRegression with avg smape 0.83: \n",
            "Model Number: 64 of 129 with model LastValueNaive for Validation 3\n",
            "64 - LastValueNaive with avg smape 1.68: \n"
          ]
        },
        {
          "output_type": "stream",
          "name": "stderr",
          "text": [
            "/usr/local/lib/python3.7/dist-packages/sklearn/linear_model/_coordinate_descent.py:648: ConvergenceWarning: Objective did not converge. You might want to increase the number of iterations, check the scale of the features or consider increasing regularisation. Duality gap: 2.135e+01, tolerance: 6.639e-03\n",
            "  coef_, l1_reg, l2_reg, X, y, max_iter, tol, rng, random, positive\n",
            "/usr/local/lib/python3.7/dist-packages/sklearn/svm/_base.py:1208: ConvergenceWarning: Liblinear failed to converge, increase the number of iterations.\n",
            "  ConvergenceWarning,\n",
            "/usr/local/lib/python3.7/dist-packages/sklearn/svm/_base.py:1208: ConvergenceWarning: Liblinear failed to converge, increase the number of iterations.\n",
            "  ConvergenceWarning,\n",
            "/usr/local/lib/python3.7/dist-packages/sklearn/svm/_base.py:1208: ConvergenceWarning: Liblinear failed to converge, increase the number of iterations.\n",
            "  ConvergenceWarning,\n"
          ]
        },
        {
          "output_type": "stream",
          "name": "stdout",
          "text": [
            "Model Number: 65 of 129 with model MultivariateRegression for Validation 3\n"
          ]
        },
        {
          "output_type": "stream",
          "name": "stderr",
          "text": [
            "[Parallel(n_jobs=-2)]: Using backend SequentialBackend with 1 concurrent workers.\n"
          ]
        },
        {
          "output_type": "stream",
          "name": "stdout",
          "text": [
            "65 - MultivariateRegression with avg smape 1.66: \n",
            "Model Number: 66 of 129 with model DatepartRegression for Validation 3\n"
          ]
        },
        {
          "output_type": "stream",
          "name": "stderr",
          "text": [
            "[Parallel(n_jobs=-2)]: Done 200 out of 200 | elapsed:    0.2s finished\n",
            "[Parallel(n_jobs=1)]: Using backend SequentialBackend with 1 concurrent workers.\n",
            "[Parallel(n_jobs=1)]: Done 200 out of 200 | elapsed:    0.0s finished\n",
            "[Parallel(n_jobs=1)]: Using backend SequentialBackend with 1 concurrent workers.\n",
            "[Parallel(n_jobs=1)]: Done 200 out of 200 | elapsed:    0.0s finished\n",
            "[Parallel(n_jobs=1)]: Using backend SequentialBackend with 1 concurrent workers.\n",
            "[Parallel(n_jobs=1)]: Done 200 out of 200 | elapsed:    0.0s finished\n"
          ]
        },
        {
          "output_type": "stream",
          "name": "stdout",
          "text": [
            "66 - DatepartRegression with avg smape 2.25: \n",
            "Model Number: 67 of 129 with model MultivariateRegression for Validation 3\n"
          ]
        },
        {
          "output_type": "stream",
          "name": "stderr",
          "text": [
            "[Parallel(n_jobs=-2)]: Using backend SequentialBackend with 1 concurrent workers.\n",
            "[Parallel(n_jobs=-2)]: Done 200 out of 200 | elapsed:    0.2s finished\n",
            "[Parallel(n_jobs=1)]: Using backend SequentialBackend with 1 concurrent workers.\n"
          ]
        },
        {
          "output_type": "stream",
          "name": "stdout",
          "text": [
            "67 - MultivariateRegression with avg smape 2.16: \n",
            "Model Number: 68 of 129 with model AverageValueNaive for Validation 3\n",
            "68 - AverageValueNaive with avg smape 1.59: \n",
            "Model Number: 69 of 129 with model AverageValueNaive for Validation 3\n"
          ]
        },
        {
          "output_type": "stream",
          "name": "stderr",
          "text": [
            "[Parallel(n_jobs=1)]: Done 200 out of 200 | elapsed:    0.0s finished\n",
            "[Parallel(n_jobs=1)]: Using backend SequentialBackend with 1 concurrent workers.\n",
            "[Parallel(n_jobs=1)]: Done 200 out of 200 | elapsed:    0.0s finished\n",
            "[Parallel(n_jobs=1)]: Using backend SequentialBackend with 1 concurrent workers.\n",
            "[Parallel(n_jobs=1)]: Done 200 out of 200 | elapsed:    0.0s finished\n"
          ]
        },
        {
          "output_type": "stream",
          "name": "stdout",
          "text": [
            "69 - AverageValueNaive with avg smape 0.39: \n",
            "Model Number: 70 of 129 with model LastValueNaive for Validation 3\n",
            "70 - LastValueNaive with avg smape 0.39: \n",
            "Model Number: 71 of 129 with model AverageValueNaive for Validation 3\n",
            "71 - AverageValueNaive with avg smape 0.25: \n",
            "Model Number: 72 of 129 with model ETS for Validation 3\n",
            "ETS error TypeError(\"__init__() got an unexpected keyword argument 'damped_trend'\")\n",
            "72 - ETS with avg smape 2.2: \n",
            "Model Number: 73 of 129 with model LastValueNaive for Validation 3\n",
            "73 - LastValueNaive with avg smape 6.02: \n",
            "Model Number: 74 of 129 with model AverageValueNaive for Validation 3\n",
            "74 - AverageValueNaive with avg smape 0.35: \n",
            "Model Number: 75 of 129 with model AverageValueNaive for Validation 3\n",
            "75 - AverageValueNaive with avg smape 0.27: \n",
            "Model Number: 76 of 129 with model LastValueNaive for Validation 3\n",
            "76 - LastValueNaive with avg smape 2.36: \n",
            "Model Number: 77 of 129 with model DatepartRegression for Validation 3\n",
            "77 - DatepartRegression with avg smape 0.23: \n",
            "Model Number: 78 of 129 with model MultivariateMotif for Validation 3\n",
            "78 - MultivariateMotif with avg smape 0.43: \n",
            "Model Number: 79 of 129 with model MultivariateRegression for Validation 3\n"
          ]
        },
        {
          "output_type": "stream",
          "name": "stderr",
          "text": [
            "[Parallel(n_jobs=-2)]: Using backend SequentialBackend with 1 concurrent workers.\n",
            "[Parallel(n_jobs=-2)]: Done 200 out of 200 | elapsed:    0.2s finished\n",
            "[Parallel(n_jobs=1)]: Using backend SequentialBackend with 1 concurrent workers.\n",
            "[Parallel(n_jobs=1)]: Done 200 out of 200 | elapsed:    0.0s finished\n",
            "[Parallel(n_jobs=1)]: Using backend SequentialBackend with 1 concurrent workers.\n",
            "[Parallel(n_jobs=1)]: Done 200 out of 200 | elapsed:    0.0s finished\n",
            "[Parallel(n_jobs=1)]: Using backend SequentialBackend with 1 concurrent workers.\n",
            "[Parallel(n_jobs=1)]: Done 200 out of 200 | elapsed:    0.0s finished\n"
          ]
        },
        {
          "output_type": "stream",
          "name": "stdout",
          "text": [
            "79 - MultivariateRegression with avg smape 0.17: \n",
            "Model Number: 80 of 129 with model WindowRegression for Validation 3\n",
            "80 - WindowRegression with avg smape 2.12: \n",
            "Model Number: 81 of 129 with model MultivariateRegression for Validation 3\n"
          ]
        },
        {
          "output_type": "stream",
          "name": "stderr",
          "text": [
            "[Parallel(n_jobs=-2)]: Using backend SequentialBackend with 1 concurrent workers.\n",
            "[Parallel(n_jobs=-2)]: Done 200 out of 200 | elapsed:    0.2s finished\n",
            "[Parallel(n_jobs=1)]: Using backend SequentialBackend with 1 concurrent workers.\n"
          ]
        },
        {
          "output_type": "stream",
          "name": "stdout",
          "text": [
            "81 - MultivariateRegression with avg smape 2.14: \n",
            "Model Number: 82 of 129 with model ETS for Validation 3\n",
            "ETS error TypeError(\"__init__() got an unexpected keyword argument 'damped_trend'\")\n"
          ]
        },
        {
          "output_type": "stream",
          "name": "stderr",
          "text": [
            "[Parallel(n_jobs=1)]: Done 200 out of 200 | elapsed:    0.0s finished\n",
            "[Parallel(n_jobs=1)]: Using backend SequentialBackend with 1 concurrent workers.\n",
            "[Parallel(n_jobs=1)]: Done 200 out of 200 | elapsed:    0.0s finished\n",
            "[Parallel(n_jobs=1)]: Using backend SequentialBackend with 1 concurrent workers.\n",
            "[Parallel(n_jobs=1)]: Done 200 out of 200 | elapsed:    0.0s finished\n"
          ]
        },
        {
          "output_type": "stream",
          "name": "stdout",
          "text": [
            "82 - ETS with avg smape 2.32: \n",
            "Model Number: 83 of 129 with model SeasonalNaive for Validation 3\n",
            "83 - SeasonalNaive with avg smape 0.86: \n",
            "Model Number: 84 of 129 with model UnobservedComponents for Validation 3\n",
            "84 - UnobservedComponents with avg smape 1.44: \n",
            "Model Number: 85 of 129 with model LastValueNaive for Validation 3\n",
            "85 - LastValueNaive with avg smape 2.35: \n",
            "Model Number: 86 of 129 with model UnobservedComponents for Validation 3\n",
            "86 - UnobservedComponents with avg smape 6.83: \n",
            "Model Number: 87 of 129 with model SeasonalNaive for Validation 3\n",
            "87 - SeasonalNaive with avg smape 2.08: \n",
            "Model Number: 88 of 129 with model ETS for Validation 3\n",
            "ETS error TypeError(\"__init__() got an unexpected keyword argument 'damped_trend'\")\n",
            "88 - ETS with avg smape 3.59: \n",
            "Model Number: 89 of 129 with model ETS for Validation 3\n",
            "ETS error TypeError(\"__init__() got an unexpected keyword argument 'damped_trend'\")\n",
            "89 - ETS with avg smape 0.33: \n",
            "Model Number: 90 of 129 with model MultivariateRegression for Validation 3\n"
          ]
        },
        {
          "output_type": "stream",
          "name": "stderr",
          "text": [
            "[Parallel(n_jobs=-2)]: Using backend SequentialBackend with 1 concurrent workers.\n",
            "[Parallel(n_jobs=-2)]: Done 200 out of 200 | elapsed:    0.2s finished\n",
            "[Parallel(n_jobs=1)]: Using backend SequentialBackend with 1 concurrent workers.\n",
            "[Parallel(n_jobs=1)]: Done 200 out of 200 | elapsed:    0.0s finished\n",
            "[Parallel(n_jobs=1)]: Using backend SequentialBackend with 1 concurrent workers.\n",
            "[Parallel(n_jobs=1)]: Done 200 out of 200 | elapsed:    0.0s finished\n",
            "[Parallel(n_jobs=1)]: Using backend SequentialBackend with 1 concurrent workers.\n",
            "[Parallel(n_jobs=1)]: Done 200 out of 200 | elapsed:    0.0s finished\n",
            "/usr/local/lib/python3.7/dist-packages/sklearn/linear_model/_coordinate_descent.py:648: ConvergenceWarning: Objective did not converge. You might want to increase the number of iterations, check the scale of the features or consider increasing regularisation. Duality gap: 1.248e+08, tolerance: 4.314e+04\n",
            "  coef_, l1_reg, l2_reg, X, y, max_iter, tol, rng, random, positive\n"
          ]
        },
        {
          "output_type": "stream",
          "name": "stdout",
          "text": [
            "90 - MultivariateRegression with avg smape 3.36: \n",
            "Model Number: 91 of 129 with model MultivariateRegression for Validation 3\n"
          ]
        },
        {
          "output_type": "stream",
          "name": "stderr",
          "text": [
            "[Parallel(n_jobs=-2)]: Using backend SequentialBackend with 1 concurrent workers.\n",
            "[Parallel(n_jobs=-2)]: Done 200 out of 200 | elapsed:    0.2s finished\n"
          ]
        },
        {
          "output_type": "stream",
          "name": "stdout",
          "text": [
            "91 - MultivariateRegression with avg smape 0.74: \n",
            "Model Number: 92 of 129 with model MultivariateMotif for Validation 3\n"
          ]
        },
        {
          "output_type": "stream",
          "name": "stderr",
          "text": [
            "[Parallel(n_jobs=1)]: Using backend SequentialBackend with 1 concurrent workers.\n",
            "[Parallel(n_jobs=1)]: Done 200 out of 200 | elapsed:    0.0s finished\n",
            "[Parallel(n_jobs=1)]: Using backend SequentialBackend with 1 concurrent workers.\n",
            "[Parallel(n_jobs=1)]: Done 200 out of 200 | elapsed:    0.0s finished\n",
            "[Parallel(n_jobs=1)]: Using backend SequentialBackend with 1 concurrent workers.\n",
            "[Parallel(n_jobs=1)]: Done 200 out of 200 | elapsed:    0.0s finished\n"
          ]
        },
        {
          "output_type": "stream",
          "name": "stdout",
          "text": [
            "92 - MultivariateMotif with avg smape 0.1: \n",
            "Model Number: 93 of 129 with model MultivariateRegression for Validation 3\n"
          ]
        },
        {
          "output_type": "stream",
          "name": "stderr",
          "text": [
            "[Parallel(n_jobs=-2)]: Using backend SequentialBackend with 1 concurrent workers.\n",
            "[Parallel(n_jobs=-2)]: Done 200 out of 200 | elapsed:    0.2s finished\n",
            "[Parallel(n_jobs=1)]: Using backend SequentialBackend with 1 concurrent workers.\n",
            "[Parallel(n_jobs=1)]: Done 200 out of 200 | elapsed:    0.0s finished\n",
            "[Parallel(n_jobs=1)]: Using backend SequentialBackend with 1 concurrent workers.\n",
            "[Parallel(n_jobs=1)]: Done 200 out of 200 | elapsed:    0.0s finished\n"
          ]
        },
        {
          "output_type": "stream",
          "name": "stdout",
          "text": [
            "93 - MultivariateRegression with avg smape 1.21: \n",
            "Model Number: 94 of 129 with model ETS for Validation 3\n",
            "ETS error TypeError(\"__init__() got an unexpected keyword argument 'damped_trend'\")\n"
          ]
        },
        {
          "output_type": "stream",
          "name": "stderr",
          "text": [
            "[Parallel(n_jobs=1)]: Using backend SequentialBackend with 1 concurrent workers.\n",
            "[Parallel(n_jobs=1)]: Done 200 out of 200 | elapsed:    0.0s finished\n",
            "INFO:fbprophet:Disabling yearly seasonality. Run prophet with yearly_seasonality=True to override this.\n",
            "INFO:fbprophet:Disabling daily seasonality. Run prophet with daily_seasonality=True to override this.\n"
          ]
        },
        {
          "output_type": "stream",
          "name": "stdout",
          "text": [
            "94 - ETS with avg smape 3.51: \n",
            "Model Number: 95 of 129 with model FBProphet for Validation 3\n",
            "95 - FBProphet with avg smape 0.15: \n",
            "Model Number: 96 of 129 with model GLM for Validation 3\n",
            "96 - GLM with avg smape 0.39: \n",
            "Model Number: 97 of 129 with model ETS for Validation 3\n",
            "ETS error TypeError(\"__init__() got an unexpected keyword argument 'damped_trend'\")\n",
            "97 - ETS with avg smape 0.39: \n",
            "Model Number: 98 of 129 with model GLS for Validation 3\n",
            "98 - GLS with avg smape 0.39: \n",
            "Model Number: 99 of 129 with model SeasonalNaive for Validation 3\n",
            "99 - SeasonalNaive with avg smape 4.59: \n",
            "Model Number: 100 of 129 with model SeasonalNaive for Validation 3\n",
            "100 - SeasonalNaive with avg smape 4.59: \n",
            "Model Number: 101 of 129 with model GLS for Validation 3\n",
            "101 - GLS with avg smape 0.4: \n",
            "Model Number: 102 of 129 with model GLS for Validation 3\n",
            "102 - GLS with avg smape 0.4: \n",
            "Model Number: 103 of 129 with model WindowRegression for Validation 3\n",
            "103 - WindowRegression with avg smape 0.63: \n",
            "Model Number: 104 of 129 with model WindowRegression for Validation 3\n",
            "104 - WindowRegression with avg smape 0.47: \n",
            "Model Number: 105 of 129 with model SectionalMotif for Validation 3\n",
            "105 - SectionalMotif with avg smape 0.81: \n",
            "Model Number: 106 of 129 with model WindowRegression for Validation 3\n",
            "106 - WindowRegression with avg smape 0.96: \n",
            "Model Number: 107 of 129 with model DatepartRegression for Validation 3\n",
            "107 - DatepartRegression with avg smape 1.04: \n",
            "Model Number: 108 of 129 with model UnobservedComponents for Validation 3\n",
            "108 - UnobservedComponents with avg smape 0.32: \n",
            "Model Number: 109 of 129 with model DatepartRegression for Validation 3\n",
            "109 - DatepartRegression with avg smape 0.54: \n",
            "Model Number: 110 of 129 with model SectionalMotif for Validation 3\n",
            "110 - SectionalMotif with avg smape 0.47: \n",
            "Model Number: 111 of 129 with model SectionalMotif for Validation 3\n",
            "111 - SectionalMotif with avg smape 0.93: \n",
            "Model Number: 112 of 129 with model SeasonalNaive for Validation 3\n",
            "112 - SeasonalNaive with avg smape 0.37: \n",
            "Model Number: 113 of 129 with model UnobservedComponents for Validation 3\n",
            "113 - UnobservedComponents with avg smape 0.55: \n",
            "Model Number: 114 of 129 with model SectionalMotif for Validation 3\n",
            "114 - SectionalMotif with avg smape 1.29: \n",
            "Model Number: 115 of 129 with model WindowRegression for Validation 3\n"
          ]
        },
        {
          "output_type": "stream",
          "name": "stderr",
          "text": [
            "[Parallel(n_jobs=-2)]: Using backend SequentialBackend with 1 concurrent workers.\n",
            "[Parallel(n_jobs=-2)]: Done 1000 out of 1000 | elapsed:    0.7s finished\n",
            "[Parallel(n_jobs=1)]: Using backend SequentialBackend with 1 concurrent workers.\n",
            "[Parallel(n_jobs=1)]: Done 1000 out of 1000 | elapsed:    0.1s finished\n",
            "[Parallel(n_jobs=1)]: Using backend SequentialBackend with 1 concurrent workers.\n",
            "[Parallel(n_jobs=1)]: Done 1000 out of 1000 | elapsed:    0.1s finished\n",
            "[Parallel(n_jobs=1)]: Using backend SequentialBackend with 1 concurrent workers.\n"
          ]
        },
        {
          "output_type": "stream",
          "name": "stdout",
          "text": [
            "115 - WindowRegression with avg smape 1.24: \n",
            "Model Number: 116 of 129 with model SeasonalNaive for Validation 3\n",
            "116 - SeasonalNaive with avg smape 2.11: \n",
            "Model Number: 117 of 129 with model SectionalMotif for Validation 3\n"
          ]
        },
        {
          "output_type": "stream",
          "name": "stderr",
          "text": [
            "[Parallel(n_jobs=1)]: Done 1000 out of 1000 | elapsed:    0.1s finished\n",
            "INFO:fbprophet:Disabling yearly seasonality. Run prophet with yearly_seasonality=True to override this.\n",
            "INFO:fbprophet:Disabling daily seasonality. Run prophet with daily_seasonality=True to override this.\n"
          ]
        },
        {
          "output_type": "stream",
          "name": "stdout",
          "text": [
            "117 - SectionalMotif with avg smape 0.26: \n",
            "Model Number: 118 of 129 with model FBProphet for Validation 3\n"
          ]
        },
        {
          "output_type": "stream",
          "name": "stderr",
          "text": [
            "INFO:fbprophet:n_changepoints greater than number of observations. Using 15.\n",
            "INFO:fbprophet:Disabling yearly seasonality. Run prophet with yearly_seasonality=True to override this.\n",
            "INFO:fbprophet:Disabling daily seasonality. Run prophet with daily_seasonality=True to override this.\n",
            "INFO:fbprophet:n_changepoints greater than number of observations. Using 15.\n"
          ]
        },
        {
          "output_type": "stream",
          "name": "stdout",
          "text": [
            "118 - FBProphet with avg smape 1.75: \n",
            "Model Number: 119 of 129 with model FBProphet for Validation 3\n",
            "119 - FBProphet with avg smape 1.78: \n",
            "Model Number: 120 of 129 with model SeasonalNaive for Validation 3\n",
            "120 - SeasonalNaive with avg smape 0.88: \n",
            "Model Number: 121 of 129 with model SeasonalNaive for Validation 3\n",
            "121 - SeasonalNaive with avg smape 1.25: \n",
            "Model Number: 122 of 129 with model WindowRegression for Validation 3\n"
          ]
        },
        {
          "output_type": "stream",
          "name": "stderr",
          "text": [
            "INFO:fbprophet:Disabling yearly seasonality. Run prophet with yearly_seasonality=True to override this.\n",
            "INFO:fbprophet:Disabling daily seasonality. Run prophet with daily_seasonality=True to override this.\n"
          ]
        },
        {
          "output_type": "stream",
          "name": "stdout",
          "text": [
            "122 - WindowRegression with avg smape 0.85: \n",
            "Model Number: 123 of 129 with model FBProphet for Validation 3\n"
          ]
        },
        {
          "output_type": "stream",
          "name": "stderr",
          "text": [
            "INFO:fbprophet:Disabling yearly seasonality. Run prophet with yearly_seasonality=True to override this.\n",
            "INFO:fbprophet:Disabling daily seasonality. Run prophet with daily_seasonality=True to override this.\n"
          ]
        },
        {
          "output_type": "stream",
          "name": "stdout",
          "text": [
            "123 - FBProphet with avg smape 1.01: \n",
            "Model Number: 124 of 129 with model FBProphet for Validation 3\n"
          ]
        },
        {
          "output_type": "stream",
          "name": "stderr",
          "text": [
            "INFO:fbprophet:Disabling yearly seasonality. Run prophet with yearly_seasonality=True to override this.\n",
            "INFO:fbprophet:Disabling daily seasonality. Run prophet with daily_seasonality=True to override this.\n"
          ]
        },
        {
          "output_type": "stream",
          "name": "stdout",
          "text": [
            "124 - FBProphet with avg smape 2.42: \n",
            "Model Number: 125 of 129 with model FBProphet for Validation 3\n"
          ]
        },
        {
          "output_type": "stream",
          "name": "stderr",
          "text": [
            "INFO:fbprophet:Disabling yearly seasonality. Run prophet with yearly_seasonality=True to override this.\n",
            "INFO:fbprophet:Disabling daily seasonality. Run prophet with daily_seasonality=True to override this.\n",
            "INFO:fbprophet:n_changepoints greater than number of observations. Using 15.\n"
          ]
        },
        {
          "output_type": "stream",
          "name": "stdout",
          "text": [
            "125 - FBProphet with avg smape 3.23: \n",
            "Model Number: 126 of 129 with model FBProphet for Validation 3\n",
            "126 - FBProphet with avg smape 3.57: \n",
            "Model Number: 127 of 129 with model GLM for Validation 3\n",
            "127 - GLM with avg smape 1.07: \n",
            "Model Number: 128 of 129 with model GLM for Validation 3\n",
            "128 - GLM with avg smape 2.12: \n",
            "Model Number: 129 of 129 with model GLM for Validation 3\n"
          ]
        },
        {
          "output_type": "stream",
          "name": "stderr",
          "text": [
            "/usr/local/lib/python3.7/dist-packages/statsmodels/genmod/families/links.py:190: RuntimeWarning: overflow encountered in exp\n",
            "  t = np.exp(-z)\n",
            "/usr/local/lib/python3.7/dist-packages/statsmodels/genmod/families/family.py:889: RuntimeWarning: divide by zero encountered in true_divide\n",
            "  endog_mu = self._clean(endog / mu)\n",
            "/usr/local/lib/python3.7/dist-packages/statsmodels/genmod/families/links.py:190: RuntimeWarning: overflow encountered in exp\n",
            "  t = np.exp(-z)\n",
            "/usr/local/lib/python3.7/dist-packages/statsmodels/genmod/families/family.py:889: RuntimeWarning: divide by zero encountered in true_divide\n",
            "  endog_mu = self._clean(endog / mu)\n"
          ]
        },
        {
          "output_type": "stream",
          "name": "stdout",
          "text": [
            "129 - GLM with avg smape 0.64: \n"
          ]
        }
      ],
      "source": [
        "mod = model.fit(df, date_col = 'Date', value_col = 'Close', id_col = None)"
      ]
    },
    {
      "cell_type": "markdown",
      "id": "9c7bde3b",
      "metadata": {
        "id": "9c7bde3b"
      },
      "source": [
        "## Best Model"
      ]
    },
    {
      "cell_type": "code",
      "execution_count": null,
      "id": "7b0b3852",
      "metadata": {
        "colab": {
          "base_uri": "https://localhost:8080/"
        },
        "id": "7b0b3852",
        "outputId": "9e1d39c2-3884-41c3-894c-d29e4706485a"
      },
      "outputs": [
        {
          "output_type": "stream",
          "name": "stdout",
          "text": [
            "Initiated AutoTS object with best model: \n",
            "WindowRegression\n",
            "{'fillna': 'pad', 'transformations': {'0': 'ClipOutliers', '1': 'RobustScaler', '2': 'Detrend', '3': 'Log'}, 'transformation_params': {'0': {'method': 'clip', 'std_threshold': 3.5, 'fillna': None}, '1': {}, '2': {'model': 'Linear', 'phi': 1, 'window': None}, '3': {}}}\n",
            "{'window_size': 10, 'input_dim': 'univariate', 'output_dim': 'forecast_length', 'normalize_window': False, 'max_windows': 5000, 'regression_type': None, 'regression_model': {'model': 'SVM', 'model_params': {}}}\n",
            "SMAPE: 0.35019073033226406, 0.20992283622821362, 1.495810234430946, 0.8305903798286329\n",
            "MAE: 193.95959654826098, 116.79638339055721, 821.0029713671878, 450.2332169836639\n",
            "SPL: 0.7260273889621773, 0.7318454839719372, 0.6969278389428382, 0.6238628381108936\n"
          ]
        }
      ],
      "source": [
        "print(mod)"
      ]
    },
    {
      "cell_type": "markdown",
      "id": "ccf1793b",
      "metadata": {
        "id": "ccf1793b"
      },
      "source": [
        "## Prediction and Forecasting"
      ]
    },
    {
      "cell_type": "code",
      "execution_count": null,
      "id": "544df789",
      "metadata": {
        "id": "544df789",
        "colab": {
          "base_uri": "https://localhost:8080/"
        },
        "outputId": "6badb188-f02d-4550-b664-783b6e9d24c0"
      },
      "outputs": [
        {
          "output_type": "stream",
          "name": "stderr",
          "text": [
            "/usr/local/lib/python3.7/dist-packages/sklearn/svm/_base.py:1208: ConvergenceWarning: Liblinear failed to converge, increase the number of iterations.\n",
            "  ConvergenceWarning,\n",
            "/usr/local/lib/python3.7/dist-packages/sklearn/svm/_base.py:1208: ConvergenceWarning: Liblinear failed to converge, increase the number of iterations.\n",
            "  ConvergenceWarning,\n",
            "/usr/local/lib/python3.7/dist-packages/sklearn/svm/_base.py:1208: ConvergenceWarning: Liblinear failed to converge, increase the number of iterations.\n",
            "  ConvergenceWarning,\n"
          ]
        }
      ],
      "source": [
        "pred = model.predict()\n",
        "forecast = pred.forecast\n",
        "model_results = model.results()\n",
        "validation = model.results('validation')"
      ]
    },
    {
      "cell_type": "markdown",
      "id": "d7710b60",
      "metadata": {
        "id": "d7710b60"
      },
      "source": [
        "Let’s print the forecast of the dataset for the future stock price. Also, we will see the validation of the model results. "
      ]
    },
    {
      "cell_type": "code",
      "execution_count": null,
      "id": "e4cc48a0",
      "metadata": {
        "colab": {
          "base_uri": "https://localhost:8080/"
        },
        "id": "e4cc48a0",
        "outputId": "893237d8-7731-4e95-c110-5691429f7255"
      },
      "outputs": [
        {
          "output_type": "stream",
          "name": "stdout",
          "text": [
            "                   Close\n",
            "2022-06-08  55355.284015\n",
            "2022-06-09  55352.298006\n",
            "2022-06-10  54932.345638\n"
          ]
        }
      ],
      "source": [
        "# Forecast\n",
        "print(forecast)"
      ]
    },
    {
      "cell_type": "code",
      "execution_count": null,
      "id": "037d8398",
      "metadata": {
        "id": "037d8398"
      },
      "outputs": [],
      "source": [
        "fcast = forecast.astype(int)"
      ]
    },
    {
      "cell_type": "code",
      "execution_count": null,
      "id": "5ea81c89",
      "metadata": {
        "colab": {
          "base_uri": "https://localhost:8080/"
        },
        "id": "5ea81c89",
        "outputId": "7e716f80-a629-4b37-90f6-200d1b718997"
      },
      "outputs": [
        {
          "output_type": "stream",
          "name": "stdout",
          "text": [
            "^BSESN\n",
            "            Close\n",
            "2022-06-08  55355\n",
            "2022-06-09  55352\n",
            "2022-06-10  54932\n"
          ]
        }
      ],
      "source": [
        "print(ticker)\n",
        "print(fcast)"
      ]
    },
    {
      "cell_type": "code",
      "execution_count": null,
      "id": "86e25040",
      "metadata": {
        "id": "86e25040"
      },
      "outputs": [],
      "source": [
        "from datetime import datetime\n",
        "newdf = pd.DataFrame(fcast)\n",
        "newdf['ticker'] = ticker\n",
        "newdf['timestamp'] = datetime.now()"
      ]
    },
    {
      "cell_type": "code",
      "execution_count": null,
      "id": "76d9e9ff",
      "metadata": {
        "colab": {
          "base_uri": "https://localhost:8080/",
          "height": 143
        },
        "id": "76d9e9ff",
        "outputId": "c694e30e-2ec5-4b20-cdc4-a3f3ad2263ec"
      },
      "outputs": [
        {
          "output_type": "execute_result",
          "data": {
            "text/plain": [
              "            Close      ticker                  timestamp\n",
              "2022-06-06    863  IPCALAB.NS 2022-06-04 09:23:46.563474\n",
              "2022-06-07    849  IPCALAB.NS 2022-06-04 09:23:46.563474\n",
              "2022-06-08    843  IPCALAB.NS 2022-06-04 09:23:46.563474"
            ],
            "text/html": [
              "\n",
              "  <div id=\"df-b15aa33b-62b8-4284-9b18-3d2ccb163f06\">\n",
              "    <div class=\"colab-df-container\">\n",
              "      <div>\n",
              "<style scoped>\n",
              "    .dataframe tbody tr th:only-of-type {\n",
              "        vertical-align: middle;\n",
              "    }\n",
              "\n",
              "    .dataframe tbody tr th {\n",
              "        vertical-align: top;\n",
              "    }\n",
              "\n",
              "    .dataframe thead th {\n",
              "        text-align: right;\n",
              "    }\n",
              "</style>\n",
              "<table border=\"1\" class=\"dataframe\">\n",
              "  <thead>\n",
              "    <tr style=\"text-align: right;\">\n",
              "      <th></th>\n",
              "      <th>Close</th>\n",
              "      <th>ticker</th>\n",
              "      <th>timestamp</th>\n",
              "    </tr>\n",
              "  </thead>\n",
              "  <tbody>\n",
              "    <tr>\n",
              "      <th>2022-06-06</th>\n",
              "      <td>863</td>\n",
              "      <td>IPCALAB.NS</td>\n",
              "      <td>2022-06-04 09:23:46.563474</td>\n",
              "    </tr>\n",
              "    <tr>\n",
              "      <th>2022-06-07</th>\n",
              "      <td>849</td>\n",
              "      <td>IPCALAB.NS</td>\n",
              "      <td>2022-06-04 09:23:46.563474</td>\n",
              "    </tr>\n",
              "    <tr>\n",
              "      <th>2022-06-08</th>\n",
              "      <td>843</td>\n",
              "      <td>IPCALAB.NS</td>\n",
              "      <td>2022-06-04 09:23:46.563474</td>\n",
              "    </tr>\n",
              "  </tbody>\n",
              "</table>\n",
              "</div>\n",
              "      <button class=\"colab-df-convert\" onclick=\"convertToInteractive('df-b15aa33b-62b8-4284-9b18-3d2ccb163f06')\"\n",
              "              title=\"Convert this dataframe to an interactive table.\"\n",
              "              style=\"display:none;\">\n",
              "        \n",
              "  <svg xmlns=\"http://www.w3.org/2000/svg\" height=\"24px\"viewBox=\"0 0 24 24\"\n",
              "       width=\"24px\">\n",
              "    <path d=\"M0 0h24v24H0V0z\" fill=\"none\"/>\n",
              "    <path d=\"M18.56 5.44l.94 2.06.94-2.06 2.06-.94-2.06-.94-.94-2.06-.94 2.06-2.06.94zm-11 1L8.5 8.5l.94-2.06 2.06-.94-2.06-.94L8.5 2.5l-.94 2.06-2.06.94zm10 10l.94 2.06.94-2.06 2.06-.94-2.06-.94-.94-2.06-.94 2.06-2.06.94z\"/><path d=\"M17.41 7.96l-1.37-1.37c-.4-.4-.92-.59-1.43-.59-.52 0-1.04.2-1.43.59L10.3 9.45l-7.72 7.72c-.78.78-.78 2.05 0 2.83L4 21.41c.39.39.9.59 1.41.59.51 0 1.02-.2 1.41-.59l7.78-7.78 2.81-2.81c.8-.78.8-2.07 0-2.86zM5.41 20L4 18.59l7.72-7.72 1.47 1.35L5.41 20z\"/>\n",
              "  </svg>\n",
              "      </button>\n",
              "      \n",
              "  <style>\n",
              "    .colab-df-container {\n",
              "      display:flex;\n",
              "      flex-wrap:wrap;\n",
              "      gap: 12px;\n",
              "    }\n",
              "\n",
              "    .colab-df-convert {\n",
              "      background-color: #E8F0FE;\n",
              "      border: none;\n",
              "      border-radius: 50%;\n",
              "      cursor: pointer;\n",
              "      display: none;\n",
              "      fill: #1967D2;\n",
              "      height: 32px;\n",
              "      padding: 0 0 0 0;\n",
              "      width: 32px;\n",
              "    }\n",
              "\n",
              "    .colab-df-convert:hover {\n",
              "      background-color: #E2EBFA;\n",
              "      box-shadow: 0px 1px 2px rgba(60, 64, 67, 0.3), 0px 1px 3px 1px rgba(60, 64, 67, 0.15);\n",
              "      fill: #174EA6;\n",
              "    }\n",
              "\n",
              "    [theme=dark] .colab-df-convert {\n",
              "      background-color: #3B4455;\n",
              "      fill: #D2E3FC;\n",
              "    }\n",
              "\n",
              "    [theme=dark] .colab-df-convert:hover {\n",
              "      background-color: #434B5C;\n",
              "      box-shadow: 0px 1px 3px 1px rgba(0, 0, 0, 0.15);\n",
              "      filter: drop-shadow(0px 1px 2px rgba(0, 0, 0, 0.3));\n",
              "      fill: #FFFFFF;\n",
              "    }\n",
              "  </style>\n",
              "\n",
              "      <script>\n",
              "        const buttonEl =\n",
              "          document.querySelector('#df-b15aa33b-62b8-4284-9b18-3d2ccb163f06 button.colab-df-convert');\n",
              "        buttonEl.style.display =\n",
              "          google.colab.kernel.accessAllowed ? 'block' : 'none';\n",
              "\n",
              "        async function convertToInteractive(key) {\n",
              "          const element = document.querySelector('#df-b15aa33b-62b8-4284-9b18-3d2ccb163f06');\n",
              "          const dataTable =\n",
              "            await google.colab.kernel.invokeFunction('convertToInteractive',\n",
              "                                                     [key], {});\n",
              "          if (!dataTable) return;\n",
              "\n",
              "          const docLinkHtml = 'Like what you see? Visit the ' +\n",
              "            '<a target=\"_blank\" href=https://colab.research.google.com/notebooks/data_table.ipynb>data table notebook</a>'\n",
              "            + ' to learn more about interactive tables.';\n",
              "          element.innerHTML = '';\n",
              "          dataTable['output_type'] = 'display_data';\n",
              "          await google.colab.output.renderOutput(dataTable, element);\n",
              "          const docLink = document.createElement('div');\n",
              "          docLink.innerHTML = docLinkHtml;\n",
              "          element.appendChild(docLink);\n",
              "        }\n",
              "      </script>\n",
              "    </div>\n",
              "  </div>\n",
              "  "
            ]
          },
          "metadata": {},
          "execution_count": 42
        }
      ],
      "source": [
        "newdf"
      ]
    },
    {
      "cell_type": "code",
      "execution_count": null,
      "id": "fd7f8d0f",
      "metadata": {
        "id": "fd7f8d0f"
      },
      "outputs": [],
      "source": [
        "newdf.reset_index(inplace = True)"
      ]
    },
    {
      "cell_type": "code",
      "execution_count": null,
      "id": "8b6fac87",
      "metadata": {
        "id": "8b6fac87"
      },
      "outputs": [],
      "source": [
        "newdf.rename(columns = {'index':'Date'}, inplace = True)\n",
        "# newdf['Date'] = pd.to_datetime(newdf['Date'])"
      ]
    },
    {
      "cell_type": "code",
      "execution_count": null,
      "id": "77322c9f",
      "metadata": {
        "id": "77322c9f",
        "outputId": "191a40bf-9e1e-4c38-885e-08c9b951c53e"
      },
      "outputs": [
        {
          "data": {
            "text/html": [
              "<div>\n",
              "<style scoped>\n",
              "    .dataframe tbody tr th:only-of-type {\n",
              "        vertical-align: middle;\n",
              "    }\n",
              "\n",
              "    .dataframe tbody tr th {\n",
              "        vertical-align: top;\n",
              "    }\n",
              "\n",
              "    .dataframe thead th {\n",
              "        text-align: right;\n",
              "    }\n",
              "</style>\n",
              "<table border=\"1\" class=\"dataframe\">\n",
              "  <thead>\n",
              "    <tr style=\"text-align: right;\">\n",
              "      <th></th>\n",
              "      <th>Date</th>\n",
              "      <th>Close</th>\n",
              "      <th>ticker</th>\n",
              "      <th>timestamp</th>\n",
              "    </tr>\n",
              "  </thead>\n",
              "  <tbody>\n",
              "    <tr>\n",
              "      <th>0</th>\n",
              "      <td>2022-05-31</td>\n",
              "      <td>35441</td>\n",
              "      <td>^NSEBANK</td>\n",
              "      <td>2022-05-30 20:17:03.368617</td>\n",
              "    </tr>\n",
              "    <tr>\n",
              "      <th>1</th>\n",
              "      <td>2022-06-01</td>\n",
              "      <td>35744</td>\n",
              "      <td>^NSEBANK</td>\n",
              "      <td>2022-05-30 20:17:03.368617</td>\n",
              "    </tr>\n",
              "    <tr>\n",
              "      <th>2</th>\n",
              "      <td>2022-06-02</td>\n",
              "      <td>35735</td>\n",
              "      <td>^NSEBANK</td>\n",
              "      <td>2022-05-30 20:17:03.368617</td>\n",
              "    </tr>\n",
              "  </tbody>\n",
              "</table>\n",
              "</div>"
            ],
            "text/plain": [
              "        Date  Close    ticker                  timestamp\n",
              "0 2022-05-31  35441  ^NSEBANK 2022-05-30 20:17:03.368617\n",
              "1 2022-06-01  35744  ^NSEBANK 2022-05-30 20:17:03.368617\n",
              "2 2022-06-02  35735  ^NSEBANK 2022-05-30 20:17:03.368617"
            ]
          },
          "execution_count": 60,
          "metadata": {},
          "output_type": "execute_result"
        }
      ],
      "source": [
        "newdf"
      ]
    },
    {
      "cell_type": "code",
      "execution_count": null,
      "id": "cc6de0bb",
      "metadata": {
        "id": "cc6de0bb"
      },
      "outputs": [],
      "source": [
        "# finaldf = pd.DataFrame()\n",
        "# finaldf = pd.read_csv('predictions.csv')\n",
        "finaldf = finaldf.append(newdf)"
      ]
    },
    {
      "cell_type": "code",
      "execution_count": null,
      "id": "aa42ce89",
      "metadata": {
        "id": "aa42ce89",
        "outputId": "b2a5a0ac-914e-4ed5-fa40-0462f50dd40d"
      },
      "outputs": [
        {
          "data": {
            "text/html": [
              "<div>\n",
              "<style scoped>\n",
              "    .dataframe tbody tr th:only-of-type {\n",
              "        vertical-align: middle;\n",
              "    }\n",
              "\n",
              "    .dataframe tbody tr th {\n",
              "        vertical-align: top;\n",
              "    }\n",
              "\n",
              "    .dataframe thead th {\n",
              "        text-align: right;\n",
              "    }\n",
              "</style>\n",
              "<table border=\"1\" class=\"dataframe\">\n",
              "  <thead>\n",
              "    <tr style=\"text-align: right;\">\n",
              "      <th></th>\n",
              "      <th>Date</th>\n",
              "      <th>Close</th>\n",
              "      <th>ticker</th>\n",
              "      <th>timestamp</th>\n",
              "    </tr>\n",
              "  </thead>\n",
              "  <tbody>\n",
              "    <tr>\n",
              "      <th>0</th>\n",
              "      <td>2022-05-30</td>\n",
              "      <td>16090</td>\n",
              "      <td>^NSEI</td>\n",
              "      <td>2022-05-28 11:17:41.393578</td>\n",
              "    </tr>\n",
              "    <tr>\n",
              "      <th>1</th>\n",
              "      <td>2022-05-30</td>\n",
              "      <td>34838</td>\n",
              "      <td>^NSEBANK</td>\n",
              "      <td>2022-05-28 21:54:40.944595</td>\n",
              "    </tr>\n",
              "    <tr>\n",
              "      <th>2</th>\n",
              "      <td>2022-05-30</td>\n",
              "      <td>54334</td>\n",
              "      <td>^BSESN</td>\n",
              "      <td>2022-05-28 21:58:47.604539</td>\n",
              "    </tr>\n",
              "    <tr>\n",
              "      <th>3</th>\n",
              "      <td>2022-05-31</td>\n",
              "      <td>16103</td>\n",
              "      <td>^NSEI</td>\n",
              "      <td>2022-05-28 11:17:41.393578</td>\n",
              "    </tr>\n",
              "    <tr>\n",
              "      <th>4</th>\n",
              "      <td>2022-05-31</td>\n",
              "      <td>35056</td>\n",
              "      <td>^NSEBANK</td>\n",
              "      <td>2022-05-28 21:54:40.944595</td>\n",
              "    </tr>\n",
              "    <tr>\n",
              "      <th>5</th>\n",
              "      <td>2022-05-31</td>\n",
              "      <td>54221</td>\n",
              "      <td>^BSESN</td>\n",
              "      <td>2022-05-28 21:58:47.604539</td>\n",
              "    </tr>\n",
              "    <tr>\n",
              "      <th>0</th>\n",
              "      <td>2022-05-31</td>\n",
              "      <td>16586</td>\n",
              "      <td>^NSEI</td>\n",
              "      <td>2022-05-30 19:27:57.532132</td>\n",
              "    </tr>\n",
              "    <tr>\n",
              "      <th>6</th>\n",
              "      <td>2022-06-01</td>\n",
              "      <td>16105</td>\n",
              "      <td>^NSEI</td>\n",
              "      <td>2022-05-28 11:17:41.393578</td>\n",
              "    </tr>\n",
              "    <tr>\n",
              "      <th>7</th>\n",
              "      <td>2022-06-01</td>\n",
              "      <td>35216</td>\n",
              "      <td>^NSEBANK</td>\n",
              "      <td>2022-05-28 21:54:40.944595</td>\n",
              "    </tr>\n",
              "    <tr>\n",
              "      <th>8</th>\n",
              "      <td>2022-06-01</td>\n",
              "      <td>54123</td>\n",
              "      <td>^BSESN</td>\n",
              "      <td>2022-05-28 21:58:47.604539</td>\n",
              "    </tr>\n",
              "    <tr>\n",
              "      <th>1</th>\n",
              "      <td>2022-06-01</td>\n",
              "      <td>16585</td>\n",
              "      <td>^NSEI</td>\n",
              "      <td>2022-05-30 19:27:57.532132</td>\n",
              "    </tr>\n",
              "    <tr>\n",
              "      <th>2</th>\n",
              "      <td>2022-06-02</td>\n",
              "      <td>16577</td>\n",
              "      <td>^NSEI</td>\n",
              "      <td>2022-05-30 19:27:57.532132</td>\n",
              "    </tr>\n",
              "    <tr>\n",
              "      <th>0</th>\n",
              "      <td>2022-05-31</td>\n",
              "      <td>35441</td>\n",
              "      <td>^NSEBANK</td>\n",
              "      <td>2022-05-30 20:17:03.368617</td>\n",
              "    </tr>\n",
              "    <tr>\n",
              "      <th>1</th>\n",
              "      <td>2022-06-01</td>\n",
              "      <td>35744</td>\n",
              "      <td>^NSEBANK</td>\n",
              "      <td>2022-05-30 20:17:03.368617</td>\n",
              "    </tr>\n",
              "    <tr>\n",
              "      <th>2</th>\n",
              "      <td>2022-06-02</td>\n",
              "      <td>35735</td>\n",
              "      <td>^NSEBANK</td>\n",
              "      <td>2022-05-30 20:17:03.368617</td>\n",
              "    </tr>\n",
              "  </tbody>\n",
              "</table>\n",
              "</div>"
            ],
            "text/plain": [
              "        Date  Close    ticker                   timestamp\n",
              "0 2022-05-30  16090     ^NSEI  2022-05-28 11:17:41.393578\n",
              "1 2022-05-30  34838  ^NSEBANK  2022-05-28 21:54:40.944595\n",
              "2 2022-05-30  54334    ^BSESN  2022-05-28 21:58:47.604539\n",
              "3 2022-05-31  16103     ^NSEI  2022-05-28 11:17:41.393578\n",
              "4 2022-05-31  35056  ^NSEBANK  2022-05-28 21:54:40.944595\n",
              "5 2022-05-31  54221    ^BSESN  2022-05-28 21:58:47.604539\n",
              "0 2022-05-31  16586     ^NSEI  2022-05-30 19:27:57.532132\n",
              "6 2022-06-01  16105     ^NSEI  2022-05-28 11:17:41.393578\n",
              "7 2022-06-01  35216  ^NSEBANK  2022-05-28 21:54:40.944595\n",
              "8 2022-06-01  54123    ^BSESN  2022-05-28 21:58:47.604539\n",
              "1 2022-06-01  16585     ^NSEI  2022-05-30 19:27:57.532132\n",
              "2 2022-06-02  16577     ^NSEI  2022-05-30 19:27:57.532132\n",
              "0 2022-05-31  35441  ^NSEBANK  2022-05-30 20:17:03.368617\n",
              "1 2022-06-01  35744  ^NSEBANK  2022-05-30 20:17:03.368617\n",
              "2 2022-06-02  35735  ^NSEBANK  2022-05-30 20:17:03.368617"
            ]
          },
          "execution_count": 62,
          "metadata": {},
          "output_type": "execute_result"
        }
      ],
      "source": [
        "finaldf"
      ]
    },
    {
      "cell_type": "code",
      "execution_count": null,
      "id": "887913aa",
      "metadata": {
        "id": "887913aa"
      },
      "outputs": [],
      "source": [
        "finaldf['Date'] = pd.to_datetime(finaldf['Date'])"
      ]
    },
    {
      "cell_type": "code",
      "execution_count": null,
      "id": "4faf9920",
      "metadata": {
        "id": "4faf9920"
      },
      "outputs": [],
      "source": [
        "finaldf.sort_values('Date', inplace=True)"
      ]
    },
    {
      "cell_type": "code",
      "execution_count": null,
      "id": "263126d5",
      "metadata": {
        "id": "263126d5",
        "outputId": "9c046f63-a1df-48be-b88f-1b3dc3eab43e"
      },
      "outputs": [
        {
          "data": {
            "text/html": [
              "<div>\n",
              "<style scoped>\n",
              "    .dataframe tbody tr th:only-of-type {\n",
              "        vertical-align: middle;\n",
              "    }\n",
              "\n",
              "    .dataframe tbody tr th {\n",
              "        vertical-align: top;\n",
              "    }\n",
              "\n",
              "    .dataframe thead th {\n",
              "        text-align: right;\n",
              "    }\n",
              "</style>\n",
              "<table border=\"1\" class=\"dataframe\">\n",
              "  <thead>\n",
              "    <tr style=\"text-align: right;\">\n",
              "      <th></th>\n",
              "      <th>Date</th>\n",
              "      <th>Close</th>\n",
              "      <th>ticker</th>\n",
              "    </tr>\n",
              "  </thead>\n",
              "  <tbody>\n",
              "    <tr>\n",
              "      <th>0</th>\n",
              "      <td>2022-05-30</td>\n",
              "      <td>16090</td>\n",
              "      <td>^NSEI</td>\n",
              "    </tr>\n",
              "    <tr>\n",
              "      <th>1</th>\n",
              "      <td>2022-05-30</td>\n",
              "      <td>34838</td>\n",
              "      <td>^NSEBANK</td>\n",
              "    </tr>\n",
              "    <tr>\n",
              "      <th>2</th>\n",
              "      <td>2022-05-30</td>\n",
              "      <td>54334</td>\n",
              "      <td>^BSESN</td>\n",
              "    </tr>\n",
              "    <tr>\n",
              "      <th>3</th>\n",
              "      <td>2022-05-31</td>\n",
              "      <td>16103</td>\n",
              "      <td>^NSEI</td>\n",
              "    </tr>\n",
              "    <tr>\n",
              "      <th>4</th>\n",
              "      <td>2022-05-31</td>\n",
              "      <td>35056</td>\n",
              "      <td>^NSEBANK</td>\n",
              "    </tr>\n",
              "    <tr>\n",
              "      <th>5</th>\n",
              "      <td>2022-05-31</td>\n",
              "      <td>54221</td>\n",
              "      <td>^BSESN</td>\n",
              "    </tr>\n",
              "    <tr>\n",
              "      <th>0</th>\n",
              "      <td>2022-05-31</td>\n",
              "      <td>16586</td>\n",
              "      <td>^NSEI</td>\n",
              "    </tr>\n",
              "    <tr>\n",
              "      <th>0</th>\n",
              "      <td>2022-05-31</td>\n",
              "      <td>35441</td>\n",
              "      <td>^NSEBANK</td>\n",
              "    </tr>\n",
              "    <tr>\n",
              "      <th>6</th>\n",
              "      <td>2022-06-01</td>\n",
              "      <td>16105</td>\n",
              "      <td>^NSEI</td>\n",
              "    </tr>\n",
              "    <tr>\n",
              "      <th>7</th>\n",
              "      <td>2022-06-01</td>\n",
              "      <td>35216</td>\n",
              "      <td>^NSEBANK</td>\n",
              "    </tr>\n",
              "    <tr>\n",
              "      <th>8</th>\n",
              "      <td>2022-06-01</td>\n",
              "      <td>54123</td>\n",
              "      <td>^BSESN</td>\n",
              "    </tr>\n",
              "    <tr>\n",
              "      <th>1</th>\n",
              "      <td>2022-06-01</td>\n",
              "      <td>16585</td>\n",
              "      <td>^NSEI</td>\n",
              "    </tr>\n",
              "    <tr>\n",
              "      <th>1</th>\n",
              "      <td>2022-06-01</td>\n",
              "      <td>35744</td>\n",
              "      <td>^NSEBANK</td>\n",
              "    </tr>\n",
              "    <tr>\n",
              "      <th>2</th>\n",
              "      <td>2022-06-02</td>\n",
              "      <td>16577</td>\n",
              "      <td>^NSEI</td>\n",
              "    </tr>\n",
              "    <tr>\n",
              "      <th>2</th>\n",
              "      <td>2022-06-02</td>\n",
              "      <td>35735</td>\n",
              "      <td>^NSEBANK</td>\n",
              "    </tr>\n",
              "  </tbody>\n",
              "</table>\n",
              "</div>"
            ],
            "text/plain": [
              "        Date  Close    ticker\n",
              "0 2022-05-30  16090     ^NSEI\n",
              "1 2022-05-30  34838  ^NSEBANK\n",
              "2 2022-05-30  54334    ^BSESN\n",
              "3 2022-05-31  16103     ^NSEI\n",
              "4 2022-05-31  35056  ^NSEBANK\n",
              "5 2022-05-31  54221    ^BSESN\n",
              "0 2022-05-31  16586     ^NSEI\n",
              "0 2022-05-31  35441  ^NSEBANK\n",
              "6 2022-06-01  16105     ^NSEI\n",
              "7 2022-06-01  35216  ^NSEBANK\n",
              "8 2022-06-01  54123    ^BSESN\n",
              "1 2022-06-01  16585     ^NSEI\n",
              "1 2022-06-01  35744  ^NSEBANK\n",
              "2 2022-06-02  16577     ^NSEI\n",
              "2 2022-06-02  35735  ^NSEBANK"
            ]
          },
          "execution_count": 65,
          "metadata": {},
          "output_type": "execute_result"
        }
      ],
      "source": [
        "# finaldf['Close'] = (round(finaldf['Close'],0)).astype(int)\n",
        "finaldf[['Date','Close','ticker']]"
      ]
    },
    {
      "cell_type": "code",
      "execution_count": null,
      "id": "a028dad0",
      "metadata": {
        "id": "a028dad0"
      },
      "outputs": [],
      "source": [
        "finaldf['timestamp'] = pd.to_datetime(finaldf['timestamp'])"
      ]
    },
    {
      "cell_type": "code",
      "execution_count": null,
      "id": "792fec87",
      "metadata": {
        "scrolled": true,
        "id": "792fec87",
        "outputId": "84ba2097-2185-4e19-89e5-888f687bcf4e"
      },
      "outputs": [
        {
          "data": {
            "text/html": [
              "<div>\n",
              "<style scoped>\n",
              "    .dataframe tbody tr th:only-of-type {\n",
              "        vertical-align: middle;\n",
              "    }\n",
              "\n",
              "    .dataframe tbody tr th {\n",
              "        vertical-align: top;\n",
              "    }\n",
              "\n",
              "    .dataframe thead th {\n",
              "        text-align: right;\n",
              "    }\n",
              "</style>\n",
              "<table border=\"1\" class=\"dataframe\">\n",
              "  <thead>\n",
              "    <tr style=\"text-align: right;\">\n",
              "      <th></th>\n",
              "      <th>Date</th>\n",
              "      <th>Close</th>\n",
              "      <th>ticker</th>\n",
              "      <th>timestamp</th>\n",
              "    </tr>\n",
              "  </thead>\n",
              "  <tbody>\n",
              "    <tr>\n",
              "      <th>0</th>\n",
              "      <td>2022-05-31</td>\n",
              "      <td>16586</td>\n",
              "      <td>^NSEI</td>\n",
              "      <td>2022-05-30 19:27:57.532132</td>\n",
              "    </tr>\n",
              "    <tr>\n",
              "      <th>1</th>\n",
              "      <td>2022-06-01</td>\n",
              "      <td>16585</td>\n",
              "      <td>^NSEI</td>\n",
              "      <td>2022-05-30 19:27:57.532132</td>\n",
              "    </tr>\n",
              "    <tr>\n",
              "      <th>2</th>\n",
              "      <td>2022-06-02</td>\n",
              "      <td>16577</td>\n",
              "      <td>^NSEI</td>\n",
              "      <td>2022-05-30 19:27:57.532132</td>\n",
              "    </tr>\n",
              "    <tr>\n",
              "      <th>0</th>\n",
              "      <td>2022-05-30</td>\n",
              "      <td>16090</td>\n",
              "      <td>^NSEI</td>\n",
              "      <td>2022-05-28 11:17:41.393578</td>\n",
              "    </tr>\n",
              "    <tr>\n",
              "      <th>3</th>\n",
              "      <td>2022-05-31</td>\n",
              "      <td>16103</td>\n",
              "      <td>^NSEI</td>\n",
              "      <td>2022-05-28 11:17:41.393578</td>\n",
              "    </tr>\n",
              "    <tr>\n",
              "      <th>6</th>\n",
              "      <td>2022-06-01</td>\n",
              "      <td>16105</td>\n",
              "      <td>^NSEI</td>\n",
              "      <td>2022-05-28 11:17:41.393578</td>\n",
              "    </tr>\n",
              "  </tbody>\n",
              "</table>\n",
              "</div>"
            ],
            "text/plain": [
              "        Date  Close ticker                  timestamp\n",
              "0 2022-05-31  16586  ^NSEI 2022-05-30 19:27:57.532132\n",
              "1 2022-06-01  16585  ^NSEI 2022-05-30 19:27:57.532132\n",
              "2 2022-06-02  16577  ^NSEI 2022-05-30 19:27:57.532132\n",
              "0 2022-05-30  16090  ^NSEI 2022-05-28 11:17:41.393578\n",
              "3 2022-05-31  16103  ^NSEI 2022-05-28 11:17:41.393578\n",
              "6 2022-06-01  16105  ^NSEI 2022-05-28 11:17:41.393578"
            ]
          },
          "execution_count": 71,
          "metadata": {},
          "output_type": "execute_result"
        }
      ],
      "source": [
        "finaldf[finaldf['ticker']=='^NSEI'].sort_values('timestamp', ascending=False)"
      ]
    },
    {
      "cell_type": "code",
      "execution_count": null,
      "id": "0ea905fb",
      "metadata": {
        "id": "0ea905fb"
      },
      "outputs": [],
      "source": [
        "finaldf.to_csv('predictions.csv', index=False)"
      ]
    },
    {
      "cell_type": "code",
      "execution_count": null,
      "id": "b48a3ff4",
      "metadata": {
        "id": "b48a3ff4"
      },
      "outputs": [],
      "source": [
        "#Validation Results\n",
        "# print(validation)"
      ]
    }
  ],
  "metadata": {
    "kernelspec": {
      "display_name": "Python 3",
      "language": "python",
      "name": "python3"
    },
    "language_info": {
      "codemirror_mode": {
        "name": "ipython",
        "version": 3
      },
      "file_extension": ".py",
      "mimetype": "text/x-python",
      "name": "python",
      "nbconvert_exporter": "python",
      "pygments_lexer": "ipython3",
      "version": "3.8.8"
    },
    "colab": {
      "name": "AutoTS_Prediction.ipynb",
      "provenance": [],
      "collapsed_sections": [],
      "include_colab_link": true
    }
  },
  "nbformat": 4,
  "nbformat_minor": 5
}