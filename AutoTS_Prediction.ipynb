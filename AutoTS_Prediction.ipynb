{
  "cells": [
    {
      "cell_type": "markdown",
      "metadata": {
        "id": "view-in-github",
        "colab_type": "text"
      },
      "source": [
        "<a href=\"https://colab.research.google.com/github/ramrajv/AI_Fin/blob/main/AutoTS_Prediction.ipynb\" target=\"_parent\"><img src=\"https://colab.research.google.com/assets/colab-badge.svg\" alt=\"Open In Colab\"/></a>"
      ]
    },
    {
      "cell_type": "code",
      "source": [
        "pip install yfinance"
      ],
      "metadata": {
        "colab": {
          "base_uri": "https://localhost:8080/"
        },
        "id": "aoQjq8U2D8fI",
        "outputId": "6f51bf80-e819-405d-aa5e-e679b7f5986e"
      },
      "id": "aoQjq8U2D8fI",
      "execution_count": 1,
      "outputs": [
        {
          "output_type": "stream",
          "name": "stdout",
          "text": [
            "Looking in indexes: https://pypi.org/simple, https://us-python.pkg.dev/colab-wheels/public/simple/\n",
            "Collecting yfinance\n",
            "  Downloading yfinance-0.1.74-py2.py3-none-any.whl (27 kB)\n",
            "Collecting requests>=2.26\n",
            "  Downloading requests-2.28.1-py3-none-any.whl (62 kB)\n",
            "\u001b[K     |████████████████████████████████| 62 kB 1.4 MB/s \n",
            "\u001b[?25hRequirement already satisfied: multitasking>=0.0.7 in /usr/local/lib/python3.7/dist-packages (from yfinance) (0.0.11)\n",
            "Requirement already satisfied: pandas>=0.24.0 in /usr/local/lib/python3.7/dist-packages (from yfinance) (1.3.5)\n",
            "Requirement already satisfied: lxml>=4.5.1 in /usr/local/lib/python3.7/dist-packages (from yfinance) (4.9.1)\n",
            "Requirement already satisfied: numpy>=1.15 in /usr/local/lib/python3.7/dist-packages (from yfinance) (1.21.6)\n",
            "Requirement already satisfied: python-dateutil>=2.7.3 in /usr/local/lib/python3.7/dist-packages (from pandas>=0.24.0->yfinance) (2.8.2)\n",
            "Requirement already satisfied: pytz>=2017.3 in /usr/local/lib/python3.7/dist-packages (from pandas>=0.24.0->yfinance) (2022.1)\n",
            "Requirement already satisfied: six>=1.5 in /usr/local/lib/python3.7/dist-packages (from python-dateutil>=2.7.3->pandas>=0.24.0->yfinance) (1.15.0)\n",
            "Requirement already satisfied: charset-normalizer<3,>=2 in /usr/local/lib/python3.7/dist-packages (from requests>=2.26->yfinance) (2.1.0)\n",
            "Requirement already satisfied: certifi>=2017.4.17 in /usr/local/lib/python3.7/dist-packages (from requests>=2.26->yfinance) (2022.6.15)\n",
            "Requirement already satisfied: idna<4,>=2.5 in /usr/local/lib/python3.7/dist-packages (from requests>=2.26->yfinance) (2.10)\n",
            "Requirement already satisfied: urllib3<1.27,>=1.21.1 in /usr/local/lib/python3.7/dist-packages (from requests>=2.26->yfinance) (1.24.3)\n",
            "Installing collected packages: requests, yfinance\n",
            "  Attempting uninstall: requests\n",
            "    Found existing installation: requests 2.23.0\n",
            "    Uninstalling requests-2.23.0:\n",
            "      Successfully uninstalled requests-2.23.0\n",
            "Successfully installed requests-2.28.1 yfinance-0.1.74\n"
          ]
        }
      ]
    },
    {
      "cell_type": "code",
      "execution_count": 2,
      "id": "4d8d2c41",
      "metadata": {
        "id": "4d8d2c41"
      },
      "outputs": [],
      "source": [
        "import yfinance as yf\n",
        "import pandas as pd\n",
        "import numpy as np\n",
        "from prophet import Prophet"
      ]
    },
    {
      "cell_type": "code",
      "execution_count": 3,
      "id": "0790b4ad",
      "metadata": {
        "id": "0790b4ad"
      },
      "outputs": [],
      "source": [
        "# finaldf = pd.read_csv('predictions.csv')"
      ]
    },
    {
      "cell_type": "code",
      "execution_count": 4,
      "id": "4ba55bb8",
      "metadata": {
        "colab": {
          "base_uri": "https://localhost:8080/"
        },
        "id": "4ba55bb8",
        "outputId": "1e2b1533-5b25-42b4-dcb4-b665d2beee64"
      },
      "outputs": [
        {
          "output_type": "stream",
          "name": "stdout",
          "text": [
            "\r[*********************100%***********************]  1 of 1 completed\n"
          ]
        }
      ],
      "source": [
        "ticker = '^NSEI'\n",
        "# ^NSEI, ^NSEBANK\n",
        "df = yf.download(ticker, start = '2020-04-01')\n",
        "# ,start='2020-01-01'"
      ]
    },
    {
      "cell_type": "code",
      "execution_count": 5,
      "id": "97d11a52",
      "metadata": {
        "id": "97d11a52"
      },
      "outputs": [],
      "source": [
        "df.reset_index(inplace = True)"
      ]
    },
    {
      "cell_type": "code",
      "execution_count": 6,
      "id": "1bcb566c",
      "metadata": {
        "colab": {
          "base_uri": "https://localhost:8080/",
          "height": 206
        },
        "id": "1bcb566c",
        "outputId": "1f9fe934-50a0-4ad1-96f6-b8d3df5fd6b1"
      },
      "outputs": [
        {
          "output_type": "execute_result",
          "data": {
            "text/plain": [
              "        Date         Open         High          Low        Close    Adj Close  \\\n",
              "0 2020-04-01  8584.099609  8588.099609  8198.349609  8253.799805  8253.799805   \n",
              "1 2020-04-03  8356.549805  8356.549805  8055.799805  8083.799805  8083.799805   \n",
              "2 2020-04-07  8446.299805  8819.400391  8360.950195  8792.200195  8792.200195   \n",
              "3 2020-04-08  8688.900391  9131.700195  8653.900391  8748.750000  8748.750000   \n",
              "4 2020-04-09  8973.049805  9128.349609  8904.549805  9111.900391  9111.900391   \n",
              "\n",
              "   Volume  \n",
              "0  506300  \n",
              "1  697000  \n",
              "2  814200  \n",
              "3  896500  \n",
              "4  742100  "
            ],
            "text/html": [
              "\n",
              "  <div id=\"df-b98ba763-1713-4577-8ed6-85bc6cef793a\">\n",
              "    <div class=\"colab-df-container\">\n",
              "      <div>\n",
              "<style scoped>\n",
              "    .dataframe tbody tr th:only-of-type {\n",
              "        vertical-align: middle;\n",
              "    }\n",
              "\n",
              "    .dataframe tbody tr th {\n",
              "        vertical-align: top;\n",
              "    }\n",
              "\n",
              "    .dataframe thead th {\n",
              "        text-align: right;\n",
              "    }\n",
              "</style>\n",
              "<table border=\"1\" class=\"dataframe\">\n",
              "  <thead>\n",
              "    <tr style=\"text-align: right;\">\n",
              "      <th></th>\n",
              "      <th>Date</th>\n",
              "      <th>Open</th>\n",
              "      <th>High</th>\n",
              "      <th>Low</th>\n",
              "      <th>Close</th>\n",
              "      <th>Adj Close</th>\n",
              "      <th>Volume</th>\n",
              "    </tr>\n",
              "  </thead>\n",
              "  <tbody>\n",
              "    <tr>\n",
              "      <th>0</th>\n",
              "      <td>2020-04-01</td>\n",
              "      <td>8584.099609</td>\n",
              "      <td>8588.099609</td>\n",
              "      <td>8198.349609</td>\n",
              "      <td>8253.799805</td>\n",
              "      <td>8253.799805</td>\n",
              "      <td>506300</td>\n",
              "    </tr>\n",
              "    <tr>\n",
              "      <th>1</th>\n",
              "      <td>2020-04-03</td>\n",
              "      <td>8356.549805</td>\n",
              "      <td>8356.549805</td>\n",
              "      <td>8055.799805</td>\n",
              "      <td>8083.799805</td>\n",
              "      <td>8083.799805</td>\n",
              "      <td>697000</td>\n",
              "    </tr>\n",
              "    <tr>\n",
              "      <th>2</th>\n",
              "      <td>2020-04-07</td>\n",
              "      <td>8446.299805</td>\n",
              "      <td>8819.400391</td>\n",
              "      <td>8360.950195</td>\n",
              "      <td>8792.200195</td>\n",
              "      <td>8792.200195</td>\n",
              "      <td>814200</td>\n",
              "    </tr>\n",
              "    <tr>\n",
              "      <th>3</th>\n",
              "      <td>2020-04-08</td>\n",
              "      <td>8688.900391</td>\n",
              "      <td>9131.700195</td>\n",
              "      <td>8653.900391</td>\n",
              "      <td>8748.750000</td>\n",
              "      <td>8748.750000</td>\n",
              "      <td>896500</td>\n",
              "    </tr>\n",
              "    <tr>\n",
              "      <th>4</th>\n",
              "      <td>2020-04-09</td>\n",
              "      <td>8973.049805</td>\n",
              "      <td>9128.349609</td>\n",
              "      <td>8904.549805</td>\n",
              "      <td>9111.900391</td>\n",
              "      <td>9111.900391</td>\n",
              "      <td>742100</td>\n",
              "    </tr>\n",
              "  </tbody>\n",
              "</table>\n",
              "</div>\n",
              "      <button class=\"colab-df-convert\" onclick=\"convertToInteractive('df-b98ba763-1713-4577-8ed6-85bc6cef793a')\"\n",
              "              title=\"Convert this dataframe to an interactive table.\"\n",
              "              style=\"display:none;\">\n",
              "        \n",
              "  <svg xmlns=\"http://www.w3.org/2000/svg\" height=\"24px\"viewBox=\"0 0 24 24\"\n",
              "       width=\"24px\">\n",
              "    <path d=\"M0 0h24v24H0V0z\" fill=\"none\"/>\n",
              "    <path d=\"M18.56 5.44l.94 2.06.94-2.06 2.06-.94-2.06-.94-.94-2.06-.94 2.06-2.06.94zm-11 1L8.5 8.5l.94-2.06 2.06-.94-2.06-.94L8.5 2.5l-.94 2.06-2.06.94zm10 10l.94 2.06.94-2.06 2.06-.94-2.06-.94-.94-2.06-.94 2.06-2.06.94z\"/><path d=\"M17.41 7.96l-1.37-1.37c-.4-.4-.92-.59-1.43-.59-.52 0-1.04.2-1.43.59L10.3 9.45l-7.72 7.72c-.78.78-.78 2.05 0 2.83L4 21.41c.39.39.9.59 1.41.59.51 0 1.02-.2 1.41-.59l7.78-7.78 2.81-2.81c.8-.78.8-2.07 0-2.86zM5.41 20L4 18.59l7.72-7.72 1.47 1.35L5.41 20z\"/>\n",
              "  </svg>\n",
              "      </button>\n",
              "      \n",
              "  <style>\n",
              "    .colab-df-container {\n",
              "      display:flex;\n",
              "      flex-wrap:wrap;\n",
              "      gap: 12px;\n",
              "    }\n",
              "\n",
              "    .colab-df-convert {\n",
              "      background-color: #E8F0FE;\n",
              "      border: none;\n",
              "      border-radius: 50%;\n",
              "      cursor: pointer;\n",
              "      display: none;\n",
              "      fill: #1967D2;\n",
              "      height: 32px;\n",
              "      padding: 0 0 0 0;\n",
              "      width: 32px;\n",
              "    }\n",
              "\n",
              "    .colab-df-convert:hover {\n",
              "      background-color: #E2EBFA;\n",
              "      box-shadow: 0px 1px 2px rgba(60, 64, 67, 0.3), 0px 1px 3px 1px rgba(60, 64, 67, 0.15);\n",
              "      fill: #174EA6;\n",
              "    }\n",
              "\n",
              "    [theme=dark] .colab-df-convert {\n",
              "      background-color: #3B4455;\n",
              "      fill: #D2E3FC;\n",
              "    }\n",
              "\n",
              "    [theme=dark] .colab-df-convert:hover {\n",
              "      background-color: #434B5C;\n",
              "      box-shadow: 0px 1px 3px 1px rgba(0, 0, 0, 0.15);\n",
              "      filter: drop-shadow(0px 1px 2px rgba(0, 0, 0, 0.3));\n",
              "      fill: #FFFFFF;\n",
              "    }\n",
              "  </style>\n",
              "\n",
              "      <script>\n",
              "        const buttonEl =\n",
              "          document.querySelector('#df-b98ba763-1713-4577-8ed6-85bc6cef793a button.colab-df-convert');\n",
              "        buttonEl.style.display =\n",
              "          google.colab.kernel.accessAllowed ? 'block' : 'none';\n",
              "\n",
              "        async function convertToInteractive(key) {\n",
              "          const element = document.querySelector('#df-b98ba763-1713-4577-8ed6-85bc6cef793a');\n",
              "          const dataTable =\n",
              "            await google.colab.kernel.invokeFunction('convertToInteractive',\n",
              "                                                     [key], {});\n",
              "          if (!dataTable) return;\n",
              "\n",
              "          const docLinkHtml = 'Like what you see? Visit the ' +\n",
              "            '<a target=\"_blank\" href=https://colab.research.google.com/notebooks/data_table.ipynb>data table notebook</a>'\n",
              "            + ' to learn more about interactive tables.';\n",
              "          element.innerHTML = '';\n",
              "          dataTable['output_type'] = 'display_data';\n",
              "          await google.colab.output.renderOutput(dataTable, element);\n",
              "          const docLink = document.createElement('div');\n",
              "          docLink.innerHTML = docLinkHtml;\n",
              "          element.appendChild(docLink);\n",
              "        }\n",
              "      </script>\n",
              "    </div>\n",
              "  </div>\n",
              "  "
            ]
          },
          "metadata": {},
          "execution_count": 6
        }
      ],
      "source": [
        "df.head()"
      ]
    },
    {
      "cell_type": "code",
      "execution_count": 7,
      "id": "7f1e59b9",
      "metadata": {
        "id": "7f1e59b9"
      },
      "outputs": [],
      "source": [
        "df.sort_values('Date', inplace = True)"
      ]
    },
    {
      "cell_type": "code",
      "execution_count": 8,
      "id": "a115c171",
      "metadata": {
        "colab": {
          "base_uri": "https://localhost:8080/",
          "height": 206
        },
        "id": "a115c171",
        "outputId": "36d5acc0-50e5-43fc-bdc5-bfea3ba33cca"
      },
      "outputs": [
        {
          "output_type": "execute_result",
          "data": {
            "text/plain": [
              "          Date          Open          High           Low         Close  \\\n",
              "581 2022-08-03  17349.250000  17407.500000  17225.849609  17388.150391   \n",
              "582 2022-08-04  17463.099609  17490.699219  17161.250000  17382.000000   \n",
              "583 2022-08-05  17423.650391  17474.400391  17348.750000  17397.500000   \n",
              "584 2022-08-08  17401.500000  17548.800781  17359.750000  17525.099609   \n",
              "585 2022-08-10  17566.099609  17566.099609  17442.800781  17534.750000   \n",
              "\n",
              "        Adj Close  Volume  \n",
              "581  17388.150391  285400  \n",
              "582  17382.000000  325000  \n",
              "583  17397.500000  355300  \n",
              "584  17525.099609  257000  \n",
              "585  17534.750000  312700  "
            ],
            "text/html": [
              "\n",
              "  <div id=\"df-b2c3343e-c57e-4ab4-ba30-9d4357215088\">\n",
              "    <div class=\"colab-df-container\">\n",
              "      <div>\n",
              "<style scoped>\n",
              "    .dataframe tbody tr th:only-of-type {\n",
              "        vertical-align: middle;\n",
              "    }\n",
              "\n",
              "    .dataframe tbody tr th {\n",
              "        vertical-align: top;\n",
              "    }\n",
              "\n",
              "    .dataframe thead th {\n",
              "        text-align: right;\n",
              "    }\n",
              "</style>\n",
              "<table border=\"1\" class=\"dataframe\">\n",
              "  <thead>\n",
              "    <tr style=\"text-align: right;\">\n",
              "      <th></th>\n",
              "      <th>Date</th>\n",
              "      <th>Open</th>\n",
              "      <th>High</th>\n",
              "      <th>Low</th>\n",
              "      <th>Close</th>\n",
              "      <th>Adj Close</th>\n",
              "      <th>Volume</th>\n",
              "    </tr>\n",
              "  </thead>\n",
              "  <tbody>\n",
              "    <tr>\n",
              "      <th>581</th>\n",
              "      <td>2022-08-03</td>\n",
              "      <td>17349.250000</td>\n",
              "      <td>17407.500000</td>\n",
              "      <td>17225.849609</td>\n",
              "      <td>17388.150391</td>\n",
              "      <td>17388.150391</td>\n",
              "      <td>285400</td>\n",
              "    </tr>\n",
              "    <tr>\n",
              "      <th>582</th>\n",
              "      <td>2022-08-04</td>\n",
              "      <td>17463.099609</td>\n",
              "      <td>17490.699219</td>\n",
              "      <td>17161.250000</td>\n",
              "      <td>17382.000000</td>\n",
              "      <td>17382.000000</td>\n",
              "      <td>325000</td>\n",
              "    </tr>\n",
              "    <tr>\n",
              "      <th>583</th>\n",
              "      <td>2022-08-05</td>\n",
              "      <td>17423.650391</td>\n",
              "      <td>17474.400391</td>\n",
              "      <td>17348.750000</td>\n",
              "      <td>17397.500000</td>\n",
              "      <td>17397.500000</td>\n",
              "      <td>355300</td>\n",
              "    </tr>\n",
              "    <tr>\n",
              "      <th>584</th>\n",
              "      <td>2022-08-08</td>\n",
              "      <td>17401.500000</td>\n",
              "      <td>17548.800781</td>\n",
              "      <td>17359.750000</td>\n",
              "      <td>17525.099609</td>\n",
              "      <td>17525.099609</td>\n",
              "      <td>257000</td>\n",
              "    </tr>\n",
              "    <tr>\n",
              "      <th>585</th>\n",
              "      <td>2022-08-10</td>\n",
              "      <td>17566.099609</td>\n",
              "      <td>17566.099609</td>\n",
              "      <td>17442.800781</td>\n",
              "      <td>17534.750000</td>\n",
              "      <td>17534.750000</td>\n",
              "      <td>312700</td>\n",
              "    </tr>\n",
              "  </tbody>\n",
              "</table>\n",
              "</div>\n",
              "      <button class=\"colab-df-convert\" onclick=\"convertToInteractive('df-b2c3343e-c57e-4ab4-ba30-9d4357215088')\"\n",
              "              title=\"Convert this dataframe to an interactive table.\"\n",
              "              style=\"display:none;\">\n",
              "        \n",
              "  <svg xmlns=\"http://www.w3.org/2000/svg\" height=\"24px\"viewBox=\"0 0 24 24\"\n",
              "       width=\"24px\">\n",
              "    <path d=\"M0 0h24v24H0V0z\" fill=\"none\"/>\n",
              "    <path d=\"M18.56 5.44l.94 2.06.94-2.06 2.06-.94-2.06-.94-.94-2.06-.94 2.06-2.06.94zm-11 1L8.5 8.5l.94-2.06 2.06-.94-2.06-.94L8.5 2.5l-.94 2.06-2.06.94zm10 10l.94 2.06.94-2.06 2.06-.94-2.06-.94-.94-2.06-.94 2.06-2.06.94z\"/><path d=\"M17.41 7.96l-1.37-1.37c-.4-.4-.92-.59-1.43-.59-.52 0-1.04.2-1.43.59L10.3 9.45l-7.72 7.72c-.78.78-.78 2.05 0 2.83L4 21.41c.39.39.9.59 1.41.59.51 0 1.02-.2 1.41-.59l7.78-7.78 2.81-2.81c.8-.78.8-2.07 0-2.86zM5.41 20L4 18.59l7.72-7.72 1.47 1.35L5.41 20z\"/>\n",
              "  </svg>\n",
              "      </button>\n",
              "      \n",
              "  <style>\n",
              "    .colab-df-container {\n",
              "      display:flex;\n",
              "      flex-wrap:wrap;\n",
              "      gap: 12px;\n",
              "    }\n",
              "\n",
              "    .colab-df-convert {\n",
              "      background-color: #E8F0FE;\n",
              "      border: none;\n",
              "      border-radius: 50%;\n",
              "      cursor: pointer;\n",
              "      display: none;\n",
              "      fill: #1967D2;\n",
              "      height: 32px;\n",
              "      padding: 0 0 0 0;\n",
              "      width: 32px;\n",
              "    }\n",
              "\n",
              "    .colab-df-convert:hover {\n",
              "      background-color: #E2EBFA;\n",
              "      box-shadow: 0px 1px 2px rgba(60, 64, 67, 0.3), 0px 1px 3px 1px rgba(60, 64, 67, 0.15);\n",
              "      fill: #174EA6;\n",
              "    }\n",
              "\n",
              "    [theme=dark] .colab-df-convert {\n",
              "      background-color: #3B4455;\n",
              "      fill: #D2E3FC;\n",
              "    }\n",
              "\n",
              "    [theme=dark] .colab-df-convert:hover {\n",
              "      background-color: #434B5C;\n",
              "      box-shadow: 0px 1px 3px 1px rgba(0, 0, 0, 0.15);\n",
              "      filter: drop-shadow(0px 1px 2px rgba(0, 0, 0, 0.3));\n",
              "      fill: #FFFFFF;\n",
              "    }\n",
              "  </style>\n",
              "\n",
              "      <script>\n",
              "        const buttonEl =\n",
              "          document.querySelector('#df-b2c3343e-c57e-4ab4-ba30-9d4357215088 button.colab-df-convert');\n",
              "        buttonEl.style.display =\n",
              "          google.colab.kernel.accessAllowed ? 'block' : 'none';\n",
              "\n",
              "        async function convertToInteractive(key) {\n",
              "          const element = document.querySelector('#df-b2c3343e-c57e-4ab4-ba30-9d4357215088');\n",
              "          const dataTable =\n",
              "            await google.colab.kernel.invokeFunction('convertToInteractive',\n",
              "                                                     [key], {});\n",
              "          if (!dataTable) return;\n",
              "\n",
              "          const docLinkHtml = 'Like what you see? Visit the ' +\n",
              "            '<a target=\"_blank\" href=https://colab.research.google.com/notebooks/data_table.ipynb>data table notebook</a>'\n",
              "            + ' to learn more about interactive tables.';\n",
              "          element.innerHTML = '';\n",
              "          dataTable['output_type'] = 'display_data';\n",
              "          await google.colab.output.renderOutput(dataTable, element);\n",
              "          const docLink = document.createElement('div');\n",
              "          docLink.innerHTML = docLinkHtml;\n",
              "          element.appendChild(docLink);\n",
              "        }\n",
              "      </script>\n",
              "    </div>\n",
              "  </div>\n",
              "  "
            ]
          },
          "metadata": {},
          "execution_count": 8
        }
      ],
      "source": [
        "df.tail()"
      ]
    },
    {
      "cell_type": "code",
      "execution_count": 9,
      "id": "8f99e334",
      "metadata": {
        "id": "8f99e334"
      },
      "outputs": [],
      "source": [
        "# Metric MAE\n",
        "from sklearn.metrics import mean_absolute_error\n",
        "\n",
        "# Imports for creating plots\n",
        "import matplotlib.pyplot as plt\n",
        "from pylab import rcParams\n",
        "rcParams['figure.figsize'] = 18, 7\n",
        "# %matplotlib notebook"
      ]
    },
    {
      "cell_type": "code",
      "execution_count": 10,
      "id": "5763891e",
      "metadata": {
        "id": "5763891e"
      },
      "outputs": [],
      "source": [
        "split = int(round(len(df)*0.8,0))\n",
        "train_data = df.iloc[:split]\n",
        "test_data = df.iloc[split:]"
      ]
    },
    {
      "cell_type": "code",
      "execution_count": 11,
      "id": "602bec32",
      "metadata": {
        "colab": {
          "base_uri": "https://localhost:8080/"
        },
        "id": "602bec32",
        "outputId": "dc5e7290-c34b-4cbc-f411-84b23c9c0d23"
      },
      "outputs": [
        {
          "output_type": "execute_result",
          "data": {
            "text/plain": [
              "469"
            ]
          },
          "metadata": {},
          "execution_count": 11
        }
      ],
      "source": [
        "split"
      ]
    },
    {
      "cell_type": "markdown",
      "id": "3c76f6c1",
      "metadata": {
        "id": "3c76f6c1"
      },
      "source": [
        "## Forecasting using Auto TS"
      ]
    },
    {
      "cell_type": "code",
      "execution_count": 12,
      "id": "19595bc1",
      "metadata": {
        "colab": {
          "base_uri": "https://localhost:8080/",
          "height": 503
        },
        "id": "19595bc1",
        "outputId": "2c043abc-c844-4171-c137-75a21ca3a2da"
      },
      "outputs": [
        {
          "output_type": "display_data",
          "data": {
            "text/plain": [
              "<Figure size 1080x576 with 1 Axes>"
            ],
            "image/png": "[encoded data removed]"
          },
          "metadata": {
            "needs_background": "light"
          }
        }
      ],
      "source": [
        "train_data.Close.plot(figsize=(15,8), title= ticker, fontsize=14, label='Train')\n",
        "test_data.Close.plot(figsize=(15,8), title= ticker, fontsize=14, label='Test')\n",
        "plt.legend()\n",
        "plt.grid()\n",
        "plt.show()"
      ]
    },
    {
      "cell_type": "code",
      "source": [
        "!pip install autots"
      ],
      "metadata": {
        "id": "jF5AeKwFoLd7",
        "colab": {
          "base_uri": "https://localhost:8080/"
        },
        "outputId": "669f9e61-5563-4b20-dee7-0eeceaa2c817"
      },
      "id": "jF5AeKwFoLd7",
      "execution_count": 13,
      "outputs": [
        {
          "output_type": "stream",
          "name": "stdout",
          "text": [
            "Looking in indexes: https://pypi.org/simple, https://us-python.pkg.dev/colab-wheels/public/simple/\n",
            "Collecting autots\n",
            "  Downloading AutoTS-0.4.2-py3-none-any.whl (486 kB)\n",
            "\u001b[K     |████████████████████████████████| 486 kB 7.6 MB/s \n",
            "\u001b[?25hRequirement already satisfied: statsmodels>=0.10.* in /usr/local/lib/python3.7/dist-packages (from autots) (0.10.2)\n",
            "Requirement already satisfied: numpy>=1.14.6 in /usr/local/lib/python3.7/dist-packages (from autots) (1.21.6)\n",
            "Requirement already satisfied: pandas>=0.25.* in /usr/local/lib/python3.7/dist-packages (from autots) (1.3.5)\n",
            "Requirement already satisfied: scikit-learn>=0.20.* in /usr/local/lib/python3.7/dist-packages (from autots) (1.0.2)\n",
            "Requirement already satisfied: pytz>=2017.3 in /usr/local/lib/python3.7/dist-packages (from pandas>=0.25.*->autots) (2022.1)\n",
            "Requirement already satisfied: python-dateutil>=2.7.3 in /usr/local/lib/python3.7/dist-packages (from pandas>=0.25.*->autots) (2.8.2)\n",
            "Requirement already satisfied: six>=1.5 in /usr/local/lib/python3.7/dist-packages (from python-dateutil>=2.7.3->pandas>=0.25.*->autots) (1.15.0)\n",
            "Requirement already satisfied: scipy>=1.1.0 in /usr/local/lib/python3.7/dist-packages (from scikit-learn>=0.20.*->autots) (1.7.3)\n",
            "Requirement already satisfied: threadpoolctl>=2.0.0 in /usr/local/lib/python3.7/dist-packages (from scikit-learn>=0.20.*->autots) (3.1.0)\n",
            "Requirement already satisfied: joblib>=0.11 in /usr/local/lib/python3.7/dist-packages (from scikit-learn>=0.20.*->autots) (1.1.0)\n",
            "Requirement already satisfied: patsy>=0.4.0 in /usr/local/lib/python3.7/dist-packages (from statsmodels>=0.10.*->autots) (0.5.2)\n",
            "Installing collected packages: autots\n",
            "Successfully installed autots-0.4.2\n"
          ]
        }
      ]
    },
    {
      "cell_type": "code",
      "execution_count": 14,
      "id": "36cd3a87",
      "metadata": {
        "id": "36cd3a87",
        "outputId": "6f24e67d-83fa-4870-b482-0068c8e18b16",
        "colab": {
          "base_uri": "https://localhost:8080/"
        }
      },
      "outputs": [
        {
          "output_type": "stream",
          "name": "stderr",
          "text": [
            "/usr/local/lib/python3.7/dist-packages/statsmodels/tools/_testing.py:19: FutureWarning: pandas.util.testing is deprecated. Use the functions in the public API at pandas.testing instead.\n",
            "  import pandas.util.testing as tm\n"
          ]
        }
      ],
      "source": [
        "from autots import AutoTS"
      ]
    },
    {
      "cell_type": "code",
      "execution_count": 15,
      "id": "f120cec5",
      "metadata": {
        "id": "f120cec5"
      },
      "outputs": [],
      "source": [
        "model = AutoTS(forecast_length=2, frequency='infer',  ensemble='simple', drop_data_older_than_periods=200 )"
      ]
    },
    {
      "cell_type": "code",
      "execution_count": null,
      "id": "60a4acaf",
      "metadata": {
        "colab": {
          "base_uri": "https://localhost:8080/"
        },
        "id": "60a4acaf",
        "outputId": "2c7225fc-a34f-43d5-a914-43df6dc6b9ed"
      },
      "outputs": [
        {
          "output_type": "stream",
          "name": "stdout",
          "text": [
            "Inferred frequency is: None\n",
            "Frequency is 'None'! Input frequency not recognized.\n",
            "Old data dropped by `drop_data_older_than_periods`.\n",
            "Model Number: 1 with model AverageValueNaive in generation 0 of 10\n",
            "Model Number: 2 with model AverageValueNaive in generation 0 of 10\n",
            "Model Number: 3 with model AverageValueNaive in generation 0 of 10\n",
            "Model Number: 4 with model DatepartRegression in generation 0 of 10\n",
            "Model Number: 5 with model DatepartRegression in generation 0 of 10\n",
            "Model Number: 6 with model DatepartRegression in generation 0 of 10\n"
          ]
        },
        {
          "output_type": "stream",
          "name": "stderr",
          "text": [
            "/usr/local/lib/python3.7/dist-packages/sklearn/svm/_base.py:1208: ConvergenceWarning: Liblinear failed to converge, increase the number of iterations.\n",
            "  ConvergenceWarning,\n",
            "/usr/local/lib/python3.7/dist-packages/sklearn/neural_network/_multilayer_perceptron.py:549: ConvergenceWarning: lbfgs failed to converge (status=1):\n",
            "STOP: TOTAL NO. of ITERATIONS REACHED LIMIT.\n",
            "\n",
            "Increase the number of iterations (max_iter) or scale the data as shown in:\n",
            "    https://scikit-learn.org/stable/modules/preprocessing.html\n",
            "  self.n_iter_ = _check_optimize_result(\"lbfgs\", opt_res, self.max_iter)\n"
          ]
        },
        {
          "output_type": "stream",
          "name": "stdout",
          "text": [
            "Model Number: 7 with model DatepartRegression in generation 0 of 10\n",
            "Epoch 1/50\n",
            "7/7 [==============================] - 11s 6ms/step - loss: 0.3835\n",
            "Epoch 2/50\n",
            "7/7 [==============================] - 0s 5ms/step - loss: 0.3790\n",
            "Epoch 3/50\n",
            "7/7 [==============================] - 0s 10ms/step - loss: 0.3765\n",
            "Epoch 4/50\n",
            "7/7 [==============================] - 0s 13ms/step - loss: 0.3683\n",
            "Epoch 5/50\n",
            "7/7 [==============================] - 0s 12ms/step - loss: 0.3586\n",
            "Epoch 6/50\n",
            "7/7 [==============================] - 0s 5ms/step - loss: 0.3529\n",
            "Epoch 7/50\n",
            "7/7 [==============================] - 0s 5ms/step - loss: 0.3481\n",
            "Epoch 8/50\n",
            "7/7 [==============================] - 0s 5ms/step - loss: 0.3381\n",
            "Epoch 9/50\n",
            "7/7 [==============================] - 0s 5ms/step - loss: 0.3345\n",
            "Epoch 10/50\n",
            "7/7 [==============================] - 0s 7ms/step - loss: 0.3215\n",
            "Epoch 11/50\n",
            "7/7 [==============================] - 0s 14ms/step - loss: 0.3250\n",
            "Epoch 12/50\n",
            "7/7 [==============================] - 0s 12ms/step - loss: 0.3211\n",
            "Epoch 13/50\n",
            "7/7 [==============================] - 0s 6ms/step - loss: 0.3192\n",
            "Epoch 14/50\n",
            "7/7 [==============================] - 0s 5ms/step - loss: 0.3060\n",
            "Epoch 15/50\n",
            "7/7 [==============================] - 0s 5ms/step - loss: 0.3114\n",
            "Epoch 16/50\n",
            "7/7 [==============================] - 0s 5ms/step - loss: 0.3062\n",
            "Epoch 17/50\n",
            "7/7 [==============================] - 0s 7ms/step - loss: 0.3048\n",
            "Epoch 18/50\n",
            "7/7 [==============================] - 0s 11ms/step - loss: 0.3046\n",
            "Epoch 19/50\n",
            "7/7 [==============================] - 0s 9ms/step - loss: 0.2950\n",
            "Epoch 20/50\n",
            "7/7 [==============================] - 0s 10ms/step - loss: 0.2999\n",
            "Epoch 21/50\n",
            "7/7 [==============================] - 0s 12ms/step - loss: 0.2924\n",
            "Epoch 22/50\n",
            "7/7 [==============================] - 0s 5ms/step - loss: 0.2873\n",
            "Epoch 23/50\n",
            "7/7 [==============================] - 0s 5ms/step - loss: 0.2935\n",
            "Epoch 24/50\n",
            "7/7 [==============================] - 0s 5ms/step - loss: 0.2859\n",
            "Epoch 25/50\n",
            "7/7 [==============================] - 0s 5ms/step - loss: 0.2867\n",
            "Epoch 26/50\n",
            "7/7 [==============================] - 0s 7ms/step - loss: 0.2823\n",
            "Epoch 27/50\n",
            "7/7 [==============================] - 0s 7ms/step - loss: 0.2800\n",
            "Epoch 28/50\n",
            "7/7 [==============================] - 0s 8ms/step - loss: 0.2852\n",
            "Epoch 29/50\n",
            "7/7 [==============================] - 0s 11ms/step - loss: 0.2823\n",
            "Epoch 30/50\n",
            "7/7 [==============================] - 0s 6ms/step - loss: 0.2778\n",
            "Epoch 31/50\n",
            "7/7 [==============================] - 0s 11ms/step - loss: 0.2679\n",
            "Epoch 32/50\n",
            "7/7 [==============================] - 0s 10ms/step - loss: 0.2781\n",
            "Epoch 33/50\n",
            "7/7 [==============================] - 0s 5ms/step - loss: 0.2762\n",
            "Epoch 34/50\n",
            "7/7 [==============================] - 0s 5ms/step - loss: 0.2737\n",
            "Epoch 35/50\n",
            "7/7 [==============================] - 0s 6ms/step - loss: 0.2653\n",
            "Epoch 36/50\n",
            "7/7 [==============================] - 0s 14ms/step - loss: 0.2654\n",
            "Epoch 37/50\n",
            "7/7 [==============================] - 0s 11ms/step - loss: 0.2736\n",
            "Epoch 38/50\n",
            "7/7 [==============================] - 0s 11ms/step - loss: 0.2690\n",
            "Epoch 39/50\n",
            "7/7 [==============================] - 0s 13ms/step - loss: 0.2582\n",
            "Epoch 40/50\n",
            "7/7 [==============================] - 0s 15ms/step - loss: 0.2742\n",
            "Epoch 41/50\n",
            "7/7 [==============================] - 0s 16ms/step - loss: 0.2616\n",
            "Epoch 42/50\n",
            "7/7 [==============================] - 0s 13ms/step - loss: 0.2673\n",
            "Epoch 43/50\n",
            "7/7 [==============================] - 0s 10ms/step - loss: 0.2572\n",
            "Epoch 44/50\n",
            "7/7 [==============================] - 0s 12ms/step - loss: 0.2529\n",
            "Epoch 45/50\n",
            "7/7 [==============================] - 0s 20ms/step - loss: 0.2575\n",
            "Epoch 46/50\n",
            "7/7 [==============================] - 0s 21ms/step - loss: 0.2564\n",
            "Epoch 47/50\n",
            "7/7 [==============================] - 0s 9ms/step - loss: 0.2531\n",
            "Epoch 48/50\n",
            "7/7 [==============================] - 0s 8ms/step - loss: 0.2482\n",
            "Epoch 49/50\n",
            "7/7 [==============================] - 0s 9ms/step - loss: 0.2429\n",
            "Epoch 50/50\n",
            "7/7 [==============================] - 0s 9ms/step - loss: 0.2481\n",
            "Model Number: 8 with model ETS in generation 0 of 10\n",
            "ETS error TypeError(\"__init__() got an unexpected keyword argument 'damped_trend'\")\n",
            "Model Number: 9 with model ETS in generation 0 of 10\n",
            "ETS error TypeError(\"__init__() got an unexpected keyword argument 'damped_trend'\")\n",
            "Model Number: 10 with model GLM in generation 0 of 10\n",
            "Template Eval Error: TypeError(\"ufunc 'isfinite' not supported for the input types, and the inputs could not be safely coerced to any supported types according to the casting rule ''safe''\") in model 10: GLM\n",
            "Model Number: 11 with model GLM in generation 0 of 10\n",
            "Model Number: 12 with model GLS in generation 0 of 10\n",
            "Model Number: 13 with model GLS in generation 0 of 10\n",
            "Model Number: 14 with model GluonTS in generation 0 of 10\n",
            "Template Eval Error: ImportError('GluonTS installation not found or installed version is incompatible with AutoTS.') in model 14: GluonTS\n",
            "Model Number: 15 with model GluonTS in generation 0 of 10\n",
            "Template Eval Error: ImportError('GluonTS installation not found or installed version is incompatible with AutoTS.') in model 15: GluonTS\n",
            "Model Number: 16 with model GluonTS in generation 0 of 10\n",
            "Template Eval Error: ImportError('GluonTS installation not found or installed version is incompatible with AutoTS.') in model 16: GluonTS\n",
            "Model Number: 17 with model GluonTS in generation 0 of 10\n",
            "Template Eval Error: ImportError('GluonTS installation not found or installed version is incompatible with AutoTS.') in model 17: GluonTS\n",
            "Model Number: 18 with model GluonTS in generation 0 of 10\n",
            "Template Eval Error: ImportError('GluonTS installation not found or installed version is incompatible with AutoTS.') in model 18: GluonTS\n",
            "Model Number: 19 with model LastValueNaive in generation 0 of 10\n",
            "Model Number: 20 with model LastValueNaive in generation 0 of 10\n",
            "Model Number: 21 with model LastValueNaive in generation 0 of 10\n",
            "Model Number: 22 with model LastValueNaive in generation 0 of 10\n",
            "Model Number: 23 with model SeasonalNaive in generation 0 of 10\n",
            "Model Number: 24 with model SeasonalNaive in generation 0 of 10\n",
            "Model Number: 25 with model SeasonalNaive in generation 0 of 10\n",
            "Model Number: 26 with model UnobservedComponents in generation 0 of 10\n",
            "Template Eval Error: ValueError('Provided exogenous values are not of the appropriate shape. Required (2, 1), got (2,).') in model 26: UnobservedComponents\n",
            "Model Number: 27 with model UnobservedComponents in generation 0 of 10\n",
            "Model Number: 28 with model UnobservedComponents in generation 0 of 10\n",
            "Model Number: 29 with model VAR in generation 0 of 10\n",
            "Template Eval Error: ValueError('Only gave one variable to VAR') in model 29: VAR\n",
            "Model Number: 30 with model VAR in generation 0 of 10\n",
            "Template Eval Error: ValueError('Only gave one variable to VAR') in model 30: VAR\n",
            "Model Number: 31 with model VECM in generation 0 of 10\n",
            "Template Eval Error: ValueError('Only gave one variable to VECM') in model 31: VECM\n",
            "Model Number: 32 with model VECM in generation 0 of 10\n",
            "Template Eval Error: ValueError('Only gave one variable to VECM') in model 32: VECM\n",
            "Model Number: 33 with model WindowRegression in generation 0 of 10\n"
          ]
        }
      ],
      "source": [
        "mod = model.fit(df, date_col = 'Date', value_col = 'Close', id_col = None)"
      ]
    },
    {
      "cell_type": "markdown",
      "id": "9c7bde3b",
      "metadata": {
        "id": "9c7bde3b"
      },
      "source": [
        "## Best Model"
      ]
    },
    {
      "cell_type": "code",
      "execution_count": null,
      "id": "7b0b3852",
      "metadata": {
        "id": "7b0b3852"
      },
      "outputs": [],
      "source": [
        "print(mod)"
      ]
    },
    {
      "cell_type": "markdown",
      "id": "ccf1793b",
      "metadata": {
        "id": "ccf1793b"
      },
      "source": [
        "## Prediction and Forecasting"
      ]
    },
    {
      "cell_type": "code",
      "execution_count": null,
      "id": "544df789",
      "metadata": {
        "id": "544df789"
      },
      "outputs": [],
      "source": [
        "pred = model.predict()\n",
        "forecast = pred.forecast\n",
        "model_results = model.results()\n",
        "validation = model.results('validation')"
      ]
    },
    {
      "cell_type": "markdown",
      "id": "d7710b60",
      "metadata": {
        "id": "d7710b60"
      },
      "source": [
        "Let’s print the forecast of the dataset for the future stock price. Also, we will see the validation of the model results. "
      ]
    },
    {
      "cell_type": "code",
      "execution_count": null,
      "id": "e4cc48a0",
      "metadata": {
        "id": "e4cc48a0"
      },
      "outputs": [],
      "source": [
        "# Forecast\n",
        "print(forecast)"
      ]
    },
    {
      "cell_type": "code",
      "execution_count": null,
      "id": "037d8398",
      "metadata": {
        "id": "037d8398"
      },
      "outputs": [],
      "source": [
        "fcast = forecast.astype(int)"
      ]
    },
    {
      "cell_type": "code",
      "execution_count": null,
      "id": "5ea81c89",
      "metadata": {
        "id": "5ea81c89"
      },
      "outputs": [],
      "source": [
        "print(ticker)\n",
        "print(fcast)"
      ]
    }
  ],
  "metadata": {
    "kernelspec": {
      "display_name": "Python 3",
      "language": "python",
      "name": "python3"
    },
    "language_info": {
      "codemirror_mode": {
        "name": "ipython",
        "version": 3
      },
      "file_extension": ".py",
      "mimetype": "text/x-python",
      "name": "python",
      "nbconvert_exporter": "python",
      "pygments_lexer": "ipython3",
      "version": "3.8.8"
    },
    "colab": {
      "name": "AutoTS_Prediction.ipynb",
      "provenance": [],
      "collapsed_sections": [],
      "include_colab_link": true
    }
  },
  "nbformat": 4,
  "nbformat_minor": 5
}