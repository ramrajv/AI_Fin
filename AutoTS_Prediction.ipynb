{
  "cells": [
    {
      "cell_type": "markdown",
      "metadata": {
        "id": "view-in-github",
        "colab_type": "text"
      },
      "source": [
        "<a href=\"https://colab.research.google.com/github/ramrajv/AI_Fin/blob/main/AutoTS_Prediction.ipynb\" target=\"_parent\"><img src=\"https://colab.research.google.com/assets/colab-badge.svg\" alt=\"Open In Colab\"/></a>"
      ]
    },
    {
      "cell_type": "code",
      "source": [
        "pip install yfinance"
      ],
      "metadata": {
        "colab": {
          "base_uri": "https://localhost:8080/"
        },
        "id": "aoQjq8U2D8fI",
        "outputId": "319cda28-115b-4c45-ea02-cc099bb5e305"
      },
      "id": "aoQjq8U2D8fI",
      "execution_count": 1,
      "outputs": [
        {
          "output_type": "stream",
          "name": "stdout",
          "text": [
            "Looking in indexes: https://pypi.org/simple, https://us-python.pkg.dev/colab-wheels/public/simple/\n",
            "Collecting yfinance\n",
            "  Downloading yfinance-0.1.87-py2.py3-none-any.whl (29 kB)\n",
            "Collecting requests>=2.26\n",
            "  Downloading requests-2.28.1-py3-none-any.whl (62 kB)\n",
            "\u001b[K     |████████████████████████████████| 62 kB 1.1 MB/s \n",
            "\u001b[?25hRequirement already satisfied: pandas>=0.24.0 in /usr/local/lib/python3.7/dist-packages (from yfinance) (1.3.5)\n",
            "Requirement already satisfied: numpy>=1.15 in /usr/local/lib/python3.7/dist-packages (from yfinance) (1.21.6)\n",
            "Requirement already satisfied: multitasking>=0.0.7 in /usr/local/lib/python3.7/dist-packages (from yfinance) (0.0.11)\n",
            "Requirement already satisfied: lxml>=4.5.1 in /usr/local/lib/python3.7/dist-packages (from yfinance) (4.9.1)\n",
            "Requirement already satisfied: appdirs>=1.4.4 in /usr/local/lib/python3.7/dist-packages (from yfinance) (1.4.4)\n",
            "Requirement already satisfied: python-dateutil>=2.7.3 in /usr/local/lib/python3.7/dist-packages (from pandas>=0.24.0->yfinance) (2.8.2)\n",
            "Requirement already satisfied: pytz>=2017.3 in /usr/local/lib/python3.7/dist-packages (from pandas>=0.24.0->yfinance) (2022.6)\n",
            "Requirement already satisfied: six>=1.5 in /usr/local/lib/python3.7/dist-packages (from python-dateutil>=2.7.3->pandas>=0.24.0->yfinance) (1.15.0)\n",
            "Requirement already satisfied: certifi>=2017.4.17 in /usr/local/lib/python3.7/dist-packages (from requests>=2.26->yfinance) (2022.9.24)\n",
            "Requirement already satisfied: idna<4,>=2.5 in /usr/local/lib/python3.7/dist-packages (from requests>=2.26->yfinance) (2.10)\n",
            "Requirement already satisfied: urllib3<1.27,>=1.21.1 in /usr/local/lib/python3.7/dist-packages (from requests>=2.26->yfinance) (1.24.3)\n",
            "Requirement already satisfied: charset-normalizer<3,>=2 in /usr/local/lib/python3.7/dist-packages (from requests>=2.26->yfinance) (2.1.1)\n",
            "Installing collected packages: requests, yfinance\n",
            "  Attempting uninstall: requests\n",
            "    Found existing installation: requests 2.23.0\n",
            "    Uninstalling requests-2.23.0:\n",
            "      Successfully uninstalled requests-2.23.0\n",
            "Successfully installed requests-2.28.1 yfinance-0.1.87\n"
          ]
        }
      ]
    },
    {
      "cell_type": "code",
      "execution_count": 31,
      "id": "4d8d2c41",
      "metadata": {
        "id": "4d8d2c41"
      },
      "outputs": [],
      "source": [
        "import yfinance as yf\n",
        "import pandas as pd\n",
        "import numpy as np\n",
        "from prophet import Prophet"
      ]
    },
    {
      "cell_type": "code",
      "execution_count": 3,
      "id": "0790b4ad",
      "metadata": {
        "id": "0790b4ad"
      },
      "outputs": [],
      "source": [
        "# finaldf = pd.read_csv('predictions.csv')"
      ]
    },
    {
      "cell_type": "code",
      "execution_count": 51,
      "id": "4ba55bb8",
      "metadata": {
        "colab": {
          "base_uri": "https://localhost:8080/"
        },
        "id": "4ba55bb8",
        "outputId": "c1f60c62-9dd0-40a1-f82b-62754e56d8ea"
      },
      "outputs": [
        {
          "output_type": "stream",
          "name": "stdout",
          "text": [
            "\r[*********************100%***********************]  1 of 1 completed\n"
          ]
        }
      ],
      "source": [
        "ticker = '^NSEBANK'\n",
        "# ^NSEI, ^NSEBANK\n",
        "df = yf.download(ticker, start = '2020-04-01')\n",
        "# ,start='2020-01-01'"
      ]
    },
    {
      "cell_type": "code",
      "execution_count": 52,
      "id": "97d11a52",
      "metadata": {
        "id": "97d11a52"
      },
      "outputs": [],
      "source": [
        "df.reset_index(inplace = True)"
      ]
    },
    {
      "cell_type": "code",
      "execution_count": 53,
      "id": "1bcb566c",
      "metadata": {
        "colab": {
          "base_uri": "https://localhost:8080/",
          "height": 206
        },
        "id": "1bcb566c",
        "outputId": "d913673b-5296-4e8d-c648-71e729de8ab2"
      },
      "outputs": [
        {
          "output_type": "execute_result",
          "data": {
            "text/plain": [
              "        Date          Open          High           Low         Close  \\\n",
              "0 2020-04-01  19122.400391  19154.750000  18042.250000  18208.349609   \n",
              "1 2020-04-03  18325.050781  18326.099609  17143.199219  17249.300781   \n",
              "2 2020-04-07  18454.550781  19190.550781  17953.750000  19062.500000   \n",
              "3 2020-04-08  18799.400391  20324.099609  18482.900391  18946.449219   \n",
              "4 2020-04-09  19553.150391  19988.300781  19166.900391  19913.599609   \n",
              "\n",
              "      Adj Close  Volume  \n",
              "0  18208.349609  274900  \n",
              "1  17249.300781  342500  \n",
              "2  19062.500000  435400  \n",
              "3  18946.449219  508400  \n",
              "4  19913.599609  390000  "
            ],
            "text/html": [
              "\n",
              "  <div id=\"df-12d8d3ea-c655-411b-bade-bff9d029e07a\">\n",
              "    <div class=\"colab-df-container\">\n",
              "      <div>\n",
              "<style scoped>\n",
              "    .dataframe tbody tr th:only-of-type {\n",
              "        vertical-align: middle;\n",
              "    }\n",
              "\n",
              "    .dataframe tbody tr th {\n",
              "        vertical-align: top;\n",
              "    }\n",
              "\n",
              "    .dataframe thead th {\n",
              "        text-align: right;\n",
              "    }\n",
              "</style>\n",
              "<table border=\"1\" class=\"dataframe\">\n",
              "  <thead>\n",
              "    <tr style=\"text-align: right;\">\n",
              "      <th></th>\n",
              "      <th>Date</th>\n",
              "      <th>Open</th>\n",
              "      <th>High</th>\n",
              "      <th>Low</th>\n",
              "      <th>Close</th>\n",
              "      <th>Adj Close</th>\n",
              "      <th>Volume</th>\n",
              "    </tr>\n",
              "  </thead>\n",
              "  <tbody>\n",
              "    <tr>\n",
              "      <th>0</th>\n",
              "      <td>2020-04-01</td>\n",
              "      <td>19122.400391</td>\n",
              "      <td>19154.750000</td>\n",
              "      <td>18042.250000</td>\n",
              "      <td>18208.349609</td>\n",
              "      <td>18208.349609</td>\n",
              "      <td>274900</td>\n",
              "    </tr>\n",
              "    <tr>\n",
              "      <th>1</th>\n",
              "      <td>2020-04-03</td>\n",
              "      <td>18325.050781</td>\n",
              "      <td>18326.099609</td>\n",
              "      <td>17143.199219</td>\n",
              "      <td>17249.300781</td>\n",
              "      <td>17249.300781</td>\n",
              "      <td>342500</td>\n",
              "    </tr>\n",
              "    <tr>\n",
              "      <th>2</th>\n",
              "      <td>2020-04-07</td>\n",
              "      <td>18454.550781</td>\n",
              "      <td>19190.550781</td>\n",
              "      <td>17953.750000</td>\n",
              "      <td>19062.500000</td>\n",
              "      <td>19062.500000</td>\n",
              "      <td>435400</td>\n",
              "    </tr>\n",
              "    <tr>\n",
              "      <th>3</th>\n",
              "      <td>2020-04-08</td>\n",
              "      <td>18799.400391</td>\n",
              "      <td>20324.099609</td>\n",
              "      <td>18482.900391</td>\n",
              "      <td>18946.449219</td>\n",
              "      <td>18946.449219</td>\n",
              "      <td>508400</td>\n",
              "    </tr>\n",
              "    <tr>\n",
              "      <th>4</th>\n",
              "      <td>2020-04-09</td>\n",
              "      <td>19553.150391</td>\n",
              "      <td>19988.300781</td>\n",
              "      <td>19166.900391</td>\n",
              "      <td>19913.599609</td>\n",
              "      <td>19913.599609</td>\n",
              "      <td>390000</td>\n",
              "    </tr>\n",
              "  </tbody>\n",
              "</table>\n",
              "</div>\n",
              "      <button class=\"colab-df-convert\" onclick=\"convertToInteractive('df-12d8d3ea-c655-411b-bade-bff9d029e07a')\"\n",
              "              title=\"Convert this dataframe to an interactive table.\"\n",
              "              style=\"display:none;\">\n",
              "        \n",
              "  <svg xmlns=\"http://www.w3.org/2000/svg\" height=\"24px\"viewBox=\"0 0 24 24\"\n",
              "       width=\"24px\">\n",
              "    <path d=\"M0 0h24v24H0V0z\" fill=\"none\"/>\n",
              "    <path d=\"M18.56 5.44l.94 2.06.94-2.06 2.06-.94-2.06-.94-.94-2.06-.94 2.06-2.06.94zm-11 1L8.5 8.5l.94-2.06 2.06-.94-2.06-.94L8.5 2.5l-.94 2.06-2.06.94zm10 10l.94 2.06.94-2.06 2.06-.94-2.06-.94-.94-2.06-.94 2.06-2.06.94z\"/><path d=\"M17.41 7.96l-1.37-1.37c-.4-.4-.92-.59-1.43-.59-.52 0-1.04.2-1.43.59L10.3 9.45l-7.72 7.72c-.78.78-.78 2.05 0 2.83L4 21.41c.39.39.9.59 1.41.59.51 0 1.02-.2 1.41-.59l7.78-7.78 2.81-2.81c.8-.78.8-2.07 0-2.86zM5.41 20L4 18.59l7.72-7.72 1.47 1.35L5.41 20z\"/>\n",
              "  </svg>\n",
              "      </button>\n",
              "      \n",
              "  <style>\n",
              "    .colab-df-container {\n",
              "      display:flex;\n",
              "      flex-wrap:wrap;\n",
              "      gap: 12px;\n",
              "    }\n",
              "\n",
              "    .colab-df-convert {\n",
              "      background-color: #E8F0FE;\n",
              "      border: none;\n",
              "      border-radius: 50%;\n",
              "      cursor: pointer;\n",
              "      display: none;\n",
              "      fill: #1967D2;\n",
              "      height: 32px;\n",
              "      padding: 0 0 0 0;\n",
              "      width: 32px;\n",
              "    }\n",
              "\n",
              "    .colab-df-convert:hover {\n",
              "      background-color: #E2EBFA;\n",
              "      box-shadow: 0px 1px 2px rgba(60, 64, 67, 0.3), 0px 1px 3px 1px rgba(60, 64, 67, 0.15);\n",
              "      fill: #174EA6;\n",
              "    }\n",
              "\n",
              "    [theme=dark] .colab-df-convert {\n",
              "      background-color: #3B4455;\n",
              "      fill: #D2E3FC;\n",
              "    }\n",
              "\n",
              "    [theme=dark] .colab-df-convert:hover {\n",
              "      background-color: #434B5C;\n",
              "      box-shadow: 0px 1px 3px 1px rgba(0, 0, 0, 0.15);\n",
              "      filter: drop-shadow(0px 1px 2px rgba(0, 0, 0, 0.3));\n",
              "      fill: #FFFFFF;\n",
              "    }\n",
              "  </style>\n",
              "\n",
              "      <script>\n",
              "        const buttonEl =\n",
              "          document.querySelector('#df-12d8d3ea-c655-411b-bade-bff9d029e07a button.colab-df-convert');\n",
              "        buttonEl.style.display =\n",
              "          google.colab.kernel.accessAllowed ? 'block' : 'none';\n",
              "\n",
              "        async function convertToInteractive(key) {\n",
              "          const element = document.querySelector('#df-12d8d3ea-c655-411b-bade-bff9d029e07a');\n",
              "          const dataTable =\n",
              "            await google.colab.kernel.invokeFunction('convertToInteractive',\n",
              "                                                     [key], {});\n",
              "          if (!dataTable) return;\n",
              "\n",
              "          const docLinkHtml = 'Like what you see? Visit the ' +\n",
              "            '<a target=\"_blank\" href=https://colab.research.google.com/notebooks/data_table.ipynb>data table notebook</a>'\n",
              "            + ' to learn more about interactive tables.';\n",
              "          element.innerHTML = '';\n",
              "          dataTable['output_type'] = 'display_data';\n",
              "          await google.colab.output.renderOutput(dataTable, element);\n",
              "          const docLink = document.createElement('div');\n",
              "          docLink.innerHTML = docLinkHtml;\n",
              "          element.appendChild(docLink);\n",
              "        }\n",
              "      </script>\n",
              "    </div>\n",
              "  </div>\n",
              "  "
            ]
          },
          "metadata": {},
          "execution_count": 53
        }
      ],
      "source": [
        "df.head()"
      ]
    },
    {
      "cell_type": "code",
      "source": [
        "df.shape"
      ],
      "metadata": {
        "id": "AVmy2acw3gJ3",
        "outputId": "dcb94dd6-531e-44a5-89ae-df10d5571b52",
        "colab": {
          "base_uri": "https://localhost:8080/"
        }
      },
      "id": "AVmy2acw3gJ3",
      "execution_count": 54,
      "outputs": [
        {
          "output_type": "execute_result",
          "data": {
            "text/plain": [
              "(652, 7)"
            ]
          },
          "metadata": {},
          "execution_count": 54
        }
      ]
    },
    {
      "cell_type": "code",
      "execution_count": 55,
      "id": "7f1e59b9",
      "metadata": {
        "id": "7f1e59b9"
      },
      "outputs": [],
      "source": [
        "df.sort_values('Date', inplace = True)"
      ]
    },
    {
      "cell_type": "code",
      "execution_count": 56,
      "id": "a115c171",
      "metadata": {
        "colab": {
          "base_uri": "https://localhost:8080/",
          "height": 206
        },
        "id": "a115c171",
        "outputId": "581b3e22-6902-4278-8d3f-e8d731164721"
      },
      "outputs": [
        {
          "output_type": "execute_result",
          "data": {
            "text/plain": [
              "          Date          Open          High           Low         Close  \\\n",
              "647 2022-11-14  42177.550781  42231.449219  41965.449219  42076.750000   \n",
              "648 2022-11-15  42234.851562  42450.050781  42079.550781  42372.699219   \n",
              "649 2022-11-16  42371.800781  42611.750000  42296.300781  42535.300781   \n",
              "650 2022-11-17  42399.648438  42622.750000  42366.550781  42458.050781   \n",
              "651 2022-11-18  42545.750000  42590.750000  42223.699219  42437.449219   \n",
              "\n",
              "        Adj Close  Volume  \n",
              "647  42076.750000  142700  \n",
              "648  42372.699219  139400  \n",
              "649  42535.300781  185400  \n",
              "650  42458.050781  165400  \n",
              "651  42437.449219  280100  "
            ],
            "text/html": [
              "\n",
              "  <div id=\"df-e7446191-63c4-4cad-b804-a3086abdaf16\">\n",
              "    <div class=\"colab-df-container\">\n",
              "      <div>\n",
              "<style scoped>\n",
              "    .dataframe tbody tr th:only-of-type {\n",
              "        vertical-align: middle;\n",
              "    }\n",
              "\n",
              "    .dataframe tbody tr th {\n",
              "        vertical-align: top;\n",
              "    }\n",
              "\n",
              "    .dataframe thead th {\n",
              "        text-align: right;\n",
              "    }\n",
              "</style>\n",
              "<table border=\"1\" class=\"dataframe\">\n",
              "  <thead>\n",
              "    <tr style=\"text-align: right;\">\n",
              "      <th></th>\n",
              "      <th>Date</th>\n",
              "      <th>Open</th>\n",
              "      <th>High</th>\n",
              "      <th>Low</th>\n",
              "      <th>Close</th>\n",
              "      <th>Adj Close</th>\n",
              "      <th>Volume</th>\n",
              "    </tr>\n",
              "  </thead>\n",
              "  <tbody>\n",
              "    <tr>\n",
              "      <th>647</th>\n",
              "      <td>2022-11-14</td>\n",
              "      <td>42177.550781</td>\n",
              "      <td>42231.449219</td>\n",
              "      <td>41965.449219</td>\n",
              "      <td>42076.750000</td>\n",
              "      <td>42076.750000</td>\n",
              "      <td>142700</td>\n",
              "    </tr>\n",
              "    <tr>\n",
              "      <th>648</th>\n",
              "      <td>2022-11-15</td>\n",
              "      <td>42234.851562</td>\n",
              "      <td>42450.050781</td>\n",
              "      <td>42079.550781</td>\n",
              "      <td>42372.699219</td>\n",
              "      <td>42372.699219</td>\n",
              "      <td>139400</td>\n",
              "    </tr>\n",
              "    <tr>\n",
              "      <th>649</th>\n",
              "      <td>2022-11-16</td>\n",
              "      <td>42371.800781</td>\n",
              "      <td>42611.750000</td>\n",
              "      <td>42296.300781</td>\n",
              "      <td>42535.300781</td>\n",
              "      <td>42535.300781</td>\n",
              "      <td>185400</td>\n",
              "    </tr>\n",
              "    <tr>\n",
              "      <th>650</th>\n",
              "      <td>2022-11-17</td>\n",
              "      <td>42399.648438</td>\n",
              "      <td>42622.750000</td>\n",
              "      <td>42366.550781</td>\n",
              "      <td>42458.050781</td>\n",
              "      <td>42458.050781</td>\n",
              "      <td>165400</td>\n",
              "    </tr>\n",
              "    <tr>\n",
              "      <th>651</th>\n",
              "      <td>2022-11-18</td>\n",
              "      <td>42545.750000</td>\n",
              "      <td>42590.750000</td>\n",
              "      <td>42223.699219</td>\n",
              "      <td>42437.449219</td>\n",
              "      <td>42437.449219</td>\n",
              "      <td>280100</td>\n",
              "    </tr>\n",
              "  </tbody>\n",
              "</table>\n",
              "</div>\n",
              "      <button class=\"colab-df-convert\" onclick=\"convertToInteractive('df-e7446191-63c4-4cad-b804-a3086abdaf16')\"\n",
              "              title=\"Convert this dataframe to an interactive table.\"\n",
              "              style=\"display:none;\">\n",
              "        \n",
              "  <svg xmlns=\"http://www.w3.org/2000/svg\" height=\"24px\"viewBox=\"0 0 24 24\"\n",
              "       width=\"24px\">\n",
              "    <path d=\"M0 0h24v24H0V0z\" fill=\"none\"/>\n",
              "    <path d=\"M18.56 5.44l.94 2.06.94-2.06 2.06-.94-2.06-.94-.94-2.06-.94 2.06-2.06.94zm-11 1L8.5 8.5l.94-2.06 2.06-.94-2.06-.94L8.5 2.5l-.94 2.06-2.06.94zm10 10l.94 2.06.94-2.06 2.06-.94-2.06-.94-.94-2.06-.94 2.06-2.06.94z\"/><path d=\"M17.41 7.96l-1.37-1.37c-.4-.4-.92-.59-1.43-.59-.52 0-1.04.2-1.43.59L10.3 9.45l-7.72 7.72c-.78.78-.78 2.05 0 2.83L4 21.41c.39.39.9.59 1.41.59.51 0 1.02-.2 1.41-.59l7.78-7.78 2.81-2.81c.8-.78.8-2.07 0-2.86zM5.41 20L4 18.59l7.72-7.72 1.47 1.35L5.41 20z\"/>\n",
              "  </svg>\n",
              "      </button>\n",
              "      \n",
              "  <style>\n",
              "    .colab-df-container {\n",
              "      display:flex;\n",
              "      flex-wrap:wrap;\n",
              "      gap: 12px;\n",
              "    }\n",
              "\n",
              "    .colab-df-convert {\n",
              "      background-color: #E8F0FE;\n",
              "      border: none;\n",
              "      border-radius: 50%;\n",
              "      cursor: pointer;\n",
              "      display: none;\n",
              "      fill: #1967D2;\n",
              "      height: 32px;\n",
              "      padding: 0 0 0 0;\n",
              "      width: 32px;\n",
              "    }\n",
              "\n",
              "    .colab-df-convert:hover {\n",
              "      background-color: #E2EBFA;\n",
              "      box-shadow: 0px 1px 2px rgba(60, 64, 67, 0.3), 0px 1px 3px 1px rgba(60, 64, 67, 0.15);\n",
              "      fill: #174EA6;\n",
              "    }\n",
              "\n",
              "    [theme=dark] .colab-df-convert {\n",
              "      background-color: #3B4455;\n",
              "      fill: #D2E3FC;\n",
              "    }\n",
              "\n",
              "    [theme=dark] .colab-df-convert:hover {\n",
              "      background-color: #434B5C;\n",
              "      box-shadow: 0px 1px 3px 1px rgba(0, 0, 0, 0.15);\n",
              "      filter: drop-shadow(0px 1px 2px rgba(0, 0, 0, 0.3));\n",
              "      fill: #FFFFFF;\n",
              "    }\n",
              "  </style>\n",
              "\n",
              "      <script>\n",
              "        const buttonEl =\n",
              "          document.querySelector('#df-e7446191-63c4-4cad-b804-a3086abdaf16 button.colab-df-convert');\n",
              "        buttonEl.style.display =\n",
              "          google.colab.kernel.accessAllowed ? 'block' : 'none';\n",
              "\n",
              "        async function convertToInteractive(key) {\n",
              "          const element = document.querySelector('#df-e7446191-63c4-4cad-b804-a3086abdaf16');\n",
              "          const dataTable =\n",
              "            await google.colab.kernel.invokeFunction('convertToInteractive',\n",
              "                                                     [key], {});\n",
              "          if (!dataTable) return;\n",
              "\n",
              "          const docLinkHtml = 'Like what you see? Visit the ' +\n",
              "            '<a target=\"_blank\" href=https://colab.research.google.com/notebooks/data_table.ipynb>data table notebook</a>'\n",
              "            + ' to learn more about interactive tables.';\n",
              "          element.innerHTML = '';\n",
              "          dataTable['output_type'] = 'display_data';\n",
              "          await google.colab.output.renderOutput(dataTable, element);\n",
              "          const docLink = document.createElement('div');\n",
              "          docLink.innerHTML = docLinkHtml;\n",
              "          element.appendChild(docLink);\n",
              "        }\n",
              "      </script>\n",
              "    </div>\n",
              "  </div>\n",
              "  "
            ]
          },
          "metadata": {},
          "execution_count": 56
        }
      ],
      "source": [
        "df.tail()"
      ]
    },
    {
      "cell_type": "code",
      "execution_count": 57,
      "id": "8f99e334",
      "metadata": {
        "id": "8f99e334"
      },
      "outputs": [],
      "source": [
        "# Metric MAE\n",
        "from sklearn.metrics import mean_absolute_error\n",
        "\n",
        "# Imports for creating plots\n",
        "import matplotlib.pyplot as plt\n",
        "from pylab import rcParams\n",
        "rcParams['figure.figsize'] = 18, 7\n",
        "# %matplotlib notebook"
      ]
    },
    {
      "cell_type": "code",
      "execution_count": 58,
      "id": "5763891e",
      "metadata": {
        "id": "5763891e"
      },
      "outputs": [],
      "source": [
        "split = int(round(len(df)*0.7,0))\n",
        "train_data = df.iloc[:split]\n",
        "test_data = df.iloc[split:]"
      ]
    },
    {
      "cell_type": "code",
      "execution_count": 59,
      "id": "602bec32",
      "metadata": {
        "colab": {
          "base_uri": "https://localhost:8080/"
        },
        "id": "602bec32",
        "outputId": "8bf43f52-e909-47da-aa61-d2d35a7be3a7"
      },
      "outputs": [
        {
          "output_type": "execute_result",
          "data": {
            "text/plain": [
              "456"
            ]
          },
          "metadata": {},
          "execution_count": 59
        }
      ],
      "source": [
        "split"
      ]
    },
    {
      "cell_type": "markdown",
      "id": "3c76f6c1",
      "metadata": {
        "id": "3c76f6c1"
      },
      "source": [
        "## Forecasting using Auto TS"
      ]
    },
    {
      "cell_type": "code",
      "execution_count": 60,
      "id": "19595bc1",
      "metadata": {
        "colab": {
          "base_uri": "https://localhost:8080/",
          "height": 503
        },
        "id": "19595bc1",
        "outputId": "fcd38f82-aab2-4d6c-ecea-eb327768b599"
      },
      "outputs": [
        {
          "output_type": "display_data",
          "data": {
            "text/plain": [
              "<Figure size 1080x576 with 1 Axes>"
            ],
            "image/png": "[encoded data removed]"
          },
          "metadata": {
            "needs_background": "light"
          }
        }
      ],
      "source": [
        "train_data.Close.plot(figsize=(15,8), title= ticker, fontsize=14, label='Train')\n",
        "test_data.Close.plot(figsize=(15,8), title= ticker, fontsize=14, label='Test')\n",
        "plt.legend()\n",
        "plt.grid()\n",
        "plt.show()"
      ]
    },
    {
      "cell_type": "code",
      "source": [
        "# !pip install autots"
      ],
      "metadata": {
        "id": "jF5AeKwFoLd7"
      },
      "id": "jF5AeKwFoLd7",
      "execution_count": 61,
      "outputs": []
    },
    {
      "cell_type": "code",
      "execution_count": 62,
      "id": "36cd3a87",
      "metadata": {
        "id": "36cd3a87"
      },
      "outputs": [],
      "source": [
        "from autots import AutoTS"
      ]
    },
    {
      "cell_type": "code",
      "execution_count": 63,
      "id": "f120cec5",
      "metadata": {
        "id": "f120cec5"
      },
      "outputs": [],
      "source": [
        "model = AutoTS(forecast_length=3, frequency='infer',  ensemble='simple', drop_data_older_than_periods=split)"
      ]
    },
    {
      "cell_type": "code",
      "execution_count": 64,
      "id": "60a4acaf",
      "metadata": {
        "colab": {
          "base_uri": "https://localhost:8080/"
        },
        "id": "60a4acaf",
        "outputId": "3a25fa66-4e5e-4692-c2f3-24220e5798a7"
      },
      "outputs": [
        {
          "output_type": "stream",
          "name": "stdout",
          "text": [
            "Inferred frequency is: None\n",
            "Frequency is 'None'! Input frequency not recognized.\n",
            "Old data dropped by `drop_data_older_than_periods`.\n",
            "Model Number: 1 with model ARIMA in generation 0 of 10\n",
            "Model Number: 2 with model ARIMA in generation 0 of 10\n",
            "Model Number: 3 with model ARIMA in generation 0 of 10\n",
            "Model Number: 4 with model AverageValueNaive in generation 0 of 10\n",
            "Model Number: 5 with model AverageValueNaive in generation 0 of 10\n",
            "Model Number: 6 with model AverageValueNaive in generation 0 of 10\n",
            "Model Number: 7 with model DatepartRegression in generation 0 of 10\n",
            "Model Number: 8 with model DatepartRegression in generation 0 of 10\n",
            "Model Number: 9 with model DatepartRegression in generation 0 of 10\n"
          ]
        },
        {
          "output_type": "stream",
          "name": "stderr",
          "text": [
            "/usr/local/lib/python3.7/dist-packages/sklearn/svm/_base.py:1208: ConvergenceWarning: Liblinear failed to converge, increase the number of iterations.\n",
            "  ConvergenceWarning,\n",
            "/usr/local/lib/python3.7/dist-packages/sklearn/neural_network/_multilayer_perceptron.py:549: ConvergenceWarning: lbfgs failed to converge (status=1):\n",
            "STOP: TOTAL NO. of ITERATIONS REACHED LIMIT.\n",
            "\n",
            "Increase the number of iterations (max_iter) or scale the data as shown in:\n",
            "    https://scikit-learn.org/stable/modules/preprocessing.html\n",
            "  self.n_iter_ = _check_optimize_result(\"lbfgs\", opt_res, self.max_iter)\n"
          ]
        },
        {
          "output_type": "stream",
          "name": "stdout",
          "text": [
            "Model Number: 10 with model DatepartRegression in generation 0 of 10\n",
            "Epoch 1/50\n",
            "15/15 [==============================] - 7s 6ms/step - loss: 0.4093\n",
            "Epoch 2/50\n",
            "15/15 [==============================] - 0s 6ms/step - loss: 0.3999\n",
            "Epoch 3/50\n",
            "15/15 [==============================] - 0s 7ms/step - loss: 0.3934\n",
            "Epoch 4/50\n",
            "15/15 [==============================] - 0s 6ms/step - loss: 0.3921\n",
            "Epoch 5/50\n",
            "15/15 [==============================] - 0s 6ms/step - loss: 0.3907\n",
            "Epoch 6/50\n",
            "15/15 [==============================] - 0s 8ms/step - loss: 0.3874\n",
            "Epoch 7/50\n",
            "15/15 [==============================] - 0s 6ms/step - loss: 0.3850\n",
            "Epoch 8/50\n",
            "15/15 [==============================] - 0s 6ms/step - loss: 0.3799\n",
            "Epoch 9/50\n",
            "15/15 [==============================] - 0s 7ms/step - loss: 0.3773\n",
            "Epoch 10/50\n",
            "15/15 [==============================] - 0s 7ms/step - loss: 0.3686\n",
            "Epoch 11/50\n",
            "15/15 [==============================] - 0s 7ms/step - loss: 0.3710\n",
            "Epoch 12/50\n",
            "15/15 [==============================] - 0s 8ms/step - loss: 0.3603\n",
            "Epoch 13/50\n",
            "15/15 [==============================] - 0s 6ms/step - loss: 0.3585\n",
            "Epoch 14/50\n",
            "15/15 [==============================] - 0s 6ms/step - loss: 0.3504\n",
            "Epoch 15/50\n",
            "15/15 [==============================] - 0s 6ms/step - loss: 0.3410\n",
            "Epoch 16/50\n",
            "15/15 [==============================] - 0s 6ms/step - loss: 0.3407\n",
            "Epoch 17/50\n",
            "15/15 [==============================] - 0s 6ms/step - loss: 0.3410\n",
            "Epoch 18/50\n",
            "15/15 [==============================] - 0s 6ms/step - loss: 0.3390\n",
            "Epoch 19/50\n",
            "15/15 [==============================] - 0s 7ms/step - loss: 0.3296\n",
            "Epoch 20/50\n",
            "15/15 [==============================] - 0s 6ms/step - loss: 0.3312\n",
            "Epoch 21/50\n",
            "15/15 [==============================] - 0s 8ms/step - loss: 0.3224\n",
            "Epoch 22/50\n",
            "15/15 [==============================] - 0s 7ms/step - loss: 0.3293\n",
            "Epoch 23/50\n",
            "15/15 [==============================] - 0s 6ms/step - loss: 0.3195\n",
            "Epoch 24/50\n",
            "15/15 [==============================] - 0s 7ms/step - loss: 0.3207\n",
            "Epoch 25/50\n",
            "15/15 [==============================] - 0s 6ms/step - loss: 0.3227\n",
            "Epoch 26/50\n",
            "15/15 [==============================] - 0s 6ms/step - loss: 0.3201\n",
            "Epoch 27/50\n",
            "15/15 [==============================] - 0s 6ms/step - loss: 0.3097\n",
            "Epoch 28/50\n",
            "15/15 [==============================] - 0s 7ms/step - loss: 0.3112\n",
            "Epoch 29/50\n",
            "15/15 [==============================] - 0s 6ms/step - loss: 0.3078\n",
            "Epoch 30/50\n",
            "15/15 [==============================] - 0s 6ms/step - loss: 0.3080\n",
            "Epoch 31/50\n",
            "15/15 [==============================] - 0s 7ms/step - loss: 0.3048\n",
            "Epoch 32/50\n",
            "15/15 [==============================] - 0s 7ms/step - loss: 0.3081\n",
            "Epoch 33/50\n",
            "15/15 [==============================] - 0s 6ms/step - loss: 0.3153\n",
            "Epoch 34/50\n",
            "15/15 [==============================] - 0s 6ms/step - loss: 0.3169\n",
            "Epoch 35/50\n",
            "15/15 [==============================] - 0s 6ms/step - loss: 0.3273\n",
            "Epoch 36/50\n",
            "15/15 [==============================] - 0s 6ms/step - loss: 0.3097\n",
            "Epoch 37/50\n",
            "15/15 [==============================] - 0s 6ms/step - loss: 0.3042\n",
            "Epoch 38/50\n",
            "15/15 [==============================] - 0s 6ms/step - loss: 0.3082\n",
            "Epoch 39/50\n",
            "15/15 [==============================] - 0s 6ms/step - loss: 0.2983\n",
            "Epoch 40/50\n",
            "15/15 [==============================] - 0s 6ms/step - loss: 0.3021\n",
            "Epoch 41/50\n",
            "15/15 [==============================] - 0s 6ms/step - loss: 0.3069\n",
            "Epoch 42/50\n",
            "15/15 [==============================] - 0s 6ms/step - loss: 0.3017\n",
            "Epoch 43/50\n",
            "15/15 [==============================] - 0s 6ms/step - loss: 0.3018\n",
            "Epoch 44/50\n",
            "15/15 [==============================] - 0s 6ms/step - loss: 0.3006\n",
            "Epoch 45/50\n",
            "15/15 [==============================] - 0s 6ms/step - loss: 0.3000\n",
            "Epoch 46/50\n",
            "15/15 [==============================] - 0s 6ms/step - loss: 0.2960\n",
            "Epoch 47/50\n",
            "15/15 [==============================] - 0s 7ms/step - loss: 0.2936\n",
            "Epoch 48/50\n",
            "15/15 [==============================] - 0s 6ms/step - loss: 0.2895\n",
            "Epoch 49/50\n",
            "15/15 [==============================] - 0s 6ms/step - loss: 0.2999\n",
            "Epoch 50/50\n",
            "15/15 [==============================] - 0s 7ms/step - loss: 0.2956\n",
            "1/1 [==============================] - 1s 1s/step\n",
            "Model Number: 11 with model ETS in generation 0 of 10\n",
            "Model Number: 12 with model ETS in generation 0 of 10\n",
            "Model Number: 13 with model GLM in generation 0 of 10\n",
            "Model Number: 14 with model GLM in generation 0 of 10\n",
            "Model Number: 15 with model GLS in generation 0 of 10\n",
            "Model Number: 16 with model GLS in generation 0 of 10\n",
            "Model Number: 17 with model GluonTS in generation 0 of 10\n",
            "Template Eval Error: ImportError('GluonTS installation not found or installed version is incompatible with AutoTS.') in model 17: GluonTS\n",
            "Model Number: 18 with model GluonTS in generation 0 of 10\n",
            "Template Eval Error: ImportError('GluonTS installation not found or installed version is incompatible with AutoTS.') in model 18: GluonTS\n",
            "Model Number: 19 with model GluonTS in generation 0 of 10\n",
            "Template Eval Error: ImportError('GluonTS installation not found or installed version is incompatible with AutoTS.') in model 19: GluonTS\n",
            "Model Number: 20 with model GluonTS in generation 0 of 10\n",
            "Template Eval Error: ImportError('GluonTS installation not found or installed version is incompatible with AutoTS.') in model 20: GluonTS\n",
            "Model Number: 21 with model GluonTS in generation 0 of 10\n",
            "Template Eval Error: ImportError('GluonTS installation not found or installed version is incompatible with AutoTS.') in model 21: GluonTS\n",
            "Model Number: 22 with model LastValueNaive in generation 0 of 10\n",
            "Model Number: 23 with model LastValueNaive in generation 0 of 10\n",
            "Model Number: 24 with model LastValueNaive in generation 0 of 10\n",
            "Model Number: 25 with model LastValueNaive in generation 0 of 10\n",
            "Model Number: 26 with model SeasonalNaive in generation 0 of 10\n",
            "Model Number: 27 with model SeasonalNaive in generation 0 of 10\n",
            "Model Number: 28 with model SeasonalNaive in generation 0 of 10\n",
            "Model Number: 29 with model UnobservedComponents in generation 0 of 10\n",
            "Model Number: 30 with model UnobservedComponents in generation 0 of 10\n",
            "Model Number: 31 with model UnobservedComponents in generation 0 of 10\n",
            "Model Number: 32 with model VAR in generation 0 of 10\n",
            "Template Eval Error: ValueError('Only gave one variable to VAR') in model 32: VAR\n",
            "Model Number: 33 with model VAR in generation 0 of 10\n",
            "Template Eval Error: ValueError('Only gave one variable to VAR') in model 33: VAR\n",
            "Model Number: 34 with model VECM in generation 0 of 10\n",
            "Template Eval Error: ValueError('Only gave one variable to VECM') in model 34: VECM\n",
            "Model Number: 35 with model VECM in generation 0 of 10\n",
            "Template Eval Error: ValueError('Only gave one variable to VECM') in model 35: VECM\n",
            "Model Number: 36 with model WindowRegression in generation 0 of 10\n",
            "Model Number: 37 with model ConstantNaive in generation 0 of 10\n"
          ]
        },
        {
          "output_type": "stream",
          "name": "stderr",
          "text": [
            "/usr/local/lib/python3.7/dist-packages/sklearn/neural_network/_multilayer_perceptron.py:549: ConvergenceWarning: lbfgs failed to converge (status=1):\n",
            "STOP: TOTAL NO. of ITERATIONS REACHED LIMIT.\n",
            "\n",
            "Increase the number of iterations (max_iter) or scale the data as shown in:\n",
            "    https://scikit-learn.org/stable/modules/preprocessing.html\n",
            "  self.n_iter_ = _check_optimize_result(\"lbfgs\", opt_res, self.max_iter)\n",
            "INFO:prophet:Disabling yearly seasonality. Run prophet with yearly_seasonality=True to override this.\n",
            "INFO:prophet:Disabling daily seasonality. Run prophet with daily_seasonality=True to override this.\n",
            "DEBUG:cmdstanpy:input tempfile: /tmp/tmpkpj4r36s/ggzvgmgw.json\n",
            "DEBUG:cmdstanpy:input tempfile: /tmp/tmpkpj4r36s/27mydz91.json\n",
            "DEBUG:cmdstanpy:idx 0\n",
            "DEBUG:cmdstanpy:running CmdStan, num_threads: None\n",
            "DEBUG:cmdstanpy:CmdStan args: ['/usr/local/lib/python3.7/dist-packages/prophet/stan_model/prophet_model.bin', 'random', 'seed=42816', 'data', 'file=/tmp/tmpkpj4r36s/ggzvgmgw.json', 'init=/tmp/tmpkpj4r36s/27mydz91.json', 'output', 'file=/tmp/tmpkpj4r36s/prophet_model0dyomsdp/prophet_model-20221121074327.csv', 'method=optimize', 'algorithm=lbfgs', 'iter=10000']\n",
            "07:43:27 - cmdstanpy - INFO - Chain [1] start processing\n",
            "INFO:cmdstanpy:Chain [1] start processing\n"
          ]
        },
        {
          "output_type": "stream",
          "name": "stdout",
          "text": [
            "Model Number: 38 with model FBProphet in generation 0 of 10\n"
          ]
        },
        {
          "output_type": "stream",
          "name": "stderr",
          "text": [
            "07:43:27 - cmdstanpy - INFO - Chain [1] done processing\n",
            "INFO:cmdstanpy:Chain [1] done processing\n"
          ]
        },
        {
          "output_type": "stream",
          "name": "stdout",
          "text": [
            "Model Number: 39 with model GluonTS in generation 0 of 10\n",
            "Template Eval Error: ImportError('GluonTS installation not found or installed version is incompatible with AutoTS.') in model 39: GluonTS\n",
            "Model Number: 40 with model MultivariateRegression in generation 0 of 10\n"
          ]
        },
        {
          "output_type": "stream",
          "name": "stderr",
          "text": [
            "[Parallel(n_jobs=-2)]: Using backend SequentialBackend with 1 concurrent workers.\n",
            "[Parallel(n_jobs=-2)]: Done 200 out of 200 | elapsed:    0.5s finished\n",
            "[Parallel(n_jobs=1)]: Using backend SequentialBackend with 1 concurrent workers.\n",
            "[Parallel(n_jobs=1)]: Done 200 out of 200 | elapsed:    0.0s finished\n",
            "[Parallel(n_jobs=1)]: Using backend SequentialBackend with 1 concurrent workers.\n",
            "[Parallel(n_jobs=1)]: Done 200 out of 200 | elapsed:    0.0s finished\n",
            "[Parallel(n_jobs=1)]: Using backend SequentialBackend with 1 concurrent workers.\n",
            "[Parallel(n_jobs=1)]: Done 200 out of 200 | elapsed:    0.0s finished\n"
          ]
        },
        {
          "output_type": "stream",
          "name": "stdout",
          "text": [
            "Model Number: 41 with model MultivariateRegression in generation 0 of 10\n",
            "Template Eval Error: ValueError(\"regression_type='User' but not future_regressor supplied.\") in model 41: MultivariateRegression\n",
            "Model Number: 42 with model DatepartRegression in generation 0 of 10\n",
            "Template Eval Error: ValueError(\"regression_type='User' but no future_regressor passed\") in model 42: DatepartRegression\n",
            "Model Number: 43 with model SeasonalNaive in generation 0 of 10\n",
            "Model Number: 44 with model DatepartRegression in generation 0 of 10\n",
            "Model Number: 45 with model UnobservedComponents in generation 0 of 10\n",
            "Model Number: 46 with model UnobservedComponents in generation 0 of 10\n",
            "Model Number: 47 with model ETS in generation 0 of 10\n",
            "Model Number: 48 with model VECM in generation 0 of 10\n",
            "Template Eval Error: ValueError('Only gave one variable to VECM') in model 48: VECM\n",
            "Model Number: 49 with model ARDL in generation 0 of 10\n",
            "Template Eval Error: ImportError(\"cannot import name 'ARDL' from 'statsmodels.tsa.api' (/usr/local/lib/python3.7/dist-packages/statsmodels/tsa/api.py)\") in model 49: ARDL\n",
            "Model Number: 50 with model MultivariateMotif in generation 0 of 10\n",
            "Model Number: 51 with model MultivariateMotif in generation 0 of 10\n",
            "Model Number: 52 with model UnivariateMotif in generation 0 of 10\n",
            "Model Number: 53 with model UnivariateMotif in generation 0 of 10\n",
            "Model Number: 54 with model SectionalMotif in generation 0 of 10\n",
            "Model Number: 55 with model SectionalMotif in generation 0 of 10\n",
            "Model Number: 56 with model MultivariateRegression in generation 0 of 10\n"
          ]
        },
        {
          "output_type": "stream",
          "name": "stderr",
          "text": [
            "INFO:prophet:Disabling yearly seasonality. Run prophet with yearly_seasonality=True to override this.\n",
            "INFO:prophet:Disabling daily seasonality. Run prophet with daily_seasonality=True to override this.\n"
          ]
        },
        {
          "output_type": "stream",
          "name": "stdout",
          "text": [
            "Model Number: 57 with model FBProphet in generation 0 of 10\n"
          ]
        },
        {
          "output_type": "stream",
          "name": "stderr",
          "text": [
            "DEBUG:cmdstanpy:input tempfile: /tmp/tmpkpj4r36s/1runi_9g.json\n",
            "DEBUG:cmdstanpy:input tempfile: /tmp/tmpkpj4r36s/w82n1_9b.json\n",
            "DEBUG:cmdstanpy:idx 0\n",
            "DEBUG:cmdstanpy:running CmdStan, num_threads: None\n",
            "DEBUG:cmdstanpy:CmdStan args: ['/usr/local/lib/python3.7/dist-packages/prophet/stan_model/prophet_model.bin', 'random', 'seed=51494', 'data', 'file=/tmp/tmpkpj4r36s/1runi_9g.json', 'init=/tmp/tmpkpj4r36s/w82n1_9b.json', 'output', 'file=/tmp/tmpkpj4r36s/prophet_modelm4f80swg/prophet_model-20221121074330.csv', 'method=optimize', 'algorithm=lbfgs', 'iter=10000']\n",
            "07:43:30 - cmdstanpy - INFO - Chain [1] start processing\n",
            "INFO:cmdstanpy:Chain [1] start processing\n",
            "07:43:31 - cmdstanpy - INFO - Chain [1] done processing\n",
            "INFO:cmdstanpy:Chain [1] done processing\n"
          ]
        },
        {
          "output_type": "stream",
          "name": "stdout",
          "text": [
            "Model Number: 58 with model SeasonalNaive in generation 0 of 10\n",
            "Model Number: 59 with model DatepartRegression in generation 0 of 10\n"
          ]
        },
        {
          "output_type": "stream",
          "name": "stderr",
          "text": [
            "[Parallel(n_jobs=-2)]: Using backend SequentialBackend with 1 concurrent workers.\n"
          ]
        },
        {
          "output_type": "stream",
          "name": "stdout",
          "text": [
            "Model Number: 60 with model NVAR in generation 0 of 10\n"
          ]
        },
        {
          "output_type": "stream",
          "name": "stderr",
          "text": [
            "[Parallel(n_jobs=-2)]: Done 100 out of 100 | elapsed:    0.2s finished\n",
            "[Parallel(n_jobs=1)]: Using backend SequentialBackend with 1 concurrent workers.\n",
            "[Parallel(n_jobs=1)]: Done 100 out of 100 | elapsed:    0.0s finished\n"
          ]
        },
        {
          "output_type": "stream",
          "name": "stdout",
          "text": [
            "Model Number: 61 with model Theta in generation 0 of 10\n",
            "Model Number: 62 with model UnivariateRegression in generation 0 of 10\n",
            "Model Number: 63 with model ARCH in generation 0 of 10\n",
            "Template Eval Error: ImportError('`arch` package must be installed from pip') in model 63: ARCH\n",
            "Model Number: 64 with model ConstantNaive in generation 0 of 10\n",
            "Model Number: 65 with model LastValueNaive in generation 0 of 10\n",
            "Model Number: 66 with model AverageValueNaive in generation 0 of 10\n",
            "Model Number: 67 with model GLS in generation 0 of 10\n",
            "Model Number: 68 with model SeasonalNaive in generation 0 of 10\n",
            "Model Number: 69 with model GLM in generation 0 of 10\n",
            "Model Number: 70 with model ETS in generation 0 of 10\n",
            "Model Number: 71 with model FBProphet in generation 0 of 10\n",
            "No anomalies detected.\n"
          ]
        },
        {
          "output_type": "stream",
          "name": "stderr",
          "text": [
            "INFO:prophet:Disabling yearly seasonality. Run prophet with yearly_seasonality=True to override this.\n",
            "INFO:prophet:Disabling daily seasonality. Run prophet with daily_seasonality=True to override this.\n",
            "DEBUG:cmdstanpy:input tempfile: /tmp/tmpkpj4r36s/uw22oc_i.json\n",
            "DEBUG:cmdstanpy:input tempfile: /tmp/tmpkpj4r36s/ysmz_0l_.json\n",
            "DEBUG:cmdstanpy:idx 0\n",
            "DEBUG:cmdstanpy:running CmdStan, num_threads: None\n",
            "DEBUG:cmdstanpy:CmdStan args: ['/usr/local/lib/python3.7/dist-packages/prophet/stan_model/prophet_model.bin', 'random', 'seed=81312', 'data', 'file=/tmp/tmpkpj4r36s/uw22oc_i.json', 'init=/tmp/tmpkpj4r36s/ysmz_0l_.json', 'output', 'file=/tmp/tmpkpj4r36s/prophet_modely1d6v4l4/prophet_model-20221121074333.csv', 'method=optimize', 'algorithm=lbfgs', 'iter=10000']\n",
            "07:43:33 - cmdstanpy - INFO - Chain [1] start processing\n",
            "INFO:cmdstanpy:Chain [1] start processing\n",
            "07:43:33 - cmdstanpy - INFO - Chain [1] done processing\n",
            "INFO:cmdstanpy:Chain [1] done processing\n"
          ]
        },
        {
          "output_type": "stream",
          "name": "stdout",
          "text": [
            "Model Number: 72 with model GluonTS in generation 0 of 10\n",
            "Template Eval Error: ImportError('GluonTS installation not found or installed version is incompatible with AutoTS.') in model 72: GluonTS\n",
            "Model Number: 73 with model UnobservedComponents in generation 0 of 10\n",
            "Model Number: 74 with model VAR in generation 0 of 10\n",
            "Template Eval Error: ValueError('Only gave one variable to VAR') in model 74: VAR\n",
            "Model Number: 75 with model VECM in generation 0 of 10\n",
            "Template Eval Error: ValueError('Only gave one variable to VECM') in model 75: VECM\n",
            "Model Number: 76 with model ARIMA in generation 0 of 10\n"
          ]
        },
        {
          "output_type": "stream",
          "name": "stderr",
          "text": [
            "/usr/local/lib/python3.7/dist-packages/sklearn/linear_model/_ridge.py:157: LinAlgWarning: Ill-conditioned matrix (rcond=2.35621e-25): result may not be accurate.\n",
            "  return linalg.solve(A, Xy, sym_pos=True, overwrite_a=True).T\n"
          ]
        },
        {
          "output_type": "stream",
          "name": "stdout",
          "text": [
            "Model Number: 77 with model WindowRegression in generation 0 of 10\n",
            "Model Number: 78 with model DatepartRegression in generation 0 of 10\n",
            "Model Number: 79 with model UnivariateRegression in generation 0 of 10\n",
            "Template Eval Error: ValueError(\"regression_type='User' but not future_regressor supplied.\") in model 79: UnivariateRegression\n",
            "Model Number: 80 with model MultivariateRegression in generation 0 of 10\n",
            "Model Number: 81 with model UnivariateMotif in generation 0 of 10\n",
            "Model Number: 82 with model MultivariateMotif in generation 0 of 10\n",
            "Model Number: 83 with model SectionalMotif in generation 0 of 10\n",
            "No anomalies detected.\n",
            "Model Number: 84 with model NVAR in generation 0 of 10\n",
            "Model Number: 85 with model Theta in generation 0 of 10\n",
            "Model Number: 86 with model ARDL in generation 0 of 10\n",
            "Template Eval Error: ValueError(\"regression_type='User' but future_regressor not supplied\") in model 86: ARDL\n",
            "Model Number: 87 with model ARCH in generation 0 of 10\n",
            "Template Eval Error: ImportError('`arch` package must be installed from pip') in model 87: ARCH\n",
            "Model Number: 88 with model MetricMotif in generation 0 of 10\n",
            "Model Number: 89 with model SeasonalityMotif in generation 0 of 10\n",
            "Model Number: 90 with model ARCH in generation 0 of 10\n",
            "Template Eval Error: ImportError('`arch` package must be installed from pip') in model 90: ARCH\n",
            "Model Number: 91 with model MetricMotif in generation 0 of 10\n",
            "Model Number: 92 with model LastValueNaive in generation 0 of 10\n",
            "Model Number: 93 with model Theta in generation 0 of 10\n",
            "Model Number: 94 with model ARDL in generation 0 of 10\n",
            "Template Eval Error: ImportError(\"cannot import name 'ARDL' from 'statsmodels.tsa.api' (/usr/local/lib/python3.7/dist-packages/statsmodels/tsa/api.py)\") in model 94: ARDL\n",
            "Model Number: 95 with model SeasonalityMotif in generation 0 of 10\n",
            "Model Number: 96 with model DatepartRegression in generation 0 of 10\n",
            "Epoch 1/50\n",
            "15/15 [==============================] - 8s 149ms/step - loss: 101.9689\n",
            "Epoch 2/50\n",
            "15/15 [==============================] - 3s 222ms/step - loss: 101.1956\n",
            "Epoch 3/50\n",
            "15/15 [==============================] - 2s 149ms/step - loss: 100.8042\n",
            "Epoch 4/50\n",
            "15/15 [==============================] - 3s 224ms/step - loss: 100.4975\n",
            "Epoch 5/50\n",
            "15/15 [==============================] - 3s 162ms/step - loss: 100.2564\n",
            "Epoch 6/50\n",
            "15/15 [==============================] - 2s 146ms/step - loss: 100.0564\n",
            "Epoch 7/50\n",
            "15/15 [==============================] - 2s 149ms/step - loss: 99.8447\n",
            "Epoch 8/50\n",
            "15/15 [==============================] - 2s 147ms/step - loss: 99.6183\n",
            "Epoch 9/50\n",
            "15/15 [==============================] - 2s 145ms/step - loss: 99.4368\n",
            "Epoch 10/50\n",
            "15/15 [==============================] - 2s 144ms/step - loss: 99.5295\n",
            "Epoch 11/50\n",
            "15/15 [==============================] - 2s 147ms/step - loss: 99.4837\n",
            "Epoch 12/50\n",
            "15/15 [==============================] - 2s 148ms/step - loss: 99.4547\n",
            "Epoch 13/50\n",
            "15/15 [==============================] - 2s 147ms/step - loss: 99.4334\n",
            "Epoch 14/50\n",
            "15/15 [==============================] - 2s 147ms/step - loss: 99.4115\n",
            "Epoch 15/50\n",
            "15/15 [==============================] - 2s 146ms/step - loss: 99.3834\n",
            "Epoch 16/50\n",
            "15/15 [==============================] - 2s 145ms/step - loss: 99.3652\n",
            "Epoch 17/50\n",
            "15/15 [==============================] - 2s 145ms/step - loss: 99.3446\n",
            "Epoch 18/50\n",
            "15/15 [==============================] - 2s 145ms/step - loss: 99.3380\n",
            "Epoch 19/50\n",
            "15/15 [==============================] - 2s 145ms/step - loss: 99.3216\n",
            "Epoch 20/50\n",
            "15/15 [==============================] - 2s 145ms/step - loss: 99.2946\n",
            "Epoch 21/50\n",
            "15/15 [==============================] - 2s 145ms/step - loss: 99.2850\n",
            "Epoch 22/50\n",
            "15/15 [==============================] - 2s 146ms/step - loss: 99.2650\n",
            "Epoch 23/50\n",
            "15/15 [==============================] - 2s 148ms/step - loss: 99.2472\n",
            "Epoch 24/50\n",
            "15/15 [==============================] - 2s 145ms/step - loss: 99.2284\n",
            "Epoch 25/50\n",
            "15/15 [==============================] - 2s 146ms/step - loss: 99.2177\n",
            "Epoch 26/50\n",
            "15/15 [==============================] - 2s 151ms/step - loss: 99.2332\n",
            "Epoch 27/50\n",
            "15/15 [==============================] - 2s 149ms/step - loss: 99.2048\n",
            "Epoch 28/50\n",
            "15/15 [==============================] - 2s 146ms/step - loss: 99.2224\n",
            "Epoch 29/50\n",
            "15/15 [==============================] - 2s 146ms/step - loss: 99.2146\n",
            "Epoch 30/50\n",
            "15/15 [==============================] - 2s 146ms/step - loss: 99.1956\n",
            "Epoch 31/50\n",
            "15/15 [==============================] - 3s 197ms/step - loss: 99.2446\n",
            "Epoch 32/50\n",
            "15/15 [==============================] - 3s 196ms/step - loss: 99.2164\n",
            "Epoch 33/50\n",
            "15/15 [==============================] - 2s 149ms/step - loss: 99.2000\n",
            "Epoch 34/50\n",
            "15/15 [==============================] - 2s 150ms/step - loss: 99.1972\n",
            "Epoch 35/50\n",
            "15/15 [==============================] - 2s 152ms/step - loss: 99.2054\n",
            "Epoch 36/50\n",
            "15/15 [==============================] - 2s 149ms/step - loss: 99.1918\n",
            "Epoch 37/50\n",
            "15/15 [==============================] - 2s 150ms/step - loss: 99.1971\n",
            "Epoch 38/50\n",
            "15/15 [==============================] - 2s 152ms/step - loss: 99.1768\n",
            "Epoch 39/50\n",
            "15/15 [==============================] - 2s 151ms/step - loss: 99.2007\n",
            "Epoch 40/50\n",
            "15/15 [==============================] - 2s 148ms/step - loss: 99.1767\n",
            "Epoch 41/50\n",
            "15/15 [==============================] - 2s 147ms/step - loss: 99.1674\n",
            "Epoch 42/50\n",
            "15/15 [==============================] - 2s 148ms/step - loss: 99.1610\n",
            "Epoch 43/50\n",
            "15/15 [==============================] - 2s 147ms/step - loss: 99.1846\n",
            "Epoch 44/50\n",
            "15/15 [==============================] - 2s 149ms/step - loss: 99.1672\n",
            "Epoch 45/50\n",
            "15/15 [==============================] - 2s 148ms/step - loss: 99.1917\n",
            "Epoch 46/50\n",
            "15/15 [==============================] - 2s 146ms/step - loss: 99.1566\n",
            "Epoch 47/50\n",
            "15/15 [==============================] - 2s 147ms/step - loss: 99.1715\n",
            "Epoch 48/50\n",
            "15/15 [==============================] - 2s 149ms/step - loss: 99.1623\n",
            "Epoch 49/50\n",
            "15/15 [==============================] - 3s 220ms/step - loss: 99.1744\n",
            "Epoch 50/50\n",
            "15/15 [==============================] - 2s 149ms/step - loss: 99.1628\n",
            "1/1 [==============================] - 1s 1s/step\n",
            "Model Number: 97 with model ARCH in generation 0 of 10\n",
            "Template Eval Error: ImportError('`arch` package must be installed from pip') in model 97: ARCH\n",
            "Model Number: 98 with model UnivariateMotif in generation 0 of 10\n",
            "Model Number: 99 with model MetricMotif in generation 0 of 10\n",
            "Model Number: 100 with model UnivariateRegression in generation 0 of 10\n",
            "Template Eval Error: ValueError(\"regression_type='User' but not future_regressor supplied.\") in model 100: UnivariateRegression\n",
            "Model Number: 101 with model ARDL in generation 0 of 10\n",
            "Template Eval Error: ImportError(\"cannot import name 'ARDL' from 'statsmodels.tsa.api' (/usr/local/lib/python3.7/dist-packages/statsmodels/tsa/api.py)\") in model 101: ARDL\n",
            "Model Number: 102 with model DatepartRegression in generation 0 of 10\n",
            "Template Eval Error: ValueError('X has 26 features, but LinearSVR is expecting 36 features as input.') in model 102: DatepartRegression\n",
            "Model Number: 103 with model LastValueNaive in generation 0 of 10\n",
            "Model Number: 104 with model ARDL in generation 0 of 10\n",
            "Template Eval Error: ImportError(\"cannot import name 'ARDL' from 'statsmodels.tsa.api' (/usr/local/lib/python3.7/dist-packages/statsmodels/tsa/api.py)\") in model 104: ARDL\n",
            "Model Number: 105 with model DatepartRegression in generation 0 of 10\n"
          ]
        },
        {
          "output_type": "stream",
          "name": "stderr",
          "text": [
            "/usr/local/lib/python3.7/dist-packages/sklearn/svm/_base.py:1208: ConvergenceWarning: Liblinear failed to converge, increase the number of iterations.\n",
            "  ConvergenceWarning,\n",
            "/usr/local/lib/python3.7/dist-packages/sklearn/base.py:493: FutureWarning: The feature names should match those that were passed during fit. Starting version 1.2, an error will be raised.\n",
            "Feature names seen at fit time, yet now missing:\n",
            "- seasonalitycommonfourier_26\n",
            "- seasonalitycommonfourier_27\n",
            "- seasonalitycommonfourier_28\n",
            "- seasonalitycommonfourier_29\n",
            "- seasonalitycommonfourier_30\n",
            "- ...\n",
            "\n",
            "  warnings.warn(message, FutureWarning)\n"
          ]
        },
        {
          "output_type": "stream",
          "name": "stdout",
          "text": [
            "Model Number: 106 with model MetricMotif in generation 0 of 10\n",
            "Model Number: 107 with model SectionalMotif in generation 0 of 10\n",
            "Model Number: 108 with model SeasonalNaive in generation 0 of 10\n",
            "Model Number: 109 with model MetricMotif in generation 0 of 10\n",
            "Template Eval Error: TypeError(\"'NoneType' object is not subscriptable\") in model 109: MetricMotif\n",
            "Model Number: 110 with model UnivariateMotif in generation 0 of 10\n",
            "Model Number: 111 with model VAR in generation 0 of 10\n",
            "Template Eval Error: ValueError('Only gave one variable to VAR') in model 111: VAR\n",
            "Model Number: 112 with model UnivariateMotif in generation 0 of 10\n",
            "Model Number: 113 with model ETS in generation 0 of 10\n",
            "ETS failed on Close with ValueError('operands could not be broadcast together with shapes (89,) (364,) ')\n",
            "Model Number: 114 with model SectionalMotif in generation 0 of 10\n",
            "Model Number: 115 with model LastValueNaive in generation 0 of 10\n",
            "Model Number: 116 with model SeasonalNaive in generation 0 of 10\n",
            "Model Number: 117 with model UnivariateMotif in generation 0 of 10\n",
            "Model Number: 118 with model UnivariateMotif in generation 0 of 10\n",
            "Model Number: 119 with model NVAR in generation 0 of 10\n",
            "Model Number: 120 with model GLM in generation 0 of 10\n",
            "Template Eval Error: ValueError('The first guess on the deviance function returned a nan.  This could be a boundary  problem and should be reported.') in model 120: GLM\n",
            "Model Number: 121 with model WindowRegression in generation 0 of 10\n"
          ]
        },
        {
          "output_type": "stream",
          "name": "stderr",
          "text": [
            "/usr/local/lib/python3.7/dist-packages/statsmodels/genmod/families/family.py:1231: RuntimeWarning: invalid value encountered in log\n",
            "  resid_dev -= endog_alpha * np.log(endog_alpha / mu_alpha)\n"
          ]
        },
        {
          "output_type": "stream",
          "name": "stdout",
          "text": [
            "Model Number: 122 with model ARCH in generation 0 of 10\n",
            "Template Eval Error: ImportError('`arch` package must be installed from pip') in model 122: ARCH\n",
            "Model Number: 123 with model UnivariateRegression in generation 0 of 10\n",
            "Model Number: 124 with model ConstantNaive in generation 0 of 10\n",
            "Model Number: 125 with model DatepartRegression in generation 0 of 10\n",
            "Model Number: 126 with model GLM in generation 0 of 10\n",
            "Template Eval Error: ValueError('regression_type=user and no future_regressor passed') in model 126: GLM\n",
            "Model Number: 127 with model ARDL in generation 0 of 10\n",
            "Template Eval Error: ValueError(\"regression_type='User' but future_regressor not supplied\") in model 127: ARDL\n",
            "Model Number: 128 with model SectionalMotif in generation 0 of 10\n"
          ]
        },
        {
          "output_type": "stream",
          "name": "stderr",
          "text": [
            "/usr/local/lib/python3.7/dist-packages/sklearn/svm/_base.py:1208: ConvergenceWarning: Liblinear failed to converge, increase the number of iterations.\n",
            "  ConvergenceWarning,\n",
            "/usr/local/lib/python3.7/dist-packages/sklearn/linear_model/_ridge.py:157: LinAlgWarning: Ill-conditioned matrix (rcond=2.35621e-25): result may not be accurate.\n",
            "  return linalg.solve(A, Xy, sym_pos=True, overwrite_a=True).T\n"
          ]
        },
        {
          "output_type": "stream",
          "name": "stdout",
          "text": [
            "Template Eval Error: ValueError(\"regression_type=='User' but no future_regressor supplied\") in model 128: SectionalMotif\n",
            "Model Number: 129 with model DatepartRegression in generation 0 of 10\n",
            "Model Number: 130 with model NVAR in generation 0 of 10\n",
            "Model Number: 131 with model SeasonalityMotif in generation 0 of 10\n"
          ]
        },
        {
          "output_type": "stream",
          "name": "stderr",
          "text": [
            "/usr/local/lib/python3.7/dist-packages/sklearn/svm/_base.py:1208: ConvergenceWarning: Liblinear failed to converge, increase the number of iterations.\n",
            "  ConvergenceWarning,\n"
          ]
        },
        {
          "output_type": "stream",
          "name": "stdout",
          "text": [
            "Model Number: 132 with model SeasonalityMotif in generation 0 of 10\n",
            "Model Number: 133 with model LastValueNaive in generation 0 of 10\n",
            "Model Number: 134 with model WindowRegression in generation 0 of 10\n",
            "Model Number: 135 with model Theta in generation 0 of 10\n"
          ]
        },
        {
          "output_type": "stream",
          "name": "stderr",
          "text": [
            "/usr/local/lib/python3.7/dist-packages/sklearn/svm/_base.py:1208: ConvergenceWarning: Liblinear failed to converge, increase the number of iterations.\n",
            "  ConvergenceWarning,\n"
          ]
        },
        {
          "output_type": "stream",
          "name": "stdout",
          "text": [
            "Model Number: 136 with model SeasonalNaive in generation 0 of 10\n",
            "Model Number: 137 with model UnobservedComponents in generation 0 of 10\n",
            "Model Number: 138 with model SeasonalityMotif in generation 0 of 10\n",
            "Model Number: 139 with model GLM in generation 0 of 10\n",
            "Template Eval Error: ValueError('NaN, inf or invalid value detected in weights, estimation infeasible.') in model 139: GLM\n",
            "Model Number: 140 with model SectionalMotif in generation 0 of 10\n",
            "Model Number: 141 with model MultivariateMotif in generation 0 of 10\n"
          ]
        },
        {
          "output_type": "stream",
          "name": "stderr",
          "text": [
            "/usr/local/lib/python3.7/dist-packages/statsmodels/genmod/families/links.py:517: RuntimeWarning: overflow encountered in exp\n",
            "  return np.exp(z)\n",
            "/usr/local/lib/python3.7/dist-packages/statsmodels/genmod/families/family.py:1227: RuntimeWarning: divide by zero encountered in true_divide\n",
            "  endog_mu = self._clean(endog / mu)\n",
            "/usr/local/lib/python3.7/dist-packages/statsmodels/genmod/families/family.py:1231: RuntimeWarning: divide by zero encountered in log\n",
            "  resid_dev -= endog_alpha * np.log(endog_alpha / mu_alpha)\n",
            "/usr/local/lib/python3.7/dist-packages/statsmodels/genmod/families/family.py:134: RuntimeWarning: invalid value encountered in multiply\n",
            "  return 1. / (self.link.deriv(mu)**2 * self.variance(mu))\n",
            "/usr/local/lib/python3.7/dist-packages/statsmodels/genmod/generalized_linear_model.py:1199: RuntimeWarning: invalid value encountered in multiply\n",
            "  - self._offset_exposure)\n"
          ]
        },
        {
          "output_type": "stream",
          "name": "stdout",
          "text": [
            "Model Number: 142 with model UnivariateRegression in generation 0 of 10\n",
            "Model Number: 143 with model GLS in generation 0 of 10\n",
            "Model Number: 144 with model UnivariateRegression in generation 0 of 10\n",
            "Template Eval Error: Exception('Transformer Detrend failed on fit') in model 144: UnivariateRegression\n",
            "Model Number: 145 with model GluonTS in generation 0 of 10\n",
            "Template Eval Error: ImportError('GluonTS installation not found or installed version is incompatible with AutoTS.') in model 145: GluonTS\n",
            "Model Number: 146 with model GLM in generation 0 of 10\n",
            "Template Eval Error: ValueError('NaN, inf or invalid value detected in weights, estimation infeasible.') in model 146: GLM\n",
            "Model Number: 147 with model ARCH in generation 0 of 10\n",
            "Template Eval Error: ImportError('`arch` package must be installed from pip') in model 147: ARCH\n",
            "Model Number: 148 with model VAR in generation 0 of 10\n",
            "Template Eval Error: ValueError('Only gave one variable to VAR') in model 148: VAR\n",
            "Model Number: 149 with model UnivariateRegression in generation 0 of 10\n",
            "Template Eval Error: ValueError(\"regression_type='User' but not future_regressor supplied.\") in model 149: UnivariateRegression\n",
            "Model Number: 150 with model MetricMotif in generation 0 of 10\n"
          ]
        },
        {
          "output_type": "stream",
          "name": "stderr",
          "text": [
            "/usr/local/lib/python3.7/dist-packages/statsmodels/genmod/families/family.py:1231: RuntimeWarning: invalid value encountered in log\n",
            "  resid_dev -= endog_alpha * np.log(endog_alpha / mu_alpha)\n",
            "/usr/local/lib/python3.7/dist-packages/statsmodels/genmod/families/links.py:517: RuntimeWarning: overflow encountered in exp\n",
            "  return np.exp(z)\n",
            "/usr/local/lib/python3.7/dist-packages/statsmodels/genmod/families/family.py:1231: RuntimeWarning: divide by zero encountered in log\n",
            "  resid_dev -= endog_alpha * np.log(endog_alpha / mu_alpha)\n",
            "/usr/local/lib/python3.7/dist-packages/numpy/core/fromnumeric.py:86: RuntimeWarning: invalid value encountered in reduce\n",
            "  return ufunc.reduce(obj, axis, dtype, out, **passkwargs)\n",
            "/usr/local/lib/python3.7/dist-packages/statsmodels/genmod/families/family.py:134: RuntimeWarning: invalid value encountered in multiply\n",
            "  return 1. / (self.link.deriv(mu)**2 * self.variance(mu))\n",
            "/usr/local/lib/python3.7/dist-packages/statsmodels/genmod/generalized_linear_model.py:1199: RuntimeWarning: invalid value encountered in multiply\n",
            "  - self._offset_exposure)\n"
          ]
        },
        {
          "output_type": "stream",
          "name": "stdout",
          "text": [
            "Model Number: 151 with model Theta in generation 0 of 10\n",
            "Model Number: 152 with model LastValueNaive in generation 0 of 10\n",
            "Model Number: 153 with model SeasonalityMotif in generation 0 of 10\n",
            "Model Number: 154 with model Theta in generation 0 of 10\n",
            "Model Number: 155 with model MultivariateMotif in generation 0 of 10\n",
            "Model Number: 156 with model FBProphet in generation 0 of 10\n",
            "Template Eval Error: ValueError(\"regression_type='User' but no future_regressor passed\") in model 156: FBProphet\n",
            "Model Number: 157 with model MetricMotif in generation 0 of 10\n",
            "Model Number: 158 with model UnobservedComponents in generation 0 of 10\n",
            "Model Number: 159 with model GLS in generation 0 of 10\n",
            "Model Number: 160 with model SectionalMotif in generation 0 of 10\n",
            "Model Number: 161 with model GLS in generation 0 of 10\n",
            "Model Number: 162 with model VECM in generation 0 of 10\n",
            "Template Eval Error: ValueError('Only gave one variable to VECM') in model 162: VECM\n",
            "Model Number: 163 with model UnivariateMotif in generation 0 of 10\n",
            "Model Number: 164 with model GluonTS in generation 0 of 10\n",
            "Template Eval Error: ImportError('GluonTS installation not found or installed version is incompatible with AutoTS.') in model 164: GluonTS\n",
            "Model Number: 165 with model SeasonalNaive in generation 0 of 10\n",
            "Model Number: 166 with model ARCH in generation 0 of 10\n",
            "Template Eval Error: ImportError('`arch` package must be installed from pip') in model 166: ARCH\n",
            "Model Number: 167 with model DatepartRegression in generation 0 of 10\n",
            "Template Eval Error: Exception('Transformer DatepartRegression failed on fit') in model 167: DatepartRegression\n",
            "Model Number: 168 with model SectionalMotif in generation 0 of 10\n",
            "Model Number: 169 with model Theta in generation 0 of 10\n",
            "Model Number: 170 with model LastValueNaive in generation 0 of 10\n",
            "Model Number: 171 with model SectionalMotif in generation 0 of 10\n",
            "Model Number: 172 with model SeasonalityMotif in generation 0 of 10\n",
            "Model Number: 173 with model GLS in generation 0 of 10\n",
            "Model Number: 174 with model DatepartRegression in generation 0 of 10\n",
            "Model Number: 175 with model ETS in generation 0 of 10\n",
            "ETS error ValueError('endog must be strictly positive when usingmultiplicative trend or seasonal components.')\n",
            "ETS failed on Close with ValueError('endog must be strictly positive when usingmultiplicative trend or seasonal components.')\n",
            "Model Number: 176 with model NVAR in generation 0 of 10\n",
            "Model Number: 177 with model Theta in generation 0 of 10\n",
            "Model Number: 178 with model NVAR in generation 0 of 10\n",
            "Model Number: 179 with model UnivariateMotif in generation 0 of 10\n",
            "Model Number: 180 with model VAR in generation 0 of 10\n",
            "Template Eval Error: ValueError('Only gave one variable to VAR') in model 180: VAR\n",
            "Model Number: 181 with model GLS in generation 0 of 10\n",
            "Model Number: 182 with model DatepartRegression in generation 0 of 10\n",
            "Template Eval Error: ValueError(\"regression_type='User' but no future_regressor passed\") in model 182: DatepartRegression\n",
            "Model Number: 183 with model GluonTS in generation 0 of 10\n",
            "Template Eval Error: ImportError('GluonTS installation not found or installed version is incompatible with AutoTS.') in model 183: GluonTS\n",
            "Model Number: 184 with model ConstantNaive in generation 0 of 10\n",
            "Model Number: 185 with model ARCH in generation 0 of 10\n",
            "Template Eval Error: ImportError('`arch` package must be installed from pip') in model 185: ARCH\n",
            "Model Number: 186 with model DatepartRegression in generation 0 of 10\n",
            "Epoch 1/50\n",
            "7/7 [==============================] - 8s 15ms/step - loss: 0.0161\n",
            "Epoch 2/50\n",
            "7/7 [==============================] - 0s 16ms/step - loss: 0.0155\n",
            "Epoch 3/50\n",
            "7/7 [==============================] - 0s 15ms/step - loss: 0.0148\n",
            "Epoch 4/50\n",
            "7/7 [==============================] - 0s 15ms/step - loss: 0.0149\n",
            "Epoch 5/50\n",
            "7/7 [==============================] - 0s 15ms/step - loss: 0.0148\n",
            "Epoch 6/50\n",
            "7/7 [==============================] - 0s 15ms/step - loss: 0.0146\n",
            "Epoch 7/50\n",
            "7/7 [==============================] - 0s 15ms/step - loss: 0.0144\n",
            "Epoch 8/50\n",
            "7/7 [==============================] - 0s 14ms/step - loss: 0.0142\n",
            "Epoch 9/50\n",
            "7/7 [==============================] - 0s 15ms/step - loss: 0.0141\n",
            "Epoch 10/50\n",
            "7/7 [==============================] - 0s 16ms/step - loss: 0.0138\n",
            "Epoch 11/50\n",
            "7/7 [==============================] - 0s 14ms/step - loss: 0.0138\n",
            "Epoch 12/50\n",
            "7/7 [==============================] - 0s 16ms/step - loss: 0.0138\n",
            "Epoch 13/50\n",
            "7/7 [==============================] - 0s 17ms/step - loss: 0.0136\n",
            "Epoch 14/50\n",
            "7/7 [==============================] - 0s 15ms/step - loss: 0.0135\n",
            "Epoch 15/50\n",
            "7/7 [==============================] - 0s 14ms/step - loss: 0.0137\n",
            "Epoch 16/50\n",
            "7/7 [==============================] - 0s 16ms/step - loss: 0.0134\n",
            "Epoch 17/50\n",
            "7/7 [==============================] - 0s 15ms/step - loss: 0.0134\n",
            "Epoch 18/50\n",
            "7/7 [==============================] - 0s 14ms/step - loss: 0.0132\n",
            "Epoch 19/50\n",
            "7/7 [==============================] - 0s 15ms/step - loss: 0.0133\n",
            "Epoch 20/50\n",
            "7/7 [==============================] - 0s 15ms/step - loss: 0.0129\n",
            "Epoch 21/50\n",
            "7/7 [==============================] - 0s 15ms/step - loss: 0.0129\n",
            "Epoch 22/50\n",
            "7/7 [==============================] - 0s 15ms/step - loss: 0.0132\n",
            "Epoch 23/50\n",
            "7/7 [==============================] - 0s 16ms/step - loss: 0.0128\n",
            "Epoch 24/50\n",
            "7/7 [==============================] - 0s 15ms/step - loss: 0.0124\n",
            "Epoch 25/50\n",
            "7/7 [==============================] - 0s 14ms/step - loss: 0.0124\n",
            "Epoch 26/50\n",
            "7/7 [==============================] - 0s 15ms/step - loss: 0.0124\n",
            "Epoch 27/50\n",
            "7/7 [==============================] - 0s 15ms/step - loss: 0.0130\n",
            "Epoch 28/50\n",
            "7/7 [==============================] - 0s 15ms/step - loss: 0.0122\n",
            "Epoch 29/50\n",
            "7/7 [==============================] - 0s 14ms/step - loss: 0.0122\n",
            "Epoch 30/50\n",
            "7/7 [==============================] - 0s 15ms/step - loss: 0.0126\n",
            "Epoch 31/50\n",
            "7/7 [==============================] - 0s 15ms/step - loss: 0.0121\n",
            "Epoch 32/50\n",
            "7/7 [==============================] - 0s 15ms/step - loss: 0.0125\n",
            "Epoch 33/50\n",
            "7/7 [==============================] - 0s 15ms/step - loss: 0.0133\n",
            "Epoch 34/50\n",
            "7/7 [==============================] - 0s 15ms/step - loss: 0.0130\n",
            "Epoch 35/50\n",
            "7/7 [==============================] - 0s 16ms/step - loss: 0.0126\n",
            "Epoch 36/50\n",
            "7/7 [==============================] - 0s 16ms/step - loss: 0.0124\n",
            "Epoch 37/50\n",
            "7/7 [==============================] - 0s 15ms/step - loss: 0.0120\n",
            "Epoch 38/50\n",
            "7/7 [==============================] - 0s 15ms/step - loss: 0.0121\n",
            "Epoch 39/50\n",
            "7/7 [==============================] - 0s 15ms/step - loss: 0.0119\n",
            "Epoch 40/50\n",
            "7/7 [==============================] - 0s 15ms/step - loss: 0.0119\n",
            "Epoch 41/50\n",
            "7/7 [==============================] - 0s 15ms/step - loss: 0.0119\n",
            "Epoch 42/50\n",
            "7/7 [==============================] - 0s 15ms/step - loss: 0.0121\n",
            "Epoch 43/50\n",
            "7/7 [==============================] - 0s 15ms/step - loss: 0.0121\n",
            "Epoch 44/50\n",
            "7/7 [==============================] - 0s 16ms/step - loss: 0.0126\n",
            "Epoch 45/50\n",
            "7/7 [==============================] - 0s 15ms/step - loss: 0.0125\n",
            "Epoch 46/50\n",
            "7/7 [==============================] - 0s 15ms/step - loss: 0.0124\n",
            "Epoch 47/50\n",
            "7/7 [==============================] - 0s 16ms/step - loss: 0.0118\n",
            "Epoch 48/50\n",
            "7/7 [==============================] - 0s 15ms/step - loss: 0.0119\n",
            "Epoch 49/50\n",
            "7/7 [==============================] - 0s 16ms/step - loss: 0.0117\n",
            "Epoch 50/50\n",
            "7/7 [==============================] - 0s 16ms/step - loss: 0.0117\n",
            "1/1 [==============================] - 1s 1s/step\n",
            "Model Number: 187 with model Theta in generation 0 of 10\n",
            "Model Number: 188 with model SeasonalNaive in generation 0 of 10\n",
            "Model Number: 189 with model SectionalMotif in generation 0 of 10\n",
            "Model Number: 190 with model SeasonalNaive in generation 0 of 10\n",
            "Model Number: 191 with model SeasonalityMotif in generation 0 of 10\n",
            "Model Number: 192 with model GLM in generation 0 of 10\n",
            "Model Number: 193 with model UnobservedComponents in generation 0 of 10\n",
            "New Generation: 1 of 10\n",
            "Model Number: 194 with model GLM in generation 1 of 10\n",
            "Model Number: 195 with model MultivariateMotif in generation 1 of 10\n",
            "Model Number: 196 with model NVAR in generation 1 of 10\n",
            "Model Number: 197 with model MultivariateRegression in generation 1 of 10\n"
          ]
        },
        {
          "output_type": "stream",
          "name": "stderr",
          "text": [
            "[Parallel(n_jobs=-2)]: Using backend SequentialBackend with 1 concurrent workers.\n"
          ]
        },
        {
          "output_type": "stream",
          "name": "stdout",
          "text": [
            "Model Number: 198 with model NVAR in generation 1 of 10\n"
          ]
        },
        {
          "output_type": "stream",
          "name": "stderr",
          "text": [
            "[Parallel(n_jobs=-2)]: Done 200 out of 200 | elapsed:    0.6s finished\n",
            "[Parallel(n_jobs=1)]: Using backend SequentialBackend with 1 concurrent workers.\n",
            "[Parallel(n_jobs=1)]: Done 200 out of 200 | elapsed:    0.0s finished\n",
            "[Parallel(n_jobs=1)]: Using backend SequentialBackend with 1 concurrent workers.\n",
            "[Parallel(n_jobs=1)]: Done 200 out of 200 | elapsed:    0.0s finished\n",
            "[Parallel(n_jobs=1)]: Using backend SequentialBackend with 1 concurrent workers.\n",
            "[Parallel(n_jobs=1)]: Done 200 out of 200 | elapsed:    0.0s finished\n"
          ]
        },
        {
          "output_type": "stream",
          "name": "stdout",
          "text": [
            "Model Number: 199 with model DatepartRegression in generation 1 of 10\n",
            "Model Number: 200 with model ARIMA in generation 1 of 10\n",
            "Model Number: 201 with model AverageValueNaive in generation 1 of 10\n",
            "Model Number: 202 with model ConstantNaive in generation 1 of 10\n",
            "Model Number: 203 with model MetricMotif in generation 1 of 10\n",
            "Model Number: 204 with model NVAR in generation 1 of 10\n",
            "Model Number: 205 with model LastValueNaive in generation 1 of 10\n",
            "Model Number: 206 with model SeasonalNaive in generation 1 of 10\n",
            "Model Number: 207 with model MetricMotif in generation 1 of 10\n",
            "Model Number: 208 with model GLS in generation 1 of 10\n",
            "Model Number: 209 with model ARIMA in generation 1 of 10\n",
            "Model Number: 210 with model SeasonalNaive in generation 1 of 10\n",
            "Model Number: 211 with model UnivariateRegression in generation 1 of 10\n",
            "Model Number: 212 with model MultivariateMotif in generation 1 of 10\n",
            "Model Number: 213 with model UnobservedComponents in generation 1 of 10\n",
            "Model Number: 214 with model SectionalMotif in generation 1 of 10\n",
            "Model Number: 215 with model ETS in generation 1 of 10\n",
            "Model Number: 216 with model Theta in generation 1 of 10\n",
            "Model Number: 217 with model UnobservedComponents in generation 1 of 10\n",
            "Model Number: 218 with model LastValueNaive in generation 1 of 10\n",
            "Model Number: 219 with model SeasonalNaive in generation 1 of 10\n",
            "Model Number: 220 with model MultivariateRegression in generation 1 of 10\n"
          ]
        },
        {
          "output_type": "stream",
          "name": "stderr",
          "text": [
            "[Parallel(n_jobs=-2)]: Using backend SequentialBackend with 1 concurrent workers.\n"
          ]
        },
        {
          "output_type": "stream",
          "name": "stdout",
          "text": [
            "Model Number: 221 with model UnivariateMotif in generation 1 of 10\n"
          ]
        },
        {
          "output_type": "stream",
          "name": "stderr",
          "text": [
            "[Parallel(n_jobs=-2)]: Done 200 out of 200 | elapsed:    0.5s finished\n",
            "[Parallel(n_jobs=1)]: Using backend SequentialBackend with 1 concurrent workers.\n",
            "[Parallel(n_jobs=1)]: Done 200 out of 200 | elapsed:    0.0s finished\n",
            "[Parallel(n_jobs=1)]: Using backend SequentialBackend with 1 concurrent workers.\n",
            "[Parallel(n_jobs=1)]: Done 200 out of 200 | elapsed:    0.0s finished\n",
            "[Parallel(n_jobs=1)]: Using backend SequentialBackend with 1 concurrent workers.\n",
            "[Parallel(n_jobs=1)]: Done 200 out of 200 | elapsed:    0.0s finished\n"
          ]
        },
        {
          "output_type": "stream",
          "name": "stdout",
          "text": [
            "Model Number: 222 with model LastValueNaive in generation 1 of 10\n",
            "Model Number: 223 with model Theta in generation 1 of 10\n",
            "Model Number: 224 with model SeasonalityMotif in generation 1 of 10\n",
            "Model Number: 225 with model SeasonalNaive in generation 1 of 10\n",
            "Model Number: 226 with model ETS in generation 1 of 10\n",
            "ETS error ValueError('endog must be strictly positive when usingmultiplicative trend or seasonal components.')\n",
            "ETS failed on Close with ValueError('endog must be strictly positive when usingmultiplicative trend or seasonal components.')\n",
            "Model Number: 227 with model DatepartRegression in generation 1 of 10\n"
          ]
        },
        {
          "output_type": "stream",
          "name": "stderr",
          "text": [
            "[Parallel(n_jobs=-2)]: Using backend SequentialBackend with 1 concurrent workers.\n",
            "[Parallel(n_jobs=-2)]: Done 100 out of 100 | elapsed:    0.2s finished\n"
          ]
        },
        {
          "output_type": "stream",
          "name": "stdout",
          "text": [
            "Model Number: 228 with model LastValueNaive in generation 1 of 10\n",
            "Model Number: 229 with model MetricMotif in generation 1 of 10\n"
          ]
        },
        {
          "output_type": "stream",
          "name": "stderr",
          "text": [
            "[Parallel(n_jobs=1)]: Using backend SequentialBackend with 1 concurrent workers.\n",
            "[Parallel(n_jobs=1)]: Done 100 out of 100 | elapsed:    0.0s finished\n"
          ]
        },
        {
          "output_type": "stream",
          "name": "stdout",
          "text": [
            "Model Number: 230 with model UnivariateMotif in generation 1 of 10\n",
            "Model Number: 231 with model MultivariateRegression in generation 1 of 10\n",
            "Model Number: 232 with model DatepartRegression in generation 1 of 10\n"
          ]
        },
        {
          "output_type": "stream",
          "name": "stderr",
          "text": [
            "[Parallel(n_jobs=-2)]: Using backend SequentialBackend with 1 concurrent workers.\n",
            "[Parallel(n_jobs=-2)]: Done 100 out of 100 | elapsed:    0.2s finished\n",
            "[Parallel(n_jobs=1)]: Using backend SequentialBackend with 1 concurrent workers.\n",
            "[Parallel(n_jobs=1)]: Done 100 out of 100 | elapsed:    0.0s finished\n"
          ]
        },
        {
          "output_type": "stream",
          "name": "stdout",
          "text": [
            "Model Number: 233 with model DatepartRegression in generation 1 of 10\n",
            "Epoch 1/100\n",
            "8/8 [==============================] - 6s 228ms/step - loss: 129782.8750 - val_loss: 1937.1494\n",
            "Epoch 2/100\n",
            "8/8 [==============================] - 1s 170ms/step - loss: 123076.5859 - val_loss: 4685.2261\n",
            "Epoch 3/100\n",
            "8/8 [==============================] - 1s 171ms/step - loss: 116857.5391 - val_loss: 4530.4492\n",
            "Epoch 4/100\n",
            "8/8 [==============================] - 1s 172ms/step - loss: 100267.7344 - val_loss: 23806.9980\n",
            "Epoch 5/100\n",
            "8/8 [==============================] - 1s 170ms/step - loss: 109073.7734 - val_loss: 21498.3145\n",
            "Epoch 6/100\n",
            "8/8 [==============================] - 1s 172ms/step - loss: 98268.4375 - val_loss: 3989.0464\n",
            "Epoch 7/100\n",
            "8/8 [==============================] - 1s 174ms/step - loss: 97234.5469 - val_loss: 1268.9386\n",
            "Epoch 8/100\n",
            "8/8 [==============================] - 1s 169ms/step - loss: 97378.6094 - val_loss: 7573.4829\n",
            "Epoch 9/100\n",
            "8/8 [==============================] - 1s 172ms/step - loss: 94899.0938 - val_loss: 27632.7578\n",
            "Epoch 10/100\n",
            "8/8 [==============================] - 1s 171ms/step - loss: 95112.1953 - val_loss: 8991.6377\n",
            "Epoch 11/100\n",
            "8/8 [==============================] - 1s 163ms/step - loss: 81429.1328 - val_loss: 4481.8237\n",
            "Epoch 12/100\n",
            "8/8 [==============================] - 1s 166ms/step - loss: 86411.1562 - val_loss: 1126.2185\n",
            "Epoch 13/100\n",
            "8/8 [==============================] - 1s 163ms/step - loss: 72647.6797 - val_loss: 11425.9512\n",
            "Epoch 14/100\n",
            "8/8 [==============================] - 1s 165ms/step - loss: 71440.8516 - val_loss: 15720.5566\n",
            "Epoch 15/100\n",
            "8/8 [==============================] - 1s 162ms/step - loss: 79195.7578 - val_loss: 2267.2610\n",
            "Epoch 16/100\n",
            "8/8 [==============================] - 1s 167ms/step - loss: 68960.5547 - val_loss: 2771.8533\n",
            "Epoch 17/100\n",
            "8/8 [==============================] - 1s 161ms/step - loss: 60985.6250 - val_loss: 16005.6992\n",
            "Epoch 18/100\n",
            "8/8 [==============================] - 1s 161ms/step - loss: 59534.9336 - val_loss: 14454.9863\n",
            "Epoch 19/100\n",
            "8/8 [==============================] - 1s 162ms/step - loss: 59302.0664 - val_loss: 2480.5479\n",
            "Epoch 20/100\n",
            "8/8 [==============================] - 1s 163ms/step - loss: 69889.1484 - val_loss: 13843.6191\n",
            "Epoch 21/100\n",
            "8/8 [==============================] - 1s 160ms/step - loss: 59915.2930 - val_loss: 1639.0350\n",
            "Epoch 22/100\n",
            "8/8 [==============================] - 1s 160ms/step - loss: 52062.6133 - val_loss: 26847.9023\n",
            "1/1 [==============================] - 0s 292ms/step\n",
            "Template Eval Error: ValueError('Model DatepartRegression returned NaN for one or more series. fail_on_forecast_nan=True') in model 233: DatepartRegression\n",
            "Model Number: 234 with model LastValueNaive in generation 1 of 10\n",
            "Model Number: 235 with model UnobservedComponents in generation 1 of 10\n",
            "Model Number: 236 with model UnivariateMotif in generation 1 of 10\n",
            "Model Number: 237 with model NVAR in generation 1 of 10\n",
            "Model Number: 238 with model UnobservedComponents in generation 1 of 10\n",
            "Model Number: 239 with model NVAR in generation 1 of 10\n",
            "Model Number: 240 with model SeasonalNaive in generation 1 of 10\n",
            "Model Number: 241 with model SeasonalityMotif in generation 1 of 10\n",
            "Model Number: 242 with model ETS in generation 1 of 10\n",
            "Model Number: 243 with model GLM in generation 1 of 10\n",
            "Template Eval Error: ValueError('regression_type=user and no future_regressor passed') in model 243: GLM\n",
            "Model Number: 244 with model MetricMotif in generation 1 of 10\n",
            "Model Number: 245 with model SeasonalityMotif in generation 1 of 10\n",
            "Model Number: 246 with model UnivariateRegression in generation 1 of 10\n",
            "Template Eval Error: ValueError(\"regression_type='User' but not future_regressor supplied.\") in model 246: UnivariateRegression\n",
            "Model Number: 247 with model WindowRegression in generation 1 of 10\n",
            "Template Eval Error: ValueError(\"regression_type='User' but no future_regressor passed\") in model 247: WindowRegression\n",
            "Model Number: 248 with model FBProphet in generation 1 of 10\n"
          ]
        },
        {
          "output_type": "stream",
          "name": "stderr",
          "text": [
            "INFO:prophet:Disabling yearly seasonality. Run prophet with yearly_seasonality=True to override this.\n",
            "INFO:prophet:Disabling daily seasonality. Run prophet with daily_seasonality=True to override this.\n",
            "DEBUG:cmdstanpy:input tempfile: /tmp/tmpkpj4r36s/kgwe7xmg.json\n",
            "DEBUG:cmdstanpy:input tempfile: /tmp/tmpkpj4r36s/0arjou0w.json\n",
            "DEBUG:cmdstanpy:idx 0\n",
            "DEBUG:cmdstanpy:running CmdStan, num_threads: None\n",
            "DEBUG:cmdstanpy:CmdStan args: ['/usr/local/lib/python3.7/dist-packages/prophet/stan_model/prophet_model.bin', 'random', 'seed=37104', 'data', 'file=/tmp/tmpkpj4r36s/kgwe7xmg.json', 'init=/tmp/tmpkpj4r36s/0arjou0w.json', 'output', 'file=/tmp/tmpkpj4r36s/prophet_modelm6vk6183/prophet_model-20221121074702.csv', 'method=optimize', 'algorithm=lbfgs', 'iter=10000']\n",
            "07:47:02 - cmdstanpy - INFO - Chain [1] start processing\n",
            "INFO:cmdstanpy:Chain [1] start processing\n",
            "07:47:02 - cmdstanpy - INFO - Chain [1] done processing\n",
            "INFO:cmdstanpy:Chain [1] done processing\n"
          ]
        },
        {
          "output_type": "stream",
          "name": "stdout",
          "text": [
            "Model Number: 249 with model UnobservedComponents in generation 1 of 10\n",
            "Model Number: 250 with model LastValueNaive in generation 1 of 10\n",
            "Model Number: 251 with model ARIMA in generation 1 of 10\n",
            "Model Number: 252 with model ETS in generation 1 of 10\n",
            "Model Number: 253 with model GLS in generation 1 of 10\n",
            "Model Number: 254 with model LastValueNaive in generation 1 of 10\n",
            "Model Number: 255 with model SeasonalNaive in generation 1 of 10\n",
            "Model Number: 256 with model MultivariateRegression in generation 1 of 10\n",
            "Model Number: 257 with model UnivariateRegression in generation 1 of 10\n",
            "Template Eval Error: ValueError(\"regression_type='User' but not future_regressor supplied.\") in model 257: UnivariateRegression\n",
            "Model Number: 258 with model LastValueNaive in generation 1 of 10\n",
            "Template Eval Error: Exception('Transformer HolidayTransformer failed on fit') in model 258: LastValueNaive\n",
            "Model Number: 259 with model MetricMotif in generation 1 of 10\n",
            "Model Number: 260 with model MultivariateRegression in generation 1 of 10\n",
            "Model Number: 261 with model GLS in generation 1 of 10\n",
            "Model Number: 262 with model UnobservedComponents in generation 1 of 10\n",
            "Model Number: 263 with model ARIMA in generation 1 of 10\n",
            "Model Number: 264 with model NVAR in generation 1 of 10\n",
            "Model Number: 265 with model SeasonalNaive in generation 1 of 10\n",
            "Model Number: 266 with model ETS in generation 1 of 10\n",
            "Model Number: 267 with model Theta in generation 1 of 10\n",
            "Model Number: 268 with model SeasonalityMotif in generation 1 of 10\n",
            "Model Number: 269 with model WindowRegression in generation 1 of 10\n",
            "Model Number: 270 with model UnobservedComponents in generation 1 of 10\n",
            "Model Number: 271 with model NVAR in generation 1 of 10\n",
            "Model Number: 272 with model Theta in generation 1 of 10\n",
            "Model Number: 273 with model DatepartRegression in generation 1 of 10\n",
            "Model Number: 274 with model MetricMotif in generation 1 of 10\n",
            "Model Number: 275 with model SeasonalityMotif in generation 1 of 10\n",
            "Model Number: 276 with model DatepartRegression in generation 1 of 10\n",
            "Model Number: 277 with model ConstantNaive in generation 1 of 10\n",
            "Model Number: 278 with model ETS in generation 1 of 10\n",
            "Model Number: 279 with model GLS in generation 1 of 10\n",
            "Model Number: 280 with model SeasonalityMotif in generation 1 of 10\n",
            "Model Number: 281 with model NVAR in generation 1 of 10\n",
            "Template Eval Error: Exception('Transformer BTCD failed on fit') in model 281: NVAR\n",
            "Model Number: 282 with model UnobservedComponents in generation 1 of 10\n",
            "Model Number: 283 with model ETS in generation 1 of 10\n",
            "Model Number: 284 with model MetricMotif in generation 1 of 10\n",
            "Model Number: 285 with model NVAR in generation 1 of 10\n",
            "Template Eval Error: Exception('Transformer BTCD failed on fit') in model 285: NVAR\n",
            "Model Number: 286 with model UnivariateRegression in generation 1 of 10\n",
            "Template Eval Error: ValueError(\"regression_type='User' but not future_regressor supplied.\") in model 286: UnivariateRegression\n",
            "Model Number: 287 with model LastValueNaive in generation 1 of 10\n",
            "Model Number: 288 with model MetricMotif in generation 1 of 10\n",
            "Model Number: 289 with model Theta in generation 1 of 10\n",
            "Model Number: 290 with model Theta in generation 1 of 10\n",
            "Model Number: 291 with model DatepartRegression in generation 1 of 10\n",
            "Model Number: 292 with model AverageValueNaive in generation 1 of 10\n",
            "Model Number: 293 with model FBProphet in generation 1 of 10\n",
            "Template Eval Error: Exception('Transformer Cointegration failed on fit') in model 293: FBProphet\n",
            "Model Number: 294 with model DatepartRegression in generation 1 of 10\n",
            "Template Eval Error: ValueError(\"regression_type='User' but no future_regressor passed\") in model 294: DatepartRegression\n",
            "Model Number: 295 with model SectionalMotif in generation 1 of 10\n",
            "Model Number: 296 with model DatepartRegression in generation 1 of 10\n",
            "Template Eval Error: ValueError(\"regression_type='User' but no future_regressor passed\") in model 296: DatepartRegression\n",
            "Model Number: 297 with model LastValueNaive in generation 1 of 10\n",
            "Model Number: 298 with model SeasonalityMotif in generation 1 of 10\n",
            "Model Number: 299 with model ConstantNaive in generation 1 of 10\n",
            "Model Number: 300 with model NVAR in generation 1 of 10\n",
            "Model Number: 301 with model Theta in generation 1 of 10\n",
            "Model Number: 302 with model Theta in generation 1 of 10\n",
            "Model Number: 303 with model WindowRegression in generation 1 of 10\n",
            "Model Number: 304 with model SectionalMotif in generation 1 of 10\n",
            "Model Number: 305 with model DatepartRegression in generation 1 of 10\n",
            "Template Eval Error: ValueError(\"regression_type='User' but no future_regressor passed\") in model 305: DatepartRegression\n",
            "Model Number: 306 with model DatepartRegression in generation 1 of 10\n"
          ]
        },
        {
          "output_type": "stream",
          "name": "stderr",
          "text": [
            "[Parallel(n_jobs=-2)]: Using backend SequentialBackend with 1 concurrent workers.\n"
          ]
        },
        {
          "output_type": "stream",
          "name": "stdout",
          "text": [
            "Model Number: 307 with model GLS in generation 1 of 10\n"
          ]
        },
        {
          "output_type": "stream",
          "name": "stderr",
          "text": [
            "[Parallel(n_jobs=-2)]: Done 100 out of 100 | elapsed:    0.2s finished\n",
            "[Parallel(n_jobs=1)]: Using backend SequentialBackend with 1 concurrent workers.\n",
            "[Parallel(n_jobs=1)]: Done 100 out of 100 | elapsed:    0.0s finished\n"
          ]
        },
        {
          "output_type": "stream",
          "name": "stdout",
          "text": [
            "Model Number: 308 with model WindowRegression in generation 1 of 10\n",
            "Template Eval Error: ValueError(\"regression_type='User' but no future_regressor passed\") in model 308: WindowRegression\n",
            "Model Number: 309 with model ARIMA in generation 1 of 10\n",
            "Model Number: 310 with model DatepartRegression in generation 1 of 10\n",
            "Epoch 1/200\n",
            "6/6 [==============================] - 9s 262ms/step - loss: 412241.7812 - val_loss: 43048.3555\n",
            "Epoch 2/200\n",
            "6/6 [==============================] - 1s 143ms/step - loss: 363629.9375 - val_loss: 20631.8398\n",
            "Epoch 3/200\n",
            "6/6 [==============================] - 1s 144ms/step - loss: 351282.5000 - val_loss: 60195.7656\n",
            "Epoch 4/200\n",
            "6/6 [==============================] - 1s 141ms/step - loss: 336273.5625 - val_loss: 64470.0664\n",
            "Epoch 5/200\n",
            "6/6 [==============================] - 1s 140ms/step - loss: 313018.0625 - val_loss: 36266.9336\n",
            "Epoch 6/200\n",
            "6/6 [==============================] - 1s 144ms/step - loss: 287862.3750 - val_loss: 24277.0684\n",
            "Epoch 7/200\n",
            "6/6 [==============================] - 1s 147ms/step - loss: 294927.9375 - val_loss: 49717.6172\n",
            "Epoch 8/200\n",
            "6/6 [==============================] - 1s 148ms/step - loss: 286881.5000 - val_loss: 41924.6602\n",
            "Epoch 9/200\n",
            "6/6 [==============================] - 1s 144ms/step - loss: 260454.0625 - val_loss: 22322.9844\n",
            "Epoch 10/200\n",
            "6/6 [==============================] - 1s 146ms/step - loss: 265444.6250 - val_loss: 29855.9609\n",
            "Epoch 11/200\n",
            "6/6 [==============================] - 1s 141ms/step - loss: 234130.7031 - val_loss: 24789.8027\n",
            "Epoch 12/200\n",
            "6/6 [==============================] - 1s 141ms/step - loss: 223648.7969 - val_loss: 13247.7842\n",
            "Epoch 13/200\n",
            "6/6 [==============================] - 1s 146ms/step - loss: 230347.0781 - val_loss: 18301.3398\n",
            "Epoch 14/200\n",
            "6/6 [==============================] - 1s 147ms/step - loss: 202649.4844 - val_loss: 8499.3105\n",
            "Epoch 15/200\n",
            "6/6 [==============================] - 1s 148ms/step - loss: 190196.5781 - val_loss: 8209.9854\n",
            "Epoch 16/200\n",
            "6/6 [==============================] - 1s 140ms/step - loss: 199294.3438 - val_loss: 14609.7305\n",
            "Epoch 17/200\n",
            "6/6 [==============================] - 1s 146ms/step - loss: 186955.3125 - val_loss: 7627.9390\n",
            "Epoch 18/200\n",
            "6/6 [==============================] - 1s 144ms/step - loss: 160720.8125 - val_loss: 598.9447\n",
            "Epoch 19/200\n",
            "6/6 [==============================] - 1s 142ms/step - loss: 160437.3906 - val_loss: 17849.0078\n",
            "Epoch 20/200\n",
            "6/6 [==============================] - 1s 143ms/step - loss: 139859.0312 - val_loss: 17566.2305\n",
            "Epoch 21/200\n",
            "6/6 [==============================] - 1s 144ms/step - loss: 149261.6406 - val_loss: 9640.0518\n",
            "Epoch 22/200\n",
            "6/6 [==============================] - 1s 140ms/step - loss: 129805.3906 - val_loss: 15463.8916\n",
            "Epoch 23/200\n",
            "6/6 [==============================] - 1s 139ms/step - loss: 117095.3125 - val_loss: 1681.9725\n",
            "Epoch 24/200\n",
            "6/6 [==============================] - 1s 138ms/step - loss: 115530.1094 - val_loss: 7000.2495\n",
            "Epoch 25/200\n",
            "6/6 [==============================] - 1s 143ms/step - loss: 105412.8516 - val_loss: 10410.4932\n",
            "Epoch 26/200\n",
            "6/6 [==============================] - 1s 146ms/step - loss: 91125.3047 - val_loss: 4725.8594\n",
            "Epoch 27/200\n",
            "6/6 [==============================] - 1s 143ms/step - loss: 89410.3516 - val_loss: 8697.3203\n",
            "Epoch 28/200\n",
            "6/6 [==============================] - 1s 147ms/step - loss: 77426.0469 - val_loss: 20873.1543\n",
            "1/1 [==============================] - 1s 500ms/step\n",
            "Template Eval Error: ValueError('Model DatepartRegression returned NaN for one or more series. fail_on_forecast_nan=True') in model 310: DatepartRegression\n",
            "Model Number: 311 with model WindowRegression in generation 1 of 10\n",
            "Model Number: 312 with model WindowRegression in generation 1 of 10\n",
            "Template Eval Error: Exception('Transformer DatepartRegression failed on fit') in model 312: WindowRegression\n",
            "Model Number: 313 with model UnivariateMotif in generation 1 of 10\n",
            "Model Number: 314 with model Theta in generation 1 of 10\n",
            "Model Number: 315 with model MetricMotif in generation 1 of 10\n",
            "Model Number: 316 with model ETS in generation 1 of 10\n",
            "Model Number: 317 with model MultivariateMotif in generation 1 of 10\n",
            "Model Number: 318 with model ARIMA in generation 1 of 10\n",
            "Model Number: 319 with model AverageValueNaive in generation 1 of 10\n",
            "Model Number: 320 with model LastValueNaive in generation 1 of 10\n",
            "Model Number: 321 with model LastValueNaive in generation 1 of 10\n",
            "Model Number: 322 with model DatepartRegression in generation 1 of 10\n",
            "Model Number: 323 with model SeasonalityMotif in generation 1 of 10\n",
            "New Generation: 2 of 10\n",
            "Model Number: 324 with model SeasonalityMotif in generation 2 of 10\n",
            "Model Number: 325 with model ConstantNaive in generation 2 of 10\n",
            "Template Eval Error: Exception('Transformer Cointegration failed on fit') in model 325: ConstantNaive\n",
            "Model Number: 326 with model UnobservedComponents in generation 2 of 10\n",
            "Model Number: 327 with model ConstantNaive in generation 2 of 10\n",
            "Model Number: 328 with model DatepartRegression in generation 2 of 10\n",
            "Model Number: 329 with model GLS in generation 2 of 10\n",
            "Model Number: 330 with model LastValueNaive in generation 2 of 10\n",
            "Model Number: 331 with model ARIMA in generation 2 of 10\n",
            "Template Eval Error: ValueError(\"regression_type='User' but future_regressor not supplied\") in model 331: ARIMA\n",
            "Model Number: 332 with model NVAR in generation 2 of 10\n",
            "Model Number: 333 with model SeasonalityMotif in generation 2 of 10\n",
            "Model Number: 334 with model DatepartRegression in generation 2 of 10\n",
            "Model Number: 335 with model MultivariateMotif in generation 2 of 10\n",
            "Model Number: 336 with model WindowRegression in generation 2 of 10\n"
          ]
        },
        {
          "output_type": "stream",
          "name": "stderr",
          "text": [
            "/usr/local/lib/python3.7/dist-packages/sklearn/svm/_base.py:1208: ConvergenceWarning: Liblinear failed to converge, increase the number of iterations.\n",
            "  ConvergenceWarning,\n"
          ]
        },
        {
          "output_type": "stream",
          "name": "stdout",
          "text": [
            "Model Number: 337 with model LastValueNaive in generation 2 of 10\n",
            "Model Number: 338 with model GLS in generation 2 of 10\n",
            "Model Number: 339 with model LastValueNaive in generation 2 of 10\n",
            "Model Number: 340 with model AverageValueNaive in generation 2 of 10\n",
            "Model Number: 341 with model UnobservedComponents in generation 2 of 10\n",
            "Model Number: 342 with model WindowRegression in generation 2 of 10\n",
            "Model Number: 343 with model MetricMotif in generation 2 of 10\n",
            "Model Number: 344 with model ARIMA in generation 2 of 10\n",
            "Model Number: 345 with model WindowRegression in generation 2 of 10\n",
            "Model Number: 346 with model UnivariateMotif in generation 2 of 10\n",
            "Model Number: 347 with model Theta in generation 2 of 10\n",
            "Model Number: 348 with model ConstantNaive in generation 2 of 10\n",
            "Model Number: 349 with model UnobservedComponents in generation 2 of 10\n",
            "Model Number: 350 with model LastValueNaive in generation 2 of 10\n",
            "Model Number: 351 with model SeasonalityMotif in generation 2 of 10\n",
            "Model Number: 352 with model MetricMotif in generation 2 of 10\n",
            "Model Number: 353 with model LastValueNaive in generation 2 of 10\n",
            "Model Number: 354 with model SeasonalNaive in generation 2 of 10\n",
            "Model Number: 355 with model ARIMA in generation 2 of 10\n",
            "Model Number: 356 with model MultivariateMotif in generation 2 of 10\n",
            "Model Number: 357 with model WindowRegression in generation 2 of 10\n",
            "Model Number: 358 with model MultivariateRegression in generation 2 of 10\n",
            "Template Eval Error: ValueError(\"regression_type='User' but not future_regressor supplied.\") in model 358: MultivariateRegression\n",
            "Model Number: 359 with model LastValueNaive in generation 2 of 10\n",
            "Model Number: 360 with model LastValueNaive in generation 2 of 10\n",
            "Model Number: 361 with model ETS in generation 2 of 10\n",
            "Model Number: 362 with model MultivariateRegression in generation 2 of 10\n",
            "Template Eval Error: Exception('Transformer Detrend failed on fit') in model 362: MultivariateRegression\n",
            "Model Number: 363 with model UnobservedComponents in generation 2 of 10\n",
            "Model Number: 364 with model ARIMA in generation 2 of 10\n",
            "Template Eval Error: ValueError(\"regression_type='User' but future_regressor not supplied\") in model 364: ARIMA\n",
            "Model Number: 365 with model ARIMA in generation 2 of 10\n",
            "Template Eval Error: Exception('Transformer BTCD failed on fit') in model 365: ARIMA\n",
            "Model Number: 366 with model WindowRegression in generation 2 of 10\n"
          ]
        },
        {
          "output_type": "stream",
          "name": "stderr",
          "text": [
            "/usr/local/lib/python3.7/dist-packages/sklearn/neural_network/_multilayer_perceptron.py:549: ConvergenceWarning: lbfgs failed to converge (status=1):\n",
            "STOP: TOTAL NO. of ITERATIONS REACHED LIMIT.\n",
            "\n",
            "Increase the number of iterations (max_iter) or scale the data as shown in:\n",
            "    https://scikit-learn.org/stable/modules/preprocessing.html\n",
            "  self.n_iter_ = _check_optimize_result(\"lbfgs\", opt_res, self.max_iter)\n"
          ]
        },
        {
          "output_type": "stream",
          "name": "stdout",
          "text": [
            "Model Number: 367 with model WindowRegression in generation 2 of 10\n",
            "Model Number: 368 with model MetricMotif in generation 2 of 10\n",
            "Model Number: 369 with model UnobservedComponents in generation 2 of 10\n",
            "Model Number: 370 with model UnobservedComponents in generation 2 of 10\n",
            "Model Number: 371 with model SeasonalNaive in generation 2 of 10\n",
            "Model Number: 372 with model DatepartRegression in generation 2 of 10\n",
            "Template Eval Error: ValueError(\"regression_type='User' but no future_regressor passed\") in model 372: DatepartRegression\n",
            "Model Number: 373 with model ETS in generation 2 of 10\n",
            "Model Number: 374 with model ConstantNaive in generation 2 of 10\n",
            "Model Number: 375 with model AverageValueNaive in generation 2 of 10\n",
            "Model Number: 376 with model SeasonalityMotif in generation 2 of 10\n",
            "Template Eval Error: Exception('Transformer Cointegration failed on fit') in model 376: SeasonalityMotif\n",
            "Model Number: 377 with model NVAR in generation 2 of 10\n",
            "Template Eval Error: Exception('Transformer BTCD failed on fit') in model 377: NVAR\n",
            "Model Number: 378 with model LastValueNaive in generation 2 of 10\n",
            "Model Number: 379 with model AverageValueNaive in generation 2 of 10\n",
            "Model Number: 380 with model LastValueNaive in generation 2 of 10\n",
            "Model Number: 381 with model ConstantNaive in generation 2 of 10\n",
            "Model Number: 382 with model ETS in generation 2 of 10\n",
            "Model Number: 383 with model SeasonalityMotif in generation 2 of 10\n",
            "Model Number: 384 with model SectionalMotif in generation 2 of 10\n",
            "Model Number: 385 with model ETS in generation 2 of 10\n",
            "Model Number: 386 with model MultivariateMotif in generation 2 of 10\n",
            "Model Number: 387 with model Theta in generation 2 of 10\n",
            "Model Number: 388 with model UnivariateMotif in generation 2 of 10\n",
            "Model Number: 389 with model NVAR in generation 2 of 10\n",
            "Model Number: 390 with model UnobservedComponents in generation 2 of 10\n",
            "Model Number: 391 with model MetricMotif in generation 2 of 10\n",
            "Model Number: 392 with model NVAR in generation 2 of 10\n",
            "Model Number: 393 with model UnivariateMotif in generation 2 of 10\n",
            "Model Number: 394 with model SeasonalNaive in generation 2 of 10\n",
            "Model Number: 395 with model MetricMotif in generation 2 of 10\n",
            "Model Number: 396 with model ARIMA in generation 2 of 10\n",
            "Model Number: 397 with model GLS in generation 2 of 10\n",
            "Model Number: 398 with model UnobservedComponents in generation 2 of 10\n",
            "Model Number: 399 with model UnivariateRegression in generation 2 of 10\n",
            "Template Eval Error: ValueError(\"Input contains NaN, infinity or a value too large for dtype('float32').\") in model 399: UnivariateRegression\n",
            "Model Number: 400 with model MultivariateRegression in generation 2 of 10\n",
            "Template Eval Error: ValueError(\"Input contains NaN, infinity or a value too large for dtype('float64').\") in model 400: MultivariateRegression\n",
            "Model Number: 401 with model MultivariateMotif in generation 2 of 10\n",
            "Model Number: 402 with model UnivariateMotif in generation 2 of 10\n"
          ]
        },
        {
          "output_type": "stream",
          "name": "stderr",
          "text": [
            "/usr/local/lib/python3.7/dist-packages/sklearn/neighbors/_regression.py:470: UserWarning: One or more samples have no neighbors within specified radius; predicting NaN.\n",
            "  warnings.warn(empty_warning_msg)\n"
          ]
        },
        {
          "output_type": "stream",
          "name": "stdout",
          "text": [
            "Model Number: 403 with model SectionalMotif in generation 2 of 10\n",
            "Model Number: 404 with model Theta in generation 2 of 10\n",
            "Model Number: 405 with model LastValueNaive in generation 2 of 10\n",
            "Model Number: 406 with model MultivariateRegression in generation 2 of 10\n",
            "Model Number: 407 with model ETS in generation 2 of 10\n",
            "Model Number: 408 with model ARIMA in generation 2 of 10\n",
            "Model Number: 409 with model NVAR in generation 2 of 10\n",
            "Model Number: 410 with model NVAR in generation 2 of 10\n",
            "Model Number: 411 with model Theta in generation 2 of 10\n",
            "Model Number: 412 with model NVAR in generation 2 of 10\n",
            "Model Number: 413 with model MultivariateRegression in generation 2 of 10\n",
            "Model Number: 414 with model ConstantNaive in generation 2 of 10\n",
            "Model Number: 415 with model Theta in generation 2 of 10\n",
            "Model Number: 416 with model SeasonalNaive in generation 2 of 10\n",
            "Model Number: 417 with model DatepartRegression in generation 2 of 10\n",
            "Template Eval Error: ValueError('Model DatepartRegression returned NaN for one or more series. fail_on_forecast_nan=True') in model 417: DatepartRegression\n",
            "Model Number: 418 with model MetricMotif in generation 2 of 10\n",
            "Model Number: 419 with model SeasonalNaive in generation 2 of 10\n",
            "Model Number: 420 with model Theta in generation 2 of 10\n"
          ]
        },
        {
          "output_type": "stream",
          "name": "stderr",
          "text": [
            "/usr/local/lib/python3.7/dist-packages/sklearn/neighbors/_regression.py:470: UserWarning: One or more samples have no neighbors within specified radius; predicting NaN.\n",
            "  warnings.warn(empty_warning_msg)\n"
          ]
        },
        {
          "output_type": "stream",
          "name": "stdout",
          "text": [
            "Model Number: 421 with model UnivariateMotif in generation 2 of 10\n",
            "Model Number: 422 with model WindowRegression in generation 2 of 10\n"
          ]
        },
        {
          "output_type": "stream",
          "name": "stderr",
          "text": [
            "/usr/local/lib/python3.7/dist-packages/xgboost/core.py:613: UserWarning: Use subset (sliced data) of np.ndarray is not recommended because it will generate extra copies and increase memory consumption\n",
            "  warnings.warn(\"Use subset (sliced data) of np.ndarray is not recommended \" +\n"
          ]
        },
        {
          "output_type": "stream",
          "name": "stdout",
          "text": [
            "Model Number: 423 with model DatepartRegression in generation 2 of 10\n",
            "Model Number: 424 with model MetricMotif in generation 2 of 10\n",
            "Model Number: 425 with model MultivariateRegression in generation 2 of 10\n",
            "Model Number: 426 with model ARIMA in generation 2 of 10\n",
            "Model Number: 427 with model MultivariateRegression in generation 2 of 10\n"
          ]
        },
        {
          "output_type": "stream",
          "name": "stderr",
          "text": [
            "[Parallel(n_jobs=-2)]: Using backend SequentialBackend with 1 concurrent workers.\n",
            "[Parallel(n_jobs=-2)]: Done 200 out of 200 | elapsed:    0.5s finished\n",
            "[Parallel(n_jobs=1)]: Using backend SequentialBackend with 1 concurrent workers.\n",
            "[Parallel(n_jobs=1)]: Done 200 out of 200 | elapsed:    0.0s finished\n",
            "[Parallel(n_jobs=1)]: Using backend SequentialBackend with 1 concurrent workers.\n",
            "[Parallel(n_jobs=1)]: Done 200 out of 200 | elapsed:    0.0s finished\n",
            "[Parallel(n_jobs=1)]: Using backend SequentialBackend with 1 concurrent workers.\n",
            "[Parallel(n_jobs=1)]: Done 200 out of 200 | elapsed:    0.0s finished\n"
          ]
        },
        {
          "output_type": "stream",
          "name": "stdout",
          "text": [
            "Model Number: 428 with model Theta in generation 2 of 10\n",
            "Model Number: 429 with model UnobservedComponents in generation 2 of 10\n",
            "Model Number: 430 with model MultivariateRegression in generation 2 of 10\n",
            "Template Eval Error: ValueError(\"regression_type='User' but not future_regressor supplied.\") in model 430: MultivariateRegression\n",
            "Model Number: 431 with model UnobservedComponents in generation 2 of 10\n",
            "Model Number: 432 with model UnobservedComponents in generation 2 of 10\n",
            "Model Number: 433 with model DatepartRegression in generation 2 of 10\n",
            "Template Eval Error: ValueError(\"regression_type='User' but no future_regressor passed\") in model 433: DatepartRegression\n",
            "Model Number: 434 with model SeasonalNaive in generation 2 of 10\n",
            "Model Number: 435 with model GLS in generation 2 of 10\n",
            "Model Number: 436 with model DatepartRegression in generation 2 of 10\n"
          ]
        },
        {
          "output_type": "stream",
          "name": "stderr",
          "text": [
            "[Parallel(n_jobs=-2)]: Using backend SequentialBackend with 1 concurrent workers.\n",
            "[Parallel(n_jobs=-2)]: Done 1000 out of 1000 | elapsed:    2.4s finished\n",
            "[Parallel(n_jobs=1)]: Using backend SequentialBackend with 1 concurrent workers.\n",
            "[Parallel(n_jobs=1)]: Done 1000 out of 1000 | elapsed:    0.1s finished\n"
          ]
        },
        {
          "output_type": "stream",
          "name": "stdout",
          "text": [
            "Model Number: 437 with model Theta in generation 2 of 10\n",
            "Model Number: 438 with model Theta in generation 2 of 10\n"
          ]
        },
        {
          "output_type": "stream",
          "name": "stderr",
          "text": [
            "/usr/local/lib/python3.7/dist-packages/sklearn/base.py:493: FutureWarning: The feature names should match those that were passed during fit. Starting version 1.2, an error will be raised.\n",
            "Feature names seen at fit time, yet now missing:\n",
            "- seasonalitycommonfourier_26\n",
            "- seasonalitycommonfourier_27\n",
            "- seasonalitycommonfourier_28\n",
            "- seasonalitycommonfourier_29\n",
            "- seasonalitycommonfourier_30\n",
            "- ...\n",
            "\n",
            "  warnings.warn(message, FutureWarning)\n"
          ]
        },
        {
          "output_type": "stream",
          "name": "stdout",
          "text": [
            "Template Eval Error: Exception('Transformer DatepartRegression failed on inverse') in model 438: Theta\n",
            "Model Number: 439 with model Theta in generation 2 of 10\n",
            "Model Number: 440 with model Theta in generation 2 of 10\n",
            "Model Number: 441 with model GLS in generation 2 of 10\n",
            "Model Number: 442 with model AverageValueNaive in generation 2 of 10\n",
            "Model Number: 443 with model UnivariateRegression in generation 2 of 10\n",
            "No anomalies detected.\n",
            "Model Number: 444 with model UnivariateMotif in generation 2 of 10\n",
            "Model Number: 445 with model MultivariateRegression in generation 2 of 10\n"
          ]
        },
        {
          "output_type": "stream",
          "name": "stderr",
          "text": [
            "[Parallel(n_jobs=-2)]: Using backend SequentialBackend with 1 concurrent workers.\n",
            "[Parallel(n_jobs=-2)]: Done 200 out of 200 | elapsed:    0.5s finished\n",
            "[Parallel(n_jobs=1)]: Using backend SequentialBackend with 1 concurrent workers.\n",
            "[Parallel(n_jobs=1)]: Done 200 out of 200 | elapsed:    0.0s finished\n",
            "[Parallel(n_jobs=1)]: Using backend SequentialBackend with 1 concurrent workers.\n",
            "[Parallel(n_jobs=1)]: Done 200 out of 200 | elapsed:    0.0s finished\n",
            "[Parallel(n_jobs=1)]: Using backend SequentialBackend with 1 concurrent workers.\n",
            "[Parallel(n_jobs=1)]: Done 200 out of 200 | elapsed:    0.0s finished\n"
          ]
        },
        {
          "output_type": "stream",
          "name": "stdout",
          "text": [
            "Model Number: 446 with model GLS in generation 2 of 10\n"
          ]
        },
        {
          "output_type": "stream",
          "name": "stderr",
          "text": [
            "INFO:prophet:Disabling yearly seasonality. Run prophet with yearly_seasonality=True to override this.\n",
            "INFO:prophet:Disabling daily seasonality. Run prophet with daily_seasonality=True to override this.\n",
            "DEBUG:cmdstanpy:input tempfile: /tmp/tmpkpj4r36s/cjrj7u6a.json\n",
            "DEBUG:cmdstanpy:input tempfile: /tmp/tmpkpj4r36s/mch8t6f9.json\n",
            "DEBUG:cmdstanpy:idx 0\n",
            "DEBUG:cmdstanpy:running CmdStan, num_threads: None\n",
            "DEBUG:cmdstanpy:CmdStan args: ['/usr/local/lib/python3.7/dist-packages/prophet/stan_model/prophet_model.bin', 'random', 'seed=78135', 'data', 'file=/tmp/tmpkpj4r36s/cjrj7u6a.json', 'init=/tmp/tmpkpj4r36s/mch8t6f9.json', 'output', 'file=/tmp/tmpkpj4r36s/prophet_modelw6ynqgyw/prophet_model-20221121074939.csv', 'method=optimize', 'algorithm=lbfgs', 'iter=10000']\n",
            "07:49:39 - cmdstanpy - INFO - Chain [1] start processing\n",
            "INFO:cmdstanpy:Chain [1] start processing\n"
          ]
        },
        {
          "output_type": "stream",
          "name": "stdout",
          "text": [
            "Model Number: 447 with model FBProphet in generation 2 of 10\n"
          ]
        },
        {
          "output_type": "stream",
          "name": "stderr",
          "text": [
            "07:49:40 - cmdstanpy - INFO - Chain [1] done processing\n",
            "INFO:cmdstanpy:Chain [1] done processing\n"
          ]
        },
        {
          "output_type": "stream",
          "name": "stdout",
          "text": [
            "Model Number: 448 with model ConstantNaive in generation 2 of 10\n",
            "Model Number: 449 with model ConstantNaive in generation 2 of 10\n",
            "Model Number: 450 with model ETS in generation 2 of 10\n",
            "Model Number: 451 with model DatepartRegression in generation 2 of 10\n",
            "Model Number: 452 with model LastValueNaive in generation 2 of 10\n",
            "Model Number: 453 with model MultivariateRegression in generation 2 of 10\n"
          ]
        },
        {
          "output_type": "stream",
          "name": "stderr",
          "text": [
            "[Parallel(n_jobs=-2)]: Using backend SequentialBackend with 1 concurrent workers.\n",
            "[Parallel(n_jobs=-2)]: Done 200 out of 200 | elapsed:    0.5s finished\n",
            "[Parallel(n_jobs=1)]: Using backend SequentialBackend with 1 concurrent workers.\n",
            "[Parallel(n_jobs=1)]: Done 200 out of 200 | elapsed:    0.0s finished\n",
            "[Parallel(n_jobs=1)]: Using backend SequentialBackend with 1 concurrent workers.\n",
            "[Parallel(n_jobs=1)]: Done 200 out of 200 | elapsed:    0.0s finished\n",
            "[Parallel(n_jobs=1)]: Using backend SequentialBackend with 1 concurrent workers.\n",
            "[Parallel(n_jobs=1)]: Done 200 out of 200 | elapsed:    0.0s finished\n"
          ]
        },
        {
          "output_type": "stream",
          "name": "stdout",
          "text": [
            "New Generation: 3 of 10\n",
            "Model Number: 454 with model GLS in generation 3 of 10\n",
            "Model Number: 455 with model ETS in generation 3 of 10\n",
            "Model Number: 456 with model AverageValueNaive in generation 3 of 10\n",
            "Model Number: 457 with model UnivariateMotif in generation 3 of 10\n",
            "Model Number: 458 with model UnivariateMotif in generation 3 of 10\n",
            "Model Number: 459 with model Theta in generation 3 of 10\n",
            "Model Number: 460 with model MultivariateMotif in generation 3 of 10\n",
            "Model Number: 461 with model ARIMA in generation 3 of 10\n",
            "Model Number: 462 with model DatepartRegression in generation 3 of 10\n",
            "Template Eval Error: ValueError(\"regression_type='User' but no future_regressor passed\") in model 462: DatepartRegression\n",
            "Model Number: 463 with model UnivariateMotif in generation 3 of 10\n",
            "Model Number: 464 with model AverageValueNaive in generation 3 of 10\n",
            "Model Number: 465 with model UnivariateRegression in generation 3 of 10\n",
            "Model Number: 466 with model ETS in generation 3 of 10\n",
            "Model Number: 467 with model SeasonalNaive in generation 3 of 10\n",
            "Model Number: 468 with model DatepartRegression in generation 3 of 10\n",
            "Model Number: 469 with model ConstantNaive in generation 3 of 10\n",
            "Model Number: 470 with model LastValueNaive in generation 3 of 10\n",
            "Model Number: 471 with model UnobservedComponents in generation 3 of 10\n",
            "Model Number: 472 with model UnobservedComponents in generation 3 of 10\n",
            "Model Number: 473 with model GLS in generation 3 of 10\n",
            "Model Number: 474 with model ARIMA in generation 3 of 10\n",
            "Model Number: 475 with model SeasonalityMotif in generation 3 of 10\n",
            "Model Number: 476 with model SectionalMotif in generation 3 of 10\n",
            "Model Number: 477 with model UnobservedComponents in generation 3 of 10\n",
            "Template Eval Error: ValueError(\"regression_type='User' but no future_regressor supplied\") in model 477: UnobservedComponents\n",
            "Model Number: 478 with model LastValueNaive in generation 3 of 10\n",
            "Model Number: 479 with model ARIMA in generation 3 of 10\n",
            "Model Number: 480 with model MetricMotif in generation 3 of 10\n",
            "Template Eval Error: Exception('Transformer HolidayTransformer failed on fit') in model 480: MetricMotif\n",
            "Model Number: 481 with model NVAR in generation 3 of 10\n",
            "Model Number: 482 with model ETS in generation 3 of 10\n",
            "Template Eval Error: Exception('Transformer BTCD failed on fit') in model 482: ETS\n",
            "Model Number: 483 with model ETS in generation 3 of 10\n",
            "Model Number: 484 with model DatepartRegression in generation 3 of 10\n",
            "Model Number: 485 with model ETS in generation 3 of 10\n",
            "Model Number: 486 with model Theta in generation 3 of 10\n",
            "Model Number: 487 with model MetricMotif in generation 3 of 10\n",
            "Model Number: 488 with model Theta in generation 3 of 10\n",
            "Model Number: 489 with model MultivariateRegression in generation 3 of 10\n",
            "Model Number: 490 with model WindowRegression in generation 3 of 10\n",
            "Model Number: 491 with model ConstantNaive in generation 3 of 10\n",
            "Model Number: 492 with model MultivariateMotif in generation 3 of 10\n",
            "Model Number: 493 with model WindowRegression in generation 3 of 10\n",
            "Model Number: 494 with model MultivariateMotif in generation 3 of 10\n",
            "Model Number: 495 with model NVAR in generation 3 of 10\n",
            "Model Number: 496 with model UnivariateMotif in generation 3 of 10\n",
            "Model Number: 497 with model MetricMotif in generation 3 of 10\n",
            "Model Number: 498 with model ETS in generation 3 of 10\n",
            "Model Number: 499 with model ConstantNaive in generation 3 of 10\n",
            "Model Number: 500 with model UnivariateRegression in generation 3 of 10\n",
            "Model Number: 501 with model Theta in generation 3 of 10\n",
            "Model Number: 502 with model UnobservedComponents in generation 3 of 10\n",
            "Model Number: 503 with model SeasonalNaive in generation 3 of 10\n",
            "Model Number: 504 with model ARIMA in generation 3 of 10\n",
            "Model Number: 505 with model GLS in generation 3 of 10\n",
            "Model Number: 506 with model UnivariateMotif in generation 3 of 10\n",
            "Model Number: 507 with model NVAR in generation 3 of 10\n",
            "Model Number: 508 with model WindowRegression in generation 3 of 10\n",
            "Model Number: 509 with model MetricMotif in generation 3 of 10\n",
            "Model Number: 510 with model UnivariateMotif in generation 3 of 10\n"
          ]
        },
        {
          "output_type": "stream",
          "name": "stderr",
          "text": [
            "/usr/local/lib/python3.7/dist-packages/sklearn/neural_network/_multilayer_perceptron.py:549: ConvergenceWarning: lbfgs failed to converge (status=1):\n",
            "STOP: TOTAL NO. of ITERATIONS REACHED LIMIT.\n",
            "\n",
            "Increase the number of iterations (max_iter) or scale the data as shown in:\n",
            "    https://scikit-learn.org/stable/modules/preprocessing.html\n",
            "  self.n_iter_ = _check_optimize_result(\"lbfgs\", opt_res, self.max_iter)\n"
          ]
        },
        {
          "output_type": "stream",
          "name": "stdout",
          "text": [
            "Model Number: 511 with model ConstantNaive in generation 3 of 10\n",
            "Model Number: 512 with model UnobservedComponents in generation 3 of 10\n",
            "Model Number: 513 with model UnobservedComponents in generation 3 of 10\n",
            "Template Eval Error: LinAlgError('Singular matrix') in model 513: UnobservedComponents\n",
            "Model Number: 514 with model ETS in generation 3 of 10\n",
            "Model Number: 515 with model ARIMA in generation 3 of 10\n",
            "Model Number: 516 with model GLS in generation 3 of 10\n",
            "Model Number: 517 with model MetricMotif in generation 3 of 10\n",
            "Model Number: 518 with model LastValueNaive in generation 3 of 10\n",
            "Model Number: 519 with model NVAR in generation 3 of 10\n",
            "Model Number: 520 with model WindowRegression in generation 3 of 10\n",
            "Model Number: 521 with model MultivariateMotif in generation 3 of 10\n",
            "Model Number: 522 with model MetricMotif in generation 3 of 10\n",
            "Model Number: 523 with model Theta in generation 3 of 10\n",
            "Model Number: 524 with model SeasonalityMotif in generation 3 of 10\n",
            "Template Eval Error: Exception('Transformer Detrend failed on fit') in model 524: SeasonalityMotif\n",
            "Model Number: 525 with model UnobservedComponents in generation 3 of 10\n",
            "Model Number: 526 with model UnobservedComponents in generation 3 of 10\n",
            "Model Number: 527 with model AverageValueNaive in generation 3 of 10\n",
            "Model Number: 528 with model LastValueNaive in generation 3 of 10\n",
            "Model Number: 529 with model ConstantNaive in generation 3 of 10\n",
            "Model Number: 530 with model Theta in generation 3 of 10\n",
            "Model Number: 531 with model SectionalMotif in generation 3 of 10\n",
            "Model Number: 532 with model MultivariateMotif in generation 3 of 10\n",
            "Model Number: 533 with model Theta in generation 3 of 10\n",
            "Model Number: 534 with model NVAR in generation 3 of 10\n",
            "Template Eval Error: Exception('Transformer DifferencedTransformer failed on inverse') in model 534: NVAR\n",
            "Model Number: 535 with model MetricMotif in generation 3 of 10\n",
            "Model Number: 536 with model ConstantNaive in generation 3 of 10\n",
            "Model Number: 537 with model WindowRegression in generation 3 of 10\n",
            "Template Eval Error: ValueError(\"regression_type='User' but no future_regressor passed\") in model 537: WindowRegression\n",
            "Model Number: 538 with model MetricMotif in generation 3 of 10\n",
            "Model Number: 539 with model MultivariateRegression in generation 3 of 10\n"
          ]
        },
        {
          "output_type": "stream",
          "name": "stderr",
          "text": [
            "[Parallel(n_jobs=-2)]: Using backend SequentialBackend with 1 concurrent workers.\n"
          ]
        },
        {
          "output_type": "stream",
          "name": "stdout",
          "text": [
            "Model Number: 540 with model LastValueNaive in generation 3 of 10\n"
          ]
        },
        {
          "output_type": "stream",
          "name": "stderr",
          "text": [
            "[Parallel(n_jobs=-2)]: Done 200 out of 200 | elapsed:    0.4s finished\n",
            "[Parallel(n_jobs=1)]: Using backend SequentialBackend with 1 concurrent workers.\n",
            "[Parallel(n_jobs=1)]: Done 200 out of 200 | elapsed:    0.0s finished\n",
            "[Parallel(n_jobs=1)]: Using backend SequentialBackend with 1 concurrent workers.\n",
            "[Parallel(n_jobs=1)]: Done 200 out of 200 | elapsed:    0.0s finished\n",
            "[Parallel(n_jobs=1)]: Using backend SequentialBackend with 1 concurrent workers.\n",
            "[Parallel(n_jobs=1)]: Done 200 out of 200 | elapsed:    0.0s finished\n"
          ]
        },
        {
          "output_type": "stream",
          "name": "stdout",
          "text": [
            "Model Number: 541 with model SeasonalityMotif in generation 3 of 10\n",
            "Model Number: 542 with model SeasonalNaive in generation 3 of 10\n",
            "Model Number: 543 with model DatepartRegression in generation 3 of 10\n"
          ]
        },
        {
          "output_type": "stream",
          "name": "stderr",
          "text": [
            "/usr/local/lib/python3.7/dist-packages/sklearn/linear_model/_ridge.py:157: LinAlgWarning: Ill-conditioned matrix (rcond=3.45629e-25): result may not be accurate.\n",
            "  return linalg.solve(A, Xy, sym_pos=True, overwrite_a=True).T\n"
          ]
        },
        {
          "output_type": "stream",
          "name": "stdout",
          "text": [
            "Model Number: 544 with model Theta in generation 3 of 10\n",
            "Model Number: 545 with model NVAR in generation 3 of 10\n",
            "Model Number: 546 with model ConstantNaive in generation 3 of 10\n",
            "Model Number: 547 with model SectionalMotif in generation 3 of 10\n",
            "Model Number: 548 with model FBProphet in generation 3 of 10\n"
          ]
        },
        {
          "output_type": "stream",
          "name": "stderr",
          "text": [
            "INFO:prophet:Disabling yearly seasonality. Run prophet with yearly_seasonality=True to override this.\n",
            "INFO:prophet:Disabling daily seasonality. Run prophet with daily_seasonality=True to override this.\n",
            "DEBUG:cmdstanpy:input tempfile: /tmp/tmpkpj4r36s/erh0tefq.json\n",
            "DEBUG:cmdstanpy:input tempfile: /tmp/tmpkpj4r36s/gn9078k2.json\n",
            "DEBUG:cmdstanpy:idx 0\n",
            "DEBUG:cmdstanpy:running CmdStan, num_threads: None\n",
            "DEBUG:cmdstanpy:CmdStan args: ['/usr/local/lib/python3.7/dist-packages/prophet/stan_model/prophet_model.bin', 'random', 'seed=15168', 'data', 'file=/tmp/tmpkpj4r36s/erh0tefq.json', 'init=/tmp/tmpkpj4r36s/gn9078k2.json', 'output', 'file=/tmp/tmpkpj4r36s/prophet_modeljbugykwa/prophet_model-20221121075013.csv', 'method=optimize', 'algorithm=lbfgs', 'iter=10000']\n",
            "07:50:13 - cmdstanpy - INFO - Chain [1] start processing\n",
            "INFO:cmdstanpy:Chain [1] start processing\n",
            "07:50:13 - cmdstanpy - INFO - Chain [1] done processing\n",
            "INFO:cmdstanpy:Chain [1] done processing\n"
          ]
        },
        {
          "output_type": "stream",
          "name": "stdout",
          "text": [
            "Model Number: 549 with model UnobservedComponents in generation 3 of 10\n",
            "Model Number: 550 with model LastValueNaive in generation 3 of 10\n",
            "Model Number: 551 with model SectionalMotif in generation 3 of 10\n",
            "Model Number: 552 with model GLS in generation 3 of 10\n",
            "Model Number: 553 with model GLM in generation 3 of 10\n",
            "Model Number: 554 with model LastValueNaive in generation 3 of 10\n",
            "Model Number: 555 with model UnivariateMotif in generation 3 of 10\n",
            "Model Number: 556 with model Theta in generation 3 of 10\n"
          ]
        },
        {
          "output_type": "stream",
          "name": "stderr",
          "text": [
            "/usr/local/lib/python3.7/dist-packages/statsmodels/genmod/families/links.py:188: RuntimeWarning: overflow encountered in exp\n",
            "  t = np.exp(-z)\n"
          ]
        },
        {
          "output_type": "stream",
          "name": "stdout",
          "text": [
            "Model Number: 557 with model MultivariateRegression in generation 3 of 10\n",
            "Model Number: 558 with model UnivariateRegression in generation 3 of 10\n",
            "Template Eval Error: Exception('Transformer Cointegration failed on fit') in model 558: UnivariateRegression\n",
            "Model Number: 559 with model NVAR in generation 3 of 10\n",
            "Model Number: 560 with model SeasonalNaive in generation 3 of 10\n",
            "Model Number: 561 with model DatepartRegression in generation 3 of 10\n",
            "Model Number: 562 with model DatepartRegression in generation 3 of 10\n"
          ]
        },
        {
          "output_type": "stream",
          "name": "stderr",
          "text": [
            "[Parallel(n_jobs=-2)]: Using backend SequentialBackend with 1 concurrent workers.\n",
            "[Parallel(n_jobs=-2)]: Done 100 out of 100 | elapsed:    0.2s finished\n",
            "[Parallel(n_jobs=1)]: Using backend SequentialBackend with 1 concurrent workers.\n",
            "[Parallel(n_jobs=1)]: Done 100 out of 100 | elapsed:    0.0s finished\n",
            "[Parallel(n_jobs=-2)]: Using backend SequentialBackend with 1 concurrent workers.\n"
          ]
        },
        {
          "output_type": "stream",
          "name": "stdout",
          "text": [
            "Model Number: 563 with model MultivariateRegression in generation 3 of 10\n"
          ]
        },
        {
          "output_type": "stream",
          "name": "stderr",
          "text": [
            "[Parallel(n_jobs=-2)]: Done 200 out of 200 | elapsed:    0.7s finished\n",
            "[Parallel(n_jobs=1)]: Using backend SequentialBackend with 1 concurrent workers.\n",
            "[Parallel(n_jobs=1)]: Done 200 out of 200 | elapsed:    0.0s finished\n",
            "[Parallel(n_jobs=1)]: Using backend SequentialBackend with 1 concurrent workers.\n",
            "[Parallel(n_jobs=1)]: Done 200 out of 200 | elapsed:    0.0s finished\n",
            "[Parallel(n_jobs=1)]: Using backend SequentialBackend with 1 concurrent workers.\n",
            "[Parallel(n_jobs=1)]: Done 200 out of 200 | elapsed:    0.0s finished\n"
          ]
        },
        {
          "output_type": "stream",
          "name": "stdout",
          "text": [
            "Model Number: 564 with model GLS in generation 3 of 10\n",
            "Model Number: 565 with model SeasonalityMotif in generation 3 of 10\n",
            "Model Number: 566 with model AverageValueNaive in generation 3 of 10\n",
            "Model Number: 567 with model GLS in generation 3 of 10\n",
            "Model Number: 568 with model GLS in generation 3 of 10\n",
            "Model Number: 569 with model UnivariateRegression in generation 3 of 10\n",
            "Model Number: 570 with model NVAR in generation 3 of 10\n"
          ]
        },
        {
          "output_type": "stream",
          "name": "stderr",
          "text": [
            "/usr/local/lib/python3.7/dist-packages/autots/tools/probabilistic.py:67: RuntimeWarning: invalid value encountered in true_divide\n",
            "  (prior_mu / prior_sigma**2) + ((n * data_mu) / prior_sigma**2)\n",
            "/usr/local/lib/python3.7/dist-packages/autots/tools/probabilistic.py:68: RuntimeWarning: divide by zero encountered in true_divide\n",
            "  ) / ((1 / prior_sigma**2) + (n / prior_sigma**2))\n"
          ]
        },
        {
          "output_type": "stream",
          "name": "stdout",
          "text": [
            "Model Number: 571 with model UnobservedComponents in generation 3 of 10\n",
            "Model Number: 572 with model SeasonalityMotif in generation 3 of 10\n",
            "Model Number: 573 with model GLM in generation 3 of 10\n",
            "Model Number: 574 with model MultivariateRegression in generation 3 of 10\n"
          ]
        },
        {
          "output_type": "stream",
          "name": "stderr",
          "text": [
            "/usr/local/lib/python3.7/dist-packages/statsmodels/genmod/families/links.py:188: RuntimeWarning: overflow encountered in exp\n",
            "  t = np.exp(-z)\n"
          ]
        },
        {
          "output_type": "stream",
          "name": "stdout",
          "text": [
            "Model Number: 575 with model UnivariateMotif in generation 3 of 10\n",
            "Model Number: 576 with model SeasonalNaive in generation 3 of 10\n",
            "Model Number: 577 with model MultivariateRegression in generation 3 of 10\n"
          ]
        },
        {
          "output_type": "stream",
          "name": "stderr",
          "text": [
            "[Parallel(n_jobs=-2)]: Using backend SequentialBackend with 1 concurrent workers.\n",
            "[Parallel(n_jobs=-2)]: Done 200 out of 200 | elapsed:    0.3s finished\n",
            "[Parallel(n_jobs=1)]: Using backend SequentialBackend with 1 concurrent workers.\n",
            "[Parallel(n_jobs=1)]: Done 200 out of 200 | elapsed:    0.0s finished\n",
            "[Parallel(n_jobs=1)]: Using backend SequentialBackend with 1 concurrent workers.\n",
            "[Parallel(n_jobs=1)]: Done 200 out of 200 | elapsed:    0.2s finished\n",
            "[Parallel(n_jobs=1)]: Using backend SequentialBackend with 1 concurrent workers.\n",
            "[Parallel(n_jobs=1)]: Done 200 out of 200 | elapsed:    0.0s finished\n"
          ]
        },
        {
          "output_type": "stream",
          "name": "stdout",
          "text": [
            "Model Number: 578 with model Theta in generation 3 of 10\n",
            "Model Number: 579 with model UnivariateMotif in generation 3 of 10\n",
            "Model Number: 580 with model ETS in generation 3 of 10\n",
            "Model Number: 581 with model MetricMotif in generation 3 of 10\n",
            "Model Number: 582 with model LastValueNaive in generation 3 of 10\n",
            "Model Number: 583 with model DatepartRegression in generation 3 of 10\n"
          ]
        },
        {
          "output_type": "stream",
          "name": "stderr",
          "text": [
            "[Parallel(n_jobs=-2)]: Using backend SequentialBackend with 1 concurrent workers.\n",
            "[Parallel(n_jobs=-2)]: Done 100 out of 100 | elapsed:    0.2s finished\n",
            "[Parallel(n_jobs=1)]: Using backend SequentialBackend with 1 concurrent workers.\n",
            "[Parallel(n_jobs=1)]: Done 100 out of 100 | elapsed:    0.0s finished\n"
          ]
        },
        {
          "output_type": "stream",
          "name": "stdout",
          "text": [
            "New Generation: 4 of 10\n",
            "Model Number: 584 with model Theta in generation 4 of 10\n",
            "Model Number: 585 with model DatepartRegression in generation 4 of 10\n",
            "Model Number: 586 with model Theta in generation 4 of 10\n",
            "No anomalies detected.\n",
            "Model Number: 587 with model Theta in generation 4 of 10\n",
            "Model Number: 588 with model SeasonalNaive in generation 4 of 10\n",
            "Model Number: 589 with model NVAR in generation 4 of 10\n",
            "Model Number: 590 with model MetricMotif in generation 4 of 10\n",
            "Model Number: 591 with model ConstantNaive in generation 4 of 10\n",
            "Model Number: 592 with model UnivariateMotif in generation 4 of 10\n",
            "Model Number: 593 with model MultivariateRegression in generation 4 of 10\n"
          ]
        },
        {
          "output_type": "stream",
          "name": "stderr",
          "text": [
            "[Parallel(n_jobs=-2)]: Using backend SequentialBackend with 1 concurrent workers.\n",
            "[Parallel(n_jobs=-2)]: Done 200 out of 200 | elapsed:    1.1s finished\n",
            "[Parallel(n_jobs=1)]: Using backend SequentialBackend with 1 concurrent workers.\n",
            "[Parallel(n_jobs=1)]: Done 200 out of 200 | elapsed:    0.0s finished\n",
            "[Parallel(n_jobs=1)]: Using backend SequentialBackend with 1 concurrent workers.\n",
            "[Parallel(n_jobs=1)]: Done 200 out of 200 | elapsed:    0.0s finished\n",
            "[Parallel(n_jobs=1)]: Using backend SequentialBackend with 1 concurrent workers.\n",
            "[Parallel(n_jobs=1)]: Done 200 out of 200 | elapsed:    0.0s finished\n"
          ]
        },
        {
          "output_type": "stream",
          "name": "stdout",
          "text": [
            "Model Number: 594 with model MultivariateMotif in generation 4 of 10\n",
            "Model Number: 595 with model MultivariateRegression in generation 4 of 10\n"
          ]
        },
        {
          "output_type": "stream",
          "name": "stderr",
          "text": [
            "[Parallel(n_jobs=-2)]: Using backend SequentialBackend with 1 concurrent workers.\n",
            "[Parallel(n_jobs=-2)]: Done 200 out of 200 | elapsed:    0.4s finished\n",
            "[Parallel(n_jobs=1)]: Using backend SequentialBackend with 1 concurrent workers.\n",
            "[Parallel(n_jobs=1)]: Done 200 out of 200 | elapsed:    0.0s finished\n",
            "[Parallel(n_jobs=1)]: Using backend SequentialBackend with 1 concurrent workers.\n",
            "[Parallel(n_jobs=1)]: Done 200 out of 200 | elapsed:    0.0s finished\n",
            "[Parallel(n_jobs=1)]: Using backend SequentialBackend with 1 concurrent workers.\n",
            "[Parallel(n_jobs=1)]: Done 200 out of 200 | elapsed:    0.0s finished\n"
          ]
        },
        {
          "output_type": "stream",
          "name": "stdout",
          "text": [
            "Model Number: 596 with model UnivariateMotif in generation 4 of 10\n",
            "Model Number: 597 with model ETS in generation 4 of 10\n",
            "Model Number: 598 with model Theta in generation 4 of 10\n",
            "Model Number: 599 with model ETS in generation 4 of 10\n",
            "ETS error ValueError('Can only dampen the trend component')\n",
            "ETS failed on Close with ValueError('Can only dampen the trend component')\n",
            "Model Number: 600 with model WindowRegression in generation 4 of 10\n",
            "Model Number: 601 with model GLS in generation 4 of 10\n",
            "Template Eval Error: Exception('Transformer BTCD failed on fit') in model 601: GLS\n",
            "Model Number: 602 with model LastValueNaive in generation 4 of 10\n",
            "Model Number: 603 with model SeasonalityMotif in generation 4 of 10\n",
            "Model Number: 604 with model SectionalMotif in generation 4 of 10\n",
            "Model Number: 605 with model AverageValueNaive in generation 4 of 10\n",
            "Model Number: 606 with model NVAR in generation 4 of 10\n",
            "Model Number: 607 with model ARIMA in generation 4 of 10\n",
            "Model Number: 608 with model MultivariateRegression in generation 4 of 10\n"
          ]
        },
        {
          "output_type": "stream",
          "name": "stderr",
          "text": [
            "[Parallel(n_jobs=-2)]: Using backend SequentialBackend with 1 concurrent workers.\n"
          ]
        },
        {
          "output_type": "stream",
          "name": "stdout",
          "text": [
            "Model Number: 609 with model NVAR in generation 4 of 10\n"
          ]
        },
        {
          "output_type": "stream",
          "name": "stderr",
          "text": [
            "[Parallel(n_jobs=-2)]: Done 200 out of 200 | elapsed:    0.4s finished\n",
            "[Parallel(n_jobs=1)]: Using backend SequentialBackend with 1 concurrent workers.\n",
            "[Parallel(n_jobs=1)]: Done 200 out of 200 | elapsed:    0.0s finished\n",
            "[Parallel(n_jobs=1)]: Using backend SequentialBackend with 1 concurrent workers.\n",
            "[Parallel(n_jobs=1)]: Done 200 out of 200 | elapsed:    0.0s finished\n",
            "[Parallel(n_jobs=1)]: Using backend SequentialBackend with 1 concurrent workers.\n",
            "[Parallel(n_jobs=1)]: Done 200 out of 200 | elapsed:    0.0s finished\n"
          ]
        },
        {
          "output_type": "stream",
          "name": "stdout",
          "text": [
            "Model Number: 610 with model Theta in generation 4 of 10\n",
            "Model Number: 611 with model UnivariateRegression in generation 4 of 10\n",
            "Model Number: 612 with model MultivariateRegression in generation 4 of 10\n",
            "Model Number: 613 with model DatepartRegression in generation 4 of 10\n",
            "Model Number: 614 with model MetricMotif in generation 4 of 10\n",
            "Model Number: 615 with model MultivariateMotif in generation 4 of 10\n"
          ]
        },
        {
          "output_type": "stream",
          "name": "stderr",
          "text": [
            "/usr/local/lib/python3.7/dist-packages/sklearn/base.py:451: UserWarning: X does not have valid feature names, but MLPRegressor was fitted with feature names\n",
            "  \"X does not have valid feature names, but\"\n",
            "/usr/local/lib/python3.7/dist-packages/sklearn/base.py:451: UserWarning: X does not have valid feature names, but MLPRegressor was fitted with feature names\n",
            "  \"X does not have valid feature names, but\"\n",
            "/usr/local/lib/python3.7/dist-packages/sklearn/base.py:451: UserWarning: X does not have valid feature names, but MLPRegressor was fitted with feature names\n",
            "  \"X does not have valid feature names, but\"\n",
            "/usr/local/lib/python3.7/dist-packages/sklearn/base.py:451: UserWarning: X does not have valid feature names, but MLPRegressor was fitted with feature names\n",
            "  \"X does not have valid feature names, but\"\n",
            "/usr/local/lib/python3.7/dist-packages/sklearn/base.py:451: UserWarning: X does not have valid feature names, but MLPRegressor was fitted with feature names\n",
            "  \"X does not have valid feature names, but\"\n",
            "/usr/local/lib/python3.7/dist-packages/sklearn/base.py:451: UserWarning: X does not have valid feature names, but MLPRegressor was fitted with feature names\n",
            "  \"X does not have valid feature names, but\"\n",
            "/usr/local/lib/python3.7/dist-packages/sklearn/base.py:451: UserWarning: X does not have valid feature names, but MLPRegressor was fitted with feature names\n",
            "  \"X does not have valid feature names, but\"\n",
            "/usr/local/lib/python3.7/dist-packages/sklearn/base.py:451: UserWarning: X does not have valid feature names, but MLPRegressor was fitted with feature names\n",
            "  \"X does not have valid feature names, but\"\n",
            "/usr/local/lib/python3.7/dist-packages/sklearn/base.py:451: UserWarning: X does not have valid feature names, but MLPRegressor was fitted with feature names\n",
            "  \"X does not have valid feature names, but\"\n",
            "/usr/local/lib/python3.7/dist-packages/sklearn/base.py:451: UserWarning: X does not have valid feature names, but MLPRegressor was fitted with feature names\n",
            "  \"X does not have valid feature names, but\"\n",
            "/usr/local/lib/python3.7/dist-packages/sklearn/base.py:451: UserWarning: X does not have valid feature names, but MLPRegressor was fitted with feature names\n",
            "  \"X does not have valid feature names, but\"\n",
            "/usr/local/lib/python3.7/dist-packages/sklearn/base.py:451: UserWarning: X does not have valid feature names, but MLPRegressor was fitted with feature names\n",
            "  \"X does not have valid feature names, but\"\n",
            "/usr/local/lib/python3.7/dist-packages/sklearn/base.py:451: UserWarning: X does not have valid feature names, but MLPRegressor was fitted with feature names\n",
            "  \"X does not have valid feature names, but\"\n",
            "/usr/local/lib/python3.7/dist-packages/sklearn/base.py:451: UserWarning: X does not have valid feature names, but MLPRegressor was fitted with feature names\n",
            "  \"X does not have valid feature names, but\"\n",
            "/usr/local/lib/python3.7/dist-packages/sklearn/base.py:451: UserWarning: X does not have valid feature names, but MLPRegressor was fitted with feature names\n",
            "  \"X does not have valid feature names, but\"\n",
            "/usr/local/lib/python3.7/dist-packages/sklearn/base.py:451: UserWarning: X does not have valid feature names, but MLPRegressor was fitted with feature names\n",
            "  \"X does not have valid feature names, but\"\n",
            "/usr/local/lib/python3.7/dist-packages/sklearn/base.py:451: UserWarning: X does not have valid feature names, but MLPRegressor was fitted with feature names\n",
            "  \"X does not have valid feature names, but\"\n",
            "/usr/local/lib/python3.7/dist-packages/sklearn/base.py:451: UserWarning: X does not have valid feature names, but MLPRegressor was fitted with feature names\n",
            "  \"X does not have valid feature names, but\"\n",
            "/usr/local/lib/python3.7/dist-packages/sklearn/base.py:451: UserWarning: X does not have valid feature names, but MLPRegressor was fitted with feature names\n",
            "  \"X does not have valid feature names, but\"\n",
            "/usr/local/lib/python3.7/dist-packages/sklearn/base.py:451: UserWarning: X does not have valid feature names, but MLPRegressor was fitted with feature names\n",
            "  \"X does not have valid feature names, but\"\n",
            "/usr/local/lib/python3.7/dist-packages/sklearn/base.py:451: UserWarning: X does not have valid feature names, but MLPRegressor was fitted with feature names\n",
            "  \"X does not have valid feature names, but\"\n"
          ]
        },
        {
          "output_type": "stream",
          "name": "stdout",
          "text": [
            "Model Number: 616 with model WindowRegression in generation 4 of 10\n",
            "Model Number: 617 with model DatepartRegression in generation 4 of 10\n",
            "Template Eval Error: ValueError(\"regression_type='User' but no future_regressor passed\") in model 617: DatepartRegression\n",
            "Model Number: 618 with model MetricMotif in generation 4 of 10\n",
            "Model Number: 619 with model WindowRegression in generation 4 of 10\n",
            "Template Eval Error: ValueError(\"regression_type='User' but no future_regressor passed\") in model 619: WindowRegression\n",
            "Model Number: 620 with model MultivariateMotif in generation 4 of 10\n",
            "Model Number: 621 with model SectionalMotif in generation 4 of 10\n",
            "Model Number: 622 with model UnivariateRegression in generation 4 of 10\n",
            "Model Number: 623 with model ConstantNaive in generation 4 of 10\n",
            "Model Number: 624 with model ARIMA in generation 4 of 10\n",
            "Model Number: 625 with model DatepartRegression in generation 4 of 10\n",
            "Model Number: 626 with model MultivariateRegression in generation 4 of 10\n"
          ]
        },
        {
          "output_type": "stream",
          "name": "stderr",
          "text": [
            "[Parallel(n_jobs=-2)]: Using backend SequentialBackend with 1 concurrent workers.\n",
            "[Parallel(n_jobs=-2)]: Done 200 out of 200 | elapsed:    0.3s finished\n",
            "[Parallel(n_jobs=1)]: Using backend SequentialBackend with 1 concurrent workers.\n",
            "[Parallel(n_jobs=1)]: Done 200 out of 200 | elapsed:    0.0s finished\n",
            "[Parallel(n_jobs=1)]: Using backend SequentialBackend with 1 concurrent workers.\n",
            "[Parallel(n_jobs=1)]: Done 200 out of 200 | elapsed:    0.0s finished\n",
            "[Parallel(n_jobs=1)]: Using backend SequentialBackend with 1 concurrent workers.\n",
            "[Parallel(n_jobs=1)]: Done 200 out of 200 | elapsed:    0.0s finished\n"
          ]
        },
        {
          "output_type": "stream",
          "name": "stdout",
          "text": [
            "Model Number: 627 with model UnivariateMotif in generation 4 of 10\n",
            "Model Number: 628 with model ETS in generation 4 of 10\n",
            "Model Number: 629 with model Theta in generation 4 of 10\n",
            "Model Number: 630 with model NVAR in generation 4 of 10\n",
            "Model Number: 631 with model Theta in generation 4 of 10\n",
            "Model Number: 632 with model ConstantNaive in generation 4 of 10\n",
            "Model Number: 633 with model MetricMotif in generation 4 of 10\n",
            "Model Number: 634 with model LastValueNaive in generation 4 of 10\n",
            "Model Number: 635 with model NVAR in generation 4 of 10\n",
            "Model Number: 636 with model GLS in generation 4 of 10\n",
            "Model Number: 637 with model ConstantNaive in generation 4 of 10\n",
            "Model Number: 638 with model SectionalMotif in generation 4 of 10\n",
            "Model Number: 639 with model UnivariateMotif in generation 4 of 10\n",
            "Model Number: 640 with model Theta in generation 4 of 10\n",
            "Template Eval Error: Exception('Transformer HolidayTransformer failed on fit') in model 640: Theta\n",
            "Model Number: 641 with model UnobservedComponents in generation 4 of 10\n",
            "Model Number: 642 with model LastValueNaive in generation 4 of 10\n",
            "Model Number: 643 with model MetricMotif in generation 4 of 10\n",
            "Model Number: 644 with model UnobservedComponents in generation 4 of 10\n",
            "Model Number: 645 with model MetricMotif in generation 4 of 10\n",
            "Model Number: 646 with model ARIMA in generation 4 of 10\n",
            "Model Number: 647 with model ConstantNaive in generation 4 of 10\n",
            "Model Number: 648 with model LastValueNaive in generation 4 of 10\n",
            "Model Number: 649 with model WindowRegression in generation 4 of 10\n",
            "Model Number: 650 with model UnivariateMotif in generation 4 of 10\n",
            "Model Number: 651 with model GLS in generation 4 of 10\n"
          ]
        },
        {
          "output_type": "stream",
          "name": "stderr",
          "text": [
            "/usr/local/lib/python3.7/dist-packages/sklearn/neural_network/_multilayer_perceptron.py:549: ConvergenceWarning: lbfgs failed to converge (status=1):\n",
            "STOP: TOTAL NO. of ITERATIONS REACHED LIMIT.\n",
            "\n",
            "Increase the number of iterations (max_iter) or scale the data as shown in:\n",
            "    https://scikit-learn.org/stable/modules/preprocessing.html\n",
            "  self.n_iter_ = _check_optimize_result(\"lbfgs\", opt_res, self.max_iter)\n"
          ]
        },
        {
          "output_type": "stream",
          "name": "stdout",
          "text": [
            "Model Number: 652 with model GLS in generation 4 of 10\n",
            "Model Number: 653 with model Theta in generation 4 of 10\n",
            "Model Number: 654 with model LastValueNaive in generation 4 of 10\n",
            "Model Number: 655 with model ARIMA in generation 4 of 10\n",
            "Model Number: 656 with model UnobservedComponents in generation 4 of 10\n",
            "Model Number: 657 with model UnobservedComponents in generation 4 of 10\n",
            "Model Number: 658 with model SectionalMotif in generation 4 of 10\n",
            "Model Number: 659 with model LastValueNaive in generation 4 of 10\n",
            "Model Number: 660 with model MetricMotif in generation 4 of 10\n",
            "Model Number: 661 with model WindowRegression in generation 4 of 10\n",
            "Model Number: 662 with model ARIMA in generation 4 of 10\n"
          ]
        },
        {
          "output_type": "stream",
          "name": "stderr",
          "text": [
            "/usr/local/lib/python3.7/dist-packages/sklearn/svm/_base.py:1208: ConvergenceWarning: Liblinear failed to converge, increase the number of iterations.\n",
            "  ConvergenceWarning,\n",
            "/usr/local/lib/python3.7/dist-packages/sklearn/svm/_base.py:1208: ConvergenceWarning: Liblinear failed to converge, increase the number of iterations.\n",
            "  ConvergenceWarning,\n",
            "/usr/local/lib/python3.7/dist-packages/sklearn/svm/_base.py:1208: ConvergenceWarning: Liblinear failed to converge, increase the number of iterations.\n",
            "  ConvergenceWarning,\n"
          ]
        },
        {
          "output_type": "stream",
          "name": "stdout",
          "text": [
            "Model Number: 663 with model ETS in generation 4 of 10\n",
            "Model Number: 664 with model SeasonalityMotif in generation 4 of 10\n",
            "Model Number: 665 with model MetricMotif in generation 4 of 10\n",
            "Model Number: 666 with model NVAR in generation 4 of 10\n",
            "Model Number: 667 with model AverageValueNaive in generation 4 of 10\n",
            "Model Number: 668 with model GLS in generation 4 of 10\n",
            "Model Number: 669 with model ETS in generation 4 of 10\n",
            "Model Number: 670 with model ConstantNaive in generation 4 of 10\n",
            "Model Number: 671 with model MetricMotif in generation 4 of 10\n",
            "Model Number: 672 with model ETS in generation 4 of 10\n",
            "ETS error ValueError('endog must be strictly positive when usingmultiplicative trend or seasonal components.')\n",
            "ETS failed on Close with ValueError('endog must be strictly positive when usingmultiplicative trend or seasonal components.')\n",
            "Model Number: 673 with model LastValueNaive in generation 4 of 10\n",
            "Model Number: 674 with model Theta in generation 4 of 10\n",
            "Template Eval Error: Exception('Transformer DifferencedTransformer failed on inverse') in model 674: Theta\n",
            "Model Number: 675 with model NVAR in generation 4 of 10\n",
            "Model Number: 676 with model ETS in generation 4 of 10\n",
            "Model Number: 677 with model GLM in generation 4 of 10\n",
            "Model Number: 678 with model MultivariateRegression in generation 4 of 10\n"
          ]
        },
        {
          "output_type": "stream",
          "name": "stderr",
          "text": [
            "[Parallel(n_jobs=-2)]: Using backend SequentialBackend with 1 concurrent workers.\n",
            "[Parallel(n_jobs=-2)]: Done 200 out of 200 | elapsed:    0.5s finished\n",
            "[Parallel(n_jobs=1)]: Using backend SequentialBackend with 1 concurrent workers.\n",
            "[Parallel(n_jobs=1)]: Done 200 out of 200 | elapsed:    0.0s finished\n",
            "[Parallel(n_jobs=1)]: Using backend SequentialBackend with 1 concurrent workers.\n",
            "[Parallel(n_jobs=1)]: Done 200 out of 200 | elapsed:    0.0s finished\n",
            "[Parallel(n_jobs=1)]: Using backend SequentialBackend with 1 concurrent workers.\n",
            "[Parallel(n_jobs=1)]: Done 200 out of 200 | elapsed:    0.0s finished\n"
          ]
        },
        {
          "output_type": "stream",
          "name": "stdout",
          "text": [
            "Model Number: 679 with model Theta in generation 4 of 10\n",
            "Model Number: 680 with model UnobservedComponents in generation 4 of 10\n",
            "Model Number: 681 with model UnivariateRegression in generation 4 of 10\n",
            "Template Eval Error: ValueError(\"Input contains NaN, infinity or a value too large for dtype('float32').\") in model 681: UnivariateRegression\n",
            "Model Number: 682 with model DatepartRegression in generation 4 of 10\n",
            "Epoch 1/50\n",
            "23/23 [==============================] - 9s 83ms/step - loss: nan - val_loss: nan\n",
            "Epoch 2/50\n",
            "23/23 [==============================] - 1s 51ms/step - loss: nan - val_loss: nan\n",
            "Epoch 3/50\n",
            "23/23 [==============================] - 1s 55ms/step - loss: nan - val_loss: nan\n",
            "Epoch 4/50\n",
            "23/23 [==============================] - 1s 54ms/step - loss: nan - val_loss: nan\n",
            "Epoch 5/50\n",
            "23/23 [==============================] - 1s 52ms/step - loss: nan - val_loss: nan\n",
            "Epoch 6/50\n",
            "23/23 [==============================] - 1s 54ms/step - loss: nan - val_loss: nan\n",
            "Epoch 7/50\n",
            "23/23 [==============================] - 1s 53ms/step - loss: nan - val_loss: nan\n",
            "Epoch 8/50\n",
            "23/23 [==============================] - 1s 55ms/step - loss: nan - val_loss: nan\n",
            "Epoch 9/50\n",
            "23/23 [==============================] - 1s 55ms/step - loss: nan - val_loss: nan\n",
            "Epoch 10/50\n",
            "23/23 [==============================] - 1s 52ms/step - loss: nan - val_loss: nan\n",
            "1/1 [==============================] - 1s 504ms/step\n",
            "Template Eval Error: ValueError('Model DatepartRegression returned NaN for one or more series. fail_on_forecast_nan=True') in model 682: DatepartRegression\n",
            "Model Number: 683 with model GLS in generation 4 of 10\n",
            "Model Number: 684 with model LastValueNaive in generation 4 of 10\n",
            "Model Number: 685 with model FBProphet in generation 4 of 10\n"
          ]
        },
        {
          "output_type": "stream",
          "name": "stderr",
          "text": [
            "INFO:prophet:Disabling yearly seasonality. Run prophet with yearly_seasonality=True to override this.\n",
            "INFO:prophet:Disabling daily seasonality. Run prophet with daily_seasonality=True to override this.\n",
            "DEBUG:cmdstanpy:input tempfile: /tmp/tmpkpj4r36s/ie9ebxd5.json\n",
            "DEBUG:cmdstanpy:input tempfile: /tmp/tmpkpj4r36s/jbvol1rr.json\n",
            "DEBUG:cmdstanpy:idx 0\n",
            "DEBUG:cmdstanpy:running CmdStan, num_threads: None\n",
            "DEBUG:cmdstanpy:CmdStan args: ['/usr/local/lib/python3.7/dist-packages/prophet/stan_model/prophet_model.bin', 'random', 'seed=48439', 'data', 'file=/tmp/tmpkpj4r36s/ie9ebxd5.json', 'init=/tmp/tmpkpj4r36s/jbvol1rr.json', 'output', 'file=/tmp/tmpkpj4r36s/prophet_modelpnv0if6w/prophet_model-20221121075152.csv', 'method=optimize', 'algorithm=lbfgs', 'iter=10000']\n",
            "07:51:52 - cmdstanpy - INFO - Chain [1] start processing\n",
            "INFO:cmdstanpy:Chain [1] start processing\n",
            "07:51:52 - cmdstanpy - INFO - Chain [1] done processing\n",
            "INFO:cmdstanpy:Chain [1] done processing\n"
          ]
        },
        {
          "output_type": "stream",
          "name": "stdout",
          "text": [
            "Model Number: 686 with model ARIMA in generation 4 of 10\n",
            "Model Number: 687 with model NVAR in generation 4 of 10\n",
            "Model Number: 688 with model ConstantNaive in generation 4 of 10\n",
            "Model Number: 689 with model ETS in generation 4 of 10\n",
            "ETS error ValueError('endog must be strictly positive when usingmultiplicative trend or seasonal components.')\n",
            "ETS failed on Close with ValueError('endog must be strictly positive when usingmultiplicative trend or seasonal components.')\n",
            "Model Number: 690 with model DatepartRegression in generation 4 of 10\n"
          ]
        },
        {
          "output_type": "stream",
          "name": "stderr",
          "text": [
            "[Parallel(n_jobs=-2)]: Using backend SequentialBackend with 1 concurrent workers.\n",
            "[Parallel(n_jobs=-2)]: Done 100 out of 100 | elapsed:    0.2s finished\n",
            "[Parallel(n_jobs=1)]: Using backend SequentialBackend with 1 concurrent workers.\n",
            "[Parallel(n_jobs=1)]: Done 100 out of 100 | elapsed:    0.0s finished\n"
          ]
        },
        {
          "output_type": "stream",
          "name": "stdout",
          "text": [
            "Model Number: 691 with model UnobservedComponents in generation 4 of 10\n",
            "Model Number: 692 with model FBProphet in generation 4 of 10\n"
          ]
        },
        {
          "output_type": "stream",
          "name": "stderr",
          "text": [
            "INFO:prophet:Disabling yearly seasonality. Run prophet with yearly_seasonality=True to override this.\n",
            "INFO:prophet:Disabling daily seasonality. Run prophet with daily_seasonality=True to override this.\n",
            "DEBUG:cmdstanpy:input tempfile: /tmp/tmpkpj4r36s/ojo4edn_.json\n",
            "DEBUG:cmdstanpy:input tempfile: /tmp/tmpkpj4r36s/307s_c_f.json\n",
            "DEBUG:cmdstanpy:idx 0\n",
            "DEBUG:cmdstanpy:running CmdStan, num_threads: None\n",
            "DEBUG:cmdstanpy:CmdStan args: ['/usr/local/lib/python3.7/dist-packages/prophet/stan_model/prophet_model.bin', 'random', 'seed=47418', 'data', 'file=/tmp/tmpkpj4r36s/ojo4edn_.json', 'init=/tmp/tmpkpj4r36s/307s_c_f.json', 'output', 'file=/tmp/tmpkpj4r36s/prophet_models8gcc7na/prophet_model-20221121075154.csv', 'method=optimize', 'algorithm=lbfgs', 'iter=10000']\n",
            "07:51:54 - cmdstanpy - INFO - Chain [1] start processing\n",
            "INFO:cmdstanpy:Chain [1] start processing\n",
            "07:51:55 - cmdstanpy - INFO - Chain [1] done processing\n",
            "INFO:cmdstanpy:Chain [1] done processing\n"
          ]
        },
        {
          "output_type": "stream",
          "name": "stdout",
          "text": [
            "Model Number: 693 with model DatepartRegression in generation 4 of 10\n",
            "Template Eval Error: ValueError(\"regression_type='User' but no future_regressor passed\") in model 693: DatepartRegression\n",
            "Model Number: 694 with model LastValueNaive in generation 4 of 10\n",
            "Model Number: 695 with model NVAR in generation 4 of 10\n",
            "Model Number: 696 with model MetricMotif in generation 4 of 10\n",
            "Model Number: 697 with model GLM in generation 4 of 10\n",
            "Model Number: 698 with model UnobservedComponents in generation 4 of 10\n",
            "Model Number: 699 with model SeasonalityMotif in generation 4 of 10\n",
            "Model Number: 700 with model ConstantNaive in generation 4 of 10\n",
            "Model Number: 701 with model DatepartRegression in generation 4 of 10\n",
            "Model Number: 702 with model UnobservedComponents in generation 4 of 10\n",
            "Model Number: 703 with model ConstantNaive in generation 4 of 10\n",
            "Model Number: 704 with model UnivariateMotif in generation 4 of 10\n",
            "Model Number: 705 with model SeasonalityMotif in generation 4 of 10\n",
            "Model Number: 706 with model MultivariateRegression in generation 4 of 10\n"
          ]
        },
        {
          "output_type": "stream",
          "name": "stderr",
          "text": [
            "[Parallel(n_jobs=-2)]: Using backend SequentialBackend with 1 concurrent workers.\n",
            "[Parallel(n_jobs=-2)]: Done 200 out of 200 | elapsed:    0.6s finished\n",
            "[Parallel(n_jobs=1)]: Using backend SequentialBackend with 1 concurrent workers.\n",
            "[Parallel(n_jobs=1)]: Done 200 out of 200 | elapsed:    0.0s finished\n",
            "[Parallel(n_jobs=1)]: Using backend SequentialBackend with 1 concurrent workers.\n",
            "[Parallel(n_jobs=1)]: Done 200 out of 200 | elapsed:    0.0s finished\n",
            "[Parallel(n_jobs=1)]: Using backend SequentialBackend with 1 concurrent workers.\n",
            "[Parallel(n_jobs=1)]: Done 200 out of 200 | elapsed:    0.0s finished\n",
            "/usr/local/lib/python3.7/dist-packages/autots/tools/probabilistic.py:67: RuntimeWarning: invalid value encountered in true_divide\n",
            "  (prior_mu / prior_sigma**2) + ((n * data_mu) / prior_sigma**2)\n",
            "/usr/local/lib/python3.7/dist-packages/autots/tools/probabilistic.py:68: RuntimeWarning: divide by zero encountered in true_divide\n",
            "  ) / ((1 / prior_sigma**2) + (n / prior_sigma**2))\n"
          ]
        },
        {
          "output_type": "stream",
          "name": "stdout",
          "text": [
            "Model Number: 707 with model SeasonalNaive in generation 4 of 10\n",
            "Model Number: 708 with model MetricMotif in generation 4 of 10\n",
            "Model Number: 709 with model SectionalMotif in generation 4 of 10\n",
            "Model Number: 710 with model AverageValueNaive in generation 4 of 10\n",
            "Model Number: 711 with model SeasonalityMotif in generation 4 of 10\n",
            "Model Number: 712 with model GLS in generation 4 of 10\n",
            "Model Number: 713 with model Theta in generation 4 of 10\n",
            "New Generation: 5 of 10\n",
            "Model Number: 714 with model SectionalMotif in generation 5 of 10\n"
          ]
        },
        {
          "output_type": "stream",
          "name": "stderr",
          "text": [
            "INFO:prophet:Disabling yearly seasonality. Run prophet with yearly_seasonality=True to override this.\n",
            "INFO:prophet:Disabling daily seasonality. Run prophet with daily_seasonality=True to override this.\n",
            "DEBUG:cmdstanpy:input tempfile: /tmp/tmpkpj4r36s/oct7uu4k.json\n"
          ]
        },
        {
          "output_type": "stream",
          "name": "stdout",
          "text": [
            "Model Number: 715 with model FBProphet in generation 5 of 10\n"
          ]
        },
        {
          "output_type": "stream",
          "name": "stderr",
          "text": [
            "DEBUG:cmdstanpy:input tempfile: /tmp/tmpkpj4r36s/8yzj2416.json\n",
            "DEBUG:cmdstanpy:idx 0\n",
            "DEBUG:cmdstanpy:running CmdStan, num_threads: None\n",
            "DEBUG:cmdstanpy:CmdStan args: ['/usr/local/lib/python3.7/dist-packages/prophet/stan_model/prophet_model.bin', 'random', 'seed=46666', 'data', 'file=/tmp/tmpkpj4r36s/oct7uu4k.json', 'init=/tmp/tmpkpj4r36s/8yzj2416.json', 'output', 'file=/tmp/tmpkpj4r36s/prophet_modelxei3uhjy/prophet_model-20221121075159.csv', 'method=optimize', 'algorithm=lbfgs', 'iter=10000']\n",
            "07:51:59 - cmdstanpy - INFO - Chain [1] start processing\n",
            "INFO:cmdstanpy:Chain [1] start processing\n",
            "07:51:59 - cmdstanpy - INFO - Chain [1] done processing\n",
            "INFO:cmdstanpy:Chain [1] done processing\n"
          ]
        },
        {
          "output_type": "stream",
          "name": "stdout",
          "text": [
            "Model Number: 716 with model Theta in generation 5 of 10\n",
            "Model Number: 717 with model AverageValueNaive in generation 5 of 10\n",
            "Model Number: 718 with model SeasonalNaive in generation 5 of 10\n",
            "Template Eval Error: Exception('Transformer HolidayTransformer failed on fit') in model 718: SeasonalNaive\n",
            "Model Number: 719 with model UnivariateMotif in generation 5 of 10\n",
            "Model Number: 720 with model MetricMotif in generation 5 of 10\n",
            "Model Number: 721 with model ARIMA in generation 5 of 10\n",
            "Template Eval Error: ValueError(\"regression_type='User' but future_regressor not supplied\") in model 721: ARIMA\n",
            "Model Number: 722 with model DatepartRegression in generation 5 of 10\n",
            "Model Number: 723 with model ARIMA in generation 5 of 10\n",
            "Model Number: 724 with model AverageValueNaive in generation 5 of 10\n",
            "Model Number: 725 with model MetricMotif in generation 5 of 10\n",
            "Model Number: 726 with model GLM in generation 5 of 10\n",
            "Model Number: 727 with model LastValueNaive in generation 5 of 10\n",
            "Model Number: 728 with model SectionalMotif in generation 5 of 10\n",
            "Model Number: 729 with model SeasonalNaive in generation 5 of 10\n",
            "Model Number: 730 with model NVAR in generation 5 of 10\n",
            "Model Number: 731 with model Theta in generation 5 of 10\n"
          ]
        },
        {
          "output_type": "stream",
          "name": "stderr",
          "text": [
            "/usr/local/lib/python3.7/dist-packages/scipy/interpolate/polyint.py:545: RuntimeWarning: overflow encountered in multiply\n",
            "  self.wi[:j] *= (self.xi[j]-self.xi[:j])\n",
            "/usr/local/lib/python3.7/dist-packages/scipy/interpolate/polyint.py:546: RuntimeWarning: overflow encountered in reduce\n",
            "  self.wi[j] = np.multiply.reduce(self.xi[:j]-self.xi[j])\n",
            "/usr/local/lib/python3.7/dist-packages/scipy/interpolate/polyint.py:643: RuntimeWarning: invalid value encountered in true_divide\n",
            "  p = np.dot(c,self.yi)/np.sum(c,axis=-1)[...,np.newaxis]\n"
          ]
        },
        {
          "output_type": "stream",
          "name": "stdout",
          "text": [
            "Model Number: 732 with model MultivariateMotif in generation 5 of 10\n",
            "Model Number: 733 with model NVAR in generation 5 of 10\n",
            "Model Number: 734 with model ARIMA in generation 5 of 10\n",
            "Model Number: 735 with model ConstantNaive in generation 5 of 10\n",
            "Model Number: 736 with model MultivariateRegression in generation 5 of 10\n"
          ]
        },
        {
          "output_type": "stream",
          "name": "stderr",
          "text": [
            "[Parallel(n_jobs=-2)]: Using backend SequentialBackend with 1 concurrent workers.\n",
            "[Parallel(n_jobs=-2)]: Done 200 out of 200 | elapsed:    0.4s finished\n",
            "[Parallel(n_jobs=1)]: Using backend SequentialBackend with 1 concurrent workers.\n",
            "[Parallel(n_jobs=1)]: Done 200 out of 200 | elapsed:    0.0s finished\n",
            "[Parallel(n_jobs=1)]: Using backend SequentialBackend with 1 concurrent workers.\n",
            "[Parallel(n_jobs=1)]: Done 200 out of 200 | elapsed:    0.0s finished\n",
            "[Parallel(n_jobs=1)]: Using backend SequentialBackend with 1 concurrent workers.\n",
            "[Parallel(n_jobs=1)]: Done 200 out of 200 | elapsed:    0.0s finished\n"
          ]
        },
        {
          "output_type": "stream",
          "name": "stdout",
          "text": [
            "Model Number: 737 with model MultivariateRegression in generation 5 of 10\n"
          ]
        },
        {
          "output_type": "stream",
          "name": "stderr",
          "text": [
            "[Parallel(n_jobs=-2)]: Using backend SequentialBackend with 1 concurrent workers.\n",
            "[Parallel(n_jobs=-2)]: Done 200 out of 200 | elapsed:    0.5s finished\n",
            "[Parallel(n_jobs=1)]: Using backend SequentialBackend with 1 concurrent workers.\n",
            "[Parallel(n_jobs=1)]: Done 200 out of 200 | elapsed:    0.0s finished\n",
            "[Parallel(n_jobs=1)]: Using backend SequentialBackend with 1 concurrent workers.\n",
            "[Parallel(n_jobs=1)]: Done 200 out of 200 | elapsed:    0.0s finished\n",
            "[Parallel(n_jobs=1)]: Using backend SequentialBackend with 1 concurrent workers.\n",
            "[Parallel(n_jobs=1)]: Done 200 out of 200 | elapsed:    0.0s finished\n"
          ]
        },
        {
          "output_type": "stream",
          "name": "stdout",
          "text": [
            "Model Number: 738 with model MultivariateRegression in generation 5 of 10\n"
          ]
        },
        {
          "output_type": "stream",
          "name": "stderr",
          "text": [
            "[Parallel(n_jobs=-2)]: Using backend SequentialBackend with 1 concurrent workers.\n",
            "[Parallel(n_jobs=-2)]: Done 200 out of 200 | elapsed:    0.5s finished\n",
            "[Parallel(n_jobs=1)]: Using backend SequentialBackend with 1 concurrent workers.\n",
            "[Parallel(n_jobs=1)]: Done 200 out of 200 | elapsed:    0.0s finished\n",
            "[Parallel(n_jobs=1)]: Using backend SequentialBackend with 1 concurrent workers.\n",
            "[Parallel(n_jobs=1)]: Done 200 out of 200 | elapsed:    0.0s finished\n",
            "[Parallel(n_jobs=1)]: Using backend SequentialBackend with 1 concurrent workers.\n",
            "[Parallel(n_jobs=1)]: Done 200 out of 200 | elapsed:    0.0s finished\n"
          ]
        },
        {
          "output_type": "stream",
          "name": "stdout",
          "text": [
            "Model Number: 739 with model MultivariateMotif in generation 5 of 10\n",
            "Model Number: 740 with model MultivariateRegression in generation 5 of 10\n",
            "Template Eval Error: LinAlgError('Matrix is not positive definite') in model 740: MultivariateRegression\n",
            "Model Number: 741 with model UnobservedComponents in generation 5 of 10\n"
          ]
        },
        {
          "output_type": "stream",
          "name": "stderr",
          "text": [
            "INFO:prophet:Disabling yearly seasonality. Run prophet with yearly_seasonality=True to override this.\n",
            "INFO:prophet:Disabling daily seasonality. Run prophet with daily_seasonality=True to override this.\n",
            "DEBUG:cmdstanpy:input tempfile: /tmp/tmpkpj4r36s/e8gba84_.json\n",
            "DEBUG:cmdstanpy:input tempfile: /tmp/tmpkpj4r36s/wwdmmtah.json\n",
            "DEBUG:cmdstanpy:idx 0\n",
            "DEBUG:cmdstanpy:running CmdStan, num_threads: None\n",
            "DEBUG:cmdstanpy:CmdStan args: ['/usr/local/lib/python3.7/dist-packages/prophet/stan_model/prophet_model.bin', 'random', 'seed=60745', 'data', 'file=/tmp/tmpkpj4r36s/e8gba84_.json', 'init=/tmp/tmpkpj4r36s/wwdmmtah.json', 'output', 'file=/tmp/tmpkpj4r36s/prophet_modelhlqbbzkd/prophet_model-20221121075207.csv', 'method=optimize', 'algorithm=lbfgs', 'iter=10000']\n",
            "07:52:07 - cmdstanpy - INFO - Chain [1] start processing\n",
            "INFO:cmdstanpy:Chain [1] start processing\n"
          ]
        },
        {
          "output_type": "stream",
          "name": "stdout",
          "text": [
            "Model Number: 742 with model FBProphet in generation 5 of 10\n",
            "No anomalies detected.\n"
          ]
        },
        {
          "output_type": "stream",
          "name": "stderr",
          "text": [
            "07:52:07 - cmdstanpy - INFO - Chain [1] done processing\n",
            "INFO:cmdstanpy:Chain [1] done processing\n"
          ]
        },
        {
          "output_type": "stream",
          "name": "stdout",
          "text": [
            "Model Number: 743 with model UnivariateMotif in generation 5 of 10\n",
            "Model Number: 744 with model ARIMA in generation 5 of 10\n",
            "Template Eval Error: Exception('Transformer Detrend failed on fit') in model 744: ARIMA\n",
            "Model Number: 745 with model UnobservedComponents in generation 5 of 10\n",
            "Model Number: 746 with model MetricMotif in generation 5 of 10\n",
            "Model Number: 747 with model UnivariateRegression in generation 5 of 10\n",
            "Model Number: 748 with model MultivariateRegression in generation 5 of 10\n",
            "Model Number: 749 with model DatepartRegression in generation 5 of 10\n",
            "Template Eval Error: Exception('Transformer BTCD failed on fit') in model 749: DatepartRegression\n",
            "Model Number: 750 with model NVAR in generation 5 of 10\n",
            "Model Number: 751 with model WindowRegression in generation 5 of 10\n",
            "Template Eval Error: Exception('Transformer BTCD failed on fit') in model 751: WindowRegression\n",
            "Model Number: 752 with model SeasonalityMotif in generation 5 of 10\n",
            "Model Number: 753 with model FBProphet in generation 5 of 10\n"
          ]
        },
        {
          "output_type": "stream",
          "name": "stderr",
          "text": [
            "INFO:prophet:Disabling yearly seasonality. Run prophet with yearly_seasonality=True to override this.\n",
            "INFO:prophet:Disabling daily seasonality. Run prophet with daily_seasonality=True to override this.\n",
            "DEBUG:cmdstanpy:input tempfile: /tmp/tmpkpj4r36s/bq10940m.json\n",
            "DEBUG:cmdstanpy:input tempfile: /tmp/tmpkpj4r36s/u5v8pnd9.json\n",
            "DEBUG:cmdstanpy:idx 0\n",
            "DEBUG:cmdstanpy:running CmdStan, num_threads: None\n",
            "DEBUG:cmdstanpy:CmdStan args: ['/usr/local/lib/python3.7/dist-packages/prophet/stan_model/prophet_model.bin', 'random', 'seed=31435', 'data', 'file=/tmp/tmpkpj4r36s/bq10940m.json', 'init=/tmp/tmpkpj4r36s/u5v8pnd9.json', 'output', 'file=/tmp/tmpkpj4r36s/prophet_modelwkq6yg5b/prophet_model-20221121075209.csv', 'method=optimize', 'algorithm=lbfgs', 'iter=10000']\n",
            "07:52:09 - cmdstanpy - INFO - Chain [1] start processing\n",
            "INFO:cmdstanpy:Chain [1] start processing\n",
            "07:52:09 - cmdstanpy - INFO - Chain [1] done processing\n",
            "INFO:cmdstanpy:Chain [1] done processing\n"
          ]
        },
        {
          "output_type": "stream",
          "name": "stdout",
          "text": [
            "Model Number: 754 with model UnivariateMotif in generation 5 of 10\n",
            "Model Number: 755 with model FBProphet in generation 5 of 10\n",
            "Template Eval Error: ValueError('more than 1 year of data is required for holiday detection.') in model 755: FBProphet\n",
            "Model Number: 756 with model WindowRegression in generation 5 of 10\n",
            "Template Eval Error: Exception('Transformer BTCD failed on fit') in model 756: WindowRegression\n",
            "Model Number: 757 with model WindowRegression in generation 5 of 10\n",
            "Model Number: 758 with model NVAR in generation 5 of 10\n",
            "Model Number: 759 with model MultivariateRegression in generation 5 of 10\n"
          ]
        },
        {
          "output_type": "stream",
          "name": "stderr",
          "text": [
            "[Parallel(n_jobs=-2)]: Using backend SequentialBackend with 1 concurrent workers.\n",
            "[Parallel(n_jobs=-2)]: Done 200 out of 200 | elapsed:    1.0s finished\n",
            "[Parallel(n_jobs=1)]: Using backend SequentialBackend with 1 concurrent workers.\n",
            "[Parallel(n_jobs=1)]: Done 200 out of 200 | elapsed:    0.0s finished\n",
            "[Parallel(n_jobs=1)]: Using backend SequentialBackend with 1 concurrent workers.\n",
            "[Parallel(n_jobs=1)]: Done 200 out of 200 | elapsed:    0.0s finished\n",
            "[Parallel(n_jobs=1)]: Using backend SequentialBackend with 1 concurrent workers.\n",
            "[Parallel(n_jobs=1)]: Done 200 out of 200 | elapsed:    0.0s finished\n"
          ]
        },
        {
          "output_type": "stream",
          "name": "stdout",
          "text": [
            "Model Number: 760 with model Theta in generation 5 of 10\n",
            "Model Number: 761 with model ConstantNaive in generation 5 of 10\n",
            "Model Number: 762 with model NVAR in generation 5 of 10\n",
            "Model Number: 763 with model FBProphet in generation 5 of 10\n",
            "No anomalies detected.\n",
            "Template Eval Error: ValueError('more than 1 year of data is required for holiday detection.') in model 763: FBProphet\n",
            "Model Number: 764 with model WindowRegression in generation 5 of 10\n",
            "Model Number: 765 with model LastValueNaive in generation 5 of 10\n",
            "Model Number: 766 with model LastValueNaive in generation 5 of 10\n"
          ]
        },
        {
          "output_type": "stream",
          "name": "stderr",
          "text": [
            "/usr/local/lib/python3.7/dist-packages/sklearn/neural_network/_multilayer_perceptron.py:549: ConvergenceWarning: lbfgs failed to converge (status=1):\n",
            "STOP: TOTAL NO. of ITERATIONS REACHED LIMIT.\n",
            "\n",
            "Increase the number of iterations (max_iter) or scale the data as shown in:\n",
            "    https://scikit-learn.org/stable/modules/preprocessing.html\n",
            "  self.n_iter_ = _check_optimize_result(\"lbfgs\", opt_res, self.max_iter)\n"
          ]
        },
        {
          "output_type": "stream",
          "name": "stdout",
          "text": [
            "Model Number: 767 with model NVAR in generation 5 of 10\n",
            "Model Number: 768 with model GLS in generation 5 of 10\n",
            "Model Number: 769 with model Theta in generation 5 of 10\n",
            "Model Number: 770 with model ETS in generation 5 of 10\n",
            "Model Number: 771 with model WindowRegression in generation 5 of 10\n",
            "Template Eval Error: ValueError(\"regression_type='User' but no future_regressor passed\") in model 771: WindowRegression\n",
            "Model Number: 772 with model NVAR in generation 5 of 10\n",
            "Model Number: 773 with model NVAR in generation 5 of 10\n",
            "Model Number: 774 with model UnivariateMotif in generation 5 of 10\n",
            "Model Number: 775 with model ETS in generation 5 of 10\n",
            "ETS error ValueError('endog must be strictly positive when usingmultiplicative trend or seasonal components.')\n",
            "ETS failed on Close with ValueError('endog must be strictly positive when usingmultiplicative trend or seasonal components.')\n"
          ]
        },
        {
          "output_type": "stream",
          "name": "stderr",
          "text": [
            "/usr/local/lib/python3.7/dist-packages/sklearn/base.py:451: UserWarning: X does not have valid feature names, but MLPRegressor was fitted with feature names\n",
            "  \"X does not have valid feature names, but\"\n",
            "/usr/local/lib/python3.7/dist-packages/sklearn/base.py:451: UserWarning: X does not have valid feature names, but MLPRegressor was fitted with feature names\n",
            "  \"X does not have valid feature names, but\"\n",
            "/usr/local/lib/python3.7/dist-packages/sklearn/base.py:451: UserWarning: X does not have valid feature names, but MLPRegressor was fitted with feature names\n",
            "  \"X does not have valid feature names, but\"\n",
            "/usr/local/lib/python3.7/dist-packages/sklearn/base.py:451: UserWarning: X does not have valid feature names, but MLPRegressor was fitted with feature names\n",
            "  \"X does not have valid feature names, but\"\n",
            "/usr/local/lib/python3.7/dist-packages/sklearn/base.py:451: UserWarning: X does not have valid feature names, but MLPRegressor was fitted with feature names\n",
            "  \"X does not have valid feature names, but\"\n",
            "/usr/local/lib/python3.7/dist-packages/sklearn/base.py:451: UserWarning: X does not have valid feature names, but MLPRegressor was fitted with feature names\n",
            "  \"X does not have valid feature names, but\"\n",
            "/usr/local/lib/python3.7/dist-packages/sklearn/base.py:451: UserWarning: X does not have valid feature names, but MLPRegressor was fitted with feature names\n",
            "  \"X does not have valid feature names, but\"\n",
            "/usr/local/lib/python3.7/dist-packages/sklearn/base.py:451: UserWarning: X does not have valid feature names, but MLPRegressor was fitted with feature names\n",
            "  \"X does not have valid feature names, but\"\n",
            "/usr/local/lib/python3.7/dist-packages/sklearn/base.py:451: UserWarning: X does not have valid feature names, but MLPRegressor was fitted with feature names\n",
            "  \"X does not have valid feature names, but\"\n",
            "/usr/local/lib/python3.7/dist-packages/sklearn/base.py:451: UserWarning: X does not have valid feature names, but MLPRegressor was fitted with feature names\n",
            "  \"X does not have valid feature names, but\"\n",
            "/usr/local/lib/python3.7/dist-packages/sklearn/base.py:451: UserWarning: X does not have valid feature names, but MLPRegressor was fitted with feature names\n",
            "  \"X does not have valid feature names, but\"\n",
            "/usr/local/lib/python3.7/dist-packages/sklearn/base.py:451: UserWarning: X does not have valid feature names, but MLPRegressor was fitted with feature names\n",
            "  \"X does not have valid feature names, but\"\n"
          ]
        },
        {
          "output_type": "stream",
          "name": "stdout",
          "text": [
            "Model Number: 776 with model UnobservedComponents in generation 5 of 10\n",
            "Template Eval Error: LinAlgError('Singular matrix') in model 776: UnobservedComponents\n",
            "Model Number: 777 with model UnivariateRegression in generation 5 of 10\n",
            "Model Number: 778 with model LastValueNaive in generation 5 of 10\n",
            "Model Number: 779 with model AverageValueNaive in generation 5 of 10\n",
            "Model Number: 780 with model DatepartRegression in generation 5 of 10\n",
            "Epoch 1/100\n",
            "6/6 [==============================] - 7s 288ms/step - loss: 102957826048.0000 - val_loss: 7126688768.0000\n",
            "Epoch 2/100\n",
            "6/6 [==============================] - 1s 166ms/step - loss: 98776047616.0000 - val_loss: 3939451392.0000\n",
            "Epoch 3/100\n",
            "6/6 [==============================] - 1s 165ms/step - loss: 82910814208.0000 - val_loss: 3465553664.0000\n",
            "Epoch 4/100\n",
            "6/6 [==============================] - 1s 168ms/step - loss: 92436062208.0000 - val_loss: 2837166336.0000\n",
            "Epoch 5/100\n",
            "6/6 [==============================] - 1s 168ms/step - loss: 82955902976.0000 - val_loss: 2060269312.0000\n",
            "Epoch 6/100\n",
            "6/6 [==============================] - 1s 171ms/step - loss: 77031882752.0000 - val_loss: 1866533760.0000\n",
            "Epoch 7/100\n",
            "6/6 [==============================] - 1s 168ms/step - loss: 97120182272.0000 - val_loss: 1490947840.0000\n",
            "Epoch 8/100\n",
            "6/6 [==============================] - 1s 172ms/step - loss: 90809262080.0000 - val_loss: 1348877696.0000\n",
            "Epoch 9/100\n",
            "6/6 [==============================] - 1s 170ms/step - loss: 72975007744.0000 - val_loss: 1280673152.0000\n",
            "Epoch 10/100\n",
            "6/6 [==============================] - 1s 169ms/step - loss: 80438296576.0000 - val_loss: 952134272.0000\n",
            "Epoch 11/100\n",
            "6/6 [==============================] - 1s 169ms/step - loss: 75655954432.0000 - val_loss: 812781440.0000\n",
            "Epoch 12/100\n",
            "6/6 [==============================] - 1s 170ms/step - loss: 74986029056.0000 - val_loss: 607396800.0000\n",
            "Epoch 13/100\n",
            "6/6 [==============================] - 1s 169ms/step - loss: 76523085824.0000 - val_loss: 578440832.0000\n",
            "Epoch 14/100\n",
            "6/6 [==============================] - 1s 165ms/step - loss: 83564314624.0000 - val_loss: 241062384.0000\n",
            "Epoch 15/100\n",
            "6/6 [==============================] - 1s 168ms/step - loss: 65501622272.0000 - val_loss: 132728232.0000\n",
            "Epoch 16/100\n",
            "6/6 [==============================] - 1s 164ms/step - loss: 66653306880.0000 - val_loss: 261329888.0000\n",
            "Epoch 17/100\n",
            "6/6 [==============================] - 1s 163ms/step - loss: 83184320512.0000 - val_loss: 148216000.0000\n",
            "Epoch 18/100\n",
            "6/6 [==============================] - 1s 168ms/step - loss: 74304126976.0000 - val_loss: 101779728.0000\n",
            "Epoch 19/100\n",
            "6/6 [==============================] - 1s 168ms/step - loss: 74928824320.0000 - val_loss: 147696928.0000\n",
            "Epoch 20/100\n",
            "6/6 [==============================] - 1s 167ms/step - loss: 83183714304.0000 - val_loss: 95032952.0000\n",
            "Epoch 21/100\n",
            "6/6 [==============================] - 1s 166ms/step - loss: 74563829760.0000 - val_loss: 48135944.0000\n",
            "Epoch 22/100\n",
            "6/6 [==============================] - 1s 168ms/step - loss: 72543526912.0000 - val_loss: 30563916.0000\n",
            "Epoch 23/100\n",
            "6/6 [==============================] - 1s 164ms/step - loss: 66169491456.0000 - val_loss: 41565464.0000\n",
            "Epoch 24/100\n",
            "6/6 [==============================] - 1s 161ms/step - loss: 69637660672.0000 - val_loss: 65563076.0000\n",
            "Epoch 25/100\n",
            "6/6 [==============================] - 1s 161ms/step - loss: 67213111296.0000 - val_loss: 68696904.0000\n",
            "Epoch 26/100\n",
            "6/6 [==============================] - 1s 162ms/step - loss: 73218760704.0000 - val_loss: 62298056.0000\n",
            "Epoch 27/100\n",
            "6/6 [==============================] - 1s 158ms/step - loss: 77779599360.0000 - val_loss: 49462876.0000\n",
            "Epoch 28/100\n",
            "6/6 [==============================] - 1s 165ms/step - loss: 60365803520.0000 - val_loss: 88404856.0000\n",
            "Epoch 29/100\n",
            "6/6 [==============================] - 1s 162ms/step - loss: 57811996672.0000 - val_loss: 114870512.0000\n",
            "Epoch 30/100\n",
            "6/6 [==============================] - 1s 164ms/step - loss: 75650555904.0000 - val_loss: 116954632.0000\n",
            "Epoch 31/100\n",
            "6/6 [==============================] - 1s 168ms/step - loss: 59873693696.0000 - val_loss: 187802672.0000\n",
            "Epoch 32/100\n",
            "6/6 [==============================] - 1s 165ms/step - loss: 57170345984.0000 - val_loss: 189867520.0000\n",
            "1/1 [==============================] - 1s 516ms/step\n",
            "Template Eval Error: ValueError('Model DatepartRegression returned NaN for one or more series. fail_on_forecast_nan=True') in model 780: DatepartRegression\n",
            "Model Number: 781 with model GLS in generation 5 of 10\n",
            "Model Number: 782 with model Theta in generation 5 of 10\n",
            "Model Number: 783 with model UnivariateMotif in generation 5 of 10\n",
            "Model Number: 784 with model UnobservedComponents in generation 5 of 10\n",
            "Template Eval Error: Exception('Transformer BTCD failed on fit') in model 784: UnobservedComponents\n",
            "Model Number: 785 with model MetricMotif in generation 5 of 10\n",
            "Model Number: 786 with model SeasonalityMotif in generation 5 of 10\n",
            "Model Number: 787 with model ARIMA in generation 5 of 10\n",
            "Model Number: 788 with model Theta in generation 5 of 10\n",
            "Model Number: 789 with model ETS in generation 5 of 10\n",
            "Model Number: 790 with model Theta in generation 5 of 10\n",
            "Model Number: 791 with model GLM in generation 5 of 10\n",
            "Model Number: 792 with model MetricMotif in generation 5 of 10\n"
          ]
        },
        {
          "output_type": "stream",
          "name": "stderr",
          "text": [
            "/usr/local/lib/python3.7/dist-packages/statsmodels/genmod/families/links.py:188: RuntimeWarning: overflow encountered in exp\n",
            "  t = np.exp(-z)\n"
          ]
        },
        {
          "output_type": "stream",
          "name": "stdout",
          "text": [
            "Model Number: 793 with model MetricMotif in generation 5 of 10\n",
            "Model Number: 794 with model NVAR in generation 5 of 10\n",
            "Model Number: 795 with model ConstantNaive in generation 5 of 10\n",
            "Model Number: 796 with model SeasonalNaive in generation 5 of 10\n",
            "Model Number: 797 with model UnivariateMotif in generation 5 of 10\n",
            "Model Number: 798 with model ARIMA in generation 5 of 10\n",
            "Template Eval Error: ValueError(\"regression_type='User' but future_regressor not supplied\") in model 798: ARIMA\n",
            "Model Number: 799 with model WindowRegression in generation 5 of 10\n",
            "Model Number: 800 with model MetricMotif in generation 5 of 10\n",
            "Model Number: 801 with model FBProphet in generation 5 of 10\n",
            "No anomalies detected.\n",
            "Template Eval Error: ValueError('more than 1 year of data is required for holiday detection.') in model 801: FBProphet\n",
            "Model Number: 802 with model UnobservedComponents in generation 5 of 10\n",
            "Model Number: 803 with model ConstantNaive in generation 5 of 10\n",
            "Model Number: 804 with model DatepartRegression in generation 5 of 10\n",
            "Model Number: 805 with model ConstantNaive in generation 5 of 10\n",
            "Model Number: 806 with model ConstantNaive in generation 5 of 10\n"
          ]
        },
        {
          "output_type": "stream",
          "name": "stderr",
          "text": [
            "/usr/local/lib/python3.7/dist-packages/sklearn/svm/_base.py:1208: ConvergenceWarning: Liblinear failed to converge, increase the number of iterations.\n",
            "  ConvergenceWarning,\n",
            "/usr/local/lib/python3.7/dist-packages/sklearn/linear_model/_ridge.py:157: LinAlgWarning: Ill-conditioned matrix (rcond=2.35621e-25): result may not be accurate.\n",
            "  return linalg.solve(A, Xy, sym_pos=True, overwrite_a=True).T\n"
          ]
        },
        {
          "output_type": "stream",
          "name": "stdout",
          "text": [
            "Model Number: 807 with model ETS in generation 5 of 10\n",
            "Model Number: 808 with model DatepartRegression in generation 5 of 10\n",
            "Template Eval Error: ValueError(\"regression_type='User' but no future_regressor passed\") in model 808: DatepartRegression\n",
            "Model Number: 809 with model ETS in generation 5 of 10\n",
            "Model Number: 810 with model MultivariateRegression in generation 5 of 10\n"
          ]
        },
        {
          "output_type": "stream",
          "name": "stderr",
          "text": [
            "[Parallel(n_jobs=-2)]: Using backend SequentialBackend with 1 concurrent workers.\n",
            "[Parallel(n_jobs=-2)]: Done 200 out of 200 | elapsed:    0.5s finished\n",
            "[Parallel(n_jobs=1)]: Using backend SequentialBackend with 1 concurrent workers.\n",
            "[Parallel(n_jobs=1)]: Done 200 out of 200 | elapsed:    0.0s finished\n",
            "[Parallel(n_jobs=1)]: Using backend SequentialBackend with 1 concurrent workers.\n",
            "[Parallel(n_jobs=1)]: Done 200 out of 200 | elapsed:    0.0s finished\n",
            "[Parallel(n_jobs=1)]: Using backend SequentialBackend with 1 concurrent workers.\n",
            "[Parallel(n_jobs=1)]: Done 200 out of 200 | elapsed:    0.0s finished\n"
          ]
        },
        {
          "output_type": "stream",
          "name": "stdout",
          "text": [
            "Model Number: 811 with model MetricMotif in generation 5 of 10\n",
            "Model Number: 812 with model LastValueNaive in generation 5 of 10\n",
            "Model Number: 813 with model Theta in generation 5 of 10\n",
            "Model Number: 814 with model UnobservedComponents in generation 5 of 10\n",
            "Model Number: 815 with model NVAR in generation 5 of 10\n",
            "Model Number: 816 with model SeasonalNaive in generation 5 of 10\n",
            "Model Number: 817 with model SectionalMotif in generation 5 of 10\n",
            "New Generation: 6 of 10\n",
            "Model Number: 818 with model Theta in generation 6 of 10\n",
            "Model Number: 819 with model NVAR in generation 6 of 10\n",
            "Model Number: 820 with model MultivariateMotif in generation 6 of 10\n",
            "Model Number: 821 with model ConstantNaive in generation 6 of 10\n",
            "Template Eval Error: Exception('Transformer Cointegration failed on fit') in model 821: ConstantNaive\n",
            "Model Number: 822 with model MetricMotif in generation 6 of 10\n",
            "Model Number: 823 with model UnobservedComponents in generation 6 of 10\n",
            "Model Number: 824 with model WindowRegression in generation 6 of 10\n",
            "Template Eval Error: ValueError(\"regression_type='User' but no future_regressor passed\") in model 824: WindowRegression\n",
            "Model Number: 825 with model UnobservedComponents in generation 6 of 10\n",
            "Model Number: 826 with model LastValueNaive in generation 6 of 10\n",
            "Model Number: 827 with model LastValueNaive in generation 6 of 10\n",
            "Model Number: 828 with model MultivariateRegression in generation 6 of 10\n",
            "Template Eval Error: ValueError(\"regression_type='User' but not future_regressor supplied.\") in model 828: MultivariateRegression\n",
            "Model Number: 829 with model UnobservedComponents in generation 6 of 10\n",
            "Model Number: 830 with model SectionalMotif in generation 6 of 10\n",
            "Model Number: 831 with model AverageValueNaive in generation 6 of 10\n",
            "Model Number: 832 with model ETS in generation 6 of 10\n",
            "Model Number: 833 with model WindowRegression in generation 6 of 10\n",
            "Epoch 1/50\n",
            "12/12 [==============================] - 7s 126ms/step - loss: 0.4216 - val_loss: 0.4244\n",
            "Epoch 2/50\n",
            "12/12 [==============================] - 1s 70ms/step - loss: 0.4175 - val_loss: 0.4207\n",
            "Epoch 3/50\n",
            "12/12 [==============================] - 1s 73ms/step - loss: 0.4156 - val_loss: 0.4173\n",
            "Epoch 4/50\n",
            "12/12 [==============================] - 1s 75ms/step - loss: 0.4142 - val_loss: 0.4139\n",
            "Epoch 5/50\n",
            "12/12 [==============================] - 1s 73ms/step - loss: 0.4048 - val_loss: 0.4109\n",
            "Epoch 6/50\n",
            "12/12 [==============================] - 1s 71ms/step - loss: 0.4009 - val_loss: 0.4082\n",
            "Epoch 7/50\n",
            "12/12 [==============================] - 1s 72ms/step - loss: 0.4022 - val_loss: 0.4057\n",
            "Epoch 8/50\n",
            "12/12 [==============================] - 1s 69ms/step - loss: 0.4001 - val_loss: 0.4034\n",
            "Epoch 9/50\n",
            "12/12 [==============================] - 1s 74ms/step - loss: 0.4015 - val_loss: 0.4009\n",
            "Epoch 10/50\n",
            "12/12 [==============================] - 1s 72ms/step - loss: 0.3919 - val_loss: 0.3987\n",
            "Epoch 11/50\n",
            "12/12 [==============================] - 1s 69ms/step - loss: 0.3945 - val_loss: 0.3966\n",
            "Epoch 12/50\n",
            "12/12 [==============================] - 1s 72ms/step - loss: 0.3909 - val_loss: 0.3945\n",
            "Epoch 13/50\n",
            "12/12 [==============================] - 1s 72ms/step - loss: 0.3936 - val_loss: 0.3927\n",
            "Epoch 14/50\n",
            "12/12 [==============================] - 1s 70ms/step - loss: 0.3857 - val_loss: 0.3907\n",
            "Epoch 15/50\n",
            "12/12 [==============================] - 1s 69ms/step - loss: 0.3883 - val_loss: 0.3888\n",
            "Epoch 16/50\n",
            "12/12 [==============================] - 1s 70ms/step - loss: 0.3798 - val_loss: 0.3872\n",
            "Epoch 17/50\n",
            "12/12 [==============================] - 1s 71ms/step - loss: 0.3805 - val_loss: 0.3856\n",
            "Epoch 18/50\n",
            "12/12 [==============================] - 1s 71ms/step - loss: 0.3838 - val_loss: 0.3841\n",
            "Epoch 19/50\n",
            "12/12 [==============================] - 1s 75ms/step - loss: 0.3770 - val_loss: 0.3826\n",
            "Epoch 20/50\n",
            "12/12 [==============================] - 1s 73ms/step - loss: 0.3769 - val_loss: 0.3811\n",
            "Epoch 21/50\n",
            "12/12 [==============================] - 1s 73ms/step - loss: 0.3766 - val_loss: 0.3797\n",
            "Epoch 22/50\n",
            "12/12 [==============================] - 1s 71ms/step - loss: 0.3802 - val_loss: 0.3783\n",
            "Epoch 23/50\n",
            "12/12 [==============================] - 1s 76ms/step - loss: 0.3752 - val_loss: 0.3769\n",
            "Epoch 24/50\n",
            "12/12 [==============================] - 1s 75ms/step - loss: 0.3722 - val_loss: 0.3756\n",
            "Epoch 25/50\n",
            "12/12 [==============================] - 1s 70ms/step - loss: 0.3753 - val_loss: 0.3745\n",
            "Epoch 26/50\n",
            "12/12 [==============================] - 1s 70ms/step - loss: 0.3705 - val_loss: 0.3734\n",
            "Epoch 27/50\n",
            "12/12 [==============================] - 1s 71ms/step - loss: 0.3713 - val_loss: 0.3721\n",
            "Epoch 28/50\n",
            "12/12 [==============================] - 1s 71ms/step - loss: 0.3642 - val_loss: 0.3711\n",
            "Epoch 29/50\n",
            "12/12 [==============================] - 1s 73ms/step - loss: 0.3688 - val_loss: 0.3702\n",
            "Epoch 30/50\n",
            "12/12 [==============================] - 1s 72ms/step - loss: 0.3661 - val_loss: 0.3692\n",
            "Epoch 31/50\n",
            "12/12 [==============================] - 1s 73ms/step - loss: 0.3644 - val_loss: 0.3683\n",
            "Epoch 32/50\n",
            "12/12 [==============================] - 1s 71ms/step - loss: 0.3652 - val_loss: 0.3674\n",
            "Epoch 33/50\n",
            "12/12 [==============================] - 1s 67ms/step - loss: 0.3688 - val_loss: 0.3664\n",
            "Epoch 34/50\n",
            "12/12 [==============================] - 1s 71ms/step - loss: 0.3597 - val_loss: 0.3656\n",
            "Epoch 35/50\n",
            "12/12 [==============================] - 1s 74ms/step - loss: 0.3593 - val_loss: 0.3648\n",
            "Epoch 36/50\n",
            "12/12 [==============================] - 1s 70ms/step - loss: 0.3586 - val_loss: 0.3639\n",
            "Epoch 37/50\n",
            "12/12 [==============================] - 1s 71ms/step - loss: 0.3629 - val_loss: 0.3632\n",
            "Epoch 38/50\n",
            "12/12 [==============================] - 1s 72ms/step - loss: 0.3610 - val_loss: 0.3625\n",
            "Epoch 39/50\n",
            "12/12 [==============================] - 1s 69ms/step - loss: 0.3618 - val_loss: 0.3616\n",
            "Epoch 40/50\n",
            "12/12 [==============================] - 1s 72ms/step - loss: 0.3579 - val_loss: 0.3609\n",
            "Epoch 41/50\n",
            "12/12 [==============================] - 1s 72ms/step - loss: 0.3597 - val_loss: 0.3602\n",
            "Epoch 42/50\n",
            "12/12 [==============================] - 1s 72ms/step - loss: 0.3585 - val_loss: 0.3593\n",
            "Epoch 43/50\n",
            "12/12 [==============================] - 1s 73ms/step - loss: 0.3571 - val_loss: 0.3588\n",
            "Epoch 44/50\n",
            "12/12 [==============================] - 1s 69ms/step - loss: 0.3613 - val_loss: 0.3582\n",
            "Epoch 45/50\n",
            "12/12 [==============================] - 1s 70ms/step - loss: 0.3561 - val_loss: 0.3577\n",
            "Epoch 46/50\n",
            "12/12 [==============================] - 1s 68ms/step - loss: 0.3557 - val_loss: 0.3571\n",
            "Epoch 47/50\n",
            "12/12 [==============================] - 1s 70ms/step - loss: 0.3567 - val_loss: 0.3568\n",
            "Epoch 48/50\n",
            "12/12 [==============================] - 1s 70ms/step - loss: 0.3529 - val_loss: 0.3563\n",
            "Epoch 49/50\n",
            "12/12 [==============================] - 1s 71ms/step - loss: 0.3537 - val_loss: 0.3558\n",
            "Epoch 50/50\n",
            "12/12 [==============================] - 1s 71ms/step - loss: 0.3526 - val_loss: 0.3552\n",
            "1/1 [==============================] - 1s 529ms/step\n",
            "Model Number: 834 with model GLM in generation 6 of 10\n",
            "Model Number: 835 with model ConstantNaive in generation 6 of 10\n",
            "Model Number: 836 with model UnivariateMotif in generation 6 of 10\n",
            "Model Number: 837 with model MultivariateRegression in generation 6 of 10\n"
          ]
        },
        {
          "output_type": "stream",
          "name": "stderr",
          "text": [
            "[Parallel(n_jobs=-2)]: Using backend SequentialBackend with 1 concurrent workers.\n",
            "[Parallel(n_jobs=-2)]: Done 200 out of 200 | elapsed:    0.5s finished\n",
            "[Parallel(n_jobs=1)]: Using backend SequentialBackend with 1 concurrent workers.\n",
            "[Parallel(n_jobs=1)]: Done 200 out of 200 | elapsed:    0.0s finished\n",
            "[Parallel(n_jobs=1)]: Using backend SequentialBackend with 1 concurrent workers.\n",
            "[Parallel(n_jobs=1)]: Done 200 out of 200 | elapsed:    0.0s finished\n",
            "[Parallel(n_jobs=1)]: Using backend SequentialBackend with 1 concurrent workers.\n",
            "[Parallel(n_jobs=1)]: Done 200 out of 200 | elapsed:    0.0s finished\n"
          ]
        },
        {
          "output_type": "stream",
          "name": "stdout",
          "text": [
            "Model Number: 838 with model ETS in generation 6 of 10\n",
            "Model Number: 839 with model LastValueNaive in generation 6 of 10\n",
            "Model Number: 840 with model MultivariateRegression in generation 6 of 10\n"
          ]
        },
        {
          "output_type": "stream",
          "name": "stderr",
          "text": [
            "[Parallel(n_jobs=-2)]: Using backend SequentialBackend with 1 concurrent workers.\n",
            "[Parallel(n_jobs=-2)]: Done 200 out of 200 | elapsed:    0.4s finished\n",
            "[Parallel(n_jobs=1)]: Using backend SequentialBackend with 1 concurrent workers.\n",
            "[Parallel(n_jobs=1)]: Done 200 out of 200 | elapsed:    0.0s finished\n",
            "[Parallel(n_jobs=1)]: Using backend SequentialBackend with 1 concurrent workers.\n",
            "[Parallel(n_jobs=1)]: Done 200 out of 200 | elapsed:    0.0s finished\n",
            "[Parallel(n_jobs=1)]: Using backend SequentialBackend with 1 concurrent workers.\n",
            "[Parallel(n_jobs=1)]: Done 200 out of 200 | elapsed:    0.0s finished\n"
          ]
        },
        {
          "output_type": "stream",
          "name": "stdout",
          "text": [
            "Model Number: 841 with model Theta in generation 6 of 10\n",
            "Model Number: 842 with model DatepartRegression in generation 6 of 10\n",
            "Model Number: 843 with model UnobservedComponents in generation 6 of 10\n",
            "Model Number: 844 with model NVAR in generation 6 of 10\n",
            "Model Number: 845 with model NVAR in generation 6 of 10\n",
            "Model Number: 846 with model FBProphet in generation 6 of 10\n",
            "Template Eval Error: ValueError('more than 1 year of data is required for holiday detection.') in model 846: FBProphet\n",
            "Model Number: 847 with model UnivariateRegression in generation 6 of 10\n",
            "Model Number: 848 with model NVAR in generation 6 of 10\n",
            "Model Number: 849 with model UnivariateMotif in generation 6 of 10\n",
            "Model Number: 850 with model GLS in generation 6 of 10\n",
            "Model Number: 851 with model ETS in generation 6 of 10\n",
            "Model Number: 852 with model UnobservedComponents in generation 6 of 10\n",
            "Template Eval Error: LinAlgError('Singular matrix') in model 852: UnobservedComponents\n",
            "Model Number: 853 with model SeasonalityMotif in generation 6 of 10\n",
            "Model Number: 854 with model LastValueNaive in generation 6 of 10\n",
            "Model Number: 855 with model SeasonalNaive in generation 6 of 10\n",
            "Model Number: 856 with model Theta in generation 6 of 10\n",
            "Model Number: 857 with model WindowRegression in generation 6 of 10\n"
          ]
        },
        {
          "output_type": "stream",
          "name": "stderr",
          "text": [
            "INFO:prophet:Disabling yearly seasonality. Run prophet with yearly_seasonality=True to override this.\n",
            "INFO:prophet:Disabling daily seasonality. Run prophet with daily_seasonality=True to override this.\n",
            "DEBUG:cmdstanpy:input tempfile: /tmp/tmpkpj4r36s/to9_vovl.json\n",
            "DEBUG:cmdstanpy:input tempfile: /tmp/tmpkpj4r36s/piekznj0.json\n",
            "DEBUG:cmdstanpy:idx 0\n",
            "DEBUG:cmdstanpy:running CmdStan, num_threads: None\n",
            "DEBUG:cmdstanpy:CmdStan args: ['/usr/local/lib/python3.7/dist-packages/prophet/stan_model/prophet_model.bin', 'random', 'seed=80732', 'data', 'file=/tmp/tmpkpj4r36s/to9_vovl.json', 'init=/tmp/tmpkpj4r36s/piekznj0.json', 'output', 'file=/tmp/tmpkpj4r36s/prophet_modelvkazdfp9/prophet_model-20221121075455.csv', 'method=optimize', 'algorithm=lbfgs', 'iter=10000']\n",
            "07:54:55 - cmdstanpy - INFO - Chain [1] start processing\n",
            "INFO:cmdstanpy:Chain [1] start processing\n"
          ]
        },
        {
          "output_type": "stream",
          "name": "stdout",
          "text": [
            "Model Number: 858 with model FBProphet in generation 6 of 10\n"
          ]
        },
        {
          "output_type": "stream",
          "name": "stderr",
          "text": [
            "07:54:56 - cmdstanpy - INFO - Chain [1] done processing\n",
            "INFO:cmdstanpy:Chain [1] done processing\n"
          ]
        },
        {
          "output_type": "stream",
          "name": "stdout",
          "text": [
            "Model Number: 859 with model LastValueNaive in generation 6 of 10\n",
            "Template Eval Error: Exception('Transformer Cointegration failed on fit') in model 859: LastValueNaive\n",
            "Model Number: 860 with model MultivariateRegression in generation 6 of 10\n",
            "Model Number: 861 with model Theta in generation 6 of 10\n",
            "Model Number: 862 with model WindowRegression in generation 6 of 10\n",
            "Model Number: 863 with model MetricMotif in generation 6 of 10\n",
            "Model Number: 864 with model AverageValueNaive in generation 6 of 10\n",
            "Model Number: 865 with model AverageValueNaive in generation 6 of 10\n",
            "Model Number: 866 with model ETS in generation 6 of 10\n",
            "Model Number: 867 with model ETS in generation 6 of 10\n",
            "Model Number: 868 with model ConstantNaive in generation 6 of 10\n",
            "Model Number: 869 with model DatepartRegression in generation 6 of 10\n",
            "Template Eval Error: ValueError(\"regression_type='User' but no future_regressor passed\") in model 869: DatepartRegression\n",
            "Model Number: 870 with model Theta in generation 6 of 10\n",
            "Model Number: 871 with model LastValueNaive in generation 6 of 10\n",
            "Model Number: 872 with model SectionalMotif in generation 6 of 10\n",
            "Model Number: 873 with model Theta in generation 6 of 10\n",
            "Model Number: 874 with model UnobservedComponents in generation 6 of 10\n",
            "Model Number: 875 with model ETS in generation 6 of 10\n",
            "Model Number: 876 with model DatepartRegression in generation 6 of 10\n",
            "Model Number: 877 with model SeasonalNaive in generation 6 of 10\n",
            "Model Number: 878 with model DatepartRegression in generation 6 of 10\n",
            "Template Eval Error: ValueError(\"regression_type='User' but no future_regressor passed\") in model 878: DatepartRegression\n",
            "Model Number: 879 with model ConstantNaive in generation 6 of 10\n",
            "Model Number: 880 with model ConstantNaive in generation 6 of 10\n",
            "Model Number: 881 with model Theta in generation 6 of 10\n",
            "Model Number: 882 with model MultivariateRegression in generation 6 of 10\n"
          ]
        },
        {
          "output_type": "stream",
          "name": "stderr",
          "text": [
            "[Parallel(n_jobs=-2)]: Using backend SequentialBackend with 1 concurrent workers.\n",
            "[Parallel(n_jobs=-2)]: Done 200 out of 200 | elapsed:    0.5s finished\n",
            "[Parallel(n_jobs=1)]: Using backend SequentialBackend with 1 concurrent workers.\n",
            "[Parallel(n_jobs=1)]: Done 200 out of 200 | elapsed:    0.0s finished\n",
            "[Parallel(n_jobs=1)]: Using backend SequentialBackend with 1 concurrent workers.\n",
            "[Parallel(n_jobs=1)]: Done 200 out of 200 | elapsed:    0.0s finished\n",
            "[Parallel(n_jobs=1)]: Using backend SequentialBackend with 1 concurrent workers.\n",
            "[Parallel(n_jobs=1)]: Done 200 out of 200 | elapsed:    0.0s finished\n"
          ]
        },
        {
          "output_type": "stream",
          "name": "stdout",
          "text": [
            "Model Number: 883 with model UnobservedComponents in generation 6 of 10\n",
            "Model Number: 884 with model ARIMA in generation 6 of 10\n",
            "Model Number: 885 with model SeasonalityMotif in generation 6 of 10\n",
            "Model Number: 886 with model MetricMotif in generation 6 of 10\n",
            "Model Number: 887 with model SectionalMotif in generation 6 of 10\n",
            "Model Number: 888 with model ARIMA in generation 6 of 10\n",
            "Model Number: 889 with model UnivariateRegression in generation 6 of 10\n",
            "Template Eval Error: ValueError(\"regression_type='User' but not future_regressor supplied.\") in model 889: UnivariateRegression\n",
            "Model Number: 890 with model SeasonalNaive in generation 6 of 10\n",
            "Template Eval Error: Exception('Transformer Cointegration failed on fit') in model 890: SeasonalNaive\n",
            "Model Number: 891 with model ETS in generation 6 of 10\n",
            "Model Number: 892 with model MultivariateRegression in generation 6 of 10\n",
            "Template Eval Error: ValueError('Some value(s) of y are out of the valid range for family PoissonDistribution') in model 892: MultivariateRegression\n",
            "Model Number: 893 with model NVAR in generation 6 of 10\n",
            "Model Number: 894 with model Theta in generation 6 of 10\n",
            "Model Number: 895 with model ARIMA in generation 6 of 10\n",
            "Model Number: 896 with model ETS in generation 6 of 10\n",
            "Model Number: 897 with model MetricMotif in generation 6 of 10\n",
            "Model Number: 898 with model GLM in generation 6 of 10\n",
            "Model Number: 899 with model MetricMotif in generation 6 of 10\n",
            "Model Number: 900 with model NVAR in generation 6 of 10\n",
            "Model Number: 901 with model DatepartRegression in generation 6 of 10\n",
            "Model Number: 902 with model UnivariateMotif in generation 6 of 10\n",
            "Model Number: 903 with model MetricMotif in generation 6 of 10\n"
          ]
        },
        {
          "output_type": "stream",
          "name": "stderr",
          "text": [
            "/usr/local/lib/python3.7/dist-packages/sklearn/svm/_base.py:1208: ConvergenceWarning: Liblinear failed to converge, increase the number of iterations.\n",
            "  ConvergenceWarning,\n"
          ]
        },
        {
          "output_type": "stream",
          "name": "stdout",
          "text": [
            "Model Number: 904 with model UnobservedComponents in generation 6 of 10\n",
            "Model Number: 905 with model LastValueNaive in generation 6 of 10\n",
            "Model Number: 906 with model ConstantNaive in generation 6 of 10\n",
            "Model Number: 907 with model ARIMA in generation 6 of 10\n",
            "Model Number: 908 with model WindowRegression in generation 6 of 10\n",
            "Model Number: 909 with model LastValueNaive in generation 6 of 10\n",
            "Model Number: 910 with model MetricMotif in generation 6 of 10\n",
            "Model Number: 911 with model ConstantNaive in generation 6 of 10\n",
            "Model Number: 912 with model DatepartRegression in generation 6 of 10\n",
            "Model Number: 913 with model WindowRegression in generation 6 of 10\n",
            "Model Number: 914 with model NVAR in generation 6 of 10\n"
          ]
        },
        {
          "output_type": "stream",
          "name": "stderr",
          "text": [
            "/usr/local/lib/python3.7/dist-packages/sklearn/svm/_base.py:1208: ConvergenceWarning: Liblinear failed to converge, increase the number of iterations.\n",
            "  ConvergenceWarning,\n"
          ]
        },
        {
          "output_type": "stream",
          "name": "stdout",
          "text": [
            "Model Number: 915 with model AverageValueNaive in generation 6 of 10\n",
            "Model Number: 916 with model SeasonalityMotif in generation 6 of 10\n",
            "Model Number: 917 with model LastValueNaive in generation 6 of 10\n",
            "Model Number: 918 with model DatepartRegression in generation 6 of 10\n",
            "Model Number: 919 with model MultivariateRegression in generation 6 of 10\n"
          ]
        },
        {
          "output_type": "stream",
          "name": "stderr",
          "text": [
            "/usr/local/lib/python3.7/dist-packages/sklearn/neural_network/_multilayer_perceptron.py:549: ConvergenceWarning: lbfgs failed to converge (status=1):\n",
            "STOP: TOTAL NO. of ITERATIONS REACHED LIMIT.\n",
            "\n",
            "Increase the number of iterations (max_iter) or scale the data as shown in:\n",
            "    https://scikit-learn.org/stable/modules/preprocessing.html\n",
            "  self.n_iter_ = _check_optimize_result(\"lbfgs\", opt_res, self.max_iter)\n",
            "INFO:prophet:Disabling yearly seasonality. Run prophet with yearly_seasonality=True to override this.\n",
            "INFO:prophet:Disabling daily seasonality. Run prophet with daily_seasonality=True to override this.\n",
            "DEBUG:cmdstanpy:input tempfile: /tmp/tmpkpj4r36s/3wnhybpf.json\n",
            "DEBUG:cmdstanpy:input tempfile: /tmp/tmpkpj4r36s/8_6imsuj.json\n",
            "DEBUG:cmdstanpy:idx 0\n",
            "DEBUG:cmdstanpy:running CmdStan, num_threads: None\n",
            "DEBUG:cmdstanpy:CmdStan args: ['/usr/local/lib/python3.7/dist-packages/prophet/stan_model/prophet_model.bin', 'random', 'seed=87653', 'data', 'file=/tmp/tmpkpj4r36s/3wnhybpf.json', 'init=/tmp/tmpkpj4r36s/8_6imsuj.json', 'output', 'file=/tmp/tmpkpj4r36s/prophet_modelnibtcjfg/prophet_model-20221121075513.csv', 'method=optimize', 'algorithm=lbfgs', 'iter=10000']\n",
            "07:55:13 - cmdstanpy - INFO - Chain [1] start processing\n",
            "INFO:cmdstanpy:Chain [1] start processing\n"
          ]
        },
        {
          "output_type": "stream",
          "name": "stdout",
          "text": [
            "Model Number: 920 with model FBProphet in generation 6 of 10\n",
            "No anomalies detected.\n"
          ]
        },
        {
          "output_type": "stream",
          "name": "stderr",
          "text": [
            "07:55:13 - cmdstanpy - INFO - Chain [1] done processing\n",
            "INFO:cmdstanpy:Chain [1] done processing\n"
          ]
        },
        {
          "output_type": "stream",
          "name": "stdout",
          "text": [
            "Model Number: 921 with model ETS in generation 6 of 10\n",
            "New Generation: 7 of 10\n",
            "Model Number: 922 with model MultivariateRegression in generation 7 of 10\n",
            "Template Eval Error: Exception('Transformer BTCD failed on fit') in model 922: MultivariateRegression\n",
            "Model Number: 923 with model MultivariateRegression in generation 7 of 10\n"
          ]
        },
        {
          "output_type": "stream",
          "name": "stderr",
          "text": [
            "[Parallel(n_jobs=-2)]: Using backend SequentialBackend with 1 concurrent workers.\n",
            "[Parallel(n_jobs=-2)]: Done 200 out of 200 | elapsed:    0.5s finished\n",
            "[Parallel(n_jobs=1)]: Using backend SequentialBackend with 1 concurrent workers.\n",
            "[Parallel(n_jobs=1)]: Done 200 out of 200 | elapsed:    0.0s finished\n",
            "[Parallel(n_jobs=1)]: Using backend SequentialBackend with 1 concurrent workers.\n",
            "[Parallel(n_jobs=1)]: Done 200 out of 200 | elapsed:    0.0s finished\n",
            "[Parallel(n_jobs=1)]: Using backend SequentialBackend with 1 concurrent workers.\n",
            "[Parallel(n_jobs=1)]: Done 200 out of 200 | elapsed:    0.0s finished\n"
          ]
        },
        {
          "output_type": "stream",
          "name": "stdout",
          "text": [
            "Model Number: 924 with model ARIMA in generation 7 of 10\n",
            "Model Number: 925 with model UnobservedComponents in generation 7 of 10\n"
          ]
        },
        {
          "output_type": "stream",
          "name": "stderr",
          "text": [
            "INFO:prophet:Disabling yearly seasonality. Run prophet with yearly_seasonality=True to override this.\n",
            "INFO:prophet:Disabling daily seasonality. Run prophet with daily_seasonality=True to override this.\n"
          ]
        },
        {
          "output_type": "stream",
          "name": "stdout",
          "text": [
            "Model Number: 926 with model FBProphet in generation 7 of 10\n"
          ]
        },
        {
          "output_type": "stream",
          "name": "stderr",
          "text": [
            "DEBUG:cmdstanpy:input tempfile: /tmp/tmpkpj4r36s/9vlzosxc.json\n",
            "DEBUG:cmdstanpy:input tempfile: /tmp/tmpkpj4r36s/y9rchukn.json\n",
            "DEBUG:cmdstanpy:idx 0\n",
            "DEBUG:cmdstanpy:running CmdStan, num_threads: None\n",
            "DEBUG:cmdstanpy:CmdStan args: ['/usr/local/lib/python3.7/dist-packages/prophet/stan_model/prophet_model.bin', 'random', 'seed=89906', 'data', 'file=/tmp/tmpkpj4r36s/9vlzosxc.json', 'init=/tmp/tmpkpj4r36s/y9rchukn.json', 'output', 'file=/tmp/tmpkpj4r36s/prophet_models78o7iva/prophet_model-20221121075532.csv', 'method=optimize', 'algorithm=lbfgs', 'iter=10000']\n",
            "07:55:32 - cmdstanpy - INFO - Chain [1] start processing\n",
            "INFO:cmdstanpy:Chain [1] start processing\n",
            "07:55:32 - cmdstanpy - INFO - Chain [1] done processing\n",
            "INFO:cmdstanpy:Chain [1] done processing\n"
          ]
        },
        {
          "output_type": "stream",
          "name": "stdout",
          "text": [
            "Model Number: 927 with model ConstantNaive in generation 7 of 10\n",
            "Model Number: 928 with model NVAR in generation 7 of 10\n"
          ]
        },
        {
          "output_type": "stream",
          "name": "stderr",
          "text": [
            "INFO:prophet:Disabling yearly seasonality. Run prophet with yearly_seasonality=True to override this.\n",
            "INFO:prophet:Disabling daily seasonality. Run prophet with daily_seasonality=True to override this.\n",
            "DEBUG:cmdstanpy:input tempfile: /tmp/tmpkpj4r36s/3bsu2vbt.json\n",
            "DEBUG:cmdstanpy:input tempfile: /tmp/tmpkpj4r36s/t7k_5v7q.json\n"
          ]
        },
        {
          "output_type": "stream",
          "name": "stdout",
          "text": [
            "Model Number: 929 with model FBProphet in generation 7 of 10\n"
          ]
        },
        {
          "output_type": "stream",
          "name": "stderr",
          "text": [
            "DEBUG:cmdstanpy:idx 0\n",
            "DEBUG:cmdstanpy:running CmdStan, num_threads: None\n",
            "DEBUG:cmdstanpy:CmdStan args: ['/usr/local/lib/python3.7/dist-packages/prophet/stan_model/prophet_model.bin', 'random', 'seed=18318', 'data', 'file=/tmp/tmpkpj4r36s/3bsu2vbt.json', 'init=/tmp/tmpkpj4r36s/t7k_5v7q.json', 'output', 'file=/tmp/tmpkpj4r36s/prophet_model3l4n270t/prophet_model-20221121075534.csv', 'method=optimize', 'algorithm=lbfgs', 'iter=10000']\n",
            "07:55:34 - cmdstanpy - INFO - Chain [1] start processing\n",
            "INFO:cmdstanpy:Chain [1] start processing\n",
            "07:55:34 - cmdstanpy - INFO - Chain [1] done processing\n",
            "INFO:cmdstanpy:Chain [1] done processing\n"
          ]
        },
        {
          "output_type": "stream",
          "name": "stdout",
          "text": [
            "Model Number: 930 with model MetricMotif in generation 7 of 10\n",
            "Model Number: 931 with model MultivariateRegression in generation 7 of 10\n",
            "Model Number: 932 with model MultivariateMotif in generation 7 of 10\n",
            "Model Number: 933 with model UnobservedComponents in generation 7 of 10\n",
            "Model Number: 934 with model DatepartRegression in generation 7 of 10\n",
            "Model Number: 935 with model LastValueNaive in generation 7 of 10\n",
            "Model Number: 936 with model ConstantNaive in generation 7 of 10\n"
          ]
        },
        {
          "output_type": "stream",
          "name": "stderr",
          "text": [
            "INFO:prophet:Disabling yearly seasonality. Run prophet with yearly_seasonality=True to override this.\n",
            "INFO:prophet:Disabling daily seasonality. Run prophet with daily_seasonality=True to override this.\n"
          ]
        },
        {
          "output_type": "stream",
          "name": "stdout",
          "text": [
            "Model Number: 937 with model FBProphet in generation 7 of 10\n"
          ]
        },
        {
          "output_type": "stream",
          "name": "stderr",
          "text": [
            "DEBUG:cmdstanpy:input tempfile: /tmp/tmpkpj4r36s/ei5tzrte.json\n",
            "DEBUG:cmdstanpy:input tempfile: /tmp/tmpkpj4r36s/lk_4tp2m.json\n",
            "DEBUG:cmdstanpy:idx 0\n",
            "DEBUG:cmdstanpy:running CmdStan, num_threads: None\n",
            "DEBUG:cmdstanpy:CmdStan args: ['/usr/local/lib/python3.7/dist-packages/prophet/stan_model/prophet_model.bin', 'random', 'seed=40510', 'data', 'file=/tmp/tmpkpj4r36s/ei5tzrte.json', 'init=/tmp/tmpkpj4r36s/lk_4tp2m.json', 'output', 'file=/tmp/tmpkpj4r36s/prophet_modelsryneq55/prophet_model-20221121075535.csv', 'method=optimize', 'algorithm=lbfgs', 'iter=10000']\n",
            "07:55:35 - cmdstanpy - INFO - Chain [1] start processing\n",
            "INFO:cmdstanpy:Chain [1] start processing\n",
            "07:55:36 - cmdstanpy - INFO - Chain [1] done processing\n",
            "INFO:cmdstanpy:Chain [1] done processing\n"
          ]
        },
        {
          "output_type": "stream",
          "name": "stdout",
          "text": [
            "Model Number: 938 with model SectionalMotif in generation 7 of 10\n",
            "Model Number: 939 with model MultivariateRegression in generation 7 of 10\n"
          ]
        },
        {
          "output_type": "stream",
          "name": "stderr",
          "text": [
            "[Parallel(n_jobs=-2)]: Using backend SequentialBackend with 1 concurrent workers.\n",
            "[Parallel(n_jobs=-2)]: Done 200 out of 200 | elapsed:    0.6s finished\n",
            "[Parallel(n_jobs=1)]: Using backend SequentialBackend with 1 concurrent workers.\n",
            "[Parallel(n_jobs=1)]: Done 200 out of 200 | elapsed:    0.0s finished\n",
            "[Parallel(n_jobs=1)]: Using backend SequentialBackend with 1 concurrent workers.\n",
            "[Parallel(n_jobs=1)]: Done 200 out of 200 | elapsed:    0.0s finished\n",
            "[Parallel(n_jobs=1)]: Using backend SequentialBackend with 1 concurrent workers.\n",
            "[Parallel(n_jobs=1)]: Done 200 out of 200 | elapsed:    0.0s finished\n",
            "/usr/local/lib/python3.7/dist-packages/statsmodels/genmod/families/family.py:428: RuntimeWarning: divide by zero encountered in true_divide\n",
            "  endog_mu = self._clean(endog / mu)\n",
            "/usr/local/lib/python3.7/dist-packages/statsmodels/genmod/families/family.py:134: RuntimeWarning: divide by zero encountered in true_divide\n",
            "  return 1. / (self.link.deriv(mu)**2 * self.variance(mu))\n"
          ]
        },
        {
          "output_type": "stream",
          "name": "stdout",
          "text": [
            "Model Number: 940 with model GLM in generation 7 of 10\n",
            "Template Eval Error: ValueError('NaN, inf or invalid value detected in weights, estimation infeasible.') in model 940: GLM\n",
            "Model Number: 941 with model Theta in generation 7 of 10\n"
          ]
        },
        {
          "output_type": "stream",
          "name": "stderr",
          "text": [
            "/usr/local/lib/python3.7/dist-packages/sklearn/decomposition/_pca.py:501: RuntimeWarning: invalid value encountered in true_divide\n",
            "  explained_variance_ratio_ = explained_variance_ / total_var\n"
          ]
        },
        {
          "output_type": "stream",
          "name": "stdout",
          "text": [
            "Model Number: 942 with model LastValueNaive in generation 7 of 10\n",
            "Model Number: 943 with model MultivariateRegression in generation 7 of 10\n"
          ]
        },
        {
          "output_type": "stream",
          "name": "stderr",
          "text": [
            "[Parallel(n_jobs=-2)]: Using backend SequentialBackend with 1 concurrent workers.\n",
            "[Parallel(n_jobs=-2)]: Done 200 out of 200 | elapsed:    0.5s finished\n",
            "[Parallel(n_jobs=1)]: Using backend SequentialBackend with 1 concurrent workers.\n",
            "[Parallel(n_jobs=1)]: Done 200 out of 200 | elapsed:    0.0s finished\n",
            "[Parallel(n_jobs=1)]: Using backend SequentialBackend with 1 concurrent workers.\n",
            "[Parallel(n_jobs=1)]: Done 200 out of 200 | elapsed:    0.0s finished\n",
            "[Parallel(n_jobs=1)]: Using backend SequentialBackend with 1 concurrent workers.\n",
            "[Parallel(n_jobs=1)]: Done 200 out of 200 | elapsed:    0.0s finished\n"
          ]
        },
        {
          "output_type": "stream",
          "name": "stdout",
          "text": [
            "Model Number: 944 with model NVAR in generation 7 of 10\n",
            "Model Number: 945 with model Theta in generation 7 of 10\n",
            "Model Number: 946 with model ConstantNaive in generation 7 of 10\n",
            "Model Number: 947 with model SectionalMotif in generation 7 of 10\n",
            "Model Number: 948 with model LastValueNaive in generation 7 of 10\n",
            "Model Number: 949 with model DatepartRegression in generation 7 of 10\n",
            "Template Eval Error: ValueError(\"regression_type='User' but no future_regressor passed\") in model 949: DatepartRegression\n",
            "Model Number: 950 with model Theta in generation 7 of 10\n",
            "Model Number: 951 with model MetricMotif in generation 7 of 10\n",
            "Model Number: 952 with model MultivariateRegression in generation 7 of 10\n"
          ]
        },
        {
          "output_type": "stream",
          "name": "stderr",
          "text": [
            "[Parallel(n_jobs=-2)]: Using backend SequentialBackend with 1 concurrent workers.\n"
          ]
        },
        {
          "output_type": "stream",
          "name": "stdout",
          "text": [
            "Model Number: 953 with model MetricMotif in generation 7 of 10\n"
          ]
        },
        {
          "output_type": "stream",
          "name": "stderr",
          "text": [
            "[Parallel(n_jobs=-2)]: Done 200 out of 200 | elapsed:    0.5s finished\n",
            "[Parallel(n_jobs=1)]: Using backend SequentialBackend with 1 concurrent workers.\n",
            "[Parallel(n_jobs=1)]: Done 200 out of 200 | elapsed:    0.0s finished\n",
            "[Parallel(n_jobs=1)]: Using backend SequentialBackend with 1 concurrent workers.\n",
            "[Parallel(n_jobs=1)]: Done 200 out of 200 | elapsed:    0.0s finished\n",
            "[Parallel(n_jobs=1)]: Using backend SequentialBackend with 1 concurrent workers.\n",
            "[Parallel(n_jobs=1)]: Done 200 out of 200 | elapsed:    0.0s finished\n"
          ]
        },
        {
          "output_type": "stream",
          "name": "stdout",
          "text": [
            "Model Number: 954 with model ARIMA in generation 7 of 10\n",
            "Model Number: 955 with model SectionalMotif in generation 7 of 10\n",
            "Model Number: 956 with model UnivariateMotif in generation 7 of 10\n",
            "Model Number: 957 with model UnobservedComponents in generation 7 of 10\n",
            "Template Eval Error: LinAlgError('Singular matrix') in model 957: UnobservedComponents\n",
            "Model Number: 958 with model UnivariateMotif in generation 7 of 10\n",
            "Model Number: 959 with model MultivariateMotif in generation 7 of 10\n",
            "Model Number: 960 with model UnobservedComponents in generation 7 of 10\n",
            "Model Number: 961 with model ConstantNaive in generation 7 of 10\n",
            "Model Number: 962 with model DatepartRegression in generation 7 of 10\n",
            "Template Eval Error: Exception('Transformer BTCD failed on fit') in model 962: DatepartRegression\n",
            "Model Number: 963 with model SeasonalityMotif in generation 7 of 10\n",
            "Model Number: 964 with model MetricMotif in generation 7 of 10\n",
            "Model Number: 965 with model MetricMotif in generation 7 of 10\n",
            "Model Number: 966 with model ARIMA in generation 7 of 10\n",
            "Model Number: 967 with model NVAR in generation 7 of 10\n",
            "Model Number: 968 with model UnobservedComponents in generation 7 of 10\n",
            "Model Number: 969 with model UnivariateRegression in generation 7 of 10\n",
            "Model Number: 970 with model SectionalMotif in generation 7 of 10\n",
            "Model Number: 971 with model MultivariateMotif in generation 7 of 10\n",
            "Model Number: 972 with model NVAR in generation 7 of 10\n",
            "Model Number: 973 with model MetricMotif in generation 7 of 10\n",
            "Model Number: 974 with model Theta in generation 7 of 10\n",
            "Model Number: 975 with model MetricMotif in generation 7 of 10\n",
            "Model Number: 976 with model LastValueNaive in generation 7 of 10\n",
            "Model Number: 977 with model UnobservedComponents in generation 7 of 10\n",
            "Model Number: 978 with model LastValueNaive in generation 7 of 10\n",
            "Model Number: 979 with model ConstantNaive in generation 7 of 10\n",
            "Model Number: 980 with model AverageValueNaive in generation 7 of 10\n",
            "Model Number: 981 with model ETS in generation 7 of 10\n",
            "Model Number: 982 with model LastValueNaive in generation 7 of 10\n",
            "Model Number: 983 with model MultivariateMotif in generation 7 of 10\n",
            "Model Number: 984 with model ConstantNaive in generation 7 of 10\n",
            "Model Number: 985 with model SectionalMotif in generation 7 of 10\n",
            "Model Number: 986 with model ARIMA in generation 7 of 10\n",
            "Model Number: 987 with model Theta in generation 7 of 10\n",
            "Model Number: 988 with model Theta in generation 7 of 10\n",
            "Model Number: 989 with model ARIMA in generation 7 of 10\n",
            "Model Number: 990 with model UnobservedComponents in generation 7 of 10\n",
            "Model Number: 991 with model AverageValueNaive in generation 7 of 10\n",
            "Model Number: 992 with model SectionalMotif in generation 7 of 10\n",
            "Model Number: 993 with model NVAR in generation 7 of 10\n",
            "Model Number: 994 with model ConstantNaive in generation 7 of 10\n",
            "Model Number: 995 with model ETS in generation 7 of 10\n",
            "Model Number: 996 with model AverageValueNaive in generation 7 of 10\n",
            "Model Number: 997 with model UnobservedComponents in generation 7 of 10\n",
            "Model Number: 998 with model Theta in generation 7 of 10\n",
            "Model Number: 999 with model Theta in generation 7 of 10\n",
            "Template Eval Error: Exception('Transformer BTCD failed on fit') in model 999: Theta\n",
            "Model Number: 1000 with model SectionalMotif in generation 7 of 10\n",
            "Model Number: 1001 with model MetricMotif in generation 7 of 10\n",
            "Model Number: 1002 with model ARIMA in generation 7 of 10\n",
            "Model Number: 1003 with model ARIMA in generation 7 of 10\n",
            "Model Number: 1004 with model AverageValueNaive in generation 7 of 10\n",
            "No anomalies detected.\n",
            "Template Eval Error: Exception('Transformer HolidayTransformer failed on fit') in model 1004: AverageValueNaive\n",
            "Model Number: 1005 with model SeasonalityMotif in generation 7 of 10\n",
            "Model Number: 1006 with model LastValueNaive in generation 7 of 10\n",
            "Model Number: 1007 with model SeasonalNaive in generation 7 of 10\n",
            "Model Number: 1008 with model NVAR in generation 7 of 10\n",
            "Model Number: 1009 with model LastValueNaive in generation 7 of 10\n",
            "Model Number: 1010 with model GLM in generation 7 of 10\n",
            "Model Number: 1011 with model DatepartRegression in generation 7 of 10\n"
          ]
        },
        {
          "output_type": "stream",
          "name": "stderr",
          "text": [
            "[Parallel(n_jobs=-2)]: Using backend SequentialBackend with 1 concurrent workers.\n"
          ]
        },
        {
          "output_type": "stream",
          "name": "stdout",
          "text": [
            "Model Number: 1012 with model ConstantNaive in generation 7 of 10\n"
          ]
        },
        {
          "output_type": "stream",
          "name": "stderr",
          "text": [
            "[Parallel(n_jobs=-2)]: Done 300 out of 300 | elapsed:    0.3s finished\n",
            "[Parallel(n_jobs=1)]: Using backend SequentialBackend with 1 concurrent workers.\n",
            "[Parallel(n_jobs=1)]: Done 300 out of 300 | elapsed:    0.0s finished\n"
          ]
        },
        {
          "output_type": "stream",
          "name": "stdout",
          "text": [
            "Model Number: 1013 with model ConstantNaive in generation 7 of 10\n",
            "Model Number: 1014 with model WindowRegression in generation 7 of 10\n",
            "Model Number: 1015 with model WindowRegression in generation 7 of 10\n",
            "Model Number: 1016 with model DatepartRegression in generation 7 of 10\n",
            "Model Number: 1017 with model Theta in generation 7 of 10\n",
            "Model Number: 1018 with model ETS in generation 7 of 10\n",
            "Model Number: 1019 with model SeasonalNaive in generation 7 of 10\n",
            "Model Number: 1020 with model ETS in generation 7 of 10\n",
            "Model Number: 1021 with model ARIMA in generation 7 of 10\n",
            "Template Eval Error: ValueError(\"regression_type='User' but future_regressor not supplied\") in model 1021: ARIMA\n",
            "Model Number: 1022 with model MetricMotif in generation 7 of 10\n",
            "Model Number: 1023 with model WindowRegression in generation 7 of 10\n"
          ]
        },
        {
          "output_type": "stream",
          "name": "stderr",
          "text": [
            "/usr/local/lib/python3.7/dist-packages/autots/tools/probabilistic.py:67: RuntimeWarning: invalid value encountered in true_divide\n",
            "  (prior_mu / prior_sigma**2) + ((n * data_mu) / prior_sigma**2)\n",
            "/usr/local/lib/python3.7/dist-packages/autots/tools/probabilistic.py:68: RuntimeWarning: divide by zero encountered in true_divide\n",
            "  ) / ((1 / prior_sigma**2) + (n / prior_sigma**2))\n"
          ]
        },
        {
          "output_type": "stream",
          "name": "stdout",
          "text": [
            "Model Number: 1024 with model UnivariateMotif in generation 7 of 10\n",
            "Model Number: 1025 with model Theta in generation 7 of 10\n",
            "New Generation: 8 of 10\n",
            "Model Number: 1026 with model MultivariateRegression in generation 8 of 10\n"
          ]
        },
        {
          "output_type": "stream",
          "name": "stderr",
          "text": [
            "[Parallel(n_jobs=-2)]: Using backend SequentialBackend with 1 concurrent workers.\n"
          ]
        },
        {
          "output_type": "stream",
          "name": "stdout",
          "text": [
            "Model Number: 1027 with model WindowRegression in generation 8 of 10\n"
          ]
        },
        {
          "output_type": "stream",
          "name": "stderr",
          "text": [
            "[Parallel(n_jobs=-2)]: Done 200 out of 200 | elapsed:    0.4s finished\n",
            "[Parallel(n_jobs=1)]: Using backend SequentialBackend with 1 concurrent workers.\n",
            "[Parallel(n_jobs=1)]: Done 200 out of 200 | elapsed:    0.0s finished\n",
            "[Parallel(n_jobs=1)]: Using backend SequentialBackend with 1 concurrent workers.\n",
            "[Parallel(n_jobs=1)]: Done 200 out of 200 | elapsed:    0.0s finished\n",
            "[Parallel(n_jobs=1)]: Using backend SequentialBackend with 1 concurrent workers.\n",
            "[Parallel(n_jobs=1)]: Done 200 out of 200 | elapsed:    0.0s finished\n"
          ]
        },
        {
          "output_type": "stream",
          "name": "stdout",
          "text": [
            "Model Number: 1028 with model Theta in generation 8 of 10\n",
            "Model Number: 1029 with model MetricMotif in generation 8 of 10\n",
            "Model Number: 1030 with model UnivariateMotif in generation 8 of 10\n",
            "Model Number: 1031 with model SeasonalityMotif in generation 8 of 10\n",
            "Model Number: 1032 with model GLS in generation 8 of 10\n"
          ]
        },
        {
          "output_type": "stream",
          "name": "stderr",
          "text": [
            "/usr/local/lib/python3.7/dist-packages/sklearn/neural_network/_multilayer_perceptron.py:696: ConvergenceWarning: Stochastic Optimizer: Maximum iterations (250) reached and the optimization hasn't converged yet.\n",
            "  ConvergenceWarning,\n",
            "/usr/local/lib/python3.7/dist-packages/sklearn/base.py:493: FutureWarning: The feature names should match those that were passed during fit. Starting version 1.2, an error will be raised.\n",
            "Feature names seen at fit time, yet now missing:\n",
            "- seasonalitycommonfourier_26\n",
            "- seasonalitycommonfourier_27\n",
            "- seasonalitycommonfourier_28\n",
            "- seasonalitycommonfourier_29\n",
            "- seasonalitycommonfourier_30\n",
            "- ...\n",
            "\n",
            "  warnings.warn(message, FutureWarning)\n"
          ]
        },
        {
          "output_type": "stream",
          "name": "stdout",
          "text": [
            "Template Eval Error: Exception('Transformer DatepartRegression failed on inverse') in model 1032: GLS\n",
            "Model Number: 1033 with model WindowRegression in generation 8 of 10\n",
            "Model Number: 1034 with model Theta in generation 8 of 10\n",
            "Model Number: 1035 with model WindowRegression in generation 8 of 10\n",
            "Template Eval Error: Exception('Transformer Cointegration failed on fit') in model 1035: WindowRegression\n",
            "Model Number: 1036 with model MetricMotif in generation 8 of 10\n",
            "Model Number: 1037 with model UnobservedComponents in generation 8 of 10\n",
            "Model Number: 1038 with model DatepartRegression in generation 8 of 10\n"
          ]
        },
        {
          "output_type": "stream",
          "name": "stderr",
          "text": [
            "[Parallel(n_jobs=-2)]: Using backend SequentialBackend with 1 concurrent workers.\n",
            "[Parallel(n_jobs=-2)]: Done 100 out of 100 | elapsed:    0.2s finished\n",
            "[Parallel(n_jobs=1)]: Using backend SequentialBackend with 1 concurrent workers.\n"
          ]
        },
        {
          "output_type": "stream",
          "name": "stdout",
          "text": [
            "Model Number: 1039 with model MultivariateMotif in generation 8 of 10\n",
            "Model Number: 1040 with model NVAR in generation 8 of 10\n",
            "Model Number: 1041 with model SeasonalityMotif in generation 8 of 10\n"
          ]
        },
        {
          "output_type": "stream",
          "name": "stderr",
          "text": [
            "[Parallel(n_jobs=1)]: Done 100 out of 100 | elapsed:    0.0s finished\n"
          ]
        },
        {
          "output_type": "stream",
          "name": "stdout",
          "text": [
            "Model Number: 1042 with model UnivariateMotif in generation 8 of 10\n",
            "Model Number: 1043 with model ETS in generation 8 of 10\n",
            "Template Eval Error: Exception('Transformer BTCD failed on fit') in model 1043: ETS\n",
            "Model Number: 1044 with model MultivariateMotif in generation 8 of 10\n",
            "Model Number: 1045 with model UnivariateRegression in generation 8 of 10\n"
          ]
        },
        {
          "output_type": "stream",
          "name": "stderr",
          "text": [
            "INFO:prophet:Disabling yearly seasonality. Run prophet with yearly_seasonality=True to override this.\n",
            "INFO:prophet:Disabling daily seasonality. Run prophet with daily_seasonality=True to override this.\n",
            "DEBUG:cmdstanpy:input tempfile: /tmp/tmpkpj4r36s/jspu2iik.json\n",
            "DEBUG:cmdstanpy:input tempfile: /tmp/tmpkpj4r36s/d81rr4nc.json\n",
            "DEBUG:cmdstanpy:idx 0\n",
            "DEBUG:cmdstanpy:running CmdStan, num_threads: None\n",
            "DEBUG:cmdstanpy:CmdStan args: ['/usr/local/lib/python3.7/dist-packages/prophet/stan_model/prophet_model.bin', 'random', 'seed=70821', 'data', 'file=/tmp/tmpkpj4r36s/jspu2iik.json', 'init=/tmp/tmpkpj4r36s/d81rr4nc.json', 'output', 'file=/tmp/tmpkpj4r36s/prophet_modeltvwpdxuh/prophet_model-20221121075648.csv', 'method=optimize', 'algorithm=lbfgs', 'iter=10000']\n",
            "07:56:48 - cmdstanpy - INFO - Chain [1] start processing\n",
            "INFO:cmdstanpy:Chain [1] start processing\n"
          ]
        },
        {
          "output_type": "stream",
          "name": "stdout",
          "text": [
            "Model Number: 1046 with model DatepartRegression in generation 8 of 10\n",
            "Template Eval Error: ValueError(\"regression_type='User' but no future_regressor passed\") in model 1046: DatepartRegression\n",
            "Model Number: 1047 with model FBProphet in generation 8 of 10\n"
          ]
        },
        {
          "output_type": "stream",
          "name": "stderr",
          "text": [
            "07:56:49 - cmdstanpy - INFO - Chain [1] done processing\n",
            "INFO:cmdstanpy:Chain [1] done processing\n"
          ]
        },
        {
          "output_type": "stream",
          "name": "stdout",
          "text": [
            "Model Number: 1048 with model MultivariateMotif in generation 8 of 10\n",
            "Model Number: 1049 with model ConstantNaive in generation 8 of 10\n",
            "Model Number: 1050 with model ARIMA in generation 8 of 10\n",
            "Model Number: 1051 with model NVAR in generation 8 of 10\n",
            "Model Number: 1052 with model GLS in generation 8 of 10\n",
            "Model Number: 1053 with model UnobservedComponents in generation 8 of 10\n",
            "Model Number: 1054 with model SectionalMotif in generation 8 of 10\n",
            "Model Number: 1055 with model AverageValueNaive in generation 8 of 10\n",
            "Model Number: 1056 with model GLM in generation 8 of 10\n",
            "Template Eval Error: ValueError('NaN, inf or invalid value detected in weights, estimation infeasible.') in model 1056: GLM\n",
            "Model Number: 1057 with model MultivariateMotif in generation 8 of 10\n",
            "Model Number: 1058 with model ConstantNaive in generation 8 of 10\n",
            "Model Number: 1059 with model GLM in generation 8 of 10\n",
            "No anomalies detected.\n",
            "Template Eval Error: Exception('Transformer HolidayTransformer failed on fit') in model 1059: GLM\n",
            "Model Number: 1060 with model Theta in generation 8 of 10\n"
          ]
        },
        {
          "output_type": "stream",
          "name": "stderr",
          "text": [
            "/usr/local/lib/python3.7/dist-packages/statsmodels/genmod/families/links.py:517: RuntimeWarning: overflow encountered in exp\n",
            "  return np.exp(z)\n",
            "/usr/local/lib/python3.7/dist-packages/statsmodels/genmod/families/family.py:134: RuntimeWarning: invalid value encountered in multiply\n",
            "  return 1. / (self.link.deriv(mu)**2 * self.variance(mu))\n",
            "/usr/local/lib/python3.7/dist-packages/statsmodels/genmod/generalized_linear_model.py:1199: RuntimeWarning: invalid value encountered in multiply\n",
            "  - self._offset_exposure)\n"
          ]
        },
        {
          "output_type": "stream",
          "name": "stdout",
          "text": [
            "Model Number: 1061 with model Theta in generation 8 of 10\n",
            "Model Number: 1062 with model ConstantNaive in generation 8 of 10\n",
            "Model Number: 1063 with model Theta in generation 8 of 10\n",
            "Model Number: 1064 with model MetricMotif in generation 8 of 10\n",
            "Model Number: 1065 with model ETS in generation 8 of 10\n",
            "Model Number: 1066 with model DatepartRegression in generation 8 of 10\n",
            "Model Number: 1067 with model SeasonalityMotif in generation 8 of 10\n",
            "Model Number: 1068 with model Theta in generation 8 of 10\n",
            "Model Number: 1069 with model AverageValueNaive in generation 8 of 10\n",
            "Model Number: 1070 with model LastValueNaive in generation 8 of 10\n",
            "Model Number: 1071 with model ETS in generation 8 of 10\n",
            "ETS error ValueError('endog must be strictly positive when usingmultiplicative trend or seasonal components.')\n",
            "ETS failed on Close with ValueError('endog must be strictly positive when usingmultiplicative trend or seasonal components.')\n",
            "Model Number: 1072 with model AverageValueNaive in generation 8 of 10\n",
            "Model Number: 1073 with model WindowRegression in generation 8 of 10\n",
            "Model Number: 1074 with model UnivariateMotif in generation 8 of 10\n",
            "Model Number: 1075 with model NVAR in generation 8 of 10\n",
            "Model Number: 1076 with model LastValueNaive in generation 8 of 10\n",
            "Model Number: 1077 with model Theta in generation 8 of 10\n",
            "Model Number: 1078 with model UnivariateMotif in generation 8 of 10\n",
            "Model Number: 1079 with model UnobservedComponents in generation 8 of 10\n",
            "Model Number: 1080 with model MultivariateRegression in generation 8 of 10\n",
            "Model Number: 1081 with model ConstantNaive in generation 8 of 10\n",
            "Model Number: 1082 with model AverageValueNaive in generation 8 of 10\n",
            "Model Number: 1083 with model ConstantNaive in generation 8 of 10\n",
            "Model Number: 1084 with model MetricMotif in generation 8 of 10\n",
            "Model Number: 1085 with model SectionalMotif in generation 8 of 10\n",
            "Model Number: 1086 with model ConstantNaive in generation 8 of 10\n",
            "Model Number: 1087 with model UnobservedComponents in generation 8 of 10\n",
            "Model Number: 1088 with model LastValueNaive in generation 8 of 10\n",
            "Template Eval Error: Exception('Transformer BTCD failed on fit') in model 1088: LastValueNaive\n",
            "Model Number: 1089 with model MetricMotif in generation 8 of 10\n",
            "Model Number: 1090 with model AverageValueNaive in generation 8 of 10\n",
            "Model Number: 1091 with model MetricMotif in generation 8 of 10\n",
            "Model Number: 1092 with model Theta in generation 8 of 10\n",
            "Template Eval Error: Exception('Transformer Cointegration failed on fit') in model 1092: Theta\n",
            "Model Number: 1093 with model SeasonalityMotif in generation 8 of 10\n",
            "Model Number: 1094 with model WindowRegression in generation 8 of 10\n",
            "Template Eval Error: ValueError(\"regression_type='User' but no future_regressor passed\") in model 1094: WindowRegression\n",
            "Model Number: 1095 with model NVAR in generation 8 of 10\n",
            "Model Number: 1096 with model UnivariateMotif in generation 8 of 10\n",
            "Model Number: 1097 with model WindowRegression in generation 8 of 10\n",
            "Template Eval Error: ValueError(\"regression_type='User' but no future_regressor passed\") in model 1097: WindowRegression\n",
            "Model Number: 1098 with model UnobservedComponents in generation 8 of 10\n",
            "Model Number: 1099 with model SeasonalityMotif in generation 8 of 10\n"
          ]
        },
        {
          "output_type": "stream",
          "name": "stderr",
          "text": [
            "INFO:prophet:Disabling yearly seasonality. Run prophet with yearly_seasonality=True to override this.\n",
            "INFO:prophet:Disabling daily seasonality. Run prophet with daily_seasonality=True to override this.\n",
            "DEBUG:cmdstanpy:input tempfile: /tmp/tmpkpj4r36s/x5jwmkuj.json\n",
            "DEBUG:cmdstanpy:input tempfile: /tmp/tmpkpj4r36s/q3j20ff1.json\n",
            "DEBUG:cmdstanpy:idx 0\n",
            "DEBUG:cmdstanpy:running CmdStan, num_threads: None\n",
            "DEBUG:cmdstanpy:CmdStan args: ['/usr/local/lib/python3.7/dist-packages/prophet/stan_model/prophet_model.bin', 'random', 'seed=75618', 'data', 'file=/tmp/tmpkpj4r36s/x5jwmkuj.json', 'init=/tmp/tmpkpj4r36s/q3j20ff1.json', 'output', 'file=/tmp/tmpkpj4r36s/prophet_model9r26ey70/prophet_model-20221121075714.csv', 'method=optimize', 'algorithm=lbfgs', 'iter=10000']\n",
            "07:57:14 - cmdstanpy - INFO - Chain [1] start processing\n",
            "INFO:cmdstanpy:Chain [1] start processing\n"
          ]
        },
        {
          "output_type": "stream",
          "name": "stdout",
          "text": [
            "Model Number: 1100 with model FBProphet in generation 8 of 10\n"
          ]
        },
        {
          "output_type": "stream",
          "name": "stderr",
          "text": [
            "07:57:16 - cmdstanpy - INFO - Chain [1] done processing\n",
            "INFO:cmdstanpy:Chain [1] done processing\n"
          ]
        },
        {
          "output_type": "stream",
          "name": "stdout",
          "text": [
            "Model Number: 1101 with model Theta in generation 8 of 10\n",
            "Model Number: 1102 with model WindowRegression in generation 8 of 10\n",
            "Model Number: 1103 with model MetricMotif in generation 8 of 10\n",
            "Model Number: 1104 with model UnivariateRegression in generation 8 of 10\n",
            "Model Number: 1105 with model FBProphet in generation 8 of 10\n"
          ]
        },
        {
          "output_type": "stream",
          "name": "stderr",
          "text": [
            "INFO:prophet:Disabling yearly seasonality. Run prophet with yearly_seasonality=True to override this.\n",
            "INFO:prophet:Disabling daily seasonality. Run prophet with daily_seasonality=True to override this.\n",
            "DEBUG:cmdstanpy:input tempfile: /tmp/tmpkpj4r36s/ghncs3xo.json\n",
            "DEBUG:cmdstanpy:input tempfile: /tmp/tmpkpj4r36s/vmpckoe7.json\n",
            "DEBUG:cmdstanpy:idx 0\n",
            "DEBUG:cmdstanpy:running CmdStan, num_threads: None\n",
            "DEBUG:cmdstanpy:CmdStan args: ['/usr/local/lib/python3.7/dist-packages/prophet/stan_model/prophet_model.bin', 'random', 'seed=94752', 'data', 'file=/tmp/tmpkpj4r36s/ghncs3xo.json', 'init=/tmp/tmpkpj4r36s/vmpckoe7.json', 'output', 'file=/tmp/tmpkpj4r36s/prophet_model3qw9tgp4/prophet_model-20221121075717.csv', 'method=optimize', 'algorithm=lbfgs', 'iter=10000']\n",
            "07:57:17 - cmdstanpy - INFO - Chain [1] start processing\n",
            "INFO:cmdstanpy:Chain [1] start processing\n",
            "07:57:17 - cmdstanpy - INFO - Chain [1] done processing\n",
            "INFO:cmdstanpy:Chain [1] done processing\n"
          ]
        },
        {
          "output_type": "stream",
          "name": "stdout",
          "text": [
            "Model Number: 1106 with model UnobservedComponents in generation 8 of 10\n",
            "Model Number: 1107 with model AverageValueNaive in generation 8 of 10\n",
            "Model Number: 1108 with model MetricMotif in generation 8 of 10\n",
            "Model Number: 1109 with model ETS in generation 8 of 10\n",
            "Model Number: 1110 with model DatepartRegression in generation 8 of 10\n",
            "Model Number: 1111 with model ETS in generation 8 of 10\n",
            "ETS error ValueError('Can only dampen the trend component')\n",
            "ETS failed on Close with ValueError('Can only dampen the trend component')\n",
            "Model Number: 1112 with model SectionalMotif in generation 8 of 10\n",
            "Model Number: 1113 with model UnobservedComponents in generation 8 of 10\n",
            "Model Number: 1114 with model ConstantNaive in generation 8 of 10\n",
            "Model Number: 1115 with model DatepartRegression in generation 8 of 10\n",
            "Model Number: 1116 with model MultivariateRegression in generation 8 of 10\n",
            "Model Number: 1117 with model AverageValueNaive in generation 8 of 10\n",
            "Template Eval Error: Exception('Transformer Detrend failed on fit') in model 1117: AverageValueNaive\n",
            "Model Number: 1118 with model Theta in generation 8 of 10\n",
            "Model Number: 1119 with model SectionalMotif in generation 8 of 10\n",
            "Model Number: 1120 with model UnivariateRegression in generation 8 of 10\n",
            "Model Number: 1121 with model MultivariateRegression in generation 8 of 10\n"
          ]
        },
        {
          "output_type": "stream",
          "name": "stderr",
          "text": [
            "[Parallel(n_jobs=-2)]: Using backend SequentialBackend with 1 concurrent workers.\n",
            "[Parallel(n_jobs=-2)]: Done 200 out of 200 | elapsed:    0.6s finished\n",
            "[Parallel(n_jobs=1)]: Using backend SequentialBackend with 1 concurrent workers.\n",
            "[Parallel(n_jobs=1)]: Done 200 out of 200 | elapsed:    0.0s finished\n",
            "[Parallel(n_jobs=1)]: Using backend SequentialBackend with 1 concurrent workers.\n",
            "[Parallel(n_jobs=1)]: Done 200 out of 200 | elapsed:    0.0s finished\n",
            "[Parallel(n_jobs=1)]: Using backend SequentialBackend with 1 concurrent workers.\n",
            "[Parallel(n_jobs=1)]: Done 200 out of 200 | elapsed:    0.0s finished\n"
          ]
        },
        {
          "output_type": "stream",
          "name": "stdout",
          "text": [
            "Model Number: 1122 with model ETS in generation 8 of 10\n",
            "ETS error ValueError('endog must be strictly positive when usingmultiplicative trend or seasonal components.')\n",
            "ETS failed on Close with ValueError('endog must be strictly positive when usingmultiplicative trend or seasonal components.')\n",
            "Model Number: 1123 with model NVAR in generation 8 of 10\n",
            "Model Number: 1124 with model SeasonalNaive in generation 8 of 10\n",
            "Model Number: 1125 with model ConstantNaive in generation 8 of 10\n",
            "Model Number: 1126 with model NVAR in generation 8 of 10\n",
            "Model Number: 1127 with model Theta in generation 8 of 10\n",
            "Template Eval Error: Exception('Transformer Detrend failed on fit') in model 1127: Theta\n",
            "Model Number: 1128 with model SeasonalityMotif in generation 8 of 10\n",
            "Model Number: 1129 with model MetricMotif in generation 8 of 10\n"
          ]
        },
        {
          "output_type": "stream",
          "name": "stderr",
          "text": [
            "/usr/local/lib/python3.7/dist-packages/sklearn/linear_model/_ridge.py:157: LinAlgWarning: Ill-conditioned matrix (rcond=2.35621e-25): result may not be accurate.\n",
            "  return linalg.solve(A, Xy, sym_pos=True, overwrite_a=True).T\n"
          ]
        },
        {
          "output_type": "stream",
          "name": "stdout",
          "text": [
            "New Generation: 9 of 10\n",
            "Model Number: 1130 with model ARIMA in generation 9 of 10\n",
            "Model Number: 1131 with model UnivariateRegression in generation 9 of 10\n",
            "Model Number: 1132 with model SeasonalNaive in generation 9 of 10\n",
            "Model Number: 1133 with model NVAR in generation 9 of 10\n",
            "Model Number: 1134 with model UnivariateRegression in generation 9 of 10\n",
            "Model Number: 1135 with model ConstantNaive in generation 9 of 10\n",
            "Model Number: 1136 with model LastValueNaive in generation 9 of 10\n",
            "Model Number: 1137 with model ConstantNaive in generation 9 of 10\n",
            "Model Number: 1138 with model ARIMA in generation 9 of 10\n"
          ]
        },
        {
          "output_type": "stream",
          "name": "stderr",
          "text": [
            "/usr/local/lib/python3.7/dist-packages/scipy/signal/signaltools.py:1611: RuntimeWarning: divide by zero encountered in true_divide\n",
            "  res *= (1 - noise / lVar)\n",
            "/usr/local/lib/python3.7/dist-packages/scipy/signal/signaltools.py:1611: RuntimeWarning: invalid value encountered in multiply\n",
            "  res *= (1 - noise / lVar)\n"
          ]
        },
        {
          "output_type": "stream",
          "name": "stdout",
          "text": [
            "Model Number: 1139 with model GLS in generation 9 of 10\n",
            "Model Number: 1140 with model ARIMA in generation 9 of 10\n",
            "Model Number: 1141 with model LastValueNaive in generation 9 of 10\n",
            "Model Number: 1142 with model LastValueNaive in generation 9 of 10\n",
            "Model Number: 1143 with model NVAR in generation 9 of 10\n",
            "Model Number: 1144 with model UnobservedComponents in generation 9 of 10\n",
            "Model Number: 1145 with model ConstantNaive in generation 9 of 10\n",
            "Model Number: 1146 with model FBProphet in generation 9 of 10\n",
            "No anomalies detected.\n"
          ]
        },
        {
          "output_type": "stream",
          "name": "stderr",
          "text": [
            "INFO:prophet:Disabling yearly seasonality. Run prophet with yearly_seasonality=True to override this.\n",
            "INFO:prophet:Disabling daily seasonality. Run prophet with daily_seasonality=True to override this.\n",
            "DEBUG:cmdstanpy:input tempfile: /tmp/tmpkpj4r36s/hsxsea01.json\n",
            "DEBUG:cmdstanpy:input tempfile: /tmp/tmpkpj4r36s/uzmk7t8n.json\n",
            "DEBUG:cmdstanpy:idx 0\n",
            "DEBUG:cmdstanpy:running CmdStan, num_threads: None\n",
            "DEBUG:cmdstanpy:CmdStan args: ['/usr/local/lib/python3.7/dist-packages/prophet/stan_model/prophet_model.bin', 'random', 'seed=57775', 'data', 'file=/tmp/tmpkpj4r36s/hsxsea01.json', 'init=/tmp/tmpkpj4r36s/uzmk7t8n.json', 'output', 'file=/tmp/tmpkpj4r36s/prophet_modelkh14vy2g/prophet_model-20221121075732.csv', 'method=optimize', 'algorithm=lbfgs', 'iter=10000']\n",
            "07:57:32 - cmdstanpy - INFO - Chain [1] start processing\n",
            "INFO:cmdstanpy:Chain [1] start processing\n",
            "07:57:32 - cmdstanpy - INFO - Chain [1] done processing\n",
            "INFO:cmdstanpy:Chain [1] done processing\n"
          ]
        },
        {
          "output_type": "stream",
          "name": "stdout",
          "text": [
            "Model Number: 1147 with model AverageValueNaive in generation 9 of 10\n",
            "Model Number: 1148 with model SeasonalityMotif in generation 9 of 10\n",
            "Model Number: 1149 with model ARIMA in generation 9 of 10\n",
            "Template Eval Error: ValueError(\"regression_type='User' but future_regressor not supplied\") in model 1149: ARIMA\n",
            "Model Number: 1150 with model ETS in generation 9 of 10\n",
            "Model Number: 1151 with model SectionalMotif in generation 9 of 10\n",
            "Model Number: 1152 with model ConstantNaive in generation 9 of 10\n",
            "Model Number: 1153 with model MetricMotif in generation 9 of 10\n",
            "Template Eval Error: Exception('Transformer Cointegration failed on fit') in model 1153: MetricMotif\n",
            "Model Number: 1154 with model SectionalMotif in generation 9 of 10\n",
            "Model Number: 1155 with model ConstantNaive in generation 9 of 10\n",
            "Model Number: 1156 with model LastValueNaive in generation 9 of 10\n",
            "Model Number: 1157 with model ConstantNaive in generation 9 of 10\n",
            "Template Eval Error: Exception('Transformer Cointegration failed on fit') in model 1157: ConstantNaive\n",
            "Model Number: 1158 with model UnobservedComponents in generation 9 of 10\n",
            "Template Eval Error: Exception('Transformer BTCD failed on fit') in model 1158: UnobservedComponents\n",
            "Model Number: 1159 with model ARIMA in generation 9 of 10\n",
            "Model Number: 1160 with model WindowRegression in generation 9 of 10\n",
            "Model Number: 1161 with model ETS in generation 9 of 10\n",
            "Template Eval Error: Exception('Transformer BTCD failed on fit') in model 1161: ETS\n",
            "Model Number: 1162 with model UnobservedComponents in generation 9 of 10\n",
            "Model Number: 1163 with model Theta in generation 9 of 10\n",
            "Model Number: 1164 with model MetricMotif in generation 9 of 10\n",
            "Model Number: 1165 with model MetricMotif in generation 9 of 10\n",
            "Model Number: 1166 with model MultivariateRegression in generation 9 of 10\n"
          ]
        },
        {
          "output_type": "stream",
          "name": "stderr",
          "text": [
            "/usr/local/lib/python3.7/dist-packages/sklearn/svm/_base.py:1208: ConvergenceWarning: Liblinear failed to converge, increase the number of iterations.\n",
            "  ConvergenceWarning,\n"
          ]
        },
        {
          "output_type": "stream",
          "name": "stdout",
          "text": [
            "Model Number: 1167 with model GLM in generation 9 of 10\n",
            "Model Number: 1168 with model Theta in generation 9 of 10\n",
            "Model Number: 1169 with model SeasonalityMotif in generation 9 of 10\n",
            "Model Number: 1170 with model NVAR in generation 9 of 10\n",
            "Model Number: 1171 with model UnobservedComponents in generation 9 of 10\n",
            "Model Number: 1172 with model DatepartRegression in generation 9 of 10\n",
            "Model Number: 1173 with model SectionalMotif in generation 9 of 10\n",
            "Model Number: 1174 with model SectionalMotif in generation 9 of 10\n",
            "Model Number: 1175 with model SeasonalNaive in generation 9 of 10\n",
            "Model Number: 1176 with model FBProphet in generation 9 of 10\n",
            "No anomalies detected.\n"
          ]
        },
        {
          "output_type": "stream",
          "name": "stderr",
          "text": [
            "INFO:prophet:Disabling yearly seasonality. Run prophet with yearly_seasonality=True to override this.\n",
            "INFO:prophet:Disabling daily seasonality. Run prophet with daily_seasonality=True to override this.\n",
            "DEBUG:cmdstanpy:input tempfile: /tmp/tmpkpj4r36s/chcsaf4r.json\n",
            "DEBUG:cmdstanpy:input tempfile: /tmp/tmpkpj4r36s/_j7j8p88.json\n",
            "DEBUG:cmdstanpy:idx 0\n",
            "DEBUG:cmdstanpy:running CmdStan, num_threads: None\n",
            "DEBUG:cmdstanpy:CmdStan args: ['/usr/local/lib/python3.7/dist-packages/prophet/stan_model/prophet_model.bin', 'random', 'seed=3450', 'data', 'file=/tmp/tmpkpj4r36s/chcsaf4r.json', 'init=/tmp/tmpkpj4r36s/_j7j8p88.json', 'output', 'file=/tmp/tmpkpj4r36s/prophet_modelatc17vx1/prophet_model-20221121075740.csv', 'method=optimize', 'algorithm=lbfgs', 'iter=10000']\n",
            "07:57:40 - cmdstanpy - INFO - Chain [1] start processing\n",
            "INFO:cmdstanpy:Chain [1] start processing\n",
            "07:57:42 - cmdstanpy - INFO - Chain [1] done processing\n",
            "INFO:cmdstanpy:Chain [1] done processing\n"
          ]
        },
        {
          "output_type": "stream",
          "name": "stdout",
          "text": [
            "Model Number: 1177 with model ETS in generation 9 of 10\n",
            "Model Number: 1178 with model MultivariateRegression in generation 9 of 10\n"
          ]
        },
        {
          "output_type": "stream",
          "name": "stderr",
          "text": [
            "[Parallel(n_jobs=-2)]: Using backend SequentialBackend with 1 concurrent workers.\n",
            "[Parallel(n_jobs=-2)]: Done 200 out of 200 | elapsed:    0.5s finished\n",
            "[Parallel(n_jobs=1)]: Using backend SequentialBackend with 1 concurrent workers.\n",
            "[Parallel(n_jobs=1)]: Done 200 out of 200 | elapsed:    0.0s finished\n",
            "[Parallel(n_jobs=1)]: Using backend SequentialBackend with 1 concurrent workers.\n",
            "[Parallel(n_jobs=1)]: Done 200 out of 200 | elapsed:    0.0s finished\n",
            "[Parallel(n_jobs=1)]: Using backend SequentialBackend with 1 concurrent workers.\n",
            "[Parallel(n_jobs=1)]: Done 200 out of 200 | elapsed:    0.0s finished\n"
          ]
        },
        {
          "output_type": "stream",
          "name": "stdout",
          "text": [
            "Model Number: 1179 with model AverageValueNaive in generation 9 of 10\n"
          ]
        },
        {
          "output_type": "stream",
          "name": "stderr",
          "text": [
            "INFO:prophet:Disabling yearly seasonality. Run prophet with yearly_seasonality=True to override this.\n",
            "INFO:prophet:Disabling daily seasonality. Run prophet with daily_seasonality=True to override this.\n",
            "DEBUG:cmdstanpy:input tempfile: /tmp/tmpkpj4r36s/o8u2p593.json\n",
            "DEBUG:cmdstanpy:input tempfile: /tmp/tmpkpj4r36s/1cujizad.json\n",
            "DEBUG:cmdstanpy:idx 0\n",
            "DEBUG:cmdstanpy:running CmdStan, num_threads: None\n",
            "DEBUG:cmdstanpy:CmdStan args: ['/usr/local/lib/python3.7/dist-packages/prophet/stan_model/prophet_model.bin', 'random', 'seed=85049', 'data', 'file=/tmp/tmpkpj4r36s/o8u2p593.json', 'init=/tmp/tmpkpj4r36s/1cujizad.json', 'output', 'file=/tmp/tmpkpj4r36s/prophet_model4md79xoo/prophet_model-20221121075743.csv', 'method=optimize', 'algorithm=lbfgs', 'iter=10000']\n",
            "07:57:43 - cmdstanpy - INFO - Chain [1] start processing\n",
            "INFO:cmdstanpy:Chain [1] start processing\n"
          ]
        },
        {
          "output_type": "stream",
          "name": "stdout",
          "text": [
            "Model Number: 1180 with model FBProphet in generation 9 of 10\n",
            "No anomalies detected.\n"
          ]
        },
        {
          "output_type": "stream",
          "name": "stderr",
          "text": [
            "07:57:44 - cmdstanpy - INFO - Chain [1] done processing\n",
            "INFO:cmdstanpy:Chain [1] done processing\n"
          ]
        },
        {
          "output_type": "stream",
          "name": "stdout",
          "text": [
            "Model Number: 1181 with model MetricMotif in generation 9 of 10\n",
            "Model Number: 1182 with model UnobservedComponents in generation 9 of 10\n",
            "Model Number: 1183 with model WindowRegression in generation 9 of 10\n",
            "Model Number: 1184 with model NVAR in generation 9 of 10\n",
            "Model Number: 1185 with model WindowRegression in generation 9 of 10\n"
          ]
        },
        {
          "output_type": "stream",
          "name": "stderr",
          "text": [
            "[Parallel(n_jobs=-2)]: Using backend SequentialBackend with 1 concurrent workers.\n",
            "[Parallel(n_jobs=-2)]: Done 300 out of 300 | elapsed:    0.7s finished\n",
            "[Parallel(n_jobs=1)]: Using backend SequentialBackend with 1 concurrent workers.\n",
            "[Parallel(n_jobs=1)]: Done 300 out of 300 | elapsed:    0.0s finished\n",
            "[Parallel(n_jobs=1)]: Using backend SequentialBackend with 1 concurrent workers.\n",
            "[Parallel(n_jobs=1)]: Done 300 out of 300 | elapsed:    0.0s finished\n",
            "[Parallel(n_jobs=1)]: Using backend SequentialBackend with 1 concurrent workers.\n",
            "[Parallel(n_jobs=1)]: Done 300 out of 300 | elapsed:    0.0s finished\n"
          ]
        },
        {
          "output_type": "stream",
          "name": "stdout",
          "text": [
            "Model Number: 1186 with model DatepartRegression in generation 9 of 10\n",
            "Model Number: 1187 with model MetricMotif in generation 9 of 10\n",
            "Model Number: 1188 with model UnivariateRegression in generation 9 of 10\n",
            "Model Number: 1189 with model NVAR in generation 9 of 10\n",
            "Model Number: 1190 with model FBProphet in generation 9 of 10\n",
            "Template Eval Error: Exception('Transformer Cointegration failed on fit') in model 1190: FBProphet\n",
            "Model Number: 1191 with model SeasonalityMotif in generation 9 of 10\n",
            "Model Number: 1192 with model SectionalMotif in generation 9 of 10\n",
            "Model Number: 1193 with model ConstantNaive in generation 9 of 10\n",
            "Model Number: 1194 with model UnivariateRegression in generation 9 of 10\n",
            "Model Number: 1195 with model WindowRegression in generation 9 of 10\n",
            "Model Number: 1196 with model ETS in generation 9 of 10\n"
          ]
        },
        {
          "output_type": "stream",
          "name": "stderr",
          "text": [
            "/usr/local/lib/python3.7/dist-packages/sklearn/neural_network/_multilayer_perceptron.py:549: ConvergenceWarning: lbfgs failed to converge (status=1):\n",
            "STOP: TOTAL NO. of ITERATIONS REACHED LIMIT.\n",
            "\n",
            "Increase the number of iterations (max_iter) or scale the data as shown in:\n",
            "    https://scikit-learn.org/stable/modules/preprocessing.html\n",
            "  self.n_iter_ = _check_optimize_result(\"lbfgs\", opt_res, self.max_iter)\n"
          ]
        },
        {
          "output_type": "stream",
          "name": "stdout",
          "text": [
            "Model Number: 1197 with model ARIMA in generation 9 of 10\n",
            "Model Number: 1198 with model ConstantNaive in generation 9 of 10\n",
            "Model Number: 1199 with model UnobservedComponents in generation 9 of 10\n",
            "Model Number: 1200 with model ARIMA in generation 9 of 10\n",
            "Model Number: 1201 with model UnivariateMotif in generation 9 of 10\n",
            "Model Number: 1202 with model MetricMotif in generation 9 of 10\n",
            "Model Number: 1203 with model ARIMA in generation 9 of 10\n",
            "Template Eval Error: ValueError(\"regression_type='User' but future_regressor not supplied\") in model 1203: ARIMA\n",
            "Model Number: 1204 with model GLS in generation 9 of 10\n",
            "Model Number: 1205 with model Theta in generation 9 of 10\n",
            "Model Number: 1206 with model NVAR in generation 9 of 10\n",
            "Template Eval Error: Exception('Transformer HolidayTransformer failed on fit') in model 1206: NVAR\n",
            "Model Number: 1207 with model MultivariateRegression in generation 9 of 10\n"
          ]
        },
        {
          "output_type": "stream",
          "name": "stderr",
          "text": [
            "[Parallel(n_jobs=-2)]: Using backend SequentialBackend with 1 concurrent workers.\n"
          ]
        },
        {
          "output_type": "stream",
          "name": "stdout",
          "text": [
            "Model Number: 1208 with model ConstantNaive in generation 9 of 10\n"
          ]
        },
        {
          "output_type": "stream",
          "name": "stderr",
          "text": [
            "[Parallel(n_jobs=-2)]: Done 200 out of 200 | elapsed:    0.4s finished\n",
            "[Parallel(n_jobs=1)]: Using backend SequentialBackend with 1 concurrent workers.\n",
            "[Parallel(n_jobs=1)]: Done 200 out of 200 | elapsed:    0.0s finished\n",
            "[Parallel(n_jobs=1)]: Using backend SequentialBackend with 1 concurrent workers.\n",
            "[Parallel(n_jobs=1)]: Done 200 out of 200 | elapsed:    0.0s finished\n",
            "[Parallel(n_jobs=1)]: Using backend SequentialBackend with 1 concurrent workers.\n",
            "[Parallel(n_jobs=1)]: Done 200 out of 200 | elapsed:    0.0s finished\n"
          ]
        },
        {
          "output_type": "stream",
          "name": "stdout",
          "text": [
            "Model Number: 1209 with model Theta in generation 9 of 10\n",
            "Template Eval Error: Exception('Transformer Detrend failed on fit') in model 1209: Theta\n",
            "Model Number: 1210 with model MultivariateRegression in generation 9 of 10\n"
          ]
        },
        {
          "output_type": "stream",
          "name": "stderr",
          "text": [
            "[Parallel(n_jobs=-2)]: Using backend SequentialBackend with 1 concurrent workers.\n",
            "[Parallel(n_jobs=-2)]: Done 200 out of 200 | elapsed:    0.5s finished\n",
            "[Parallel(n_jobs=1)]: Using backend SequentialBackend with 1 concurrent workers.\n",
            "[Parallel(n_jobs=1)]: Done 200 out of 200 | elapsed:    0.0s finished\n",
            "[Parallel(n_jobs=1)]: Using backend SequentialBackend with 1 concurrent workers.\n",
            "[Parallel(n_jobs=1)]: Done 200 out of 200 | elapsed:    0.0s finished\n",
            "[Parallel(n_jobs=1)]: Using backend SequentialBackend with 1 concurrent workers.\n",
            "[Parallel(n_jobs=1)]: Done 200 out of 200 | elapsed:    0.0s finished\n"
          ]
        },
        {
          "output_type": "stream",
          "name": "stdout",
          "text": [
            "Model Number: 1211 with model LastValueNaive in generation 9 of 10\n",
            "Model Number: 1212 with model UnivariateMotif in generation 9 of 10\n",
            "Model Number: 1213 with model WindowRegression in generation 9 of 10\n",
            "Model Number: 1214 with model Theta in generation 9 of 10\n",
            "Model Number: 1215 with model GLS in generation 9 of 10\n",
            "Model Number: 1216 with model ARIMA in generation 9 of 10\n",
            "Template Eval Error: ValueError(\"regression_type='User' but future_regressor not supplied\") in model 1216: ARIMA\n",
            "Model Number: 1217 with model MetricMotif in generation 9 of 10\n",
            "Model Number: 1218 with model ARIMA in generation 9 of 10\n",
            "Model Number: 1219 with model UnivariateMotif in generation 9 of 10\n",
            "Model Number: 1220 with model SeasonalityMotif in generation 9 of 10\n",
            "Model Number: 1221 with model UnobservedComponents in generation 9 of 10\n",
            "Model Number: 1222 with model ConstantNaive in generation 9 of 10\n",
            "Model Number: 1223 with model ARIMA in generation 9 of 10\n",
            "Model Number: 1224 with model MetricMotif in generation 9 of 10\n",
            "Model Number: 1225 with model ConstantNaive in generation 9 of 10\n",
            "Model Number: 1226 with model UnivariateMotif in generation 9 of 10\n",
            "Model Number: 1227 with model MultivariateMotif in generation 9 of 10\n",
            "Model Number: 1228 with model DatepartRegression in generation 9 of 10\n",
            "Template Eval Error: ValueError('Model DatepartRegression returned NaN for one or more series. fail_on_forecast_nan=True') in model 1228: DatepartRegression\n",
            "Model Number: 1229 with model UnivariateMotif in generation 9 of 10\n",
            "Model Number: 1230 with model NVAR in generation 9 of 10\n",
            "Model Number: 1231 with model MultivariateRegression in generation 9 of 10\n"
          ]
        },
        {
          "output_type": "stream",
          "name": "stderr",
          "text": [
            "/usr/local/lib/python3.7/dist-packages/sklearn/neighbors/_regression.py:470: UserWarning: One or more samples have no neighbors within specified radius; predicting NaN.\n",
            "  warnings.warn(empty_warning_msg)\n",
            "/usr/local/lib/python3.7/dist-packages/sklearn/linear_model/_ridge.py:157: LinAlgWarning: Ill-conditioned matrix (rcond=2.35621e-25): result may not be accurate.\n",
            "  return linalg.solve(A, Xy, sym_pos=True, overwrite_a=True).T\n",
            "[Parallel(n_jobs=-2)]: Using backend SequentialBackend with 1 concurrent workers.\n"
          ]
        },
        {
          "output_type": "stream",
          "name": "stdout",
          "text": [
            "Model Number: 1232 with model MetricMotif in generation 9 of 10\n"
          ]
        },
        {
          "output_type": "stream",
          "name": "stderr",
          "text": [
            "[Parallel(n_jobs=-2)]: Done 200 out of 200 | elapsed:    0.5s finished\n",
            "[Parallel(n_jobs=1)]: Using backend SequentialBackend with 1 concurrent workers.\n",
            "[Parallel(n_jobs=1)]: Done 200 out of 200 | elapsed:    0.0s finished\n",
            "[Parallel(n_jobs=1)]: Using backend SequentialBackend with 1 concurrent workers.\n",
            "[Parallel(n_jobs=1)]: Done 200 out of 200 | elapsed:    0.0s finished\n",
            "[Parallel(n_jobs=1)]: Using backend SequentialBackend with 1 concurrent workers.\n",
            "[Parallel(n_jobs=1)]: Done 200 out of 200 | elapsed:    0.0s finished\n"
          ]
        },
        {
          "output_type": "stream",
          "name": "stdout",
          "text": [
            "Model Number: 1233 with model MultivariateMotif in generation 9 of 10\n",
            "New Generation: 10 of 10\n",
            "Model Number: 1234 with model SeasonalityMotif in generation 10 of 10\n",
            "Model Number: 1235 with model FBProphet in generation 10 of 10\n",
            "No anomalies detected.\n"
          ]
        },
        {
          "output_type": "stream",
          "name": "stderr",
          "text": [
            "INFO:prophet:Disabling yearly seasonality. Run prophet with yearly_seasonality=True to override this.\n",
            "INFO:prophet:Disabling daily seasonality. Run prophet with daily_seasonality=True to override this.\n",
            "DEBUG:cmdstanpy:input tempfile: /tmp/tmpkpj4r36s/e1rlw5i1.json\n",
            "DEBUG:cmdstanpy:input tempfile: /tmp/tmpkpj4r36s/o607nsc_.json\n",
            "DEBUG:cmdstanpy:idx 0\n",
            "DEBUG:cmdstanpy:running CmdStan, num_threads: None\n",
            "DEBUG:cmdstanpy:CmdStan args: ['/usr/local/lib/python3.7/dist-packages/prophet/stan_model/prophet_model.bin', 'random', 'seed=79624', 'data', 'file=/tmp/tmpkpj4r36s/e1rlw5i1.json', 'init=/tmp/tmpkpj4r36s/o607nsc_.json', 'output', 'file=/tmp/tmpkpj4r36s/prophet_modelkm630s2t/prophet_model-20221121075851.csv', 'method=optimize', 'algorithm=lbfgs', 'iter=10000']\n",
            "07:58:51 - cmdstanpy - INFO - Chain [1] start processing\n",
            "INFO:cmdstanpy:Chain [1] start processing\n",
            "07:58:52 - cmdstanpy - INFO - Chain [1] done processing\n",
            "INFO:cmdstanpy:Chain [1] done processing\n"
          ]
        },
        {
          "output_type": "stream",
          "name": "stdout",
          "text": [
            "Model Number: 1236 with model ETS in generation 10 of 10\n",
            "ETS error ValueError('endog must be strictly positive when usingmultiplicative trend or seasonal components.')\n",
            "ETS failed on Close with ValueError('endog must be strictly positive when usingmultiplicative trend or seasonal components.')\n",
            "Model Number: 1237 with model LastValueNaive in generation 10 of 10\n",
            "Model Number: 1238 with model ETS in generation 10 of 10\n",
            "ETS error ValueError('endog must be strictly positive when usingmultiplicative trend or seasonal components.')\n",
            "ETS failed on Close with ValueError('endog must be strictly positive when usingmultiplicative trend or seasonal components.')\n",
            "Model Number: 1239 with model SectionalMotif in generation 10 of 10\n",
            "Model Number: 1240 with model SeasonalityMotif in generation 10 of 10\n",
            "Model Number: 1241 with model UnobservedComponents in generation 10 of 10\n",
            "Model Number: 1242 with model SectionalMotif in generation 10 of 10\n",
            "Model Number: 1243 with model NVAR in generation 10 of 10\n",
            "Model Number: 1244 with model DatepartRegression in generation 10 of 10\n",
            "Model Number: 1245 with model Theta in generation 10 of 10\n",
            "Model Number: 1246 with model ETS in generation 10 of 10\n",
            "Model Number: 1247 with model WindowRegression in generation 10 of 10\n",
            "Model Number: 1248 with model NVAR in generation 10 of 10\n",
            "Model Number: 1249 with model ETS in generation 10 of 10\n",
            "ETS error ValueError('endog must be strictly positive when usingmultiplicative trend or seasonal components.')\n",
            "ETS failed on Close with ValueError('endog must be strictly positive when usingmultiplicative trend or seasonal components.')\n",
            "Model Number: 1250 with model UnobservedComponents in generation 10 of 10\n",
            "Model Number: 1251 with model GLS in generation 10 of 10\n",
            "Model Number: 1252 with model MetricMotif in generation 10 of 10\n",
            "Template Eval Error: Exception('Transformer Cointegration failed on fit') in model 1252: MetricMotif\n",
            "Model Number: 1253 with model MetricMotif in generation 10 of 10\n",
            "Model Number: 1254 with model NVAR in generation 10 of 10\n",
            "Model Number: 1255 with model ConstantNaive in generation 10 of 10\n",
            "Model Number: 1256 with model MultivariateRegression in generation 10 of 10\n"
          ]
        },
        {
          "output_type": "stream",
          "name": "stderr",
          "text": [
            "[Parallel(n_jobs=-2)]: Using backend SequentialBackend with 1 concurrent workers.\n",
            "[Parallel(n_jobs=-2)]: Done 200 out of 200 | elapsed:    0.5s finished\n",
            "[Parallel(n_jobs=1)]: Using backend SequentialBackend with 1 concurrent workers.\n",
            "[Parallel(n_jobs=1)]: Done 200 out of 200 | elapsed:    0.0s finished\n",
            "[Parallel(n_jobs=1)]: Using backend SequentialBackend with 1 concurrent workers.\n",
            "[Parallel(n_jobs=1)]: Done 200 out of 200 | elapsed:    0.0s finished\n",
            "[Parallel(n_jobs=1)]: Using backend SequentialBackend with 1 concurrent workers.\n",
            "[Parallel(n_jobs=1)]: Done 200 out of 200 | elapsed:    0.0s finished\n"
          ]
        },
        {
          "output_type": "stream",
          "name": "stdout",
          "text": [
            "Model Number: 1257 with model MetricMotif in generation 10 of 10\n",
            "Template Eval Error: Exception('Transformer Cointegration failed on fit') in model 1257: MetricMotif\n",
            "Model Number: 1258 with model Theta in generation 10 of 10\n",
            "Model Number: 1259 with model MultivariateMotif in generation 10 of 10\n",
            "Model Number: 1260 with model Theta in generation 10 of 10\n",
            "Model Number: 1261 with model UnobservedComponents in generation 10 of 10\n",
            "Model Number: 1262 with model UnobservedComponents in generation 10 of 10\n",
            "Model Number: 1263 with model UnivariateRegression in generation 10 of 10\n",
            "Model Number: 1264 with model NVAR in generation 10 of 10\n",
            "Model Number: 1265 with model SectionalMotif in generation 10 of 10\n",
            "Model Number: 1266 with model SectionalMotif in generation 10 of 10\n",
            "Template Eval Error: Exception('Transformer Cointegration failed on fit') in model 1266: SectionalMotif\n",
            "Model Number: 1267 with model UnobservedComponents in generation 10 of 10\n",
            "Model Number: 1268 with model DatepartRegression in generation 10 of 10\n",
            "Template Eval Error: Exception('Transformer Detrend failed on fit') in model 1268: DatepartRegression\n",
            "Model Number: 1269 with model MetricMotif in generation 10 of 10\n",
            "Model Number: 1270 with model LastValueNaive in generation 10 of 10\n",
            "Model Number: 1271 with model ConstantNaive in generation 10 of 10\n",
            "Model Number: 1272 with model Theta in generation 10 of 10\n"
          ]
        },
        {
          "output_type": "stream",
          "name": "stderr",
          "text": [
            "INFO:prophet:Disabling yearly seasonality. Run prophet with yearly_seasonality=True to override this.\n",
            "INFO:prophet:Disabling daily seasonality. Run prophet with daily_seasonality=True to override this.\n",
            "DEBUG:cmdstanpy:input tempfile: /tmp/tmpkpj4r36s/xq1kdqy_.json\n",
            "DEBUG:cmdstanpy:input tempfile: /tmp/tmpkpj4r36s/2nb0wnz9.json\n",
            "DEBUG:cmdstanpy:idx 0\n",
            "DEBUG:cmdstanpy:running CmdStan, num_threads: None\n",
            "DEBUG:cmdstanpy:CmdStan args: ['/usr/local/lib/python3.7/dist-packages/prophet/stan_model/prophet_model.bin', 'random', 'seed=54951', 'data', 'file=/tmp/tmpkpj4r36s/xq1kdqy_.json', 'init=/tmp/tmpkpj4r36s/2nb0wnz9.json', 'output', 'file=/tmp/tmpkpj4r36s/prophet_modelnomrp6s7/prophet_model-20221121075900.csv', 'method=optimize', 'algorithm=lbfgs', 'iter=10000']\n",
            "07:59:00 - cmdstanpy - INFO - Chain [1] start processing\n",
            "INFO:cmdstanpy:Chain [1] start processing\n"
          ]
        },
        {
          "output_type": "stream",
          "name": "stdout",
          "text": [
            "Model Number: 1273 with model FBProphet in generation 10 of 10\n",
            "No anomalies detected.\n"
          ]
        },
        {
          "output_type": "stream",
          "name": "stderr",
          "text": [
            "07:59:00 - cmdstanpy - INFO - Chain [1] done processing\n",
            "INFO:cmdstanpy:Chain [1] done processing\n",
            "07:59:00 - cmdstanpy - ERROR - Chain [1] error: error during processing Communication error on send\n",
            "ERROR:cmdstanpy:Chain [1] error: error during processing Communication error on send\n",
            "WARNING:prophet.models:Optimization terminated abnormally. Falling back to Newton.\n",
            "DEBUG:cmdstanpy:input tempfile: /tmp/tmpkpj4r36s/a3h6c4ph.json\n",
            "DEBUG:cmdstanpy:input tempfile: /tmp/tmpkpj4r36s/fjrxwksi.json\n",
            "DEBUG:cmdstanpy:idx 0\n",
            "DEBUG:cmdstanpy:running CmdStan, num_threads: None\n",
            "DEBUG:cmdstanpy:CmdStan args: ['/usr/local/lib/python3.7/dist-packages/prophet/stan_model/prophet_model.bin', 'random', 'seed=49883', 'data', 'file=/tmp/tmpkpj4r36s/a3h6c4ph.json', 'init=/tmp/tmpkpj4r36s/fjrxwksi.json', 'output', 'file=/tmp/tmpkpj4r36s/prophet_modela7g9ujst/prophet_model-20221121075900.csv', 'method=optimize', 'algorithm=newton', 'iter=10000']\n",
            "07:59:00 - cmdstanpy - INFO - Chain [1] start processing\n",
            "INFO:cmdstanpy:Chain [1] start processing\n",
            "07:59:02 - cmdstanpy - INFO - Chain [1] done processing\n",
            "INFO:cmdstanpy:Chain [1] done processing\n"
          ]
        },
        {
          "output_type": "stream",
          "name": "stdout",
          "text": [
            "Model Number: 1274 with model LastValueNaive in generation 10 of 10\n",
            "Model Number: 1275 with model NVAR in generation 10 of 10\n"
          ]
        },
        {
          "output_type": "stream",
          "name": "stderr",
          "text": [
            "INFO:prophet:Disabling yearly seasonality. Run prophet with yearly_seasonality=True to override this.\n",
            "INFO:prophet:Disabling daily seasonality. Run prophet with daily_seasonality=True to override this.\n"
          ]
        },
        {
          "output_type": "stream",
          "name": "stdout",
          "text": [
            "Model Number: 1276 with model FBProphet in generation 10 of 10\n",
            "No anomalies detected.\n"
          ]
        },
        {
          "output_type": "stream",
          "name": "stderr",
          "text": [
            "DEBUG:cmdstanpy:input tempfile: /tmp/tmpkpj4r36s/em3y478q.json\n",
            "DEBUG:cmdstanpy:input tempfile: /tmp/tmpkpj4r36s/oldnrnh6.json\n",
            "DEBUG:cmdstanpy:idx 0\n",
            "DEBUG:cmdstanpy:running CmdStan, num_threads: None\n",
            "DEBUG:cmdstanpy:CmdStan args: ['/usr/local/lib/python3.7/dist-packages/prophet/stan_model/prophet_model.bin', 'random', 'seed=38761', 'data', 'file=/tmp/tmpkpj4r36s/em3y478q.json', 'init=/tmp/tmpkpj4r36s/oldnrnh6.json', 'output', 'file=/tmp/tmpkpj4r36s/prophet_modelahv1qys1/prophet_model-20221121075903.csv', 'method=optimize', 'algorithm=lbfgs', 'iter=10000']\n",
            "07:59:03 - cmdstanpy - INFO - Chain [1] start processing\n",
            "INFO:cmdstanpy:Chain [1] start processing\n",
            "07:59:03 - cmdstanpy - INFO - Chain [1] done processing\n",
            "INFO:cmdstanpy:Chain [1] done processing\n"
          ]
        },
        {
          "output_type": "stream",
          "name": "stdout",
          "text": [
            "Model Number: 1277 with model ConstantNaive in generation 10 of 10\n",
            "Model Number: 1278 with model NVAR in generation 10 of 10\n",
            "Model Number: 1279 with model UnobservedComponents in generation 10 of 10\n",
            "Model Number: 1280 with model Theta in generation 10 of 10\n",
            "No anomalies detected.\n",
            "Template Eval Error: Exception('Transformer HolidayTransformer failed on fit') in model 1280: Theta\n",
            "Model Number: 1281 with model ARIMA in generation 10 of 10\n",
            "Template Eval Error: ValueError(\"regression_type='User' but future_regressor not supplied\") in model 1281: ARIMA\n",
            "Model Number: 1282 with model ETS in generation 10 of 10\n",
            "ETS error ValueError('endog must be strictly positive when usingmultiplicative trend or seasonal components.')\n",
            "ETS failed on Close with ValueError('endog must be strictly positive when usingmultiplicative trend or seasonal components.')\n",
            "Model Number: 1283 with model ETS in generation 10 of 10\n",
            "ETS error ValueError('endog must be strictly positive when usingmultiplicative trend or seasonal components.')\n",
            "ETS failed on Close with ValueError('endog must be strictly positive when usingmultiplicative trend or seasonal components.')\n",
            "Model Number: 1284 with model UnobservedComponents in generation 10 of 10\n",
            "Model Number: 1285 with model ETS in generation 10 of 10\n",
            "Model Number: 1286 with model Theta in generation 10 of 10\n"
          ]
        },
        {
          "output_type": "stream",
          "name": "stderr",
          "text": [
            "/usr/local/lib/python3.7/dist-packages/autots/tools/probabilistic.py:67: RuntimeWarning: invalid value encountered in true_divide\n",
            "  (prior_mu / prior_sigma**2) + ((n * data_mu) / prior_sigma**2)\n",
            "/usr/local/lib/python3.7/dist-packages/autots/tools/probabilistic.py:68: RuntimeWarning: divide by zero encountered in true_divide\n",
            "  ) / ((1 / prior_sigma**2) + (n / prior_sigma**2))\n"
          ]
        },
        {
          "output_type": "stream",
          "name": "stdout",
          "text": [
            "Model Number: 1287 with model WindowRegression in generation 10 of 10\n",
            "Template Eval Error: Exception('Transformer BTCD failed on fit') in model 1287: WindowRegression\n",
            "Model Number: 1288 with model SectionalMotif in generation 10 of 10\n",
            "Model Number: 1289 with model ConstantNaive in generation 10 of 10\n",
            "Model Number: 1290 with model ARIMA in generation 10 of 10\n",
            "Model Number: 1291 with model SectionalMotif in generation 10 of 10\n",
            "Model Number: 1292 with model NVAR in generation 10 of 10\n",
            "Model Number: 1293 with model NVAR in generation 10 of 10\n",
            "Model Number: 1294 with model ETS in generation 10 of 10\n",
            "Model Number: 1295 with model ConstantNaive in generation 10 of 10\n",
            "Model Number: 1296 with model WindowRegression in generation 10 of 10\n"
          ]
        },
        {
          "output_type": "stream",
          "name": "stderr",
          "text": [
            "[Parallel(n_jobs=-2)]: Using backend SequentialBackend with 1 concurrent workers.\n",
            "[Parallel(n_jobs=-2)]: Done 300 out of 300 | elapsed:    0.9s finished\n",
            "[Parallel(n_jobs=1)]: Using backend SequentialBackend with 1 concurrent workers.\n",
            "[Parallel(n_jobs=1)]: Done 300 out of 300 | elapsed:    0.0s finished\n",
            "[Parallel(n_jobs=1)]: Using backend SequentialBackend with 1 concurrent workers.\n",
            "[Parallel(n_jobs=1)]: Done 300 out of 300 | elapsed:    0.0s finished\n",
            "[Parallel(n_jobs=1)]: Using backend SequentialBackend with 1 concurrent workers.\n",
            "[Parallel(n_jobs=1)]: Done 300 out of 300 | elapsed:    0.0s finished\n"
          ]
        },
        {
          "output_type": "stream",
          "name": "stdout",
          "text": [
            "Model Number: 1297 with model ConstantNaive in generation 10 of 10\n",
            "Model Number: 1298 with model ETS in generation 10 of 10\n",
            "Model Number: 1299 with model LastValueNaive in generation 10 of 10\n",
            "Model Number: 1300 with model ARIMA in generation 10 of 10\n",
            "Model Number: 1301 with model MultivariateMotif in generation 10 of 10\n",
            "Model Number: 1302 with model UnivariateMotif in generation 10 of 10\n",
            "Model Number: 1303 with model ConstantNaive in generation 10 of 10\n",
            "Model Number: 1304 with model ConstantNaive in generation 10 of 10\n",
            "Model Number: 1305 with model ETS in generation 10 of 10\n",
            "Model Number: 1306 with model MetricMotif in generation 10 of 10\n",
            "Model Number: 1307 with model UnivariateMotif in generation 10 of 10\n",
            "Model Number: 1308 with model ConstantNaive in generation 10 of 10\n",
            "Model Number: 1309 with model SectionalMotif in generation 10 of 10\n",
            "Model Number: 1310 with model LastValueNaive in generation 10 of 10\n",
            "Model Number: 1311 with model GLS in generation 10 of 10\n",
            "Model Number: 1312 with model Ensemble in generation 11 of Ensembles\n",
            "Model Number: 1313 with model Ensemble in generation 11 of Ensembles\n",
            "Model Number: 1314 with model Ensemble in generation 11 of Ensembles\n"
          ]
        },
        {
          "output_type": "stream",
          "name": "stderr",
          "text": [
            "INFO:prophet:Disabling yearly seasonality. Run prophet with yearly_seasonality=True to override this.\n",
            "INFO:prophet:Disabling daily seasonality. Run prophet with daily_seasonality=True to override this.\n",
            "DEBUG:cmdstanpy:input tempfile: /tmp/tmpkpj4r36s/ovrzjrvt.json\n",
            "DEBUG:cmdstanpy:input tempfile: /tmp/tmpkpj4r36s/0769r94c.json\n",
            "DEBUG:cmdstanpy:idx 0\n",
            "DEBUG:cmdstanpy:running CmdStan, num_threads: None\n",
            "DEBUG:cmdstanpy:CmdStan args: ['/usr/local/lib/python3.7/dist-packages/prophet/stan_model/prophet_model.bin', 'random', 'seed=79396', 'data', 'file=/tmp/tmpkpj4r36s/ovrzjrvt.json', 'init=/tmp/tmpkpj4r36s/0769r94c.json', 'output', 'file=/tmp/tmpkpj4r36s/prophet_model1z6ag15k/prophet_model-20221121080000.csv', 'method=optimize', 'algorithm=lbfgs', 'iter=10000']\n",
            "08:00:00 - cmdstanpy - INFO - Chain [1] start processing\n",
            "INFO:cmdstanpy:Chain [1] start processing\n",
            "08:00:02 - cmdstanpy - INFO - Chain [1] done processing\n",
            "INFO:cmdstanpy:Chain [1] done processing\n"
          ]
        },
        {
          "output_type": "stream",
          "name": "stdout",
          "text": [
            "Model Number: 1315 with model Ensemble in generation 11 of Ensembles\n"
          ]
        },
        {
          "output_type": "stream",
          "name": "stderr",
          "text": [
            "INFO:prophet:Disabling yearly seasonality. Run prophet with yearly_seasonality=True to override this.\n",
            "INFO:prophet:Disabling daily seasonality. Run prophet with daily_seasonality=True to override this.\n",
            "DEBUG:cmdstanpy:input tempfile: /tmp/tmpkpj4r36s/lfck808m.json\n",
            "DEBUG:cmdstanpy:input tempfile: /tmp/tmpkpj4r36s/nthqil8l.json\n",
            "DEBUG:cmdstanpy:idx 0\n",
            "DEBUG:cmdstanpy:running CmdStan, num_threads: None\n",
            "DEBUG:cmdstanpy:CmdStan args: ['/usr/local/lib/python3.7/dist-packages/prophet/stan_model/prophet_model.bin', 'random', 'seed=59792', 'data', 'file=/tmp/tmpkpj4r36s/lfck808m.json', 'init=/tmp/tmpkpj4r36s/nthqil8l.json', 'output', 'file=/tmp/tmpkpj4r36s/prophet_modelqhyeiots/prophet_model-20221121080003.csv', 'method=optimize', 'algorithm=lbfgs', 'iter=10000']\n",
            "08:00:03 - cmdstanpy - INFO - Chain [1] start processing\n",
            "INFO:cmdstanpy:Chain [1] start processing\n",
            "08:00:04 - cmdstanpy - INFO - Chain [1] done processing\n",
            "INFO:cmdstanpy:Chain [1] done processing\n"
          ]
        },
        {
          "output_type": "stream",
          "name": "stdout",
          "text": [
            "Model Number: 1316 with model Ensemble in generation 11 of Ensembles\n",
            "Model Number: 1317 with model Ensemble in generation 11 of Ensembles\n",
            "Model Number: 1318 with model Ensemble in generation 11 of Ensembles\n",
            "Model Number: 1319 with model Ensemble in generation 11 of Ensembles\n",
            "Validation Round: 1\n",
            "Model Number: 1 of 197 with model Ensemble for Validation 1\n",
            "📈 1 - Ensemble with avg smape 1.27: \n",
            "Model Number: 2 of 197 with model ConstantNaive for Validation 1\n",
            "2 - ConstantNaive with avg smape 1.27: \n",
            "Model Number: 3 of 197 with model Ensemble for Validation 1\n",
            "3 - Ensemble with avg smape 1.3: \n",
            "Model Number: 4 of 197 with model Ensemble for Validation 1\n",
            "4 - Ensemble with avg smape 1.3: \n",
            "Model Number: 5 of 197 with model Ensemble for Validation 1\n",
            "5 - Ensemble with avg smape 1.3: \n",
            "Model Number: 6 of 197 with model Ensemble for Validation 1\n",
            "6 - Ensemble with avg smape 1.3: \n",
            "Model Number: 7 of 197 with model Ensemble for Validation 1\n",
            "7 - Ensemble with avg smape 1.27: \n",
            "Model Number: 8 of 197 with model UnobservedComponents for Validation 1\n",
            "8 - UnobservedComponents with avg smape 1.32: \n",
            "Model Number: 9 of 197 with model GLS for Validation 1\n",
            "9 - GLS with avg smape 1.32: \n",
            "Model Number: 10 of 197 with model UnobservedComponents for Validation 1\n",
            "📈 10 - UnobservedComponents with avg smape 1.21: \n",
            "Model Number: 11 of 197 with model ETS for Validation 1\n",
            "📈 11 - ETS with avg smape 1.2: \n",
            "Model Number: 12 of 197 with model UnobservedComponents for Validation 1\n",
            "12 - UnobservedComponents with avg smape 1.2: \n",
            "Model Number: 13 of 197 with model MetricMotif for Validation 1\n",
            "13 - MetricMotif with avg smape 1.21: \n",
            "Model Number: 14 of 197 with model SeasonalityMotif for Validation 1\n"
          ]
        },
        {
          "output_type": "stream",
          "name": "stderr",
          "text": [
            "INFO:prophet:Disabling yearly seasonality. Run prophet with yearly_seasonality=True to override this.\n",
            "INFO:prophet:Disabling daily seasonality. Run prophet with daily_seasonality=True to override this.\n",
            "DEBUG:cmdstanpy:input tempfile: /tmp/tmpkpj4r36s/7i9osn0g.json\n"
          ]
        },
        {
          "output_type": "stream",
          "name": "stdout",
          "text": [
            "📈 14 - SeasonalityMotif with avg smape 1.19: \n",
            "Model Number: 15 of 197 with model FBProphet for Validation 1\n"
          ]
        },
        {
          "output_type": "stream",
          "name": "stderr",
          "text": [
            "DEBUG:cmdstanpy:input tempfile: /tmp/tmpkpj4r36s/_9j5glkb.json\n",
            "DEBUG:cmdstanpy:idx 0\n",
            "DEBUG:cmdstanpy:running CmdStan, num_threads: None\n",
            "DEBUG:cmdstanpy:CmdStan args: ['/usr/local/lib/python3.7/dist-packages/prophet/stan_model/prophet_model.bin', 'random', 'seed=63870', 'data', 'file=/tmp/tmpkpj4r36s/7i9osn0g.json', 'init=/tmp/tmpkpj4r36s/_9j5glkb.json', 'output', 'file=/tmp/tmpkpj4r36s/prophet_modelq62c1m0j/prophet_model-20221121080009.csv', 'method=optimize', 'algorithm=lbfgs', 'iter=10000']\n",
            "08:00:10 - cmdstanpy - INFO - Chain [1] start processing\n",
            "INFO:cmdstanpy:Chain [1] start processing\n",
            "08:00:10 - cmdstanpy - INFO - Chain [1] done processing\n",
            "INFO:cmdstanpy:Chain [1] done processing\n"
          ]
        },
        {
          "output_type": "stream",
          "name": "stdout",
          "text": [
            "15 - FBProphet with avg smape 1.2: \n",
            "Model Number: 16 of 197 with model Ensemble for Validation 1\n"
          ]
        },
        {
          "output_type": "stream",
          "name": "stderr",
          "text": [
            "INFO:prophet:Disabling yearly seasonality. Run prophet with yearly_seasonality=True to override this.\n",
            "INFO:prophet:Disabling daily seasonality. Run prophet with daily_seasonality=True to override this.\n",
            "DEBUG:cmdstanpy:input tempfile: /tmp/tmpkpj4r36s/lwa0h6zc.json\n",
            "DEBUG:cmdstanpy:input tempfile: /tmp/tmpkpj4r36s/iowgyu0f.json\n",
            "DEBUG:cmdstanpy:idx 0\n",
            "DEBUG:cmdstanpy:running CmdStan, num_threads: None\n",
            "DEBUG:cmdstanpy:CmdStan args: ['/usr/local/lib/python3.7/dist-packages/prophet/stan_model/prophet_model.bin', 'random', 'seed=67367', 'data', 'file=/tmp/tmpkpj4r36s/lwa0h6zc.json', 'init=/tmp/tmpkpj4r36s/iowgyu0f.json', 'output', 'file=/tmp/tmpkpj4r36s/prophet_modeld4xen4jc/prophet_model-20221121080012.csv', 'method=optimize', 'algorithm=lbfgs', 'iter=10000']\n",
            "08:00:12 - cmdstanpy - INFO - Chain [1] start processing\n",
            "INFO:cmdstanpy:Chain [1] start processing\n",
            "08:00:12 - cmdstanpy - INFO - Chain [1] done processing\n",
            "INFO:cmdstanpy:Chain [1] done processing\n"
          ]
        },
        {
          "output_type": "stream",
          "name": "stdout",
          "text": [
            "📈 16 - Ensemble with avg smape 0.94: \n",
            "Model Number: 17 of 197 with model SectionalMotif for Validation 1\n",
            "17 - SectionalMotif with avg smape 1.15: \n",
            "Model Number: 18 of 197 with model WindowRegression for Validation 1\n",
            "18 - WindowRegression with avg smape 1.48: \n",
            "Model Number: 19 of 197 with model Theta for Validation 1\n",
            "📈 19 - Theta with avg smape 0.22: \n",
            "Model Number: 20 of 197 with model Ensemble for Validation 1\n"
          ]
        },
        {
          "output_type": "stream",
          "name": "stderr",
          "text": [
            "INFO:prophet:Disabling yearly seasonality. Run prophet with yearly_seasonality=True to override this.\n",
            "INFO:prophet:Disabling daily seasonality. Run prophet with daily_seasonality=True to override this.\n",
            "DEBUG:cmdstanpy:input tempfile: /tmp/tmpkpj4r36s/ni53xsvx.json\n",
            "DEBUG:cmdstanpy:input tempfile: /tmp/tmpkpj4r36s/nllub7u5.json\n",
            "DEBUG:cmdstanpy:idx 0\n",
            "DEBUG:cmdstanpy:running CmdStan, num_threads: None\n",
            "DEBUG:cmdstanpy:CmdStan args: ['/usr/local/lib/python3.7/dist-packages/prophet/stan_model/prophet_model.bin', 'random', 'seed=43770', 'data', 'file=/tmp/tmpkpj4r36s/ni53xsvx.json', 'init=/tmp/tmpkpj4r36s/nllub7u5.json', 'output', 'file=/tmp/tmpkpj4r36s/prophet_modelbeovha19/prophet_model-20221121080014.csv', 'method=optimize', 'algorithm=lbfgs', 'iter=10000']\n",
            "08:00:14 - cmdstanpy - INFO - Chain [1] start processing\n",
            "INFO:cmdstanpy:Chain [1] start processing\n",
            "08:00:15 - cmdstanpy - INFO - Chain [1] done processing\n",
            "INFO:cmdstanpy:Chain [1] done processing\n"
          ]
        },
        {
          "output_type": "stream",
          "name": "stdout",
          "text": [
            "20 - Ensemble with avg smape 1.2: \n",
            "Model Number: 21 of 197 with model ETS for Validation 1\n",
            "ETS error ValueError('endog must be strictly positive when usingmultiplicative trend or seasonal components.')\n",
            "ETS failed on Close with ValueError('endog must be strictly positive when usingmultiplicative trend or seasonal components.')\n",
            "21 - ETS with avg smape 1.43: \n",
            "Model Number: 22 of 197 with model ETS for Validation 1\n",
            "ETS error ValueError('endog must be strictly positive when usingmultiplicative trend or seasonal components.')\n",
            "ETS failed on Close with ValueError('endog must be strictly positive when usingmultiplicative trend or seasonal components.')\n",
            "22 - ETS with avg smape 1.43: \n",
            "Model Number: 23 of 197 with model UnobservedComponents for Validation 1\n",
            "23 - UnobservedComponents with avg smape 1.28: \n",
            "Model Number: 24 of 197 with model NVAR for Validation 1\n",
            "24 - NVAR with avg smape 0.52: \n",
            "Model Number: 25 of 197 with model NVAR for Validation 1\n",
            "25 - NVAR with avg smape 0.52: \n",
            "Model Number: 26 of 197 with model ConstantNaive for Validation 1\n",
            "26 - ConstantNaive with avg smape 1.43: \n",
            "Model Number: 27 of 197 with model ConstantNaive for Validation 1\n",
            "27 - ConstantNaive with avg smape 1.43: \n",
            "Model Number: 28 of 197 with model ConstantNaive for Validation 1\n",
            "28 - ConstantNaive with avg smape 1.43: \n",
            "Model Number: 29 of 197 with model NVAR for Validation 1\n",
            "29 - NVAR with avg smape 0.49: \n",
            "Model Number: 30 of 197 with model NVAR for Validation 1\n",
            "30 - NVAR with avg smape 0.49: \n",
            "Model Number: 31 of 197 with model NVAR for Validation 1\n",
            "31 - NVAR with avg smape 0.49: \n",
            "Model Number: 32 of 197 with model NVAR for Validation 1\n",
            "32 - NVAR with avg smape 0.49: \n",
            "Model Number: 33 of 197 with model WindowRegression for Validation 1\n",
            "33 - WindowRegression with avg smape 0.48: \n",
            "Model Number: 34 of 197 with model UnobservedComponents for Validation 1\n",
            "34 - UnobservedComponents with avg smape 1.34: \n",
            "Model Number: 35 of 197 with model NVAR for Validation 1\n",
            "35 - NVAR with avg smape 0.48: \n",
            "Model Number: 36 of 197 with model NVAR for Validation 1\n",
            "36 - NVAR with avg smape 0.48: \n",
            "Model Number: 37 of 197 with model NVAR for Validation 1\n",
            "37 - NVAR with avg smape 0.48: \n",
            "Model Number: 38 of 197 with model UnobservedComponents for Validation 1\n",
            "38 - UnobservedComponents with avg smape 1.25: \n",
            "Model Number: 39 of 197 with model MetricMotif for Validation 1\n",
            "39 - MetricMotif with avg smape 1.16: \n",
            "Model Number: 40 of 197 with model ConstantNaive for Validation 1\n",
            "40 - ConstantNaive with avg smape 0.46: \n",
            "Model Number: 41 of 197 with model MetricMotif for Validation 1\n",
            "41 - MetricMotif with avg smape 0.57: \n",
            "Model Number: 42 of 197 with model UnobservedComponents for Validation 1\n",
            "42 - UnobservedComponents with avg smape 1.38: \n",
            "Model Number: 43 of 197 with model Theta for Validation 1\n",
            "📈 43 - Theta with avg smape 0.2: \n",
            "Model Number: 44 of 197 with model ConstantNaive for Validation 1\n",
            "44 - ConstantNaive with avg smape 0.49: \n",
            "Model Number: 45 of 197 with model ConstantNaive for Validation 1\n",
            "45 - ConstantNaive with avg smape 0.49: \n",
            "Model Number: 46 of 197 with model ConstantNaive for Validation 1\n",
            "46 - ConstantNaive with avg smape 0.49: \n",
            "Model Number: 47 of 197 with model ConstantNaive for Validation 1\n",
            "47 - ConstantNaive with avg smape 0.49: \n",
            "Model Number: 48 of 197 with model Theta for Validation 1\n",
            "48 - Theta with avg smape 0.2: \n",
            "Model Number: 49 of 197 with model MetricMotif for Validation 1\n",
            "49 - MetricMotif with avg smape 0.45: \n",
            "Model Number: 50 of 197 with model MetricMotif for Validation 1\n",
            "50 - MetricMotif with avg smape 0.46: \n",
            "Model Number: 51 of 197 with model MetricMotif for Validation 1\n",
            "51 - MetricMotif with avg smape 0.46: \n",
            "Model Number: 52 of 197 with model MetricMotif for Validation 1\n",
            "52 - MetricMotif with avg smape 0.46: \n",
            "Model Number: 53 of 197 with model Theta for Validation 1\n",
            "📈 53 - Theta with avg smape 0.16: \n",
            "Model Number: 54 of 197 with model Theta for Validation 1\n",
            "54 - Theta with avg smape 0.16: \n",
            "Model Number: 55 of 197 with model Theta for Validation 1\n",
            "55 - Theta with avg smape 0.16: \n",
            "Model Number: 56 of 197 with model MultivariateMotif for Validation 1\n",
            "56 - MultivariateMotif with avg smape 3.08: \n",
            "Model Number: 57 of 197 with model ETS for Validation 1\n",
            "57 - ETS with avg smape 1.05: \n",
            "Model Number: 58 of 197 with model SectionalMotif for Validation 1\n",
            "58 - SectionalMotif with avg smape 1.55: \n",
            "Model Number: 59 of 197 with model MetricMotif for Validation 1\n",
            "59 - MetricMotif with avg smape 0.53: \n",
            "Model Number: 60 of 197 with model ETS for Validation 1\n",
            "60 - ETS with avg smape 1.0: \n",
            "Model Number: 61 of 197 with model MetricMotif for Validation 1\n",
            "61 - MetricMotif with avg smape 1.21: \n",
            "Model Number: 62 of 197 with model FBProphet for Validation 1\n"
          ]
        },
        {
          "output_type": "stream",
          "name": "stderr",
          "text": [
            "INFO:prophet:Disabling yearly seasonality. Run prophet with yearly_seasonality=True to override this.\n",
            "INFO:prophet:Disabling daily seasonality. Run prophet with daily_seasonality=True to override this.\n",
            "DEBUG:cmdstanpy:input tempfile: /tmp/tmpkpj4r36s/zs8vgizp.json\n",
            "DEBUG:cmdstanpy:input tempfile: /tmp/tmpkpj4r36s/9pww669_.json\n",
            "DEBUG:cmdstanpy:idx 0\n",
            "DEBUG:cmdstanpy:running CmdStan, num_threads: None\n",
            "DEBUG:cmdstanpy:CmdStan args: ['/usr/local/lib/python3.7/dist-packages/prophet/stan_model/prophet_model.bin', 'random', 'seed=48151', 'data', 'file=/tmp/tmpkpj4r36s/zs8vgizp.json', 'init=/tmp/tmpkpj4r36s/9pww669_.json', 'output', 'file=/tmp/tmpkpj4r36s/prophet_model5jt8s_tc/prophet_model-20221121080021.csv', 'method=optimize', 'algorithm=lbfgs', 'iter=10000']\n",
            "08:00:21 - cmdstanpy - INFO - Chain [1] start processing\n",
            "INFO:cmdstanpy:Chain [1] start processing\n",
            "08:00:21 - cmdstanpy - INFO - Chain [1] done processing\n",
            "INFO:cmdstanpy:Chain [1] done processing\n"
          ]
        },
        {
          "output_type": "stream",
          "name": "stdout",
          "text": [
            "62 - FBProphet with avg smape 0.19: \n",
            "Model Number: 63 of 197 with model AverageValueNaive for Validation 1\n"
          ]
        },
        {
          "output_type": "stream",
          "name": "stderr",
          "text": [
            "INFO:prophet:Disabling yearly seasonality. Run prophet with yearly_seasonality=True to override this.\n",
            "INFO:prophet:Disabling daily seasonality. Run prophet with daily_seasonality=True to override this.\n",
            "DEBUG:cmdstanpy:input tempfile: /tmp/tmpkpj4r36s/bhrj0acl.json\n",
            "DEBUG:cmdstanpy:input tempfile: /tmp/tmpkpj4r36s/zftwa3fm.json\n",
            "DEBUG:cmdstanpy:idx 0\n",
            "DEBUG:cmdstanpy:running CmdStan, num_threads: None\n",
            "DEBUG:cmdstanpy:CmdStan args: ['/usr/local/lib/python3.7/dist-packages/prophet/stan_model/prophet_model.bin', 'random', 'seed=58387', 'data', 'file=/tmp/tmpkpj4r36s/bhrj0acl.json', 'init=/tmp/tmpkpj4r36s/zftwa3fm.json', 'output', 'file=/tmp/tmpkpj4r36s/prophet_modelg9q5ehb2/prophet_model-20221121080022.csv', 'method=optimize', 'algorithm=lbfgs', 'iter=10000']\n",
            "08:00:22 - cmdstanpy - INFO - Chain [1] start processing\n",
            "INFO:cmdstanpy:Chain [1] start processing\n"
          ]
        },
        {
          "output_type": "stream",
          "name": "stdout",
          "text": [
            "63 - AverageValueNaive with avg smape 0.46: \n",
            "Model Number: 64 of 197 with model FBProphet for Validation 1\n",
            "No anomalies detected.\n"
          ]
        },
        {
          "output_type": "stream",
          "name": "stderr",
          "text": [
            "08:00:22 - cmdstanpy - INFO - Chain [1] done processing\n",
            "INFO:cmdstanpy:Chain [1] done processing\n"
          ]
        },
        {
          "output_type": "stream",
          "name": "stdout",
          "text": [
            "64 - FBProphet with avg smape 1.21: \n",
            "Model Number: 65 of 197 with model LastValueNaive for Validation 1\n",
            "65 - LastValueNaive with avg smape 0.3: \n",
            "Model Number: 66 of 197 with model SeasonalityMotif for Validation 1\n",
            "66 - SeasonalityMotif with avg smape 5.92: \n",
            "Model Number: 67 of 197 with model WindowRegression for Validation 1\n",
            "67 - WindowRegression with avg smape 0.49: \n",
            "Model Number: 68 of 197 with model ETS for Validation 1\n",
            "68 - ETS with avg smape 0.32: \n",
            "Model Number: 69 of 197 with model MultivariateRegression for Validation 1\n"
          ]
        },
        {
          "output_type": "stream",
          "name": "stderr",
          "text": [
            "/usr/local/lib/python3.7/dist-packages/autots/tools/probabilistic.py:67: RuntimeWarning: invalid value encountered in true_divide\n",
            "  (prior_mu / prior_sigma**2) + ((n * data_mu) / prior_sigma**2)\n",
            "/usr/local/lib/python3.7/dist-packages/autots/tools/probabilistic.py:68: RuntimeWarning: divide by zero encountered in true_divide\n",
            "  ) / ((1 / prior_sigma**2) + (n / prior_sigma**2))\n",
            "/usr/local/lib/python3.7/dist-packages/sklearn/linear_model/_ridge.py:157: LinAlgWarning: Ill-conditioned matrix (rcond=2.37195e-25): result may not be accurate.\n",
            "  return linalg.solve(A, Xy, sym_pos=True, overwrite_a=True).T\n",
            "[Parallel(n_jobs=-2)]: Using backend SequentialBackend with 1 concurrent workers.\n",
            "[Parallel(n_jobs=-2)]: Done 200 out of 200 | elapsed:    0.5s finished\n",
            "[Parallel(n_jobs=1)]: Using backend SequentialBackend with 1 concurrent workers.\n",
            "[Parallel(n_jobs=1)]: Done 200 out of 200 | elapsed:    0.0s finished\n",
            "[Parallel(n_jobs=1)]: Using backend SequentialBackend with 1 concurrent workers.\n",
            "[Parallel(n_jobs=1)]: Done 200 out of 200 | elapsed:    0.0s finished\n",
            "[Parallel(n_jobs=1)]: Using backend SequentialBackend with 1 concurrent workers.\n",
            "[Parallel(n_jobs=1)]: Done 200 out of 200 | elapsed:    0.0s finished\n"
          ]
        },
        {
          "output_type": "stream",
          "name": "stdout",
          "text": [
            "69 - MultivariateRegression with avg smape 1.23: \n",
            "Model Number: 70 of 197 with model MultivariateRegression for Validation 1\n"
          ]
        },
        {
          "output_type": "stream",
          "name": "stderr",
          "text": [
            "[Parallel(n_jobs=-2)]: Using backend SequentialBackend with 1 concurrent workers.\n"
          ]
        },
        {
          "output_type": "stream",
          "name": "stdout",
          "text": [
            "70 - MultivariateRegression with avg smape 0.63: \n",
            "Model Number: 71 of 197 with model DatepartRegression for Validation 1\n"
          ]
        },
        {
          "output_type": "stream",
          "name": "stderr",
          "text": [
            "[Parallel(n_jobs=-2)]: Done 200 out of 200 | elapsed:    0.4s finished\n",
            "[Parallel(n_jobs=1)]: Using backend SequentialBackend with 1 concurrent workers.\n",
            "[Parallel(n_jobs=1)]: Done 200 out of 200 | elapsed:    0.0s finished\n",
            "[Parallel(n_jobs=1)]: Using backend SequentialBackend with 1 concurrent workers.\n",
            "[Parallel(n_jobs=1)]: Done 200 out of 200 | elapsed:    0.0s finished\n",
            "[Parallel(n_jobs=1)]: Using backend SequentialBackend with 1 concurrent workers.\n",
            "[Parallel(n_jobs=1)]: Done 200 out of 200 | elapsed:    0.0s finished\n"
          ]
        },
        {
          "output_type": "stream",
          "name": "stdout",
          "text": [
            "71 - DatepartRegression with avg smape 0.35: \n",
            "Model Number: 72 of 197 with model GLS for Validation 1\n",
            "72 - GLS with avg smape 0.46: \n",
            "Model Number: 73 of 197 with model MultivariateMotif for Validation 1\n",
            "73 - MultivariateMotif with avg smape 3.02: \n",
            "Model Number: 74 of 197 with model SectionalMotif for Validation 1\n",
            "74 - SectionalMotif with avg smape 0.26: \n",
            "Model Number: 75 of 197 with model ETS for Validation 1\n",
            "ETS error ValueError('endog must be strictly positive when usingmultiplicative trend or seasonal components.')\n",
            "ETS failed on Close with ValueError('endog must be strictly positive when usingmultiplicative trend or seasonal components.')\n",
            "75 - ETS with avg smape 0.49: \n",
            "Model Number: 76 of 197 with model ETS for Validation 1\n",
            "ETS error ValueError('Can only dampen the trend component')\n",
            "ETS failed on Close with ValueError('Can only dampen the trend component')\n",
            "76 - ETS with avg smape 0.49: \n",
            "Model Number: 77 of 197 with model SectionalMotif for Validation 1\n",
            "77 - SectionalMotif with avg smape 0.83: \n",
            "Model Number: 78 of 197 with model UnivariateMotif for Validation 1\n",
            "78 - UnivariateMotif with avg smape 0.42: \n",
            "Model Number: 79 of 197 with model UnobservedComponents for Validation 1\n",
            "79 - UnobservedComponents with avg smape 0.31: \n",
            "Model Number: 80 of 197 with model UnobservedComponents for Validation 1\n",
            "80 - UnobservedComponents with avg smape 0.31: \n",
            "Model Number: 81 of 197 with model Theta for Validation 1\n",
            "81 - Theta with avg smape 0.29: \n",
            "Model Number: 82 of 197 with model UnivariateRegression for Validation 1\n",
            "82 - UnivariateRegression with avg smape 0.18: \n",
            "Model Number: 83 of 197 with model FBProphet for Validation 1\n",
            "No anomalies detected.\n"
          ]
        },
        {
          "output_type": "stream",
          "name": "stderr",
          "text": [
            "INFO:prophet:Disabling yearly seasonality. Run prophet with yearly_seasonality=True to override this.\n",
            "INFO:prophet:Disabling daily seasonality. Run prophet with daily_seasonality=True to override this.\n",
            "DEBUG:cmdstanpy:input tempfile: /tmp/tmpkpj4r36s/k63tes6i.json\n",
            "DEBUG:cmdstanpy:input tempfile: /tmp/tmpkpj4r36s/5snrf3ic.json\n",
            "DEBUG:cmdstanpy:idx 0\n",
            "DEBUG:cmdstanpy:running CmdStan, num_threads: None\n",
            "DEBUG:cmdstanpy:CmdStan args: ['/usr/local/lib/python3.7/dist-packages/prophet/stan_model/prophet_model.bin', 'random', 'seed=19476', 'data', 'file=/tmp/tmpkpj4r36s/k63tes6i.json', 'init=/tmp/tmpkpj4r36s/5snrf3ic.json', 'output', 'file=/tmp/tmpkpj4r36s/prophet_model0kgcs2hm/prophet_model-20221121080026.csv', 'method=optimize', 'algorithm=lbfgs', 'iter=10000']\n",
            "08:00:26 - cmdstanpy - INFO - Chain [1] start processing\n",
            "INFO:cmdstanpy:Chain [1] start processing\n",
            "08:00:28 - cmdstanpy - INFO - Chain [1] done processing\n",
            "INFO:cmdstanpy:Chain [1] done processing\n"
          ]
        },
        {
          "output_type": "stream",
          "name": "stdout",
          "text": [
            "83 - FBProphet with avg smape 0.2: \n",
            "Model Number: 84 of 197 with model ETS for Validation 1\n",
            "84 - ETS with avg smape 0.36: \n",
            "Model Number: 85 of 197 with model LastValueNaive for Validation 1\n",
            "85 - LastValueNaive with avg smape 0.89: \n",
            "Model Number: 86 of 197 with model SectionalMotif for Validation 1\n",
            "86 - SectionalMotif with avg smape 0.44: \n",
            "Model Number: 87 of 197 with model Theta for Validation 1\n",
            "87 - Theta with avg smape 0.35: \n",
            "Model Number: 88 of 197 with model Theta for Validation 1\n",
            "88 - Theta with avg smape 0.35: \n",
            "Model Number: 89 of 197 with model GLS for Validation 1\n",
            "89 - GLS with avg smape 0.33: \n",
            "Model Number: 90 of 197 with model ARIMA for Validation 1\n",
            "90 - ARIMA with avg smape 0.24: \n",
            "Model Number: 91 of 197 with model AverageValueNaive for Validation 1\n",
            "91 - AverageValueNaive with avg smape 0.3: \n",
            "Model Number: 92 of 197 with model UnivariateMotif for Validation 1\n",
            "92 - UnivariateMotif with avg smape 0.37: \n",
            "Model Number: 93 of 197 with model AverageValueNaive for Validation 1\n",
            "93 - AverageValueNaive with avg smape 0.35: \n",
            "Model Number: 94 of 197 with model LastValueNaive for Validation 1\n",
            "94 - LastValueNaive with avg smape 0.35: \n",
            "Model Number: 95 of 197 with model LastValueNaive for Validation 1\n",
            "95 - LastValueNaive with avg smape 0.35: \n",
            "Model Number: 96 of 197 with model LastValueNaive for Validation 1\n",
            "96 - LastValueNaive with avg smape 0.35: \n",
            "Model Number: 97 of 197 with model LastValueNaive for Validation 1\n",
            "97 - LastValueNaive with avg smape 0.35: \n",
            "Model Number: 98 of 197 with model LastValueNaive for Validation 1\n",
            "98 - LastValueNaive with avg smape 1.34: \n",
            "Model Number: 99 of 197 with model LastValueNaive for Validation 1\n",
            "99 - LastValueNaive with avg smape 0.35: \n",
            "Model Number: 100 of 197 with model LastValueNaive for Validation 1\n",
            "100 - LastValueNaive with avg smape 0.35: \n",
            "Model Number: 101 of 197 with model DatepartRegression for Validation 1\n",
            "101 - DatepartRegression with avg smape 0.35: \n",
            "Model Number: 102 of 197 with model DatepartRegression for Validation 1\n",
            "102 - DatepartRegression with avg smape 1.71: \n",
            "Model Number: 103 of 197 with model SeasonalityMotif for Validation 1\n",
            "103 - SeasonalityMotif with avg smape 6.18: \n",
            "Model Number: 104 of 197 with model DatepartRegression for Validation 1\n",
            "104 - DatepartRegression with avg smape 0.35: \n",
            "Model Number: 105 of 197 with model DatepartRegression for Validation 1\n",
            "105 - DatepartRegression with avg smape 0.35: \n",
            "Model Number: 106 of 197 with model DatepartRegression for Validation 1\n",
            "106 - DatepartRegression with avg smape 0.35: \n",
            "Model Number: 107 of 197 with model MultivariateRegression for Validation 1\n"
          ]
        },
        {
          "output_type": "stream",
          "name": "stderr",
          "text": [
            "[Parallel(n_jobs=-2)]: Using backend SequentialBackend with 1 concurrent workers.\n",
            "[Parallel(n_jobs=-2)]: Done 200 out of 200 | elapsed:    0.5s finished\n",
            "[Parallel(n_jobs=1)]: Using backend SequentialBackend with 1 concurrent workers.\n",
            "[Parallel(n_jobs=1)]: Done 200 out of 200 | elapsed:    0.0s finished\n",
            "[Parallel(n_jobs=1)]: Using backend SequentialBackend with 1 concurrent workers.\n",
            "[Parallel(n_jobs=1)]: Done 200 out of 200 | elapsed:    0.0s finished\n",
            "[Parallel(n_jobs=1)]: Using backend SequentialBackend with 1 concurrent workers.\n",
            "[Parallel(n_jobs=1)]: Done 200 out of 200 | elapsed:    0.0s finished\n"
          ]
        },
        {
          "output_type": "stream",
          "name": "stdout",
          "text": [
            "107 - MultivariateRegression with avg smape 0.35: \n",
            "Model Number: 108 of 197 with model GLS for Validation 1\n",
            "108 - GLS with avg smape 0.31: \n",
            "Model Number: 109 of 197 with model UnivariateMotif for Validation 1\n",
            "109 - UnivariateMotif with avg smape 4.57: \n",
            "Model Number: 110 of 197 with model ARIMA for Validation 1\n",
            "110 - ARIMA with avg smape 0.83: \n",
            "Model Number: 111 of 197 with model ARIMA for Validation 1\n",
            "111 - ARIMA with avg smape 0.45: \n",
            "Model Number: 112 of 197 with model WindowRegression for Validation 1\n",
            "112 - WindowRegression with avg smape 0.35: \n",
            "Model Number: 113 of 197 with model ARIMA for Validation 1\n",
            "113 - ARIMA with avg smape 0.42: \n",
            "Model Number: 114 of 197 with model SectionalMotif for Validation 1\n",
            "114 - SectionalMotif with avg smape 0.44: \n",
            "Model Number: 115 of 197 with model MultivariateMotif for Validation 1\n",
            "115 - MultivariateMotif with avg smape 0.56: \n",
            "Model Number: 116 of 197 with model MultivariateRegression for Validation 1\n"
          ]
        },
        {
          "output_type": "stream",
          "name": "stderr",
          "text": [
            "[Parallel(n_jobs=-2)]: Using backend SequentialBackend with 1 concurrent workers.\n",
            "[Parallel(n_jobs=-2)]: Done 200 out of 200 | elapsed:    0.5s finished\n",
            "[Parallel(n_jobs=1)]: Using backend SequentialBackend with 1 concurrent workers.\n",
            "[Parallel(n_jobs=1)]: Done 200 out of 200 | elapsed:    0.0s finished\n",
            "[Parallel(n_jobs=1)]: Using backend SequentialBackend with 1 concurrent workers.\n",
            "[Parallel(n_jobs=1)]: Done 200 out of 200 | elapsed:    0.0s finished\n",
            "[Parallel(n_jobs=1)]: Using backend SequentialBackend with 1 concurrent workers.\n",
            "[Parallel(n_jobs=1)]: Done 200 out of 200 | elapsed:    0.0s finished\n"
          ]
        },
        {
          "output_type": "stream",
          "name": "stdout",
          "text": [
            "116 - MultivariateRegression with avg smape 0.35: \n",
            "Model Number: 117 of 197 with model WindowRegression for Validation 1\n"
          ]
        },
        {
          "output_type": "stream",
          "name": "stderr",
          "text": [
            "/usr/local/lib/python3.7/dist-packages/sklearn/neural_network/_multilayer_perceptron.py:549: ConvergenceWarning: lbfgs failed to converge (status=1):\n",
            "STOP: TOTAL NO. of ITERATIONS REACHED LIMIT.\n",
            "\n",
            "Increase the number of iterations (max_iter) or scale the data as shown in:\n",
            "    https://scikit-learn.org/stable/modules/preprocessing.html\n",
            "  self.n_iter_ = _check_optimize_result(\"lbfgs\", opt_res, self.max_iter)\n",
            "[Parallel(n_jobs=-2)]: Using backend SequentialBackend with 1 concurrent workers.\n"
          ]
        },
        {
          "output_type": "stream",
          "name": "stdout",
          "text": [
            "117 - WindowRegression with avg smape 6.41: \n",
            "Model Number: 118 of 197 with model MultivariateRegression for Validation 1\n"
          ]
        },
        {
          "output_type": "stream",
          "name": "stderr",
          "text": [
            "[Parallel(n_jobs=-2)]: Done 200 out of 200 | elapsed:    0.5s finished\n",
            "[Parallel(n_jobs=1)]: Using backend SequentialBackend with 1 concurrent workers.\n",
            "[Parallel(n_jobs=1)]: Done 200 out of 200 | elapsed:    0.0s finished\n",
            "[Parallel(n_jobs=1)]: Using backend SequentialBackend with 1 concurrent workers.\n",
            "[Parallel(n_jobs=1)]: Done 200 out of 200 | elapsed:    0.0s finished\n",
            "[Parallel(n_jobs=1)]: Using backend SequentialBackend with 1 concurrent workers.\n",
            "[Parallel(n_jobs=1)]: Done 200 out of 200 | elapsed:    0.0s finished\n"
          ]
        },
        {
          "output_type": "stream",
          "name": "stdout",
          "text": [
            "118 - MultivariateRegression with avg smape 0.35: \n",
            "Model Number: 119 of 197 with model MultivariateRegression for Validation 1\n"
          ]
        },
        {
          "output_type": "stream",
          "name": "stderr",
          "text": [
            "[Parallel(n_jobs=-2)]: Using backend SequentialBackend with 1 concurrent workers.\n",
            "[Parallel(n_jobs=-2)]: Done 200 out of 200 | elapsed:    0.5s finished\n",
            "[Parallel(n_jobs=1)]: Using backend SequentialBackend with 1 concurrent workers.\n",
            "[Parallel(n_jobs=1)]: Done 200 out of 200 | elapsed:    0.0s finished\n",
            "[Parallel(n_jobs=1)]: Using backend SequentialBackend with 1 concurrent workers.\n",
            "[Parallel(n_jobs=1)]: Done 200 out of 200 | elapsed:    0.0s finished\n",
            "[Parallel(n_jobs=1)]: Using backend SequentialBackend with 1 concurrent workers.\n",
            "[Parallel(n_jobs=1)]: Done 200 out of 200 | elapsed:    0.0s finished\n"
          ]
        },
        {
          "output_type": "stream",
          "name": "stdout",
          "text": [
            "119 - MultivariateRegression with avg smape 0.35: \n",
            "Model Number: 120 of 197 with model MultivariateRegression for Validation 1\n"
          ]
        },
        {
          "output_type": "stream",
          "name": "stderr",
          "text": [
            "[Parallel(n_jobs=-2)]: Using backend SequentialBackend with 1 concurrent workers.\n",
            "[Parallel(n_jobs=-2)]: Done 200 out of 200 | elapsed:    0.6s finished\n",
            "[Parallel(n_jobs=1)]: Using backend SequentialBackend with 1 concurrent workers.\n",
            "[Parallel(n_jobs=1)]: Done 200 out of 200 | elapsed:    0.0s finished\n",
            "[Parallel(n_jobs=1)]: Using backend SequentialBackend with 1 concurrent workers.\n",
            "[Parallel(n_jobs=1)]: Done 200 out of 200 | elapsed:    0.0s finished\n",
            "[Parallel(n_jobs=1)]: Using backend SequentialBackend with 1 concurrent workers.\n",
            "[Parallel(n_jobs=1)]: Done 200 out of 200 | elapsed:    0.0s finished\n"
          ]
        },
        {
          "output_type": "stream",
          "name": "stdout",
          "text": [
            "120 - MultivariateRegression with avg smape 0.35: \n",
            "Model Number: 121 of 197 with model MultivariateRegression for Validation 1\n"
          ]
        },
        {
          "output_type": "stream",
          "name": "stderr",
          "text": [
            "[Parallel(n_jobs=-2)]: Using backend SequentialBackend with 1 concurrent workers.\n",
            "[Parallel(n_jobs=-2)]: Done 200 out of 200 | elapsed:    0.5s finished\n",
            "[Parallel(n_jobs=1)]: Using backend SequentialBackend with 1 concurrent workers.\n",
            "[Parallel(n_jobs=1)]: Done 200 out of 200 | elapsed:    0.0s finished\n",
            "[Parallel(n_jobs=1)]: Using backend SequentialBackend with 1 concurrent workers.\n",
            "[Parallel(n_jobs=1)]: Done 200 out of 200 | elapsed:    0.0s finished\n",
            "[Parallel(n_jobs=1)]: Using backend SequentialBackend with 1 concurrent workers.\n",
            "[Parallel(n_jobs=1)]: Done 200 out of 200 | elapsed:    0.0s finished\n"
          ]
        },
        {
          "output_type": "stream",
          "name": "stdout",
          "text": [
            "121 - MultivariateRegression with avg smape 0.35: \n",
            "Model Number: 122 of 197 with model MultivariateRegression for Validation 1\n",
            "122 - MultivariateRegression with avg smape 0.35: \n",
            "Model Number: 123 of 197 with model WindowRegression for Validation 1\n",
            "123 - WindowRegression with avg smape 0.47: \n",
            "Model Number: 124 of 197 with model ARIMA for Validation 1\n",
            "124 - ARIMA with avg smape 0.22: \n",
            "Model Number: 125 of 197 with model ARIMA for Validation 1\n",
            "125 - ARIMA with avg smape 0.23: \n",
            "Model Number: 126 of 197 with model UnivariateRegression for Validation 1\n",
            "126 - UnivariateRegression with avg smape 1.62: \n",
            "Model Number: 127 of 197 with model WindowRegression for Validation 1\n",
            "127 - WindowRegression with avg smape 1.07: \n",
            "Model Number: 128 of 197 with model ARIMA for Validation 1\n",
            "128 - ARIMA with avg smape 0.27: \n",
            "Model Number: 129 of 197 with model GLS for Validation 1\n",
            "129 - GLS with avg smape 1.13: \n",
            "Model Number: 130 of 197 with model DatepartRegression for Validation 1\n",
            "130 - DatepartRegression with avg smape 0.36: \n",
            "Model Number: 131 of 197 with model AverageValueNaive for Validation 1\n",
            "131 - AverageValueNaive with avg smape 0.26: \n",
            "Model Number: 132 of 197 with model WindowRegression for Validation 1\n",
            "132 - WindowRegression with avg smape 0.34: \n",
            "Model Number: 133 of 197 with model ARIMA for Validation 1\n"
          ]
        },
        {
          "output_type": "stream",
          "name": "stderr",
          "text": [
            "INFO:prophet:Disabling yearly seasonality. Run prophet with yearly_seasonality=True to override this.\n",
            "INFO:prophet:Disabling daily seasonality. Run prophet with daily_seasonality=True to override this.\n",
            "DEBUG:cmdstanpy:input tempfile: /tmp/tmpkpj4r36s/kip94oqk.json\n",
            "DEBUG:cmdstanpy:input tempfile: /tmp/tmpkpj4r36s/lh0oonpk.json\n",
            "DEBUG:cmdstanpy:idx 0\n",
            "DEBUG:cmdstanpy:running CmdStan, num_threads: None\n",
            "DEBUG:cmdstanpy:CmdStan args: ['/usr/local/lib/python3.7/dist-packages/prophet/stan_model/prophet_model.bin', 'random', 'seed=70293', 'data', 'file=/tmp/tmpkpj4r36s/kip94oqk.json', 'init=/tmp/tmpkpj4r36s/lh0oonpk.json', 'output', 'file=/tmp/tmpkpj4r36s/prophet_model807ygi_3/prophet_model-20221121080129.csv', 'method=optimize', 'algorithm=lbfgs', 'iter=10000']\n",
            "08:01:29 - cmdstanpy - INFO - Chain [1] start processing\n",
            "INFO:cmdstanpy:Chain [1] start processing\n"
          ]
        },
        {
          "output_type": "stream",
          "name": "stdout",
          "text": [
            "133 - ARIMA with avg smape 0.35: \n",
            "Model Number: 134 of 197 with model FBProphet for Validation 1\n"
          ]
        },
        {
          "output_type": "stream",
          "name": "stderr",
          "text": [
            "08:01:30 - cmdstanpy - INFO - Chain [1] done processing\n",
            "INFO:cmdstanpy:Chain [1] done processing\n"
          ]
        },
        {
          "output_type": "stream",
          "name": "stdout",
          "text": [
            "134 - FBProphet with avg smape 3.29: \n",
            "Model Number: 135 of 197 with model SectionalMotif for Validation 1\n",
            "135 - SectionalMotif with avg smape 2.43: \n",
            "Model Number: 136 of 197 with model SectionalMotif for Validation 1\n",
            "136 - SectionalMotif with avg smape 0.98: \n",
            "Model Number: 137 of 197 with model SectionalMotif for Validation 1\n",
            "137 - SectionalMotif with avg smape 0.23: \n",
            "Model Number: 138 of 197 with model FBProphet for Validation 1\n"
          ]
        },
        {
          "output_type": "stream",
          "name": "stderr",
          "text": [
            "INFO:prophet:Disabling yearly seasonality. Run prophet with yearly_seasonality=True to override this.\n",
            "INFO:prophet:Disabling daily seasonality. Run prophet with daily_seasonality=True to override this.\n",
            "DEBUG:cmdstanpy:input tempfile: /tmp/tmpkpj4r36s/2dhqdbhy.json\n",
            "DEBUG:cmdstanpy:input tempfile: /tmp/tmpkpj4r36s/jutqyijb.json\n",
            "DEBUG:cmdstanpy:idx 0\n",
            "DEBUG:cmdstanpy:running CmdStan, num_threads: None\n",
            "DEBUG:cmdstanpy:CmdStan args: ['/usr/local/lib/python3.7/dist-packages/prophet/stan_model/prophet_model.bin', 'random', 'seed=22816', 'data', 'file=/tmp/tmpkpj4r36s/2dhqdbhy.json', 'init=/tmp/tmpkpj4r36s/jutqyijb.json', 'output', 'file=/tmp/tmpkpj4r36s/prophet_modelha696z39/prophet_model-20221121080131.csv', 'method=optimize', 'algorithm=lbfgs', 'iter=10000']\n",
            "08:01:31 - cmdstanpy - INFO - Chain [1] start processing\n",
            "INFO:cmdstanpy:Chain [1] start processing\n",
            "08:01:31 - cmdstanpy - INFO - Chain [1] done processing\n",
            "INFO:cmdstanpy:Chain [1] done processing\n"
          ]
        },
        {
          "output_type": "stream",
          "name": "stdout",
          "text": [
            "138 - FBProphet with avg smape 1.85: \n",
            "Model Number: 139 of 197 with model WindowRegression for Validation 1\n"
          ]
        },
        {
          "output_type": "stream",
          "name": "stderr",
          "text": [
            "[Parallel(n_jobs=-2)]: Using backend SequentialBackend with 1 concurrent workers.\n",
            "[Parallel(n_jobs=-2)]: Done 300 out of 300 | elapsed:    0.7s finished\n",
            "[Parallel(n_jobs=1)]: Using backend SequentialBackend with 1 concurrent workers.\n",
            "[Parallel(n_jobs=1)]: Done 300 out of 300 | elapsed:    0.0s finished\n",
            "[Parallel(n_jobs=1)]: Using backend SequentialBackend with 1 concurrent workers.\n",
            "[Parallel(n_jobs=1)]: Done 300 out of 300 | elapsed:    0.0s finished\n",
            "[Parallel(n_jobs=1)]: Using backend SequentialBackend with 1 concurrent workers.\n",
            "[Parallel(n_jobs=1)]: Done 300 out of 300 | elapsed:    0.0s finished\n"
          ]
        },
        {
          "output_type": "stream",
          "name": "stdout",
          "text": [
            "139 - WindowRegression with avg smape 0.33: \n",
            "Model Number: 140 of 197 with model AverageValueNaive for Validation 1\n",
            "140 - AverageValueNaive with avg smape 0.35: \n",
            "Model Number: 141 of 197 with model ARIMA for Validation 1\n",
            "141 - ARIMA with avg smape 0.28: \n",
            "Model Number: 142 of 197 with model DatepartRegression for Validation 1\n"
          ]
        },
        {
          "output_type": "stream",
          "name": "stderr",
          "text": [
            "[Parallel(n_jobs=-2)]: Using backend SequentialBackend with 1 concurrent workers.\n"
          ]
        },
        {
          "output_type": "stream",
          "name": "stdout",
          "text": [
            "142 - DatepartRegression with avg smape 0.35: \n",
            "Model Number: 143 of 197 with model UnivariateMotif for Validation 1\n"
          ]
        },
        {
          "output_type": "stream",
          "name": "stderr",
          "text": [
            "[Parallel(n_jobs=-2)]: Done 100 out of 100 | elapsed:    0.4s finished\n",
            "[Parallel(n_jobs=1)]: Using backend SequentialBackend with 1 concurrent workers.\n",
            "[Parallel(n_jobs=1)]: Done 100 out of 100 | elapsed:    0.0s finished\n"
          ]
        },
        {
          "output_type": "stream",
          "name": "stdout",
          "text": [
            "143 - UnivariateMotif with avg smape 2.16: \n",
            "Model Number: 144 of 197 with model UnivariateMotif for Validation 1\n",
            "144 - UnivariateMotif with avg smape 0.42: \n",
            "Model Number: 145 of 197 with model AverageValueNaive for Validation 1\n"
          ]
        },
        {
          "output_type": "stream",
          "name": "stderr",
          "text": [
            "INFO:prophet:Disabling yearly seasonality. Run prophet with yearly_seasonality=True to override this.\n",
            "INFO:prophet:Disabling daily seasonality. Run prophet with daily_seasonality=True to override this.\n",
            "DEBUG:cmdstanpy:input tempfile: /tmp/tmpkpj4r36s/bpuyiqgd.json\n",
            "DEBUG:cmdstanpy:input tempfile: /tmp/tmpkpj4r36s/lp14wen_.json\n"
          ]
        },
        {
          "output_type": "stream",
          "name": "stdout",
          "text": [
            "145 - AverageValueNaive with avg smape 0.23: \n",
            "Model Number: 146 of 197 with model FBProphet for Validation 1\n"
          ]
        },
        {
          "output_type": "stream",
          "name": "stderr",
          "text": [
            "DEBUG:cmdstanpy:idx 0\n",
            "DEBUG:cmdstanpy:running CmdStan, num_threads: None\n",
            "DEBUG:cmdstanpy:CmdStan args: ['/usr/local/lib/python3.7/dist-packages/prophet/stan_model/prophet_model.bin', 'random', 'seed=76196', 'data', 'file=/tmp/tmpkpj4r36s/bpuyiqgd.json', 'init=/tmp/tmpkpj4r36s/lp14wen_.json', 'output', 'file=/tmp/tmpkpj4r36s/prophet_modelnc5uc4ue/prophet_model-20221121080136.csv', 'method=optimize', 'algorithm=lbfgs', 'iter=10000']\n",
            "08:01:36 - cmdstanpy - INFO - Chain [1] start processing\n",
            "INFO:cmdstanpy:Chain [1] start processing\n",
            "08:01:36 - cmdstanpy - INFO - Chain [1] done processing\n",
            "INFO:cmdstanpy:Chain [1] done processing\n"
          ]
        },
        {
          "output_type": "stream",
          "name": "stdout",
          "text": [
            "146 - FBProphet with avg smape 0.5: \n",
            "Model Number: 147 of 197 with model DatepartRegression for Validation 1\n",
            "147 - DatepartRegression with avg smape 0.29: \n",
            "Model Number: 148 of 197 with model MultivariateMotif for Validation 1\n",
            "148 - MultivariateMotif with avg smape 1.56: \n"
          ]
        },
        {
          "output_type": "stream",
          "name": "stderr",
          "text": [
            "/usr/local/lib/python3.7/dist-packages/sklearn/base.py:451: UserWarning: X does not have valid feature names, but MLPRegressor was fitted with feature names\n",
            "  \"X does not have valid feature names, but\"\n",
            "/usr/local/lib/python3.7/dist-packages/sklearn/base.py:451: UserWarning: X does not have valid feature names, but MLPRegressor was fitted with feature names\n",
            "  \"X does not have valid feature names, but\"\n",
            "/usr/local/lib/python3.7/dist-packages/sklearn/base.py:451: UserWarning: X does not have valid feature names, but MLPRegressor was fitted with feature names\n",
            "  \"X does not have valid feature names, but\"\n",
            "/usr/local/lib/python3.7/dist-packages/sklearn/base.py:451: UserWarning: X does not have valid feature names, but MLPRegressor was fitted with feature names\n",
            "  \"X does not have valid feature names, but\"\n",
            "/usr/local/lib/python3.7/dist-packages/sklearn/base.py:451: UserWarning: X does not have valid feature names, but MLPRegressor was fitted with feature names\n",
            "  \"X does not have valid feature names, but\"\n",
            "/usr/local/lib/python3.7/dist-packages/sklearn/base.py:451: UserWarning: X does not have valid feature names, but MLPRegressor was fitted with feature names\n",
            "  \"X does not have valid feature names, but\"\n",
            "/usr/local/lib/python3.7/dist-packages/sklearn/base.py:451: UserWarning: X does not have valid feature names, but MLPRegressor was fitted with feature names\n",
            "  \"X does not have valid feature names, but\"\n",
            "/usr/local/lib/python3.7/dist-packages/sklearn/base.py:451: UserWarning: X does not have valid feature names, but MLPRegressor was fitted with feature names\n",
            "  \"X does not have valid feature names, but\"\n",
            "/usr/local/lib/python3.7/dist-packages/sklearn/base.py:451: UserWarning: X does not have valid feature names, but MLPRegressor was fitted with feature names\n",
            "  \"X does not have valid feature names, but\"\n",
            "/usr/local/lib/python3.7/dist-packages/sklearn/base.py:451: UserWarning: X does not have valid feature names, but MLPRegressor was fitted with feature names\n",
            "  \"X does not have valid feature names, but\"\n",
            "/usr/local/lib/python3.7/dist-packages/sklearn/base.py:451: UserWarning: X does not have valid feature names, but MLPRegressor was fitted with feature names\n",
            "  \"X does not have valid feature names, but\"\n",
            "/usr/local/lib/python3.7/dist-packages/sklearn/base.py:451: UserWarning: X does not have valid feature names, but MLPRegressor was fitted with feature names\n",
            "  \"X does not have valid feature names, but\"\n",
            "/usr/local/lib/python3.7/dist-packages/sklearn/base.py:451: UserWarning: X does not have valid feature names, but MLPRegressor was fitted with feature names\n",
            "  \"X does not have valid feature names, but\"\n",
            "/usr/local/lib/python3.7/dist-packages/sklearn/base.py:451: UserWarning: X does not have valid feature names, but MLPRegressor was fitted with feature names\n",
            "  \"X does not have valid feature names, but\"\n",
            "/usr/local/lib/python3.7/dist-packages/sklearn/base.py:451: UserWarning: X does not have valid feature names, but MLPRegressor was fitted with feature names\n",
            "  \"X does not have valid feature names, but\"\n",
            "/usr/local/lib/python3.7/dist-packages/sklearn/base.py:451: UserWarning: X does not have valid feature names, but MLPRegressor was fitted with feature names\n",
            "  \"X does not have valid feature names, but\"\n",
            "/usr/local/lib/python3.7/dist-packages/sklearn/base.py:451: UserWarning: X does not have valid feature names, but MLPRegressor was fitted with feature names\n",
            "  \"X does not have valid feature names, but\"\n",
            "/usr/local/lib/python3.7/dist-packages/sklearn/base.py:451: UserWarning: X does not have valid feature names, but MLPRegressor was fitted with feature names\n",
            "  \"X does not have valid feature names, but\"\n",
            "/usr/local/lib/python3.7/dist-packages/sklearn/base.py:451: UserWarning: X does not have valid feature names, but MLPRegressor was fitted with feature names\n",
            "  \"X does not have valid feature names, but\"\n",
            "/usr/local/lib/python3.7/dist-packages/sklearn/base.py:451: UserWarning: X does not have valid feature names, but MLPRegressor was fitted with feature names\n",
            "  \"X does not have valid feature names, but\"\n",
            "/usr/local/lib/python3.7/dist-packages/sklearn/base.py:451: UserWarning: X does not have valid feature names, but MLPRegressor was fitted with feature names\n",
            "  \"X does not have valid feature names, but\"\n"
          ]
        },
        {
          "output_type": "stream",
          "name": "stdout",
          "text": [
            "Model Number: 149 of 197 with model UnivariateRegression for Validation 1\n",
            "149 - UnivariateRegression with avg smape 0.38: \n",
            "Model Number: 150 of 197 with model GLS for Validation 1\n",
            "150 - GLS with avg smape 0.23: \n",
            "Model Number: 151 of 197 with model UnivariateMotif for Validation 1\n",
            "151 - UnivariateMotif with avg smape 0.55: \n",
            "Model Number: 152 of 197 with model SeasonalNaive for Validation 1\n",
            "152 - SeasonalNaive with avg smape 8.12: \n",
            "Model Number: 153 of 197 with model UnivariateMotif for Validation 1\n",
            "153 - UnivariateMotif with avg smape 0.32: \n",
            "Model Number: 154 of 197 with model MultivariateMotif for Validation 1\n",
            "154 - MultivariateMotif with avg smape 0.19: \n",
            "Model Number: 155 of 197 with model SeasonalityMotif for Validation 1\n",
            "155 - SeasonalityMotif with avg smape 0.28: \n",
            "Model Number: 156 of 197 with model UnivariateMotif for Validation 1\n",
            "156 - UnivariateMotif with avg smape 0.38: \n",
            "Model Number: 157 of 197 with model SeasonalNaive for Validation 1\n",
            "157 - SeasonalNaive with avg smape 0.35: \n",
            "Model Number: 158 of 197 with model MultivariateMotif for Validation 1\n",
            "158 - MultivariateMotif with avg smape 0.33: \n",
            "Model Number: 159 of 197 with model AverageValueNaive for Validation 1\n",
            "159 - AverageValueNaive with avg smape 12.69: \n",
            "Model Number: 160 of 197 with model UnivariateMotif for Validation 1\n",
            "160 - UnivariateMotif with avg smape 1.16: \n",
            "Model Number: 161 of 197 with model SeasonalityMotif for Validation 1\n",
            "161 - SeasonalityMotif with avg smape 0.98: \n",
            "Model Number: 162 of 197 with model SeasonalityMotif for Validation 1\n",
            "162 - SeasonalityMotif with avg smape 2.63: \n",
            "Model Number: 163 of 197 with model GLS for Validation 1\n",
            "163 - GLS with avg smape 0.36: \n",
            "Model Number: 164 of 197 with model AverageValueNaive for Validation 1\n",
            "164 - AverageValueNaive with avg smape 12.61: \n",
            "Model Number: 165 of 197 with model AverageValueNaive for Validation 1\n",
            "165 - AverageValueNaive with avg smape 12.61: \n",
            "Model Number: 166 of 197 with model GLS for Validation 1\n",
            "166 - GLS with avg smape 0.7: \n",
            "Model Number: 167 of 197 with model SeasonalityMotif for Validation 1\n",
            "167 - SeasonalityMotif with avg smape 0.66: \n",
            "Model Number: 168 of 197 with model SeasonalityMotif for Validation 1\n",
            "168 - SeasonalityMotif with avg smape 0.66: \n",
            "Model Number: 169 of 197 with model SeasonalNaive for Validation 1\n",
            "169 - SeasonalNaive with avg smape 0.35: \n",
            "Model Number: 170 of 197 with model SeasonalNaive for Validation 1\n",
            "170 - SeasonalNaive with avg smape 0.35: \n",
            "Model Number: 171 of 197 with model SeasonalityMotif for Validation 1\n",
            "171 - SeasonalityMotif with avg smape 0.22: \n",
            "Model Number: 172 of 197 with model UnivariateRegression for Validation 1\n",
            "172 - UnivariateRegression with avg smape 0.99: \n",
            "Model Number: 173 of 197 with model MultivariateMotif for Validation 1\n",
            "173 - MultivariateMotif with avg smape 0.4: \n",
            "Model Number: 174 of 197 with model GLS for Validation 1\n",
            "174 - GLS with avg smape 0.51: \n",
            "Model Number: 175 of 197 with model MultivariateMotif for Validation 1\n",
            "175 - MultivariateMotif with avg smape 0.4: \n",
            "Model Number: 176 of 197 with model MultivariateMotif for Validation 1\n",
            "176 - MultivariateMotif with avg smape 0.85: \n",
            "Model Number: 177 of 197 with model SeasonalNaive for Validation 1\n",
            "177 - SeasonalNaive with avg smape 0.65: \n",
            "Model Number: 178 of 197 with model SeasonalNaive for Validation 1\n",
            "178 - SeasonalNaive with avg smape 0.65: \n",
            "Model Number: 179 of 197 with model FBProphet for Validation 1\n"
          ]
        },
        {
          "output_type": "stream",
          "name": "stderr",
          "text": [
            "INFO:prophet:Disabling yearly seasonality. Run prophet with yearly_seasonality=True to override this.\n",
            "INFO:prophet:Disabling daily seasonality. Run prophet with daily_seasonality=True to override this.\n",
            "DEBUG:cmdstanpy:input tempfile: /tmp/tmpkpj4r36s/awa2dqmg.json\n",
            "DEBUG:cmdstanpy:input tempfile: /tmp/tmpkpj4r36s/lgf9mydg.json\n",
            "DEBUG:cmdstanpy:idx 0\n",
            "DEBUG:cmdstanpy:running CmdStan, num_threads: None\n",
            "DEBUG:cmdstanpy:CmdStan args: ['/usr/local/lib/python3.7/dist-packages/prophet/stan_model/prophet_model.bin', 'random', 'seed=7068', 'data', 'file=/tmp/tmpkpj4r36s/awa2dqmg.json', 'init=/tmp/tmpkpj4r36s/lgf9mydg.json', 'output', 'file=/tmp/tmpkpj4r36s/prophet_modelvn571rj7/prophet_model-20221121080140.csv', 'method=optimize', 'algorithm=lbfgs', 'iter=10000']\n",
            "08:01:40 - cmdstanpy - INFO - Chain [1] start processing\n",
            "INFO:cmdstanpy:Chain [1] start processing\n",
            "08:01:41 - cmdstanpy - INFO - Chain [1] done processing\n",
            "INFO:cmdstanpy:Chain [1] done processing\n"
          ]
        },
        {
          "output_type": "stream",
          "name": "stdout",
          "text": [
            "179 - FBProphet with avg smape 0.4: \n",
            "Model Number: 180 of 197 with model SeasonalNaive for Validation 1\n",
            "180 - SeasonalNaive with avg smape 0.91: \n",
            "Model Number: 181 of 197 with model GLM for Validation 1\n",
            "181 - GLM with avg smape 0.57: \n",
            "Model Number: 182 of 197 with model GLM for Validation 1\n",
            "182 - GLM with avg smape 0.59: \n",
            "Model Number: 183 of 197 with model UnivariateRegression for Validation 1\n",
            "183 - UnivariateRegression with avg smape 1.18: \n",
            "Model Number: 184 of 197 with model UnivariateRegression for Validation 1\n",
            "184 - UnivariateRegression with avg smape 1.27: \n",
            "Model Number: 185 of 197 with model SeasonalNaive for Validation 1\n",
            "185 - SeasonalNaive with avg smape 1.14: \n",
            "Model Number: 186 of 197 with model SeasonalNaive for Validation 1\n",
            "186 - SeasonalNaive with avg smape 3.21: \n",
            "Model Number: 187 of 197 with model UnivariateRegression for Validation 1\n",
            "187 - UnivariateRegression with avg smape 0.25: \n",
            "Model Number: 188 of 197 with model GLM for Validation 1\n",
            "188 - GLM with avg smape 0.87: \n",
            "Model Number: 189 of 197 with model UnivariateRegression for Validation 1\n",
            "189 - UnivariateRegression with avg smape 3.4: \n",
            "Model Number: 190 of 197 with model UnivariateRegression for Validation 1\n"
          ]
        },
        {
          "output_type": "stream",
          "name": "stderr",
          "text": [
            "INFO:prophet:Disabling yearly seasonality. Run prophet with yearly_seasonality=True to override this.\n",
            "INFO:prophet:Disabling daily seasonality. Run prophet with daily_seasonality=True to override this.\n",
            "DEBUG:cmdstanpy:input tempfile: /tmp/tmpkpj4r36s/0dg95j53.json\n",
            "DEBUG:cmdstanpy:input tempfile: /tmp/tmpkpj4r36s/g2ie6i4o.json\n",
            "DEBUG:cmdstanpy:idx 0\n",
            "DEBUG:cmdstanpy:running CmdStan, num_threads: None\n",
            "DEBUG:cmdstanpy:CmdStan args: ['/usr/local/lib/python3.7/dist-packages/prophet/stan_model/prophet_model.bin', 'random', 'seed=67450', 'data', 'file=/tmp/tmpkpj4r36s/0dg95j53.json', 'init=/tmp/tmpkpj4r36s/g2ie6i4o.json', 'output', 'file=/tmp/tmpkpj4r36s/prophet_modelje1uw751/prophet_model-20221121080146.csv', 'method=optimize', 'algorithm=lbfgs', 'iter=10000']\n",
            "08:01:46 - cmdstanpy - INFO - Chain [1] start processing\n",
            "INFO:cmdstanpy:Chain [1] start processing\n"
          ]
        },
        {
          "output_type": "stream",
          "name": "stdout",
          "text": [
            "190 - UnivariateRegression with avg smape 0.59: \n",
            "Model Number: 191 of 197 with model FBProphet for Validation 1\n"
          ]
        },
        {
          "output_type": "stream",
          "name": "stderr",
          "text": [
            "08:01:46 - cmdstanpy - INFO - Chain [1] done processing\n",
            "INFO:cmdstanpy:Chain [1] done processing\n"
          ]
        },
        {
          "output_type": "stream",
          "name": "stdout",
          "text": [
            "191 - FBProphet with avg smape 1.12: \n",
            "Model Number: 192 of 197 with model GLM for Validation 1\n",
            "192 - GLM with avg smape 5.04: \n",
            "Model Number: 193 of 197 with model GLM for Validation 1\n",
            "193 - GLM with avg smape 5.27: \n",
            "Model Number: 194 of 197 with model GLM for Validation 1\n",
            "194 - GLM with avg smape 5.14: \n",
            "Model Number: 195 of 197 with model GLM for Validation 1\n",
            "195 - GLM with avg smape 6.52: \n",
            "Model Number: 196 of 197 with model GLM for Validation 1\n",
            "196 - GLM with avg smape 10.42: \n",
            "Model Number: 197 of 197 with model GLM for Validation 1\n",
            "197 - GLM with avg smape 10.73: \n",
            "Validation Round: 2\n",
            "Model Number: 1 of 197 with model Ensemble for Validation 2\n",
            "📈 1 - Ensemble with avg smape 0.44: \n",
            "Model Number: 2 of 197 with model ConstantNaive for Validation 2\n",
            "2 - ConstantNaive with avg smape 0.44: \n",
            "Model Number: 3 of 197 with model Ensemble for Validation 2\n",
            "3 - Ensemble with avg smape 0.45: \n",
            "Model Number: 4 of 197 with model Ensemble for Validation 2\n",
            "4 - Ensemble with avg smape 0.45: \n",
            "Model Number: 5 of 197 with model Ensemble for Validation 2\n",
            "5 - Ensemble with avg smape 0.45: \n",
            "Model Number: 6 of 197 with model Ensemble for Validation 2\n",
            "6 - Ensemble with avg smape 0.45: \n",
            "Model Number: 7 of 197 with model Ensemble for Validation 2\n",
            "7 - Ensemble with avg smape 0.44: \n",
            "Model Number: 8 of 197 with model UnobservedComponents for Validation 2\n",
            "8 - UnobservedComponents with avg smape 0.46: \n",
            "Model Number: 9 of 197 with model GLS for Validation 2\n",
            "9 - GLS with avg smape 0.45: \n",
            "Model Number: 10 of 197 with model UnobservedComponents for Validation 2\n",
            "📈 10 - UnobservedComponents with avg smape 0.43: \n",
            "Model Number: 11 of 197 with model ETS for Validation 2\n",
            "📈 11 - ETS with avg smape 0.42: \n",
            "Model Number: 12 of 197 with model UnobservedComponents for Validation 2\n",
            "12 - UnobservedComponents with avg smape 0.43: \n",
            "Model Number: 13 of 197 with model MetricMotif for Validation 2\n",
            "13 - MetricMotif with avg smape 0.43: \n",
            "Model Number: 14 of 197 with model SeasonalityMotif for Validation 2\n"
          ]
        },
        {
          "output_type": "stream",
          "name": "stderr",
          "text": [
            "INFO:prophet:Disabling yearly seasonality. Run prophet with yearly_seasonality=True to override this.\n",
            "INFO:prophet:Disabling daily seasonality. Run prophet with daily_seasonality=True to override this.\n"
          ]
        },
        {
          "output_type": "stream",
          "name": "stdout",
          "text": [
            "14 - SeasonalityMotif with avg smape 0.43: \n",
            "Model Number: 15 of 197 with model FBProphet for Validation 2\n"
          ]
        },
        {
          "output_type": "stream",
          "name": "stderr",
          "text": [
            "DEBUG:cmdstanpy:input tempfile: /tmp/tmpkpj4r36s/ynrko1lm.json\n",
            "DEBUG:cmdstanpy:input tempfile: /tmp/tmpkpj4r36s/sff95y0g.json\n",
            "DEBUG:cmdstanpy:idx 0\n",
            "DEBUG:cmdstanpy:running CmdStan, num_threads: None\n",
            "DEBUG:cmdstanpy:CmdStan args: ['/usr/local/lib/python3.7/dist-packages/prophet/stan_model/prophet_model.bin', 'random', 'seed=70225', 'data', 'file=/tmp/tmpkpj4r36s/ynrko1lm.json', 'init=/tmp/tmpkpj4r36s/sff95y0g.json', 'output', 'file=/tmp/tmpkpj4r36s/prophet_model8l2oclxc/prophet_model-20221121080151.csv', 'method=optimize', 'algorithm=lbfgs', 'iter=10000']\n",
            "08:01:51 - cmdstanpy - INFO - Chain [1] start processing\n",
            "INFO:cmdstanpy:Chain [1] start processing\n",
            "08:01:52 - cmdstanpy - INFO - Chain [1] done processing\n",
            "INFO:cmdstanpy:Chain [1] done processing\n"
          ]
        },
        {
          "output_type": "stream",
          "name": "stdout",
          "text": [
            "15 - FBProphet with avg smape 0.42: \n",
            "Model Number: 16 of 197 with model Ensemble for Validation 2\n"
          ]
        },
        {
          "output_type": "stream",
          "name": "stderr",
          "text": [
            "INFO:prophet:Disabling yearly seasonality. Run prophet with yearly_seasonality=True to override this.\n",
            "INFO:prophet:Disabling daily seasonality. Run prophet with daily_seasonality=True to override this.\n",
            "DEBUG:cmdstanpy:input tempfile: /tmp/tmpkpj4r36s/axjuzvwq.json\n",
            "DEBUG:cmdstanpy:input tempfile: /tmp/tmpkpj4r36s/h7grwub1.json\n",
            "DEBUG:cmdstanpy:idx 0\n",
            "DEBUG:cmdstanpy:running CmdStan, num_threads: None\n",
            "DEBUG:cmdstanpy:CmdStan args: ['/usr/local/lib/python3.7/dist-packages/prophet/stan_model/prophet_model.bin', 'random', 'seed=88639', 'data', 'file=/tmp/tmpkpj4r36s/axjuzvwq.json', 'init=/tmp/tmpkpj4r36s/h7grwub1.json', 'output', 'file=/tmp/tmpkpj4r36s/prophet_modelocff7bk8/prophet_model-20221121080153.csv', 'method=optimize', 'algorithm=lbfgs', 'iter=10000']\n",
            "08:01:53 - cmdstanpy - INFO - Chain [1] start processing\n",
            "INFO:cmdstanpy:Chain [1] start processing\n",
            "08:01:54 - cmdstanpy - INFO - Chain [1] done processing\n",
            "INFO:cmdstanpy:Chain [1] done processing\n"
          ]
        },
        {
          "output_type": "stream",
          "name": "stdout",
          "text": [
            "16 - Ensemble with avg smape 0.51: \n",
            "Model Number: 17 of 197 with model SectionalMotif for Validation 2\n",
            "📈 17 - SectionalMotif with avg smape 0.41: \n",
            "Model Number: 18 of 197 with model WindowRegression for Validation 2\n",
            "18 - WindowRegression with avg smape 0.63: \n",
            "Model Number: 19 of 197 with model Theta for Validation 2\n",
            "19 - Theta with avg smape 0.58: \n",
            "Model Number: 20 of 197 with model Ensemble for Validation 2\n"
          ]
        },
        {
          "output_type": "stream",
          "name": "stderr",
          "text": [
            "INFO:prophet:Disabling yearly seasonality. Run prophet with yearly_seasonality=True to override this.\n",
            "INFO:prophet:Disabling daily seasonality. Run prophet with daily_seasonality=True to override this.\n",
            "DEBUG:cmdstanpy:input tempfile: /tmp/tmpkpj4r36s/j8vt8el2.json\n",
            "DEBUG:cmdstanpy:input tempfile: /tmp/tmpkpj4r36s/83xuvd42.json\n",
            "DEBUG:cmdstanpy:idx 0\n",
            "DEBUG:cmdstanpy:running CmdStan, num_threads: None\n",
            "DEBUG:cmdstanpy:CmdStan args: ['/usr/local/lib/python3.7/dist-packages/prophet/stan_model/prophet_model.bin', 'random', 'seed=71512', 'data', 'file=/tmp/tmpkpj4r36s/j8vt8el2.json', 'init=/tmp/tmpkpj4r36s/83xuvd42.json', 'output', 'file=/tmp/tmpkpj4r36s/prophet_model56crdg6t/prophet_model-20221121080156.csv', 'method=optimize', 'algorithm=lbfgs', 'iter=10000']\n",
            "08:01:56 - cmdstanpy - INFO - Chain [1] start processing\n",
            "INFO:cmdstanpy:Chain [1] start processing\n",
            "08:01:57 - cmdstanpy - INFO - Chain [1] done processing\n",
            "INFO:cmdstanpy:Chain [1] done processing\n"
          ]
        },
        {
          "output_type": "stream",
          "name": "stdout",
          "text": [
            "20 - Ensemble with avg smape 0.41: \n",
            "Model Number: 21 of 197 with model ETS for Validation 2\n",
            "ETS error ValueError('endog must be strictly positive when usingmultiplicative trend or seasonal components.')\n",
            "ETS failed on Close with ValueError('endog must be strictly positive when usingmultiplicative trend or seasonal components.')\n",
            "21 - ETS with avg smape 0.47: \n",
            "Model Number: 22 of 197 with model ETS for Validation 2\n",
            "ETS error ValueError('endog must be strictly positive when usingmultiplicative trend or seasonal components.')\n",
            "ETS failed on Close with ValueError('endog must be strictly positive when usingmultiplicative trend or seasonal components.')\n",
            "22 - ETS with avg smape 0.47: \n",
            "Model Number: 23 of 197 with model UnobservedComponents for Validation 2\n",
            "📈 23 - UnobservedComponents with avg smape 0.27: \n",
            "Model Number: 24 of 197 with model NVAR for Validation 2\n",
            "24 - NVAR with avg smape 0.55: \n",
            "Model Number: 25 of 197 with model NVAR for Validation 2\n",
            "25 - NVAR with avg smape 0.55: \n",
            "Model Number: 26 of 197 with model ConstantNaive for Validation 2\n",
            "26 - ConstantNaive with avg smape 0.47: \n",
            "Model Number: 27 of 197 with model ConstantNaive for Validation 2\n",
            "27 - ConstantNaive with avg smape 0.47: \n",
            "Model Number: 28 of 197 with model ConstantNaive for Validation 2\n",
            "28 - ConstantNaive with avg smape 0.47: \n",
            "Model Number: 29 of 197 with model NVAR for Validation 2\n",
            "29 - NVAR with avg smape 0.52: \n",
            "Model Number: 30 of 197 with model NVAR for Validation 2\n",
            "30 - NVAR with avg smape 0.52: \n",
            "Model Number: 31 of 197 with model NVAR for Validation 2\n",
            "31 - NVAR with avg smape 0.52: \n",
            "Model Number: 32 of 197 with model NVAR for Validation 2\n",
            "32 - NVAR with avg smape 0.52: \n",
            "Model Number: 33 of 197 with model WindowRegression for Validation 2\n",
            "33 - WindowRegression with avg smape 0.52: \n",
            "Model Number: 34 of 197 with model UnobservedComponents for Validation 2\n",
            "34 - UnobservedComponents with avg smape 0.45: \n",
            "Model Number: 35 of 197 with model NVAR for Validation 2\n",
            "35 - NVAR with avg smape 0.51: \n",
            "Model Number: 36 of 197 with model NVAR for Validation 2\n",
            "36 - NVAR with avg smape 0.51: \n",
            "Model Number: 37 of 197 with model NVAR for Validation 2\n",
            "37 - NVAR with avg smape 0.51: \n",
            "Model Number: 38 of 197 with model UnobservedComponents for Validation 2\n",
            "38 - UnobservedComponents with avg smape 0.43: \n",
            "Model Number: 39 of 197 with model MetricMotif for Validation 2\n",
            "39 - MetricMotif with avg smape 0.41: \n",
            "Model Number: 40 of 197 with model ConstantNaive for Validation 2\n",
            "40 - ConstantNaive with avg smape 0.49: \n",
            "Model Number: 41 of 197 with model MetricMotif for Validation 2\n",
            "41 - MetricMotif with avg smape 0.62: \n",
            "Model Number: 42 of 197 with model UnobservedComponents for Validation 2\n",
            "42 - UnobservedComponents with avg smape 0.3: \n",
            "Model Number: 43 of 197 with model Theta for Validation 2\n",
            "43 - Theta with avg smape 0.61: \n",
            "Model Number: 44 of 197 with model ConstantNaive for Validation 2\n",
            "44 - ConstantNaive with avg smape 0.51: \n",
            "Model Number: 45 of 197 with model ConstantNaive for Validation 2\n",
            "45 - ConstantNaive with avg smape 0.51: \n",
            "Model Number: 46 of 197 with model ConstantNaive for Validation 2\n",
            "46 - ConstantNaive with avg smape 0.51: \n",
            "Model Number: 47 of 197 with model ConstantNaive for Validation 2\n",
            "47 - ConstantNaive with avg smape 0.51: \n",
            "Model Number: 48 of 197 with model Theta for Validation 2\n",
            "48 - Theta with avg smape 0.61: \n",
            "Model Number: 49 of 197 with model MetricMotif for Validation 2\n",
            "49 - MetricMotif with avg smape 0.48: \n",
            "Model Number: 50 of 197 with model MetricMotif for Validation 2\n",
            "50 - MetricMotif with avg smape 0.48: \n",
            "Model Number: 51 of 197 with model MetricMotif for Validation 2\n",
            "51 - MetricMotif with avg smape 0.48: \n",
            "Model Number: 52 of 197 with model MetricMotif for Validation 2\n",
            "52 - MetricMotif with avg smape 0.48: \n",
            "Model Number: 53 of 197 with model Theta for Validation 2\n",
            "53 - Theta with avg smape 0.61: \n",
            "Model Number: 54 of 197 with model Theta for Validation 2\n",
            "54 - Theta with avg smape 0.61: \n",
            "Model Number: 55 of 197 with model Theta for Validation 2\n",
            "55 - Theta with avg smape 0.61: \n",
            "Model Number: 56 of 197 with model MultivariateMotif for Validation 2\n",
            "56 - MultivariateMotif with avg smape 0.6: \n",
            "Model Number: 57 of 197 with model ETS for Validation 2\n",
            "57 - ETS with avg smape 0.72: \n",
            "Model Number: 58 of 197 with model SectionalMotif for Validation 2\n",
            "58 - SectionalMotif with avg smape 0.49: \n",
            "Model Number: 59 of 197 with model MetricMotif for Validation 2\n",
            "59 - MetricMotif with avg smape 0.67: \n",
            "Model Number: 60 of 197 with model ETS for Validation 2\n",
            "60 - ETS with avg smape 0.68: \n",
            "Model Number: 61 of 197 with model MetricMotif for Validation 2\n",
            "61 - MetricMotif with avg smape 0.98: \n",
            "Model Number: 62 of 197 with model FBProphet for Validation 2\n"
          ]
        },
        {
          "output_type": "stream",
          "name": "stderr",
          "text": [
            "INFO:prophet:Disabling yearly seasonality. Run prophet with yearly_seasonality=True to override this.\n",
            "INFO:prophet:Disabling daily seasonality. Run prophet with daily_seasonality=True to override this.\n",
            "DEBUG:cmdstanpy:input tempfile: /tmp/tmpkpj4r36s/y0oee8nl.json\n",
            "DEBUG:cmdstanpy:input tempfile: /tmp/tmpkpj4r36s/06k9uy5b.json\n",
            "DEBUG:cmdstanpy:idx 0\n",
            "DEBUG:cmdstanpy:running CmdStan, num_threads: None\n",
            "DEBUG:cmdstanpy:CmdStan args: ['/usr/local/lib/python3.7/dist-packages/prophet/stan_model/prophet_model.bin', 'random', 'seed=21800', 'data', 'file=/tmp/tmpkpj4r36s/y0oee8nl.json', 'init=/tmp/tmpkpj4r36s/06k9uy5b.json', 'output', 'file=/tmp/tmpkpj4r36s/prophet_model8rwhhe62/prophet_model-20221121080202.csv', 'method=optimize', 'algorithm=lbfgs', 'iter=10000']\n",
            "08:02:02 - cmdstanpy - INFO - Chain [1] start processing\n",
            "INFO:cmdstanpy:Chain [1] start processing\n",
            "08:02:02 - cmdstanpy - INFO - Chain [1] done processing\n",
            "INFO:cmdstanpy:Chain [1] done processing\n"
          ]
        },
        {
          "output_type": "stream",
          "name": "stdout",
          "text": [
            "62 - FBProphet with avg smape 0.63: \n",
            "Model Number: 63 of 197 with model AverageValueNaive for Validation 2\n"
          ]
        },
        {
          "output_type": "stream",
          "name": "stderr",
          "text": [
            "INFO:prophet:Disabling yearly seasonality. Run prophet with yearly_seasonality=True to override this.\n",
            "INFO:prophet:Disabling daily seasonality. Run prophet with daily_seasonality=True to override this.\n",
            "DEBUG:cmdstanpy:input tempfile: /tmp/tmpkpj4r36s/mtr_18wq.json\n",
            "DEBUG:cmdstanpy:input tempfile: /tmp/tmpkpj4r36s/p73dgep_.json\n",
            "DEBUG:cmdstanpy:idx 0\n",
            "DEBUG:cmdstanpy:running CmdStan, num_threads: None\n",
            "DEBUG:cmdstanpy:CmdStan args: ['/usr/local/lib/python3.7/dist-packages/prophet/stan_model/prophet_model.bin', 'random', 'seed=50780', 'data', 'file=/tmp/tmpkpj4r36s/mtr_18wq.json', 'init=/tmp/tmpkpj4r36s/p73dgep_.json', 'output', 'file=/tmp/tmpkpj4r36s/prophet_model0vjbqlim/prophet_model-20221121080203.csv', 'method=optimize', 'algorithm=lbfgs', 'iter=10000']\n",
            "08:02:03 - cmdstanpy - INFO - Chain [1] start processing\n",
            "INFO:cmdstanpy:Chain [1] start processing\n"
          ]
        },
        {
          "output_type": "stream",
          "name": "stdout",
          "text": [
            "63 - AverageValueNaive with avg smape 0.49: \n",
            "Model Number: 64 of 197 with model FBProphet for Validation 2\n",
            "No anomalies detected.\n"
          ]
        },
        {
          "output_type": "stream",
          "name": "stderr",
          "text": [
            "08:02:03 - cmdstanpy - INFO - Chain [1] done processing\n",
            "INFO:cmdstanpy:Chain [1] done processing\n"
          ]
        },
        {
          "output_type": "stream",
          "name": "stdout",
          "text": [
            "64 - FBProphet with avg smape 0.59: \n",
            "Model Number: 65 of 197 with model LastValueNaive for Validation 2\n",
            "65 - LastValueNaive with avg smape 0.59: \n",
            "Model Number: 66 of 197 with model SeasonalityMotif for Validation 2\n",
            "66 - SeasonalityMotif with avg smape 0.57: \n",
            "Model Number: 67 of 197 with model WindowRegression for Validation 2\n",
            "67 - WindowRegression with avg smape 0.51: \n",
            "Model Number: 68 of 197 with model ETS for Validation 2\n",
            "68 - ETS with avg smape 0.6: \n",
            "Model Number: 69 of 197 with model MultivariateRegression for Validation 2\n"
          ]
        },
        {
          "output_type": "stream",
          "name": "stderr",
          "text": [
            "/usr/local/lib/python3.7/dist-packages/autots/tools/probabilistic.py:67: RuntimeWarning: invalid value encountered in true_divide\n",
            "  (prior_mu / prior_sigma**2) + ((n * data_mu) / prior_sigma**2)\n",
            "/usr/local/lib/python3.7/dist-packages/autots/tools/probabilistic.py:68: RuntimeWarning: divide by zero encountered in true_divide\n",
            "  ) / ((1 / prior_sigma**2) + (n / prior_sigma**2))\n",
            "/usr/local/lib/python3.7/dist-packages/sklearn/linear_model/_ridge.py:157: LinAlgWarning: Ill-conditioned matrix (rcond=2.38794e-25): result may not be accurate.\n",
            "  return linalg.solve(A, Xy, sym_pos=True, overwrite_a=True).T\n",
            "[Parallel(n_jobs=-2)]: Using backend SequentialBackend with 1 concurrent workers.\n",
            "[Parallel(n_jobs=-2)]: Done 200 out of 200 | elapsed:    0.5s finished\n",
            "[Parallel(n_jobs=1)]: Using backend SequentialBackend with 1 concurrent workers.\n",
            "[Parallel(n_jobs=1)]: Done 200 out of 200 | elapsed:    0.0s finished\n",
            "[Parallel(n_jobs=1)]: Using backend SequentialBackend with 1 concurrent workers.\n",
            "[Parallel(n_jobs=1)]: Done 200 out of 200 | elapsed:    0.0s finished\n",
            "[Parallel(n_jobs=1)]: Using backend SequentialBackend with 1 concurrent workers.\n",
            "[Parallel(n_jobs=1)]: Done 200 out of 200 | elapsed:    0.0s finished\n"
          ]
        },
        {
          "output_type": "stream",
          "name": "stdout",
          "text": [
            "69 - MultivariateRegression with avg smape 0.6: \n",
            "Model Number: 70 of 197 with model MultivariateRegression for Validation 2\n"
          ]
        },
        {
          "output_type": "stream",
          "name": "stderr",
          "text": [
            "[Parallel(n_jobs=-2)]: Using backend SequentialBackend with 1 concurrent workers.\n",
            "[Parallel(n_jobs=-2)]: Done 200 out of 200 | elapsed:    0.4s finished\n",
            "[Parallel(n_jobs=1)]: Using backend SequentialBackend with 1 concurrent workers.\n",
            "[Parallel(n_jobs=1)]: Done 200 out of 200 | elapsed:    0.0s finished\n",
            "[Parallel(n_jobs=1)]: Using backend SequentialBackend with 1 concurrent workers.\n",
            "[Parallel(n_jobs=1)]: Done 200 out of 200 | elapsed:    0.0s finished\n",
            "[Parallel(n_jobs=1)]: Using backend SequentialBackend with 1 concurrent workers.\n",
            "[Parallel(n_jobs=1)]: Done 200 out of 200 | elapsed:    0.0s finished\n"
          ]
        },
        {
          "output_type": "stream",
          "name": "stdout",
          "text": [
            "70 - MultivariateRegression with avg smape 0.53: \n",
            "Model Number: 71 of 197 with model DatepartRegression for Validation 2\n",
            "71 - DatepartRegression with avg smape 0.57: \n",
            "Model Number: 72 of 197 with model GLS for Validation 2\n",
            "72 - GLS with avg smape 0.49: \n",
            "Model Number: 73 of 197 with model MultivariateMotif for Validation 2\n",
            "73 - MultivariateMotif with avg smape 0.58: \n",
            "Model Number: 74 of 197 with model SectionalMotif for Validation 2\n",
            "74 - SectionalMotif with avg smape 0.49: \n",
            "Model Number: 75 of 197 with model ETS for Validation 2\n",
            "ETS error ValueError('endog must be strictly positive when usingmultiplicative trend or seasonal components.')\n",
            "ETS failed on Close with ValueError('endog must be strictly positive when usingmultiplicative trend or seasonal components.')\n",
            "75 - ETS with avg smape 0.51: \n",
            "Model Number: 76 of 197 with model ETS for Validation 2\n",
            "ETS error ValueError('Can only dampen the trend component')\n",
            "ETS failed on Close with ValueError('Can only dampen the trend component')\n",
            "76 - ETS with avg smape 0.51: \n",
            "Model Number: 77 of 197 with model SectionalMotif for Validation 2\n",
            "77 - SectionalMotif with avg smape 0.6: \n",
            "Model Number: 78 of 197 with model UnivariateMotif for Validation 2\n",
            "78 - UnivariateMotif with avg smape 0.68: \n",
            "Model Number: 79 of 197 with model UnobservedComponents for Validation 2\n",
            "79 - UnobservedComponents with avg smape 0.6: \n",
            "Model Number: 80 of 197 with model UnobservedComponents for Validation 2\n",
            "80 - UnobservedComponents with avg smape 0.6: \n",
            "Model Number: 81 of 197 with model Theta for Validation 2\n",
            "81 - Theta with avg smape 0.67: \n",
            "Model Number: 82 of 197 with model UnivariateRegression for Validation 2\n",
            "82 - UnivariateRegression with avg smape 0.48: \n",
            "Model Number: 83 of 197 with model FBProphet for Validation 2\n",
            "No anomalies detected.\n"
          ]
        },
        {
          "output_type": "stream",
          "name": "stderr",
          "text": [
            "INFO:prophet:Disabling yearly seasonality. Run prophet with yearly_seasonality=True to override this.\n",
            "INFO:prophet:Disabling daily seasonality. Run prophet with daily_seasonality=True to override this.\n",
            "DEBUG:cmdstanpy:input tempfile: /tmp/tmpkpj4r36s/wz3cv3xc.json\n",
            "DEBUG:cmdstanpy:input tempfile: /tmp/tmpkpj4r36s/6etx4fc8.json\n",
            "DEBUG:cmdstanpy:idx 0\n",
            "DEBUG:cmdstanpy:running CmdStan, num_threads: None\n",
            "DEBUG:cmdstanpy:CmdStan args: ['/usr/local/lib/python3.7/dist-packages/prophet/stan_model/prophet_model.bin', 'random', 'seed=82615', 'data', 'file=/tmp/tmpkpj4r36s/wz3cv3xc.json', 'init=/tmp/tmpkpj4r36s/6etx4fc8.json', 'output', 'file=/tmp/tmpkpj4r36s/prophet_modelulw5_i45/prophet_model-20221121080207.csv', 'method=optimize', 'algorithm=lbfgs', 'iter=10000']\n",
            "08:02:07 - cmdstanpy - INFO - Chain [1] start processing\n",
            "INFO:cmdstanpy:Chain [1] start processing\n",
            "08:02:08 - cmdstanpy - INFO - Chain [1] done processing\n",
            "INFO:cmdstanpy:Chain [1] done processing\n"
          ]
        },
        {
          "output_type": "stream",
          "name": "stdout",
          "text": [
            "83 - FBProphet with avg smape 0.5: \n",
            "Model Number: 84 of 197 with model ETS for Validation 2\n",
            "84 - ETS with avg smape 0.56: \n",
            "Model Number: 85 of 197 with model LastValueNaive for Validation 2\n",
            "85 - LastValueNaive with avg smape 0.72: \n",
            "Model Number: 86 of 197 with model SectionalMotif for Validation 2\n",
            "86 - SectionalMotif with avg smape 0.6: \n",
            "Model Number: 87 of 197 with model Theta for Validation 2\n",
            "87 - Theta with avg smape 0.55: \n",
            "Model Number: 88 of 197 with model Theta for Validation 2\n",
            "88 - Theta with avg smape 0.55: \n",
            "Model Number: 89 of 197 with model GLS for Validation 2\n",
            "89 - GLS with avg smape 0.62: \n",
            "Model Number: 90 of 197 with model ARIMA for Validation 2\n",
            "90 - ARIMA with avg smape 0.59: \n",
            "Model Number: 91 of 197 with model AverageValueNaive for Validation 2\n",
            "91 - AverageValueNaive with avg smape 0.59: \n",
            "Model Number: 92 of 197 with model UnivariateMotif for Validation 2\n",
            "92 - UnivariateMotif with avg smape 0.53: \n",
            "Model Number: 93 of 197 with model AverageValueNaive for Validation 2\n",
            "93 - AverageValueNaive with avg smape 0.64: \n",
            "Model Number: 94 of 197 with model LastValueNaive for Validation 2\n",
            "94 - LastValueNaive with avg smape 0.64: \n",
            "Model Number: 95 of 197 with model LastValueNaive for Validation 2\n",
            "95 - LastValueNaive with avg smape 0.64: \n",
            "Model Number: 96 of 197 with model LastValueNaive for Validation 2\n",
            "96 - LastValueNaive with avg smape 0.64: \n",
            "Model Number: 97 of 197 with model LastValueNaive for Validation 2\n",
            "97 - LastValueNaive with avg smape 0.64: \n",
            "Model Number: 98 of 197 with model LastValueNaive for Validation 2\n",
            "98 - LastValueNaive with avg smape 0.64: \n",
            "Model Number: 99 of 197 with model LastValueNaive for Validation 2\n",
            "99 - LastValueNaive with avg smape 0.64: \n",
            "Model Number: 100 of 197 with model LastValueNaive for Validation 2\n",
            "100 - LastValueNaive with avg smape 0.64: \n",
            "Model Number: 101 of 197 with model DatepartRegression for Validation 2\n",
            "101 - DatepartRegression with avg smape 0.64: \n",
            "Model Number: 102 of 197 with model DatepartRegression for Validation 2\n",
            "102 - DatepartRegression with avg smape 0.64: \n",
            "Model Number: 103 of 197 with model SeasonalityMotif for Validation 2\n",
            "103 - SeasonalityMotif with avg smape 0.63: \n",
            "Model Number: 104 of 197 with model DatepartRegression for Validation 2\n",
            "104 - DatepartRegression with avg smape 0.64: \n",
            "Model Number: 105 of 197 with model DatepartRegression for Validation 2\n",
            "105 - DatepartRegression with avg smape 5.73: \n",
            "Model Number: 106 of 197 with model DatepartRegression for Validation 2\n",
            "106 - DatepartRegression with avg smape 0.64: \n",
            "Model Number: 107 of 197 with model MultivariateRegression for Validation 2\n"
          ]
        },
        {
          "output_type": "stream",
          "name": "stderr",
          "text": [
            "[Parallel(n_jobs=-2)]: Using backend SequentialBackend with 1 concurrent workers.\n",
            "[Parallel(n_jobs=-2)]: Done 200 out of 200 | elapsed:    0.5s finished\n",
            "[Parallel(n_jobs=1)]: Using backend SequentialBackend with 1 concurrent workers.\n",
            "[Parallel(n_jobs=1)]: Done 200 out of 200 | elapsed:    0.0s finished\n",
            "[Parallel(n_jobs=1)]: Using backend SequentialBackend with 1 concurrent workers.\n",
            "[Parallel(n_jobs=1)]: Done 200 out of 200 | elapsed:    0.0s finished\n",
            "[Parallel(n_jobs=1)]: Using backend SequentialBackend with 1 concurrent workers.\n",
            "[Parallel(n_jobs=1)]: Done 200 out of 200 | elapsed:    0.0s finished\n"
          ]
        },
        {
          "output_type": "stream",
          "name": "stdout",
          "text": [
            "107 - MultivariateRegression with avg smape 0.64: \n",
            "Model Number: 108 of 197 with model GLS for Validation 2\n",
            "108 - GLS with avg smape 0.6: \n",
            "Model Number: 109 of 197 with model UnivariateMotif for Validation 2\n",
            "109 - UnivariateMotif with avg smape 2.91: \n",
            "Model Number: 110 of 197 with model ARIMA for Validation 2\n",
            "110 - ARIMA with avg smape 0.58: \n",
            "Model Number: 111 of 197 with model ARIMA for Validation 2\n",
            "111 - ARIMA with avg smape 0.58: \n",
            "Model Number: 112 of 197 with model WindowRegression for Validation 2\n",
            "112 - WindowRegression with avg smape 0.63: \n",
            "Model Number: 113 of 197 with model ARIMA for Validation 2\n",
            "113 - ARIMA with avg smape 0.52: \n",
            "Model Number: 114 of 197 with model SectionalMotif for Validation 2\n",
            "114 - SectionalMotif with avg smape 1.06: \n",
            "Model Number: 115 of 197 with model MultivariateMotif for Validation 2\n",
            "115 - MultivariateMotif with avg smape 0.58: \n",
            "Model Number: 116 of 197 with model MultivariateRegression for Validation 2\n"
          ]
        },
        {
          "output_type": "stream",
          "name": "stderr",
          "text": [
            "[Parallel(n_jobs=-2)]: Using backend SequentialBackend with 1 concurrent workers.\n",
            "[Parallel(n_jobs=-2)]: Done 200 out of 200 | elapsed:    0.5s finished\n",
            "[Parallel(n_jobs=1)]: Using backend SequentialBackend with 1 concurrent workers.\n",
            "[Parallel(n_jobs=1)]: Done 200 out of 200 | elapsed:    0.0s finished\n",
            "[Parallel(n_jobs=1)]: Using backend SequentialBackend with 1 concurrent workers.\n",
            "[Parallel(n_jobs=1)]: Done 200 out of 200 | elapsed:    0.0s finished\n",
            "[Parallel(n_jobs=1)]: Using backend SequentialBackend with 1 concurrent workers.\n",
            "[Parallel(n_jobs=1)]: Done 200 out of 200 | elapsed:    0.0s finished\n"
          ]
        },
        {
          "output_type": "stream",
          "name": "stdout",
          "text": [
            "116 - MultivariateRegression with avg smape 0.64: \n",
            "Model Number: 117 of 197 with model WindowRegression for Validation 2\n"
          ]
        },
        {
          "output_type": "stream",
          "name": "stderr",
          "text": [
            "/usr/local/lib/python3.7/dist-packages/sklearn/neural_network/_multilayer_perceptron.py:549: ConvergenceWarning: lbfgs failed to converge (status=1):\n",
            "STOP: TOTAL NO. of ITERATIONS REACHED LIMIT.\n",
            "\n",
            "Increase the number of iterations (max_iter) or scale the data as shown in:\n",
            "    https://scikit-learn.org/stable/modules/preprocessing.html\n",
            "  self.n_iter_ = _check_optimize_result(\"lbfgs\", opt_res, self.max_iter)\n",
            "[Parallel(n_jobs=-2)]: Using backend SequentialBackend with 1 concurrent workers.\n"
          ]
        },
        {
          "output_type": "stream",
          "name": "stdout",
          "text": [
            "117 - WindowRegression with avg smape 1.52: \n",
            "Model Number: 118 of 197 with model MultivariateRegression for Validation 2\n"
          ]
        },
        {
          "output_type": "stream",
          "name": "stderr",
          "text": [
            "[Parallel(n_jobs=-2)]: Done 200 out of 200 | elapsed:    0.5s finished\n",
            "[Parallel(n_jobs=1)]: Using backend SequentialBackend with 1 concurrent workers.\n",
            "[Parallel(n_jobs=1)]: Done 200 out of 200 | elapsed:    0.0s finished\n",
            "[Parallel(n_jobs=1)]: Using backend SequentialBackend with 1 concurrent workers.\n",
            "[Parallel(n_jobs=1)]: Done 200 out of 200 | elapsed:    0.0s finished\n",
            "[Parallel(n_jobs=1)]: Using backend SequentialBackend with 1 concurrent workers.\n",
            "[Parallel(n_jobs=1)]: Done 200 out of 200 | elapsed:    0.0s finished\n"
          ]
        },
        {
          "output_type": "stream",
          "name": "stdout",
          "text": [
            "118 - MultivariateRegression with avg smape 0.64: \n",
            "Model Number: 119 of 197 with model MultivariateRegression for Validation 2\n"
          ]
        },
        {
          "output_type": "stream",
          "name": "stderr",
          "text": [
            "[Parallel(n_jobs=-2)]: Using backend SequentialBackend with 1 concurrent workers.\n",
            "[Parallel(n_jobs=-2)]: Done 200 out of 200 | elapsed:    0.5s finished\n",
            "[Parallel(n_jobs=1)]: Using backend SequentialBackend with 1 concurrent workers.\n",
            "[Parallel(n_jobs=1)]: Done 200 out of 200 | elapsed:    0.0s finished\n",
            "[Parallel(n_jobs=1)]: Using backend SequentialBackend with 1 concurrent workers.\n",
            "[Parallel(n_jobs=1)]: Done 200 out of 200 | elapsed:    0.0s finished\n",
            "[Parallel(n_jobs=1)]: Using backend SequentialBackend with 1 concurrent workers.\n",
            "[Parallel(n_jobs=1)]: Done 200 out of 200 | elapsed:    0.0s finished\n"
          ]
        },
        {
          "output_type": "stream",
          "name": "stdout",
          "text": [
            "119 - MultivariateRegression with avg smape 0.64: \n",
            "Model Number: 120 of 197 with model MultivariateRegression for Validation 2\n"
          ]
        },
        {
          "output_type": "stream",
          "name": "stderr",
          "text": [
            "[Parallel(n_jobs=-2)]: Using backend SequentialBackend with 1 concurrent workers.\n",
            "[Parallel(n_jobs=-2)]: Done 200 out of 200 | elapsed:    0.6s finished\n",
            "[Parallel(n_jobs=1)]: Using backend SequentialBackend with 1 concurrent workers.\n",
            "[Parallel(n_jobs=1)]: Done 200 out of 200 | elapsed:    0.0s finished\n",
            "[Parallel(n_jobs=1)]: Using backend SequentialBackend with 1 concurrent workers.\n",
            "[Parallel(n_jobs=1)]: Done 200 out of 200 | elapsed:    0.0s finished\n",
            "[Parallel(n_jobs=1)]: Using backend SequentialBackend with 1 concurrent workers.\n",
            "[Parallel(n_jobs=1)]: Done 200 out of 200 | elapsed:    0.0s finished\n"
          ]
        },
        {
          "output_type": "stream",
          "name": "stdout",
          "text": [
            "120 - MultivariateRegression with avg smape 0.64: \n",
            "Model Number: 121 of 197 with model MultivariateRegression for Validation 2\n"
          ]
        },
        {
          "output_type": "stream",
          "name": "stderr",
          "text": [
            "[Parallel(n_jobs=-2)]: Using backend SequentialBackend with 1 concurrent workers.\n",
            "[Parallel(n_jobs=-2)]: Done 200 out of 200 | elapsed:    0.5s finished\n",
            "[Parallel(n_jobs=1)]: Using backend SequentialBackend with 1 concurrent workers.\n",
            "[Parallel(n_jobs=1)]: Done 200 out of 200 | elapsed:    0.0s finished\n",
            "[Parallel(n_jobs=1)]: Using backend SequentialBackend with 1 concurrent workers.\n",
            "[Parallel(n_jobs=1)]: Done 200 out of 200 | elapsed:    0.0s finished\n",
            "[Parallel(n_jobs=1)]: Using backend SequentialBackend with 1 concurrent workers.\n",
            "[Parallel(n_jobs=1)]: Done 200 out of 200 | elapsed:    0.0s finished\n"
          ]
        },
        {
          "output_type": "stream",
          "name": "stdout",
          "text": [
            "121 - MultivariateRegression with avg smape 0.64: \n",
            "Model Number: 122 of 197 with model MultivariateRegression for Validation 2\n",
            "122 - MultivariateRegression with avg smape 0.64: \n",
            "Model Number: 123 of 197 with model WindowRegression for Validation 2\n",
            "123 - WindowRegression with avg smape 0.52: \n",
            "Model Number: 124 of 197 with model ARIMA for Validation 2\n",
            "124 - ARIMA with avg smape 0.55: \n",
            "Model Number: 125 of 197 with model ARIMA for Validation 2\n",
            "125 - ARIMA with avg smape 0.55: \n",
            "Model Number: 126 of 197 with model UnivariateRegression for Validation 2\n",
            "126 - UnivariateRegression with avg smape 0.67: \n",
            "Model Number: 127 of 197 with model WindowRegression for Validation 2\n",
            "127 - WindowRegression with avg smape 1.26: \n",
            "Model Number: 128 of 197 with model ARIMA for Validation 2\n",
            "128 - ARIMA with avg smape 0.58: \n",
            "Model Number: 129 of 197 with model GLS for Validation 2\n",
            "129 - GLS with avg smape 0.58: \n",
            "Model Number: 130 of 197 with model DatepartRegression for Validation 2\n",
            "130 - DatepartRegression with avg smape 0.52: \n",
            "Model Number: 131 of 197 with model AverageValueNaive for Validation 2\n",
            "131 - AverageValueNaive with avg smape 0.63: \n",
            "Model Number: 132 of 197 with model WindowRegression for Validation 2\n",
            "132 - WindowRegression with avg smape 0.63: \n",
            "Model Number: 133 of 197 with model ARIMA for Validation 2\n"
          ]
        },
        {
          "output_type": "stream",
          "name": "stderr",
          "text": [
            "INFO:prophet:Disabling yearly seasonality. Run prophet with yearly_seasonality=True to override this.\n",
            "INFO:prophet:Disabling daily seasonality. Run prophet with daily_seasonality=True to override this.\n",
            "DEBUG:cmdstanpy:input tempfile: /tmp/tmpkpj4r36s/mk_qu8b7.json\n",
            "DEBUG:cmdstanpy:input tempfile: /tmp/tmpkpj4r36s/55njl1fe.json\n",
            "DEBUG:cmdstanpy:idx 0\n",
            "DEBUG:cmdstanpy:running CmdStan, num_threads: None\n",
            "DEBUG:cmdstanpy:CmdStan args: ['/usr/local/lib/python3.7/dist-packages/prophet/stan_model/prophet_model.bin', 'random', 'seed=80812', 'data', 'file=/tmp/tmpkpj4r36s/mk_qu8b7.json', 'init=/tmp/tmpkpj4r36s/55njl1fe.json', 'output', 'file=/tmp/tmpkpj4r36s/prophet_model7ot5kr4u/prophet_model-20221121080311.csv', 'method=optimize', 'algorithm=lbfgs', 'iter=10000']\n",
            "08:03:11 - cmdstanpy - INFO - Chain [1] start processing\n",
            "INFO:cmdstanpy:Chain [1] start processing\n"
          ]
        },
        {
          "output_type": "stream",
          "name": "stdout",
          "text": [
            "133 - ARIMA with avg smape 0.64: \n",
            "Model Number: 134 of 197 with model FBProphet for Validation 2\n"
          ]
        },
        {
          "output_type": "stream",
          "name": "stderr",
          "text": [
            "08:03:12 - cmdstanpy - INFO - Chain [1] done processing\n",
            "INFO:cmdstanpy:Chain [1] done processing\n"
          ]
        },
        {
          "output_type": "stream",
          "name": "stdout",
          "text": [
            "134 - FBProphet with avg smape 0.48: \n",
            "Model Number: 135 of 197 with model SectionalMotif for Validation 2\n",
            "135 - SectionalMotif with avg smape 1.32: \n",
            "Model Number: 136 of 197 with model SectionalMotif for Validation 2\n",
            "136 - SectionalMotif with avg smape 0.57: \n",
            "Model Number: 137 of 197 with model SectionalMotif for Validation 2\n",
            "137 - SectionalMotif with avg smape 0.47: \n",
            "Model Number: 138 of 197 with model FBProphet for Validation 2\n"
          ]
        },
        {
          "output_type": "stream",
          "name": "stderr",
          "text": [
            "INFO:prophet:Disabling yearly seasonality. Run prophet with yearly_seasonality=True to override this.\n",
            "INFO:prophet:Disabling daily seasonality. Run prophet with daily_seasonality=True to override this.\n",
            "DEBUG:cmdstanpy:input tempfile: /tmp/tmpkpj4r36s/yxwsy275.json\n",
            "DEBUG:cmdstanpy:input tempfile: /tmp/tmpkpj4r36s/5nw33u1f.json\n",
            "DEBUG:cmdstanpy:idx 0\n",
            "DEBUG:cmdstanpy:running CmdStan, num_threads: None\n",
            "DEBUG:cmdstanpy:CmdStan args: ['/usr/local/lib/python3.7/dist-packages/prophet/stan_model/prophet_model.bin', 'random', 'seed=25916', 'data', 'file=/tmp/tmpkpj4r36s/yxwsy275.json', 'init=/tmp/tmpkpj4r36s/5nw33u1f.json', 'output', 'file=/tmp/tmpkpj4r36s/prophet_modelpu669pr8/prophet_model-20221121080313.csv', 'method=optimize', 'algorithm=lbfgs', 'iter=10000']\n",
            "08:03:13 - cmdstanpy - INFO - Chain [1] start processing\n",
            "INFO:cmdstanpy:Chain [1] start processing\n",
            "08:03:14 - cmdstanpy - INFO - Chain [1] done processing\n",
            "INFO:cmdstanpy:Chain [1] done processing\n"
          ]
        },
        {
          "output_type": "stream",
          "name": "stdout",
          "text": [
            "138 - FBProphet with avg smape 0.66: \n",
            "Model Number: 139 of 197 with model WindowRegression for Validation 2\n"
          ]
        },
        {
          "output_type": "stream",
          "name": "stderr",
          "text": [
            "[Parallel(n_jobs=-2)]: Using backend SequentialBackend with 1 concurrent workers.\n",
            "[Parallel(n_jobs=-2)]: Done 300 out of 300 | elapsed:    0.7s finished\n",
            "[Parallel(n_jobs=1)]: Using backend SequentialBackend with 1 concurrent workers.\n",
            "[Parallel(n_jobs=1)]: Done 300 out of 300 | elapsed:    0.0s finished\n",
            "[Parallel(n_jobs=1)]: Using backend SequentialBackend with 1 concurrent workers.\n",
            "[Parallel(n_jobs=1)]: Done 300 out of 300 | elapsed:    0.0s finished\n",
            "[Parallel(n_jobs=1)]: Using backend SequentialBackend with 1 concurrent workers.\n",
            "[Parallel(n_jobs=1)]: Done 300 out of 300 | elapsed:    0.0s finished\n"
          ]
        },
        {
          "output_type": "stream",
          "name": "stdout",
          "text": [
            "139 - WindowRegression with avg smape 0.63: \n",
            "Model Number: 140 of 197 with model AverageValueNaive for Validation 2\n",
            "140 - AverageValueNaive with avg smape 0.64: \n",
            "Model Number: 141 of 197 with model ARIMA for Validation 2\n",
            "141 - ARIMA with avg smape 0.67: \n",
            "Model Number: 142 of 197 with model DatepartRegression for Validation 2\n"
          ]
        },
        {
          "output_type": "stream",
          "name": "stderr",
          "text": [
            "[Parallel(n_jobs=-2)]: Using backend SequentialBackend with 1 concurrent workers.\n"
          ]
        },
        {
          "output_type": "stream",
          "name": "stdout",
          "text": [
            "142 - DatepartRegression with avg smape 0.64: \n",
            "Model Number: 143 of 197 with model UnivariateMotif for Validation 2\n"
          ]
        },
        {
          "output_type": "stream",
          "name": "stderr",
          "text": [
            "[Parallel(n_jobs=-2)]: Done 100 out of 100 | elapsed:    0.2s finished\n",
            "[Parallel(n_jobs=1)]: Using backend SequentialBackend with 1 concurrent workers.\n",
            "[Parallel(n_jobs=1)]: Done 100 out of 100 | elapsed:    0.0s finished\n"
          ]
        },
        {
          "output_type": "stream",
          "name": "stdout",
          "text": [
            "143 - UnivariateMotif with avg smape 0.64: \n",
            "Model Number: 144 of 197 with model UnivariateMotif for Validation 2\n",
            "144 - UnivariateMotif with avg smape 0.65: \n",
            "Model Number: 145 of 197 with model AverageValueNaive for Validation 2\n",
            "145 - AverageValueNaive with avg smape 0.53: \n",
            "Model Number: 146 of 197 with model FBProphet for Validation 2\n"
          ]
        },
        {
          "output_type": "stream",
          "name": "stderr",
          "text": [
            "INFO:prophet:Disabling yearly seasonality. Run prophet with yearly_seasonality=True to override this.\n",
            "INFO:prophet:Disabling daily seasonality. Run prophet with daily_seasonality=True to override this.\n",
            "DEBUG:cmdstanpy:input tempfile: /tmp/tmpkpj4r36s/x1q1yef7.json\n",
            "DEBUG:cmdstanpy:input tempfile: /tmp/tmpkpj4r36s/6g0lcrz0.json\n",
            "DEBUG:cmdstanpy:idx 0\n",
            "DEBUG:cmdstanpy:running CmdStan, num_threads: None\n",
            "DEBUG:cmdstanpy:CmdStan args: ['/usr/local/lib/python3.7/dist-packages/prophet/stan_model/prophet_model.bin', 'random', 'seed=23472', 'data', 'file=/tmp/tmpkpj4r36s/x1q1yef7.json', 'init=/tmp/tmpkpj4r36s/6g0lcrz0.json', 'output', 'file=/tmp/tmpkpj4r36s/prophet_modelcllqu5j8/prophet_model-20221121080316.csv', 'method=optimize', 'algorithm=lbfgs', 'iter=10000']\n",
            "08:03:16 - cmdstanpy - INFO - Chain [1] start processing\n",
            "INFO:cmdstanpy:Chain [1] start processing\n",
            "08:03:16 - cmdstanpy - INFO - Chain [1] done processing\n",
            "INFO:cmdstanpy:Chain [1] done processing\n"
          ]
        },
        {
          "output_type": "stream",
          "name": "stdout",
          "text": [
            "146 - FBProphet with avg smape 0.52: \n",
            "Model Number: 147 of 197 with model DatepartRegression for Validation 2\n",
            "147 - DatepartRegression with avg smape 0.81: \n",
            "Model Number: 148 of 197 with model MultivariateMotif for Validation 2\n",
            "148 - MultivariateMotif with avg smape 0.66: \n"
          ]
        },
        {
          "output_type": "stream",
          "name": "stderr",
          "text": [
            "/usr/local/lib/python3.7/dist-packages/sklearn/base.py:451: UserWarning: X does not have valid feature names, but MLPRegressor was fitted with feature names\n",
            "  \"X does not have valid feature names, but\"\n",
            "/usr/local/lib/python3.7/dist-packages/sklearn/base.py:451: UserWarning: X does not have valid feature names, but MLPRegressor was fitted with feature names\n",
            "  \"X does not have valid feature names, but\"\n",
            "/usr/local/lib/python3.7/dist-packages/sklearn/base.py:451: UserWarning: X does not have valid feature names, but MLPRegressor was fitted with feature names\n",
            "  \"X does not have valid feature names, but\"\n",
            "/usr/local/lib/python3.7/dist-packages/sklearn/base.py:451: UserWarning: X does not have valid feature names, but MLPRegressor was fitted with feature names\n",
            "  \"X does not have valid feature names, but\"\n",
            "/usr/local/lib/python3.7/dist-packages/sklearn/base.py:451: UserWarning: X does not have valid feature names, but MLPRegressor was fitted with feature names\n",
            "  \"X does not have valid feature names, but\"\n",
            "/usr/local/lib/python3.7/dist-packages/sklearn/base.py:451: UserWarning: X does not have valid feature names, but MLPRegressor was fitted with feature names\n",
            "  \"X does not have valid feature names, but\"\n",
            "/usr/local/lib/python3.7/dist-packages/sklearn/base.py:451: UserWarning: X does not have valid feature names, but MLPRegressor was fitted with feature names\n",
            "  \"X does not have valid feature names, but\"\n",
            "/usr/local/lib/python3.7/dist-packages/sklearn/base.py:451: UserWarning: X does not have valid feature names, but MLPRegressor was fitted with feature names\n",
            "  \"X does not have valid feature names, but\"\n",
            "/usr/local/lib/python3.7/dist-packages/sklearn/base.py:451: UserWarning: X does not have valid feature names, but MLPRegressor was fitted with feature names\n",
            "  \"X does not have valid feature names, but\"\n",
            "/usr/local/lib/python3.7/dist-packages/sklearn/base.py:451: UserWarning: X does not have valid feature names, but MLPRegressor was fitted with feature names\n",
            "  \"X does not have valid feature names, but\"\n",
            "/usr/local/lib/python3.7/dist-packages/sklearn/base.py:451: UserWarning: X does not have valid feature names, but MLPRegressor was fitted with feature names\n",
            "  \"X does not have valid feature names, but\"\n",
            "/usr/local/lib/python3.7/dist-packages/sklearn/base.py:451: UserWarning: X does not have valid feature names, but MLPRegressor was fitted with feature names\n",
            "  \"X does not have valid feature names, but\"\n",
            "/usr/local/lib/python3.7/dist-packages/sklearn/base.py:451: UserWarning: X does not have valid feature names, but MLPRegressor was fitted with feature names\n",
            "  \"X does not have valid feature names, but\"\n",
            "/usr/local/lib/python3.7/dist-packages/sklearn/base.py:451: UserWarning: X does not have valid feature names, but MLPRegressor was fitted with feature names\n",
            "  \"X does not have valid feature names, but\"\n",
            "/usr/local/lib/python3.7/dist-packages/sklearn/base.py:451: UserWarning: X does not have valid feature names, but MLPRegressor was fitted with feature names\n",
            "  \"X does not have valid feature names, but\"\n",
            "/usr/local/lib/python3.7/dist-packages/sklearn/base.py:451: UserWarning: X does not have valid feature names, but MLPRegressor was fitted with feature names\n",
            "  \"X does not have valid feature names, but\"\n",
            "/usr/local/lib/python3.7/dist-packages/sklearn/base.py:451: UserWarning: X does not have valid feature names, but MLPRegressor was fitted with feature names\n",
            "  \"X does not have valid feature names, but\"\n",
            "/usr/local/lib/python3.7/dist-packages/sklearn/base.py:451: UserWarning: X does not have valid feature names, but MLPRegressor was fitted with feature names\n",
            "  \"X does not have valid feature names, but\"\n",
            "/usr/local/lib/python3.7/dist-packages/sklearn/base.py:451: UserWarning: X does not have valid feature names, but MLPRegressor was fitted with feature names\n",
            "  \"X does not have valid feature names, but\"\n",
            "/usr/local/lib/python3.7/dist-packages/sklearn/base.py:451: UserWarning: X does not have valid feature names, but MLPRegressor was fitted with feature names\n",
            "  \"X does not have valid feature names, but\"\n",
            "/usr/local/lib/python3.7/dist-packages/sklearn/base.py:451: UserWarning: X does not have valid feature names, but MLPRegressor was fitted with feature names\n",
            "  \"X does not have valid feature names, but\"\n"
          ]
        },
        {
          "output_type": "stream",
          "name": "stdout",
          "text": [
            "Model Number: 149 of 197 with model UnivariateRegression for Validation 2\n",
            "149 - UnivariateRegression with avg smape 0.58: \n",
            "Model Number: 150 of 197 with model GLS for Validation 2\n",
            "150 - GLS with avg smape 0.53: \n",
            "Model Number: 151 of 197 with model UnivariateMotif for Validation 2\n",
            "151 - UnivariateMotif with avg smape 0.58: \n",
            "Model Number: 152 of 197 with model SeasonalNaive for Validation 2\n",
            "152 - SeasonalNaive with avg smape 7.38: \n",
            "Model Number: 153 of 197 with model UnivariateMotif for Validation 2\n",
            "153 - UnivariateMotif with avg smape 0.59: \n",
            "Model Number: 154 of 197 with model MultivariateMotif for Validation 2\n",
            "154 - MultivariateMotif with avg smape 0.74: \n",
            "Model Number: 155 of 197 with model SeasonalityMotif for Validation 2\n",
            "155 - SeasonalityMotif with avg smape 0.56: \n",
            "Model Number: 156 of 197 with model UnivariateMotif for Validation 2\n",
            "156 - UnivariateMotif with avg smape 0.7: \n",
            "Model Number: 157 of 197 with model SeasonalNaive for Validation 2\n",
            "157 - SeasonalNaive with avg smape 0.6: \n",
            "Model Number: 158 of 197 with model MultivariateMotif for Validation 2\n",
            "158 - MultivariateMotif with avg smape 0.55: \n",
            "Model Number: 159 of 197 with model AverageValueNaive for Validation 2\n",
            "159 - AverageValueNaive with avg smape 0.65: \n",
            "Model Number: 160 of 197 with model UnivariateMotif for Validation 2\n",
            "160 - UnivariateMotif with avg smape 1.87: \n",
            "Model Number: 161 of 197 with model SeasonalityMotif for Validation 2\n",
            "161 - SeasonalityMotif with avg smape 0.52: \n",
            "Model Number: 162 of 197 with model SeasonalityMotif for Validation 2\n",
            "162 - SeasonalityMotif with avg smape 0.53: \n",
            "Model Number: 163 of 197 with model GLS for Validation 2\n",
            "163 - GLS with avg smape 0.64: \n",
            "Model Number: 164 of 197 with model AverageValueNaive for Validation 2\n",
            "164 - AverageValueNaive with avg smape 0.64: \n",
            "Model Number: 165 of 197 with model AverageValueNaive for Validation 2\n",
            "165 - AverageValueNaive with avg smape 0.64: \n",
            "Model Number: 166 of 197 with model GLS for Validation 2\n",
            "166 - GLS with avg smape 0.5: \n",
            "Model Number: 167 of 197 with model SeasonalityMotif for Validation 2\n",
            "167 - SeasonalityMotif with avg smape 0.44: \n",
            "Model Number: 168 of 197 with model SeasonalityMotif for Validation 2\n",
            "168 - SeasonalityMotif with avg smape 0.44: \n",
            "Model Number: 169 of 197 with model SeasonalNaive for Validation 2\n",
            "169 - SeasonalNaive with avg smape 0.6: \n",
            "Model Number: 170 of 197 with model SeasonalNaive for Validation 2\n",
            "170 - SeasonalNaive with avg smape 0.6: \n",
            "Model Number: 171 of 197 with model SeasonalityMotif for Validation 2\n",
            "171 - SeasonalityMotif with avg smape 0.47: \n",
            "Model Number: 172 of 197 with model UnivariateRegression for Validation 2\n",
            "172 - UnivariateRegression with avg smape 0.83: \n",
            "Model Number: 173 of 197 with model MultivariateMotif for Validation 2\n",
            "173 - MultivariateMotif with avg smape 0.64: \n",
            "Model Number: 174 of 197 with model GLS for Validation 2\n",
            "174 - GLS with avg smape 0.62: \n",
            "Model Number: 175 of 197 with model MultivariateMotif for Validation 2\n",
            "175 - MultivariateMotif with avg smape 0.7: \n",
            "Model Number: 176 of 197 with model MultivariateMotif for Validation 2\n",
            "176 - MultivariateMotif with avg smape 0.41: \n",
            "Model Number: 177 of 197 with model SeasonalNaive for Validation 2\n",
            "177 - SeasonalNaive with avg smape 0.68: \n",
            "Model Number: 178 of 197 with model SeasonalNaive for Validation 2\n",
            "178 - SeasonalNaive with avg smape 0.9: \n",
            "Model Number: 179 of 197 with model FBProphet for Validation 2\n"
          ]
        },
        {
          "output_type": "stream",
          "name": "stderr",
          "text": [
            "INFO:prophet:Disabling yearly seasonality. Run prophet with yearly_seasonality=True to override this.\n",
            "INFO:prophet:Disabling daily seasonality. Run prophet with daily_seasonality=True to override this.\n",
            "DEBUG:cmdstanpy:input tempfile: /tmp/tmpkpj4r36s/u_3jwv49.json\n",
            "DEBUG:cmdstanpy:input tempfile: /tmp/tmpkpj4r36s/mquzh8uw.json\n",
            "DEBUG:cmdstanpy:idx 0\n",
            "DEBUG:cmdstanpy:running CmdStan, num_threads: None\n",
            "DEBUG:cmdstanpy:CmdStan args: ['/usr/local/lib/python3.7/dist-packages/prophet/stan_model/prophet_model.bin', 'random', 'seed=52723', 'data', 'file=/tmp/tmpkpj4r36s/u_3jwv49.json', 'init=/tmp/tmpkpj4r36s/mquzh8uw.json', 'output', 'file=/tmp/tmpkpj4r36s/prophet_model5ziw_vlw/prophet_model-20221121080320.csv', 'method=optimize', 'algorithm=lbfgs', 'iter=10000']\n",
            "08:03:20 - cmdstanpy - INFO - Chain [1] start processing\n",
            "INFO:cmdstanpy:Chain [1] start processing\n",
            "08:03:21 - cmdstanpy - INFO - Chain [1] done processing\n",
            "INFO:cmdstanpy:Chain [1] done processing\n"
          ]
        },
        {
          "output_type": "stream",
          "name": "stdout",
          "text": [
            "179 - FBProphet with avg smape 0.33: \n",
            "Model Number: 180 of 197 with model SeasonalNaive for Validation 2\n",
            "180 - SeasonalNaive with avg smape 0.42: \n",
            "Model Number: 181 of 197 with model GLM for Validation 2\n",
            "181 - GLM with avg smape 1.15: \n",
            "Model Number: 182 of 197 with model GLM for Validation 2\n",
            "182 - GLM with avg smape 1.16: \n",
            "Model Number: 183 of 197 with model UnivariateRegression for Validation 2\n",
            "183 - UnivariateRegression with avg smape 0.89: \n",
            "Model Number: 184 of 197 with model UnivariateRegression for Validation 2\n",
            "184 - UnivariateRegression with avg smape 0.86: \n",
            "Model Number: 185 of 197 with model SeasonalNaive for Validation 2\n",
            "185 - SeasonalNaive with avg smape 0.63: \n",
            "Model Number: 186 of 197 with model SeasonalNaive for Validation 2\n",
            "186 - SeasonalNaive with avg smape 3.1: \n",
            "Model Number: 187 of 197 with model UnivariateRegression for Validation 2\n",
            "187 - UnivariateRegression with avg smape 0.8: \n",
            "Model Number: 188 of 197 with model GLM for Validation 2\n",
            "188 - GLM with avg smape 0.61: \n",
            "Model Number: 189 of 197 with model UnivariateRegression for Validation 2\n",
            "189 - UnivariateRegression with avg smape 0.46: \n",
            "Model Number: 190 of 197 with model UnivariateRegression for Validation 2\n"
          ]
        },
        {
          "output_type": "stream",
          "name": "stderr",
          "text": [
            "INFO:prophet:Disabling yearly seasonality. Run prophet with yearly_seasonality=True to override this.\n",
            "INFO:prophet:Disabling daily seasonality. Run prophet with daily_seasonality=True to override this.\n",
            "DEBUG:cmdstanpy:input tempfile: /tmp/tmpkpj4r36s/i2sfn_8o.json\n",
            "DEBUG:cmdstanpy:input tempfile: /tmp/tmpkpj4r36s/i0792dgc.json\n",
            "DEBUG:cmdstanpy:idx 0\n",
            "DEBUG:cmdstanpy:running CmdStan, num_threads: None\n",
            "DEBUG:cmdstanpy:CmdStan args: ['/usr/local/lib/python3.7/dist-packages/prophet/stan_model/prophet_model.bin', 'random', 'seed=89910', 'data', 'file=/tmp/tmpkpj4r36s/i2sfn_8o.json', 'init=/tmp/tmpkpj4r36s/i0792dgc.json', 'output', 'file=/tmp/tmpkpj4r36s/prophet_modellwk8hbdj/prophet_model-20221121080326.csv', 'method=optimize', 'algorithm=lbfgs', 'iter=10000']\n",
            "08:03:26 - cmdstanpy - INFO - Chain [1] start processing\n",
            "INFO:cmdstanpy:Chain [1] start processing\n"
          ]
        },
        {
          "output_type": "stream",
          "name": "stdout",
          "text": [
            "190 - UnivariateRegression with avg smape 0.94: \n",
            "Model Number: 191 of 197 with model FBProphet for Validation 2\n"
          ]
        },
        {
          "output_type": "stream",
          "name": "stderr",
          "text": [
            "08:03:26 - cmdstanpy - INFO - Chain [1] done processing\n",
            "INFO:cmdstanpy:Chain [1] done processing\n"
          ]
        },
        {
          "output_type": "stream",
          "name": "stdout",
          "text": [
            "191 - FBProphet with avg smape 1.42: \n",
            "Model Number: 192 of 197 with model GLM for Validation 2\n",
            "192 - GLM with avg smape 3.93: \n",
            "Model Number: 193 of 197 with model GLM for Validation 2\n",
            "193 - GLM with avg smape 4.65: \n",
            "Model Number: 194 of 197 with model GLM for Validation 2\n",
            "194 - GLM with avg smape 4.69: \n",
            "Model Number: 195 of 197 with model GLM for Validation 2\n",
            "195 - GLM with avg smape 5.07: \n",
            "Model Number: 196 of 197 with model GLM for Validation 2\n",
            "196 - GLM with avg smape 9.9: \n",
            "Model Number: 197 of 197 with model GLM for Validation 2\n",
            "197 - GLM with avg smape 10.19: \n",
            "Validation Round: 3\n",
            "Model Number: 1 of 197 with model Ensemble for Validation 3\n",
            "📈 1 - Ensemble with avg smape 1.48: \n",
            "Model Number: 2 of 197 with model ConstantNaive for Validation 3\n",
            "2 - ConstantNaive with avg smape 1.57: \n",
            "Model Number: 3 of 197 with model Ensemble for Validation 3\n",
            "3 - Ensemble with avg smape 1.53: \n",
            "Model Number: 4 of 197 with model Ensemble for Validation 3\n",
            "4 - Ensemble with avg smape 1.53: \n",
            "Model Number: 5 of 197 with model Ensemble for Validation 3\n",
            "5 - Ensemble with avg smape 1.53: \n",
            "Model Number: 6 of 197 with model Ensemble for Validation 3\n",
            "6 - Ensemble with avg smape 1.53: \n",
            "Model Number: 7 of 197 with model Ensemble for Validation 3\n",
            "7 - Ensemble with avg smape 1.52: \n",
            "Model Number: 8 of 197 with model UnobservedComponents for Validation 3\n",
            "8 - UnobservedComponents with avg smape 1.52: \n",
            "Model Number: 9 of 197 with model GLS for Validation 3\n",
            "9 - GLS with avg smape 1.52: \n",
            "Model Number: 10 of 197 with model UnobservedComponents for Validation 3\n",
            "📈 10 - UnobservedComponents with avg smape 1.46: \n",
            "Model Number: 11 of 197 with model ETS for Validation 3\n",
            "📈 11 - ETS with avg smape 1.45: \n",
            "Model Number: 12 of 197 with model UnobservedComponents for Validation 3\n",
            "12 - UnobservedComponents with avg smape 1.46: \n",
            "Model Number: 13 of 197 with model MetricMotif for Validation 3\n",
            "📈 13 - MetricMotif with avg smape 1.44: \n",
            "Model Number: 14 of 197 with model SeasonalityMotif for Validation 3\n"
          ]
        },
        {
          "output_type": "stream",
          "name": "stderr",
          "text": [
            "INFO:prophet:Disabling yearly seasonality. Run prophet with yearly_seasonality=True to override this.\n",
            "INFO:prophet:Disabling daily seasonality. Run prophet with daily_seasonality=True to override this.\n",
            "DEBUG:cmdstanpy:input tempfile: /tmp/tmpkpj4r36s/mdvk8eqz.json\n"
          ]
        },
        {
          "output_type": "stream",
          "name": "stdout",
          "text": [
            "📈 14 - SeasonalityMotif with avg smape 1.41: \n",
            "Model Number: 15 of 197 with model FBProphet for Validation 3\n"
          ]
        },
        {
          "output_type": "stream",
          "name": "stderr",
          "text": [
            "DEBUG:cmdstanpy:input tempfile: /tmp/tmpkpj4r36s/daaevoqu.json\n",
            "DEBUG:cmdstanpy:idx 0\n",
            "DEBUG:cmdstanpy:running CmdStan, num_threads: None\n",
            "DEBUG:cmdstanpy:CmdStan args: ['/usr/local/lib/python3.7/dist-packages/prophet/stan_model/prophet_model.bin', 'random', 'seed=27664', 'data', 'file=/tmp/tmpkpj4r36s/mdvk8eqz.json', 'init=/tmp/tmpkpj4r36s/daaevoqu.json', 'output', 'file=/tmp/tmpkpj4r36s/prophet_model96q9cd1e/prophet_model-20221121080331.csv', 'method=optimize', 'algorithm=lbfgs', 'iter=10000']\n",
            "08:03:31 - cmdstanpy - INFO - Chain [1] start processing\n",
            "INFO:cmdstanpy:Chain [1] start processing\n",
            "08:03:32 - cmdstanpy - INFO - Chain [1] done processing\n",
            "INFO:cmdstanpy:Chain [1] done processing\n"
          ]
        },
        {
          "output_type": "stream",
          "name": "stdout",
          "text": [
            "15 - FBProphet with avg smape 1.43: \n",
            "Model Number: 16 of 197 with model Ensemble for Validation 3\n"
          ]
        },
        {
          "output_type": "stream",
          "name": "stderr",
          "text": [
            "INFO:prophet:Disabling yearly seasonality. Run prophet with yearly_seasonality=True to override this.\n",
            "INFO:prophet:Disabling daily seasonality. Run prophet with daily_seasonality=True to override this.\n",
            "DEBUG:cmdstanpy:input tempfile: /tmp/tmpkpj4r36s/l4tuao42.json\n",
            "DEBUG:cmdstanpy:input tempfile: /tmp/tmpkpj4r36s/_dd0thc2.json\n",
            "DEBUG:cmdstanpy:idx 0\n",
            "DEBUG:cmdstanpy:running CmdStan, num_threads: None\n",
            "DEBUG:cmdstanpy:CmdStan args: ['/usr/local/lib/python3.7/dist-packages/prophet/stan_model/prophet_model.bin', 'random', 'seed=95751', 'data', 'file=/tmp/tmpkpj4r36s/l4tuao42.json', 'init=/tmp/tmpkpj4r36s/_dd0thc2.json', 'output', 'file=/tmp/tmpkpj4r36s/prophet_modelc0vme9jx/prophet_model-20221121080334.csv', 'method=optimize', 'algorithm=lbfgs', 'iter=10000']\n",
            "08:03:34 - cmdstanpy - INFO - Chain [1] start processing\n",
            "INFO:cmdstanpy:Chain [1] start processing\n",
            "08:03:35 - cmdstanpy - INFO - Chain [1] done processing\n",
            "INFO:cmdstanpy:Chain [1] done processing\n"
          ]
        },
        {
          "output_type": "stream",
          "name": "stdout",
          "text": [
            "16 - Ensemble with avg smape 2.29: \n",
            "Model Number: 17 of 197 with model SectionalMotif for Validation 3\n",
            "📈 17 - SectionalMotif with avg smape 1.37: \n",
            "Model Number: 18 of 197 with model WindowRegression for Validation 3\n",
            "18 - WindowRegression with avg smape 4.47: \n",
            "Model Number: 19 of 197 with model Theta for Validation 3\n",
            "📈 19 - Theta with avg smape 1.03: \n",
            "Model Number: 20 of 197 with model Ensemble for Validation 3\n"
          ]
        },
        {
          "output_type": "stream",
          "name": "stderr",
          "text": [
            "INFO:prophet:Disabling yearly seasonality. Run prophet with yearly_seasonality=True to override this.\n",
            "INFO:prophet:Disabling daily seasonality. Run prophet with daily_seasonality=True to override this.\n",
            "DEBUG:cmdstanpy:input tempfile: /tmp/tmpkpj4r36s/f06upt1j.json\n",
            "DEBUG:cmdstanpy:input tempfile: /tmp/tmpkpj4r36s/vdrlln23.json\n",
            "DEBUG:cmdstanpy:idx 0\n",
            "DEBUG:cmdstanpy:running CmdStan, num_threads: None\n",
            "DEBUG:cmdstanpy:CmdStan args: ['/usr/local/lib/python3.7/dist-packages/prophet/stan_model/prophet_model.bin', 'random', 'seed=93774', 'data', 'file=/tmp/tmpkpj4r36s/f06upt1j.json', 'init=/tmp/tmpkpj4r36s/vdrlln23.json', 'output', 'file=/tmp/tmpkpj4r36s/prophet_modelrawx32_5/prophet_model-20221121080336.csv', 'method=optimize', 'algorithm=lbfgs', 'iter=10000']\n",
            "08:03:36 - cmdstanpy - INFO - Chain [1] start processing\n",
            "INFO:cmdstanpy:Chain [1] start processing\n",
            "08:03:37 - cmdstanpy - INFO - Chain [1] done processing\n",
            "INFO:cmdstanpy:Chain [1] done processing\n"
          ]
        },
        {
          "output_type": "stream",
          "name": "stdout",
          "text": [
            "20 - Ensemble with avg smape 1.43: \n",
            "Model Number: 21 of 197 with model ETS for Validation 3\n",
            "ETS error ValueError('endog must be strictly positive when usingmultiplicative trend or seasonal components.')\n",
            "ETS failed on Close with ValueError('endog must be strictly positive when usingmultiplicative trend or seasonal components.')\n",
            "21 - ETS with avg smape 1.61: \n",
            "Model Number: 22 of 197 with model ETS for Validation 3\n",
            "ETS error ValueError('endog must be strictly positive when usingmultiplicative trend or seasonal components.')\n",
            "ETS failed on Close with ValueError('endog must be strictly positive when usingmultiplicative trend or seasonal components.')\n",
            "22 - ETS with avg smape 1.61: \n",
            "Model Number: 23 of 197 with model UnobservedComponents for Validation 3\n",
            "23 - UnobservedComponents with avg smape 1.5: \n",
            "Model Number: 24 of 197 with model NVAR for Validation 3\n",
            "24 - NVAR with avg smape 1.42: \n",
            "Model Number: 25 of 197 with model NVAR for Validation 3\n",
            "25 - NVAR with avg smape 1.42: \n",
            "Model Number: 26 of 197 with model ConstantNaive for Validation 3\n",
            "26 - ConstantNaive with avg smape 1.61: \n",
            "Model Number: 27 of 197 with model ConstantNaive for Validation 3\n",
            "27 - ConstantNaive with avg smape 1.61: \n",
            "Model Number: 28 of 197 with model ConstantNaive for Validation 3\n",
            "28 - ConstantNaive with avg smape 1.61: \n",
            "Model Number: 29 of 197 with model NVAR for Validation 3\n",
            "29 - NVAR with avg smape 1.3: \n",
            "Model Number: 30 of 197 with model NVAR for Validation 3\n",
            "30 - NVAR with avg smape 1.3: \n",
            "Model Number: 31 of 197 with model NVAR for Validation 3\n",
            "31 - NVAR with avg smape 1.3: \n",
            "Model Number: 32 of 197 with model NVAR for Validation 3\n",
            "32 - NVAR with avg smape 1.3: \n",
            "Model Number: 33 of 197 with model WindowRegression for Validation 3\n",
            "33 - WindowRegression with avg smape 1.15: \n",
            "Model Number: 34 of 197 with model UnobservedComponents for Validation 3\n",
            "34 - UnobservedComponents with avg smape 1.54: \n",
            "Model Number: 35 of 197 with model NVAR for Validation 3\n",
            "35 - NVAR with avg smape 1.27: \n",
            "Model Number: 36 of 197 with model NVAR for Validation 3\n",
            "36 - NVAR with avg smape 1.27: \n",
            "Model Number: 37 of 197 with model NVAR for Validation 3\n",
            "37 - NVAR with avg smape 1.27: \n",
            "Model Number: 38 of 197 with model UnobservedComponents for Validation 3\n",
            "38 - UnobservedComponents with avg smape 1.48: \n",
            "Model Number: 39 of 197 with model MetricMotif for Validation 3\n",
            "39 - MetricMotif with avg smape 1.38: \n",
            "Model Number: 40 of 197 with model ConstantNaive for Validation 3\n",
            "40 - ConstantNaive with avg smape 1.13: \n",
            "Model Number: 41 of 197 with model MetricMotif for Validation 3\n",
            "41 - MetricMotif with avg smape 1.25: \n",
            "Model Number: 42 of 197 with model UnobservedComponents for Validation 3\n",
            "42 - UnobservedComponents with avg smape 1.56: \n",
            "Model Number: 43 of 197 with model Theta for Validation 3\n",
            "43 - Theta with avg smape 1.12: \n",
            "Model Number: 44 of 197 with model ConstantNaive for Validation 3\n",
            "44 - ConstantNaive with avg smape 1.24: \n",
            "Model Number: 45 of 197 with model ConstantNaive for Validation 3\n",
            "45 - ConstantNaive with avg smape 1.24: \n",
            "Model Number: 46 of 197 with model ConstantNaive for Validation 3\n",
            "46 - ConstantNaive with avg smape 1.24: \n",
            "Model Number: 47 of 197 with model ConstantNaive for Validation 3\n",
            "47 - ConstantNaive with avg smape 1.24: \n",
            "Model Number: 48 of 197 with model Theta for Validation 3\n",
            "48 - Theta with avg smape 1.13: \n",
            "Model Number: 49 of 197 with model MetricMotif for Validation 3\n",
            "49 - MetricMotif with avg smape 1.11: \n",
            "Model Number: 50 of 197 with model MetricMotif for Validation 3\n",
            "50 - MetricMotif with avg smape 1.12: \n",
            "Model Number: 51 of 197 with model MetricMotif for Validation 3\n",
            "51 - MetricMotif with avg smape 1.12: \n",
            "Model Number: 52 of 197 with model MetricMotif for Validation 3\n",
            "52 - MetricMotif with avg smape 1.12: \n",
            "Model Number: 53 of 197 with model Theta for Validation 3\n",
            "53 - Theta with avg smape 1.14: \n",
            "Model Number: 54 of 197 with model Theta for Validation 3\n",
            "54 - Theta with avg smape 1.14: \n",
            "Model Number: 55 of 197 with model Theta for Validation 3\n",
            "55 - Theta with avg smape 1.15: \n",
            "Model Number: 56 of 197 with model MultivariateMotif for Validation 3\n",
            "📈 56 - MultivariateMotif with avg smape 0.98: \n",
            "Model Number: 57 of 197 with model ETS for Validation 3\n",
            "57 - ETS with avg smape 1.58: \n",
            "Model Number: 58 of 197 with model SectionalMotif for Validation 3\n",
            "58 - SectionalMotif with avg smape 1.71: \n",
            "Model Number: 59 of 197 with model MetricMotif for Validation 3\n",
            "59 - MetricMotif with avg smape 1.2: \n",
            "Model Number: 60 of 197 with model ETS for Validation 3\n",
            "60 - ETS with avg smape 1.38: \n",
            "Model Number: 61 of 197 with model MetricMotif for Validation 3\n",
            "61 - MetricMotif with avg smape 1.97: \n",
            "Model Number: 62 of 197 with model FBProphet for Validation 3\n"
          ]
        },
        {
          "output_type": "stream",
          "name": "stderr",
          "text": [
            "INFO:prophet:Disabling yearly seasonality. Run prophet with yearly_seasonality=True to override this.\n",
            "INFO:prophet:Disabling daily seasonality. Run prophet with daily_seasonality=True to override this.\n",
            "DEBUG:cmdstanpy:input tempfile: /tmp/tmpkpj4r36s/lp2yr9ir.json\n",
            "DEBUG:cmdstanpy:input tempfile: /tmp/tmpkpj4r36s/3amdqdnd.json\n",
            "DEBUG:cmdstanpy:idx 0\n",
            "DEBUG:cmdstanpy:running CmdStan, num_threads: None\n",
            "DEBUG:cmdstanpy:CmdStan args: ['/usr/local/lib/python3.7/dist-packages/prophet/stan_model/prophet_model.bin', 'random', 'seed=32597', 'data', 'file=/tmp/tmpkpj4r36s/lp2yr9ir.json', 'init=/tmp/tmpkpj4r36s/3amdqdnd.json', 'output', 'file=/tmp/tmpkpj4r36s/prophet_model5coelnhv/prophet_model-20221121080344.csv', 'method=optimize', 'algorithm=lbfgs', 'iter=10000']\n",
            "08:03:44 - cmdstanpy - INFO - Chain [1] start processing\n",
            "INFO:cmdstanpy:Chain [1] start processing\n",
            "08:03:44 - cmdstanpy - INFO - Chain [1] done processing\n",
            "INFO:cmdstanpy:Chain [1] done processing\n"
          ]
        },
        {
          "output_type": "stream",
          "name": "stdout",
          "text": [
            "📈 62 - FBProphet with avg smape 0.72: \n",
            "Model Number: 63 of 197 with model AverageValueNaive for Validation 3\n"
          ]
        },
        {
          "output_type": "stream",
          "name": "stderr",
          "text": [
            "INFO:prophet:Disabling yearly seasonality. Run prophet with yearly_seasonality=True to override this.\n",
            "INFO:prophet:Disabling daily seasonality. Run prophet with daily_seasonality=True to override this.\n",
            "DEBUG:cmdstanpy:input tempfile: /tmp/tmpkpj4r36s/pet88okq.json\n",
            "DEBUG:cmdstanpy:input tempfile: /tmp/tmpkpj4r36s/m12_dwc5.json\n",
            "DEBUG:cmdstanpy:idx 0\n",
            "DEBUG:cmdstanpy:running CmdStan, num_threads: None\n",
            "DEBUG:cmdstanpy:CmdStan args: ['/usr/local/lib/python3.7/dist-packages/prophet/stan_model/prophet_model.bin', 'random', 'seed=94471', 'data', 'file=/tmp/tmpkpj4r36s/pet88okq.json', 'init=/tmp/tmpkpj4r36s/m12_dwc5.json', 'output', 'file=/tmp/tmpkpj4r36s/prophet_modelxdcy3j5a/prophet_model-20221121080345.csv', 'method=optimize', 'algorithm=lbfgs', 'iter=10000']\n"
          ]
        },
        {
          "output_type": "stream",
          "name": "stdout",
          "text": [
            "63 - AverageValueNaive with avg smape 1.14: \n",
            "Model Number: 64 of 197 with model FBProphet for Validation 3\n",
            "No anomalies detected.\n"
          ]
        },
        {
          "output_type": "stream",
          "name": "stderr",
          "text": [
            "08:03:45 - cmdstanpy - INFO - Chain [1] start processing\n",
            "INFO:cmdstanpy:Chain [1] start processing\n",
            "08:03:45 - cmdstanpy - INFO - Chain [1] done processing\n",
            "INFO:cmdstanpy:Chain [1] done processing\n"
          ]
        },
        {
          "output_type": "stream",
          "name": "stdout",
          "text": [
            "64 - FBProphet with avg smape 1.06: \n",
            "Model Number: 65 of 197 with model LastValueNaive for Validation 3\n",
            "65 - LastValueNaive with avg smape 0.99: \n",
            "Model Number: 66 of 197 with model SeasonalityMotif for Validation 3\n",
            "66 - SeasonalityMotif with avg smape 5.95: \n",
            "Model Number: 67 of 197 with model WindowRegression for Validation 3\n",
            "67 - WindowRegression with avg smape 1.24: \n",
            "Model Number: 68 of 197 with model ETS for Validation 3\n",
            "68 - ETS with avg smape 1.02: \n",
            "Model Number: 69 of 197 with model MultivariateRegression for Validation 3\n"
          ]
        },
        {
          "output_type": "stream",
          "name": "stderr",
          "text": [
            "/usr/local/lib/python3.7/dist-packages/autots/tools/probabilistic.py:67: RuntimeWarning: invalid value encountered in true_divide\n",
            "  (prior_mu / prior_sigma**2) + ((n * data_mu) / prior_sigma**2)\n",
            "/usr/local/lib/python3.7/dist-packages/autots/tools/probabilistic.py:68: RuntimeWarning: divide by zero encountered in true_divide\n",
            "  ) / ((1 / prior_sigma**2) + (n / prior_sigma**2))\n",
            "/usr/local/lib/python3.7/dist-packages/sklearn/linear_model/_ridge.py:157: LinAlgWarning: Ill-conditioned matrix (rcond=2.4041e-25): result may not be accurate.\n",
            "  return linalg.solve(A, Xy, sym_pos=True, overwrite_a=True).T\n",
            "[Parallel(n_jobs=-2)]: Using backend SequentialBackend with 1 concurrent workers.\n",
            "[Parallel(n_jobs=-2)]: Done 200 out of 200 | elapsed:    0.5s finished\n",
            "[Parallel(n_jobs=1)]: Using backend SequentialBackend with 1 concurrent workers.\n",
            "[Parallel(n_jobs=1)]: Done 200 out of 200 | elapsed:    0.0s finished\n",
            "[Parallel(n_jobs=1)]: Using backend SequentialBackend with 1 concurrent workers.\n",
            "[Parallel(n_jobs=1)]: Done 200 out of 200 | elapsed:    0.0s finished\n",
            "[Parallel(n_jobs=1)]: Using backend SequentialBackend with 1 concurrent workers.\n",
            "[Parallel(n_jobs=1)]: Done 200 out of 200 | elapsed:    0.0s finished\n"
          ]
        },
        {
          "output_type": "stream",
          "name": "stdout",
          "text": [
            "69 - MultivariateRegression with avg smape 1.1: \n",
            "Model Number: 70 of 197 with model MultivariateRegression for Validation 3\n"
          ]
        },
        {
          "output_type": "stream",
          "name": "stderr",
          "text": [
            "[Parallel(n_jobs=-2)]: Using backend SequentialBackend with 1 concurrent workers.\n",
            "[Parallel(n_jobs=-2)]: Done 200 out of 200 | elapsed:    0.4s finished\n",
            "[Parallel(n_jobs=1)]: Using backend SequentialBackend with 1 concurrent workers.\n",
            "[Parallel(n_jobs=1)]: Done 200 out of 200 | elapsed:    0.0s finished\n",
            "[Parallel(n_jobs=1)]: Using backend SequentialBackend with 1 concurrent workers.\n",
            "[Parallel(n_jobs=1)]: Done 200 out of 200 | elapsed:    0.0s finished\n",
            "[Parallel(n_jobs=1)]: Using backend SequentialBackend with 1 concurrent workers.\n",
            "[Parallel(n_jobs=1)]: Done 200 out of 200 | elapsed:    0.0s finished\n"
          ]
        },
        {
          "output_type": "stream",
          "name": "stdout",
          "text": [
            "📈 70 - MultivariateRegression with avg smape 0.26: \n",
            "Model Number: 71 of 197 with model DatepartRegression for Validation 3\n",
            "71 - DatepartRegression with avg smape 1.18: \n",
            "Model Number: 72 of 197 with model GLS for Validation 3\n",
            "72 - GLS with avg smape 1.14: \n",
            "Model Number: 73 of 197 with model MultivariateMotif for Validation 3\n",
            "73 - MultivariateMotif with avg smape 0.96: \n",
            "Model Number: 74 of 197 with model SectionalMotif for Validation 3\n",
            "74 - SectionalMotif with avg smape 1.01: \n",
            "Model Number: 75 of 197 with model ETS for Validation 3\n",
            "ETS error ValueError('endog must be strictly positive when usingmultiplicative trend or seasonal components.')\n",
            "ETS failed on Close with ValueError('endog must be strictly positive when usingmultiplicative trend or seasonal components.')\n",
            "75 - ETS with avg smape 1.24: \n",
            "Model Number: 76 of 197 with model ETS for Validation 3\n",
            "ETS error ValueError('Can only dampen the trend component')\n",
            "ETS failed on Close with ValueError('Can only dampen the trend component')\n",
            "76 - ETS with avg smape 1.24: \n",
            "Model Number: 77 of 197 with model SectionalMotif for Validation 3\n",
            "77 - SectionalMotif with avg smape 1.09: \n",
            "Model Number: 78 of 197 with model UnivariateMotif for Validation 3\n",
            "78 - UnivariateMotif with avg smape 1.52: \n",
            "Model Number: 79 of 197 with model UnobservedComponents for Validation 3\n",
            "79 - UnobservedComponents with avg smape 1.01: \n",
            "Model Number: 80 of 197 with model UnobservedComponents for Validation 3\n",
            "80 - UnobservedComponents with avg smape 1.01: \n",
            "Model Number: 81 of 197 with model Theta for Validation 3\n",
            "81 - Theta with avg smape 1.04: \n",
            "Model Number: 82 of 197 with model UnivariateRegression for Validation 3\n",
            "82 - UnivariateRegression with avg smape 0.83: \n",
            "Model Number: 83 of 197 with model FBProphet for Validation 3\n",
            "No anomalies detected.\n"
          ]
        },
        {
          "output_type": "stream",
          "name": "stderr",
          "text": [
            "INFO:prophet:Disabling yearly seasonality. Run prophet with yearly_seasonality=True to override this.\n",
            "INFO:prophet:Disabling daily seasonality. Run prophet with daily_seasonality=True to override this.\n",
            "DEBUG:cmdstanpy:input tempfile: /tmp/tmpkpj4r36s/3wwdw8ei.json\n",
            "DEBUG:cmdstanpy:input tempfile: /tmp/tmpkpj4r36s/h6iukd5v.json\n",
            "DEBUG:cmdstanpy:idx 0\n",
            "DEBUG:cmdstanpy:running CmdStan, num_threads: None\n",
            "DEBUG:cmdstanpy:CmdStan args: ['/usr/local/lib/python3.7/dist-packages/prophet/stan_model/prophet_model.bin', 'random', 'seed=62086', 'data', 'file=/tmp/tmpkpj4r36s/3wwdw8ei.json', 'init=/tmp/tmpkpj4r36s/h6iukd5v.json', 'output', 'file=/tmp/tmpkpj4r36s/prophet_modelqkz0gvni/prophet_model-20221121080349.csv', 'method=optimize', 'algorithm=lbfgs', 'iter=10000']\n",
            "08:03:49 - cmdstanpy - INFO - Chain [1] start processing\n",
            "INFO:cmdstanpy:Chain [1] start processing\n",
            "08:03:50 - cmdstanpy - INFO - Chain [1] done processing\n",
            "INFO:cmdstanpy:Chain [1] done processing\n"
          ]
        },
        {
          "output_type": "stream",
          "name": "stdout",
          "text": [
            "83 - FBProphet with avg smape 0.87: \n",
            "Model Number: 84 of 197 with model ETS for Validation 3\n",
            "84 - ETS with avg smape 0.78: \n",
            "Model Number: 85 of 197 with model LastValueNaive for Validation 3\n",
            "85 - LastValueNaive with avg smape 0.97: \n",
            "Model Number: 86 of 197 with model SectionalMotif for Validation 3\n",
            "86 - SectionalMotif with avg smape 1.28: \n",
            "Model Number: 87 of 197 with model Theta for Validation 3\n",
            "87 - Theta with avg smape 0.91: \n",
            "Model Number: 88 of 197 with model Theta for Validation 3\n",
            "88 - Theta with avg smape 0.91: \n",
            "Model Number: 89 of 197 with model GLS for Validation 3\n",
            "89 - GLS with avg smape 1.08: \n",
            "Model Number: 90 of 197 with model ARIMA for Validation 3\n",
            "90 - ARIMA with avg smape 1.14: \n",
            "Model Number: 91 of 197 with model AverageValueNaive for Validation 3\n",
            "91 - AverageValueNaive with avg smape 0.99: \n",
            "Model Number: 92 of 197 with model UnivariateMotif for Validation 3\n",
            "92 - UnivariateMotif with avg smape 1.77: \n",
            "Model Number: 93 of 197 with model AverageValueNaive for Validation 3\n",
            "93 - AverageValueNaive with avg smape 1.15: \n",
            "Model Number: 94 of 197 with model LastValueNaive for Validation 3\n",
            "94 - LastValueNaive with avg smape 1.12: \n",
            "Model Number: 95 of 197 with model LastValueNaive for Validation 3\n",
            "95 - LastValueNaive with avg smape 1.15: \n",
            "Model Number: 96 of 197 with model LastValueNaive for Validation 3\n",
            "96 - LastValueNaive with avg smape 1.12: \n",
            "Model Number: 97 of 197 with model LastValueNaive for Validation 3\n",
            "97 - LastValueNaive with avg smape 1.15: \n",
            "Model Number: 98 of 197 with model LastValueNaive for Validation 3\n",
            "98 - LastValueNaive with avg smape 1.24: \n",
            "Model Number: 99 of 197 with model LastValueNaive for Validation 3\n",
            "99 - LastValueNaive with avg smape 1.15: \n",
            "Model Number: 100 of 197 with model LastValueNaive for Validation 3\n",
            "100 - LastValueNaive with avg smape 1.16: \n",
            "Model Number: 101 of 197 with model DatepartRegression for Validation 3\n",
            "101 - DatepartRegression with avg smape 4.73: \n",
            "Model Number: 102 of 197 with model DatepartRegression for Validation 3\n",
            "102 - DatepartRegression with avg smape 1.28: \n",
            "Model Number: 103 of 197 with model SeasonalityMotif for Validation 3\n",
            "103 - SeasonalityMotif with avg smape 6.21: \n",
            "Model Number: 104 of 197 with model DatepartRegression for Validation 3\n",
            "104 - DatepartRegression with avg smape 1.28: \n",
            "Model Number: 105 of 197 with model DatepartRegression for Validation 3\n",
            "105 - DatepartRegression with avg smape 5.54: \n",
            "Model Number: 106 of 197 with model DatepartRegression for Validation 3\n",
            "106 - DatepartRegression with avg smape 1.24: \n",
            "Model Number: 107 of 197 with model MultivariateRegression for Validation 3\n"
          ]
        },
        {
          "output_type": "stream",
          "name": "stderr",
          "text": [
            "[Parallel(n_jobs=-2)]: Using backend SequentialBackend with 1 concurrent workers.\n",
            "[Parallel(n_jobs=-2)]: Done 200 out of 200 | elapsed:    0.5s finished\n",
            "[Parallel(n_jobs=1)]: Using backend SequentialBackend with 1 concurrent workers.\n",
            "[Parallel(n_jobs=1)]: Done 200 out of 200 | elapsed:    0.0s finished\n",
            "[Parallel(n_jobs=1)]: Using backend SequentialBackend with 1 concurrent workers.\n",
            "[Parallel(n_jobs=1)]: Done 200 out of 200 | elapsed:    0.0s finished\n",
            "[Parallel(n_jobs=1)]: Using backend SequentialBackend with 1 concurrent workers.\n",
            "[Parallel(n_jobs=1)]: Done 200 out of 200 | elapsed:    0.0s finished\n"
          ]
        },
        {
          "output_type": "stream",
          "name": "stdout",
          "text": [
            "107 - MultivariateRegression with avg smape 1.32: \n",
            "Model Number: 108 of 197 with model GLS for Validation 3\n",
            "108 - GLS with avg smape 1.02: \n",
            "Model Number: 109 of 197 with model UnivariateMotif for Validation 3\n",
            "109 - UnivariateMotif with avg smape 0.7: \n",
            "Model Number: 110 of 197 with model ARIMA for Validation 3\n",
            "110 - ARIMA with avg smape 1.12: \n",
            "Model Number: 111 of 197 with model ARIMA for Validation 3\n",
            "111 - ARIMA with avg smape 1.05: \n",
            "Model Number: 112 of 197 with model WindowRegression for Validation 3\n",
            "112 - WindowRegression with avg smape 0.78: \n",
            "Model Number: 113 of 197 with model ARIMA for Validation 3\n",
            "113 - ARIMA with avg smape 0.8: \n",
            "Model Number: 114 of 197 with model SectionalMotif for Validation 3\n",
            "114 - SectionalMotif with avg smape 2.75: \n",
            "Model Number: 115 of 197 with model MultivariateMotif for Validation 3\n",
            "115 - MultivariateMotif with avg smape 1.47: \n",
            "Model Number: 116 of 197 with model MultivariateRegression for Validation 3\n"
          ]
        },
        {
          "output_type": "stream",
          "name": "stderr",
          "text": [
            "[Parallel(n_jobs=-2)]: Using backend SequentialBackend with 1 concurrent workers.\n",
            "[Parallel(n_jobs=-2)]: Done 200 out of 200 | elapsed:    0.5s finished\n",
            "[Parallel(n_jobs=1)]: Using backend SequentialBackend with 1 concurrent workers.\n",
            "[Parallel(n_jobs=1)]: Done 200 out of 200 | elapsed:    0.0s finished\n",
            "[Parallel(n_jobs=1)]: Using backend SequentialBackend with 1 concurrent workers.\n",
            "[Parallel(n_jobs=1)]: Done 200 out of 200 | elapsed:    0.0s finished\n",
            "[Parallel(n_jobs=1)]: Using backend SequentialBackend with 1 concurrent workers.\n",
            "[Parallel(n_jobs=1)]: Done 200 out of 200 | elapsed:    0.0s finished\n"
          ]
        },
        {
          "output_type": "stream",
          "name": "stdout",
          "text": [
            "116 - MultivariateRegression with avg smape 1.23: \n",
            "Model Number: 117 of 197 with model WindowRegression for Validation 3\n"
          ]
        },
        {
          "output_type": "stream",
          "name": "stderr",
          "text": [
            "/usr/local/lib/python3.7/dist-packages/sklearn/neural_network/_multilayer_perceptron.py:549: ConvergenceWarning: lbfgs failed to converge (status=1):\n",
            "STOP: TOTAL NO. of ITERATIONS REACHED LIMIT.\n",
            "\n",
            "Increase the number of iterations (max_iter) or scale the data as shown in:\n",
            "    https://scikit-learn.org/stable/modules/preprocessing.html\n",
            "  self.n_iter_ = _check_optimize_result(\"lbfgs\", opt_res, self.max_iter)\n",
            "[Parallel(n_jobs=-2)]: Using backend SequentialBackend with 1 concurrent workers.\n"
          ]
        },
        {
          "output_type": "stream",
          "name": "stdout",
          "text": [
            "117 - WindowRegression with avg smape 4.48: \n",
            "Model Number: 118 of 197 with model MultivariateRegression for Validation 3\n"
          ]
        },
        {
          "output_type": "stream",
          "name": "stderr",
          "text": [
            "[Parallel(n_jobs=-2)]: Done 200 out of 200 | elapsed:    0.5s finished\n",
            "[Parallel(n_jobs=1)]: Using backend SequentialBackend with 1 concurrent workers.\n",
            "[Parallel(n_jobs=1)]: Done 200 out of 200 | elapsed:    0.0s finished\n",
            "[Parallel(n_jobs=1)]: Using backend SequentialBackend with 1 concurrent workers.\n",
            "[Parallel(n_jobs=1)]: Done 200 out of 200 | elapsed:    0.0s finished\n",
            "[Parallel(n_jobs=1)]: Using backend SequentialBackend with 1 concurrent workers.\n",
            "[Parallel(n_jobs=1)]: Done 200 out of 200 | elapsed:    0.0s finished\n"
          ]
        },
        {
          "output_type": "stream",
          "name": "stdout",
          "text": [
            "118 - MultivariateRegression with avg smape 0.65: \n",
            "Model Number: 119 of 197 with model MultivariateRegression for Validation 3\n"
          ]
        },
        {
          "output_type": "stream",
          "name": "stderr",
          "text": [
            "[Parallel(n_jobs=-2)]: Using backend SequentialBackend with 1 concurrent workers.\n",
            "[Parallel(n_jobs=-2)]: Done 200 out of 200 | elapsed:    0.5s finished\n",
            "[Parallel(n_jobs=1)]: Using backend SequentialBackend with 1 concurrent workers.\n",
            "[Parallel(n_jobs=1)]: Done 200 out of 200 | elapsed:    0.0s finished\n",
            "[Parallel(n_jobs=1)]: Using backend SequentialBackend with 1 concurrent workers.\n",
            "[Parallel(n_jobs=1)]: Done 200 out of 200 | elapsed:    0.0s finished\n",
            "[Parallel(n_jobs=1)]: Using backend SequentialBackend with 1 concurrent workers.\n",
            "[Parallel(n_jobs=1)]: Done 200 out of 200 | elapsed:    0.0s finished\n"
          ]
        },
        {
          "output_type": "stream",
          "name": "stdout",
          "text": [
            "119 - MultivariateRegression with avg smape 1.04: \n",
            "Model Number: 120 of 197 with model MultivariateRegression for Validation 3\n"
          ]
        },
        {
          "output_type": "stream",
          "name": "stderr",
          "text": [
            "[Parallel(n_jobs=-2)]: Using backend SequentialBackend with 1 concurrent workers.\n",
            "[Parallel(n_jobs=-2)]: Done 200 out of 200 | elapsed:    0.6s finished\n",
            "[Parallel(n_jobs=1)]: Using backend SequentialBackend with 1 concurrent workers.\n",
            "[Parallel(n_jobs=1)]: Done 200 out of 200 | elapsed:    0.0s finished\n",
            "[Parallel(n_jobs=1)]: Using backend SequentialBackend with 1 concurrent workers.\n",
            "[Parallel(n_jobs=1)]: Done 200 out of 200 | elapsed:    0.0s finished\n",
            "[Parallel(n_jobs=1)]: Using backend SequentialBackend with 1 concurrent workers.\n",
            "[Parallel(n_jobs=1)]: Done 200 out of 200 | elapsed:    0.0s finished\n"
          ]
        },
        {
          "output_type": "stream",
          "name": "stdout",
          "text": [
            "120 - MultivariateRegression with avg smape 1.15: \n",
            "Model Number: 121 of 197 with model MultivariateRegression for Validation 3\n"
          ]
        },
        {
          "output_type": "stream",
          "name": "stderr",
          "text": [
            "[Parallel(n_jobs=-2)]: Using backend SequentialBackend with 1 concurrent workers.\n",
            "[Parallel(n_jobs=-2)]: Done 200 out of 200 | elapsed:    0.5s finished\n",
            "[Parallel(n_jobs=1)]: Using backend SequentialBackend with 1 concurrent workers.\n",
            "[Parallel(n_jobs=1)]: Done 200 out of 200 | elapsed:    0.0s finished\n",
            "[Parallel(n_jobs=1)]: Using backend SequentialBackend with 1 concurrent workers.\n",
            "[Parallel(n_jobs=1)]: Done 200 out of 200 | elapsed:    0.0s finished\n",
            "[Parallel(n_jobs=1)]: Using backend SequentialBackend with 1 concurrent workers.\n",
            "[Parallel(n_jobs=1)]: Done 200 out of 200 | elapsed:    0.0s finished\n"
          ]
        },
        {
          "output_type": "stream",
          "name": "stdout",
          "text": [
            "121 - MultivariateRegression with avg smape 1.19: \n",
            "Model Number: 122 of 197 with model MultivariateRegression for Validation 3\n",
            "122 - MultivariateRegression with avg smape 1.08: \n",
            "Model Number: 123 of 197 with model WindowRegression for Validation 3\n",
            "123 - WindowRegression with avg smape 1.22: \n",
            "Model Number: 124 of 197 with model ARIMA for Validation 3\n",
            "124 - ARIMA with avg smape 1.01: \n",
            "Model Number: 125 of 197 with model ARIMA for Validation 3\n",
            "125 - ARIMA with avg smape 1.06: \n",
            "Model Number: 126 of 197 with model UnivariateRegression for Validation 3\n",
            "126 - UnivariateRegression with avg smape 1.43: \n",
            "Model Number: 127 of 197 with model WindowRegression for Validation 3\n",
            "127 - WindowRegression with avg smape 3.62: \n",
            "Model Number: 128 of 197 with model ARIMA for Validation 3\n",
            "128 - ARIMA with avg smape 1.1: \n",
            "Model Number: 129 of 197 with model GLS for Validation 3\n",
            "129 - GLS with avg smape 1.02: \n",
            "Model Number: 130 of 197 with model DatepartRegression for Validation 3\n",
            "130 - DatepartRegression with avg smape 0.76: \n",
            "Model Number: 131 of 197 with model AverageValueNaive for Validation 3\n",
            "131 - AverageValueNaive with avg smape 1.14: \n",
            "Model Number: 132 of 197 with model WindowRegression for Validation 3\n",
            "132 - WindowRegression with avg smape 1.17: \n",
            "Model Number: 133 of 197 with model ARIMA for Validation 3\n"
          ]
        },
        {
          "output_type": "stream",
          "name": "stderr",
          "text": [
            "INFO:prophet:Disabling yearly seasonality. Run prophet with yearly_seasonality=True to override this.\n",
            "INFO:prophet:Disabling daily seasonality. Run prophet with daily_seasonality=True to override this.\n",
            "DEBUG:cmdstanpy:input tempfile: /tmp/tmpkpj4r36s/rib0wz53.json\n",
            "DEBUG:cmdstanpy:input tempfile: /tmp/tmpkpj4r36s/dj31_pmx.json\n",
            "DEBUG:cmdstanpy:idx 0\n",
            "DEBUG:cmdstanpy:running CmdStan, num_threads: None\n",
            "DEBUG:cmdstanpy:CmdStan args: ['/usr/local/lib/python3.7/dist-packages/prophet/stan_model/prophet_model.bin', 'random', 'seed=5294', 'data', 'file=/tmp/tmpkpj4r36s/rib0wz53.json', 'init=/tmp/tmpkpj4r36s/dj31_pmx.json', 'output', 'file=/tmp/tmpkpj4r36s/prophet_modelgsl4htym/prophet_model-20221121080448.csv', 'method=optimize', 'algorithm=lbfgs', 'iter=10000']\n",
            "08:04:48 - cmdstanpy - INFO - Chain [1] start processing\n",
            "INFO:cmdstanpy:Chain [1] start processing\n"
          ]
        },
        {
          "output_type": "stream",
          "name": "stdout",
          "text": [
            "133 - ARIMA with avg smape 1.16: \n",
            "Model Number: 134 of 197 with model FBProphet for Validation 3\n"
          ]
        },
        {
          "output_type": "stream",
          "name": "stderr",
          "text": [
            "08:04:49 - cmdstanpy - INFO - Chain [1] done processing\n",
            "INFO:cmdstanpy:Chain [1] done processing\n"
          ]
        },
        {
          "output_type": "stream",
          "name": "stdout",
          "text": [
            "134 - FBProphet with avg smape 3.12: \n",
            "Model Number: 135 of 197 with model SectionalMotif for Validation 3\n",
            "135 - SectionalMotif with avg smape 2.9: \n",
            "Model Number: 136 of 197 with model SectionalMotif for Validation 3\n",
            "136 - SectionalMotif with avg smape 3.63: \n",
            "Model Number: 137 of 197 with model SectionalMotif for Validation 3\n",
            "137 - SectionalMotif with avg smape 1.94: \n",
            "Model Number: 138 of 197 with model FBProphet for Validation 3\n"
          ]
        },
        {
          "output_type": "stream",
          "name": "stderr",
          "text": [
            "INFO:prophet:Disabling yearly seasonality. Run prophet with yearly_seasonality=True to override this.\n",
            "INFO:prophet:Disabling daily seasonality. Run prophet with daily_seasonality=True to override this.\n",
            "DEBUG:cmdstanpy:input tempfile: /tmp/tmpkpj4r36s/7orhpl4c.json\n",
            "DEBUG:cmdstanpy:input tempfile: /tmp/tmpkpj4r36s/wp28gaa_.json\n",
            "DEBUG:cmdstanpy:idx 0\n",
            "DEBUG:cmdstanpy:running CmdStan, num_threads: None\n",
            "DEBUG:cmdstanpy:CmdStan args: ['/usr/local/lib/python3.7/dist-packages/prophet/stan_model/prophet_model.bin', 'random', 'seed=18166', 'data', 'file=/tmp/tmpkpj4r36s/7orhpl4c.json', 'init=/tmp/tmpkpj4r36s/wp28gaa_.json', 'output', 'file=/tmp/tmpkpj4r36s/prophet_model_183xgm9/prophet_model-20221121080450.csv', 'method=optimize', 'algorithm=lbfgs', 'iter=10000']\n",
            "08:04:50 - cmdstanpy - INFO - Chain [1] start processing\n",
            "INFO:cmdstanpy:Chain [1] start processing\n",
            "08:04:50 - cmdstanpy - INFO - Chain [1] done processing\n",
            "INFO:cmdstanpy:Chain [1] done processing\n"
          ]
        },
        {
          "output_type": "stream",
          "name": "stdout",
          "text": [
            "138 - FBProphet with avg smape 1.7: \n",
            "Model Number: 139 of 197 with model WindowRegression for Validation 3\n"
          ]
        },
        {
          "output_type": "stream",
          "name": "stderr",
          "text": [
            "[Parallel(n_jobs=-2)]: Using backend SequentialBackend with 1 concurrent workers.\n"
          ]
        },
        {
          "output_type": "stream",
          "name": "stdout",
          "text": [
            "139 - WindowRegression with avg smape 1.12: \n",
            "Model Number: 140 of 197 with model AverageValueNaive for Validation 3\n"
          ]
        },
        {
          "output_type": "stream",
          "name": "stderr",
          "text": [
            "[Parallel(n_jobs=-2)]: Done 300 out of 300 | elapsed:    0.7s finished\n",
            "[Parallel(n_jobs=1)]: Using backend SequentialBackend with 1 concurrent workers.\n",
            "[Parallel(n_jobs=1)]: Done 300 out of 300 | elapsed:    0.0s finished\n",
            "[Parallel(n_jobs=1)]: Using backend SequentialBackend with 1 concurrent workers.\n",
            "[Parallel(n_jobs=1)]: Done 300 out of 300 | elapsed:    0.0s finished\n",
            "[Parallel(n_jobs=1)]: Using backend SequentialBackend with 1 concurrent workers.\n",
            "[Parallel(n_jobs=1)]: Done 300 out of 300 | elapsed:    0.0s finished\n"
          ]
        },
        {
          "output_type": "stream",
          "name": "stdout",
          "text": [
            "140 - AverageValueNaive with avg smape 1.11: \n",
            "Model Number: 141 of 197 with model ARIMA for Validation 3\n",
            "141 - ARIMA with avg smape 1.26: \n",
            "Model Number: 142 of 197 with model DatepartRegression for Validation 3\n"
          ]
        },
        {
          "output_type": "stream",
          "name": "stderr",
          "text": [
            "[Parallel(n_jobs=-2)]: Using backend SequentialBackend with 1 concurrent workers.\n"
          ]
        },
        {
          "output_type": "stream",
          "name": "stdout",
          "text": [
            "142 - DatepartRegression with avg smape 1.16: \n",
            "Model Number: 143 of 197 with model UnivariateMotif for Validation 3\n"
          ]
        },
        {
          "output_type": "stream",
          "name": "stderr",
          "text": [
            "[Parallel(n_jobs=-2)]: Done 100 out of 100 | elapsed:    0.2s finished\n",
            "[Parallel(n_jobs=1)]: Using backend SequentialBackend with 1 concurrent workers.\n",
            "[Parallel(n_jobs=1)]: Done 100 out of 100 | elapsed:    0.0s finished\n"
          ]
        },
        {
          "output_type": "stream",
          "name": "stdout",
          "text": [
            "143 - UnivariateMotif with avg smape 3.69: \n",
            "Model Number: 144 of 197 with model UnivariateMotif for Validation 3\n",
            "144 - UnivariateMotif with avg smape 1.39: \n",
            "Model Number: 145 of 197 with model AverageValueNaive for Validation 3\n",
            "145 - AverageValueNaive with avg smape 0.98: \n"
          ]
        },
        {
          "output_type": "stream",
          "name": "stderr",
          "text": [
            "INFO:prophet:Disabling yearly seasonality. Run prophet with yearly_seasonality=True to override this.\n",
            "INFO:prophet:Disabling daily seasonality. Run prophet with daily_seasonality=True to override this.\n",
            "DEBUG:cmdstanpy:input tempfile: /tmp/tmpkpj4r36s/_u5hofkh.json\n",
            "DEBUG:cmdstanpy:input tempfile: /tmp/tmpkpj4r36s/tu38qfc5.json\n",
            "DEBUG:cmdstanpy:idx 0\n",
            "DEBUG:cmdstanpy:running CmdStan, num_threads: None\n",
            "DEBUG:cmdstanpy:CmdStan args: ['/usr/local/lib/python3.7/dist-packages/prophet/stan_model/prophet_model.bin', 'random', 'seed=18344', 'data', 'file=/tmp/tmpkpj4r36s/_u5hofkh.json', 'init=/tmp/tmpkpj4r36s/tu38qfc5.json', 'output', 'file=/tmp/tmpkpj4r36s/prophet_model9of_2krn/prophet_model-20221121080453.csv', 'method=optimize', 'algorithm=lbfgs', 'iter=10000']\n",
            "08:04:53 - cmdstanpy - INFO - Chain [1] start processing\n",
            "INFO:cmdstanpy:Chain [1] start processing\n"
          ]
        },
        {
          "output_type": "stream",
          "name": "stdout",
          "text": [
            "Model Number: 146 of 197 with model FBProphet for Validation 3\n"
          ]
        },
        {
          "output_type": "stream",
          "name": "stderr",
          "text": [
            "08:04:53 - cmdstanpy - INFO - Chain [1] done processing\n",
            "INFO:cmdstanpy:Chain [1] done processing\n"
          ]
        },
        {
          "output_type": "stream",
          "name": "stdout",
          "text": [
            "146 - FBProphet with avg smape 1.09: \n",
            "Model Number: 147 of 197 with model DatepartRegression for Validation 3\n",
            "147 - DatepartRegression with avg smape 12.58: \n",
            "Model Number: 148 of 197 with model MultivariateMotif for Validation 3\n",
            "148 - MultivariateMotif with avg smape 1.32: \n"
          ]
        },
        {
          "output_type": "stream",
          "name": "stderr",
          "text": [
            "/usr/local/lib/python3.7/dist-packages/sklearn/base.py:451: UserWarning: X does not have valid feature names, but MLPRegressor was fitted with feature names\n",
            "  \"X does not have valid feature names, but\"\n",
            "/usr/local/lib/python3.7/dist-packages/sklearn/base.py:451: UserWarning: X does not have valid feature names, but MLPRegressor was fitted with feature names\n",
            "  \"X does not have valid feature names, but\"\n",
            "/usr/local/lib/python3.7/dist-packages/sklearn/base.py:451: UserWarning: X does not have valid feature names, but MLPRegressor was fitted with feature names\n",
            "  \"X does not have valid feature names, but\"\n",
            "/usr/local/lib/python3.7/dist-packages/sklearn/base.py:451: UserWarning: X does not have valid feature names, but MLPRegressor was fitted with feature names\n",
            "  \"X does not have valid feature names, but\"\n",
            "/usr/local/lib/python3.7/dist-packages/sklearn/base.py:451: UserWarning: X does not have valid feature names, but MLPRegressor was fitted with feature names\n",
            "  \"X does not have valid feature names, but\"\n",
            "/usr/local/lib/python3.7/dist-packages/sklearn/base.py:451: UserWarning: X does not have valid feature names, but MLPRegressor was fitted with feature names\n",
            "  \"X does not have valid feature names, but\"\n",
            "/usr/local/lib/python3.7/dist-packages/sklearn/base.py:451: UserWarning: X does not have valid feature names, but MLPRegressor was fitted with feature names\n",
            "  \"X does not have valid feature names, but\"\n",
            "/usr/local/lib/python3.7/dist-packages/sklearn/base.py:451: UserWarning: X does not have valid feature names, but MLPRegressor was fitted with feature names\n",
            "  \"X does not have valid feature names, but\"\n",
            "/usr/local/lib/python3.7/dist-packages/sklearn/base.py:451: UserWarning: X does not have valid feature names, but MLPRegressor was fitted with feature names\n",
            "  \"X does not have valid feature names, but\"\n",
            "/usr/local/lib/python3.7/dist-packages/sklearn/base.py:451: UserWarning: X does not have valid feature names, but MLPRegressor was fitted with feature names\n",
            "  \"X does not have valid feature names, but\"\n",
            "/usr/local/lib/python3.7/dist-packages/sklearn/base.py:451: UserWarning: X does not have valid feature names, but MLPRegressor was fitted with feature names\n",
            "  \"X does not have valid feature names, but\"\n",
            "/usr/local/lib/python3.7/dist-packages/sklearn/base.py:451: UserWarning: X does not have valid feature names, but MLPRegressor was fitted with feature names\n",
            "  \"X does not have valid feature names, but\"\n",
            "/usr/local/lib/python3.7/dist-packages/sklearn/base.py:451: UserWarning: X does not have valid feature names, but MLPRegressor was fitted with feature names\n",
            "  \"X does not have valid feature names, but\"\n",
            "/usr/local/lib/python3.7/dist-packages/sklearn/base.py:451: UserWarning: X does not have valid feature names, but MLPRegressor was fitted with feature names\n",
            "  \"X does not have valid feature names, but\"\n",
            "/usr/local/lib/python3.7/dist-packages/sklearn/base.py:451: UserWarning: X does not have valid feature names, but MLPRegressor was fitted with feature names\n",
            "  \"X does not have valid feature names, but\"\n",
            "/usr/local/lib/python3.7/dist-packages/sklearn/base.py:451: UserWarning: X does not have valid feature names, but MLPRegressor was fitted with feature names\n",
            "  \"X does not have valid feature names, but\"\n",
            "/usr/local/lib/python3.7/dist-packages/sklearn/base.py:451: UserWarning: X does not have valid feature names, but MLPRegressor was fitted with feature names\n",
            "  \"X does not have valid feature names, but\"\n",
            "/usr/local/lib/python3.7/dist-packages/sklearn/base.py:451: UserWarning: X does not have valid feature names, but MLPRegressor was fitted with feature names\n",
            "  \"X does not have valid feature names, but\"\n",
            "/usr/local/lib/python3.7/dist-packages/sklearn/base.py:451: UserWarning: X does not have valid feature names, but MLPRegressor was fitted with feature names\n",
            "  \"X does not have valid feature names, but\"\n",
            "/usr/local/lib/python3.7/dist-packages/sklearn/base.py:451: UserWarning: X does not have valid feature names, but MLPRegressor was fitted with feature names\n",
            "  \"X does not have valid feature names, but\"\n",
            "/usr/local/lib/python3.7/dist-packages/sklearn/base.py:451: UserWarning: X does not have valid feature names, but MLPRegressor was fitted with feature names\n",
            "  \"X does not have valid feature names, but\"\n"
          ]
        },
        {
          "output_type": "stream",
          "name": "stdout",
          "text": [
            "Model Number: 149 of 197 with model UnivariateRegression for Validation 3\n",
            "149 - UnivariateRegression with avg smape 1.05: \n",
            "Model Number: 150 of 197 with model GLS for Validation 3\n",
            "150 - GLS with avg smape 0.98: \n",
            "Model Number: 151 of 197 with model UnivariateMotif for Validation 3\n",
            "151 - UnivariateMotif with avg smape 1.78: \n",
            "Model Number: 152 of 197 with model SeasonalNaive for Validation 3\n",
            "152 - SeasonalNaive with avg smape 16.52: \n",
            "Model Number: 153 of 197 with model UnivariateMotif for Validation 3\n",
            "153 - UnivariateMotif with avg smape 0.89: \n",
            "Model Number: 154 of 197 with model MultivariateMotif for Validation 3\n",
            "154 - MultivariateMotif with avg smape 0.76: \n",
            "Model Number: 155 of 197 with model SeasonalityMotif for Validation 3\n",
            "155 - SeasonalityMotif with avg smape 1.17: \n",
            "Model Number: 156 of 197 with model UnivariateMotif for Validation 3\n",
            "156 - UnivariateMotif with avg smape 1.22: \n",
            "Model Number: 157 of 197 with model SeasonalNaive for Validation 3\n",
            "157 - SeasonalNaive with avg smape 1.25: \n",
            "Model Number: 158 of 197 with model MultivariateMotif for Validation 3\n",
            "158 - MultivariateMotif with avg smape 1.01: \n",
            "Model Number: 159 of 197 with model AverageValueNaive for Validation 3\n",
            "159 - AverageValueNaive with avg smape 11.66: \n",
            "Model Number: 160 of 197 with model UnivariateMotif for Validation 3\n",
            "160 - UnivariateMotif with avg smape 0.55: \n",
            "Model Number: 161 of 197 with model SeasonalityMotif for Validation 3\n",
            "161 - SeasonalityMotif with avg smape 1.15: \n",
            "Model Number: 162 of 197 with model SeasonalityMotif for Validation 3\n",
            "162 - SeasonalityMotif with avg smape 3.47: \n",
            "Model Number: 163 of 197 with model GLS for Validation 3\n",
            "163 - GLS with avg smape 1.17: \n",
            "Model Number: 164 of 197 with model AverageValueNaive for Validation 3\n",
            "164 - AverageValueNaive with avg smape 11.61: \n",
            "Model Number: 165 of 197 with model AverageValueNaive for Validation 3\n",
            "165 - AverageValueNaive with avg smape 11.61: \n",
            "Model Number: 166 of 197 with model GLS for Validation 3\n",
            "166 - GLS with avg smape 0.34: \n",
            "Model Number: 167 of 197 with model SeasonalityMotif for Validation 3\n",
            "167 - SeasonalityMotif with avg smape 1.06: \n",
            "Model Number: 168 of 197 with model SeasonalityMotif for Validation 3\n",
            "168 - SeasonalityMotif with avg smape 1.06: \n",
            "Model Number: 169 of 197 with model SeasonalNaive for Validation 3\n",
            "169 - SeasonalNaive with avg smape 1.25: \n",
            "Model Number: 170 of 197 with model SeasonalNaive for Validation 3\n",
            "170 - SeasonalNaive with avg smape 1.25: \n",
            "Model Number: 171 of 197 with model SeasonalityMotif for Validation 3\n",
            "171 - SeasonalityMotif with avg smape 1.29: \n",
            "Model Number: 172 of 197 with model UnivariateRegression for Validation 3\n",
            "172 - UnivariateRegression with avg smape 1.45: \n",
            "Model Number: 173 of 197 with model MultivariateMotif for Validation 3\n",
            "173 - MultivariateMotif with avg smape 1.1: \n",
            "Model Number: 174 of 197 with model GLS for Validation 3\n",
            "174 - GLS with avg smape 1.1: \n",
            "Model Number: 175 of 197 with model MultivariateMotif for Validation 3\n",
            "175 - MultivariateMotif with avg smape 1.18: \n",
            "Model Number: 176 of 197 with model MultivariateMotif for Validation 3\n",
            "176 - MultivariateMotif with avg smape 1.9: \n",
            "Model Number: 177 of 197 with model SeasonalNaive for Validation 3\n",
            "177 - SeasonalNaive with avg smape 1.02: \n",
            "Model Number: 178 of 197 with model SeasonalNaive for Validation 3\n",
            "178 - SeasonalNaive with avg smape 0.71: \n",
            "Model Number: 179 of 197 with model FBProphet for Validation 3\n"
          ]
        },
        {
          "output_type": "stream",
          "name": "stderr",
          "text": [
            "INFO:prophet:Disabling yearly seasonality. Run prophet with yearly_seasonality=True to override this.\n",
            "INFO:prophet:Disabling daily seasonality. Run prophet with daily_seasonality=True to override this.\n",
            "DEBUG:cmdstanpy:input tempfile: /tmp/tmpkpj4r36s/r15bq5je.json\n",
            "DEBUG:cmdstanpy:input tempfile: /tmp/tmpkpj4r36s/0z3_9lfd.json\n",
            "DEBUG:cmdstanpy:idx 0\n",
            "DEBUG:cmdstanpy:running CmdStan, num_threads: None\n",
            "DEBUG:cmdstanpy:CmdStan args: ['/usr/local/lib/python3.7/dist-packages/prophet/stan_model/prophet_model.bin', 'random', 'seed=31457', 'data', 'file=/tmp/tmpkpj4r36s/r15bq5je.json', 'init=/tmp/tmpkpj4r36s/0z3_9lfd.json', 'output', 'file=/tmp/tmpkpj4r36s/prophet_model6sjr47br/prophet_model-20221121080457.csv', 'method=optimize', 'algorithm=lbfgs', 'iter=10000']\n",
            "08:04:57 - cmdstanpy - INFO - Chain [1] start processing\n",
            "INFO:cmdstanpy:Chain [1] start processing\n",
            "08:04:58 - cmdstanpy - INFO - Chain [1] done processing\n",
            "INFO:cmdstanpy:Chain [1] done processing\n"
          ]
        },
        {
          "output_type": "stream",
          "name": "stdout",
          "text": [
            "179 - FBProphet with avg smape 0.63: \n",
            "Model Number: 180 of 197 with model SeasonalNaive for Validation 3\n",
            "180 - SeasonalNaive with avg smape 0.74: \n",
            "Model Number: 181 of 197 with model GLM for Validation 3\n",
            "181 - GLM with avg smape 0.43: \n",
            "Model Number: 182 of 197 with model GLM for Validation 3\n",
            "182 - GLM with avg smape 0.45: \n",
            "Model Number: 183 of 197 with model UnivariateRegression for Validation 3\n",
            "183 - UnivariateRegression with avg smape 1.23: \n",
            "Model Number: 184 of 197 with model UnivariateRegression for Validation 3\n",
            "184 - UnivariateRegression with avg smape 1.57: \n",
            "Model Number: 185 of 197 with model SeasonalNaive for Validation 3\n",
            "185 - SeasonalNaive with avg smape 0.89: \n",
            "Model Number: 186 of 197 with model SeasonalNaive for Validation 3\n",
            "186 - SeasonalNaive with avg smape 6.25: \n",
            "Model Number: 187 of 197 with model UnivariateRegression for Validation 3\n",
            "187 - UnivariateRegression with avg smape 1.73: \n",
            "Model Number: 188 of 197 with model GLM for Validation 3\n",
            "188 - GLM with avg smape 1.0: \n",
            "Model Number: 189 of 197 with model UnivariateRegression for Validation 3\n",
            "189 - UnivariateRegression with avg smape 1.07: \n",
            "Model Number: 190 of 197 with model UnivariateRegression for Validation 3\n"
          ]
        },
        {
          "output_type": "stream",
          "name": "stderr",
          "text": [
            "INFO:prophet:Disabling yearly seasonality. Run prophet with yearly_seasonality=True to override this.\n",
            "INFO:prophet:Disabling daily seasonality. Run prophet with daily_seasonality=True to override this.\n",
            "DEBUG:cmdstanpy:input tempfile: /tmp/tmpkpj4r36s/pborfkq3.json\n",
            "DEBUG:cmdstanpy:input tempfile: /tmp/tmpkpj4r36s/vpksog8s.json\n",
            "DEBUG:cmdstanpy:idx 0\n",
            "DEBUG:cmdstanpy:running CmdStan, num_threads: None\n",
            "DEBUG:cmdstanpy:CmdStan args: ['/usr/local/lib/python3.7/dist-packages/prophet/stan_model/prophet_model.bin', 'random', 'seed=92077', 'data', 'file=/tmp/tmpkpj4r36s/pborfkq3.json', 'init=/tmp/tmpkpj4r36s/vpksog8s.json', 'output', 'file=/tmp/tmpkpj4r36s/prophet_model4iyy0hgv/prophet_model-20221121080502.csv', 'method=optimize', 'algorithm=lbfgs', 'iter=10000']\n",
            "08:05:02 - cmdstanpy - INFO - Chain [1] start processing\n",
            "INFO:cmdstanpy:Chain [1] start processing\n"
          ]
        },
        {
          "output_type": "stream",
          "name": "stdout",
          "text": [
            "190 - UnivariateRegression with avg smape 1.53: \n",
            "Model Number: 191 of 197 with model FBProphet for Validation 3\n"
          ]
        },
        {
          "output_type": "stream",
          "name": "stderr",
          "text": [
            "08:05:02 - cmdstanpy - INFO - Chain [1] done processing\n",
            "INFO:cmdstanpy:Chain [1] done processing\n"
          ]
        },
        {
          "output_type": "stream",
          "name": "stdout",
          "text": [
            "191 - FBProphet with avg smape 1.22: \n",
            "Model Number: 192 of 197 with model GLM for Validation 3\n",
            "192 - GLM with avg smape 4.67: \n",
            "Model Number: 193 of 197 with model GLM for Validation 3\n",
            "193 - GLM with avg smape 4.54: \n",
            "Model Number: 194 of 197 with model GLM for Validation 3\n",
            "194 - GLM with avg smape 4.61: \n",
            "Model Number: 195 of 197 with model GLM for Validation 3\n",
            "195 - GLM with avg smape 5.69: \n",
            "Model Number: 196 of 197 with model GLM for Validation 3\n",
            "196 - GLM with avg smape 9.88: \n",
            "Model Number: 197 of 197 with model GLM for Validation 3\n",
            "Template Eval Error: ValueError('NaN, inf or invalid value detected in weights, estimation infeasible.') in model 197: GLM\n"
          ]
        },
        {
          "output_type": "stream",
          "name": "stderr",
          "text": [
            "/usr/local/lib/python3.7/dist-packages/statsmodels/genmod/families/links.py:517: RuntimeWarning: overflow encountered in exp\n",
            "  return np.exp(z)\n",
            "/usr/local/lib/python3.7/dist-packages/statsmodels/genmod/families/family.py:134: RuntimeWarning: invalid value encountered in multiply\n",
            "  return 1. / (self.link.deriv(mu)**2 * self.variance(mu))\n",
            "/usr/local/lib/python3.7/dist-packages/statsmodels/genmod/generalized_linear_model.py:1199: RuntimeWarning: invalid value encountered in multiply\n",
            "  - self._offset_exposure)\n"
          ]
        }
      ],
      "source": [
        "mod = model.fit(df, date_col = 'Date', value_col = 'Close', id_col = None)"
      ]
    },
    {
      "cell_type": "markdown",
      "id": "9c7bde3b",
      "metadata": {
        "id": "9c7bde3b"
      },
      "source": [
        "## Best Model"
      ]
    },
    {
      "cell_type": "code",
      "execution_count": 65,
      "id": "7b0b3852",
      "metadata": {
        "id": "7b0b3852",
        "outputId": "8c266656-0ed7-41ac-df1f-c098d5db2e99",
        "colab": {
          "base_uri": "https://localhost:8080/"
        }
      },
      "outputs": [
        {
          "output_type": "stream",
          "name": "stdout",
          "text": [
            "Initiated AutoTS object with best model: \n",
            "MultivariateRegression\n",
            "{'fillna': 'fake_date', 'transformations': {'0': 'DifferencedTransformer', '1': 'SeasonalDifference', '2': 'RollingMeanTransformer', '3': 'bkfilter', '4': 'RobustScaler'}, 'transformation_params': {'0': {}, '1': {'lag_1': 12, 'method': 'Mean'}, '2': {'fixed': True, 'window': 96}, '3': {}, '4': {}}}\n",
            "{'regression_model': {'model': 'RandomForest', 'model_params': {'n_estimators': 200, 'min_samples_leaf': 1, 'bootstrap': True}}, 'mean_rolling_periods': 12, 'macd_periods': 94, 'std_rolling_periods': 30, 'max_rolling_periods': None, 'min_rolling_periods': None, 'quantile90_rolling_periods': None, 'quantile10_rolling_periods': 30, 'ewm_alpha': None, 'ewm_var_alpha': None, 'additional_lag_periods': None, 'abs_energy': False, 'rolling_autocorr_periods': None, 'datepart_method': None, 'polynomial_degree': None, 'regression_type': None, 'window': 3, 'holiday': False, 'probabilistic': False, 'cointegration': 'BTCD', 'cointegration_lag': 1}\n",
            "SMAPE: 0.17221527749405321, 0.6337741499005884, 0.5293009525699135, 0.2610767061478736\n",
            "MAE: 73.10896376682892, 268.2049473827028, 221.5296759043449, 108.66415729221626\n",
            "SPL: 0.14141798619640858, 0.399100068403519, 0.41652821100220994, 0.2563122862339904\n"
          ]
        }
      ],
      "source": [
        "print(mod)"
      ]
    },
    {
      "cell_type": "markdown",
      "id": "ccf1793b",
      "metadata": {
        "id": "ccf1793b"
      },
      "source": [
        "## Prediction and Forecasting"
      ]
    },
    {
      "cell_type": "code",
      "execution_count": 66,
      "id": "544df789",
      "metadata": {
        "id": "544df789",
        "outputId": "30f3503f-8804-4f0c-96f0-70d654e12ab8",
        "colab": {
          "base_uri": "https://localhost:8080/"
        }
      },
      "outputs": [
        {
          "output_type": "stream",
          "name": "stderr",
          "text": [
            "[Parallel(n_jobs=-2)]: Using backend SequentialBackend with 1 concurrent workers.\n",
            "[Parallel(n_jobs=-2)]: Done 200 out of 200 | elapsed:    0.4s finished\n",
            "[Parallel(n_jobs=1)]: Using backend SequentialBackend with 1 concurrent workers.\n",
            "[Parallel(n_jobs=1)]: Done 200 out of 200 | elapsed:    0.0s finished\n",
            "[Parallel(n_jobs=1)]: Using backend SequentialBackend with 1 concurrent workers.\n",
            "[Parallel(n_jobs=1)]: Done 200 out of 200 | elapsed:    0.0s finished\n",
            "[Parallel(n_jobs=1)]: Using backend SequentialBackend with 1 concurrent workers.\n",
            "[Parallel(n_jobs=1)]: Done 200 out of 200 | elapsed:    0.0s finished\n"
          ]
        }
      ],
      "source": [
        "pred = model.predict()\n",
        "forecast = pred.forecast\n",
        "model_results = model.results()\n",
        "validation = model.results('validation')"
      ]
    },
    {
      "cell_type": "markdown",
      "id": "d7710b60",
      "metadata": {
        "id": "d7710b60"
      },
      "source": [
        "Let’s print the forecast of the dataset for the future stock price. Also, we will see the validation of the model results. "
      ]
    },
    {
      "cell_type": "code",
      "execution_count": 67,
      "id": "e4cc48a0",
      "metadata": {
        "id": "e4cc48a0",
        "outputId": "537b4336-ddec-40c9-995d-026a2e5e8ce2",
        "colab": {
          "base_uri": "https://localhost:8080/"
        }
      },
      "outputs": [
        {
          "output_type": "stream",
          "name": "stdout",
          "text": [
            "                   Close\n",
            "2022-11-19  42692.295679\n",
            "2022-11-20  42731.811891\n",
            "2022-11-21  42771.394818\n"
          ]
        }
      ],
      "source": [
        "# Forecast\n",
        "print(forecast)"
      ]
    },
    {
      "cell_type": "code",
      "execution_count": 68,
      "id": "037d8398",
      "metadata": {
        "id": "037d8398"
      },
      "outputs": [],
      "source": [
        "fcast = forecast.astype(int)"
      ]
    },
    {
      "cell_type": "code",
      "execution_count": 69,
      "id": "5ea81c89",
      "metadata": {
        "id": "5ea81c89",
        "outputId": "3fedf589-aa82-40c4-97f2-eb41f3b31d8b",
        "colab": {
          "base_uri": "https://localhost:8080/"
        }
      },
      "outputs": [
        {
          "output_type": "stream",
          "name": "stdout",
          "text": [
            "^NSEBANK\n",
            "            Close\n",
            "2022-11-19  42692\n",
            "2022-11-20  42731\n",
            "2022-11-21  42771\n"
          ]
        }
      ],
      "source": [
        "print(ticker)\n",
        "print(fcast)"
      ]
    },
    {
      "cell_type": "code",
      "source": [],
      "metadata": {
        "id": "T0WSQAY3yOiv"
      },
      "id": "T0WSQAY3yOiv",
      "execution_count": null,
      "outputs": []
    }
  ],
  "metadata": {
    "kernelspec": {
      "display_name": "Python 3",
      "language": "python",
      "name": "python3"
    },
    "language_info": {
      "codemirror_mode": {
        "name": "ipython",
        "version": 3
      },
      "file_extension": ".py",
      "mimetype": "text/x-python",
      "name": "python",
      "nbconvert_exporter": "python",
      "pygments_lexer": "ipython3",
      "version": "3.8.8"
    },
    "colab": {
      "name": "AutoTS_Prediction.ipynb",
      "provenance": [],
      "include_colab_link": true
    }
  },
  "nbformat": 4,
  "nbformat_minor": 5
}