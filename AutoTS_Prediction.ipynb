{
  "cells": [
    {
      "cell_type": "markdown",
      "metadata": {
        "id": "view-in-github",
        "colab_type": "text"
      },
      "source": [
        "<a href=\"https://colab.research.google.com/github/ramrajv/AI_Fin/blob/main/AutoTS_Prediction.ipynb\" target=\"_parent\"><img src=\"https://colab.research.google.com/assets/colab-badge.svg\" alt=\"Open In Colab\"/></a>"
      ]
    },
    {
      "cell_type": "code",
      "source": [
        "pip install yfinance"
      ],
      "metadata": {
        "colab": {
          "base_uri": "https://localhost:8080/"
        },
        "id": "aoQjq8U2D8fI",
        "outputId": "6645cf4d-d014-47e9-cfdd-2ca937b797f0"
      },
      "id": "aoQjq8U2D8fI",
      "execution_count": 1,
      "outputs": [
        {
          "output_type": "stream",
          "name": "stdout",
          "text": [
            "Looking in indexes: https://pypi.org/simple, https://us-python.pkg.dev/colab-wheels/public/simple/\n",
            "Collecting yfinance\n",
            "  Downloading yfinance-0.1.87-py2.py3-none-any.whl (29 kB)\n",
            "Collecting requests>=2.26\n",
            "  Downloading requests-2.28.1-py3-none-any.whl (62 kB)\n",
            "\u001b[K     |████████████████████████████████| 62 kB 1.3 MB/s \n",
            "\u001b[?25hRequirement already satisfied: pandas>=0.24.0 in /usr/local/lib/python3.7/dist-packages (from yfinance) (1.3.5)\n",
            "Requirement already satisfied: lxml>=4.5.1 in /usr/local/lib/python3.7/dist-packages (from yfinance) (4.9.1)\n",
            "Requirement already satisfied: multitasking>=0.0.7 in /usr/local/lib/python3.7/dist-packages (from yfinance) (0.0.11)\n",
            "Requirement already satisfied: appdirs>=1.4.4 in /usr/local/lib/python3.7/dist-packages (from yfinance) (1.4.4)\n",
            "Requirement already satisfied: numpy>=1.15 in /usr/local/lib/python3.7/dist-packages (from yfinance) (1.21.6)\n",
            "Requirement already satisfied: pytz>=2017.3 in /usr/local/lib/python3.7/dist-packages (from pandas>=0.24.0->yfinance) (2022.6)\n",
            "Requirement already satisfied: python-dateutil>=2.7.3 in /usr/local/lib/python3.7/dist-packages (from pandas>=0.24.0->yfinance) (2.8.2)\n",
            "Requirement already satisfied: six>=1.5 in /usr/local/lib/python3.7/dist-packages (from python-dateutil>=2.7.3->pandas>=0.24.0->yfinance) (1.15.0)\n",
            "Requirement already satisfied: idna<4,>=2.5 in /usr/local/lib/python3.7/dist-packages (from requests>=2.26->yfinance) (2.10)\n",
            "Requirement already satisfied: urllib3<1.27,>=1.21.1 in /usr/local/lib/python3.7/dist-packages (from requests>=2.26->yfinance) (1.24.3)\n",
            "Requirement already satisfied: charset-normalizer<3,>=2 in /usr/local/lib/python3.7/dist-packages (from requests>=2.26->yfinance) (2.1.1)\n",
            "Requirement already satisfied: certifi>=2017.4.17 in /usr/local/lib/python3.7/dist-packages (from requests>=2.26->yfinance) (2022.9.24)\n",
            "Installing collected packages: requests, yfinance\n",
            "  Attempting uninstall: requests\n",
            "    Found existing installation: requests 2.23.0\n",
            "    Uninstalling requests-2.23.0:\n",
            "      Successfully uninstalled requests-2.23.0\n",
            "Successfully installed requests-2.28.1 yfinance-0.1.87\n"
          ]
        }
      ]
    },
    {
      "cell_type": "code",
      "execution_count": 2,
      "id": "4d8d2c41",
      "metadata": {
        "id": "4d8d2c41"
      },
      "outputs": [],
      "source": [
        "import yfinance as yf\n",
        "import pandas as pd\n",
        "import numpy as np\n",
        "from prophet import Prophet"
      ]
    },
    {
      "cell_type": "code",
      "execution_count": 3,
      "id": "0790b4ad",
      "metadata": {
        "id": "0790b4ad"
      },
      "outputs": [],
      "source": [
        "# finaldf = pd.read_csv('predictions.csv')"
      ]
    },
    {
      "cell_type": "code",
      "source": [
        "import datetime\n",
        "days = 300\n",
        "Previous_Date = datetime.datetime.today() - datetime.timedelta(days=days)"
      ],
      "metadata": {
        "id": "vmA8q1Kqe9gz"
      },
      "id": "vmA8q1Kqe9gz",
      "execution_count": 4,
      "outputs": []
    },
    {
      "cell_type": "code",
      "execution_count": 25,
      "id": "4ba55bb8",
      "metadata": {
        "colab": {
          "base_uri": "https://localhost:8080/"
        },
        "id": "4ba55bb8",
        "outputId": "b891e3be-9c33-42d8-d5b6-64a623092465"
      },
      "outputs": [
        {
          "output_type": "stream",
          "name": "stdout",
          "text": [
            "\r[*********************100%***********************]  1 of 1 completed\n"
          ]
        }
      ],
      "source": [
        "ticker = '^NSEI'\n",
        "# ^NSEI, ^NSEBANK\n",
        "df = yf.download(ticker, start = Previous_Date)\n",
        "# ,start='2020-01-01'"
      ]
    },
    {
      "cell_type": "code",
      "execution_count": 26,
      "id": "97d11a52",
      "metadata": {
        "id": "97d11a52"
      },
      "outputs": [],
      "source": [
        "df.reset_index(inplace = True)"
      ]
    },
    {
      "cell_type": "code",
      "execution_count": 27,
      "id": "1bcb566c",
      "metadata": {
        "colab": {
          "base_uri": "https://localhost:8080/",
          "height": 206
        },
        "id": "1bcb566c",
        "outputId": "1323069c-ac69-4311-8fac-34ce90f21019"
      },
      "outputs": [
        {
          "output_type": "execute_result",
          "data": {
            "text/plain": [
              "        Date          Open          High           Low         Close  \\\n",
              "0 2022-01-27  17062.000000  17182.500000  16866.750000  17110.150391   \n",
              "1 2022-01-28  17208.300781  17373.500000  17077.099609  17101.949219   \n",
              "2 2022-01-31  17301.050781  17410.000000  17264.150391  17339.849609   \n",
              "3 2022-02-01  17529.449219  17622.400391  17244.550781  17576.849609   \n",
              "4 2022-02-02  17706.199219  17794.599609  17674.800781  17780.000000   \n",
              "\n",
              "      Adj Close  Volume  \n",
              "0  17110.150391  395600  \n",
              "1  17101.949219  355300  \n",
              "2  17339.849609  321700  \n",
              "3  17576.849609  386400  \n",
              "4  17780.000000  271200  "
            ],
            "text/html": [
              "\n",
              "  <div id=\"df-9b7827d3-7293-4943-851d-27164c62bb48\">\n",
              "    <div class=\"colab-df-container\">\n",
              "      <div>\n",
              "<style scoped>\n",
              "    .dataframe tbody tr th:only-of-type {\n",
              "        vertical-align: middle;\n",
              "    }\n",
              "\n",
              "    .dataframe tbody tr th {\n",
              "        vertical-align: top;\n",
              "    }\n",
              "\n",
              "    .dataframe thead th {\n",
              "        text-align: right;\n",
              "    }\n",
              "</style>\n",
              "<table border=\"1\" class=\"dataframe\">\n",
              "  <thead>\n",
              "    <tr style=\"text-align: right;\">\n",
              "      <th></th>\n",
              "      <th>Date</th>\n",
              "      <th>Open</th>\n",
              "      <th>High</th>\n",
              "      <th>Low</th>\n",
              "      <th>Close</th>\n",
              "      <th>Adj Close</th>\n",
              "      <th>Volume</th>\n",
              "    </tr>\n",
              "  </thead>\n",
              "  <tbody>\n",
              "    <tr>\n",
              "      <th>0</th>\n",
              "      <td>2022-01-27</td>\n",
              "      <td>17062.000000</td>\n",
              "      <td>17182.500000</td>\n",
              "      <td>16866.750000</td>\n",
              "      <td>17110.150391</td>\n",
              "      <td>17110.150391</td>\n",
              "      <td>395600</td>\n",
              "    </tr>\n",
              "    <tr>\n",
              "      <th>1</th>\n",
              "      <td>2022-01-28</td>\n",
              "      <td>17208.300781</td>\n",
              "      <td>17373.500000</td>\n",
              "      <td>17077.099609</td>\n",
              "      <td>17101.949219</td>\n",
              "      <td>17101.949219</td>\n",
              "      <td>355300</td>\n",
              "    </tr>\n",
              "    <tr>\n",
              "      <th>2</th>\n",
              "      <td>2022-01-31</td>\n",
              "      <td>17301.050781</td>\n",
              "      <td>17410.000000</td>\n",
              "      <td>17264.150391</td>\n",
              "      <td>17339.849609</td>\n",
              "      <td>17339.849609</td>\n",
              "      <td>321700</td>\n",
              "    </tr>\n",
              "    <tr>\n",
              "      <th>3</th>\n",
              "      <td>2022-02-01</td>\n",
              "      <td>17529.449219</td>\n",
              "      <td>17622.400391</td>\n",
              "      <td>17244.550781</td>\n",
              "      <td>17576.849609</td>\n",
              "      <td>17576.849609</td>\n",
              "      <td>386400</td>\n",
              "    </tr>\n",
              "    <tr>\n",
              "      <th>4</th>\n",
              "      <td>2022-02-02</td>\n",
              "      <td>17706.199219</td>\n",
              "      <td>17794.599609</td>\n",
              "      <td>17674.800781</td>\n",
              "      <td>17780.000000</td>\n",
              "      <td>17780.000000</td>\n",
              "      <td>271200</td>\n",
              "    </tr>\n",
              "  </tbody>\n",
              "</table>\n",
              "</div>\n",
              "      <button class=\"colab-df-convert\" onclick=\"convertToInteractive('df-9b7827d3-7293-4943-851d-27164c62bb48')\"\n",
              "              title=\"Convert this dataframe to an interactive table.\"\n",
              "              style=\"display:none;\">\n",
              "        \n",
              "  <svg xmlns=\"http://www.w3.org/2000/svg\" height=\"24px\"viewBox=\"0 0 24 24\"\n",
              "       width=\"24px\">\n",
              "    <path d=\"M0 0h24v24H0V0z\" fill=\"none\"/>\n",
              "    <path d=\"M18.56 5.44l.94 2.06.94-2.06 2.06-.94-2.06-.94-.94-2.06-.94 2.06-2.06.94zm-11 1L8.5 8.5l.94-2.06 2.06-.94-2.06-.94L8.5 2.5l-.94 2.06-2.06.94zm10 10l.94 2.06.94-2.06 2.06-.94-2.06-.94-.94-2.06-.94 2.06-2.06.94z\"/><path d=\"M17.41 7.96l-1.37-1.37c-.4-.4-.92-.59-1.43-.59-.52 0-1.04.2-1.43.59L10.3 9.45l-7.72 7.72c-.78.78-.78 2.05 0 2.83L4 21.41c.39.39.9.59 1.41.59.51 0 1.02-.2 1.41-.59l7.78-7.78 2.81-2.81c.8-.78.8-2.07 0-2.86zM5.41 20L4 18.59l7.72-7.72 1.47 1.35L5.41 20z\"/>\n",
              "  </svg>\n",
              "      </button>\n",
              "      \n",
              "  <style>\n",
              "    .colab-df-container {\n",
              "      display:flex;\n",
              "      flex-wrap:wrap;\n",
              "      gap: 12px;\n",
              "    }\n",
              "\n",
              "    .colab-df-convert {\n",
              "      background-color: #E8F0FE;\n",
              "      border: none;\n",
              "      border-radius: 50%;\n",
              "      cursor: pointer;\n",
              "      display: none;\n",
              "      fill: #1967D2;\n",
              "      height: 32px;\n",
              "      padding: 0 0 0 0;\n",
              "      width: 32px;\n",
              "    }\n",
              "\n",
              "    .colab-df-convert:hover {\n",
              "      background-color: #E2EBFA;\n",
              "      box-shadow: 0px 1px 2px rgba(60, 64, 67, 0.3), 0px 1px 3px 1px rgba(60, 64, 67, 0.15);\n",
              "      fill: #174EA6;\n",
              "    }\n",
              "\n",
              "    [theme=dark] .colab-df-convert {\n",
              "      background-color: #3B4455;\n",
              "      fill: #D2E3FC;\n",
              "    }\n",
              "\n",
              "    [theme=dark] .colab-df-convert:hover {\n",
              "      background-color: #434B5C;\n",
              "      box-shadow: 0px 1px 3px 1px rgba(0, 0, 0, 0.15);\n",
              "      filter: drop-shadow(0px 1px 2px rgba(0, 0, 0, 0.3));\n",
              "      fill: #FFFFFF;\n",
              "    }\n",
              "  </style>\n",
              "\n",
              "      <script>\n",
              "        const buttonEl =\n",
              "          document.querySelector('#df-9b7827d3-7293-4943-851d-27164c62bb48 button.colab-df-convert');\n",
              "        buttonEl.style.display =\n",
              "          google.colab.kernel.accessAllowed ? 'block' : 'none';\n",
              "\n",
              "        async function convertToInteractive(key) {\n",
              "          const element = document.querySelector('#df-9b7827d3-7293-4943-851d-27164c62bb48');\n",
              "          const dataTable =\n",
              "            await google.colab.kernel.invokeFunction('convertToInteractive',\n",
              "                                                     [key], {});\n",
              "          if (!dataTable) return;\n",
              "\n",
              "          const docLinkHtml = 'Like what you see? Visit the ' +\n",
              "            '<a target=\"_blank\" href=https://colab.research.google.com/notebooks/data_table.ipynb>data table notebook</a>'\n",
              "            + ' to learn more about interactive tables.';\n",
              "          element.innerHTML = '';\n",
              "          dataTable['output_type'] = 'display_data';\n",
              "          await google.colab.output.renderOutput(dataTable, element);\n",
              "          const docLink = document.createElement('div');\n",
              "          docLink.innerHTML = docLinkHtml;\n",
              "          element.appendChild(docLink);\n",
              "        }\n",
              "      </script>\n",
              "    </div>\n",
              "  </div>\n",
              "  "
            ]
          },
          "metadata": {},
          "execution_count": 27
        }
      ],
      "source": [
        "df.head()"
      ]
    },
    {
      "cell_type": "code",
      "source": [
        "df.shape"
      ],
      "metadata": {
        "id": "AVmy2acw3gJ3",
        "outputId": "95953a41-bde6-4b7f-8c71-e0bbeebdac88",
        "colab": {
          "base_uri": "https://localhost:8080/"
        }
      },
      "id": "AVmy2acw3gJ3",
      "execution_count": 28,
      "outputs": [
        {
          "output_type": "execute_result",
          "data": {
            "text/plain": [
              "(203, 7)"
            ]
          },
          "metadata": {},
          "execution_count": 28
        }
      ]
    },
    {
      "cell_type": "code",
      "execution_count": 29,
      "id": "7f1e59b9",
      "metadata": {
        "id": "7f1e59b9"
      },
      "outputs": [],
      "source": [
        "df.sort_values('Date', inplace = True)"
      ]
    },
    {
      "cell_type": "code",
      "execution_count": 30,
      "id": "a115c171",
      "metadata": {
        "colab": {
          "base_uri": "https://localhost:8080/",
          "height": 206
        },
        "id": "a115c171",
        "outputId": "37fe2a86-7fbc-4618-ba26-edf5b0340c20"
      },
      "outputs": [
        {
          "output_type": "execute_result",
          "data": {
            "text/plain": [
              "          Date          Open          High           Low         Close  \\\n",
              "198 2022-11-16  18398.250000  18442.150391  18344.150391  18409.650391   \n",
              "199 2022-11-17  18358.699219  18417.599609  18312.949219  18343.900391   \n",
              "200 2022-11-18  18382.949219  18394.599609  18209.800781  18307.650391   \n",
              "201 2022-11-21  18246.400391  18262.300781  18133.349609  18159.949219   \n",
              "202 2022-11-22  18179.150391  18206.900391  18137.699219  18198.250000   \n",
              "\n",
              "        Adj Close  Volume  \n",
              "198  18409.650391  219300  \n",
              "199  18343.900391  200500  \n",
              "200  18307.650391  198800  \n",
              "201  18159.949219  213800  \n",
              "202  18198.250000       0  "
            ],
            "text/html": [
              "\n",
              "  <div id=\"df-2c8797a0-32c6-4aa0-ad5b-5f75dd9687e5\">\n",
              "    <div class=\"colab-df-container\">\n",
              "      <div>\n",
              "<style scoped>\n",
              "    .dataframe tbody tr th:only-of-type {\n",
              "        vertical-align: middle;\n",
              "    }\n",
              "\n",
              "    .dataframe tbody tr th {\n",
              "        vertical-align: top;\n",
              "    }\n",
              "\n",
              "    .dataframe thead th {\n",
              "        text-align: right;\n",
              "    }\n",
              "</style>\n",
              "<table border=\"1\" class=\"dataframe\">\n",
              "  <thead>\n",
              "    <tr style=\"text-align: right;\">\n",
              "      <th></th>\n",
              "      <th>Date</th>\n",
              "      <th>Open</th>\n",
              "      <th>High</th>\n",
              "      <th>Low</th>\n",
              "      <th>Close</th>\n",
              "      <th>Adj Close</th>\n",
              "      <th>Volume</th>\n",
              "    </tr>\n",
              "  </thead>\n",
              "  <tbody>\n",
              "    <tr>\n",
              "      <th>198</th>\n",
              "      <td>2022-11-16</td>\n",
              "      <td>18398.250000</td>\n",
              "      <td>18442.150391</td>\n",
              "      <td>18344.150391</td>\n",
              "      <td>18409.650391</td>\n",
              "      <td>18409.650391</td>\n",
              "      <td>219300</td>\n",
              "    </tr>\n",
              "    <tr>\n",
              "      <th>199</th>\n",
              "      <td>2022-11-17</td>\n",
              "      <td>18358.699219</td>\n",
              "      <td>18417.599609</td>\n",
              "      <td>18312.949219</td>\n",
              "      <td>18343.900391</td>\n",
              "      <td>18343.900391</td>\n",
              "      <td>200500</td>\n",
              "    </tr>\n",
              "    <tr>\n",
              "      <th>200</th>\n",
              "      <td>2022-11-18</td>\n",
              "      <td>18382.949219</td>\n",
              "      <td>18394.599609</td>\n",
              "      <td>18209.800781</td>\n",
              "      <td>18307.650391</td>\n",
              "      <td>18307.650391</td>\n",
              "      <td>198800</td>\n",
              "    </tr>\n",
              "    <tr>\n",
              "      <th>201</th>\n",
              "      <td>2022-11-21</td>\n",
              "      <td>18246.400391</td>\n",
              "      <td>18262.300781</td>\n",
              "      <td>18133.349609</td>\n",
              "      <td>18159.949219</td>\n",
              "      <td>18159.949219</td>\n",
              "      <td>213800</td>\n",
              "    </tr>\n",
              "    <tr>\n",
              "      <th>202</th>\n",
              "      <td>2022-11-22</td>\n",
              "      <td>18179.150391</td>\n",
              "      <td>18206.900391</td>\n",
              "      <td>18137.699219</td>\n",
              "      <td>18198.250000</td>\n",
              "      <td>18198.250000</td>\n",
              "      <td>0</td>\n",
              "    </tr>\n",
              "  </tbody>\n",
              "</table>\n",
              "</div>\n",
              "      <button class=\"colab-df-convert\" onclick=\"convertToInteractive('df-2c8797a0-32c6-4aa0-ad5b-5f75dd9687e5')\"\n",
              "              title=\"Convert this dataframe to an interactive table.\"\n",
              "              style=\"display:none;\">\n",
              "        \n",
              "  <svg xmlns=\"http://www.w3.org/2000/svg\" height=\"24px\"viewBox=\"0 0 24 24\"\n",
              "       width=\"24px\">\n",
              "    <path d=\"M0 0h24v24H0V0z\" fill=\"none\"/>\n",
              "    <path d=\"M18.56 5.44l.94 2.06.94-2.06 2.06-.94-2.06-.94-.94-2.06-.94 2.06-2.06.94zm-11 1L8.5 8.5l.94-2.06 2.06-.94-2.06-.94L8.5 2.5l-.94 2.06-2.06.94zm10 10l.94 2.06.94-2.06 2.06-.94-2.06-.94-.94-2.06-.94 2.06-2.06.94z\"/><path d=\"M17.41 7.96l-1.37-1.37c-.4-.4-.92-.59-1.43-.59-.52 0-1.04.2-1.43.59L10.3 9.45l-7.72 7.72c-.78.78-.78 2.05 0 2.83L4 21.41c.39.39.9.59 1.41.59.51 0 1.02-.2 1.41-.59l7.78-7.78 2.81-2.81c.8-.78.8-2.07 0-2.86zM5.41 20L4 18.59l7.72-7.72 1.47 1.35L5.41 20z\"/>\n",
              "  </svg>\n",
              "      </button>\n",
              "      \n",
              "  <style>\n",
              "    .colab-df-container {\n",
              "      display:flex;\n",
              "      flex-wrap:wrap;\n",
              "      gap: 12px;\n",
              "    }\n",
              "\n",
              "    .colab-df-convert {\n",
              "      background-color: #E8F0FE;\n",
              "      border: none;\n",
              "      border-radius: 50%;\n",
              "      cursor: pointer;\n",
              "      display: none;\n",
              "      fill: #1967D2;\n",
              "      height: 32px;\n",
              "      padding: 0 0 0 0;\n",
              "      width: 32px;\n",
              "    }\n",
              "\n",
              "    .colab-df-convert:hover {\n",
              "      background-color: #E2EBFA;\n",
              "      box-shadow: 0px 1px 2px rgba(60, 64, 67, 0.3), 0px 1px 3px 1px rgba(60, 64, 67, 0.15);\n",
              "      fill: #174EA6;\n",
              "    }\n",
              "\n",
              "    [theme=dark] .colab-df-convert {\n",
              "      background-color: #3B4455;\n",
              "      fill: #D2E3FC;\n",
              "    }\n",
              "\n",
              "    [theme=dark] .colab-df-convert:hover {\n",
              "      background-color: #434B5C;\n",
              "      box-shadow: 0px 1px 3px 1px rgba(0, 0, 0, 0.15);\n",
              "      filter: drop-shadow(0px 1px 2px rgba(0, 0, 0, 0.3));\n",
              "      fill: #FFFFFF;\n",
              "    }\n",
              "  </style>\n",
              "\n",
              "      <script>\n",
              "        const buttonEl =\n",
              "          document.querySelector('#df-2c8797a0-32c6-4aa0-ad5b-5f75dd9687e5 button.colab-df-convert');\n",
              "        buttonEl.style.display =\n",
              "          google.colab.kernel.accessAllowed ? 'block' : 'none';\n",
              "\n",
              "        async function convertToInteractive(key) {\n",
              "          const element = document.querySelector('#df-2c8797a0-32c6-4aa0-ad5b-5f75dd9687e5');\n",
              "          const dataTable =\n",
              "            await google.colab.kernel.invokeFunction('convertToInteractive',\n",
              "                                                     [key], {});\n",
              "          if (!dataTable) return;\n",
              "\n",
              "          const docLinkHtml = 'Like what you see? Visit the ' +\n",
              "            '<a target=\"_blank\" href=https://colab.research.google.com/notebooks/data_table.ipynb>data table notebook</a>'\n",
              "            + ' to learn more about interactive tables.';\n",
              "          element.innerHTML = '';\n",
              "          dataTable['output_type'] = 'display_data';\n",
              "          await google.colab.output.renderOutput(dataTable, element);\n",
              "          const docLink = document.createElement('div');\n",
              "          docLink.innerHTML = docLinkHtml;\n",
              "          element.appendChild(docLink);\n",
              "        }\n",
              "      </script>\n",
              "    </div>\n",
              "  </div>\n",
              "  "
            ]
          },
          "metadata": {},
          "execution_count": 30
        }
      ],
      "source": [
        "df.tail()"
      ]
    },
    {
      "cell_type": "code",
      "execution_count": 31,
      "id": "8f99e334",
      "metadata": {
        "id": "8f99e334"
      },
      "outputs": [],
      "source": [
        "# Metric MAE\n",
        "from sklearn.metrics import mean_absolute_error\n",
        "\n",
        "# Imports for creating plots\n",
        "import matplotlib.pyplot as plt\n",
        "from pylab import rcParams\n",
        "rcParams['figure.figsize'] = 18, 7\n",
        "# %matplotlib notebook"
      ]
    },
    {
      "cell_type": "code",
      "execution_count": 32,
      "id": "5763891e",
      "metadata": {
        "id": "5763891e"
      },
      "outputs": [],
      "source": [
        "split = int(round(len(df)*0.7,0))\n",
        "train_data = df.iloc[:split]\n",
        "test_data = df.iloc[split:]"
      ]
    },
    {
      "cell_type": "code",
      "execution_count": 33,
      "id": "602bec32",
      "metadata": {
        "colab": {
          "base_uri": "https://localhost:8080/"
        },
        "id": "602bec32",
        "outputId": "af8b0aba-3a24-485e-ec76-9bccd3777c9f"
      },
      "outputs": [
        {
          "output_type": "execute_result",
          "data": {
            "text/plain": [
              "142"
            ]
          },
          "metadata": {},
          "execution_count": 33
        }
      ],
      "source": [
        "split"
      ]
    },
    {
      "cell_type": "markdown",
      "id": "3c76f6c1",
      "metadata": {
        "id": "3c76f6c1"
      },
      "source": [
        "## Forecasting using Auto TS"
      ]
    },
    {
      "cell_type": "code",
      "execution_count": 14,
      "id": "19595bc1",
      "metadata": {
        "colab": {
          "base_uri": "https://localhost:8080/",
          "height": 503
        },
        "id": "19595bc1",
        "outputId": "e701135c-a8d9-4ef5-bf84-c4b89d37dab6"
      },
      "outputs": [
        {
          "output_type": "display_data",
          "data": {
            "text/plain": [
              "<Figure size 1080x576 with 1 Axes>"
            ],
            "image/png": "[encoded data removed]"
          },
          "metadata": {
            "needs_background": "light"
          }
        }
      ],
      "source": [
        "train_data.Close.plot(figsize=(15,8), title= ticker, fontsize=14, label='Train')\n",
        "test_data.Close.plot(figsize=(15,8), title= ticker, fontsize=14, label='Test')\n",
        "plt.legend()\n",
        "plt.grid()\n",
        "plt.show()"
      ]
    },
    {
      "cell_type": "code",
      "source": [
        "!pip install autots"
      ],
      "metadata": {
        "id": "jF5AeKwFoLd7",
        "outputId": "01b29f09-a17b-4568-8a25-792451ecbd56",
        "colab": {
          "base_uri": "https://localhost:8080/"
        }
      },
      "id": "jF5AeKwFoLd7",
      "execution_count": 15,
      "outputs": [
        {
          "output_type": "stream",
          "name": "stdout",
          "text": [
            "Looking in indexes: https://pypi.org/simple, https://us-python.pkg.dev/colab-wheels/public/simple/\n",
            "Collecting autots\n",
            "  Downloading AutoTS-0.5.1-py3-none-any.whl (672 kB)\n",
            "\u001b[K     |████████████████████████████████| 672 kB 5.0 MB/s \n",
            "\u001b[?25hRequirement already satisfied: pandas>=0.25.* in /usr/local/lib/python3.7/dist-packages (from autots) (1.3.5)\n",
            "Requirement already satisfied: scikit-learn>=0.20.* in /usr/local/lib/python3.7/dist-packages (from autots) (1.0.2)\n",
            "Requirement already satisfied: statsmodels>=0.10.* in /usr/local/lib/python3.7/dist-packages (from autots) (0.12.2)\n",
            "Requirement already satisfied: numpy>=1.14.6 in /usr/local/lib/python3.7/dist-packages (from autots) (1.21.6)\n",
            "Requirement already satisfied: pytz>=2017.3 in /usr/local/lib/python3.7/dist-packages (from pandas>=0.25.*->autots) (2022.6)\n",
            "Requirement already satisfied: python-dateutil>=2.7.3 in /usr/local/lib/python3.7/dist-packages (from pandas>=0.25.*->autots) (2.8.2)\n",
            "Requirement already satisfied: six>=1.5 in /usr/local/lib/python3.7/dist-packages (from python-dateutil>=2.7.3->pandas>=0.25.*->autots) (1.15.0)\n",
            "Requirement already satisfied: joblib>=0.11 in /usr/local/lib/python3.7/dist-packages (from scikit-learn>=0.20.*->autots) (1.2.0)\n",
            "Requirement already satisfied: threadpoolctl>=2.0.0 in /usr/local/lib/python3.7/dist-packages (from scikit-learn>=0.20.*->autots) (3.1.0)\n",
            "Requirement already satisfied: scipy>=1.1.0 in /usr/local/lib/python3.7/dist-packages (from scikit-learn>=0.20.*->autots) (1.7.3)\n",
            "Requirement already satisfied: patsy>=0.5 in /usr/local/lib/python3.7/dist-packages (from statsmodels>=0.10.*->autots) (0.5.3)\n",
            "Installing collected packages: autots\n",
            "Successfully installed autots-0.5.1\n"
          ]
        }
      ]
    },
    {
      "cell_type": "code",
      "execution_count": 34,
      "id": "36cd3a87",
      "metadata": {
        "id": "36cd3a87"
      },
      "outputs": [],
      "source": [
        "from autots import AutoTS"
      ]
    },
    {
      "cell_type": "code",
      "execution_count": 35,
      "id": "f120cec5",
      "metadata": {
        "id": "f120cec5"
      },
      "outputs": [],
      "source": [
        "model = AutoTS(forecast_length=3, frequency='infer',  ensemble='simple', drop_data_older_than_periods=split)"
      ]
    },
    {
      "cell_type": "code",
      "execution_count": null,
      "id": "60a4acaf",
      "metadata": {
        "colab": {
          "base_uri": "https://localhost:8080/"
        },
        "id": "60a4acaf",
        "outputId": "35969e11-9381-4acc-a3ac-c20bc8bccf3e"
      },
      "outputs": [
        {
          "output_type": "stream",
          "name": "stdout",
          "text": [
            "Inferred frequency is: B\n",
            "Old data dropped by `drop_data_older_than_periods`.\n",
            "Model Number: 1 with model ARIMA in generation 0 of 10\n",
            "Model Number: 2 with model ARIMA in generation 0 of 10\n",
            "Model Number: 3 with model ARIMA in generation 0 of 10\n"
          ]
        }
      ],
      "source": [
        "mod = model.fit(df, date_col = 'Date', value_col = 'Close', id_col = None)"
      ]
    },
    {
      "cell_type": "markdown",
      "id": "9c7bde3b",
      "metadata": {
        "id": "9c7bde3b"
      },
      "source": [
        "## Best Model"
      ]
    },
    {
      "cell_type": "code",
      "execution_count": null,
      "id": "7b0b3852",
      "metadata": {
        "id": "7b0b3852"
      },
      "outputs": [],
      "source": [
        "print(mod)"
      ]
    },
    {
      "cell_type": "markdown",
      "id": "ccf1793b",
      "metadata": {
        "id": "ccf1793b"
      },
      "source": [
        "## Prediction and Forecasting"
      ]
    },
    {
      "cell_type": "code",
      "execution_count": null,
      "id": "544df789",
      "metadata": {
        "id": "544df789"
      },
      "outputs": [],
      "source": [
        "pred = model.predict()\n",
        "forecast = pred.forecast\n",
        "model_results = model.results()\n",
        "validation = model.results('validation')"
      ]
    },
    {
      "cell_type": "markdown",
      "id": "d7710b60",
      "metadata": {
        "id": "d7710b60"
      },
      "source": [
        "Let’s print the forecast of the dataset for the future stock price. Also, we will see the validation of the model results. "
      ]
    },
    {
      "cell_type": "code",
      "execution_count": null,
      "id": "e4cc48a0",
      "metadata": {
        "id": "e4cc48a0"
      },
      "outputs": [],
      "source": [
        "# Forecast\n",
        "print(forecast.astype(int))"
      ]
    },
    {
      "cell_type": "code",
      "source": [],
      "metadata": {
        "id": "T0WSQAY3yOiv"
      },
      "id": "T0WSQAY3yOiv",
      "execution_count": null,
      "outputs": []
    }
  ],
  "metadata": {
    "kernelspec": {
      "display_name": "Python 3",
      "language": "python",
      "name": "python3"
    },
    "language_info": {
      "codemirror_mode": {
        "name": "ipython",
        "version": 3
      },
      "file_extension": ".py",
      "mimetype": "text/x-python",
      "name": "python",
      "nbconvert_exporter": "python",
      "pygments_lexer": "ipython3",
      "version": "3.8.8"
    },
    "colab": {
      "name": "AutoTS_Prediction.ipynb",
      "provenance": [],
      "include_colab_link": true
    }
  },
  "nbformat": 4,
  "nbformat_minor": 5
}