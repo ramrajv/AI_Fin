{
  "nbformat": 4,
  "nbformat_minor": 0,
  "metadata": {
    "colab": {
      "provenance": [],
      "authorship_tag": "ABX9TyMC8aBVM4d0RAhcAMeITnvP",
      "include_colab_link": true
    },
    "kernelspec": {
      "name": "python3",
      "display_name": "Python 3"
    },
    "language_info": {
      "name": "python"
    }
  },
  "cells": [
    {
      "cell_type": "markdown",
      "metadata": {
        "id": "view-in-github",
        "colab_type": "text"
      },
      "source": [
        "<a href=\"https://colab.research.google.com/github/ramrajv/AI_Fin/blob/main/YF_Indian_Buy_Sell.ipynb\" target=\"_parent\"><img src=\"https://colab.research.google.com/assets/colab-badge.svg\" alt=\"Open In Colab\"/></a>"
      ]
    },
    {
      "cell_type": "code",
      "execution_count": null,
      "metadata": {
        "id": "rmqL7r6D_C5T"
      },
      "outputs": [],
      "source": [
        "import pandas as pd\n",
        "import numpy as np\n",
        "import yfinance as yf\n",
        "import datetime\n",
        "import time\n",
        "import requests\n",
        "import io"
      ]
    },
    {
      "cell_type": "code",
      "source": [
        "url = 'https://raw.githubusercontent.com/ramrajv/AI_Fin/main/YF_Stock_Codes.csv'\n",
        "df = pd.read_csv(url)"
      ],
      "metadata": {
        "id": "mXmWAhMO_KQ6"
      },
      "execution_count": null,
      "outputs": []
    },
    {
      "cell_type": "code",
      "source": [
        "df.head"
      ],
      "metadata": {
        "colab": {
          "base_uri": "https://localhost:8080/"
        },
        "id": "vP5yk0RJ_OO4",
        "outputId": "3c8b0eb9-6a6b-4a90-c07a-e46ee666ae3b"
      },
      "execution_count": null,
      "outputs": [
        {
          "output_type": "execute_result",
          "data": {
            "text/plain": [
              "<bound method NDFrame.head of          YF_Symbol       SC_NAME\n",
              "0        500002.BO  ABB LTD.    \n",
              "1        500003.BO  AEGIS LOGIS \n",
              "2        500008.BO  AMAR RAJA BA\n",
              "3        500009.BO  A.SARABHAI  \n",
              "4        500010.BO  HDFC        \n",
              "...            ...           ...\n",
              "6588       ZOTA.NS          ZOTA\n",
              "6589      ZUARI.NS         ZUARI\n",
              "6590   ZUARIIND.NS      ZUARIIND\n",
              "6591  ZYDUSLIFE.NS     ZYDUSLIFE\n",
              "6592  ZYDUSWELL.NS     ZYDUSWELL\n",
              "\n",
              "[6593 rows x 2 columns]>"
            ]
          },
          "metadata": {},
          "execution_count": 3
        }
      ]
    },
    {
      "cell_type": "markdown",
      "source": [
        "## Historical Market Prices\n",
        "\n",
        "Get the historical market prices of 90days"
      ],
      "metadata": {
        "id": "P7W8W0T6_6Ky"
      }
    },
    {
      "cell_type": "code",
      "source": [
        "end = datetime.date.today()\n",
        "start = end-pd.Timedelta(days = 90)\n"
      ],
      "metadata": {
        "id": "CC1T06N9_O7J"
      },
      "execution_count": null,
      "outputs": []
    },
    {
      "cell_type": "code",
      "source": [
        "Symbols = df['YF_Symbol'].tolist()"
      ],
      "metadata": {
        "id": "1cKqeHsa_2fY"
      },
      "execution_count": null,
      "outputs": []
    },
    {
      "cell_type": "code",
      "source": [
        "# create empty dataframe\n",
        "stock_final = pd.DataFrame()\n",
        "# iterate over each symbol\n",
        "for i in Symbols:\n",
        "\n",
        "    # print the symbol which is being downloaded\n",
        "    print( str(Symbols.index(i)) + str(' : ') + i, sep=',', end=',', flush=True)\n",
        "\n",
        "    try:\n",
        "        # download the stock price\n",
        "        stock = []\n",
        "        stock = yf.download(i,start=start, end=end, progress=False)\n",
        "\n",
        "        # append the individual stock prices\n",
        "        if len(stock) == 0:\n",
        "            None\n",
        "        else:\n",
        "            stock['Name']=i\n",
        "            stock_final = stock_final.append(stock,sort=False)\n",
        "    except Exception:\n",
        "        None"
      ],
      "metadata": {
        "id": "cmm66sNQAJ8P"
      },
      "execution_count": null,
      "outputs": []
    },
    {
      "cell_type": "code",
      "source": [
        "stock_final"
      ],
      "metadata": {
        "colab": {
          "base_uri": "https://localhost:8080/",
          "height": 455
        },
        "id": "6fOCePLPjITH",
        "outputId": "870fcede-2d1e-4373-926b-55eff44ae70f"
      },
      "execution_count": null,
      "outputs": [
        {
          "output_type": "execute_result",
          "data": {
            "text/plain": [
              "                   Open         High          Low        Close    Adj Close  \\\n",
              "Date                                                                          \n",
              "2023-04-12   581.400024   590.599976   574.450012   576.849976   576.849976   \n",
              "2023-04-13   576.849976   578.799988   567.000000   570.299988   570.299988   \n",
              "2023-04-17   570.299988   582.049988   568.250000   580.400024   580.400024   \n",
              "2023-04-18   573.599976   589.900024   573.599976   589.150024   589.150024   \n",
              "2023-04-19   589.400024   616.799988   588.700012   612.650024   612.650024   \n",
              "...                 ...          ...          ...          ...          ...   \n",
              "2023-07-04  1488.099976  1489.949951  1470.000000  1480.900024  1480.900024   \n",
              "2023-07-05  1481.150024  1488.050049  1472.099976  1479.449951  1479.449951   \n",
              "2023-07-06  1478.050049  1499.949951  1477.199951  1483.800049  1483.800049   \n",
              "2023-07-07  1483.099976  1489.949951  1477.250000  1481.550049  1481.550049   \n",
              "2023-07-10  1489.000000  1489.800049  1450.000000  1467.000000  1467.000000   \n",
              "\n",
              "            Volume          Name  \n",
              "Date                              \n",
              "2023-04-12    4353     500008.BO  \n",
              "2023-04-13   30471     500008.BO  \n",
              "2023-04-17    7289     500008.BO  \n",
              "2023-04-18    4374     500008.BO  \n",
              "2023-04-19   33546     500008.BO  \n",
              "...            ...           ...  \n",
              "2023-07-04   26100  ZYDUSWELL.NS  \n",
              "2023-07-05   21358  ZYDUSWELL.NS  \n",
              "2023-07-06   50999  ZYDUSWELL.NS  \n",
              "2023-07-07   13406  ZYDUSWELL.NS  \n",
              "2023-07-10   28858  ZYDUSWELL.NS  \n",
              "\n",
              "[157521 rows x 7 columns]"
            ],
            "text/html": [
              "\n",
              "\n",
              "  <div id=\"df-e00c1307-3f14-488e-86a0-eaa4d03e58a8\">\n",
              "    <div class=\"colab-df-container\">\n",
              "      <div>\n",
              "<style scoped>\n",
              "    .dataframe tbody tr th:only-of-type {\n",
              "        vertical-align: middle;\n",
              "    }\n",
              "\n",
              "    .dataframe tbody tr th {\n",
              "        vertical-align: top;\n",
              "    }\n",
              "\n",
              "    .dataframe thead th {\n",
              "        text-align: right;\n",
              "    }\n",
              "</style>\n",
              "<table border=\"1\" class=\"dataframe\">\n",
              "  <thead>\n",
              "    <tr style=\"text-align: right;\">\n",
              "      <th></th>\n",
              "      <th>Open</th>\n",
              "      <th>High</th>\n",
              "      <th>Low</th>\n",
              "      <th>Close</th>\n",
              "      <th>Adj Close</th>\n",
              "      <th>Volume</th>\n",
              "      <th>Name</th>\n",
              "    </tr>\n",
              "    <tr>\n",
              "      <th>Date</th>\n",
              "      <th></th>\n",
              "      <th></th>\n",
              "      <th></th>\n",
              "      <th></th>\n",
              "      <th></th>\n",
              "      <th></th>\n",
              "      <th></th>\n",
              "    </tr>\n",
              "  </thead>\n",
              "  <tbody>\n",
              "    <tr>\n",
              "      <th>2023-04-12</th>\n",
              "      <td>581.400024</td>\n",
              "      <td>590.599976</td>\n",
              "      <td>574.450012</td>\n",
              "      <td>576.849976</td>\n",
              "      <td>576.849976</td>\n",
              "      <td>4353</td>\n",
              "      <td>500008.BO</td>\n",
              "    </tr>\n",
              "    <tr>\n",
              "      <th>2023-04-13</th>\n",
              "      <td>576.849976</td>\n",
              "      <td>578.799988</td>\n",
              "      <td>567.000000</td>\n",
              "      <td>570.299988</td>\n",
              "      <td>570.299988</td>\n",
              "      <td>30471</td>\n",
              "      <td>500008.BO</td>\n",
              "    </tr>\n",
              "    <tr>\n",
              "      <th>2023-04-17</th>\n",
              "      <td>570.299988</td>\n",
              "      <td>582.049988</td>\n",
              "      <td>568.250000</td>\n",
              "      <td>580.400024</td>\n",
              "      <td>580.400024</td>\n",
              "      <td>7289</td>\n",
              "      <td>500008.BO</td>\n",
              "    </tr>\n",
              "    <tr>\n",
              "      <th>2023-04-18</th>\n",
              "      <td>573.599976</td>\n",
              "      <td>589.900024</td>\n",
              "      <td>573.599976</td>\n",
              "      <td>589.150024</td>\n",
              "      <td>589.150024</td>\n",
              "      <td>4374</td>\n",
              "      <td>500008.BO</td>\n",
              "    </tr>\n",
              "    <tr>\n",
              "      <th>2023-04-19</th>\n",
              "      <td>589.400024</td>\n",
              "      <td>616.799988</td>\n",
              "      <td>588.700012</td>\n",
              "      <td>612.650024</td>\n",
              "      <td>612.650024</td>\n",
              "      <td>33546</td>\n",
              "      <td>500008.BO</td>\n",
              "    </tr>\n",
              "    <tr>\n",
              "      <th>...</th>\n",
              "      <td>...</td>\n",
              "      <td>...</td>\n",
              "      <td>...</td>\n",
              "      <td>...</td>\n",
              "      <td>...</td>\n",
              "      <td>...</td>\n",
              "      <td>...</td>\n",
              "    </tr>\n",
              "    <tr>\n",
              "      <th>2023-07-04</th>\n",
              "      <td>1488.099976</td>\n",
              "      <td>1489.949951</td>\n",
              "      <td>1470.000000</td>\n",
              "      <td>1480.900024</td>\n",
              "      <td>1480.900024</td>\n",
              "      <td>26100</td>\n",
              "      <td>ZYDUSWELL.NS</td>\n",
              "    </tr>\n",
              "    <tr>\n",
              "      <th>2023-07-05</th>\n",
              "      <td>1481.150024</td>\n",
              "      <td>1488.050049</td>\n",
              "      <td>1472.099976</td>\n",
              "      <td>1479.449951</td>\n",
              "      <td>1479.449951</td>\n",
              "      <td>21358</td>\n",
              "      <td>ZYDUSWELL.NS</td>\n",
              "    </tr>\n",
              "    <tr>\n",
              "      <th>2023-07-06</th>\n",
              "      <td>1478.050049</td>\n",
              "      <td>1499.949951</td>\n",
              "      <td>1477.199951</td>\n",
              "      <td>1483.800049</td>\n",
              "      <td>1483.800049</td>\n",
              "      <td>50999</td>\n",
              "      <td>ZYDUSWELL.NS</td>\n",
              "    </tr>\n",
              "    <tr>\n",
              "      <th>2023-07-07</th>\n",
              "      <td>1483.099976</td>\n",
              "      <td>1489.949951</td>\n",
              "      <td>1477.250000</td>\n",
              "      <td>1481.550049</td>\n",
              "      <td>1481.550049</td>\n",
              "      <td>13406</td>\n",
              "      <td>ZYDUSWELL.NS</td>\n",
              "    </tr>\n",
              "    <tr>\n",
              "      <th>2023-07-10</th>\n",
              "      <td>1489.000000</td>\n",
              "      <td>1489.800049</td>\n",
              "      <td>1450.000000</td>\n",
              "      <td>1467.000000</td>\n",
              "      <td>1467.000000</td>\n",
              "      <td>28858</td>\n",
              "      <td>ZYDUSWELL.NS</td>\n",
              "    </tr>\n",
              "  </tbody>\n",
              "</table>\n",
              "<p>157521 rows × 7 columns</p>\n",
              "</div>\n",
              "      <button class=\"colab-df-convert\" onclick=\"convertToInteractive('df-e00c1307-3f14-488e-86a0-eaa4d03e58a8')\"\n",
              "              title=\"Convert this dataframe to an interactive table.\"\n",
              "              style=\"display:none;\">\n",
              "\n",
              "  <svg xmlns=\"http://www.w3.org/2000/svg\" height=\"24px\"viewBox=\"0 0 24 24\"\n",
              "       width=\"24px\">\n",
              "    <path d=\"M0 0h24v24H0V0z\" fill=\"none\"/>\n",
              "    <path d=\"M18.56 5.44l.94 2.06.94-2.06 2.06-.94-2.06-.94-.94-2.06-.94 2.06-2.06.94zm-11 1L8.5 8.5l.94-2.06 2.06-.94-2.06-.94L8.5 2.5l-.94 2.06-2.06.94zm10 10l.94 2.06.94-2.06 2.06-.94-2.06-.94-.94-2.06-.94 2.06-2.06.94z\"/><path d=\"M17.41 7.96l-1.37-1.37c-.4-.4-.92-.59-1.43-.59-.52 0-1.04.2-1.43.59L10.3 9.45l-7.72 7.72c-.78.78-.78 2.05 0 2.83L4 21.41c.39.39.9.59 1.41.59.51 0 1.02-.2 1.41-.59l7.78-7.78 2.81-2.81c.8-.78.8-2.07 0-2.86zM5.41 20L4 18.59l7.72-7.72 1.47 1.35L5.41 20z\"/>\n",
              "  </svg>\n",
              "      </button>\n",
              "\n",
              "\n",
              "\n",
              "    <div id=\"df-e6e931ff-5cd3-41fe-b5e4-fd7d14d7f1a3\">\n",
              "      <button class=\"colab-df-quickchart\" onclick=\"quickchart('df-e6e931ff-5cd3-41fe-b5e4-fd7d14d7f1a3')\"\n",
              "              title=\"Suggest charts.\"\n",
              "              style=\"display:none;\">\n",
              "\n",
              "<svg xmlns=\"http://www.w3.org/2000/svg\" height=\"24px\"viewBox=\"0 0 24 24\"\n",
              "     width=\"24px\">\n",
              "    <g>\n",
              "        <path d=\"M19 3H5c-1.1 0-2 .9-2 2v14c0 1.1.9 2 2 2h14c1.1 0 2-.9 2-2V5c0-1.1-.9-2-2-2zM9 17H7v-7h2v7zm4 0h-2V7h2v10zm4 0h-2v-4h2v4z\"/>\n",
              "    </g>\n",
              "</svg>\n",
              "      </button>\n",
              "    </div>\n",
              "\n",
              "<style>\n",
              "  .colab-df-quickchart {\n",
              "    background-color: #E8F0FE;\n",
              "    border: none;\n",
              "    border-radius: 50%;\n",
              "    cursor: pointer;\n",
              "    display: none;\n",
              "    fill: #1967D2;\n",
              "    height: 32px;\n",
              "    padding: 0 0 0 0;\n",
              "    width: 32px;\n",
              "  }\n",
              "\n",
              "  .colab-df-quickchart:hover {\n",
              "    background-color: #E2EBFA;\n",
              "    box-shadow: 0px 1px 2px rgba(60, 64, 67, 0.3), 0px 1px 3px 1px rgba(60, 64, 67, 0.15);\n",
              "    fill: #174EA6;\n",
              "  }\n",
              "\n",
              "  [theme=dark] .colab-df-quickchart {\n",
              "    background-color: #3B4455;\n",
              "    fill: #D2E3FC;\n",
              "  }\n",
              "\n",
              "  [theme=dark] .colab-df-quickchart:hover {\n",
              "    background-color: #434B5C;\n",
              "    box-shadow: 0px 1px 3px 1px rgba(0, 0, 0, 0.15);\n",
              "    filter: drop-shadow(0px 1px 2px rgba(0, 0, 0, 0.3));\n",
              "    fill: #FFFFFF;\n",
              "  }\n",
              "</style>\n",
              "\n",
              "    <script>\n",
              "      async function quickchart(key) {\n",
              "        const containerElement = document.querySelector('#' + key);\n",
              "        const charts = await google.colab.kernel.invokeFunction(\n",
              "            'suggestCharts', [key], {});\n",
              "      }\n",
              "    </script>\n",
              "\n",
              "      <script>\n",
              "\n",
              "function displayQuickchartButton(domScope) {\n",
              "  let quickchartButtonEl =\n",
              "    domScope.querySelector('#df-e6e931ff-5cd3-41fe-b5e4-fd7d14d7f1a3 button.colab-df-quickchart');\n",
              "  quickchartButtonEl.style.display =\n",
              "    google.colab.kernel.accessAllowed ? 'block' : 'none';\n",
              "}\n",
              "\n",
              "        displayQuickchartButton(document);\n",
              "      </script>\n",
              "      <style>\n",
              "    .colab-df-container {\n",
              "      display:flex;\n",
              "      flex-wrap:wrap;\n",
              "      gap: 12px;\n",
              "    }\n",
              "\n",
              "    .colab-df-convert {\n",
              "      background-color: #E8F0FE;\n",
              "      border: none;\n",
              "      border-radius: 50%;\n",
              "      cursor: pointer;\n",
              "      display: none;\n",
              "      fill: #1967D2;\n",
              "      height: 32px;\n",
              "      padding: 0 0 0 0;\n",
              "      width: 32px;\n",
              "    }\n",
              "\n",
              "    .colab-df-convert:hover {\n",
              "      background-color: #E2EBFA;\n",
              "      box-shadow: 0px 1px 2px rgba(60, 64, 67, 0.3), 0px 1px 3px 1px rgba(60, 64, 67, 0.15);\n",
              "      fill: #174EA6;\n",
              "    }\n",
              "\n",
              "    [theme=dark] .colab-df-convert {\n",
              "      background-color: #3B4455;\n",
              "      fill: #D2E3FC;\n",
              "    }\n",
              "\n",
              "    [theme=dark] .colab-df-convert:hover {\n",
              "      background-color: #434B5C;\n",
              "      box-shadow: 0px 1px 3px 1px rgba(0, 0, 0, 0.15);\n",
              "      filter: drop-shadow(0px 1px 2px rgba(0, 0, 0, 0.3));\n",
              "      fill: #FFFFFF;\n",
              "    }\n",
              "  </style>\n",
              "\n",
              "      <script>\n",
              "        const buttonEl =\n",
              "          document.querySelector('#df-e00c1307-3f14-488e-86a0-eaa4d03e58a8 button.colab-df-convert');\n",
              "        buttonEl.style.display =\n",
              "          google.colab.kernel.accessAllowed ? 'block' : 'none';\n",
              "\n",
              "        async function convertToInteractive(key) {\n",
              "          const element = document.querySelector('#df-e00c1307-3f14-488e-86a0-eaa4d03e58a8');\n",
              "          const dataTable =\n",
              "            await google.colab.kernel.invokeFunction('convertToInteractive',\n",
              "                                                     [key], {});\n",
              "          if (!dataTable) return;\n",
              "\n",
              "          const docLinkHtml = 'Like what you see? Visit the ' +\n",
              "            '<a target=\"_blank\" href=https://colab.research.google.com/notebooks/data_table.ipynb>data table notebook</a>'\n",
              "            + ' to learn more about interactive tables.';\n",
              "          element.innerHTML = '';\n",
              "          dataTable['output_type'] = 'display_data';\n",
              "          await google.colab.output.renderOutput(dataTable, element);\n",
              "          const docLink = document.createElement('div');\n",
              "          docLink.innerHTML = docLinkHtml;\n",
              "          element.appendChild(docLink);\n",
              "        }\n",
              "      </script>\n",
              "    </div>\n",
              "  </div>\n"
            ]
          },
          "metadata": {},
          "execution_count": 7
        }
      ]
    },
    {
      "cell_type": "code",
      "source": [
        "pip install ta"
      ],
      "metadata": {
        "colab": {
          "base_uri": "https://localhost:8080/"
        },
        "id": "QinkXKvhrDyx",
        "outputId": "5bc9c064-e9d5-4d19-c169-887f9d82e370"
      },
      "execution_count": null,
      "outputs": [
        {
          "output_type": "stream",
          "name": "stdout",
          "text": [
            "Collecting ta\n",
            "  Downloading ta-0.10.2.tar.gz (25 kB)\n",
            "  Preparing metadata (setup.py) ... \u001b[?25l\u001b[?25hdone\n",
            "Requirement already satisfied: numpy in /usr/local/lib/python3.10/dist-packages (from ta) (1.22.4)\n",
            "Requirement already satisfied: pandas in /usr/local/lib/python3.10/dist-packages (from ta) (1.5.3)\n",
            "Requirement already satisfied: python-dateutil>=2.8.1 in /usr/local/lib/python3.10/dist-packages (from pandas->ta) (2.8.2)\n",
            "Requirement already satisfied: pytz>=2020.1 in /usr/local/lib/python3.10/dist-packages (from pandas->ta) (2022.7.1)\n",
            "Requirement already satisfied: six>=1.5 in /usr/local/lib/python3.10/dist-packages (from python-dateutil>=2.8.1->pandas->ta) (1.16.0)\n",
            "Building wheels for collected packages: ta\n",
            "  Building wheel for ta (setup.py) ... \u001b[?25l\u001b[?25hdone\n",
            "  Created wheel for ta: filename=ta-0.10.2-py3-none-any.whl size=29088 sha256=3022bca3856a560229addc7ab8168a26197cdc309ac1184ec052caf99b711dbe\n",
            "  Stored in directory: /root/.cache/pip/wheels/47/51/06/380dc516ea78621870b93ff65527c251afdfdc5fa9d7f4d248\n",
            "Successfully built ta\n",
            "Installing collected packages: ta\n",
            "Successfully installed ta-0.10.2\n"
          ]
        }
      ]
    },
    {
      "cell_type": "code",
      "source": [
        "import ta"
      ],
      "metadata": {
        "id": "4Rrj2JrNsD9_"
      },
      "execution_count": null,
      "outputs": []
    },
    {
      "cell_type": "code",
      "source": [
        "stockinfo_unavailable = df[~df['YF_Symbol'].isin(stock_final['Name'].values.tolist())]['YF_Symbol']"
      ],
      "metadata": {
        "id": "iSlNPk2asG73"
      },
      "execution_count": null,
      "outputs": []
    },
    {
      "cell_type": "code",
      "source": [
        "stockinfo_unavailable"
      ],
      "metadata": {
        "colab": {
          "base_uri": "https://localhost:8080/"
        },
        "id": "a06NR_Mesj1x",
        "outputId": "97c3eb99-4687-4af3-b86c-3d40b864a54b"
      },
      "execution_count": null,
      "outputs": [
        {
          "output_type": "execute_result",
          "data": {
            "text/plain": [
              "0          500002.BO\n",
              "1          500003.BO\n",
              "3          500009.BO\n",
              "4          500010.BO\n",
              "7          500014.BO\n",
              "            ...     \n",
              "6565    WOCKPHARM.NS\n",
              "6569    WSTCSTPAP.NS\n",
              "6579    ZENITHEXP.NS\n",
              "6581    ZENSARTEC.NS\n",
              "6586    ZODIACLOT.NS\n",
              "Name: YF_Symbol, Length: 3907, dtype: object"
            ]
          },
          "metadata": {},
          "execution_count": 19
        }
      ]
    },
    {
      "cell_type": "code",
      "source": [
        "pip install TA-Lib"
      ],
      "metadata": {
        "colab": {
          "base_uri": "https://localhost:8080/"
        },
        "id": "5D0nszqEsqAR",
        "outputId": "13afcd54-9b07-4d39-c9ee-92096f909b57"
      },
      "execution_count": null,
      "outputs": [
        {
          "output_type": "stream",
          "name": "stdout",
          "text": [
            "Collecting TA-Lib\n",
            "  Using cached TA-Lib-0.4.26.tar.gz (272 kB)\n",
            "  Installing build dependencies ... \u001b[?25l\u001b[?25hdone\n",
            "  Getting requirements to build wheel ... \u001b[?25l\u001b[?25hdone\n",
            "  Installing backend dependencies ... \u001b[?25l\u001b[?25hdone\n",
            "  Preparing metadata (pyproject.toml) ... \u001b[?25l\u001b[?25hdone\n",
            "Requirement already satisfied: numpy in /usr/local/lib/python3.10/dist-packages (from TA-Lib) (1.22.4)\n",
            "Building wheels for collected packages: TA-Lib\n",
            "  \u001b[1;31merror\u001b[0m: \u001b[1msubprocess-exited-with-error\u001b[0m\n",
            "  \n",
            "  \u001b[31m×\u001b[0m \u001b[32mBuilding wheel for TA-Lib \u001b[0m\u001b[1;32m(\u001b[0m\u001b[32mpyproject.toml\u001b[0m\u001b[1;32m)\u001b[0m did not run successfully.\n",
            "  \u001b[31m│\u001b[0m exit code: \u001b[1;36m1\u001b[0m\n",
            "  \u001b[31m╰─>\u001b[0m See above for output.\n",
            "  \n",
            "  \u001b[1;35mnote\u001b[0m: This error originates from a subprocess, and is likely not a problem with pip.\n",
            "  Building wheel for TA-Lib (pyproject.toml) ... \u001b[?25l\u001b[?25herror\n",
            "\u001b[31m  ERROR: Failed building wheel for TA-Lib\u001b[0m\u001b[31m\n",
            "\u001b[0mFailed to build TA-Lib\n",
            "\u001b[31mERROR: Could not build wheels for TA-Lib, which is required to install pyproject.toml-based projects\u001b[0m\u001b[31m\n",
            "\u001b[0m"
          ]
        }
      ]
    },
    {
      "cell_type": "code",
      "source": [
        "pip install /content/TA_Lib-0.4.24-pp38-pypy38_pp73-win_amd64.whl"
      ],
      "metadata": {
        "colab": {
          "base_uri": "https://localhost:8080/"
        },
        "id": "u4vbTfIVx0k6",
        "outputId": "bb0a6f50-c079-46a2-bf27-6f6588929ee5"
      },
      "execution_count": null,
      "outputs": [
        {
          "output_type": "stream",
          "name": "stdout",
          "text": [
            "\u001b[31mERROR: TA_Lib-0.4.24-pp38-pypy38_pp73-win_amd64.whl is not a supported wheel on this platform.\u001b[0m\u001b[31m\n",
            "\u001b[0m"
          ]
        }
      ]
    },
    {
      "cell_type": "code",
      "source": [
        "path"
      ],
      "metadata": {
        "colab": {
          "base_uri": "https://localhost:8080/",
          "height": 36
        },
        "id": "W-YZggNqy_a5",
        "outputId": "767e93a9-792e-4d9a-e865-d03ca84cf67c"
      },
      "execution_count": null,
      "outputs": [
        {
          "output_type": "execute_result",
          "data": {
            "text/plain": [
              "'https://github.com/ramrajv/AI_Fin/blob/main/TA_Lib-0.4.24-pp38-pypy38_pp73-win_amd64.whl'"
            ],
            "application/vnd.google.colaboratory.intrinsic+json": {
              "type": "string"
            }
          },
          "metadata": {},
          "execution_count": 24
        }
      ]
    },
    {
      "cell_type": "code",
      "source": [],
      "metadata": {
        "id": "8x0cUV17zG51"
      },
      "execution_count": null,
      "outputs": []
    }
  ]
}