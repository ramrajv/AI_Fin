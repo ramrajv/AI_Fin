{
  "nbformat": 4,
  "nbformat_minor": 0,
  "metadata": {
    "colab": {
      "name": "StockPrice_LSTM.ipynb",
      "provenance": [],
      "authorship_tag": "ABX9TyMzAT5qdt8TMNJFlStku20T",
      "include_colab_link": true
    },
    "kernelspec": {
      "name": "python3",
      "display_name": "Python 3"
    },
    "language_info": {
      "name": "python"
    }
  },
  "cells": [
    {
      "cell_type": "markdown",
      "metadata": {
        "id": "view-in-github",
        "colab_type": "text"
      },
      "source": [
        "<a href=\"https://colab.research.google.com/github/ramrajv/AI_Fin/blob/main/StockPrice_LSTM.ipynb\" target=\"_parent\"><img src=\"https://colab.research.google.com/assets/colab-badge.svg\" alt=\"Open In Colab\"/></a>"
      ]
    },
    {
      "cell_type": "code",
      "execution_count": 1,
      "metadata": {
        "id": "dD2pc4mYFDPR"
      },
      "outputs": [],
      "source": [
        "import os\n",
        "import numpy as np\n",
        "import pandas as pd\n",
        "import matplotlib.pyplot as plt\n",
        "%matplotlib inline"
      ]
    },
    {
      "cell_type": "code",
      "source": [
        "!pip install yfinance"
      ],
      "metadata": {
        "colab": {
          "base_uri": "https://localhost:8080/"
        },
        "id": "7iMoCubBFRtB",
        "outputId": "24f72998-519c-477b-88f5-bf20cc3f8ec7"
      },
      "execution_count": 2,
      "outputs": [
        {
          "output_type": "stream",
          "name": "stdout",
          "text": [
            "Looking in indexes: https://pypi.org/simple, https://us-python.pkg.dev/colab-wheels/public/simple/\n",
            "Collecting yfinance\n",
            "  Downloading yfinance-0.1.74-py2.py3-none-any.whl (27 kB)\n",
            "Requirement already satisfied: numpy>=1.15 in /usr/local/lib/python3.7/dist-packages (from yfinance) (1.21.6)\n",
            "Requirement already satisfied: multitasking>=0.0.7 in /usr/local/lib/python3.7/dist-packages (from yfinance) (0.0.11)\n",
            "Collecting requests>=2.26\n",
            "  Downloading requests-2.28.1-py3-none-any.whl (62 kB)\n",
            "\u001b[K     |████████████████████████████████| 62 kB 1.3 MB/s \n",
            "\u001b[?25hRequirement already satisfied: pandas>=0.24.0 in /usr/local/lib/python3.7/dist-packages (from yfinance) (1.3.5)\n",
            "Collecting lxml>=4.5.1\n",
            "  Downloading lxml-4.9.1-cp37-cp37m-manylinux_2_17_x86_64.manylinux2014_x86_64.manylinux_2_24_x86_64.whl (6.4 MB)\n",
            "\u001b[K     |████████████████████████████████| 6.4 MB 25.6 MB/s \n",
            "\u001b[?25hRequirement already satisfied: python-dateutil>=2.7.3 in /usr/local/lib/python3.7/dist-packages (from pandas>=0.24.0->yfinance) (2.8.2)\n",
            "Requirement already satisfied: pytz>=2017.3 in /usr/local/lib/python3.7/dist-packages (from pandas>=0.24.0->yfinance) (2022.1)\n",
            "Requirement already satisfied: six>=1.5 in /usr/local/lib/python3.7/dist-packages (from python-dateutil>=2.7.3->pandas>=0.24.0->yfinance) (1.15.0)\n",
            "Requirement already satisfied: certifi>=2017.4.17 in /usr/local/lib/python3.7/dist-packages (from requests>=2.26->yfinance) (2022.6.15)\n",
            "Requirement already satisfied: idna<4,>=2.5 in /usr/local/lib/python3.7/dist-packages (from requests>=2.26->yfinance) (2.10)\n",
            "Requirement already satisfied: urllib3<1.27,>=1.21.1 in /usr/local/lib/python3.7/dist-packages (from requests>=2.26->yfinance) (1.24.3)\n",
            "Requirement already satisfied: charset-normalizer<3,>=2 in /usr/local/lib/python3.7/dist-packages (from requests>=2.26->yfinance) (2.1.0)\n",
            "Installing collected packages: requests, lxml, yfinance\n",
            "  Attempting uninstall: requests\n",
            "    Found existing installation: requests 2.23.0\n",
            "    Uninstalling requests-2.23.0:\n",
            "      Successfully uninstalled requests-2.23.0\n",
            "  Attempting uninstall: lxml\n",
            "    Found existing installation: lxml 4.2.6\n",
            "    Uninstalling lxml-4.2.6:\n",
            "      Successfully uninstalled lxml-4.2.6\n",
            "\u001b[31mERROR: pip's dependency resolver does not currently take into account all the packages that are installed. This behaviour is the source of the following dependency conflicts.\n",
            "google-colab 1.0.0 requires requests~=2.23.0, but you have requests 2.28.1 which is incompatible.\n",
            "datascience 0.10.6 requires folium==0.2.1, but you have folium 0.8.3 which is incompatible.\u001b[0m\n",
            "Successfully installed lxml-4.9.1 requests-2.28.1 yfinance-0.1.74\n"
          ]
        }
      ]
    },
    {
      "cell_type": "code",
      "source": [
        "import yfinance as yf"
      ],
      "metadata": {
        "id": "Kxe8wd3CFXDn"
      },
      "execution_count": 3,
      "outputs": []
    },
    {
      "cell_type": "code",
      "source": [
        "ticker = '^NSEI'\n",
        "nse = yf.Ticker(ticker)"
      ],
      "metadata": {
        "id": "PHvMSIE1Fe-b"
      },
      "execution_count": 8,
      "outputs": []
    },
    {
      "cell_type": "code",
      "source": [
        "df = nse.history(period = 'max')"
      ],
      "metadata": {
        "id": "_VIrqR0MFzI8"
      },
      "execution_count": 10,
      "outputs": []
    },
    {
      "cell_type": "code",
      "source": [
        "df.head()"
      ],
      "metadata": {
        "colab": {
          "base_uri": "https://localhost:8080/",
          "height": 238
        },
        "id": "M0c8hUiYGFLF",
        "outputId": "3a36b43c-41dd-417a-a854-14995e91c29a"
      },
      "execution_count": 11,
      "outputs": [
        {
          "output_type": "execute_result",
          "data": {
            "text/plain": [
              "                   Open         High          Low        Close  Volume  \\\n",
              "Date                                                                     \n",
              "2007-09-17  4518.450195  4549.049805  4482.850098  4494.649902       0   \n",
              "2007-09-18  4494.100098  4551.799805  4481.549805  4546.200195       0   \n",
              "2007-09-19  4550.250000  4739.000000  4550.250000  4732.350098       0   \n",
              "2007-09-20  4734.850098  4760.850098  4721.149902  4747.549805       0   \n",
              "2007-09-21  4752.950195  4855.700195  4733.700195  4837.549805       0   \n",
              "\n",
              "            Dividends  Stock Splits  \n",
              "Date                                 \n",
              "2007-09-17          0             0  \n",
              "2007-09-18          0             0  \n",
              "2007-09-19          0             0  \n",
              "2007-09-20          0             0  \n",
              "2007-09-21          0             0  "
            ],
            "text/html": [
              "\n",
              "  <div id=\"df-4f9a0539-896b-4c1c-85fb-f78c4d7265a9\">\n",
              "    <div class=\"colab-df-container\">\n",
              "      <div>\n",
              "<style scoped>\n",
              "    .dataframe tbody tr th:only-of-type {\n",
              "        vertical-align: middle;\n",
              "    }\n",
              "\n",
              "    .dataframe tbody tr th {\n",
              "        vertical-align: top;\n",
              "    }\n",
              "\n",
              "    .dataframe thead th {\n",
              "        text-align: right;\n",
              "    }\n",
              "</style>\n",
              "<table border=\"1\" class=\"dataframe\">\n",
              "  <thead>\n",
              "    <tr style=\"text-align: right;\">\n",
              "      <th></th>\n",
              "      <th>Open</th>\n",
              "      <th>High</th>\n",
              "      <th>Low</th>\n",
              "      <th>Close</th>\n",
              "      <th>Volume</th>\n",
              "      <th>Dividends</th>\n",
              "      <th>Stock Splits</th>\n",
              "    </tr>\n",
              "    <tr>\n",
              "      <th>Date</th>\n",
              "      <th></th>\n",
              "      <th></th>\n",
              "      <th></th>\n",
              "      <th></th>\n",
              "      <th></th>\n",
              "      <th></th>\n",
              "      <th></th>\n",
              "    </tr>\n",
              "  </thead>\n",
              "  <tbody>\n",
              "    <tr>\n",
              "      <th>2007-09-17</th>\n",
              "      <td>4518.450195</td>\n",
              "      <td>4549.049805</td>\n",
              "      <td>4482.850098</td>\n",
              "      <td>4494.649902</td>\n",
              "      <td>0</td>\n",
              "      <td>0</td>\n",
              "      <td>0</td>\n",
              "    </tr>\n",
              "    <tr>\n",
              "      <th>2007-09-18</th>\n",
              "      <td>4494.100098</td>\n",
              "      <td>4551.799805</td>\n",
              "      <td>4481.549805</td>\n",
              "      <td>4546.200195</td>\n",
              "      <td>0</td>\n",
              "      <td>0</td>\n",
              "      <td>0</td>\n",
              "    </tr>\n",
              "    <tr>\n",
              "      <th>2007-09-19</th>\n",
              "      <td>4550.250000</td>\n",
              "      <td>4739.000000</td>\n",
              "      <td>4550.250000</td>\n",
              "      <td>4732.350098</td>\n",
              "      <td>0</td>\n",
              "      <td>0</td>\n",
              "      <td>0</td>\n",
              "    </tr>\n",
              "    <tr>\n",
              "      <th>2007-09-20</th>\n",
              "      <td>4734.850098</td>\n",
              "      <td>4760.850098</td>\n",
              "      <td>4721.149902</td>\n",
              "      <td>4747.549805</td>\n",
              "      <td>0</td>\n",
              "      <td>0</td>\n",
              "      <td>0</td>\n",
              "    </tr>\n",
              "    <tr>\n",
              "      <th>2007-09-21</th>\n",
              "      <td>4752.950195</td>\n",
              "      <td>4855.700195</td>\n",
              "      <td>4733.700195</td>\n",
              "      <td>4837.549805</td>\n",
              "      <td>0</td>\n",
              "      <td>0</td>\n",
              "      <td>0</td>\n",
              "    </tr>\n",
              "  </tbody>\n",
              "</table>\n",
              "</div>\n",
              "      <button class=\"colab-df-convert\" onclick=\"convertToInteractive('df-4f9a0539-896b-4c1c-85fb-f78c4d7265a9')\"\n",
              "              title=\"Convert this dataframe to an interactive table.\"\n",
              "              style=\"display:none;\">\n",
              "        \n",
              "  <svg xmlns=\"http://www.w3.org/2000/svg\" height=\"24px\"viewBox=\"0 0 24 24\"\n",
              "       width=\"24px\">\n",
              "    <path d=\"M0 0h24v24H0V0z\" fill=\"none\"/>\n",
              "    <path d=\"M18.56 5.44l.94 2.06.94-2.06 2.06-.94-2.06-.94-.94-2.06-.94 2.06-2.06.94zm-11 1L8.5 8.5l.94-2.06 2.06-.94-2.06-.94L8.5 2.5l-.94 2.06-2.06.94zm10 10l.94 2.06.94-2.06 2.06-.94-2.06-.94-.94-2.06-.94 2.06-2.06.94z\"/><path d=\"M17.41 7.96l-1.37-1.37c-.4-.4-.92-.59-1.43-.59-.52 0-1.04.2-1.43.59L10.3 9.45l-7.72 7.72c-.78.78-.78 2.05 0 2.83L4 21.41c.39.39.9.59 1.41.59.51 0 1.02-.2 1.41-.59l7.78-7.78 2.81-2.81c.8-.78.8-2.07 0-2.86zM5.41 20L4 18.59l7.72-7.72 1.47 1.35L5.41 20z\"/>\n",
              "  </svg>\n",
              "      </button>\n",
              "      \n",
              "  <style>\n",
              "    .colab-df-container {\n",
              "      display:flex;\n",
              "      flex-wrap:wrap;\n",
              "      gap: 12px;\n",
              "    }\n",
              "\n",
              "    .colab-df-convert {\n",
              "      background-color: #E8F0FE;\n",
              "      border: none;\n",
              "      border-radius: 50%;\n",
              "      cursor: pointer;\n",
              "      display: none;\n",
              "      fill: #1967D2;\n",
              "      height: 32px;\n",
              "      padding: 0 0 0 0;\n",
              "      width: 32px;\n",
              "    }\n",
              "\n",
              "    .colab-df-convert:hover {\n",
              "      background-color: #E2EBFA;\n",
              "      box-shadow: 0px 1px 2px rgba(60, 64, 67, 0.3), 0px 1px 3px 1px rgba(60, 64, 67, 0.15);\n",
              "      fill: #174EA6;\n",
              "    }\n",
              "\n",
              "    [theme=dark] .colab-df-convert {\n",
              "      background-color: #3B4455;\n",
              "      fill: #D2E3FC;\n",
              "    }\n",
              "\n",
              "    [theme=dark] .colab-df-convert:hover {\n",
              "      background-color: #434B5C;\n",
              "      box-shadow: 0px 1px 3px 1px rgba(0, 0, 0, 0.15);\n",
              "      filter: drop-shadow(0px 1px 2px rgba(0, 0, 0, 0.3));\n",
              "      fill: #FFFFFF;\n",
              "    }\n",
              "  </style>\n",
              "\n",
              "      <script>\n",
              "        const buttonEl =\n",
              "          document.querySelector('#df-4f9a0539-896b-4c1c-85fb-f78c4d7265a9 button.colab-df-convert');\n",
              "        buttonEl.style.display =\n",
              "          google.colab.kernel.accessAllowed ? 'block' : 'none';\n",
              "\n",
              "        async function convertToInteractive(key) {\n",
              "          const element = document.querySelector('#df-4f9a0539-896b-4c1c-85fb-f78c4d7265a9');\n",
              "          const dataTable =\n",
              "            await google.colab.kernel.invokeFunction('convertToInteractive',\n",
              "                                                     [key], {});\n",
              "          if (!dataTable) return;\n",
              "\n",
              "          const docLinkHtml = 'Like what you see? Visit the ' +\n",
              "            '<a target=\"_blank\" href=https://colab.research.google.com/notebooks/data_table.ipynb>data table notebook</a>'\n",
              "            + ' to learn more about interactive tables.';\n",
              "          element.innerHTML = '';\n",
              "          dataTable['output_type'] = 'display_data';\n",
              "          await google.colab.output.renderOutput(dataTable, element);\n",
              "          const docLink = document.createElement('div');\n",
              "          docLink.innerHTML = docLinkHtml;\n",
              "          element.appendChild(docLink);\n",
              "        }\n",
              "      </script>\n",
              "    </div>\n",
              "  </div>\n",
              "  "
            ]
          },
          "metadata": {},
          "execution_count": 11
        }
      ]
    },
    {
      "cell_type": "code",
      "source": [
        "df.reset_index(inplace = True)"
      ],
      "metadata": {
        "id": "s055W-waGL-w"
      },
      "execution_count": 12,
      "outputs": []
    },
    {
      "cell_type": "code",
      "source": [
        "trg = df.iloc[:int(len(df)*0.7),1:2].values\n",
        "test = df.iloc[int(len(df)*0.7):,1:2].values"
      ],
      "metadata": {
        "id": "1wlKyhMuGS8i"
      },
      "execution_count": 27,
      "outputs": []
    },
    {
      "cell_type": "code",
      "source": [
        "test"
      ],
      "metadata": {
        "colab": {
          "base_uri": "https://localhost:8080/"
        },
        "id": "SgRZQSauPJPd",
        "outputId": "6bce84d7-80b5-4f82-e64e-7bb6500acb3f"
      },
      "execution_count": 42,
      "outputs": [
        {
          "output_type": "execute_result",
          "data": {
            "text/plain": [
              "array([[10585.75      ],\n",
              "       [10537.90039062],\n",
              "       [10596.20019531],\n",
              "       ...,\n",
              "       [16010.79980469],\n",
              "       [16151.40039062],\n",
              "       [16187.04980469]])"
            ]
          },
          "metadata": {},
          "execution_count": 42
        }
      ]
    },
    {
      "cell_type": "code",
      "source": [
        "from sklearn.preprocessing import MinMaxScaler\n",
        "\n",
        "scaler = MinMaxScaler(feature_range = (0,1))\n",
        "scaled_trg = scaler.fit_transform(trg)"
      ],
      "metadata": {
        "id": "60uKgSDoGgFA"
      },
      "execution_count": 28,
      "outputs": []
    },
    {
      "cell_type": "code",
      "source": [
        "len(scaled_trg)"
      ],
      "metadata": {
        "colab": {
          "base_uri": "https://localhost:8080/"
        },
        "id": "KeZUXujTH3jj",
        "outputId": "245efff6-9e1c-4ec8-a471-a29a3ba1d7d4"
      },
      "execution_count": 29,
      "outputs": [
        {
          "output_type": "execute_result",
          "data": {
            "text/plain": [
              "2544"
            ]
          },
          "metadata": {},
          "execution_count": 29
        }
      ]
    },
    {
      "cell_type": "code",
      "source": [
        "X_train = []\n",
        "y_train = []\n",
        "for i in range(60,len(scaled_trg)):\n",
        "    X_train.append(scaled_trg[i-60:i,0])\n",
        "    y_train.append(scaled_trg[i,0])\n",
        "\n",
        "X_train = np.array(X_train)\n",
        "y_train = np.array(y_train)"
      ],
      "metadata": {
        "id": "ro1R6tD-HUS3"
      },
      "execution_count": 30,
      "outputs": []
    },
    {
      "cell_type": "code",
      "source": [
        "X_train = np.reshape(X_train,(X_train.shape[0],X_train.shape[1],1))\n",
        "X_train.shape"
      ],
      "metadata": {
        "colab": {
          "base_uri": "https://localhost:8080/"
        },
        "id": "aTdI4MfjGspO",
        "outputId": "0f765899-6641-455d-ad9f-4e1b5a9b2244"
      },
      "execution_count": 31,
      "outputs": [
        {
          "output_type": "execute_result",
          "data": {
            "text/plain": [
              "(2484, 60, 1)"
            ]
          },
          "metadata": {},
          "execution_count": 31
        }
      ]
    },
    {
      "cell_type": "code",
      "source": [
        "from tensorflow.keras.models import Sequential"
      ],
      "metadata": {
        "id": "6g2Gxe8YHBFW"
      },
      "execution_count": 32,
      "outputs": []
    },
    {
      "cell_type": "code",
      "source": [
        "from tensorflow.keras.layers import LSTM, Dense, Dropout"
      ],
      "metadata": {
        "id": "Mzp_3GnwIc_I"
      },
      "execution_count": 33,
      "outputs": []
    },
    {
      "cell_type": "code",
      "source": [
        "regressor = Sequential()\n",
        "\n",
        "regressor.add(LSTM(units = 50, return_sequences = True, input_shape = (X_train.shape[1],1)))\n",
        "regressor.add(Dropout(0.2))\n",
        "\n",
        "regressor.add(LSTM(units = 50, return_sequences = True))\n",
        "regressor.add(Dropout(0.2))\n",
        "\n",
        "regressor.add(LSTM(units = 50, return_sequences= True))\n",
        "regressor.add(Dropout(0.2))\n",
        "\n",
        "regressor.add(LSTM(units = 50))\n",
        "regressor.add(Dropout(0.2))\n",
        "\n",
        "regressor.add(Dense(units = 128))"
      ],
      "metadata": {
        "id": "tD918GgGIjuz"
      },
      "execution_count": 34,
      "outputs": []
    },
    {
      "cell_type": "code",
      "source": [
        "regressor.compile(optimizer = 'adam', loss = 'mean_squared_error')\n",
        "regressor.fit(X_train, y_train, epochs = 100, batch_size = 32)"
      ],
      "metadata": {
        "colab": {
          "base_uri": "https://localhost:8080/"
        },
        "id": "qys_pipoJRQ7",
        "outputId": "5d49eb4e-5fe4-4c7b-ce98-e824890cded3"
      },
      "execution_count": 35,
      "outputs": [
        {
          "output_type": "stream",
          "name": "stdout",
          "text": [
            "Epoch 1/100\n",
            "78/78 [==============================] - 16s 121ms/step - loss: 0.0599\n",
            "Epoch 2/100\n",
            "78/78 [==============================] - 9s 119ms/step - loss: 0.0088\n",
            "Epoch 3/100\n",
            "78/78 [==============================] - 9s 119ms/step - loss: 0.0062\n",
            "Epoch 4/100\n",
            "78/78 [==============================] - 9s 119ms/step - loss: 0.0053\n",
            "Epoch 5/100\n",
            "78/78 [==============================] - 9s 120ms/step - loss: 0.0045\n",
            "Epoch 6/100\n",
            "78/78 [==============================] - 9s 120ms/step - loss: 0.0041\n",
            "Epoch 7/100\n",
            "78/78 [==============================] - 9s 121ms/step - loss: 0.0036\n",
            "Epoch 8/100\n",
            "78/78 [==============================] - 10s 127ms/step - loss: 0.0034\n",
            "Epoch 9/100\n",
            "78/78 [==============================] - 9s 122ms/step - loss: 0.0032\n",
            "Epoch 10/100\n",
            "78/78 [==============================] - 9s 121ms/step - loss: 0.0029\n",
            "Epoch 11/100\n",
            "78/78 [==============================] - 9s 120ms/step - loss: 0.0025\n",
            "Epoch 12/100\n",
            "78/78 [==============================] - 9s 119ms/step - loss: 0.0024\n",
            "Epoch 13/100\n",
            "78/78 [==============================] - 12s 154ms/step - loss: 0.0023\n",
            "Epoch 14/100\n",
            "78/78 [==============================] - 17s 221ms/step - loss: 0.0022\n",
            "Epoch 15/100\n",
            "78/78 [==============================] - 14s 173ms/step - loss: 0.0021\n",
            "Epoch 16/100\n",
            "78/78 [==============================] - 16s 213ms/step - loss: 0.0022\n",
            "Epoch 17/100\n",
            "78/78 [==============================] - 14s 184ms/step - loss: 0.0021\n",
            "Epoch 18/100\n",
            "78/78 [==============================] - 13s 171ms/step - loss: 0.0018\n",
            "Epoch 19/100\n",
            "78/78 [==============================] - 12s 147ms/step - loss: 0.0019\n",
            "Epoch 20/100\n",
            "78/78 [==============================] - 9s 120ms/step - loss: 0.0017\n",
            "Epoch 21/100\n",
            "78/78 [==============================] - 9s 118ms/step - loss: 0.0016\n",
            "Epoch 22/100\n",
            "78/78 [==============================] - 10s 123ms/step - loss: 0.0015\n",
            "Epoch 23/100\n",
            "78/78 [==============================] - 14s 174ms/step - loss: 0.0017\n",
            "Epoch 24/100\n",
            "78/78 [==============================] - 17s 213ms/step - loss: 0.0015\n",
            "Epoch 25/100\n",
            "78/78 [==============================] - 16s 203ms/step - loss: 0.0014\n",
            "Epoch 26/100\n",
            "78/78 [==============================] - 15s 192ms/step - loss: 0.0014\n",
            "Epoch 27/100\n",
            "78/78 [==============================] - 15s 191ms/step - loss: 0.0014\n",
            "Epoch 28/100\n",
            "78/78 [==============================] - 14s 179ms/step - loss: 0.0013\n",
            "Epoch 29/100\n",
            "78/78 [==============================] - 15s 187ms/step - loss: 0.0012\n",
            "Epoch 30/100\n",
            "78/78 [==============================] - 17s 224ms/step - loss: 0.0012\n",
            "Epoch 31/100\n",
            "78/78 [==============================] - 17s 214ms/step - loss: 0.0013\n",
            "Epoch 32/100\n",
            "78/78 [==============================] - 16s 204ms/step - loss: 0.0011\n",
            "Epoch 33/100\n",
            "78/78 [==============================] - 16s 200ms/step - loss: 0.0012\n",
            "Epoch 34/100\n",
            "78/78 [==============================] - 15s 195ms/step - loss: 0.0011\n",
            "Epoch 35/100\n",
            "78/78 [==============================] - 16s 211ms/step - loss: 0.0011\n",
            "Epoch 36/100\n",
            "78/78 [==============================] - 9s 120ms/step - loss: 0.0011\n",
            "Epoch 37/100\n",
            "78/78 [==============================] - 10s 127ms/step - loss: 0.0011\n",
            "Epoch 38/100\n",
            "78/78 [==============================] - 10s 120ms/step - loss: 0.0010\n",
            "Epoch 39/100\n",
            "78/78 [==============================] - 9s 120ms/step - loss: 0.0011\n",
            "Epoch 40/100\n",
            "78/78 [==============================] - 9s 120ms/step - loss: 8.7166e-04\n",
            "Epoch 41/100\n",
            "78/78 [==============================] - 9s 120ms/step - loss: 0.0010\n",
            "Epoch 42/100\n",
            "78/78 [==============================] - 9s 121ms/step - loss: 8.5324e-04\n",
            "Epoch 43/100\n",
            "78/78 [==============================] - 9s 120ms/step - loss: 9.1543e-04\n",
            "Epoch 44/100\n",
            "78/78 [==============================] - 9s 121ms/step - loss: 8.8383e-04\n",
            "Epoch 45/100\n",
            "78/78 [==============================] - 10s 132ms/step - loss: 9.2485e-04\n",
            "Epoch 46/100\n",
            "78/78 [==============================] - 9s 120ms/step - loss: 8.4313e-04\n",
            "Epoch 47/100\n",
            "78/78 [==============================] - 9s 120ms/step - loss: 8.8531e-04\n",
            "Epoch 48/100\n",
            "78/78 [==============================] - 9s 120ms/step - loss: 8.1381e-04\n",
            "Epoch 49/100\n",
            "78/78 [==============================] - 11s 137ms/step - loss: 7.9758e-04\n",
            "Epoch 50/100\n",
            "78/78 [==============================] - 9s 119ms/step - loss: 9.1663e-04\n",
            "Epoch 51/100\n",
            "78/78 [==============================] - 9s 120ms/step - loss: 8.9610e-04\n",
            "Epoch 52/100\n",
            "78/78 [==============================] - 9s 120ms/step - loss: 7.8261e-04\n",
            "Epoch 53/100\n",
            "78/78 [==============================] - 9s 120ms/step - loss: 7.2284e-04\n",
            "Epoch 54/100\n",
            "78/78 [==============================] - 9s 121ms/step - loss: 7.4755e-04\n",
            "Epoch 55/100\n",
            "78/78 [==============================] - 9s 119ms/step - loss: 9.2217e-04\n",
            "Epoch 56/100\n",
            "78/78 [==============================] - 9s 120ms/step - loss: 7.4159e-04\n",
            "Epoch 57/100\n",
            "78/78 [==============================] - 9s 121ms/step - loss: 7.6249e-04\n",
            "Epoch 58/100\n",
            "78/78 [==============================] - 9s 120ms/step - loss: 6.9869e-04\n",
            "Epoch 59/100\n",
            "78/78 [==============================] - 9s 120ms/step - loss: 7.5511e-04\n",
            "Epoch 60/100\n",
            "78/78 [==============================] - 9s 120ms/step - loss: 6.8603e-04\n",
            "Epoch 61/100\n",
            "78/78 [==============================] - 9s 121ms/step - loss: 6.6026e-04\n",
            "Epoch 62/100\n",
            "78/78 [==============================] - 9s 120ms/step - loss: 6.8200e-04\n",
            "Epoch 63/100\n",
            "78/78 [==============================] - 9s 120ms/step - loss: 6.7502e-04\n",
            "Epoch 64/100\n",
            "78/78 [==============================] - 9s 121ms/step - loss: 6.7680e-04\n",
            "Epoch 65/100\n",
            "78/78 [==============================] - 9s 121ms/step - loss: 7.0657e-04\n",
            "Epoch 66/100\n",
            "78/78 [==============================] - 9s 121ms/step - loss: 7.8194e-04\n",
            "Epoch 67/100\n",
            "78/78 [==============================] - 9s 120ms/step - loss: 7.3283e-04\n",
            "Epoch 68/100\n",
            "78/78 [==============================] - 9s 120ms/step - loss: 6.6462e-04\n",
            "Epoch 69/100\n",
            "78/78 [==============================] - 9s 119ms/step - loss: 6.8755e-04\n",
            "Epoch 70/100\n",
            "78/78 [==============================] - 9s 120ms/step - loss: 6.5339e-04\n",
            "Epoch 71/100\n",
            "78/78 [==============================] - 9s 120ms/step - loss: 6.0239e-04\n",
            "Epoch 72/100\n",
            "78/78 [==============================] - 9s 120ms/step - loss: 6.3767e-04\n",
            "Epoch 73/100\n",
            "78/78 [==============================] - 9s 121ms/step - loss: 6.4587e-04\n",
            "Epoch 74/100\n",
            "78/78 [==============================] - 9s 121ms/step - loss: 6.5772e-04\n",
            "Epoch 75/100\n",
            "78/78 [==============================] - 9s 121ms/step - loss: 6.0340e-04\n",
            "Epoch 76/100\n",
            "78/78 [==============================] - 9s 120ms/step - loss: 5.8103e-04\n",
            "Epoch 77/100\n",
            "78/78 [==============================] - 9s 120ms/step - loss: 6.2237e-04\n",
            "Epoch 78/100\n",
            "78/78 [==============================] - 9s 119ms/step - loss: 5.9403e-04\n",
            "Epoch 79/100\n",
            "78/78 [==============================] - 9s 119ms/step - loss: 5.5596e-04\n",
            "Epoch 80/100\n",
            "78/78 [==============================] - 9s 118ms/step - loss: 7.1915e-04\n",
            "Epoch 81/100\n",
            "78/78 [==============================] - 9s 119ms/step - loss: 6.2418e-04\n",
            "Epoch 82/100\n",
            "78/78 [==============================] - 9s 120ms/step - loss: 6.2823e-04\n",
            "Epoch 83/100\n",
            "78/78 [==============================] - 9s 121ms/step - loss: 6.1916e-04\n",
            "Epoch 84/100\n",
            "78/78 [==============================] - 9s 120ms/step - loss: 6.7210e-04\n",
            "Epoch 85/100\n",
            "78/78 [==============================] - 9s 119ms/step - loss: 6.2254e-04\n",
            "Epoch 86/100\n",
            "78/78 [==============================] - 9s 121ms/step - loss: 6.2230e-04\n",
            "Epoch 87/100\n",
            "78/78 [==============================] - 9s 120ms/step - loss: 5.5693e-04\n",
            "Epoch 88/100\n",
            "78/78 [==============================] - 9s 120ms/step - loss: 5.5757e-04\n",
            "Epoch 89/100\n",
            "78/78 [==============================] - 9s 120ms/step - loss: 6.3869e-04\n",
            "Epoch 90/100\n",
            "78/78 [==============================] - 9s 120ms/step - loss: 6.1540e-04\n",
            "Epoch 91/100\n",
            "78/78 [==============================] - 9s 120ms/step - loss: 5.5136e-04\n",
            "Epoch 92/100\n",
            "78/78 [==============================] - 9s 121ms/step - loss: 5.4888e-04\n",
            "Epoch 93/100\n",
            "78/78 [==============================] - 9s 120ms/step - loss: 5.5281e-04\n",
            "Epoch 94/100\n",
            "78/78 [==============================] - 9s 120ms/step - loss: 5.3413e-04\n",
            "Epoch 95/100\n",
            "78/78 [==============================] - 9s 121ms/step - loss: 5.3498e-04\n",
            "Epoch 96/100\n",
            "78/78 [==============================] - 9s 121ms/step - loss: 5.7815e-04\n",
            "Epoch 97/100\n",
            "78/78 [==============================] - 9s 121ms/step - loss: 5.5317e-04\n",
            "Epoch 98/100\n",
            "78/78 [==============================] - 9s 121ms/step - loss: 5.3274e-04\n",
            "Epoch 99/100\n",
            "78/78 [==============================] - 9s 120ms/step - loss: 6.1825e-04\n",
            "Epoch 100/100\n",
            "78/78 [==============================] - 9s 121ms/step - loss: 6.2875e-04\n"
          ]
        },
        {
          "output_type": "execute_result",
          "data": {
            "text/plain": [
              "<keras.callbacks.History at 0x7f09e2046510>"
            ]
          },
          "metadata": {},
          "execution_count": 35
        }
      ]
    },
    {
      "cell_type": "code",
      "source": [
        "inputs = test"
      ],
      "metadata": {
        "id": "MH6YdQnxJiJ_"
      },
      "execution_count": 48,
      "outputs": []
    },
    {
      "cell_type": "code",
      "source": [
        "inputs = inputs.reshape(-1,1)\n",
        "inputs = scaler.transform(inputs)\n",
        "\n",
        "X_test = []\n",
        "for i in range(60,len(test)):\n",
        "    X_test.append(inputs[i-60:i,0])\n",
        "X_test = np.array(X_test)\n",
        "X_test = np.reshape(X_test,(X_test.shape[0], X_test.shape[1],1))"
      ],
      "metadata": {
        "id": "glm9_XnwKonu"
      },
      "execution_count": 49,
      "outputs": []
    },
    {
      "cell_type": "code",
      "source": [
        "pred = regressor.predict(X_test)\n",
        "pred = scaler.inverse_transform(pred)"
      ],
      "metadata": {
        "id": "nxuE0tzOLSAD"
      },
      "execution_count": 50,
      "outputs": []
    },
    {
      "cell_type": "code",
      "source": [
        "pred"
      ],
      "metadata": {
        "colab": {
          "base_uri": "https://localhost:8080/"
        },
        "id": "LTiilHASQj8U",
        "outputId": "72e35a4c-ccf7-4691-9cbc-3801f2ce0eb3"
      },
      "execution_count": 51,
      "outputs": [
        {
          "output_type": "execute_result",
          "data": {
            "text/plain": [
              "array([[10726.816 , 10739.748 , 10734.345 , ..., 10732.888 , 10724.078 ,\n",
              "        10737.206 ],\n",
              "       [10747.514 , 10760.497 , 10755.077 , ..., 10753.636 , 10744.789 ,\n",
              "        10758.002 ],\n",
              "       [10741.3955, 10754.225 , 10749.036 , ..., 10747.534 , 10738.605 ,\n",
              "        10751.877 ],\n",
              "       ...,\n",
              "       [14507.582 , 14528.613 , 14530.526 , ..., 14532.024 , 14510.444 ,\n",
              "        14548.939 ],\n",
              "       [14497.263 , 14518.341 , 14520.324 , ..., 14521.768 , 14500.193 ,\n",
              "        14538.564 ],\n",
              "       [14499.68  , 14521.082 , 14522.751 , ..., 14524.232 , 14502.71  ,\n",
              "        14541.062 ]], dtype=float32)"
            ]
          },
          "metadata": {},
          "execution_count": 51
        }
      ]
    },
    {
      "cell_type": "code",
      "source": [
        "plt.plot(test,color = 'red', label = 'Actual Stock Price')\n",
        "plt.plot(pred, color = 'blue', label = 'Predicted Stock Price')\n",
        "plt.title('Stock Price Prediction')\n",
        "# plt.legend()"
      ],
      "metadata": {
        "colab": {
          "base_uri": "https://localhost:8080/",
          "height": 298
        },
        "id": "5iME9UFVLZHK",
        "outputId": "69223d73-5224-49ad-c4fb-2c3d474b92da"
      },
      "execution_count": 52,
      "outputs": [
        {
          "output_type": "execute_result",
          "data": {
            "text/plain": [
              "Text(0.5, 1.0, 'Stock Price Prediction')"
            ]
          },
          "metadata": {},
          "execution_count": 52
        },
        {
          "output_type": "display_data",
          "data": {
            "text/plain": [
              "<Figure size 432x288 with 1 Axes>"
            ],
            "image/png": "[encoded data removed]"
          },
          "metadata": {
            "needs_background": "light"
          }
        }
      ]
    },
    {
      "cell_type": "code",
      "source": [
        ""
      ],
      "metadata": {
        "id": "YDJCQLaVLvGy"
      },
      "execution_count": null,
      "outputs": []
    }
  ]
}